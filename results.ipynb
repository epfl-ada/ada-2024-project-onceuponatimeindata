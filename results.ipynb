{
 "cells": [
  {
   "cell_type": "code",
   "id": "4e29fe47c103a5b2",
   "metadata": {
    "ExecuteTime": {
     "end_time": "2024-12-15T19:13:35.190002Z",
     "start_time": "2024-12-15T19:13:33.870690Z"
    }
   },
   "source": [
    "import pandas as pd\n",
    "import matplotlib.pyplot as plt\n",
    "%load_ext autoreload\n",
    "%autoreload 2\n",
    "from data.dataset_enhancer import get_movies"
   ],
   "outputs": [
    {
     "name": "stdout",
     "output_type": "stream",
     "text": [
      "The autoreload extension is already loaded. To reload it, use:\n",
      "  %reload_ext autoreload\n"
     ]
    }
   ],
   "execution_count": 121
  },
  {
   "metadata": {
    "ExecuteTime": {
     "end_time": "2024-12-15T20:39:05.569462Z",
     "start_time": "2024-12-15T20:39:05.476525Z"
    }
   },
   "cell_type": "code",
   "source": [
    "wiki = pd.read_csv(\"data/collections/sequels_and_original_2010_2024_with_wiki_id.csv\")\n",
    "metadata = pd.read_csv(\"data/collections/sequels_and_original_2010_2024_metadata.csv\")\n",
    "\n",
    "wiki = wiki[[\"id\", \"collection\"]]\n",
    "metadata = pd.merge(metadata, wiki, on=\"id\")\n",
    "metadata.to_csv(\"data/collections/sequels_and_original_2010_2024_with_wiki_id.csv\", index=False)"
   ],
   "id": "3bbd5acfcbdc2345",
   "outputs": [],
   "execution_count": 260
  },
  {
   "cell_type": "markdown",
   "id": "ad314c5edea9378",
   "metadata": {},
   "source": [
    "### 0. Data Enhancement"
   ]
  },
  {
   "cell_type": "markdown",
   "id": "1e8130883ead2eb6",
   "metadata": {},
   "source": [
    "First we ran the notebook data_preprocessing.ipynb to generate the necessary files for this notebook. The data_preprocessing.ipynb notebook loads the movie metadata and additional datasets, preprocesses the data, and saves the cleaned data to CSV files. The data_preprocessing.ipynb notebook also generates the necessary files for this notebook, such as the movie metadata for older and newer movies, and additional datasets for sequels, books, comics, remakes, and collections. There is no need to run it again, as the files are already on github. The data_preprocessing.ipynb notebook is run once to generate the necessary files for this notebook. You also need an API key, that we are not putting on github for security reasons.\n",
    "The function stores the output in the data file."
   ]
  },
  {
   "metadata": {},
   "cell_type": "markdown",
   "source": "",
   "id": "14479fdc56cf478b"
  },
  {
   "cell_type": "code",
   "id": "fb50a6a53316d5a4",
   "metadata": {
    "ExecuteTime": {
     "end_time": "2024-12-15T19:13:35.261888Z",
     "start_time": "2024-12-15T19:13:35.231800Z"
    }
   },
   "source": [
    "\"\"\"keywords_name = [\"sequels\", \"book\", \"comics\", \"remake\"]\n",
    "keywords_id = [9663, 818, 9717, 9714]\n",
    "start_date = \"1880-01-01\"\n",
    "end_date = \"2010-01-01\"\n",
    "\n",
    "get_movies(keywords_name, keywords_id, start_date, end_date)\n",
    "\n",
    "start_date = \"2010-01-01\"\n",
    "end_date = \"2024-01-01\"\n",
    "get_movies(keywords_name, keywords_id, start_date, end_date)\"\"\""
   ],
   "outputs": [
    {
     "data": {
      "text/plain": [
       "'keywords_name = [\"sequels\", \"book\", \"comics\", \"remake\"]\\nkeywords_id = [9663, 818, 9717, 9714]\\nstart_date = \"1880-01-01\"\\nend_date = \"2010-01-01\"\\n\\nget_movies(keywords_name, keywords_id, start_date, end_date)\\n\\nstart_date = \"2010-01-01\"\\nend_date = \"2024-01-01\"\\nget_movies(keywords_name, keywords_id, start_date, end_date)'"
      ]
     },
     "execution_count": 122,
     "metadata": {},
     "output_type": "execute_result"
    }
   ],
   "execution_count": 122
  },
  {
   "cell_type": "markdown",
   "id": "fdb8fdd02ef17bfa",
   "metadata": {},
   "source": [
    "## 1. Files loading and preprocessing"
   ]
  },
  {
   "cell_type": "markdown",
   "id": "4aa774dcfa8739da",
   "metadata": {},
   "source": [
    "The following cell organizes and preprocesses movie datasets from different time periods (1880–2010 and 2010–2024) using the MovieFrames class. It first imports the class, then loads the movie metadata for older and newer movies. File paths for additional datasets (such as sequels, books, comics, remakes, and collections) are dynamically generated for both time periods. The MovieFrames objects (movie_frames_old and movie_frames_new) are then created to structure and preprocess the data. The movie_frames_old object specifically standardizes column names for the older dataset using the old=True flag. These objects help manage movie data by categories and prepare it for further analysis."
   ]
  },
  {
   "cell_type": "markdown",
   "id": "3e15c2bf70190560",
   "metadata": {},
   "source": "### 1.1 Data Collection"
  },
  {
   "cell_type": "code",
   "id": "12458daa1a129323",
   "metadata": {
    "ExecuteTime": {
     "end_time": "2024-12-15T20:39:14.800581Z",
     "start_time": "2024-12-15T20:39:13.945361Z"
    }
   },
   "source": [
    "from src.models.movies_frame import MovieFrames\n",
    "\n",
    "movie_df = pd.read_csv('data/MovieSummaries_filtered/movie_df.csv')\n",
    "        \n",
    "new_movie_df = pd.read_csv('data/all_sample/all_sample_2010_2024_metadata.csv')\n",
    "\n",
    "keywords = [\"sequels\", \"book\", \"comics\", \"remake\"]\n",
    "path_old = []\n",
    "path_new = []\n",
    "\n",
    "for keyword in keywords:        \n",
    "    path_old.append(f\"data/{keyword}/{keyword}_1880_2010_with_wiki_id.csv\")\n",
    "    path_new.append(f\"data/{keyword}/{keyword}_2010_2024_metadata.csv\")\n",
    "\n",
    "path_old.append(\"data/collections/sequels_and_original_1880_2010_with_wiki_id.csv\")\n",
    "path_new.append(\"data/collections/sequels_and_original_2010_2024_metadata.csv\")\n",
    "\n",
    "movie_frames_old = MovieFrames(movie_df, path_old, 1880, 2010)\n",
    "movie_frames_new = MovieFrames(new_movie_df, path_new, 2010, 2024)\n"
   ],
   "outputs": [],
   "execution_count": 261
  },
  {
   "cell_type": "markdown",
   "id": "45486aced1fc0917",
   "metadata": {},
   "source": [
    "### 1.2 Data Preprocessing"
   ]
  },
  {
   "cell_type": "markdown",
   "id": "f5c475137bd576fb",
   "metadata": {},
   "source": [
    "Then the following cell visualizes the size differences between datasets during the preprocessing steps using the display_data_cleaning_graph function. The function takes a MovieFrames object and calculates the number of movies at three stages:\n",
    "\n",
    "- The original data loaded from TMDb.\n",
    "- After matching the TMDb data with the Wikipedia data.\n",
    "- After filtering out movies with mismatched release years.\n",
    "\n",
    "These sizes are passed to the create_graph function, which generates a bar graph showing the changes in dataset sizes for five categories: sequel collections, sequels, books, comics, and remakes. The graph highlights how the preprocessing steps affect the number of movies in each category. "
   ]
  },
  {
   "cell_type": "code",
   "id": "5af7cf567cbf2051",
   "metadata": {
    "ExecuteTime": {
     "end_time": "2024-12-15T22:33:34.269345Z",
     "start_time": "2024-12-15T22:33:34.028871Z"
    }
   },
   "source": [
    "## Size differencesKingdom Hospital\n",
    "from src.models.movie_data_cleaner import display_data_cleaning_graph\n",
    "fig = display_data_cleaning_graph(movie_frames_old)\n",
    "\n",
    "fig"
   ],
   "outputs": [
    {
     "ename": "KeyError",
     "evalue": "'Movie release date'",
     "output_type": "error",
     "traceback": [
      "\u001B[0;31m---------------------------------------------------------------------------\u001B[0m",
      "\u001B[0;31mKeyError\u001B[0m                                  Traceback (most recent call last)",
      "File \u001B[0;32m/usr/local/lib/python3.8/dist-packages/pandas/core/indexes/base.py:3653\u001B[0m, in \u001B[0;36mIndex.get_loc\u001B[0;34m(self, key)\u001B[0m\n\u001B[1;32m   3652\u001B[0m \u001B[38;5;28;01mtry\u001B[39;00m:\n\u001B[0;32m-> 3653\u001B[0m     \u001B[38;5;28;01mreturn\u001B[39;00m \u001B[38;5;28;43mself\u001B[39;49m\u001B[38;5;241;43m.\u001B[39;49m\u001B[43m_engine\u001B[49m\u001B[38;5;241;43m.\u001B[39;49m\u001B[43mget_loc\u001B[49m\u001B[43m(\u001B[49m\u001B[43mcasted_key\u001B[49m\u001B[43m)\u001B[49m\n\u001B[1;32m   3654\u001B[0m \u001B[38;5;28;01mexcept\u001B[39;00m \u001B[38;5;167;01mKeyError\u001B[39;00m \u001B[38;5;28;01mas\u001B[39;00m err:\n",
      "File \u001B[0;32m/usr/local/lib/python3.8/dist-packages/pandas/_libs/index.pyx:147\u001B[0m, in \u001B[0;36mpandas._libs.index.IndexEngine.get_loc\u001B[0;34m()\u001B[0m\n",
      "File \u001B[0;32m/usr/local/lib/python3.8/dist-packages/pandas/_libs/index.pyx:176\u001B[0m, in \u001B[0;36mpandas._libs.index.IndexEngine.get_loc\u001B[0;34m()\u001B[0m\n",
      "File \u001B[0;32mpandas/_libs/hashtable_class_helper.pxi:7080\u001B[0m, in \u001B[0;36mpandas._libs.hashtable.PyObjectHashTable.get_item\u001B[0;34m()\u001B[0m\n",
      "File \u001B[0;32mpandas/_libs/hashtable_class_helper.pxi:7088\u001B[0m, in \u001B[0;36mpandas._libs.hashtable.PyObjectHashTable.get_item\u001B[0;34m()\u001B[0m\n",
      "\u001B[0;31mKeyError\u001B[0m: 'Movie release date'",
      "\nThe above exception was the direct cause of the following exception:\n",
      "\u001B[0;31mKeyError\u001B[0m                                  Traceback (most recent call last)",
      "Cell \u001B[0;32mIn[321], line 3\u001B[0m\n\u001B[1;32m      1\u001B[0m \u001B[38;5;66;03m## Size differencesKingdom Hospital\u001B[39;00m\n\u001B[1;32m      2\u001B[0m \u001B[38;5;28;01mfrom\u001B[39;00m \u001B[38;5;21;01msrc\u001B[39;00m\u001B[38;5;21;01m.\u001B[39;00m\u001B[38;5;21;01mmodels\u001B[39;00m\u001B[38;5;21;01m.\u001B[39;00m\u001B[38;5;21;01mmovie_data_cleaner\u001B[39;00m \u001B[38;5;28;01mimport\u001B[39;00m display_data_cleaning_graph\n\u001B[0;32m----> 3\u001B[0m fig \u001B[38;5;241m=\u001B[39m \u001B[43mdisplay_data_cleaning_graph\u001B[49m\u001B[43m(\u001B[49m\u001B[43mmovie_frames_old\u001B[49m\u001B[43m)\u001B[49m\n\u001B[1;32m      5\u001B[0m fig\n",
      "File \u001B[0;32m~/Documents/ada-2024-project-onceuponatimeindata/src/models/movie_data_cleaner.py:102\u001B[0m, in \u001B[0;36mdisplay_data_cleaning_graph\u001B[0;34m(movieFrames)\u001B[0m\n\u001B[1;32m     96\u001B[0m wikipedia_sizes \u001B[38;5;241m=\u001B[39m [\u001B[38;5;28mlen\u001B[39m(movieFrames\u001B[38;5;241m.\u001B[39mmovie_df_sequel_original), \u001B[38;5;28mlen\u001B[39m(movieFrames\u001B[38;5;241m.\u001B[39mmovie_df_sequel_only),\n\u001B[1;32m     97\u001B[0m                       \u001B[38;5;28mlen\u001B[39m(movieFrames\u001B[38;5;241m.\u001B[39mmovie_df_books), \u001B[38;5;28mlen\u001B[39m(movieFrames\u001B[38;5;241m.\u001B[39mmovie_df_comics),\n\u001B[1;32m     98\u001B[0m                       \u001B[38;5;28mlen\u001B[39m(movieFrames\u001B[38;5;241m.\u001B[39mmovie_df_remakes)]\n\u001B[1;32m    100\u001B[0m \u001B[38;5;66;03m# Drop the movies that have different years in TMDB and Wikipedia\u001B[39;00m\n\u001B[0;32m--> 102\u001B[0m \u001B[43mmovieFrames\u001B[49m\u001B[38;5;241;43m.\u001B[39;49m\u001B[43mdrop_different_years\u001B[49m\u001B[43m(\u001B[49m\u001B[43m)\u001B[49m\n\u001B[1;32m    103\u001B[0m movieFrames\u001B[38;5;241m.\u001B[39mdrop_impossible_years()\n\u001B[1;32m    104\u001B[0m movieFrames\u001B[38;5;241m.\u001B[39mdrop_too_different_titles()\n",
      "File \u001B[0;32m~/Documents/ada-2024-project-onceuponatimeindata/src/models/movies_frame.py:200\u001B[0m, in \u001B[0;36mMovieFrames.drop_different_years\u001B[0;34m(self)\u001B[0m\n\u001B[1;32m    195\u001B[0m \u001B[38;5;250m\u001B[39m\u001B[38;5;124;03m\"\"\"\u001B[39;00m\n\u001B[1;32m    196\u001B[0m \u001B[38;5;124;03mDrop rows with different release years between the Wikipedia and TMDb datasets\u001B[39;00m\n\u001B[1;32m    197\u001B[0m \u001B[38;5;124;03m\"\"\"\u001B[39;00m\n\u001B[1;32m    198\u001B[0m \u001B[38;5;28mself\u001B[39m\u001B[38;5;241m.\u001B[39mmovie_df[\u001B[38;5;124m\"\u001B[39m\u001B[38;5;124mrelease year\u001B[39m\u001B[38;5;124m\"\u001B[39m] \u001B[38;5;241m=\u001B[39m \u001B[38;5;28mself\u001B[39m\u001B[38;5;241m.\u001B[39mmovie_df[\u001B[38;5;124m\"\u001B[39m\u001B[38;5;124mMovie release date\u001B[39m\u001B[38;5;124m\"\u001B[39m]\u001B[38;5;241m.\u001B[39mapply(\n\u001B[1;32m    199\u001B[0m     \u001B[38;5;28;01mlambda\u001B[39;00m x: \u001B[38;5;28mfloat\u001B[39m(\u001B[38;5;28mstr\u001B[39m(x)[:\u001B[38;5;241m4\u001B[39m]) \u001B[38;5;28;01mif\u001B[39;00m \u001B[38;5;28mstr\u001B[39m\u001B[38;5;241m.\u001B[39misdigit(\u001B[38;5;28mstr\u001B[39m(x)[:\u001B[38;5;241m4\u001B[39m]) \u001B[38;5;28;01melse\u001B[39;00m np\u001B[38;5;241m.\u001B[39mnan)\n\u001B[0;32m--> 200\u001B[0m \u001B[38;5;28mself\u001B[39m\u001B[38;5;241m.\u001B[39mmovie_df_sequel_only \u001B[38;5;241m=\u001B[39m \u001B[38;5;28;43mself\u001B[39;49m\u001B[38;5;241;43m.\u001B[39;49m\u001B[43mdrop_different_years_df\u001B[49m\u001B[43m(\u001B[49m\u001B[38;5;28;43mself\u001B[39;49m\u001B[38;5;241;43m.\u001B[39;49m\u001B[43mmovie_df_sequel_only\u001B[49m\u001B[43m)\u001B[49m\n\u001B[1;32m    201\u001B[0m \u001B[38;5;28mself\u001B[39m\u001B[38;5;241m.\u001B[39mmovie_df_books \u001B[38;5;241m=\u001B[39m \u001B[38;5;28mself\u001B[39m\u001B[38;5;241m.\u001B[39mdrop_different_years_df(\u001B[38;5;28mself\u001B[39m\u001B[38;5;241m.\u001B[39mmovie_df_books)\n\u001B[1;32m    202\u001B[0m \u001B[38;5;28mself\u001B[39m\u001B[38;5;241m.\u001B[39mmovie_df_comics \u001B[38;5;241m=\u001B[39m \u001B[38;5;28mself\u001B[39m\u001B[38;5;241m.\u001B[39mdrop_different_years_df(\u001B[38;5;28mself\u001B[39m\u001B[38;5;241m.\u001B[39mmovie_df_comics)\n",
      "File \u001B[0;32m~/Documents/ada-2024-project-onceuponatimeindata/src/models/movies_frame.py:172\u001B[0m, in \u001B[0;36mMovieFrames.drop_different_years_df\u001B[0;34m(self, df)\u001B[0m\n\u001B[1;32m    170\u001B[0m     df[\u001B[38;5;124m\"\u001B[39m\u001B[38;5;124mrelease year\u001B[39m\u001B[38;5;124m\"\u001B[39m] \u001B[38;5;241m=\u001B[39m df[\u001B[38;5;124m\"\u001B[39m\u001B[38;5;124mMovie release date\u001B[39m\u001B[38;5;124m\"\u001B[39m]\u001B[38;5;241m.\u001B[39mapply(\u001B[38;5;28;01mlambda\u001B[39;00m x: \u001B[38;5;28mfloat\u001B[39m(\u001B[38;5;28mstr\u001B[39m(x)[:\u001B[38;5;241m4\u001B[39m]) \u001B[38;5;28;01mif\u001B[39;00m \u001B[38;5;28mstr\u001B[39m\u001B[38;5;241m.\u001B[39misdigit(\u001B[38;5;28mstr\u001B[39m(x)[:\u001B[38;5;241m4\u001B[39m]) \u001B[38;5;28;01melse\u001B[39;00m np\u001B[38;5;241m.\u001B[39mnan)\n\u001B[1;32m    171\u001B[0m     \u001B[38;5;28;01mreturn\u001B[39;00m df\n\u001B[0;32m--> 172\u001B[0m df[\u001B[38;5;124m\"\u001B[39m\u001B[38;5;124mrelease year wiki\u001B[39m\u001B[38;5;124m\"\u001B[39m] \u001B[38;5;241m=\u001B[39m \u001B[43mdf\u001B[49m\u001B[43m[\u001B[49m\u001B[38;5;124;43m\"\u001B[39;49m\u001B[38;5;124;43mMovie release date\u001B[39;49m\u001B[38;5;124;43m\"\u001B[39;49m\u001B[43m]\u001B[49m\u001B[38;5;241m.\u001B[39mapply(\n\u001B[1;32m    173\u001B[0m     \u001B[38;5;28;01mlambda\u001B[39;00m x: \u001B[38;5;28mstr\u001B[39m(x)[:\u001B[38;5;241m4\u001B[39m] \u001B[38;5;28;01mif\u001B[39;00m \u001B[38;5;28mstr\u001B[39m\u001B[38;5;241m.\u001B[39misdigit(\u001B[38;5;28mstr\u001B[39m(x)[:\u001B[38;5;241m4\u001B[39m]) \u001B[38;5;28;01melse\u001B[39;00m np\u001B[38;5;241m.\u001B[39mnan)\n\u001B[1;32m    174\u001B[0m df[\u001B[38;5;124m\"\u001B[39m\u001B[38;5;124mrelease year tmdb\u001B[39m\u001B[38;5;124m\"\u001B[39m] \u001B[38;5;241m=\u001B[39m df[\u001B[38;5;124m\"\u001B[39m\u001B[38;5;124mrelease_date\u001B[39m\u001B[38;5;124m\"\u001B[39m]\u001B[38;5;241m.\u001B[39mapply(\u001B[38;5;28;01mlambda\u001B[39;00m x: \u001B[38;5;28mstr\u001B[39m(x)[:\u001B[38;5;241m4\u001B[39m] \u001B[38;5;28;01mif\u001B[39;00m \u001B[38;5;28mstr\u001B[39m\u001B[38;5;241m.\u001B[39misdigit(\u001B[38;5;28mstr\u001B[39m(x)[:\u001B[38;5;241m4\u001B[39m]) \u001B[38;5;28;01melse\u001B[39;00m np\u001B[38;5;241m.\u001B[39mnan)\n\u001B[1;32m    176\u001B[0m df\u001B[38;5;241m.\u001B[39mdrop(df[np\u001B[38;5;241m.\u001B[39mabs(np\u001B[38;5;241m.\u001B[39marray(df[\u001B[38;5;124m\"\u001B[39m\u001B[38;5;124mrelease year wiki\u001B[39m\u001B[38;5;124m\"\u001B[39m])\u001B[38;5;241m.\u001B[39mastype(\u001B[38;5;28mfloat\u001B[39m) \u001B[38;5;241m-\u001B[39m np\u001B[38;5;241m.\u001B[39marray(df[\u001B[38;5;124m\"\u001B[39m\u001B[38;5;124mrelease year tmdb\u001B[39m\u001B[38;5;124m\"\u001B[39m])\u001B[38;5;241m.\u001B[39mastype(\u001B[38;5;28mfloat\u001B[39m)) \u001B[38;5;241m>\u001B[39m \u001B[38;5;241m1\u001B[39m]\u001B[38;5;241m.\u001B[39mindex, inplace\u001B[38;5;241m=\u001B[39m\u001B[38;5;28;01mTrue\u001B[39;00m)\n",
      "File \u001B[0;32m/usr/local/lib/python3.8/dist-packages/pandas/core/frame.py:3761\u001B[0m, in \u001B[0;36mDataFrame.__getitem__\u001B[0;34m(self, key)\u001B[0m\n\u001B[1;32m   3759\u001B[0m \u001B[38;5;28;01mif\u001B[39;00m \u001B[38;5;28mself\u001B[39m\u001B[38;5;241m.\u001B[39mcolumns\u001B[38;5;241m.\u001B[39mnlevels \u001B[38;5;241m>\u001B[39m \u001B[38;5;241m1\u001B[39m:\n\u001B[1;32m   3760\u001B[0m     \u001B[38;5;28;01mreturn\u001B[39;00m \u001B[38;5;28mself\u001B[39m\u001B[38;5;241m.\u001B[39m_getitem_multilevel(key)\n\u001B[0;32m-> 3761\u001B[0m indexer \u001B[38;5;241m=\u001B[39m \u001B[38;5;28;43mself\u001B[39;49m\u001B[38;5;241;43m.\u001B[39;49m\u001B[43mcolumns\u001B[49m\u001B[38;5;241;43m.\u001B[39;49m\u001B[43mget_loc\u001B[49m\u001B[43m(\u001B[49m\u001B[43mkey\u001B[49m\u001B[43m)\u001B[49m\n\u001B[1;32m   3762\u001B[0m \u001B[38;5;28;01mif\u001B[39;00m is_integer(indexer):\n\u001B[1;32m   3763\u001B[0m     indexer \u001B[38;5;241m=\u001B[39m [indexer]\n",
      "File \u001B[0;32m/usr/local/lib/python3.8/dist-packages/pandas/core/indexes/base.py:3655\u001B[0m, in \u001B[0;36mIndex.get_loc\u001B[0;34m(self, key)\u001B[0m\n\u001B[1;32m   3653\u001B[0m     \u001B[38;5;28;01mreturn\u001B[39;00m \u001B[38;5;28mself\u001B[39m\u001B[38;5;241m.\u001B[39m_engine\u001B[38;5;241m.\u001B[39mget_loc(casted_key)\n\u001B[1;32m   3654\u001B[0m \u001B[38;5;28;01mexcept\u001B[39;00m \u001B[38;5;167;01mKeyError\u001B[39;00m \u001B[38;5;28;01mas\u001B[39;00m err:\n\u001B[0;32m-> 3655\u001B[0m     \u001B[38;5;28;01mraise\u001B[39;00m \u001B[38;5;167;01mKeyError\u001B[39;00m(key) \u001B[38;5;28;01mfrom\u001B[39;00m \u001B[38;5;21;01merr\u001B[39;00m\n\u001B[1;32m   3656\u001B[0m \u001B[38;5;28;01mexcept\u001B[39;00m \u001B[38;5;167;01mTypeError\u001B[39;00m:\n\u001B[1;32m   3657\u001B[0m     \u001B[38;5;66;03m# If we have a listlike key, _check_indexing_error will raise\u001B[39;00m\n\u001B[1;32m   3658\u001B[0m     \u001B[38;5;66;03m#  InvalidIndexError. Otherwise we fall through and re-raise\u001B[39;00m\n\u001B[1;32m   3659\u001B[0m     \u001B[38;5;66;03m#  the TypeError.\u001B[39;00m\n\u001B[1;32m   3660\u001B[0m     \u001B[38;5;28mself\u001B[39m\u001B[38;5;241m.\u001B[39m_check_indexing_error(key)\n",
      "\u001B[0;31mKeyError\u001B[0m: 'Movie release date'"
     ]
    }
   ],
   "execution_count": 321
  },
  {
   "cell_type": "markdown",
   "id": "ec208912f78269f7",
   "metadata": {},
   "source": [
    "### 2.1 How many sequels are there compared to movies "
   ]
  },
  {
   "cell_type": "markdown",
   "id": "53654302",
   "metadata": {},
   "source": [
    "Groups the movies by 5-year intervals, counts how many movies fall into each interval, and returns the string representation of the interval labels. The first cell shows the result for data between 1880 and 2010, the second cell will show results between 2010-2024 when it will work."
   ]
  },
  {
   "cell_type": "markdown",
   "id": "2123d6aa",
   "metadata": {},
   "source": "Plot of number of movies per 5 year (left figure) VS. Plot of number of movies with sequels per 5 year (right figure)"
  },
  {
   "cell_type": "code",
   "id": "291aae8c32a635ee",
   "metadata": {
    "ExecuteTime": {
     "end_time": "2024-12-15T20:39:19.835355Z",
     "start_time": "2024-12-15T20:39:19.694034Z"
    }
   },
   "source": [
    "from src.models.movie_counter import get_movie_counter_figure\n",
    "\n",
    "#Plot figure 1 (left):  number of movies per 5 years\n",
    "fig = get_movie_counter_figure(movie_frames_old)\n",
    "fig\n"
   ],
   "outputs": [
    {
     "data": {
      "application/vnd.plotly.v1+json": {
       "data": [
        {
         "marker": {
          "color": "#8e2c50"
         },
         "visible": "legendonly",
         "x": [
          "1880, 1885",
          "1885, 1890",
          "1890, 1895",
          "1895, 1900",
          "1900, 1905",
          "1905, 1910",
          "1910, 1915",
          "1915, 1920",
          "1920, 1925",
          "1925, 1930",
          "1930, 1935",
          "1935, 1940",
          "1940, 1945",
          "1945, 1950",
          "1950, 1955",
          "1955, 1960",
          "1960, 1965",
          "1965, 1970",
          "1970, 1975",
          "1975, 1980",
          "1980, 1985",
          "1985, 1990",
          "1990, 1995",
          "1995, 2000",
          "2000, 2005",
          "2005, 2010"
         ],
         "y": [
          0,
          4,
          36,
          144,
          53,
          151,
          1340,
          1612,
          1336,
          1568,
          2341,
          2609,
          2221,
          2340,
          2900,
          2757,
          2908,
          3078,
          3433,
          3324,
          3493,
          4033,
          4396,
          5545,
          8453,
          9535
         ],
         "type": "bar"
        },
        {
         "marker": {
          "color": "#9ebbc9"
         },
         "visible": "legendonly",
         "x": [
          "1880, 1885",
          "1885, 1890",
          "1890, 1895",
          "1895, 1900",
          "1900, 1905",
          "1905, 1910",
          "1910, 1915",
          "1915, 1920",
          "1920, 1925",
          "1925, 1930",
          "1930, 1935",
          "1935, 1940",
          "1940, 1945",
          "1945, 1950",
          "1950, 1955",
          "1955, 1960",
          "1960, 1965",
          "1965, 1970",
          "1970, 1975",
          "1975, 1980",
          "1980, 1985",
          "1985, 1990",
          "1990, 1995",
          "1995, 2000",
          "2000, 2005",
          "2005, 2010"
         ],
         "y": [
          0,
          0,
          0,
          0,
          0,
          1,
          0,
          1,
          1,
          1,
          5,
          9,
          13,
          2,
          5,
          10,
          8,
          17,
          26,
          32,
          33,
          62,
          49,
          39,
          53,
          50
         ],
         "type": "bar"
        },
        {
         "marker": {
          "color": "#6785be"
         },
         "visible": "legendonly",
         "x": [
          "1880, 1885",
          "1885, 1890",
          "1890, 1895",
          "1895, 1900",
          "1900, 1905",
          "1905, 1910",
          "1910, 1915",
          "1915, 1920",
          "1920, 1925",
          "1925, 1930",
          "1930, 1935",
          "1935, 1940",
          "1940, 1945",
          "1945, 1950",
          "1950, 1955",
          "1955, 1960",
          "1960, 1965",
          "1965, 1970",
          "1970, 1975",
          "1975, 1980",
          "1980, 1985",
          "1985, 1990",
          "1990, 1995",
          "1995, 2000",
          "2000, 2005",
          "2005, 2010"
         ],
         "y": [
          0,
          0,
          0,
          0,
          1,
          4,
          3,
          14,
          20,
          23,
          56,
          60,
          39,
          66,
          49,
          99,
          90,
          115,
          119,
          117,
          130,
          115,
          110,
          166,
          181,
          156
         ],
         "type": "bar"
        },
        {
         "marker": {
          "color": "#5e43a5"
         },
         "visible": "legendonly",
         "x": [
          "1880, 1885",
          "1885, 1890",
          "1890, 1895",
          "1895, 1900",
          "1900, 1905",
          "1905, 1910",
          "1910, 1915",
          "1915, 1920",
          "1920, 1925",
          "1925, 1930",
          "1930, 1935",
          "1935, 1940",
          "1940, 1945",
          "1945, 1950",
          "1950, 1955",
          "1955, 1960",
          "1960, 1965",
          "1965, 1970",
          "1970, 1975",
          "1975, 1980",
          "1980, 1985",
          "1985, 1990",
          "1990, 1995",
          "1995, 2000",
          "2000, 2005",
          "2005, 2010"
         ],
         "y": [
          0,
          0,
          0,
          0,
          0,
          0,
          0,
          0,
          0,
          0,
          0,
          1,
          2,
          0,
          2,
          0,
          1,
          4,
          5,
          7,
          11,
          11,
          18,
          15,
          30,
          33
         ],
         "type": "bar"
        },
        {
         "marker": {
          "color": "#421257"
         },
         "visible": "legendonly",
         "x": [
          "1880, 1885",
          "1885, 1890",
          "1890, 1895",
          "1895, 1900",
          "1900, 1905",
          "1905, 1910",
          "1910, 1915",
          "1915, 1920",
          "1920, 1925",
          "1925, 1930",
          "1930, 1935",
          "1935, 1940",
          "1940, 1945",
          "1945, 1950",
          "1950, 1955",
          "1955, 1960",
          "1960, 1965",
          "1965, 1970",
          "1970, 1975",
          "1975, 1980",
          "1980, 1985",
          "1985, 1990",
          "1990, 1995",
          "1995, 2000",
          "2000, 2005",
          "2005, 2010"
         ],
         "y": [
          0,
          0,
          0,
          2,
          0,
          0,
          0,
          0,
          3,
          4,
          5,
          8,
          5,
          9,
          10,
          13,
          7,
          7,
          6,
          13,
          20,
          28,
          24,
          29,
          57,
          61
         ],
         "type": "bar"
        },
        {
         "marker": {
          "color": "#471340"
         },
         "visible": "legendonly",
         "x": [
          "1880, 1885",
          "1885, 1890",
          "1890, 1895",
          "1895, 1900",
          "1900, 1905",
          "1905, 1910",
          "1910, 1915",
          "1915, 1920",
          "1920, 1925",
          "1925, 1930",
          "1930, 1935",
          "1935, 1940",
          "1940, 1945",
          "1945, 1950",
          "1950, 1955",
          "1955, 1960",
          "1960, 1965",
          "1965, 1970",
          "1970, 1975",
          "1975, 1980",
          "1980, 1985",
          "1985, 1990",
          "1990, 1995",
          "1995, 2000",
          "2000, 2005",
          "2005, 2010"
         ],
         "y": [
          0,
          0,
          0,
          2,
          1,
          5,
          3,
          15,
          24,
          28,
          66,
          78,
          59,
          77,
          66,
          122,
          106,
          143,
          156,
          169,
          194,
          216,
          201,
          249,
          321,
          300
         ],
         "type": "bar"
        }
       ],
       "layout": {
        "title": {
         "text": "Number of movies per 5 years splits"
        },
        "updatemenus": [
         {
          "buttons": [
           {
            "args": [
             {
              "visible": [
               true,
               false,
               false,
               false,
               false,
               false
              ]
             },
             {
              "yaxis": {
               "range": [
                0,
                9635
               ],
               "title": "Number of movies"
              }
             },
             {
              "xaxis": {
               "title": "Year",
               "tickangle": 45
              }
             }
            ],
            "label": "Movies",
            "method": "update"
           },
           {
            "args": [
             {
              "visible": [
               false,
               true,
               false,
               false,
               false,
               false
              ]
             },
             {
              "yaxis": {
               "range": [
                0,
                181
               ],
               "title": "Number of movies"
              }
             },
             {
              "xaxis": {
               "title": "Year",
               "tickangle": 45
              }
             }
            ],
            "label": "Sequels",
            "method": "update"
           },
           {
            "args": [
             {
              "visible": [
               false,
               false,
               true,
               false,
               false,
               false
              ]
             },
             {
              "yaxis": {
               "range": [
                0,
                181
               ],
               "title": "Number of movies"
              }
             },
             {
              "xaxis": {
               "title": "Year",
               "tickangle": 45
              }
             }
            ],
            "label": "Books",
            "method": "update"
           },
           {
            "args": [
             {
              "visible": [
               false,
               false,
               false,
               true,
               false,
               false
              ]
             },
             {
              "yaxis": {
               "range": [
                0,
                181
               ],
               "title": "Number of movies"
              }
             },
             {
              "xaxis": {
               "title": "Year",
               "tickangle": 45
              }
             }
            ],
            "label": "Comics",
            "method": "update"
           },
           {
            "args": [
             {
              "visible": [
               false,
               false,
               false,
               false,
               true,
               false
              ]
             },
             {
              "yaxis": {
               "range": [
                0,
                181
               ],
               "title": "Number of movies"
              }
             },
             {
              "xaxis": {
               "title": "Year",
               "tickangle": 45
              }
             }
            ],
            "label": "Remakes",
            "method": "update"
           },
           {
            "args": [
             {
              "visible": [
               false,
               false,
               false,
               false,
               false,
               true
              ]
             },
             {
              "yaxis": {
               "range": [
                0,
                331
               ],
               "title": "Number of movies"
              }
             },
             {
              "xaxis": {
               "title": "Year",
               "tickangle": 45
              }
             }
            ],
            "label": "All non-original movies",
            "method": "update"
           }
          ],
          "direction": "left",
          "pad": {
           "r": 10,
           "t": 10
          },
          "showactive": true,
          "type": "buttons",
          "x": 0,
          "xanchor": "left",
          "y": 1.2,
          "yanchor": "top"
         }
        ],
        "xaxis": {
         "tickangle": 45,
         "tickvals": [
          "1880, 1885",
          "1885, 1890",
          "1890, 1895",
          "1895, 1900",
          "1900, 1905",
          "1905, 1910",
          "1910, 1915",
          "1915, 1920",
          "1920, 1925",
          "1925, 1930",
          "1930, 1935",
          "1935, 1940",
          "1940, 1945",
          "1945, 1950",
          "1950, 1955",
          "1955, 1960",
          "1960, 1965",
          "1965, 1970",
          "1970, 1975",
          "1975, 1980",
          "1980, 1985",
          "1985, 1990",
          "1990, 1995",
          "1995, 2000",
          "2000, 2005",
          "2005, 2010"
         ],
         "title": {
          "text": "Year"
         }
        },
        "template": {
         "data": {
          "histogram2dcontour": [
           {
            "type": "histogram2dcontour",
            "colorbar": {
             "outlinewidth": 0,
             "ticks": ""
            },
            "colorscale": [
             [
              0.0,
              "#0d0887"
             ],
             [
              0.1111111111111111,
              "#46039f"
             ],
             [
              0.2222222222222222,
              "#7201a8"
             ],
             [
              0.3333333333333333,
              "#9c179e"
             ],
             [
              0.4444444444444444,
              "#bd3786"
             ],
             [
              0.5555555555555556,
              "#d8576b"
             ],
             [
              0.6666666666666666,
              "#ed7953"
             ],
             [
              0.7777777777777778,
              "#fb9f3a"
             ],
             [
              0.8888888888888888,
              "#fdca26"
             ],
             [
              1.0,
              "#f0f921"
             ]
            ]
           }
          ],
          "choropleth": [
           {
            "type": "choropleth",
            "colorbar": {
             "outlinewidth": 0,
             "ticks": ""
            }
           }
          ],
          "histogram2d": [
           {
            "type": "histogram2d",
            "colorbar": {
             "outlinewidth": 0,
             "ticks": ""
            },
            "colorscale": [
             [
              0.0,
              "#0d0887"
             ],
             [
              0.1111111111111111,
              "#46039f"
             ],
             [
              0.2222222222222222,
              "#7201a8"
             ],
             [
              0.3333333333333333,
              "#9c179e"
             ],
             [
              0.4444444444444444,
              "#bd3786"
             ],
             [
              0.5555555555555556,
              "#d8576b"
             ],
             [
              0.6666666666666666,
              "#ed7953"
             ],
             [
              0.7777777777777778,
              "#fb9f3a"
             ],
             [
              0.8888888888888888,
              "#fdca26"
             ],
             [
              1.0,
              "#f0f921"
             ]
            ]
           }
          ],
          "heatmap": [
           {
            "type": "heatmap",
            "colorbar": {
             "outlinewidth": 0,
             "ticks": ""
            },
            "colorscale": [
             [
              0.0,
              "#0d0887"
             ],
             [
              0.1111111111111111,
              "#46039f"
             ],
             [
              0.2222222222222222,
              "#7201a8"
             ],
             [
              0.3333333333333333,
              "#9c179e"
             ],
             [
              0.4444444444444444,
              "#bd3786"
             ],
             [
              0.5555555555555556,
              "#d8576b"
             ],
             [
              0.6666666666666666,
              "#ed7953"
             ],
             [
              0.7777777777777778,
              "#fb9f3a"
             ],
             [
              0.8888888888888888,
              "#fdca26"
             ],
             [
              1.0,
              "#f0f921"
             ]
            ]
           }
          ],
          "heatmapgl": [
           {
            "type": "heatmapgl",
            "colorbar": {
             "outlinewidth": 0,
             "ticks": ""
            },
            "colorscale": [
             [
              0.0,
              "#0d0887"
             ],
             [
              0.1111111111111111,
              "#46039f"
             ],
             [
              0.2222222222222222,
              "#7201a8"
             ],
             [
              0.3333333333333333,
              "#9c179e"
             ],
             [
              0.4444444444444444,
              "#bd3786"
             ],
             [
              0.5555555555555556,
              "#d8576b"
             ],
             [
              0.6666666666666666,
              "#ed7953"
             ],
             [
              0.7777777777777778,
              "#fb9f3a"
             ],
             [
              0.8888888888888888,
              "#fdca26"
             ],
             [
              1.0,
              "#f0f921"
             ]
            ]
           }
          ],
          "contourcarpet": [
           {
            "type": "contourcarpet",
            "colorbar": {
             "outlinewidth": 0,
             "ticks": ""
            }
           }
          ],
          "contour": [
           {
            "type": "contour",
            "colorbar": {
             "outlinewidth": 0,
             "ticks": ""
            },
            "colorscale": [
             [
              0.0,
              "#0d0887"
             ],
             [
              0.1111111111111111,
              "#46039f"
             ],
             [
              0.2222222222222222,
              "#7201a8"
             ],
             [
              0.3333333333333333,
              "#9c179e"
             ],
             [
              0.4444444444444444,
              "#bd3786"
             ],
             [
              0.5555555555555556,
              "#d8576b"
             ],
             [
              0.6666666666666666,
              "#ed7953"
             ],
             [
              0.7777777777777778,
              "#fb9f3a"
             ],
             [
              0.8888888888888888,
              "#fdca26"
             ],
             [
              1.0,
              "#f0f921"
             ]
            ]
           }
          ],
          "surface": [
           {
            "type": "surface",
            "colorbar": {
             "outlinewidth": 0,
             "ticks": ""
            },
            "colorscale": [
             [
              0.0,
              "#0d0887"
             ],
             [
              0.1111111111111111,
              "#46039f"
             ],
             [
              0.2222222222222222,
              "#7201a8"
             ],
             [
              0.3333333333333333,
              "#9c179e"
             ],
             [
              0.4444444444444444,
              "#bd3786"
             ],
             [
              0.5555555555555556,
              "#d8576b"
             ],
             [
              0.6666666666666666,
              "#ed7953"
             ],
             [
              0.7777777777777778,
              "#fb9f3a"
             ],
             [
              0.8888888888888888,
              "#fdca26"
             ],
             [
              1.0,
              "#f0f921"
             ]
            ]
           }
          ],
          "mesh3d": [
           {
            "type": "mesh3d",
            "colorbar": {
             "outlinewidth": 0,
             "ticks": ""
            }
           }
          ],
          "scatter": [
           {
            "fillpattern": {
             "fillmode": "overlay",
             "size": 10,
             "solidity": 0.2
            },
            "type": "scatter"
           }
          ],
          "parcoords": [
           {
            "type": "parcoords",
            "line": {
             "colorbar": {
              "outlinewidth": 0,
              "ticks": ""
             }
            }
           }
          ],
          "scatterpolargl": [
           {
            "type": "scatterpolargl",
            "marker": {
             "colorbar": {
              "outlinewidth": 0,
              "ticks": ""
             }
            }
           }
          ],
          "bar": [
           {
            "error_x": {
             "color": "#2a3f5f"
            },
            "error_y": {
             "color": "#2a3f5f"
            },
            "marker": {
             "line": {
              "color": "#E5ECF6",
              "width": 0.5
             },
             "pattern": {
              "fillmode": "overlay",
              "size": 10,
              "solidity": 0.2
             }
            },
            "type": "bar"
           }
          ],
          "scattergeo": [
           {
            "type": "scattergeo",
            "marker": {
             "colorbar": {
              "outlinewidth": 0,
              "ticks": ""
             }
            }
           }
          ],
          "scatterpolar": [
           {
            "type": "scatterpolar",
            "marker": {
             "colorbar": {
              "outlinewidth": 0,
              "ticks": ""
             }
            }
           }
          ],
          "histogram": [
           {
            "marker": {
             "pattern": {
              "fillmode": "overlay",
              "size": 10,
              "solidity": 0.2
             }
            },
            "type": "histogram"
           }
          ],
          "scattergl": [
           {
            "type": "scattergl",
            "marker": {
             "colorbar": {
              "outlinewidth": 0,
              "ticks": ""
             }
            }
           }
          ],
          "scatter3d": [
           {
            "type": "scatter3d",
            "line": {
             "colorbar": {
              "outlinewidth": 0,
              "ticks": ""
             }
            },
            "marker": {
             "colorbar": {
              "outlinewidth": 0,
              "ticks": ""
             }
            }
           }
          ],
          "scattermapbox": [
           {
            "type": "scattermapbox",
            "marker": {
             "colorbar": {
              "outlinewidth": 0,
              "ticks": ""
             }
            }
           }
          ],
          "scatterternary": [
           {
            "type": "scatterternary",
            "marker": {
             "colorbar": {
              "outlinewidth": 0,
              "ticks": ""
             }
            }
           }
          ],
          "scattercarpet": [
           {
            "type": "scattercarpet",
            "marker": {
             "colorbar": {
              "outlinewidth": 0,
              "ticks": ""
             }
            }
           }
          ],
          "carpet": [
           {
            "aaxis": {
             "endlinecolor": "#2a3f5f",
             "gridcolor": "white",
             "linecolor": "white",
             "minorgridcolor": "white",
             "startlinecolor": "#2a3f5f"
            },
            "baxis": {
             "endlinecolor": "#2a3f5f",
             "gridcolor": "white",
             "linecolor": "white",
             "minorgridcolor": "white",
             "startlinecolor": "#2a3f5f"
            },
            "type": "carpet"
           }
          ],
          "table": [
           {
            "cells": {
             "fill": {
              "color": "#EBF0F8"
             },
             "line": {
              "color": "white"
             }
            },
            "header": {
             "fill": {
              "color": "#C8D4E3"
             },
             "line": {
              "color": "white"
             }
            },
            "type": "table"
           }
          ],
          "barpolar": [
           {
            "marker": {
             "line": {
              "color": "#E5ECF6",
              "width": 0.5
             },
             "pattern": {
              "fillmode": "overlay",
              "size": 10,
              "solidity": 0.2
             }
            },
            "type": "barpolar"
           }
          ],
          "pie": [
           {
            "automargin": true,
            "type": "pie"
           }
          ]
         },
         "layout": {
          "autotypenumbers": "strict",
          "colorway": [
           "#636efa",
           "#EF553B",
           "#00cc96",
           "#ab63fa",
           "#FFA15A",
           "#19d3f3",
           "#FF6692",
           "#B6E880",
           "#FF97FF",
           "#FECB52"
          ],
          "font": {
           "color": "#2a3f5f"
          },
          "hovermode": "closest",
          "hoverlabel": {
           "align": "left"
          },
          "paper_bgcolor": "white",
          "plot_bgcolor": "#E5ECF6",
          "polar": {
           "bgcolor": "#E5ECF6",
           "angularaxis": {
            "gridcolor": "white",
            "linecolor": "white",
            "ticks": ""
           },
           "radialaxis": {
            "gridcolor": "white",
            "linecolor": "white",
            "ticks": ""
           }
          },
          "ternary": {
           "bgcolor": "#E5ECF6",
           "aaxis": {
            "gridcolor": "white",
            "linecolor": "white",
            "ticks": ""
           },
           "baxis": {
            "gridcolor": "white",
            "linecolor": "white",
            "ticks": ""
           },
           "caxis": {
            "gridcolor": "white",
            "linecolor": "white",
            "ticks": ""
           }
          },
          "coloraxis": {
           "colorbar": {
            "outlinewidth": 0,
            "ticks": ""
           }
          },
          "colorscale": {
           "sequential": [
            [
             0.0,
             "#0d0887"
            ],
            [
             0.1111111111111111,
             "#46039f"
            ],
            [
             0.2222222222222222,
             "#7201a8"
            ],
            [
             0.3333333333333333,
             "#9c179e"
            ],
            [
             0.4444444444444444,
             "#bd3786"
            ],
            [
             0.5555555555555556,
             "#d8576b"
            ],
            [
             0.6666666666666666,
             "#ed7953"
            ],
            [
             0.7777777777777778,
             "#fb9f3a"
            ],
            [
             0.8888888888888888,
             "#fdca26"
            ],
            [
             1.0,
             "#f0f921"
            ]
           ],
           "sequentialminus": [
            [
             0.0,
             "#0d0887"
            ],
            [
             0.1111111111111111,
             "#46039f"
            ],
            [
             0.2222222222222222,
             "#7201a8"
            ],
            [
             0.3333333333333333,
             "#9c179e"
            ],
            [
             0.4444444444444444,
             "#bd3786"
            ],
            [
             0.5555555555555556,
             "#d8576b"
            ],
            [
             0.6666666666666666,
             "#ed7953"
            ],
            [
             0.7777777777777778,
             "#fb9f3a"
            ],
            [
             0.8888888888888888,
             "#fdca26"
            ],
            [
             1.0,
             "#f0f921"
            ]
           ],
           "diverging": [
            [
             0,
             "#8e0152"
            ],
            [
             0.1,
             "#c51b7d"
            ],
            [
             0.2,
             "#de77ae"
            ],
            [
             0.3,
             "#f1b6da"
            ],
            [
             0.4,
             "#fde0ef"
            ],
            [
             0.5,
             "#f7f7f7"
            ],
            [
             0.6,
             "#e6f5d0"
            ],
            [
             0.7,
             "#b8e186"
            ],
            [
             0.8,
             "#7fbc41"
            ],
            [
             0.9,
             "#4d9221"
            ],
            [
             1,
             "#276419"
            ]
           ]
          },
          "xaxis": {
           "gridcolor": "white",
           "linecolor": "white",
           "ticks": "",
           "title": {
            "standoff": 15
           },
           "zerolinecolor": "white",
           "automargin": true,
           "zerolinewidth": 2
          },
          "yaxis": {
           "gridcolor": "white",
           "linecolor": "white",
           "ticks": "",
           "title": {
            "standoff": 15
           },
           "zerolinecolor": "white",
           "automargin": true,
           "zerolinewidth": 2
          },
          "scene": {
           "xaxis": {
            "backgroundcolor": "#E5ECF6",
            "gridcolor": "white",
            "linecolor": "white",
            "showbackground": true,
            "ticks": "",
            "zerolinecolor": "white",
            "gridwidth": 2
           },
           "yaxis": {
            "backgroundcolor": "#E5ECF6",
            "gridcolor": "white",
            "linecolor": "white",
            "showbackground": true,
            "ticks": "",
            "zerolinecolor": "white",
            "gridwidth": 2
           },
           "zaxis": {
            "backgroundcolor": "#E5ECF6",
            "gridcolor": "white",
            "linecolor": "white",
            "showbackground": true,
            "ticks": "",
            "zerolinecolor": "white",
            "gridwidth": 2
           }
          },
          "shapedefaults": {
           "line": {
            "color": "#2a3f5f"
           }
          },
          "annotationdefaults": {
           "arrowcolor": "#2a3f5f",
           "arrowhead": 0,
           "arrowwidth": 1
          },
          "geo": {
           "bgcolor": "white",
           "landcolor": "#E5ECF6",
           "subunitcolor": "white",
           "showland": true,
           "showlakes": true,
           "lakecolor": "white"
          },
          "title": {
           "x": 0.05
          },
          "mapbox": {
           "style": "light"
          }
         }
        }
       },
       "config": {
        "plotlyServerURL": "https://plot.ly"
       }
      },
      "text/html": [
       "<div>                            <div id=\"7bd8c459-44ac-48db-994d-b572c126200d\" class=\"plotly-graph-div\" style=\"height:525px; width:100%;\"></div>            <script type=\"text/javascript\">                require([\"plotly\"], function(Plotly) {                    window.PLOTLYENV=window.PLOTLYENV || {};                                    if (document.getElementById(\"7bd8c459-44ac-48db-994d-b572c126200d\")) {                    Plotly.newPlot(                        \"7bd8c459-44ac-48db-994d-b572c126200d\",                        [{\"marker\":{\"color\":\"#8e2c50\"},\"visible\":\"legendonly\",\"x\":[\"1880, 1885\",\"1885, 1890\",\"1890, 1895\",\"1895, 1900\",\"1900, 1905\",\"1905, 1910\",\"1910, 1915\",\"1915, 1920\",\"1920, 1925\",\"1925, 1930\",\"1930, 1935\",\"1935, 1940\",\"1940, 1945\",\"1945, 1950\",\"1950, 1955\",\"1955, 1960\",\"1960, 1965\",\"1965, 1970\",\"1970, 1975\",\"1975, 1980\",\"1980, 1985\",\"1985, 1990\",\"1990, 1995\",\"1995, 2000\",\"2000, 2005\",\"2005, 2010\"],\"y\":[0,4,36,144,53,151,1340,1612,1336,1568,2341,2609,2221,2340,2900,2757,2908,3078,3433,3324,3493,4033,4396,5545,8453,9535],\"type\":\"bar\"},{\"marker\":{\"color\":\"#9ebbc9\"},\"visible\":\"legendonly\",\"x\":[\"1880, 1885\",\"1885, 1890\",\"1890, 1895\",\"1895, 1900\",\"1900, 1905\",\"1905, 1910\",\"1910, 1915\",\"1915, 1920\",\"1920, 1925\",\"1925, 1930\",\"1930, 1935\",\"1935, 1940\",\"1940, 1945\",\"1945, 1950\",\"1950, 1955\",\"1955, 1960\",\"1960, 1965\",\"1965, 1970\",\"1970, 1975\",\"1975, 1980\",\"1980, 1985\",\"1985, 1990\",\"1990, 1995\",\"1995, 2000\",\"2000, 2005\",\"2005, 2010\"],\"y\":[0,0,0,0,0,1,0,1,1,1,5,9,13,2,5,10,8,17,26,32,33,62,49,39,53,50],\"type\":\"bar\"},{\"marker\":{\"color\":\"#6785be\"},\"visible\":\"legendonly\",\"x\":[\"1880, 1885\",\"1885, 1890\",\"1890, 1895\",\"1895, 1900\",\"1900, 1905\",\"1905, 1910\",\"1910, 1915\",\"1915, 1920\",\"1920, 1925\",\"1925, 1930\",\"1930, 1935\",\"1935, 1940\",\"1940, 1945\",\"1945, 1950\",\"1950, 1955\",\"1955, 1960\",\"1960, 1965\",\"1965, 1970\",\"1970, 1975\",\"1975, 1980\",\"1980, 1985\",\"1985, 1990\",\"1990, 1995\",\"1995, 2000\",\"2000, 2005\",\"2005, 2010\"],\"y\":[0,0,0,0,1,4,3,14,20,23,56,60,39,66,49,99,90,115,119,117,130,115,110,166,181,156],\"type\":\"bar\"},{\"marker\":{\"color\":\"#5e43a5\"},\"visible\":\"legendonly\",\"x\":[\"1880, 1885\",\"1885, 1890\",\"1890, 1895\",\"1895, 1900\",\"1900, 1905\",\"1905, 1910\",\"1910, 1915\",\"1915, 1920\",\"1920, 1925\",\"1925, 1930\",\"1930, 1935\",\"1935, 1940\",\"1940, 1945\",\"1945, 1950\",\"1950, 1955\",\"1955, 1960\",\"1960, 1965\",\"1965, 1970\",\"1970, 1975\",\"1975, 1980\",\"1980, 1985\",\"1985, 1990\",\"1990, 1995\",\"1995, 2000\",\"2000, 2005\",\"2005, 2010\"],\"y\":[0,0,0,0,0,0,0,0,0,0,0,1,2,0,2,0,1,4,5,7,11,11,18,15,30,33],\"type\":\"bar\"},{\"marker\":{\"color\":\"#421257\"},\"visible\":\"legendonly\",\"x\":[\"1880, 1885\",\"1885, 1890\",\"1890, 1895\",\"1895, 1900\",\"1900, 1905\",\"1905, 1910\",\"1910, 1915\",\"1915, 1920\",\"1920, 1925\",\"1925, 1930\",\"1930, 1935\",\"1935, 1940\",\"1940, 1945\",\"1945, 1950\",\"1950, 1955\",\"1955, 1960\",\"1960, 1965\",\"1965, 1970\",\"1970, 1975\",\"1975, 1980\",\"1980, 1985\",\"1985, 1990\",\"1990, 1995\",\"1995, 2000\",\"2000, 2005\",\"2005, 2010\"],\"y\":[0,0,0,2,0,0,0,0,3,4,5,8,5,9,10,13,7,7,6,13,20,28,24,29,57,61],\"type\":\"bar\"},{\"marker\":{\"color\":\"#471340\"},\"visible\":\"legendonly\",\"x\":[\"1880, 1885\",\"1885, 1890\",\"1890, 1895\",\"1895, 1900\",\"1900, 1905\",\"1905, 1910\",\"1910, 1915\",\"1915, 1920\",\"1920, 1925\",\"1925, 1930\",\"1930, 1935\",\"1935, 1940\",\"1940, 1945\",\"1945, 1950\",\"1950, 1955\",\"1955, 1960\",\"1960, 1965\",\"1965, 1970\",\"1970, 1975\",\"1975, 1980\",\"1980, 1985\",\"1985, 1990\",\"1990, 1995\",\"1995, 2000\",\"2000, 2005\",\"2005, 2010\"],\"y\":[0,0,0,2,1,5,3,15,24,28,66,78,59,77,66,122,106,143,156,169,194,216,201,249,321,300],\"type\":\"bar\"}],                        {\"title\":{\"text\":\"Number of movies per 5 years splits\"},\"updatemenus\":[{\"buttons\":[{\"args\":[{\"visible\":[true,false,false,false,false,false]},{\"yaxis\":{\"range\":[0,9635],\"title\":\"Number of movies\"}},{\"xaxis\":{\"title\":\"Year\",\"tickangle\":45}}],\"label\":\"Movies\",\"method\":\"update\"},{\"args\":[{\"visible\":[false,true,false,false,false,false]},{\"yaxis\":{\"range\":[0,181],\"title\":\"Number of movies\"}},{\"xaxis\":{\"title\":\"Year\",\"tickangle\":45}}],\"label\":\"Sequels\",\"method\":\"update\"},{\"args\":[{\"visible\":[false,false,true,false,false,false]},{\"yaxis\":{\"range\":[0,181],\"title\":\"Number of movies\"}},{\"xaxis\":{\"title\":\"Year\",\"tickangle\":45}}],\"label\":\"Books\",\"method\":\"update\"},{\"args\":[{\"visible\":[false,false,false,true,false,false]},{\"yaxis\":{\"range\":[0,181],\"title\":\"Number of movies\"}},{\"xaxis\":{\"title\":\"Year\",\"tickangle\":45}}],\"label\":\"Comics\",\"method\":\"update\"},{\"args\":[{\"visible\":[false,false,false,false,true,false]},{\"yaxis\":{\"range\":[0,181],\"title\":\"Number of movies\"}},{\"xaxis\":{\"title\":\"Year\",\"tickangle\":45}}],\"label\":\"Remakes\",\"method\":\"update\"},{\"args\":[{\"visible\":[false,false,false,false,false,true]},{\"yaxis\":{\"range\":[0,331],\"title\":\"Number of movies\"}},{\"xaxis\":{\"title\":\"Year\",\"tickangle\":45}}],\"label\":\"All non-original movies\",\"method\":\"update\"}],\"direction\":\"left\",\"pad\":{\"r\":10,\"t\":10},\"showactive\":true,\"type\":\"buttons\",\"x\":0,\"xanchor\":\"left\",\"y\":1.2,\"yanchor\":\"top\"}],\"xaxis\":{\"tickangle\":45,\"tickvals\":[\"1880, 1885\",\"1885, 1890\",\"1890, 1895\",\"1895, 1900\",\"1900, 1905\",\"1905, 1910\",\"1910, 1915\",\"1915, 1920\",\"1920, 1925\",\"1925, 1930\",\"1930, 1935\",\"1935, 1940\",\"1940, 1945\",\"1945, 1950\",\"1950, 1955\",\"1955, 1960\",\"1960, 1965\",\"1965, 1970\",\"1970, 1975\",\"1975, 1980\",\"1980, 1985\",\"1985, 1990\",\"1990, 1995\",\"1995, 2000\",\"2000, 2005\",\"2005, 2010\"],\"title\":{\"text\":\"Year\"}},\"template\":{\"data\":{\"histogram2dcontour\":[{\"type\":\"histogram2dcontour\",\"colorbar\":{\"outlinewidth\":0,\"ticks\":\"\"},\"colorscale\":[[0.0,\"#0d0887\"],[0.1111111111111111,\"#46039f\"],[0.2222222222222222,\"#7201a8\"],[0.3333333333333333,\"#9c179e\"],[0.4444444444444444,\"#bd3786\"],[0.5555555555555556,\"#d8576b\"],[0.6666666666666666,\"#ed7953\"],[0.7777777777777778,\"#fb9f3a\"],[0.8888888888888888,\"#fdca26\"],[1.0,\"#f0f921\"]]}],\"choropleth\":[{\"type\":\"choropleth\",\"colorbar\":{\"outlinewidth\":0,\"ticks\":\"\"}}],\"histogram2d\":[{\"type\":\"histogram2d\",\"colorbar\":{\"outlinewidth\":0,\"ticks\":\"\"},\"colorscale\":[[0.0,\"#0d0887\"],[0.1111111111111111,\"#46039f\"],[0.2222222222222222,\"#7201a8\"],[0.3333333333333333,\"#9c179e\"],[0.4444444444444444,\"#bd3786\"],[0.5555555555555556,\"#d8576b\"],[0.6666666666666666,\"#ed7953\"],[0.7777777777777778,\"#fb9f3a\"],[0.8888888888888888,\"#fdca26\"],[1.0,\"#f0f921\"]]}],\"heatmap\":[{\"type\":\"heatmap\",\"colorbar\":{\"outlinewidth\":0,\"ticks\":\"\"},\"colorscale\":[[0.0,\"#0d0887\"],[0.1111111111111111,\"#46039f\"],[0.2222222222222222,\"#7201a8\"],[0.3333333333333333,\"#9c179e\"],[0.4444444444444444,\"#bd3786\"],[0.5555555555555556,\"#d8576b\"],[0.6666666666666666,\"#ed7953\"],[0.7777777777777778,\"#fb9f3a\"],[0.8888888888888888,\"#fdca26\"],[1.0,\"#f0f921\"]]}],\"heatmapgl\":[{\"type\":\"heatmapgl\",\"colorbar\":{\"outlinewidth\":0,\"ticks\":\"\"},\"colorscale\":[[0.0,\"#0d0887\"],[0.1111111111111111,\"#46039f\"],[0.2222222222222222,\"#7201a8\"],[0.3333333333333333,\"#9c179e\"],[0.4444444444444444,\"#bd3786\"],[0.5555555555555556,\"#d8576b\"],[0.6666666666666666,\"#ed7953\"],[0.7777777777777778,\"#fb9f3a\"],[0.8888888888888888,\"#fdca26\"],[1.0,\"#f0f921\"]]}],\"contourcarpet\":[{\"type\":\"contourcarpet\",\"colorbar\":{\"outlinewidth\":0,\"ticks\":\"\"}}],\"contour\":[{\"type\":\"contour\",\"colorbar\":{\"outlinewidth\":0,\"ticks\":\"\"},\"colorscale\":[[0.0,\"#0d0887\"],[0.1111111111111111,\"#46039f\"],[0.2222222222222222,\"#7201a8\"],[0.3333333333333333,\"#9c179e\"],[0.4444444444444444,\"#bd3786\"],[0.5555555555555556,\"#d8576b\"],[0.6666666666666666,\"#ed7953\"],[0.7777777777777778,\"#fb9f3a\"],[0.8888888888888888,\"#fdca26\"],[1.0,\"#f0f921\"]]}],\"surface\":[{\"type\":\"surface\",\"colorbar\":{\"outlinewidth\":0,\"ticks\":\"\"},\"colorscale\":[[0.0,\"#0d0887\"],[0.1111111111111111,\"#46039f\"],[0.2222222222222222,\"#7201a8\"],[0.3333333333333333,\"#9c179e\"],[0.4444444444444444,\"#bd3786\"],[0.5555555555555556,\"#d8576b\"],[0.6666666666666666,\"#ed7953\"],[0.7777777777777778,\"#fb9f3a\"],[0.8888888888888888,\"#fdca26\"],[1.0,\"#f0f921\"]]}],\"mesh3d\":[{\"type\":\"mesh3d\",\"colorbar\":{\"outlinewidth\":0,\"ticks\":\"\"}}],\"scatter\":[{\"fillpattern\":{\"fillmode\":\"overlay\",\"size\":10,\"solidity\":0.2},\"type\":\"scatter\"}],\"parcoords\":[{\"type\":\"parcoords\",\"line\":{\"colorbar\":{\"outlinewidth\":0,\"ticks\":\"\"}}}],\"scatterpolargl\":[{\"type\":\"scatterpolargl\",\"marker\":{\"colorbar\":{\"outlinewidth\":0,\"ticks\":\"\"}}}],\"bar\":[{\"error_x\":{\"color\":\"#2a3f5f\"},\"error_y\":{\"color\":\"#2a3f5f\"},\"marker\":{\"line\":{\"color\":\"#E5ECF6\",\"width\":0.5},\"pattern\":{\"fillmode\":\"overlay\",\"size\":10,\"solidity\":0.2}},\"type\":\"bar\"}],\"scattergeo\":[{\"type\":\"scattergeo\",\"marker\":{\"colorbar\":{\"outlinewidth\":0,\"ticks\":\"\"}}}],\"scatterpolar\":[{\"type\":\"scatterpolar\",\"marker\":{\"colorbar\":{\"outlinewidth\":0,\"ticks\":\"\"}}}],\"histogram\":[{\"marker\":{\"pattern\":{\"fillmode\":\"overlay\",\"size\":10,\"solidity\":0.2}},\"type\":\"histogram\"}],\"scattergl\":[{\"type\":\"scattergl\",\"marker\":{\"colorbar\":{\"outlinewidth\":0,\"ticks\":\"\"}}}],\"scatter3d\":[{\"type\":\"scatter3d\",\"line\":{\"colorbar\":{\"outlinewidth\":0,\"ticks\":\"\"}},\"marker\":{\"colorbar\":{\"outlinewidth\":0,\"ticks\":\"\"}}}],\"scattermapbox\":[{\"type\":\"scattermapbox\",\"marker\":{\"colorbar\":{\"outlinewidth\":0,\"ticks\":\"\"}}}],\"scatterternary\":[{\"type\":\"scatterternary\",\"marker\":{\"colorbar\":{\"outlinewidth\":0,\"ticks\":\"\"}}}],\"scattercarpet\":[{\"type\":\"scattercarpet\",\"marker\":{\"colorbar\":{\"outlinewidth\":0,\"ticks\":\"\"}}}],\"carpet\":[{\"aaxis\":{\"endlinecolor\":\"#2a3f5f\",\"gridcolor\":\"white\",\"linecolor\":\"white\",\"minorgridcolor\":\"white\",\"startlinecolor\":\"#2a3f5f\"},\"baxis\":{\"endlinecolor\":\"#2a3f5f\",\"gridcolor\":\"white\",\"linecolor\":\"white\",\"minorgridcolor\":\"white\",\"startlinecolor\":\"#2a3f5f\"},\"type\":\"carpet\"}],\"table\":[{\"cells\":{\"fill\":{\"color\":\"#EBF0F8\"},\"line\":{\"color\":\"white\"}},\"header\":{\"fill\":{\"color\":\"#C8D4E3\"},\"line\":{\"color\":\"white\"}},\"type\":\"table\"}],\"barpolar\":[{\"marker\":{\"line\":{\"color\":\"#E5ECF6\",\"width\":0.5},\"pattern\":{\"fillmode\":\"overlay\",\"size\":10,\"solidity\":0.2}},\"type\":\"barpolar\"}],\"pie\":[{\"automargin\":true,\"type\":\"pie\"}]},\"layout\":{\"autotypenumbers\":\"strict\",\"colorway\":[\"#636efa\",\"#EF553B\",\"#00cc96\",\"#ab63fa\",\"#FFA15A\",\"#19d3f3\",\"#FF6692\",\"#B6E880\",\"#FF97FF\",\"#FECB52\"],\"font\":{\"color\":\"#2a3f5f\"},\"hovermode\":\"closest\",\"hoverlabel\":{\"align\":\"left\"},\"paper_bgcolor\":\"white\",\"plot_bgcolor\":\"#E5ECF6\",\"polar\":{\"bgcolor\":\"#E5ECF6\",\"angularaxis\":{\"gridcolor\":\"white\",\"linecolor\":\"white\",\"ticks\":\"\"},\"radialaxis\":{\"gridcolor\":\"white\",\"linecolor\":\"white\",\"ticks\":\"\"}},\"ternary\":{\"bgcolor\":\"#E5ECF6\",\"aaxis\":{\"gridcolor\":\"white\",\"linecolor\":\"white\",\"ticks\":\"\"},\"baxis\":{\"gridcolor\":\"white\",\"linecolor\":\"white\",\"ticks\":\"\"},\"caxis\":{\"gridcolor\":\"white\",\"linecolor\":\"white\",\"ticks\":\"\"}},\"coloraxis\":{\"colorbar\":{\"outlinewidth\":0,\"ticks\":\"\"}},\"colorscale\":{\"sequential\":[[0.0,\"#0d0887\"],[0.1111111111111111,\"#46039f\"],[0.2222222222222222,\"#7201a8\"],[0.3333333333333333,\"#9c179e\"],[0.4444444444444444,\"#bd3786\"],[0.5555555555555556,\"#d8576b\"],[0.6666666666666666,\"#ed7953\"],[0.7777777777777778,\"#fb9f3a\"],[0.8888888888888888,\"#fdca26\"],[1.0,\"#f0f921\"]],\"sequentialminus\":[[0.0,\"#0d0887\"],[0.1111111111111111,\"#46039f\"],[0.2222222222222222,\"#7201a8\"],[0.3333333333333333,\"#9c179e\"],[0.4444444444444444,\"#bd3786\"],[0.5555555555555556,\"#d8576b\"],[0.6666666666666666,\"#ed7953\"],[0.7777777777777778,\"#fb9f3a\"],[0.8888888888888888,\"#fdca26\"],[1.0,\"#f0f921\"]],\"diverging\":[[0,\"#8e0152\"],[0.1,\"#c51b7d\"],[0.2,\"#de77ae\"],[0.3,\"#f1b6da\"],[0.4,\"#fde0ef\"],[0.5,\"#f7f7f7\"],[0.6,\"#e6f5d0\"],[0.7,\"#b8e186\"],[0.8,\"#7fbc41\"],[0.9,\"#4d9221\"],[1,\"#276419\"]]},\"xaxis\":{\"gridcolor\":\"white\",\"linecolor\":\"white\",\"ticks\":\"\",\"title\":{\"standoff\":15},\"zerolinecolor\":\"white\",\"automargin\":true,\"zerolinewidth\":2},\"yaxis\":{\"gridcolor\":\"white\",\"linecolor\":\"white\",\"ticks\":\"\",\"title\":{\"standoff\":15},\"zerolinecolor\":\"white\",\"automargin\":true,\"zerolinewidth\":2},\"scene\":{\"xaxis\":{\"backgroundcolor\":\"#E5ECF6\",\"gridcolor\":\"white\",\"linecolor\":\"white\",\"showbackground\":true,\"ticks\":\"\",\"zerolinecolor\":\"white\",\"gridwidth\":2},\"yaxis\":{\"backgroundcolor\":\"#E5ECF6\",\"gridcolor\":\"white\",\"linecolor\":\"white\",\"showbackground\":true,\"ticks\":\"\",\"zerolinecolor\":\"white\",\"gridwidth\":2},\"zaxis\":{\"backgroundcolor\":\"#E5ECF6\",\"gridcolor\":\"white\",\"linecolor\":\"white\",\"showbackground\":true,\"ticks\":\"\",\"zerolinecolor\":\"white\",\"gridwidth\":2}},\"shapedefaults\":{\"line\":{\"color\":\"#2a3f5f\"}},\"annotationdefaults\":{\"arrowcolor\":\"#2a3f5f\",\"arrowhead\":0,\"arrowwidth\":1},\"geo\":{\"bgcolor\":\"white\",\"landcolor\":\"#E5ECF6\",\"subunitcolor\":\"white\",\"showland\":true,\"showlakes\":true,\"lakecolor\":\"white\"},\"title\":{\"x\":0.05},\"mapbox\":{\"style\":\"light\"}}}},                        {\"responsive\": true}                    ).then(function(){\n",
       "                            \n",
       "var gd = document.getElementById('7bd8c459-44ac-48db-994d-b572c126200d');\n",
       "var x = new MutationObserver(function (mutations, observer) {{\n",
       "        var display = window.getComputedStyle(gd).display;\n",
       "        if (!display || display === 'none') {{\n",
       "            console.log([gd, 'removed!']);\n",
       "            Plotly.purge(gd);\n",
       "            observer.disconnect();\n",
       "        }}\n",
       "}});\n",
       "\n",
       "// Listen for the removal of the full notebook cells\n",
       "var notebookContainer = gd.closest('#notebook-container');\n",
       "if (notebookContainer) {{\n",
       "    x.observe(notebookContainer, {childList: true});\n",
       "}}\n",
       "\n",
       "// Listen for the clearing of the current output cell\n",
       "var outputEl = gd.closest('.output');\n",
       "if (outputEl) {{\n",
       "    x.observe(outputEl, {childList: true});\n",
       "}}\n",
       "\n",
       "                        })                };                });            </script>        </div>"
      ]
     },
     "metadata": {},
     "output_type": "display_data"
    }
   ],
   "execution_count": 263
  },
  {
   "cell_type": "code",
   "id": "7ad120e2e96a709b",
   "metadata": {
    "ExecuteTime": {
     "end_time": "2024-12-15T20:39:20.393759Z",
     "start_time": "2024-12-15T20:39:20.062107Z"
    }
   },
   "source": [
    "movie_frames_new.drop_different_years()\n",
    "movie_frames_new.drop_impossible_years()\n",
    "movie_frames_concat = movie_frames_old.concat_movie_frame(movie_frames_new)\n",
    "fig = get_movie_counter_figure(movie_frames_concat)\n",
    "fig"
   ],
   "outputs": [
    {
     "data": {
      "application/vnd.plotly.v1+json": {
       "data": [
        {
         "marker": {
          "color": "#8e2c50"
         },
         "visible": "legendonly",
         "x": [
          "1880, 1885",
          "1885, 1890",
          "1890, 1895",
          "1895, 1900",
          "1900, 1905",
          "1905, 1910",
          "1910, 1915",
          "1915, 1920",
          "1920, 1925",
          "1925, 1930",
          "1930, 1935",
          "1935, 1940",
          "1940, 1945",
          "1945, 1950",
          "1950, 1955",
          "1955, 1960",
          "1960, 1965",
          "1965, 1970",
          "1970, 1975",
          "1975, 1980",
          "1980, 1985",
          "1985, 1990",
          "1990, 1995",
          "1995, 2000",
          "2000, 2005",
          "2005, 2010",
          "2010, 2015",
          "2015, 2020",
          "2020, 2025"
         ],
         "y": [
          0,
          4,
          36,
          144,
          53,
          151,
          1340,
          1612,
          1336,
          1568,
          2341,
          2609,
          2221,
          2340,
          2900,
          2757,
          2908,
          3078,
          3433,
          3324,
          3493,
          4033,
          4396,
          5545,
          8453,
          11645,
          13277,
          15549,
          7273
         ],
         "type": "bar"
        },
        {
         "marker": {
          "color": "#9ebbc9"
         },
         "visible": "legendonly",
         "x": [
          "1880, 1885",
          "1885, 1890",
          "1890, 1895",
          "1895, 1900",
          "1900, 1905",
          "1905, 1910",
          "1910, 1915",
          "1915, 1920",
          "1920, 1925",
          "1925, 1930",
          "1930, 1935",
          "1935, 1940",
          "1940, 1945",
          "1945, 1950",
          "1950, 1955",
          "1955, 1960",
          "1960, 1965",
          "1965, 1970",
          "1970, 1975",
          "1975, 1980",
          "1980, 1985",
          "1985, 1990",
          "1990, 1995",
          "1995, 2000",
          "2000, 2005",
          "2005, 2010",
          "2010, 2015",
          "2015, 2020",
          "2020, 2025"
         ],
         "y": [
          0,
          0,
          0,
          0,
          0,
          1,
          0,
          1,
          1,
          1,
          5,
          9,
          13,
          2,
          5,
          10,
          8,
          17,
          26,
          32,
          33,
          62,
          49,
          39,
          53,
          68,
          175,
          274,
          182
         ],
         "type": "bar"
        },
        {
         "marker": {
          "color": "#6785be"
         },
         "visible": "legendonly",
         "x": [
          "1880, 1885",
          "1885, 1890",
          "1890, 1895",
          "1895, 1900",
          "1900, 1905",
          "1905, 1910",
          "1910, 1915",
          "1915, 1920",
          "1920, 1925",
          "1925, 1930",
          "1930, 1935",
          "1935, 1940",
          "1940, 1945",
          "1945, 1950",
          "1950, 1955",
          "1955, 1960",
          "1960, 1965",
          "1965, 1970",
          "1970, 1975",
          "1975, 1980",
          "1980, 1985",
          "1985, 1990",
          "1990, 1995",
          "1995, 2000",
          "2000, 2005",
          "2005, 2010",
          "2010, 2015",
          "2015, 2020",
          "2020, 2025"
         ],
         "y": [
          0,
          0,
          0,
          0,
          1,
          4,
          3,
          14,
          20,
          23,
          56,
          60,
          39,
          66,
          49,
          99,
          90,
          115,
          119,
          117,
          130,
          115,
          110,
          166,
          181,
          223,
          423,
          653,
          454
         ],
         "type": "bar"
        },
        {
         "marker": {
          "color": "#5e43a5"
         },
         "visible": "legendonly",
         "x": [
          "1880, 1885",
          "1885, 1890",
          "1890, 1895",
          "1895, 1900",
          "1900, 1905",
          "1905, 1910",
          "1910, 1915",
          "1915, 1920",
          "1920, 1925",
          "1925, 1930",
          "1930, 1935",
          "1935, 1940",
          "1940, 1945",
          "1945, 1950",
          "1950, 1955",
          "1955, 1960",
          "1960, 1965",
          "1965, 1970",
          "1970, 1975",
          "1975, 1980",
          "1980, 1985",
          "1985, 1990",
          "1990, 1995",
          "1995, 2000",
          "2000, 2005",
          "2005, 2010",
          "2010, 2015",
          "2015, 2020",
          "2020, 2025"
         ],
         "y": [
          0,
          0,
          0,
          0,
          0,
          0,
          0,
          0,
          0,
          0,
          0,
          1,
          2,
          0,
          2,
          0,
          1,
          4,
          5,
          7,
          11,
          11,
          18,
          15,
          30,
          53,
          116,
          128,
          60
         ],
         "type": "bar"
        },
        {
         "marker": {
          "color": "#421257"
         },
         "visible": "legendonly",
         "x": [
          "1880, 1885",
          "1885, 1890",
          "1890, 1895",
          "1895, 1900",
          "1900, 1905",
          "1905, 1910",
          "1910, 1915",
          "1915, 1920",
          "1920, 1925",
          "1925, 1930",
          "1930, 1935",
          "1935, 1940",
          "1940, 1945",
          "1945, 1950",
          "1950, 1955",
          "1955, 1960",
          "1960, 1965",
          "1965, 1970",
          "1970, 1975",
          "1975, 1980",
          "1980, 1985",
          "1985, 1990",
          "1990, 1995",
          "1995, 2000",
          "2000, 2005",
          "2005, 2010",
          "2010, 2015",
          "2015, 2020",
          "2020, 2025"
         ],
         "y": [
          0,
          0,
          0,
          2,
          0,
          0,
          0,
          0,
          3,
          4,
          5,
          8,
          5,
          9,
          10,
          13,
          7,
          7,
          6,
          13,
          20,
          28,
          24,
          29,
          57,
          80,
          111,
          178,
          100
         ],
         "type": "bar"
        },
        {
         "marker": {
          "color": "#471340"
         },
         "visible": "legendonly",
         "x": [
          "1880, 1885",
          "1885, 1890",
          "1890, 1895",
          "1895, 1900",
          "1900, 1905",
          "1905, 1910",
          "1910, 1915",
          "1915, 1920",
          "1920, 1925",
          "1925, 1930",
          "1930, 1935",
          "1935, 1940",
          "1940, 1945",
          "1945, 1950",
          "1950, 1955",
          "1955, 1960",
          "1960, 1965",
          "1965, 1970",
          "1970, 1975",
          "1975, 1980",
          "1980, 1985",
          "1985, 1990",
          "1990, 1995",
          "1995, 2000",
          "2000, 2005",
          "2005, 2010",
          "2010, 2015",
          "2015, 2020",
          "2020, 2025"
         ],
         "y": [
          0,
          0,
          0,
          2,
          1,
          5,
          3,
          15,
          24,
          28,
          66,
          78,
          59,
          77,
          66,
          122,
          106,
          143,
          156,
          169,
          194,
          216,
          201,
          249,
          321,
          424,
          825,
          1233,
          796
         ],
         "type": "bar"
        }
       ],
       "layout": {
        "title": {
         "text": "Number of movies per 5 years splits"
        },
        "updatemenus": [
         {
          "buttons": [
           {
            "args": [
             {
              "visible": [
               true,
               false,
               false,
               false,
               false,
               false
              ]
             },
             {
              "yaxis": {
               "range": [
                0,
                15649
               ],
               "title": "Number of movies"
              }
             },
             {
              "xaxis": {
               "title": "Year",
               "tickangle": 45
              }
             }
            ],
            "label": "Movies",
            "method": "update"
           },
           {
            "args": [
             {
              "visible": [
               false,
               true,
               false,
               false,
               false,
               false
              ]
             },
             {
              "yaxis": {
               "range": [
                0,
                653
               ],
               "title": "Number of movies"
              }
             },
             {
              "xaxis": {
               "title": "Year",
               "tickangle": 45
              }
             }
            ],
            "label": "Sequels",
            "method": "update"
           },
           {
            "args": [
             {
              "visible": [
               false,
               false,
               true,
               false,
               false,
               false
              ]
             },
             {
              "yaxis": {
               "range": [
                0,
                653
               ],
               "title": "Number of movies"
              }
             },
             {
              "xaxis": {
               "title": "Year",
               "tickangle": 45
              }
             }
            ],
            "label": "Books",
            "method": "update"
           },
           {
            "args": [
             {
              "visible": [
               false,
               false,
               false,
               true,
               false,
               false
              ]
             },
             {
              "yaxis": {
               "range": [
                0,
                653
               ],
               "title": "Number of movies"
              }
             },
             {
              "xaxis": {
               "title": "Year",
               "tickangle": 45
              }
             }
            ],
            "label": "Comics",
            "method": "update"
           },
           {
            "args": [
             {
              "visible": [
               false,
               false,
               false,
               false,
               true,
               false
              ]
             },
             {
              "yaxis": {
               "range": [
                0,
                653
               ],
               "title": "Number of movies"
              }
             },
             {
              "xaxis": {
               "title": "Year",
               "tickangle": 45
              }
             }
            ],
            "label": "Remakes",
            "method": "update"
           },
           {
            "args": [
             {
              "visible": [
               false,
               false,
               false,
               false,
               false,
               true
              ]
             },
             {
              "yaxis": {
               "range": [
                0,
                1243
               ],
               "title": "Number of movies"
              }
             },
             {
              "xaxis": {
               "title": "Year",
               "tickangle": 45
              }
             }
            ],
            "label": "All non-original movies",
            "method": "update"
           }
          ],
          "direction": "left",
          "pad": {
           "r": 10,
           "t": 10
          },
          "showactive": true,
          "type": "buttons",
          "x": 0,
          "xanchor": "left",
          "y": 1.2,
          "yanchor": "top"
         }
        ],
        "xaxis": {
         "tickangle": 45,
         "tickvals": [
          "1880, 1885",
          "1885, 1890",
          "1890, 1895",
          "1895, 1900",
          "1900, 1905",
          "1905, 1910",
          "1910, 1915",
          "1915, 1920",
          "1920, 1925",
          "1925, 1930",
          "1930, 1935",
          "1935, 1940",
          "1940, 1945",
          "1945, 1950",
          "1950, 1955",
          "1955, 1960",
          "1960, 1965",
          "1965, 1970",
          "1970, 1975",
          "1975, 1980",
          "1980, 1985",
          "1985, 1990",
          "1990, 1995",
          "1995, 2000",
          "2000, 2005",
          "2005, 2010",
          "2010, 2015",
          "2015, 2020",
          "2020, 2025"
         ],
         "title": {
          "text": "Year"
         }
        },
        "template": {
         "data": {
          "histogram2dcontour": [
           {
            "type": "histogram2dcontour",
            "colorbar": {
             "outlinewidth": 0,
             "ticks": ""
            },
            "colorscale": [
             [
              0.0,
              "#0d0887"
             ],
             [
              0.1111111111111111,
              "#46039f"
             ],
             [
              0.2222222222222222,
              "#7201a8"
             ],
             [
              0.3333333333333333,
              "#9c179e"
             ],
             [
              0.4444444444444444,
              "#bd3786"
             ],
             [
              0.5555555555555556,
              "#d8576b"
             ],
             [
              0.6666666666666666,
              "#ed7953"
             ],
             [
              0.7777777777777778,
              "#fb9f3a"
             ],
             [
              0.8888888888888888,
              "#fdca26"
             ],
             [
              1.0,
              "#f0f921"
             ]
            ]
           }
          ],
          "choropleth": [
           {
            "type": "choropleth",
            "colorbar": {
             "outlinewidth": 0,
             "ticks": ""
            }
           }
          ],
          "histogram2d": [
           {
            "type": "histogram2d",
            "colorbar": {
             "outlinewidth": 0,
             "ticks": ""
            },
            "colorscale": [
             [
              0.0,
              "#0d0887"
             ],
             [
              0.1111111111111111,
              "#46039f"
             ],
             [
              0.2222222222222222,
              "#7201a8"
             ],
             [
              0.3333333333333333,
              "#9c179e"
             ],
             [
              0.4444444444444444,
              "#bd3786"
             ],
             [
              0.5555555555555556,
              "#d8576b"
             ],
             [
              0.6666666666666666,
              "#ed7953"
             ],
             [
              0.7777777777777778,
              "#fb9f3a"
             ],
             [
              0.8888888888888888,
              "#fdca26"
             ],
             [
              1.0,
              "#f0f921"
             ]
            ]
           }
          ],
          "heatmap": [
           {
            "type": "heatmap",
            "colorbar": {
             "outlinewidth": 0,
             "ticks": ""
            },
            "colorscale": [
             [
              0.0,
              "#0d0887"
             ],
             [
              0.1111111111111111,
              "#46039f"
             ],
             [
              0.2222222222222222,
              "#7201a8"
             ],
             [
              0.3333333333333333,
              "#9c179e"
             ],
             [
              0.4444444444444444,
              "#bd3786"
             ],
             [
              0.5555555555555556,
              "#d8576b"
             ],
             [
              0.6666666666666666,
              "#ed7953"
             ],
             [
              0.7777777777777778,
              "#fb9f3a"
             ],
             [
              0.8888888888888888,
              "#fdca26"
             ],
             [
              1.0,
              "#f0f921"
             ]
            ]
           }
          ],
          "heatmapgl": [
           {
            "type": "heatmapgl",
            "colorbar": {
             "outlinewidth": 0,
             "ticks": ""
            },
            "colorscale": [
             [
              0.0,
              "#0d0887"
             ],
             [
              0.1111111111111111,
              "#46039f"
             ],
             [
              0.2222222222222222,
              "#7201a8"
             ],
             [
              0.3333333333333333,
              "#9c179e"
             ],
             [
              0.4444444444444444,
              "#bd3786"
             ],
             [
              0.5555555555555556,
              "#d8576b"
             ],
             [
              0.6666666666666666,
              "#ed7953"
             ],
             [
              0.7777777777777778,
              "#fb9f3a"
             ],
             [
              0.8888888888888888,
              "#fdca26"
             ],
             [
              1.0,
              "#f0f921"
             ]
            ]
           }
          ],
          "contourcarpet": [
           {
            "type": "contourcarpet",
            "colorbar": {
             "outlinewidth": 0,
             "ticks": ""
            }
           }
          ],
          "contour": [
           {
            "type": "contour",
            "colorbar": {
             "outlinewidth": 0,
             "ticks": ""
            },
            "colorscale": [
             [
              0.0,
              "#0d0887"
             ],
             [
              0.1111111111111111,
              "#46039f"
             ],
             [
              0.2222222222222222,
              "#7201a8"
             ],
             [
              0.3333333333333333,
              "#9c179e"
             ],
             [
              0.4444444444444444,
              "#bd3786"
             ],
             [
              0.5555555555555556,
              "#d8576b"
             ],
             [
              0.6666666666666666,
              "#ed7953"
             ],
             [
              0.7777777777777778,
              "#fb9f3a"
             ],
             [
              0.8888888888888888,
              "#fdca26"
             ],
             [
              1.0,
              "#f0f921"
             ]
            ]
           }
          ],
          "surface": [
           {
            "type": "surface",
            "colorbar": {
             "outlinewidth": 0,
             "ticks": ""
            },
            "colorscale": [
             [
              0.0,
              "#0d0887"
             ],
             [
              0.1111111111111111,
              "#46039f"
             ],
             [
              0.2222222222222222,
              "#7201a8"
             ],
             [
              0.3333333333333333,
              "#9c179e"
             ],
             [
              0.4444444444444444,
              "#bd3786"
             ],
             [
              0.5555555555555556,
              "#d8576b"
             ],
             [
              0.6666666666666666,
              "#ed7953"
             ],
             [
              0.7777777777777778,
              "#fb9f3a"
             ],
             [
              0.8888888888888888,
              "#fdca26"
             ],
             [
              1.0,
              "#f0f921"
             ]
            ]
           }
          ],
          "mesh3d": [
           {
            "type": "mesh3d",
            "colorbar": {
             "outlinewidth": 0,
             "ticks": ""
            }
           }
          ],
          "scatter": [
           {
            "fillpattern": {
             "fillmode": "overlay",
             "size": 10,
             "solidity": 0.2
            },
            "type": "scatter"
           }
          ],
          "parcoords": [
           {
            "type": "parcoords",
            "line": {
             "colorbar": {
              "outlinewidth": 0,
              "ticks": ""
             }
            }
           }
          ],
          "scatterpolargl": [
           {
            "type": "scatterpolargl",
            "marker": {
             "colorbar": {
              "outlinewidth": 0,
              "ticks": ""
             }
            }
           }
          ],
          "bar": [
           {
            "error_x": {
             "color": "#2a3f5f"
            },
            "error_y": {
             "color": "#2a3f5f"
            },
            "marker": {
             "line": {
              "color": "#E5ECF6",
              "width": 0.5
             },
             "pattern": {
              "fillmode": "overlay",
              "size": 10,
              "solidity": 0.2
             }
            },
            "type": "bar"
           }
          ],
          "scattergeo": [
           {
            "type": "scattergeo",
            "marker": {
             "colorbar": {
              "outlinewidth": 0,
              "ticks": ""
             }
            }
           }
          ],
          "scatterpolar": [
           {
            "type": "scatterpolar",
            "marker": {
             "colorbar": {
              "outlinewidth": 0,
              "ticks": ""
             }
            }
           }
          ],
          "histogram": [
           {
            "marker": {
             "pattern": {
              "fillmode": "overlay",
              "size": 10,
              "solidity": 0.2
             }
            },
            "type": "histogram"
           }
          ],
          "scattergl": [
           {
            "type": "scattergl",
            "marker": {
             "colorbar": {
              "outlinewidth": 0,
              "ticks": ""
             }
            }
           }
          ],
          "scatter3d": [
           {
            "type": "scatter3d",
            "line": {
             "colorbar": {
              "outlinewidth": 0,
              "ticks": ""
             }
            },
            "marker": {
             "colorbar": {
              "outlinewidth": 0,
              "ticks": ""
             }
            }
           }
          ],
          "scattermapbox": [
           {
            "type": "scattermapbox",
            "marker": {
             "colorbar": {
              "outlinewidth": 0,
              "ticks": ""
             }
            }
           }
          ],
          "scatterternary": [
           {
            "type": "scatterternary",
            "marker": {
             "colorbar": {
              "outlinewidth": 0,
              "ticks": ""
             }
            }
           }
          ],
          "scattercarpet": [
           {
            "type": "scattercarpet",
            "marker": {
             "colorbar": {
              "outlinewidth": 0,
              "ticks": ""
             }
            }
           }
          ],
          "carpet": [
           {
            "aaxis": {
             "endlinecolor": "#2a3f5f",
             "gridcolor": "white",
             "linecolor": "white",
             "minorgridcolor": "white",
             "startlinecolor": "#2a3f5f"
            },
            "baxis": {
             "endlinecolor": "#2a3f5f",
             "gridcolor": "white",
             "linecolor": "white",
             "minorgridcolor": "white",
             "startlinecolor": "#2a3f5f"
            },
            "type": "carpet"
           }
          ],
          "table": [
           {
            "cells": {
             "fill": {
              "color": "#EBF0F8"
             },
             "line": {
              "color": "white"
             }
            },
            "header": {
             "fill": {
              "color": "#C8D4E3"
             },
             "line": {
              "color": "white"
             }
            },
            "type": "table"
           }
          ],
          "barpolar": [
           {
            "marker": {
             "line": {
              "color": "#E5ECF6",
              "width": 0.5
             },
             "pattern": {
              "fillmode": "overlay",
              "size": 10,
              "solidity": 0.2
             }
            },
            "type": "barpolar"
           }
          ],
          "pie": [
           {
            "automargin": true,
            "type": "pie"
           }
          ]
         },
         "layout": {
          "autotypenumbers": "strict",
          "colorway": [
           "#636efa",
           "#EF553B",
           "#00cc96",
           "#ab63fa",
           "#FFA15A",
           "#19d3f3",
           "#FF6692",
           "#B6E880",
           "#FF97FF",
           "#FECB52"
          ],
          "font": {
           "color": "#2a3f5f"
          },
          "hovermode": "closest",
          "hoverlabel": {
           "align": "left"
          },
          "paper_bgcolor": "white",
          "plot_bgcolor": "#E5ECF6",
          "polar": {
           "bgcolor": "#E5ECF6",
           "angularaxis": {
            "gridcolor": "white",
            "linecolor": "white",
            "ticks": ""
           },
           "radialaxis": {
            "gridcolor": "white",
            "linecolor": "white",
            "ticks": ""
           }
          },
          "ternary": {
           "bgcolor": "#E5ECF6",
           "aaxis": {
            "gridcolor": "white",
            "linecolor": "white",
            "ticks": ""
           },
           "baxis": {
            "gridcolor": "white",
            "linecolor": "white",
            "ticks": ""
           },
           "caxis": {
            "gridcolor": "white",
            "linecolor": "white",
            "ticks": ""
           }
          },
          "coloraxis": {
           "colorbar": {
            "outlinewidth": 0,
            "ticks": ""
           }
          },
          "colorscale": {
           "sequential": [
            [
             0.0,
             "#0d0887"
            ],
            [
             0.1111111111111111,
             "#46039f"
            ],
            [
             0.2222222222222222,
             "#7201a8"
            ],
            [
             0.3333333333333333,
             "#9c179e"
            ],
            [
             0.4444444444444444,
             "#bd3786"
            ],
            [
             0.5555555555555556,
             "#d8576b"
            ],
            [
             0.6666666666666666,
             "#ed7953"
            ],
            [
             0.7777777777777778,
             "#fb9f3a"
            ],
            [
             0.8888888888888888,
             "#fdca26"
            ],
            [
             1.0,
             "#f0f921"
            ]
           ],
           "sequentialminus": [
            [
             0.0,
             "#0d0887"
            ],
            [
             0.1111111111111111,
             "#46039f"
            ],
            [
             0.2222222222222222,
             "#7201a8"
            ],
            [
             0.3333333333333333,
             "#9c179e"
            ],
            [
             0.4444444444444444,
             "#bd3786"
            ],
            [
             0.5555555555555556,
             "#d8576b"
            ],
            [
             0.6666666666666666,
             "#ed7953"
            ],
            [
             0.7777777777777778,
             "#fb9f3a"
            ],
            [
             0.8888888888888888,
             "#fdca26"
            ],
            [
             1.0,
             "#f0f921"
            ]
           ],
           "diverging": [
            [
             0,
             "#8e0152"
            ],
            [
             0.1,
             "#c51b7d"
            ],
            [
             0.2,
             "#de77ae"
            ],
            [
             0.3,
             "#f1b6da"
            ],
            [
             0.4,
             "#fde0ef"
            ],
            [
             0.5,
             "#f7f7f7"
            ],
            [
             0.6,
             "#e6f5d0"
            ],
            [
             0.7,
             "#b8e186"
            ],
            [
             0.8,
             "#7fbc41"
            ],
            [
             0.9,
             "#4d9221"
            ],
            [
             1,
             "#276419"
            ]
           ]
          },
          "xaxis": {
           "gridcolor": "white",
           "linecolor": "white",
           "ticks": "",
           "title": {
            "standoff": 15
           },
           "zerolinecolor": "white",
           "automargin": true,
           "zerolinewidth": 2
          },
          "yaxis": {
           "gridcolor": "white",
           "linecolor": "white",
           "ticks": "",
           "title": {
            "standoff": 15
           },
           "zerolinecolor": "white",
           "automargin": true,
           "zerolinewidth": 2
          },
          "scene": {
           "xaxis": {
            "backgroundcolor": "#E5ECF6",
            "gridcolor": "white",
            "linecolor": "white",
            "showbackground": true,
            "ticks": "",
            "zerolinecolor": "white",
            "gridwidth": 2
           },
           "yaxis": {
            "backgroundcolor": "#E5ECF6",
            "gridcolor": "white",
            "linecolor": "white",
            "showbackground": true,
            "ticks": "",
            "zerolinecolor": "white",
            "gridwidth": 2
           },
           "zaxis": {
            "backgroundcolor": "#E5ECF6",
            "gridcolor": "white",
            "linecolor": "white",
            "showbackground": true,
            "ticks": "",
            "zerolinecolor": "white",
            "gridwidth": 2
           }
          },
          "shapedefaults": {
           "line": {
            "color": "#2a3f5f"
           }
          },
          "annotationdefaults": {
           "arrowcolor": "#2a3f5f",
           "arrowhead": 0,
           "arrowwidth": 1
          },
          "geo": {
           "bgcolor": "white",
           "landcolor": "#E5ECF6",
           "subunitcolor": "white",
           "showland": true,
           "showlakes": true,
           "lakecolor": "white"
          },
          "title": {
           "x": 0.05
          },
          "mapbox": {
           "style": "light"
          }
         }
        }
       },
       "config": {
        "plotlyServerURL": "https://plot.ly"
       }
      },
      "text/html": [
       "<div>                            <div id=\"5ca53273-c883-4fbd-81ec-106be9b58e6a\" class=\"plotly-graph-div\" style=\"height:525px; width:100%;\"></div>            <script type=\"text/javascript\">                require([\"plotly\"], function(Plotly) {                    window.PLOTLYENV=window.PLOTLYENV || {};                                    if (document.getElementById(\"5ca53273-c883-4fbd-81ec-106be9b58e6a\")) {                    Plotly.newPlot(                        \"5ca53273-c883-4fbd-81ec-106be9b58e6a\",                        [{\"marker\":{\"color\":\"#8e2c50\"},\"visible\":\"legendonly\",\"x\":[\"1880, 1885\",\"1885, 1890\",\"1890, 1895\",\"1895, 1900\",\"1900, 1905\",\"1905, 1910\",\"1910, 1915\",\"1915, 1920\",\"1920, 1925\",\"1925, 1930\",\"1930, 1935\",\"1935, 1940\",\"1940, 1945\",\"1945, 1950\",\"1950, 1955\",\"1955, 1960\",\"1960, 1965\",\"1965, 1970\",\"1970, 1975\",\"1975, 1980\",\"1980, 1985\",\"1985, 1990\",\"1990, 1995\",\"1995, 2000\",\"2000, 2005\",\"2005, 2010\",\"2010, 2015\",\"2015, 2020\",\"2020, 2025\"],\"y\":[0,4,36,144,53,151,1340,1612,1336,1568,2341,2609,2221,2340,2900,2757,2908,3078,3433,3324,3493,4033,4396,5545,8453,11645,13277,15549,7273],\"type\":\"bar\"},{\"marker\":{\"color\":\"#9ebbc9\"},\"visible\":\"legendonly\",\"x\":[\"1880, 1885\",\"1885, 1890\",\"1890, 1895\",\"1895, 1900\",\"1900, 1905\",\"1905, 1910\",\"1910, 1915\",\"1915, 1920\",\"1920, 1925\",\"1925, 1930\",\"1930, 1935\",\"1935, 1940\",\"1940, 1945\",\"1945, 1950\",\"1950, 1955\",\"1955, 1960\",\"1960, 1965\",\"1965, 1970\",\"1970, 1975\",\"1975, 1980\",\"1980, 1985\",\"1985, 1990\",\"1990, 1995\",\"1995, 2000\",\"2000, 2005\",\"2005, 2010\",\"2010, 2015\",\"2015, 2020\",\"2020, 2025\"],\"y\":[0,0,0,0,0,1,0,1,1,1,5,9,13,2,5,10,8,17,26,32,33,62,49,39,53,68,175,274,182],\"type\":\"bar\"},{\"marker\":{\"color\":\"#6785be\"},\"visible\":\"legendonly\",\"x\":[\"1880, 1885\",\"1885, 1890\",\"1890, 1895\",\"1895, 1900\",\"1900, 1905\",\"1905, 1910\",\"1910, 1915\",\"1915, 1920\",\"1920, 1925\",\"1925, 1930\",\"1930, 1935\",\"1935, 1940\",\"1940, 1945\",\"1945, 1950\",\"1950, 1955\",\"1955, 1960\",\"1960, 1965\",\"1965, 1970\",\"1970, 1975\",\"1975, 1980\",\"1980, 1985\",\"1985, 1990\",\"1990, 1995\",\"1995, 2000\",\"2000, 2005\",\"2005, 2010\",\"2010, 2015\",\"2015, 2020\",\"2020, 2025\"],\"y\":[0,0,0,0,1,4,3,14,20,23,56,60,39,66,49,99,90,115,119,117,130,115,110,166,181,223,423,653,454],\"type\":\"bar\"},{\"marker\":{\"color\":\"#5e43a5\"},\"visible\":\"legendonly\",\"x\":[\"1880, 1885\",\"1885, 1890\",\"1890, 1895\",\"1895, 1900\",\"1900, 1905\",\"1905, 1910\",\"1910, 1915\",\"1915, 1920\",\"1920, 1925\",\"1925, 1930\",\"1930, 1935\",\"1935, 1940\",\"1940, 1945\",\"1945, 1950\",\"1950, 1955\",\"1955, 1960\",\"1960, 1965\",\"1965, 1970\",\"1970, 1975\",\"1975, 1980\",\"1980, 1985\",\"1985, 1990\",\"1990, 1995\",\"1995, 2000\",\"2000, 2005\",\"2005, 2010\",\"2010, 2015\",\"2015, 2020\",\"2020, 2025\"],\"y\":[0,0,0,0,0,0,0,0,0,0,0,1,2,0,2,0,1,4,5,7,11,11,18,15,30,53,116,128,60],\"type\":\"bar\"},{\"marker\":{\"color\":\"#421257\"},\"visible\":\"legendonly\",\"x\":[\"1880, 1885\",\"1885, 1890\",\"1890, 1895\",\"1895, 1900\",\"1900, 1905\",\"1905, 1910\",\"1910, 1915\",\"1915, 1920\",\"1920, 1925\",\"1925, 1930\",\"1930, 1935\",\"1935, 1940\",\"1940, 1945\",\"1945, 1950\",\"1950, 1955\",\"1955, 1960\",\"1960, 1965\",\"1965, 1970\",\"1970, 1975\",\"1975, 1980\",\"1980, 1985\",\"1985, 1990\",\"1990, 1995\",\"1995, 2000\",\"2000, 2005\",\"2005, 2010\",\"2010, 2015\",\"2015, 2020\",\"2020, 2025\"],\"y\":[0,0,0,2,0,0,0,0,3,4,5,8,5,9,10,13,7,7,6,13,20,28,24,29,57,80,111,178,100],\"type\":\"bar\"},{\"marker\":{\"color\":\"#471340\"},\"visible\":\"legendonly\",\"x\":[\"1880, 1885\",\"1885, 1890\",\"1890, 1895\",\"1895, 1900\",\"1900, 1905\",\"1905, 1910\",\"1910, 1915\",\"1915, 1920\",\"1920, 1925\",\"1925, 1930\",\"1930, 1935\",\"1935, 1940\",\"1940, 1945\",\"1945, 1950\",\"1950, 1955\",\"1955, 1960\",\"1960, 1965\",\"1965, 1970\",\"1970, 1975\",\"1975, 1980\",\"1980, 1985\",\"1985, 1990\",\"1990, 1995\",\"1995, 2000\",\"2000, 2005\",\"2005, 2010\",\"2010, 2015\",\"2015, 2020\",\"2020, 2025\"],\"y\":[0,0,0,2,1,5,3,15,24,28,66,78,59,77,66,122,106,143,156,169,194,216,201,249,321,424,825,1233,796],\"type\":\"bar\"}],                        {\"title\":{\"text\":\"Number of movies per 5 years splits\"},\"updatemenus\":[{\"buttons\":[{\"args\":[{\"visible\":[true,false,false,false,false,false]},{\"yaxis\":{\"range\":[0,15649],\"title\":\"Number of movies\"}},{\"xaxis\":{\"title\":\"Year\",\"tickangle\":45}}],\"label\":\"Movies\",\"method\":\"update\"},{\"args\":[{\"visible\":[false,true,false,false,false,false]},{\"yaxis\":{\"range\":[0,653],\"title\":\"Number of movies\"}},{\"xaxis\":{\"title\":\"Year\",\"tickangle\":45}}],\"label\":\"Sequels\",\"method\":\"update\"},{\"args\":[{\"visible\":[false,false,true,false,false,false]},{\"yaxis\":{\"range\":[0,653],\"title\":\"Number of movies\"}},{\"xaxis\":{\"title\":\"Year\",\"tickangle\":45}}],\"label\":\"Books\",\"method\":\"update\"},{\"args\":[{\"visible\":[false,false,false,true,false,false]},{\"yaxis\":{\"range\":[0,653],\"title\":\"Number of movies\"}},{\"xaxis\":{\"title\":\"Year\",\"tickangle\":45}}],\"label\":\"Comics\",\"method\":\"update\"},{\"args\":[{\"visible\":[false,false,false,false,true,false]},{\"yaxis\":{\"range\":[0,653],\"title\":\"Number of movies\"}},{\"xaxis\":{\"title\":\"Year\",\"tickangle\":45}}],\"label\":\"Remakes\",\"method\":\"update\"},{\"args\":[{\"visible\":[false,false,false,false,false,true]},{\"yaxis\":{\"range\":[0,1243],\"title\":\"Number of movies\"}},{\"xaxis\":{\"title\":\"Year\",\"tickangle\":45}}],\"label\":\"All non-original movies\",\"method\":\"update\"}],\"direction\":\"left\",\"pad\":{\"r\":10,\"t\":10},\"showactive\":true,\"type\":\"buttons\",\"x\":0,\"xanchor\":\"left\",\"y\":1.2,\"yanchor\":\"top\"}],\"xaxis\":{\"tickangle\":45,\"tickvals\":[\"1880, 1885\",\"1885, 1890\",\"1890, 1895\",\"1895, 1900\",\"1900, 1905\",\"1905, 1910\",\"1910, 1915\",\"1915, 1920\",\"1920, 1925\",\"1925, 1930\",\"1930, 1935\",\"1935, 1940\",\"1940, 1945\",\"1945, 1950\",\"1950, 1955\",\"1955, 1960\",\"1960, 1965\",\"1965, 1970\",\"1970, 1975\",\"1975, 1980\",\"1980, 1985\",\"1985, 1990\",\"1990, 1995\",\"1995, 2000\",\"2000, 2005\",\"2005, 2010\",\"2010, 2015\",\"2015, 2020\",\"2020, 2025\"],\"title\":{\"text\":\"Year\"}},\"template\":{\"data\":{\"histogram2dcontour\":[{\"type\":\"histogram2dcontour\",\"colorbar\":{\"outlinewidth\":0,\"ticks\":\"\"},\"colorscale\":[[0.0,\"#0d0887\"],[0.1111111111111111,\"#46039f\"],[0.2222222222222222,\"#7201a8\"],[0.3333333333333333,\"#9c179e\"],[0.4444444444444444,\"#bd3786\"],[0.5555555555555556,\"#d8576b\"],[0.6666666666666666,\"#ed7953\"],[0.7777777777777778,\"#fb9f3a\"],[0.8888888888888888,\"#fdca26\"],[1.0,\"#f0f921\"]]}],\"choropleth\":[{\"type\":\"choropleth\",\"colorbar\":{\"outlinewidth\":0,\"ticks\":\"\"}}],\"histogram2d\":[{\"type\":\"histogram2d\",\"colorbar\":{\"outlinewidth\":0,\"ticks\":\"\"},\"colorscale\":[[0.0,\"#0d0887\"],[0.1111111111111111,\"#46039f\"],[0.2222222222222222,\"#7201a8\"],[0.3333333333333333,\"#9c179e\"],[0.4444444444444444,\"#bd3786\"],[0.5555555555555556,\"#d8576b\"],[0.6666666666666666,\"#ed7953\"],[0.7777777777777778,\"#fb9f3a\"],[0.8888888888888888,\"#fdca26\"],[1.0,\"#f0f921\"]]}],\"heatmap\":[{\"type\":\"heatmap\",\"colorbar\":{\"outlinewidth\":0,\"ticks\":\"\"},\"colorscale\":[[0.0,\"#0d0887\"],[0.1111111111111111,\"#46039f\"],[0.2222222222222222,\"#7201a8\"],[0.3333333333333333,\"#9c179e\"],[0.4444444444444444,\"#bd3786\"],[0.5555555555555556,\"#d8576b\"],[0.6666666666666666,\"#ed7953\"],[0.7777777777777778,\"#fb9f3a\"],[0.8888888888888888,\"#fdca26\"],[1.0,\"#f0f921\"]]}],\"heatmapgl\":[{\"type\":\"heatmapgl\",\"colorbar\":{\"outlinewidth\":0,\"ticks\":\"\"},\"colorscale\":[[0.0,\"#0d0887\"],[0.1111111111111111,\"#46039f\"],[0.2222222222222222,\"#7201a8\"],[0.3333333333333333,\"#9c179e\"],[0.4444444444444444,\"#bd3786\"],[0.5555555555555556,\"#d8576b\"],[0.6666666666666666,\"#ed7953\"],[0.7777777777777778,\"#fb9f3a\"],[0.8888888888888888,\"#fdca26\"],[1.0,\"#f0f921\"]]}],\"contourcarpet\":[{\"type\":\"contourcarpet\",\"colorbar\":{\"outlinewidth\":0,\"ticks\":\"\"}}],\"contour\":[{\"type\":\"contour\",\"colorbar\":{\"outlinewidth\":0,\"ticks\":\"\"},\"colorscale\":[[0.0,\"#0d0887\"],[0.1111111111111111,\"#46039f\"],[0.2222222222222222,\"#7201a8\"],[0.3333333333333333,\"#9c179e\"],[0.4444444444444444,\"#bd3786\"],[0.5555555555555556,\"#d8576b\"],[0.6666666666666666,\"#ed7953\"],[0.7777777777777778,\"#fb9f3a\"],[0.8888888888888888,\"#fdca26\"],[1.0,\"#f0f921\"]]}],\"surface\":[{\"type\":\"surface\",\"colorbar\":{\"outlinewidth\":0,\"ticks\":\"\"},\"colorscale\":[[0.0,\"#0d0887\"],[0.1111111111111111,\"#46039f\"],[0.2222222222222222,\"#7201a8\"],[0.3333333333333333,\"#9c179e\"],[0.4444444444444444,\"#bd3786\"],[0.5555555555555556,\"#d8576b\"],[0.6666666666666666,\"#ed7953\"],[0.7777777777777778,\"#fb9f3a\"],[0.8888888888888888,\"#fdca26\"],[1.0,\"#f0f921\"]]}],\"mesh3d\":[{\"type\":\"mesh3d\",\"colorbar\":{\"outlinewidth\":0,\"ticks\":\"\"}}],\"scatter\":[{\"fillpattern\":{\"fillmode\":\"overlay\",\"size\":10,\"solidity\":0.2},\"type\":\"scatter\"}],\"parcoords\":[{\"type\":\"parcoords\",\"line\":{\"colorbar\":{\"outlinewidth\":0,\"ticks\":\"\"}}}],\"scatterpolargl\":[{\"type\":\"scatterpolargl\",\"marker\":{\"colorbar\":{\"outlinewidth\":0,\"ticks\":\"\"}}}],\"bar\":[{\"error_x\":{\"color\":\"#2a3f5f\"},\"error_y\":{\"color\":\"#2a3f5f\"},\"marker\":{\"line\":{\"color\":\"#E5ECF6\",\"width\":0.5},\"pattern\":{\"fillmode\":\"overlay\",\"size\":10,\"solidity\":0.2}},\"type\":\"bar\"}],\"scattergeo\":[{\"type\":\"scattergeo\",\"marker\":{\"colorbar\":{\"outlinewidth\":0,\"ticks\":\"\"}}}],\"scatterpolar\":[{\"type\":\"scatterpolar\",\"marker\":{\"colorbar\":{\"outlinewidth\":0,\"ticks\":\"\"}}}],\"histogram\":[{\"marker\":{\"pattern\":{\"fillmode\":\"overlay\",\"size\":10,\"solidity\":0.2}},\"type\":\"histogram\"}],\"scattergl\":[{\"type\":\"scattergl\",\"marker\":{\"colorbar\":{\"outlinewidth\":0,\"ticks\":\"\"}}}],\"scatter3d\":[{\"type\":\"scatter3d\",\"line\":{\"colorbar\":{\"outlinewidth\":0,\"ticks\":\"\"}},\"marker\":{\"colorbar\":{\"outlinewidth\":0,\"ticks\":\"\"}}}],\"scattermapbox\":[{\"type\":\"scattermapbox\",\"marker\":{\"colorbar\":{\"outlinewidth\":0,\"ticks\":\"\"}}}],\"scatterternary\":[{\"type\":\"scatterternary\",\"marker\":{\"colorbar\":{\"outlinewidth\":0,\"ticks\":\"\"}}}],\"scattercarpet\":[{\"type\":\"scattercarpet\",\"marker\":{\"colorbar\":{\"outlinewidth\":0,\"ticks\":\"\"}}}],\"carpet\":[{\"aaxis\":{\"endlinecolor\":\"#2a3f5f\",\"gridcolor\":\"white\",\"linecolor\":\"white\",\"minorgridcolor\":\"white\",\"startlinecolor\":\"#2a3f5f\"},\"baxis\":{\"endlinecolor\":\"#2a3f5f\",\"gridcolor\":\"white\",\"linecolor\":\"white\",\"minorgridcolor\":\"white\",\"startlinecolor\":\"#2a3f5f\"},\"type\":\"carpet\"}],\"table\":[{\"cells\":{\"fill\":{\"color\":\"#EBF0F8\"},\"line\":{\"color\":\"white\"}},\"header\":{\"fill\":{\"color\":\"#C8D4E3\"},\"line\":{\"color\":\"white\"}},\"type\":\"table\"}],\"barpolar\":[{\"marker\":{\"line\":{\"color\":\"#E5ECF6\",\"width\":0.5},\"pattern\":{\"fillmode\":\"overlay\",\"size\":10,\"solidity\":0.2}},\"type\":\"barpolar\"}],\"pie\":[{\"automargin\":true,\"type\":\"pie\"}]},\"layout\":{\"autotypenumbers\":\"strict\",\"colorway\":[\"#636efa\",\"#EF553B\",\"#00cc96\",\"#ab63fa\",\"#FFA15A\",\"#19d3f3\",\"#FF6692\",\"#B6E880\",\"#FF97FF\",\"#FECB52\"],\"font\":{\"color\":\"#2a3f5f\"},\"hovermode\":\"closest\",\"hoverlabel\":{\"align\":\"left\"},\"paper_bgcolor\":\"white\",\"plot_bgcolor\":\"#E5ECF6\",\"polar\":{\"bgcolor\":\"#E5ECF6\",\"angularaxis\":{\"gridcolor\":\"white\",\"linecolor\":\"white\",\"ticks\":\"\"},\"radialaxis\":{\"gridcolor\":\"white\",\"linecolor\":\"white\",\"ticks\":\"\"}},\"ternary\":{\"bgcolor\":\"#E5ECF6\",\"aaxis\":{\"gridcolor\":\"white\",\"linecolor\":\"white\",\"ticks\":\"\"},\"baxis\":{\"gridcolor\":\"white\",\"linecolor\":\"white\",\"ticks\":\"\"},\"caxis\":{\"gridcolor\":\"white\",\"linecolor\":\"white\",\"ticks\":\"\"}},\"coloraxis\":{\"colorbar\":{\"outlinewidth\":0,\"ticks\":\"\"}},\"colorscale\":{\"sequential\":[[0.0,\"#0d0887\"],[0.1111111111111111,\"#46039f\"],[0.2222222222222222,\"#7201a8\"],[0.3333333333333333,\"#9c179e\"],[0.4444444444444444,\"#bd3786\"],[0.5555555555555556,\"#d8576b\"],[0.6666666666666666,\"#ed7953\"],[0.7777777777777778,\"#fb9f3a\"],[0.8888888888888888,\"#fdca26\"],[1.0,\"#f0f921\"]],\"sequentialminus\":[[0.0,\"#0d0887\"],[0.1111111111111111,\"#46039f\"],[0.2222222222222222,\"#7201a8\"],[0.3333333333333333,\"#9c179e\"],[0.4444444444444444,\"#bd3786\"],[0.5555555555555556,\"#d8576b\"],[0.6666666666666666,\"#ed7953\"],[0.7777777777777778,\"#fb9f3a\"],[0.8888888888888888,\"#fdca26\"],[1.0,\"#f0f921\"]],\"diverging\":[[0,\"#8e0152\"],[0.1,\"#c51b7d\"],[0.2,\"#de77ae\"],[0.3,\"#f1b6da\"],[0.4,\"#fde0ef\"],[0.5,\"#f7f7f7\"],[0.6,\"#e6f5d0\"],[0.7,\"#b8e186\"],[0.8,\"#7fbc41\"],[0.9,\"#4d9221\"],[1,\"#276419\"]]},\"xaxis\":{\"gridcolor\":\"white\",\"linecolor\":\"white\",\"ticks\":\"\",\"title\":{\"standoff\":15},\"zerolinecolor\":\"white\",\"automargin\":true,\"zerolinewidth\":2},\"yaxis\":{\"gridcolor\":\"white\",\"linecolor\":\"white\",\"ticks\":\"\",\"title\":{\"standoff\":15},\"zerolinecolor\":\"white\",\"automargin\":true,\"zerolinewidth\":2},\"scene\":{\"xaxis\":{\"backgroundcolor\":\"#E5ECF6\",\"gridcolor\":\"white\",\"linecolor\":\"white\",\"showbackground\":true,\"ticks\":\"\",\"zerolinecolor\":\"white\",\"gridwidth\":2},\"yaxis\":{\"backgroundcolor\":\"#E5ECF6\",\"gridcolor\":\"white\",\"linecolor\":\"white\",\"showbackground\":true,\"ticks\":\"\",\"zerolinecolor\":\"white\",\"gridwidth\":2},\"zaxis\":{\"backgroundcolor\":\"#E5ECF6\",\"gridcolor\":\"white\",\"linecolor\":\"white\",\"showbackground\":true,\"ticks\":\"\",\"zerolinecolor\":\"white\",\"gridwidth\":2}},\"shapedefaults\":{\"line\":{\"color\":\"#2a3f5f\"}},\"annotationdefaults\":{\"arrowcolor\":\"#2a3f5f\",\"arrowhead\":0,\"arrowwidth\":1},\"geo\":{\"bgcolor\":\"white\",\"landcolor\":\"#E5ECF6\",\"subunitcolor\":\"white\",\"showland\":true,\"showlakes\":true,\"lakecolor\":\"white\"},\"title\":{\"x\":0.05},\"mapbox\":{\"style\":\"light\"}}}},                        {\"responsive\": true}                    ).then(function(){\n",
       "                            \n",
       "var gd = document.getElementById('5ca53273-c883-4fbd-81ec-106be9b58e6a');\n",
       "var x = new MutationObserver(function (mutations, observer) {{\n",
       "        var display = window.getComputedStyle(gd).display;\n",
       "        if (!display || display === 'none') {{\n",
       "            console.log([gd, 'removed!']);\n",
       "            Plotly.purge(gd);\n",
       "            observer.disconnect();\n",
       "        }}\n",
       "}});\n",
       "\n",
       "// Listen for the removal of the full notebook cells\n",
       "var notebookContainer = gd.closest('#notebook-container');\n",
       "if (notebookContainer) {{\n",
       "    x.observe(notebookContainer, {childList: true});\n",
       "}}\n",
       "\n",
       "// Listen for the clearing of the current output cell\n",
       "var outputEl = gd.closest('.output');\n",
       "if (outputEl) {{\n",
       "    x.observe(outputEl, {childList: true});\n",
       "}}\n",
       "\n",
       "                        })                };                });            </script>        </div>"
      ]
     },
     "metadata": {},
     "output_type": "display_data"
    }
   ],
   "execution_count": 264
  },
  {
   "cell_type": "markdown",
   "id": "e2f63a45f18e17ba",
   "metadata": {},
   "source": [
    "### 1.3 Ratio of sequels to original movies"
   ]
  },
  {
   "cell_type": "markdown",
   "id": "f78fbb65b729a89",
   "metadata": {},
   "source": [
    "\n",
    "\n",
    "Calculation and plot of the ratio between movies with sequel and the number of movies, both per 5 years.\n"
   ]
  },
  {
   "cell_type": "markdown",
   "id": "c72e5af5",
   "metadata": {},
   "source": [
    "$$\n",
    "\\text{Ratio} = \\frac{\\text{nb of movie with sequel per 5 year}}{\\text{nb of movie per 5 year}}\n",
    "$$"
   ]
  },
  {
   "cell_type": "code",
   "id": "3d67deb118ecbe63",
   "metadata": {
    "ExecuteTime": {
     "end_time": "2024-12-15T20:39:21.414345Z",
     "start_time": "2024-12-15T20:39:21.248494Z"
    }
   },
   "source": [
    "\n",
    "from src.models.movie_counter import get_ratio_movie_figure\n",
    "\n",
    "fig = get_ratio_movie_figure(movie_frames_old)\n",
    "fig"
   ],
   "outputs": [
    {
     "data": {
      "application/vnd.plotly.v1+json": {
       "data": [
        {
         "line": {
          "color": "rgb(102,194,165)",
          "width": 2
         },
         "mode": "lines+markers",
         "name": "ratio of sequels per movies",
         "x": [
          "1880, 1885",
          "1885, 1890",
          "1890, 1895",
          "1895, 1900",
          "1900, 1905",
          "1905, 1910",
          "1910, 1915",
          "1915, 1920",
          "1920, 1925",
          "1925, 1930",
          "1930, 1935",
          "1935, 1940",
          "1940, 1945",
          "1945, 1950",
          "1950, 1955",
          "1955, 1960",
          "1960, 1965",
          "1965, 1970",
          "1970, 1975",
          "1975, 1980",
          "1980, 1985",
          "1985, 1990",
          "1990, 1995",
          "1995, 2000",
          "2000, 2005",
          "2005, 2010"
         ],
         "y": [
          0.0,
          0.0,
          0.0,
          0.0,
          0.0,
          0.6622516556291391,
          0.0,
          0.062034739454094295,
          0.07485029940119761,
          0.06377551020408163,
          0.21358393848782573,
          0.34495975469528556,
          0.585321927059883,
          0.08547008547008547,
          0.1724137931034483,
          0.3627130939426913,
          0.2751031636863824,
          0.5523066926575698,
          0.7573550830177687,
          0.9626955475330927,
          0.9447466361294017,
          1.537317133647409,
          1.1146496815286624,
          0.7033363390441839,
          0.62699633266296,
          0.5243838489774515
         ],
         "type": "scatter"
        },
        {
         "line": {
          "color": "rgb(252,141,98)",
          "width": 2
         },
         "mode": "lines+markers",
         "name": "ratio of book adaptation per movies",
         "x": [
          "1880, 1885",
          "1885, 1890",
          "1890, 1895",
          "1895, 1900",
          "1900, 1905",
          "1905, 1910",
          "1910, 1915",
          "1915, 1920",
          "1920, 1925",
          "1925, 1930",
          "1930, 1935",
          "1935, 1940",
          "1940, 1945",
          "1945, 1950",
          "1950, 1955",
          "1955, 1960",
          "1960, 1965",
          "1965, 1970",
          "1970, 1975",
          "1975, 1980",
          "1980, 1985",
          "1985, 1990",
          "1990, 1995",
          "1995, 2000",
          "2000, 2005",
          "2005, 2010"
         ],
         "y": [
          0.0,
          0.0,
          0.0,
          0.0,
          1.8867924528301887,
          2.6490066225165565,
          0.22388059701492538,
          0.8684863523573202,
          1.4970059880239521,
          1.4668367346938775,
          2.392140111063648,
          2.2997316979685705,
          1.7559657811796487,
          2.8205128205128207,
          1.689655172413793,
          3.5908596300326447,
          3.094910591471802,
          3.7361923326835607,
          3.4663559568890183,
          3.5198555956678703,
          3.721729172630976,
          2.851475328539549,
          2.502274795268426,
          2.9936880072137058,
          2.141251626641429,
          1.6360776088096485
         ],
         "type": "scatter"
        },
        {
         "line": {
          "color": "rgb(141,160,203)",
          "width": 2
         },
         "mode": "lines+markers",
         "name": "ratio of comics adaptation per movies",
         "x": [
          "1880, 1885",
          "1885, 1890",
          "1890, 1895",
          "1895, 1900",
          "1900, 1905",
          "1905, 1910",
          "1910, 1915",
          "1915, 1920",
          "1920, 1925",
          "1925, 1930",
          "1930, 1935",
          "1935, 1940",
          "1940, 1945",
          "1945, 1950",
          "1950, 1955",
          "1955, 1960",
          "1960, 1965",
          "1965, 1970",
          "1970, 1975",
          "1975, 1980",
          "1980, 1985",
          "1985, 1990",
          "1990, 1995",
          "1995, 2000",
          "2000, 2005",
          "2005, 2010"
         ],
         "y": [
          0.0,
          0.0,
          0.0,
          0.0,
          0.0,
          0.0,
          0.0,
          0.0,
          0.0,
          0.0,
          0.0,
          0.038328861632809505,
          0.09004952723998198,
          0.0,
          0.06896551724137931,
          0.0,
          0.0343878954607978,
          0.1299545159194282,
          0.14564520827264782,
          0.210589651022864,
          0.31491554537646727,
          0.2727498140342177,
          0.40946314831665154,
          0.2705139765554554,
          0.35490358452620374,
          0.34609334032511796
         ],
         "type": "scatter"
        },
        {
         "line": {
          "color": "rgb(231,138,195)",
          "width": 2
         },
         "mode": "lines+markers",
         "name": "ratio of remakes per movies",
         "x": [
          "1880, 1885",
          "1885, 1890",
          "1890, 1895",
          "1895, 1900",
          "1900, 1905",
          "1905, 1910",
          "1910, 1915",
          "1915, 1920",
          "1920, 1925",
          "1925, 1930",
          "1930, 1935",
          "1935, 1940",
          "1940, 1945",
          "1945, 1950",
          "1950, 1955",
          "1955, 1960",
          "1960, 1965",
          "1965, 1970",
          "1970, 1975",
          "1975, 1980",
          "1980, 1985",
          "1985, 1990",
          "1990, 1995",
          "1995, 2000",
          "2000, 2005",
          "2005, 2010"
         ],
         "y": [
          0.0,
          0.0,
          0.0,
          1.3888888888888888,
          0.0,
          0.0,
          0.0,
          0.0,
          0.2245508982035928,
          0.25510204081632654,
          0.21358393848782573,
          0.30663089306247604,
          0.22512381809995496,
          0.38461538461538464,
          0.3448275862068966,
          0.4715270221254987,
          0.24071526822558462,
          0.22742040285899934,
          0.17477424992717738,
          0.3910950661853189,
          0.572573718866304,
          0.6942722539052815,
          0.5459508644222021,
          0.5229936880072137,
          0.6743168105997871,
          0.6397482957524908
         ],
         "type": "scatter"
        }
       ],
       "layout": {
        "template": {
         "data": {
          "histogram2dcontour": [
           {
            "type": "histogram2dcontour",
            "colorbar": {
             "outlinewidth": 0,
             "ticks": ""
            },
            "colorscale": [
             [
              0.0,
              "#0d0887"
             ],
             [
              0.1111111111111111,
              "#46039f"
             ],
             [
              0.2222222222222222,
              "#7201a8"
             ],
             [
              0.3333333333333333,
              "#9c179e"
             ],
             [
              0.4444444444444444,
              "#bd3786"
             ],
             [
              0.5555555555555556,
              "#d8576b"
             ],
             [
              0.6666666666666666,
              "#ed7953"
             ],
             [
              0.7777777777777778,
              "#fb9f3a"
             ],
             [
              0.8888888888888888,
              "#fdca26"
             ],
             [
              1.0,
              "#f0f921"
             ]
            ]
           }
          ],
          "choropleth": [
           {
            "type": "choropleth",
            "colorbar": {
             "outlinewidth": 0,
             "ticks": ""
            }
           }
          ],
          "histogram2d": [
           {
            "type": "histogram2d",
            "colorbar": {
             "outlinewidth": 0,
             "ticks": ""
            },
            "colorscale": [
             [
              0.0,
              "#0d0887"
             ],
             [
              0.1111111111111111,
              "#46039f"
             ],
             [
              0.2222222222222222,
              "#7201a8"
             ],
             [
              0.3333333333333333,
              "#9c179e"
             ],
             [
              0.4444444444444444,
              "#bd3786"
             ],
             [
              0.5555555555555556,
              "#d8576b"
             ],
             [
              0.6666666666666666,
              "#ed7953"
             ],
             [
              0.7777777777777778,
              "#fb9f3a"
             ],
             [
              0.8888888888888888,
              "#fdca26"
             ],
             [
              1.0,
              "#f0f921"
             ]
            ]
           }
          ],
          "heatmap": [
           {
            "type": "heatmap",
            "colorbar": {
             "outlinewidth": 0,
             "ticks": ""
            },
            "colorscale": [
             [
              0.0,
              "#0d0887"
             ],
             [
              0.1111111111111111,
              "#46039f"
             ],
             [
              0.2222222222222222,
              "#7201a8"
             ],
             [
              0.3333333333333333,
              "#9c179e"
             ],
             [
              0.4444444444444444,
              "#bd3786"
             ],
             [
              0.5555555555555556,
              "#d8576b"
             ],
             [
              0.6666666666666666,
              "#ed7953"
             ],
             [
              0.7777777777777778,
              "#fb9f3a"
             ],
             [
              0.8888888888888888,
              "#fdca26"
             ],
             [
              1.0,
              "#f0f921"
             ]
            ]
           }
          ],
          "heatmapgl": [
           {
            "type": "heatmapgl",
            "colorbar": {
             "outlinewidth": 0,
             "ticks": ""
            },
            "colorscale": [
             [
              0.0,
              "#0d0887"
             ],
             [
              0.1111111111111111,
              "#46039f"
             ],
             [
              0.2222222222222222,
              "#7201a8"
             ],
             [
              0.3333333333333333,
              "#9c179e"
             ],
             [
              0.4444444444444444,
              "#bd3786"
             ],
             [
              0.5555555555555556,
              "#d8576b"
             ],
             [
              0.6666666666666666,
              "#ed7953"
             ],
             [
              0.7777777777777778,
              "#fb9f3a"
             ],
             [
              0.8888888888888888,
              "#fdca26"
             ],
             [
              1.0,
              "#f0f921"
             ]
            ]
           }
          ],
          "contourcarpet": [
           {
            "type": "contourcarpet",
            "colorbar": {
             "outlinewidth": 0,
             "ticks": ""
            }
           }
          ],
          "contour": [
           {
            "type": "contour",
            "colorbar": {
             "outlinewidth": 0,
             "ticks": ""
            },
            "colorscale": [
             [
              0.0,
              "#0d0887"
             ],
             [
              0.1111111111111111,
              "#46039f"
             ],
             [
              0.2222222222222222,
              "#7201a8"
             ],
             [
              0.3333333333333333,
              "#9c179e"
             ],
             [
              0.4444444444444444,
              "#bd3786"
             ],
             [
              0.5555555555555556,
              "#d8576b"
             ],
             [
              0.6666666666666666,
              "#ed7953"
             ],
             [
              0.7777777777777778,
              "#fb9f3a"
             ],
             [
              0.8888888888888888,
              "#fdca26"
             ],
             [
              1.0,
              "#f0f921"
             ]
            ]
           }
          ],
          "surface": [
           {
            "type": "surface",
            "colorbar": {
             "outlinewidth": 0,
             "ticks": ""
            },
            "colorscale": [
             [
              0.0,
              "#0d0887"
             ],
             [
              0.1111111111111111,
              "#46039f"
             ],
             [
              0.2222222222222222,
              "#7201a8"
             ],
             [
              0.3333333333333333,
              "#9c179e"
             ],
             [
              0.4444444444444444,
              "#bd3786"
             ],
             [
              0.5555555555555556,
              "#d8576b"
             ],
             [
              0.6666666666666666,
              "#ed7953"
             ],
             [
              0.7777777777777778,
              "#fb9f3a"
             ],
             [
              0.8888888888888888,
              "#fdca26"
             ],
             [
              1.0,
              "#f0f921"
             ]
            ]
           }
          ],
          "mesh3d": [
           {
            "type": "mesh3d",
            "colorbar": {
             "outlinewidth": 0,
             "ticks": ""
            }
           }
          ],
          "scatter": [
           {
            "fillpattern": {
             "fillmode": "overlay",
             "size": 10,
             "solidity": 0.2
            },
            "type": "scatter"
           }
          ],
          "parcoords": [
           {
            "type": "parcoords",
            "line": {
             "colorbar": {
              "outlinewidth": 0,
              "ticks": ""
             }
            }
           }
          ],
          "scatterpolargl": [
           {
            "type": "scatterpolargl",
            "marker": {
             "colorbar": {
              "outlinewidth": 0,
              "ticks": ""
             }
            }
           }
          ],
          "bar": [
           {
            "error_x": {
             "color": "#2a3f5f"
            },
            "error_y": {
             "color": "#2a3f5f"
            },
            "marker": {
             "line": {
              "color": "#E5ECF6",
              "width": 0.5
             },
             "pattern": {
              "fillmode": "overlay",
              "size": 10,
              "solidity": 0.2
             }
            },
            "type": "bar"
           }
          ],
          "scattergeo": [
           {
            "type": "scattergeo",
            "marker": {
             "colorbar": {
              "outlinewidth": 0,
              "ticks": ""
             }
            }
           }
          ],
          "scatterpolar": [
           {
            "type": "scatterpolar",
            "marker": {
             "colorbar": {
              "outlinewidth": 0,
              "ticks": ""
             }
            }
           }
          ],
          "histogram": [
           {
            "marker": {
             "pattern": {
              "fillmode": "overlay",
              "size": 10,
              "solidity": 0.2
             }
            },
            "type": "histogram"
           }
          ],
          "scattergl": [
           {
            "type": "scattergl",
            "marker": {
             "colorbar": {
              "outlinewidth": 0,
              "ticks": ""
             }
            }
           }
          ],
          "scatter3d": [
           {
            "type": "scatter3d",
            "line": {
             "colorbar": {
              "outlinewidth": 0,
              "ticks": ""
             }
            },
            "marker": {
             "colorbar": {
              "outlinewidth": 0,
              "ticks": ""
             }
            }
           }
          ],
          "scattermapbox": [
           {
            "type": "scattermapbox",
            "marker": {
             "colorbar": {
              "outlinewidth": 0,
              "ticks": ""
             }
            }
           }
          ],
          "scatterternary": [
           {
            "type": "scatterternary",
            "marker": {
             "colorbar": {
              "outlinewidth": 0,
              "ticks": ""
             }
            }
           }
          ],
          "scattercarpet": [
           {
            "type": "scattercarpet",
            "marker": {
             "colorbar": {
              "outlinewidth": 0,
              "ticks": ""
             }
            }
           }
          ],
          "carpet": [
           {
            "aaxis": {
             "endlinecolor": "#2a3f5f",
             "gridcolor": "white",
             "linecolor": "white",
             "minorgridcolor": "white",
             "startlinecolor": "#2a3f5f"
            },
            "baxis": {
             "endlinecolor": "#2a3f5f",
             "gridcolor": "white",
             "linecolor": "white",
             "minorgridcolor": "white",
             "startlinecolor": "#2a3f5f"
            },
            "type": "carpet"
           }
          ],
          "table": [
           {
            "cells": {
             "fill": {
              "color": "#EBF0F8"
             },
             "line": {
              "color": "white"
             }
            },
            "header": {
             "fill": {
              "color": "#C8D4E3"
             },
             "line": {
              "color": "white"
             }
            },
            "type": "table"
           }
          ],
          "barpolar": [
           {
            "marker": {
             "line": {
              "color": "#E5ECF6",
              "width": 0.5
             },
             "pattern": {
              "fillmode": "overlay",
              "size": 10,
              "solidity": 0.2
             }
            },
            "type": "barpolar"
           }
          ],
          "pie": [
           {
            "automargin": true,
            "type": "pie"
           }
          ]
         },
         "layout": {
          "autotypenumbers": "strict",
          "colorway": [
           "#636efa",
           "#EF553B",
           "#00cc96",
           "#ab63fa",
           "#FFA15A",
           "#19d3f3",
           "#FF6692",
           "#B6E880",
           "#FF97FF",
           "#FECB52"
          ],
          "font": {
           "color": "#2a3f5f"
          },
          "hovermode": "closest",
          "hoverlabel": {
           "align": "left"
          },
          "paper_bgcolor": "white",
          "plot_bgcolor": "#E5ECF6",
          "polar": {
           "bgcolor": "#E5ECF6",
           "angularaxis": {
            "gridcolor": "white",
            "linecolor": "white",
            "ticks": ""
           },
           "radialaxis": {
            "gridcolor": "white",
            "linecolor": "white",
            "ticks": ""
           }
          },
          "ternary": {
           "bgcolor": "#E5ECF6",
           "aaxis": {
            "gridcolor": "white",
            "linecolor": "white",
            "ticks": ""
           },
           "baxis": {
            "gridcolor": "white",
            "linecolor": "white",
            "ticks": ""
           },
           "caxis": {
            "gridcolor": "white",
            "linecolor": "white",
            "ticks": ""
           }
          },
          "coloraxis": {
           "colorbar": {
            "outlinewidth": 0,
            "ticks": ""
           }
          },
          "colorscale": {
           "sequential": [
            [
             0.0,
             "#0d0887"
            ],
            [
             0.1111111111111111,
             "#46039f"
            ],
            [
             0.2222222222222222,
             "#7201a8"
            ],
            [
             0.3333333333333333,
             "#9c179e"
            ],
            [
             0.4444444444444444,
             "#bd3786"
            ],
            [
             0.5555555555555556,
             "#d8576b"
            ],
            [
             0.6666666666666666,
             "#ed7953"
            ],
            [
             0.7777777777777778,
             "#fb9f3a"
            ],
            [
             0.8888888888888888,
             "#fdca26"
            ],
            [
             1.0,
             "#f0f921"
            ]
           ],
           "sequentialminus": [
            [
             0.0,
             "#0d0887"
            ],
            [
             0.1111111111111111,
             "#46039f"
            ],
            [
             0.2222222222222222,
             "#7201a8"
            ],
            [
             0.3333333333333333,
             "#9c179e"
            ],
            [
             0.4444444444444444,
             "#bd3786"
            ],
            [
             0.5555555555555556,
             "#d8576b"
            ],
            [
             0.6666666666666666,
             "#ed7953"
            ],
            [
             0.7777777777777778,
             "#fb9f3a"
            ],
            [
             0.8888888888888888,
             "#fdca26"
            ],
            [
             1.0,
             "#f0f921"
            ]
           ],
           "diverging": [
            [
             0,
             "#8e0152"
            ],
            [
             0.1,
             "#c51b7d"
            ],
            [
             0.2,
             "#de77ae"
            ],
            [
             0.3,
             "#f1b6da"
            ],
            [
             0.4,
             "#fde0ef"
            ],
            [
             0.5,
             "#f7f7f7"
            ],
            [
             0.6,
             "#e6f5d0"
            ],
            [
             0.7,
             "#b8e186"
            ],
            [
             0.8,
             "#7fbc41"
            ],
            [
             0.9,
             "#4d9221"
            ],
            [
             1,
             "#276419"
            ]
           ]
          },
          "xaxis": {
           "gridcolor": "white",
           "linecolor": "white",
           "ticks": "",
           "title": {
            "standoff": 15
           },
           "zerolinecolor": "white",
           "automargin": true,
           "zerolinewidth": 2
          },
          "yaxis": {
           "gridcolor": "white",
           "linecolor": "white",
           "ticks": "",
           "title": {
            "standoff": 15
           },
           "zerolinecolor": "white",
           "automargin": true,
           "zerolinewidth": 2
          },
          "scene": {
           "xaxis": {
            "backgroundcolor": "#E5ECF6",
            "gridcolor": "white",
            "linecolor": "white",
            "showbackground": true,
            "ticks": "",
            "zerolinecolor": "white",
            "gridwidth": 2
           },
           "yaxis": {
            "backgroundcolor": "#E5ECF6",
            "gridcolor": "white",
            "linecolor": "white",
            "showbackground": true,
            "ticks": "",
            "zerolinecolor": "white",
            "gridwidth": 2
           },
           "zaxis": {
            "backgroundcolor": "#E5ECF6",
            "gridcolor": "white",
            "linecolor": "white",
            "showbackground": true,
            "ticks": "",
            "zerolinecolor": "white",
            "gridwidth": 2
           }
          },
          "shapedefaults": {
           "line": {
            "color": "#2a3f5f"
           }
          },
          "annotationdefaults": {
           "arrowcolor": "#2a3f5f",
           "arrowhead": 0,
           "arrowwidth": 1
          },
          "geo": {
           "bgcolor": "white",
           "landcolor": "#E5ECF6",
           "subunitcolor": "white",
           "showland": true,
           "showlakes": true,
           "lakecolor": "white"
          },
          "title": {
           "x": 0.05
          },
          "mapbox": {
           "style": "light"
          }
         }
        },
        "xaxis": {
         "title": {
          "text": "Year"
         },
         "tickvals": [
          "1880, 1885",
          "1885, 1890",
          "1890, 1895",
          "1895, 1900",
          "1900, 1905",
          "1905, 1910",
          "1910, 1915",
          "1915, 1920",
          "1920, 1925",
          "1925, 1930",
          "1930, 1935",
          "1935, 1940",
          "1940, 1945",
          "1945, 1950",
          "1950, 1955",
          "1955, 1960",
          "1960, 1965",
          "1965, 1970",
          "1970, 1975",
          "1975, 1980",
          "1980, 1985",
          "1985, 1990",
          "1990, 1995",
          "1995, 2000",
          "2000, 2005",
          "2005, 2010"
         ],
         "tickangle": 45
        },
        "title": {
         "text": "Ratio of movies with sequels per 5 years"
        },
        "yaxis": {
         "title": {
          "text": "Ratio (%)"
         }
        }
       },
       "config": {
        "plotlyServerURL": "https://plot.ly"
       }
      },
      "text/html": [
       "<div>                            <div id=\"3cb8a169-6ded-4e79-bee6-5309e4bfe52d\" class=\"plotly-graph-div\" style=\"height:525px; width:100%;\"></div>            <script type=\"text/javascript\">                require([\"plotly\"], function(Plotly) {                    window.PLOTLYENV=window.PLOTLYENV || {};                                    if (document.getElementById(\"3cb8a169-6ded-4e79-bee6-5309e4bfe52d\")) {                    Plotly.newPlot(                        \"3cb8a169-6ded-4e79-bee6-5309e4bfe52d\",                        [{\"line\":{\"color\":\"rgb(102,194,165)\",\"width\":2},\"mode\":\"lines+markers\",\"name\":\"ratio of sequels per movies\",\"x\":[\"1880, 1885\",\"1885, 1890\",\"1890, 1895\",\"1895, 1900\",\"1900, 1905\",\"1905, 1910\",\"1910, 1915\",\"1915, 1920\",\"1920, 1925\",\"1925, 1930\",\"1930, 1935\",\"1935, 1940\",\"1940, 1945\",\"1945, 1950\",\"1950, 1955\",\"1955, 1960\",\"1960, 1965\",\"1965, 1970\",\"1970, 1975\",\"1975, 1980\",\"1980, 1985\",\"1985, 1990\",\"1990, 1995\",\"1995, 2000\",\"2000, 2005\",\"2005, 2010\"],\"y\":[0.0,0.0,0.0,0.0,0.0,0.6622516556291391,0.0,0.062034739454094295,0.07485029940119761,0.06377551020408163,0.21358393848782573,0.34495975469528556,0.585321927059883,0.08547008547008547,0.1724137931034483,0.3627130939426913,0.2751031636863824,0.5523066926575698,0.7573550830177687,0.9626955475330927,0.9447466361294017,1.537317133647409,1.1146496815286624,0.7033363390441839,0.62699633266296,0.5243838489774515],\"type\":\"scatter\"},{\"line\":{\"color\":\"rgb(252,141,98)\",\"width\":2},\"mode\":\"lines+markers\",\"name\":\"ratio of book adaptation per movies\",\"x\":[\"1880, 1885\",\"1885, 1890\",\"1890, 1895\",\"1895, 1900\",\"1900, 1905\",\"1905, 1910\",\"1910, 1915\",\"1915, 1920\",\"1920, 1925\",\"1925, 1930\",\"1930, 1935\",\"1935, 1940\",\"1940, 1945\",\"1945, 1950\",\"1950, 1955\",\"1955, 1960\",\"1960, 1965\",\"1965, 1970\",\"1970, 1975\",\"1975, 1980\",\"1980, 1985\",\"1985, 1990\",\"1990, 1995\",\"1995, 2000\",\"2000, 2005\",\"2005, 2010\"],\"y\":[0.0,0.0,0.0,0.0,1.8867924528301887,2.6490066225165565,0.22388059701492538,0.8684863523573202,1.4970059880239521,1.4668367346938775,2.392140111063648,2.2997316979685705,1.7559657811796487,2.8205128205128207,1.689655172413793,3.5908596300326447,3.094910591471802,3.7361923326835607,3.4663559568890183,3.5198555956678703,3.721729172630976,2.851475328539549,2.502274795268426,2.9936880072137058,2.141251626641429,1.6360776088096485],\"type\":\"scatter\"},{\"line\":{\"color\":\"rgb(141,160,203)\",\"width\":2},\"mode\":\"lines+markers\",\"name\":\"ratio of comics adaptation per movies\",\"x\":[\"1880, 1885\",\"1885, 1890\",\"1890, 1895\",\"1895, 1900\",\"1900, 1905\",\"1905, 1910\",\"1910, 1915\",\"1915, 1920\",\"1920, 1925\",\"1925, 1930\",\"1930, 1935\",\"1935, 1940\",\"1940, 1945\",\"1945, 1950\",\"1950, 1955\",\"1955, 1960\",\"1960, 1965\",\"1965, 1970\",\"1970, 1975\",\"1975, 1980\",\"1980, 1985\",\"1985, 1990\",\"1990, 1995\",\"1995, 2000\",\"2000, 2005\",\"2005, 2010\"],\"y\":[0.0,0.0,0.0,0.0,0.0,0.0,0.0,0.0,0.0,0.0,0.0,0.038328861632809505,0.09004952723998198,0.0,0.06896551724137931,0.0,0.0343878954607978,0.1299545159194282,0.14564520827264782,0.210589651022864,0.31491554537646727,0.2727498140342177,0.40946314831665154,0.2705139765554554,0.35490358452620374,0.34609334032511796],\"type\":\"scatter\"},{\"line\":{\"color\":\"rgb(231,138,195)\",\"width\":2},\"mode\":\"lines+markers\",\"name\":\"ratio of remakes per movies\",\"x\":[\"1880, 1885\",\"1885, 1890\",\"1890, 1895\",\"1895, 1900\",\"1900, 1905\",\"1905, 1910\",\"1910, 1915\",\"1915, 1920\",\"1920, 1925\",\"1925, 1930\",\"1930, 1935\",\"1935, 1940\",\"1940, 1945\",\"1945, 1950\",\"1950, 1955\",\"1955, 1960\",\"1960, 1965\",\"1965, 1970\",\"1970, 1975\",\"1975, 1980\",\"1980, 1985\",\"1985, 1990\",\"1990, 1995\",\"1995, 2000\",\"2000, 2005\",\"2005, 2010\"],\"y\":[0.0,0.0,0.0,1.3888888888888888,0.0,0.0,0.0,0.0,0.2245508982035928,0.25510204081632654,0.21358393848782573,0.30663089306247604,0.22512381809995496,0.38461538461538464,0.3448275862068966,0.4715270221254987,0.24071526822558462,0.22742040285899934,0.17477424992717738,0.3910950661853189,0.572573718866304,0.6942722539052815,0.5459508644222021,0.5229936880072137,0.6743168105997871,0.6397482957524908],\"type\":\"scatter\"}],                        {\"template\":{\"data\":{\"histogram2dcontour\":[{\"type\":\"histogram2dcontour\",\"colorbar\":{\"outlinewidth\":0,\"ticks\":\"\"},\"colorscale\":[[0.0,\"#0d0887\"],[0.1111111111111111,\"#46039f\"],[0.2222222222222222,\"#7201a8\"],[0.3333333333333333,\"#9c179e\"],[0.4444444444444444,\"#bd3786\"],[0.5555555555555556,\"#d8576b\"],[0.6666666666666666,\"#ed7953\"],[0.7777777777777778,\"#fb9f3a\"],[0.8888888888888888,\"#fdca26\"],[1.0,\"#f0f921\"]]}],\"choropleth\":[{\"type\":\"choropleth\",\"colorbar\":{\"outlinewidth\":0,\"ticks\":\"\"}}],\"histogram2d\":[{\"type\":\"histogram2d\",\"colorbar\":{\"outlinewidth\":0,\"ticks\":\"\"},\"colorscale\":[[0.0,\"#0d0887\"],[0.1111111111111111,\"#46039f\"],[0.2222222222222222,\"#7201a8\"],[0.3333333333333333,\"#9c179e\"],[0.4444444444444444,\"#bd3786\"],[0.5555555555555556,\"#d8576b\"],[0.6666666666666666,\"#ed7953\"],[0.7777777777777778,\"#fb9f3a\"],[0.8888888888888888,\"#fdca26\"],[1.0,\"#f0f921\"]]}],\"heatmap\":[{\"type\":\"heatmap\",\"colorbar\":{\"outlinewidth\":0,\"ticks\":\"\"},\"colorscale\":[[0.0,\"#0d0887\"],[0.1111111111111111,\"#46039f\"],[0.2222222222222222,\"#7201a8\"],[0.3333333333333333,\"#9c179e\"],[0.4444444444444444,\"#bd3786\"],[0.5555555555555556,\"#d8576b\"],[0.6666666666666666,\"#ed7953\"],[0.7777777777777778,\"#fb9f3a\"],[0.8888888888888888,\"#fdca26\"],[1.0,\"#f0f921\"]]}],\"heatmapgl\":[{\"type\":\"heatmapgl\",\"colorbar\":{\"outlinewidth\":0,\"ticks\":\"\"},\"colorscale\":[[0.0,\"#0d0887\"],[0.1111111111111111,\"#46039f\"],[0.2222222222222222,\"#7201a8\"],[0.3333333333333333,\"#9c179e\"],[0.4444444444444444,\"#bd3786\"],[0.5555555555555556,\"#d8576b\"],[0.6666666666666666,\"#ed7953\"],[0.7777777777777778,\"#fb9f3a\"],[0.8888888888888888,\"#fdca26\"],[1.0,\"#f0f921\"]]}],\"contourcarpet\":[{\"type\":\"contourcarpet\",\"colorbar\":{\"outlinewidth\":0,\"ticks\":\"\"}}],\"contour\":[{\"type\":\"contour\",\"colorbar\":{\"outlinewidth\":0,\"ticks\":\"\"},\"colorscale\":[[0.0,\"#0d0887\"],[0.1111111111111111,\"#46039f\"],[0.2222222222222222,\"#7201a8\"],[0.3333333333333333,\"#9c179e\"],[0.4444444444444444,\"#bd3786\"],[0.5555555555555556,\"#d8576b\"],[0.6666666666666666,\"#ed7953\"],[0.7777777777777778,\"#fb9f3a\"],[0.8888888888888888,\"#fdca26\"],[1.0,\"#f0f921\"]]}],\"surface\":[{\"type\":\"surface\",\"colorbar\":{\"outlinewidth\":0,\"ticks\":\"\"},\"colorscale\":[[0.0,\"#0d0887\"],[0.1111111111111111,\"#46039f\"],[0.2222222222222222,\"#7201a8\"],[0.3333333333333333,\"#9c179e\"],[0.4444444444444444,\"#bd3786\"],[0.5555555555555556,\"#d8576b\"],[0.6666666666666666,\"#ed7953\"],[0.7777777777777778,\"#fb9f3a\"],[0.8888888888888888,\"#fdca26\"],[1.0,\"#f0f921\"]]}],\"mesh3d\":[{\"type\":\"mesh3d\",\"colorbar\":{\"outlinewidth\":0,\"ticks\":\"\"}}],\"scatter\":[{\"fillpattern\":{\"fillmode\":\"overlay\",\"size\":10,\"solidity\":0.2},\"type\":\"scatter\"}],\"parcoords\":[{\"type\":\"parcoords\",\"line\":{\"colorbar\":{\"outlinewidth\":0,\"ticks\":\"\"}}}],\"scatterpolargl\":[{\"type\":\"scatterpolargl\",\"marker\":{\"colorbar\":{\"outlinewidth\":0,\"ticks\":\"\"}}}],\"bar\":[{\"error_x\":{\"color\":\"#2a3f5f\"},\"error_y\":{\"color\":\"#2a3f5f\"},\"marker\":{\"line\":{\"color\":\"#E5ECF6\",\"width\":0.5},\"pattern\":{\"fillmode\":\"overlay\",\"size\":10,\"solidity\":0.2}},\"type\":\"bar\"}],\"scattergeo\":[{\"type\":\"scattergeo\",\"marker\":{\"colorbar\":{\"outlinewidth\":0,\"ticks\":\"\"}}}],\"scatterpolar\":[{\"type\":\"scatterpolar\",\"marker\":{\"colorbar\":{\"outlinewidth\":0,\"ticks\":\"\"}}}],\"histogram\":[{\"marker\":{\"pattern\":{\"fillmode\":\"overlay\",\"size\":10,\"solidity\":0.2}},\"type\":\"histogram\"}],\"scattergl\":[{\"type\":\"scattergl\",\"marker\":{\"colorbar\":{\"outlinewidth\":0,\"ticks\":\"\"}}}],\"scatter3d\":[{\"type\":\"scatter3d\",\"line\":{\"colorbar\":{\"outlinewidth\":0,\"ticks\":\"\"}},\"marker\":{\"colorbar\":{\"outlinewidth\":0,\"ticks\":\"\"}}}],\"scattermapbox\":[{\"type\":\"scattermapbox\",\"marker\":{\"colorbar\":{\"outlinewidth\":0,\"ticks\":\"\"}}}],\"scatterternary\":[{\"type\":\"scatterternary\",\"marker\":{\"colorbar\":{\"outlinewidth\":0,\"ticks\":\"\"}}}],\"scattercarpet\":[{\"type\":\"scattercarpet\",\"marker\":{\"colorbar\":{\"outlinewidth\":0,\"ticks\":\"\"}}}],\"carpet\":[{\"aaxis\":{\"endlinecolor\":\"#2a3f5f\",\"gridcolor\":\"white\",\"linecolor\":\"white\",\"minorgridcolor\":\"white\",\"startlinecolor\":\"#2a3f5f\"},\"baxis\":{\"endlinecolor\":\"#2a3f5f\",\"gridcolor\":\"white\",\"linecolor\":\"white\",\"minorgridcolor\":\"white\",\"startlinecolor\":\"#2a3f5f\"},\"type\":\"carpet\"}],\"table\":[{\"cells\":{\"fill\":{\"color\":\"#EBF0F8\"},\"line\":{\"color\":\"white\"}},\"header\":{\"fill\":{\"color\":\"#C8D4E3\"},\"line\":{\"color\":\"white\"}},\"type\":\"table\"}],\"barpolar\":[{\"marker\":{\"line\":{\"color\":\"#E5ECF6\",\"width\":0.5},\"pattern\":{\"fillmode\":\"overlay\",\"size\":10,\"solidity\":0.2}},\"type\":\"barpolar\"}],\"pie\":[{\"automargin\":true,\"type\":\"pie\"}]},\"layout\":{\"autotypenumbers\":\"strict\",\"colorway\":[\"#636efa\",\"#EF553B\",\"#00cc96\",\"#ab63fa\",\"#FFA15A\",\"#19d3f3\",\"#FF6692\",\"#B6E880\",\"#FF97FF\",\"#FECB52\"],\"font\":{\"color\":\"#2a3f5f\"},\"hovermode\":\"closest\",\"hoverlabel\":{\"align\":\"left\"},\"paper_bgcolor\":\"white\",\"plot_bgcolor\":\"#E5ECF6\",\"polar\":{\"bgcolor\":\"#E5ECF6\",\"angularaxis\":{\"gridcolor\":\"white\",\"linecolor\":\"white\",\"ticks\":\"\"},\"radialaxis\":{\"gridcolor\":\"white\",\"linecolor\":\"white\",\"ticks\":\"\"}},\"ternary\":{\"bgcolor\":\"#E5ECF6\",\"aaxis\":{\"gridcolor\":\"white\",\"linecolor\":\"white\",\"ticks\":\"\"},\"baxis\":{\"gridcolor\":\"white\",\"linecolor\":\"white\",\"ticks\":\"\"},\"caxis\":{\"gridcolor\":\"white\",\"linecolor\":\"white\",\"ticks\":\"\"}},\"coloraxis\":{\"colorbar\":{\"outlinewidth\":0,\"ticks\":\"\"}},\"colorscale\":{\"sequential\":[[0.0,\"#0d0887\"],[0.1111111111111111,\"#46039f\"],[0.2222222222222222,\"#7201a8\"],[0.3333333333333333,\"#9c179e\"],[0.4444444444444444,\"#bd3786\"],[0.5555555555555556,\"#d8576b\"],[0.6666666666666666,\"#ed7953\"],[0.7777777777777778,\"#fb9f3a\"],[0.8888888888888888,\"#fdca26\"],[1.0,\"#f0f921\"]],\"sequentialminus\":[[0.0,\"#0d0887\"],[0.1111111111111111,\"#46039f\"],[0.2222222222222222,\"#7201a8\"],[0.3333333333333333,\"#9c179e\"],[0.4444444444444444,\"#bd3786\"],[0.5555555555555556,\"#d8576b\"],[0.6666666666666666,\"#ed7953\"],[0.7777777777777778,\"#fb9f3a\"],[0.8888888888888888,\"#fdca26\"],[1.0,\"#f0f921\"]],\"diverging\":[[0,\"#8e0152\"],[0.1,\"#c51b7d\"],[0.2,\"#de77ae\"],[0.3,\"#f1b6da\"],[0.4,\"#fde0ef\"],[0.5,\"#f7f7f7\"],[0.6,\"#e6f5d0\"],[0.7,\"#b8e186\"],[0.8,\"#7fbc41\"],[0.9,\"#4d9221\"],[1,\"#276419\"]]},\"xaxis\":{\"gridcolor\":\"white\",\"linecolor\":\"white\",\"ticks\":\"\",\"title\":{\"standoff\":15},\"zerolinecolor\":\"white\",\"automargin\":true,\"zerolinewidth\":2},\"yaxis\":{\"gridcolor\":\"white\",\"linecolor\":\"white\",\"ticks\":\"\",\"title\":{\"standoff\":15},\"zerolinecolor\":\"white\",\"automargin\":true,\"zerolinewidth\":2},\"scene\":{\"xaxis\":{\"backgroundcolor\":\"#E5ECF6\",\"gridcolor\":\"white\",\"linecolor\":\"white\",\"showbackground\":true,\"ticks\":\"\",\"zerolinecolor\":\"white\",\"gridwidth\":2},\"yaxis\":{\"backgroundcolor\":\"#E5ECF6\",\"gridcolor\":\"white\",\"linecolor\":\"white\",\"showbackground\":true,\"ticks\":\"\",\"zerolinecolor\":\"white\",\"gridwidth\":2},\"zaxis\":{\"backgroundcolor\":\"#E5ECF6\",\"gridcolor\":\"white\",\"linecolor\":\"white\",\"showbackground\":true,\"ticks\":\"\",\"zerolinecolor\":\"white\",\"gridwidth\":2}},\"shapedefaults\":{\"line\":{\"color\":\"#2a3f5f\"}},\"annotationdefaults\":{\"arrowcolor\":\"#2a3f5f\",\"arrowhead\":0,\"arrowwidth\":1},\"geo\":{\"bgcolor\":\"white\",\"landcolor\":\"#E5ECF6\",\"subunitcolor\":\"white\",\"showland\":true,\"showlakes\":true,\"lakecolor\":\"white\"},\"title\":{\"x\":0.05},\"mapbox\":{\"style\":\"light\"}}},\"xaxis\":{\"title\":{\"text\":\"Year\"},\"tickvals\":[\"1880, 1885\",\"1885, 1890\",\"1890, 1895\",\"1895, 1900\",\"1900, 1905\",\"1905, 1910\",\"1910, 1915\",\"1915, 1920\",\"1920, 1925\",\"1925, 1930\",\"1930, 1935\",\"1935, 1940\",\"1940, 1945\",\"1945, 1950\",\"1950, 1955\",\"1955, 1960\",\"1960, 1965\",\"1965, 1970\",\"1970, 1975\",\"1975, 1980\",\"1980, 1985\",\"1985, 1990\",\"1990, 1995\",\"1995, 2000\",\"2000, 2005\",\"2005, 2010\"],\"tickangle\":45},\"title\":{\"text\":\"Ratio of movies with sequels per 5 years\"},\"yaxis\":{\"title\":{\"text\":\"Ratio (%)\"}}},                        {\"responsive\": true}                    ).then(function(){\n",
       "                            \n",
       "var gd = document.getElementById('3cb8a169-6ded-4e79-bee6-5309e4bfe52d');\n",
       "var x = new MutationObserver(function (mutations, observer) {{\n",
       "        var display = window.getComputedStyle(gd).display;\n",
       "        if (!display || display === 'none') {{\n",
       "            console.log([gd, 'removed!']);\n",
       "            Plotly.purge(gd);\n",
       "            observer.disconnect();\n",
       "        }}\n",
       "}});\n",
       "\n",
       "// Listen for the removal of the full notebook cells\n",
       "var notebookContainer = gd.closest('#notebook-container');\n",
       "if (notebookContainer) {{\n",
       "    x.observe(notebookContainer, {childList: true});\n",
       "}}\n",
       "\n",
       "// Listen for the clearing of the current output cell\n",
       "var outputEl = gd.closest('.output');\n",
       "if (outputEl) {{\n",
       "    x.observe(outputEl, {childList: true});\n",
       "}}\n",
       "\n",
       "                        })                };                });            </script>        </div>"
      ]
     },
     "metadata": {},
     "output_type": "display_data"
    }
   ],
   "execution_count": 265
  },
  {
   "metadata": {
    "ExecuteTime": {
     "end_time": "2024-12-15T20:39:21.955159Z",
     "start_time": "2024-12-15T20:39:21.728605Z"
    }
   },
   "cell_type": "code",
   "source": [
    "\n",
    "from src.models.movie_counter import get_ratio_movie_figure\n",
    "\n",
    "fig = get_ratio_movie_figure(movie_frames_concat)\n",
    "fig"
   ],
   "id": "36bab5c3dba1f980",
   "outputs": [
    {
     "data": {
      "application/vnd.plotly.v1+json": {
       "data": [
        {
         "line": {
          "color": "rgb(102,194,165)",
          "width": 2
         },
         "mode": "lines+markers",
         "name": "ratio of sequels per movies",
         "x": [
          "1880, 1885",
          "1885, 1890",
          "1890, 1895",
          "1895, 1900",
          "1900, 1905",
          "1905, 1910",
          "1910, 1915",
          "1915, 1920",
          "1920, 1925",
          "1925, 1930",
          "1930, 1935",
          "1935, 1940",
          "1940, 1945",
          "1945, 1950",
          "1950, 1955",
          "1955, 1960",
          "1960, 1965",
          "1965, 1970",
          "1970, 1975",
          "1975, 1980",
          "1980, 1985",
          "1985, 1990",
          "1990, 1995",
          "1995, 2000",
          "2000, 2005",
          "2005, 2010",
          "2010, 2015",
          "2015, 2020",
          "2020, 2025"
         ],
         "y": [
          0.0,
          0.0,
          0.0,
          0.0,
          0.0,
          0.6622516556291391,
          0.0,
          0.062034739454094295,
          0.07485029940119761,
          0.06377551020408163,
          0.21358393848782573,
          0.34495975469528556,
          0.585321927059883,
          0.08547008547008547,
          0.1724137931034483,
          0.3627130939426913,
          0.2751031636863824,
          0.5523066926575698,
          0.7573550830177687,
          0.9626955475330927,
          0.9447466361294017,
          1.537317133647409,
          1.1146496815286624,
          0.7033363390441839,
          0.62699633266296,
          0.583941605839416,
          1.3180688408526022,
          1.7621712007203034,
          2.5024061597690084
         ],
         "type": "scatter"
        },
        {
         "line": {
          "color": "rgb(252,141,98)",
          "width": 2
         },
         "mode": "lines+markers",
         "name": "ratio of book adaptation per movies",
         "x": [
          "1880, 1885",
          "1885, 1890",
          "1890, 1895",
          "1895, 1900",
          "1900, 1905",
          "1905, 1910",
          "1910, 1915",
          "1915, 1920",
          "1920, 1925",
          "1925, 1930",
          "1930, 1935",
          "1935, 1940",
          "1940, 1945",
          "1945, 1950",
          "1950, 1955",
          "1955, 1960",
          "1960, 1965",
          "1965, 1970",
          "1970, 1975",
          "1975, 1980",
          "1980, 1985",
          "1985, 1990",
          "1990, 1995",
          "1995, 2000",
          "2000, 2005",
          "2005, 2010",
          "2010, 2015",
          "2015, 2020",
          "2020, 2025"
         ],
         "y": [
          0.0,
          0.0,
          0.0,
          0.0,
          1.8867924528301887,
          2.6490066225165565,
          0.22388059701492538,
          0.8684863523573202,
          1.4970059880239521,
          1.4668367346938775,
          2.392140111063648,
          2.2997316979685705,
          1.7559657811796487,
          2.8205128205128207,
          1.689655172413793,
          3.5908596300326447,
          3.094910591471802,
          3.7361923326835607,
          3.4663559568890183,
          3.5198555956678703,
          3.721729172630976,
          2.851475328539549,
          2.502274795268426,
          2.9936880072137058,
          2.141251626641429,
          1.9149849720910261,
          3.1859606838894328,
          4.1996269856582416,
          6.242265915028186
         ],
         "type": "scatter"
        },
        {
         "line": {
          "color": "rgb(141,160,203)",
          "width": 2
         },
         "mode": "lines+markers",
         "name": "ratio of comics adaptation per movies",
         "x": [
          "1880, 1885",
          "1885, 1890",
          "1890, 1895",
          "1895, 1900",
          "1900, 1905",
          "1905, 1910",
          "1910, 1915",
          "1915, 1920",
          "1920, 1925",
          "1925, 1930",
          "1930, 1935",
          "1935, 1940",
          "1940, 1945",
          "1945, 1950",
          "1950, 1955",
          "1955, 1960",
          "1960, 1965",
          "1965, 1970",
          "1970, 1975",
          "1975, 1980",
          "1980, 1985",
          "1985, 1990",
          "1990, 1995",
          "1995, 2000",
          "2000, 2005",
          "2005, 2010",
          "2010, 2015",
          "2015, 2020",
          "2020, 2025"
         ],
         "y": [
          0.0,
          0.0,
          0.0,
          0.0,
          0.0,
          0.0,
          0.0,
          0.0,
          0.0,
          0.0,
          0.0,
          0.038328861632809505,
          0.09004952723998198,
          0.0,
          0.06896551724137931,
          0.0,
          0.0343878954607978,
          0.1299545159194282,
          0.14564520827264782,
          0.210589651022864,
          0.31491554537646727,
          0.2727498140342177,
          0.40946314831665154,
          0.2705139765554554,
          0.35490358452620374,
          0.455130957492486,
          0.873691345936582,
          0.8232040645700689,
          0.8249690636601128
         ],
         "type": "scatter"
        },
        {
         "line": {
          "color": "rgb(231,138,195)",
          "width": 2
         },
         "mode": "lines+markers",
         "name": "ratio of remakes per movies",
         "x": [
          "1880, 1885",
          "1885, 1890",
          "1890, 1895",
          "1895, 1900",
          "1900, 1905",
          "1905, 1910",
          "1910, 1915",
          "1915, 1920",
          "1920, 1925",
          "1925, 1930",
          "1930, 1935",
          "1935, 1940",
          "1940, 1945",
          "1945, 1950",
          "1950, 1955",
          "1955, 1960",
          "1960, 1965",
          "1965, 1970",
          "1970, 1975",
          "1975, 1980",
          "1980, 1985",
          "1985, 1990",
          "1990, 1995",
          "1995, 2000",
          "2000, 2005",
          "2005, 2010",
          "2010, 2015",
          "2015, 2020",
          "2020, 2025"
         ],
         "y": [
          0.0,
          0.0,
          0.0,
          1.3888888888888888,
          0.0,
          0.0,
          0.0,
          0.0,
          0.2245508982035928,
          0.25510204081632654,
          0.21358393848782573,
          0.30663089306247604,
          0.22512381809995496,
          0.38461538461538464,
          0.3448275862068966,
          0.4715270221254987,
          0.24071526822558462,
          0.22742040285899934,
          0.17477424992717738,
          0.3910950661853189,
          0.572573718866304,
          0.6942722539052815,
          0.5459508644222021,
          0.5229936880072137,
          0.6743168105997871,
          0.6869901245169601,
          0.8360322361979363,
          1.144768152292752,
          1.3749484394335214
         ],
         "type": "scatter"
        }
       ],
       "layout": {
        "template": {
         "data": {
          "histogram2dcontour": [
           {
            "type": "histogram2dcontour",
            "colorbar": {
             "outlinewidth": 0,
             "ticks": ""
            },
            "colorscale": [
             [
              0.0,
              "#0d0887"
             ],
             [
              0.1111111111111111,
              "#46039f"
             ],
             [
              0.2222222222222222,
              "#7201a8"
             ],
             [
              0.3333333333333333,
              "#9c179e"
             ],
             [
              0.4444444444444444,
              "#bd3786"
             ],
             [
              0.5555555555555556,
              "#d8576b"
             ],
             [
              0.6666666666666666,
              "#ed7953"
             ],
             [
              0.7777777777777778,
              "#fb9f3a"
             ],
             [
              0.8888888888888888,
              "#fdca26"
             ],
             [
              1.0,
              "#f0f921"
             ]
            ]
           }
          ],
          "choropleth": [
           {
            "type": "choropleth",
            "colorbar": {
             "outlinewidth": 0,
             "ticks": ""
            }
           }
          ],
          "histogram2d": [
           {
            "type": "histogram2d",
            "colorbar": {
             "outlinewidth": 0,
             "ticks": ""
            },
            "colorscale": [
             [
              0.0,
              "#0d0887"
             ],
             [
              0.1111111111111111,
              "#46039f"
             ],
             [
              0.2222222222222222,
              "#7201a8"
             ],
             [
              0.3333333333333333,
              "#9c179e"
             ],
             [
              0.4444444444444444,
              "#bd3786"
             ],
             [
              0.5555555555555556,
              "#d8576b"
             ],
             [
              0.6666666666666666,
              "#ed7953"
             ],
             [
              0.7777777777777778,
              "#fb9f3a"
             ],
             [
              0.8888888888888888,
              "#fdca26"
             ],
             [
              1.0,
              "#f0f921"
             ]
            ]
           }
          ],
          "heatmap": [
           {
            "type": "heatmap",
            "colorbar": {
             "outlinewidth": 0,
             "ticks": ""
            },
            "colorscale": [
             [
              0.0,
              "#0d0887"
             ],
             [
              0.1111111111111111,
              "#46039f"
             ],
             [
              0.2222222222222222,
              "#7201a8"
             ],
             [
              0.3333333333333333,
              "#9c179e"
             ],
             [
              0.4444444444444444,
              "#bd3786"
             ],
             [
              0.5555555555555556,
              "#d8576b"
             ],
             [
              0.6666666666666666,
              "#ed7953"
             ],
             [
              0.7777777777777778,
              "#fb9f3a"
             ],
             [
              0.8888888888888888,
              "#fdca26"
             ],
             [
              1.0,
              "#f0f921"
             ]
            ]
           }
          ],
          "heatmapgl": [
           {
            "type": "heatmapgl",
            "colorbar": {
             "outlinewidth": 0,
             "ticks": ""
            },
            "colorscale": [
             [
              0.0,
              "#0d0887"
             ],
             [
              0.1111111111111111,
              "#46039f"
             ],
             [
              0.2222222222222222,
              "#7201a8"
             ],
             [
              0.3333333333333333,
              "#9c179e"
             ],
             [
              0.4444444444444444,
              "#bd3786"
             ],
             [
              0.5555555555555556,
              "#d8576b"
             ],
             [
              0.6666666666666666,
              "#ed7953"
             ],
             [
              0.7777777777777778,
              "#fb9f3a"
             ],
             [
              0.8888888888888888,
              "#fdca26"
             ],
             [
              1.0,
              "#f0f921"
             ]
            ]
           }
          ],
          "contourcarpet": [
           {
            "type": "contourcarpet",
            "colorbar": {
             "outlinewidth": 0,
             "ticks": ""
            }
           }
          ],
          "contour": [
           {
            "type": "contour",
            "colorbar": {
             "outlinewidth": 0,
             "ticks": ""
            },
            "colorscale": [
             [
              0.0,
              "#0d0887"
             ],
             [
              0.1111111111111111,
              "#46039f"
             ],
             [
              0.2222222222222222,
              "#7201a8"
             ],
             [
              0.3333333333333333,
              "#9c179e"
             ],
             [
              0.4444444444444444,
              "#bd3786"
             ],
             [
              0.5555555555555556,
              "#d8576b"
             ],
             [
              0.6666666666666666,
              "#ed7953"
             ],
             [
              0.7777777777777778,
              "#fb9f3a"
             ],
             [
              0.8888888888888888,
              "#fdca26"
             ],
             [
              1.0,
              "#f0f921"
             ]
            ]
           }
          ],
          "surface": [
           {
            "type": "surface",
            "colorbar": {
             "outlinewidth": 0,
             "ticks": ""
            },
            "colorscale": [
             [
              0.0,
              "#0d0887"
             ],
             [
              0.1111111111111111,
              "#46039f"
             ],
             [
              0.2222222222222222,
              "#7201a8"
             ],
             [
              0.3333333333333333,
              "#9c179e"
             ],
             [
              0.4444444444444444,
              "#bd3786"
             ],
             [
              0.5555555555555556,
              "#d8576b"
             ],
             [
              0.6666666666666666,
              "#ed7953"
             ],
             [
              0.7777777777777778,
              "#fb9f3a"
             ],
             [
              0.8888888888888888,
              "#fdca26"
             ],
             [
              1.0,
              "#f0f921"
             ]
            ]
           }
          ],
          "mesh3d": [
           {
            "type": "mesh3d",
            "colorbar": {
             "outlinewidth": 0,
             "ticks": ""
            }
           }
          ],
          "scatter": [
           {
            "fillpattern": {
             "fillmode": "overlay",
             "size": 10,
             "solidity": 0.2
            },
            "type": "scatter"
           }
          ],
          "parcoords": [
           {
            "type": "parcoords",
            "line": {
             "colorbar": {
              "outlinewidth": 0,
              "ticks": ""
             }
            }
           }
          ],
          "scatterpolargl": [
           {
            "type": "scatterpolargl",
            "marker": {
             "colorbar": {
              "outlinewidth": 0,
              "ticks": ""
             }
            }
           }
          ],
          "bar": [
           {
            "error_x": {
             "color": "#2a3f5f"
            },
            "error_y": {
             "color": "#2a3f5f"
            },
            "marker": {
             "line": {
              "color": "#E5ECF6",
              "width": 0.5
             },
             "pattern": {
              "fillmode": "overlay",
              "size": 10,
              "solidity": 0.2
             }
            },
            "type": "bar"
           }
          ],
          "scattergeo": [
           {
            "type": "scattergeo",
            "marker": {
             "colorbar": {
              "outlinewidth": 0,
              "ticks": ""
             }
            }
           }
          ],
          "scatterpolar": [
           {
            "type": "scatterpolar",
            "marker": {
             "colorbar": {
              "outlinewidth": 0,
              "ticks": ""
             }
            }
           }
          ],
          "histogram": [
           {
            "marker": {
             "pattern": {
              "fillmode": "overlay",
              "size": 10,
              "solidity": 0.2
             }
            },
            "type": "histogram"
           }
          ],
          "scattergl": [
           {
            "type": "scattergl",
            "marker": {
             "colorbar": {
              "outlinewidth": 0,
              "ticks": ""
             }
            }
           }
          ],
          "scatter3d": [
           {
            "type": "scatter3d",
            "line": {
             "colorbar": {
              "outlinewidth": 0,
              "ticks": ""
             }
            },
            "marker": {
             "colorbar": {
              "outlinewidth": 0,
              "ticks": ""
             }
            }
           }
          ],
          "scattermapbox": [
           {
            "type": "scattermapbox",
            "marker": {
             "colorbar": {
              "outlinewidth": 0,
              "ticks": ""
             }
            }
           }
          ],
          "scatterternary": [
           {
            "type": "scatterternary",
            "marker": {
             "colorbar": {
              "outlinewidth": 0,
              "ticks": ""
             }
            }
           }
          ],
          "scattercarpet": [
           {
            "type": "scattercarpet",
            "marker": {
             "colorbar": {
              "outlinewidth": 0,
              "ticks": ""
             }
            }
           }
          ],
          "carpet": [
           {
            "aaxis": {
             "endlinecolor": "#2a3f5f",
             "gridcolor": "white",
             "linecolor": "white",
             "minorgridcolor": "white",
             "startlinecolor": "#2a3f5f"
            },
            "baxis": {
             "endlinecolor": "#2a3f5f",
             "gridcolor": "white",
             "linecolor": "white",
             "minorgridcolor": "white",
             "startlinecolor": "#2a3f5f"
            },
            "type": "carpet"
           }
          ],
          "table": [
           {
            "cells": {
             "fill": {
              "color": "#EBF0F8"
             },
             "line": {
              "color": "white"
             }
            },
            "header": {
             "fill": {
              "color": "#C8D4E3"
             },
             "line": {
              "color": "white"
             }
            },
            "type": "table"
           }
          ],
          "barpolar": [
           {
            "marker": {
             "line": {
              "color": "#E5ECF6",
              "width": 0.5
             },
             "pattern": {
              "fillmode": "overlay",
              "size": 10,
              "solidity": 0.2
             }
            },
            "type": "barpolar"
           }
          ],
          "pie": [
           {
            "automargin": true,
            "type": "pie"
           }
          ]
         },
         "layout": {
          "autotypenumbers": "strict",
          "colorway": [
           "#636efa",
           "#EF553B",
           "#00cc96",
           "#ab63fa",
           "#FFA15A",
           "#19d3f3",
           "#FF6692",
           "#B6E880",
           "#FF97FF",
           "#FECB52"
          ],
          "font": {
           "color": "#2a3f5f"
          },
          "hovermode": "closest",
          "hoverlabel": {
           "align": "left"
          },
          "paper_bgcolor": "white",
          "plot_bgcolor": "#E5ECF6",
          "polar": {
           "bgcolor": "#E5ECF6",
           "angularaxis": {
            "gridcolor": "white",
            "linecolor": "white",
            "ticks": ""
           },
           "radialaxis": {
            "gridcolor": "white",
            "linecolor": "white",
            "ticks": ""
           }
          },
          "ternary": {
           "bgcolor": "#E5ECF6",
           "aaxis": {
            "gridcolor": "white",
            "linecolor": "white",
            "ticks": ""
           },
           "baxis": {
            "gridcolor": "white",
            "linecolor": "white",
            "ticks": ""
           },
           "caxis": {
            "gridcolor": "white",
            "linecolor": "white",
            "ticks": ""
           }
          },
          "coloraxis": {
           "colorbar": {
            "outlinewidth": 0,
            "ticks": ""
           }
          },
          "colorscale": {
           "sequential": [
            [
             0.0,
             "#0d0887"
            ],
            [
             0.1111111111111111,
             "#46039f"
            ],
            [
             0.2222222222222222,
             "#7201a8"
            ],
            [
             0.3333333333333333,
             "#9c179e"
            ],
            [
             0.4444444444444444,
             "#bd3786"
            ],
            [
             0.5555555555555556,
             "#d8576b"
            ],
            [
             0.6666666666666666,
             "#ed7953"
            ],
            [
             0.7777777777777778,
             "#fb9f3a"
            ],
            [
             0.8888888888888888,
             "#fdca26"
            ],
            [
             1.0,
             "#f0f921"
            ]
           ],
           "sequentialminus": [
            [
             0.0,
             "#0d0887"
            ],
            [
             0.1111111111111111,
             "#46039f"
            ],
            [
             0.2222222222222222,
             "#7201a8"
            ],
            [
             0.3333333333333333,
             "#9c179e"
            ],
            [
             0.4444444444444444,
             "#bd3786"
            ],
            [
             0.5555555555555556,
             "#d8576b"
            ],
            [
             0.6666666666666666,
             "#ed7953"
            ],
            [
             0.7777777777777778,
             "#fb9f3a"
            ],
            [
             0.8888888888888888,
             "#fdca26"
            ],
            [
             1.0,
             "#f0f921"
            ]
           ],
           "diverging": [
            [
             0,
             "#8e0152"
            ],
            [
             0.1,
             "#c51b7d"
            ],
            [
             0.2,
             "#de77ae"
            ],
            [
             0.3,
             "#f1b6da"
            ],
            [
             0.4,
             "#fde0ef"
            ],
            [
             0.5,
             "#f7f7f7"
            ],
            [
             0.6,
             "#e6f5d0"
            ],
            [
             0.7,
             "#b8e186"
            ],
            [
             0.8,
             "#7fbc41"
            ],
            [
             0.9,
             "#4d9221"
            ],
            [
             1,
             "#276419"
            ]
           ]
          },
          "xaxis": {
           "gridcolor": "white",
           "linecolor": "white",
           "ticks": "",
           "title": {
            "standoff": 15
           },
           "zerolinecolor": "white",
           "automargin": true,
           "zerolinewidth": 2
          },
          "yaxis": {
           "gridcolor": "white",
           "linecolor": "white",
           "ticks": "",
           "title": {
            "standoff": 15
           },
           "zerolinecolor": "white",
           "automargin": true,
           "zerolinewidth": 2
          },
          "scene": {
           "xaxis": {
            "backgroundcolor": "#E5ECF6",
            "gridcolor": "white",
            "linecolor": "white",
            "showbackground": true,
            "ticks": "",
            "zerolinecolor": "white",
            "gridwidth": 2
           },
           "yaxis": {
            "backgroundcolor": "#E5ECF6",
            "gridcolor": "white",
            "linecolor": "white",
            "showbackground": true,
            "ticks": "",
            "zerolinecolor": "white",
            "gridwidth": 2
           },
           "zaxis": {
            "backgroundcolor": "#E5ECF6",
            "gridcolor": "white",
            "linecolor": "white",
            "showbackground": true,
            "ticks": "",
            "zerolinecolor": "white",
            "gridwidth": 2
           }
          },
          "shapedefaults": {
           "line": {
            "color": "#2a3f5f"
           }
          },
          "annotationdefaults": {
           "arrowcolor": "#2a3f5f",
           "arrowhead": 0,
           "arrowwidth": 1
          },
          "geo": {
           "bgcolor": "white",
           "landcolor": "#E5ECF6",
           "subunitcolor": "white",
           "showland": true,
           "showlakes": true,
           "lakecolor": "white"
          },
          "title": {
           "x": 0.05
          },
          "mapbox": {
           "style": "light"
          }
         }
        },
        "xaxis": {
         "title": {
          "text": "Year"
         },
         "tickvals": [
          "1880, 1885",
          "1885, 1890",
          "1890, 1895",
          "1895, 1900",
          "1900, 1905",
          "1905, 1910",
          "1910, 1915",
          "1915, 1920",
          "1920, 1925",
          "1925, 1930",
          "1930, 1935",
          "1935, 1940",
          "1940, 1945",
          "1945, 1950",
          "1950, 1955",
          "1955, 1960",
          "1960, 1965",
          "1965, 1970",
          "1970, 1975",
          "1975, 1980",
          "1980, 1985",
          "1985, 1990",
          "1990, 1995",
          "1995, 2000",
          "2000, 2005",
          "2005, 2010",
          "2010, 2015",
          "2015, 2020",
          "2020, 2025"
         ],
         "tickangle": 45
        },
        "title": {
         "text": "Ratio of movies with sequels per 5 years"
        },
        "yaxis": {
         "title": {
          "text": "Ratio (%)"
         }
        }
       },
       "config": {
        "plotlyServerURL": "https://plot.ly"
       }
      },
      "text/html": [
       "<div>                            <div id=\"c65f45bf-0403-4d19-be1b-70d35b1724d9\" class=\"plotly-graph-div\" style=\"height:525px; width:100%;\"></div>            <script type=\"text/javascript\">                require([\"plotly\"], function(Plotly) {                    window.PLOTLYENV=window.PLOTLYENV || {};                                    if (document.getElementById(\"c65f45bf-0403-4d19-be1b-70d35b1724d9\")) {                    Plotly.newPlot(                        \"c65f45bf-0403-4d19-be1b-70d35b1724d9\",                        [{\"line\":{\"color\":\"rgb(102,194,165)\",\"width\":2},\"mode\":\"lines+markers\",\"name\":\"ratio of sequels per movies\",\"x\":[\"1880, 1885\",\"1885, 1890\",\"1890, 1895\",\"1895, 1900\",\"1900, 1905\",\"1905, 1910\",\"1910, 1915\",\"1915, 1920\",\"1920, 1925\",\"1925, 1930\",\"1930, 1935\",\"1935, 1940\",\"1940, 1945\",\"1945, 1950\",\"1950, 1955\",\"1955, 1960\",\"1960, 1965\",\"1965, 1970\",\"1970, 1975\",\"1975, 1980\",\"1980, 1985\",\"1985, 1990\",\"1990, 1995\",\"1995, 2000\",\"2000, 2005\",\"2005, 2010\",\"2010, 2015\",\"2015, 2020\",\"2020, 2025\"],\"y\":[0.0,0.0,0.0,0.0,0.0,0.6622516556291391,0.0,0.062034739454094295,0.07485029940119761,0.06377551020408163,0.21358393848782573,0.34495975469528556,0.585321927059883,0.08547008547008547,0.1724137931034483,0.3627130939426913,0.2751031636863824,0.5523066926575698,0.7573550830177687,0.9626955475330927,0.9447466361294017,1.537317133647409,1.1146496815286624,0.7033363390441839,0.62699633266296,0.583941605839416,1.3180688408526022,1.7621712007203034,2.5024061597690084],\"type\":\"scatter\"},{\"line\":{\"color\":\"rgb(252,141,98)\",\"width\":2},\"mode\":\"lines+markers\",\"name\":\"ratio of book adaptation per movies\",\"x\":[\"1880, 1885\",\"1885, 1890\",\"1890, 1895\",\"1895, 1900\",\"1900, 1905\",\"1905, 1910\",\"1910, 1915\",\"1915, 1920\",\"1920, 1925\",\"1925, 1930\",\"1930, 1935\",\"1935, 1940\",\"1940, 1945\",\"1945, 1950\",\"1950, 1955\",\"1955, 1960\",\"1960, 1965\",\"1965, 1970\",\"1970, 1975\",\"1975, 1980\",\"1980, 1985\",\"1985, 1990\",\"1990, 1995\",\"1995, 2000\",\"2000, 2005\",\"2005, 2010\",\"2010, 2015\",\"2015, 2020\",\"2020, 2025\"],\"y\":[0.0,0.0,0.0,0.0,1.8867924528301887,2.6490066225165565,0.22388059701492538,0.8684863523573202,1.4970059880239521,1.4668367346938775,2.392140111063648,2.2997316979685705,1.7559657811796487,2.8205128205128207,1.689655172413793,3.5908596300326447,3.094910591471802,3.7361923326835607,3.4663559568890183,3.5198555956678703,3.721729172630976,2.851475328539549,2.502274795268426,2.9936880072137058,2.141251626641429,1.9149849720910261,3.1859606838894328,4.1996269856582416,6.242265915028186],\"type\":\"scatter\"},{\"line\":{\"color\":\"rgb(141,160,203)\",\"width\":2},\"mode\":\"lines+markers\",\"name\":\"ratio of comics adaptation per movies\",\"x\":[\"1880, 1885\",\"1885, 1890\",\"1890, 1895\",\"1895, 1900\",\"1900, 1905\",\"1905, 1910\",\"1910, 1915\",\"1915, 1920\",\"1920, 1925\",\"1925, 1930\",\"1930, 1935\",\"1935, 1940\",\"1940, 1945\",\"1945, 1950\",\"1950, 1955\",\"1955, 1960\",\"1960, 1965\",\"1965, 1970\",\"1970, 1975\",\"1975, 1980\",\"1980, 1985\",\"1985, 1990\",\"1990, 1995\",\"1995, 2000\",\"2000, 2005\",\"2005, 2010\",\"2010, 2015\",\"2015, 2020\",\"2020, 2025\"],\"y\":[0.0,0.0,0.0,0.0,0.0,0.0,0.0,0.0,0.0,0.0,0.0,0.038328861632809505,0.09004952723998198,0.0,0.06896551724137931,0.0,0.0343878954607978,0.1299545159194282,0.14564520827264782,0.210589651022864,0.31491554537646727,0.2727498140342177,0.40946314831665154,0.2705139765554554,0.35490358452620374,0.455130957492486,0.873691345936582,0.8232040645700689,0.8249690636601128],\"type\":\"scatter\"},{\"line\":{\"color\":\"rgb(231,138,195)\",\"width\":2},\"mode\":\"lines+markers\",\"name\":\"ratio of remakes per movies\",\"x\":[\"1880, 1885\",\"1885, 1890\",\"1890, 1895\",\"1895, 1900\",\"1900, 1905\",\"1905, 1910\",\"1910, 1915\",\"1915, 1920\",\"1920, 1925\",\"1925, 1930\",\"1930, 1935\",\"1935, 1940\",\"1940, 1945\",\"1945, 1950\",\"1950, 1955\",\"1955, 1960\",\"1960, 1965\",\"1965, 1970\",\"1970, 1975\",\"1975, 1980\",\"1980, 1985\",\"1985, 1990\",\"1990, 1995\",\"1995, 2000\",\"2000, 2005\",\"2005, 2010\",\"2010, 2015\",\"2015, 2020\",\"2020, 2025\"],\"y\":[0.0,0.0,0.0,1.3888888888888888,0.0,0.0,0.0,0.0,0.2245508982035928,0.25510204081632654,0.21358393848782573,0.30663089306247604,0.22512381809995496,0.38461538461538464,0.3448275862068966,0.4715270221254987,0.24071526822558462,0.22742040285899934,0.17477424992717738,0.3910950661853189,0.572573718866304,0.6942722539052815,0.5459508644222021,0.5229936880072137,0.6743168105997871,0.6869901245169601,0.8360322361979363,1.144768152292752,1.3749484394335214],\"type\":\"scatter\"}],                        {\"template\":{\"data\":{\"histogram2dcontour\":[{\"type\":\"histogram2dcontour\",\"colorbar\":{\"outlinewidth\":0,\"ticks\":\"\"},\"colorscale\":[[0.0,\"#0d0887\"],[0.1111111111111111,\"#46039f\"],[0.2222222222222222,\"#7201a8\"],[0.3333333333333333,\"#9c179e\"],[0.4444444444444444,\"#bd3786\"],[0.5555555555555556,\"#d8576b\"],[0.6666666666666666,\"#ed7953\"],[0.7777777777777778,\"#fb9f3a\"],[0.8888888888888888,\"#fdca26\"],[1.0,\"#f0f921\"]]}],\"choropleth\":[{\"type\":\"choropleth\",\"colorbar\":{\"outlinewidth\":0,\"ticks\":\"\"}}],\"histogram2d\":[{\"type\":\"histogram2d\",\"colorbar\":{\"outlinewidth\":0,\"ticks\":\"\"},\"colorscale\":[[0.0,\"#0d0887\"],[0.1111111111111111,\"#46039f\"],[0.2222222222222222,\"#7201a8\"],[0.3333333333333333,\"#9c179e\"],[0.4444444444444444,\"#bd3786\"],[0.5555555555555556,\"#d8576b\"],[0.6666666666666666,\"#ed7953\"],[0.7777777777777778,\"#fb9f3a\"],[0.8888888888888888,\"#fdca26\"],[1.0,\"#f0f921\"]]}],\"heatmap\":[{\"type\":\"heatmap\",\"colorbar\":{\"outlinewidth\":0,\"ticks\":\"\"},\"colorscale\":[[0.0,\"#0d0887\"],[0.1111111111111111,\"#46039f\"],[0.2222222222222222,\"#7201a8\"],[0.3333333333333333,\"#9c179e\"],[0.4444444444444444,\"#bd3786\"],[0.5555555555555556,\"#d8576b\"],[0.6666666666666666,\"#ed7953\"],[0.7777777777777778,\"#fb9f3a\"],[0.8888888888888888,\"#fdca26\"],[1.0,\"#f0f921\"]]}],\"heatmapgl\":[{\"type\":\"heatmapgl\",\"colorbar\":{\"outlinewidth\":0,\"ticks\":\"\"},\"colorscale\":[[0.0,\"#0d0887\"],[0.1111111111111111,\"#46039f\"],[0.2222222222222222,\"#7201a8\"],[0.3333333333333333,\"#9c179e\"],[0.4444444444444444,\"#bd3786\"],[0.5555555555555556,\"#d8576b\"],[0.6666666666666666,\"#ed7953\"],[0.7777777777777778,\"#fb9f3a\"],[0.8888888888888888,\"#fdca26\"],[1.0,\"#f0f921\"]]}],\"contourcarpet\":[{\"type\":\"contourcarpet\",\"colorbar\":{\"outlinewidth\":0,\"ticks\":\"\"}}],\"contour\":[{\"type\":\"contour\",\"colorbar\":{\"outlinewidth\":0,\"ticks\":\"\"},\"colorscale\":[[0.0,\"#0d0887\"],[0.1111111111111111,\"#46039f\"],[0.2222222222222222,\"#7201a8\"],[0.3333333333333333,\"#9c179e\"],[0.4444444444444444,\"#bd3786\"],[0.5555555555555556,\"#d8576b\"],[0.6666666666666666,\"#ed7953\"],[0.7777777777777778,\"#fb9f3a\"],[0.8888888888888888,\"#fdca26\"],[1.0,\"#f0f921\"]]}],\"surface\":[{\"type\":\"surface\",\"colorbar\":{\"outlinewidth\":0,\"ticks\":\"\"},\"colorscale\":[[0.0,\"#0d0887\"],[0.1111111111111111,\"#46039f\"],[0.2222222222222222,\"#7201a8\"],[0.3333333333333333,\"#9c179e\"],[0.4444444444444444,\"#bd3786\"],[0.5555555555555556,\"#d8576b\"],[0.6666666666666666,\"#ed7953\"],[0.7777777777777778,\"#fb9f3a\"],[0.8888888888888888,\"#fdca26\"],[1.0,\"#f0f921\"]]}],\"mesh3d\":[{\"type\":\"mesh3d\",\"colorbar\":{\"outlinewidth\":0,\"ticks\":\"\"}}],\"scatter\":[{\"fillpattern\":{\"fillmode\":\"overlay\",\"size\":10,\"solidity\":0.2},\"type\":\"scatter\"}],\"parcoords\":[{\"type\":\"parcoords\",\"line\":{\"colorbar\":{\"outlinewidth\":0,\"ticks\":\"\"}}}],\"scatterpolargl\":[{\"type\":\"scatterpolargl\",\"marker\":{\"colorbar\":{\"outlinewidth\":0,\"ticks\":\"\"}}}],\"bar\":[{\"error_x\":{\"color\":\"#2a3f5f\"},\"error_y\":{\"color\":\"#2a3f5f\"},\"marker\":{\"line\":{\"color\":\"#E5ECF6\",\"width\":0.5},\"pattern\":{\"fillmode\":\"overlay\",\"size\":10,\"solidity\":0.2}},\"type\":\"bar\"}],\"scattergeo\":[{\"type\":\"scattergeo\",\"marker\":{\"colorbar\":{\"outlinewidth\":0,\"ticks\":\"\"}}}],\"scatterpolar\":[{\"type\":\"scatterpolar\",\"marker\":{\"colorbar\":{\"outlinewidth\":0,\"ticks\":\"\"}}}],\"histogram\":[{\"marker\":{\"pattern\":{\"fillmode\":\"overlay\",\"size\":10,\"solidity\":0.2}},\"type\":\"histogram\"}],\"scattergl\":[{\"type\":\"scattergl\",\"marker\":{\"colorbar\":{\"outlinewidth\":0,\"ticks\":\"\"}}}],\"scatter3d\":[{\"type\":\"scatter3d\",\"line\":{\"colorbar\":{\"outlinewidth\":0,\"ticks\":\"\"}},\"marker\":{\"colorbar\":{\"outlinewidth\":0,\"ticks\":\"\"}}}],\"scattermapbox\":[{\"type\":\"scattermapbox\",\"marker\":{\"colorbar\":{\"outlinewidth\":0,\"ticks\":\"\"}}}],\"scatterternary\":[{\"type\":\"scatterternary\",\"marker\":{\"colorbar\":{\"outlinewidth\":0,\"ticks\":\"\"}}}],\"scattercarpet\":[{\"type\":\"scattercarpet\",\"marker\":{\"colorbar\":{\"outlinewidth\":0,\"ticks\":\"\"}}}],\"carpet\":[{\"aaxis\":{\"endlinecolor\":\"#2a3f5f\",\"gridcolor\":\"white\",\"linecolor\":\"white\",\"minorgridcolor\":\"white\",\"startlinecolor\":\"#2a3f5f\"},\"baxis\":{\"endlinecolor\":\"#2a3f5f\",\"gridcolor\":\"white\",\"linecolor\":\"white\",\"minorgridcolor\":\"white\",\"startlinecolor\":\"#2a3f5f\"},\"type\":\"carpet\"}],\"table\":[{\"cells\":{\"fill\":{\"color\":\"#EBF0F8\"},\"line\":{\"color\":\"white\"}},\"header\":{\"fill\":{\"color\":\"#C8D4E3\"},\"line\":{\"color\":\"white\"}},\"type\":\"table\"}],\"barpolar\":[{\"marker\":{\"line\":{\"color\":\"#E5ECF6\",\"width\":0.5},\"pattern\":{\"fillmode\":\"overlay\",\"size\":10,\"solidity\":0.2}},\"type\":\"barpolar\"}],\"pie\":[{\"automargin\":true,\"type\":\"pie\"}]},\"layout\":{\"autotypenumbers\":\"strict\",\"colorway\":[\"#636efa\",\"#EF553B\",\"#00cc96\",\"#ab63fa\",\"#FFA15A\",\"#19d3f3\",\"#FF6692\",\"#B6E880\",\"#FF97FF\",\"#FECB52\"],\"font\":{\"color\":\"#2a3f5f\"},\"hovermode\":\"closest\",\"hoverlabel\":{\"align\":\"left\"},\"paper_bgcolor\":\"white\",\"plot_bgcolor\":\"#E5ECF6\",\"polar\":{\"bgcolor\":\"#E5ECF6\",\"angularaxis\":{\"gridcolor\":\"white\",\"linecolor\":\"white\",\"ticks\":\"\"},\"radialaxis\":{\"gridcolor\":\"white\",\"linecolor\":\"white\",\"ticks\":\"\"}},\"ternary\":{\"bgcolor\":\"#E5ECF6\",\"aaxis\":{\"gridcolor\":\"white\",\"linecolor\":\"white\",\"ticks\":\"\"},\"baxis\":{\"gridcolor\":\"white\",\"linecolor\":\"white\",\"ticks\":\"\"},\"caxis\":{\"gridcolor\":\"white\",\"linecolor\":\"white\",\"ticks\":\"\"}},\"coloraxis\":{\"colorbar\":{\"outlinewidth\":0,\"ticks\":\"\"}},\"colorscale\":{\"sequential\":[[0.0,\"#0d0887\"],[0.1111111111111111,\"#46039f\"],[0.2222222222222222,\"#7201a8\"],[0.3333333333333333,\"#9c179e\"],[0.4444444444444444,\"#bd3786\"],[0.5555555555555556,\"#d8576b\"],[0.6666666666666666,\"#ed7953\"],[0.7777777777777778,\"#fb9f3a\"],[0.8888888888888888,\"#fdca26\"],[1.0,\"#f0f921\"]],\"sequentialminus\":[[0.0,\"#0d0887\"],[0.1111111111111111,\"#46039f\"],[0.2222222222222222,\"#7201a8\"],[0.3333333333333333,\"#9c179e\"],[0.4444444444444444,\"#bd3786\"],[0.5555555555555556,\"#d8576b\"],[0.6666666666666666,\"#ed7953\"],[0.7777777777777778,\"#fb9f3a\"],[0.8888888888888888,\"#fdca26\"],[1.0,\"#f0f921\"]],\"diverging\":[[0,\"#8e0152\"],[0.1,\"#c51b7d\"],[0.2,\"#de77ae\"],[0.3,\"#f1b6da\"],[0.4,\"#fde0ef\"],[0.5,\"#f7f7f7\"],[0.6,\"#e6f5d0\"],[0.7,\"#b8e186\"],[0.8,\"#7fbc41\"],[0.9,\"#4d9221\"],[1,\"#276419\"]]},\"xaxis\":{\"gridcolor\":\"white\",\"linecolor\":\"white\",\"ticks\":\"\",\"title\":{\"standoff\":15},\"zerolinecolor\":\"white\",\"automargin\":true,\"zerolinewidth\":2},\"yaxis\":{\"gridcolor\":\"white\",\"linecolor\":\"white\",\"ticks\":\"\",\"title\":{\"standoff\":15},\"zerolinecolor\":\"white\",\"automargin\":true,\"zerolinewidth\":2},\"scene\":{\"xaxis\":{\"backgroundcolor\":\"#E5ECF6\",\"gridcolor\":\"white\",\"linecolor\":\"white\",\"showbackground\":true,\"ticks\":\"\",\"zerolinecolor\":\"white\",\"gridwidth\":2},\"yaxis\":{\"backgroundcolor\":\"#E5ECF6\",\"gridcolor\":\"white\",\"linecolor\":\"white\",\"showbackground\":true,\"ticks\":\"\",\"zerolinecolor\":\"white\",\"gridwidth\":2},\"zaxis\":{\"backgroundcolor\":\"#E5ECF6\",\"gridcolor\":\"white\",\"linecolor\":\"white\",\"showbackground\":true,\"ticks\":\"\",\"zerolinecolor\":\"white\",\"gridwidth\":2}},\"shapedefaults\":{\"line\":{\"color\":\"#2a3f5f\"}},\"annotationdefaults\":{\"arrowcolor\":\"#2a3f5f\",\"arrowhead\":0,\"arrowwidth\":1},\"geo\":{\"bgcolor\":\"white\",\"landcolor\":\"#E5ECF6\",\"subunitcolor\":\"white\",\"showland\":true,\"showlakes\":true,\"lakecolor\":\"white\"},\"title\":{\"x\":0.05},\"mapbox\":{\"style\":\"light\"}}},\"xaxis\":{\"title\":{\"text\":\"Year\"},\"tickvals\":[\"1880, 1885\",\"1885, 1890\",\"1890, 1895\",\"1895, 1900\",\"1900, 1905\",\"1905, 1910\",\"1910, 1915\",\"1915, 1920\",\"1920, 1925\",\"1925, 1930\",\"1930, 1935\",\"1935, 1940\",\"1940, 1945\",\"1945, 1950\",\"1950, 1955\",\"1955, 1960\",\"1960, 1965\",\"1965, 1970\",\"1970, 1975\",\"1975, 1980\",\"1980, 1985\",\"1985, 1990\",\"1990, 1995\",\"1995, 2000\",\"2000, 2005\",\"2005, 2010\",\"2010, 2015\",\"2015, 2020\",\"2020, 2025\"],\"tickangle\":45},\"title\":{\"text\":\"Ratio of movies with sequels per 5 years\"},\"yaxis\":{\"title\":{\"text\":\"Ratio (%)\"}}},                        {\"responsive\": true}                    ).then(function(){\n",
       "                            \n",
       "var gd = document.getElementById('c65f45bf-0403-4d19-be1b-70d35b1724d9');\n",
       "var x = new MutationObserver(function (mutations, observer) {{\n",
       "        var display = window.getComputedStyle(gd).display;\n",
       "        if (!display || display === 'none') {{\n",
       "            console.log([gd, 'removed!']);\n",
       "            Plotly.purge(gd);\n",
       "            observer.disconnect();\n",
       "        }}\n",
       "}});\n",
       "\n",
       "// Listen for the removal of the full notebook cells\n",
       "var notebookContainer = gd.closest('#notebook-container');\n",
       "if (notebookContainer) {{\n",
       "    x.observe(notebookContainer, {childList: true});\n",
       "}}\n",
       "\n",
       "// Listen for the clearing of the current output cell\n",
       "var outputEl = gd.closest('.output');\n",
       "if (outputEl) {{\n",
       "    x.observe(outputEl, {childList: true});\n",
       "}}\n",
       "\n",
       "                        })                };                });            </script>        </div>"
      ]
     },
     "metadata": {},
     "output_type": "display_data"
    }
   ],
   "execution_count": 266
  },
  {
   "cell_type": "markdown",
   "id": "7ad95391",
   "metadata": {},
   "source": []
  },
  {
   "cell_type": "markdown",
   "id": "208db56e",
   "metadata": {},
   "source": [
    "## 3.1 Box office revenue"
   ]
  },
  {
   "cell_type": "markdown",
   "id": "1f67f392",
   "metadata": {},
   "source": [
    "\n",
    "#### 3.1.1 Box office revenue for movies with sequels compared to all movies"
   ]
  },
  {
   "metadata": {
    "ExecuteTime": {
     "end_time": "2024-12-15T20:44:31.792268Z",
     "start_time": "2024-12-15T20:43:20.599799Z"
    }
   },
   "cell_type": "code",
   "source": [
    "from utils.evaluation_utils import inflate\n",
    "import numpy as np\n",
    "import swifter\n",
    "\n",
    "for df in movie_frames_old.get_all_df():\n",
    "    df[\"Movie box office revenue inflation adj\"] = df.swifter.apply(lambda x: inflate(x[\"Movie box office revenue\"], x[\"release year\"]), axis=1)\n",
    "                \n",
    "for df in movie_frames_new.get_all_df():\n",
    "    df[\"Movie box office revenue inflation adj\"] = df.swifter.apply(lambda x: inflate(x[\"Movie box office revenue\"], x[\"release year\"]), axis=1)\n",
    "    \n",
    "for df in movie_frames_concat.get_all_df():\n",
    "    df.reset_index(drop=True, inplace=True)\n",
    "    df[\"Movie box office revenue inflation adj\"] = df.swifter.apply(lambda x: inflate(x[\"Movie box office revenue\"], x[\"release year\"]), axis=1)\n"
   ],
   "id": "e7a44aa4f5557d5e",
   "outputs": [
    {
     "data": {
      "text/plain": [
       "Pandas Apply:   0%|          | 0/76512 [00:00<?, ?it/s]"
      ],
      "application/vnd.jupyter.widget-view+json": {
       "version_major": 2,
       "version_minor": 0,
       "model_id": "523bd72f035949b4aa4dc7d0b40f69a7"
      }
     },
     "metadata": {},
     "output_type": "display_data"
    },
    {
     "data": {
      "text/plain": [
       "Pandas Apply:   0%|          | 0/424 [00:00<?, ?it/s]"
      ],
      "application/vnd.jupyter.widget-view+json": {
       "version_major": 2,
       "version_minor": 0,
       "model_id": "64369a3393b34ee7bfef3357c6e88d23"
      }
     },
     "metadata": {},
     "output_type": "display_data"
    },
    {
     "data": {
      "text/plain": [
       "Pandas Apply:   0%|          | 0/1771 [00:00<?, ?it/s]"
      ],
      "application/vnd.jupyter.widget-view+json": {
       "version_major": 2,
       "version_minor": 0,
       "model_id": "c959756ecd34486f96d8d6dd0c03dad8"
      }
     },
     "metadata": {},
     "output_type": "display_data"
    },
    {
     "data": {
      "text/plain": [
       "Pandas Apply:   0%|          | 0/141 [00:00<?, ?it/s]"
      ],
      "application/vnd.jupyter.widget-view+json": {
       "version_major": 2,
       "version_minor": 0,
       "model_id": "7f12c42dfc2b4afda0934e4c3e8e95a7"
      }
     },
     "metadata": {},
     "output_type": "display_data"
    },
    {
     "data": {
      "text/plain": [
       "Pandas Apply:   0%|          | 0/318 [00:00<?, ?it/s]"
      ],
      "application/vnd.jupyter.widget-view+json": {
       "version_major": 2,
       "version_minor": 0,
       "model_id": "bcace0f5815a443db5570dc76c6602d4"
      }
     },
     "metadata": {},
     "output_type": "display_data"
    },
    {
     "data": {
      "text/plain": [
       "Pandas Apply:   0%|          | 0/972 [00:00<?, ?it/s]"
      ],
      "application/vnd.jupyter.widget-view+json": {
       "version_major": 2,
       "version_minor": 0,
       "model_id": "51a68826abcf4819a4681c82cf5779d6"
      }
     },
     "metadata": {},
     "output_type": "display_data"
    },
    {
     "data": {
      "text/plain": [
       "Pandas Apply:   0%|          | 0/38209 [00:00<?, ?it/s]"
      ],
      "application/vnd.jupyter.widget-view+json": {
       "version_major": 2,
       "version_minor": 0,
       "model_id": "a1075faacb6d437b8c8db0e0bbdd6759"
      }
     },
     "metadata": {},
     "output_type": "display_data"
    },
    {
     "data": {
      "text/plain": [
       "Pandas Apply:   0%|          | 0/649 [00:00<?, ?it/s]"
      ],
      "application/vnd.jupyter.widget-view+json": {
       "version_major": 2,
       "version_minor": 0,
       "model_id": "7e943e86b1044f3b93ce697f436199b2"
      }
     },
     "metadata": {},
     "output_type": "display_data"
    },
    {
     "data": {
      "text/plain": [
       "Pandas Apply:   0%|          | 0/1597 [00:00<?, ?it/s]"
      ],
      "application/vnd.jupyter.widget-view+json": {
       "version_major": 2,
       "version_minor": 0,
       "model_id": "b401b53aa806434fbef085a4df306a02"
      }
     },
     "metadata": {},
     "output_type": "display_data"
    },
    {
     "data": {
      "text/plain": [
       "Pandas Apply:   0%|          | 0/324 [00:00<?, ?it/s]"
      ],
      "application/vnd.jupyter.widget-view+json": {
       "version_major": 2,
       "version_minor": 0,
       "model_id": "07452264bb954ebfa6e789d73a42f500"
      }
     },
     "metadata": {},
     "output_type": "display_data"
    },
    {
     "data": {
      "text/plain": [
       "Pandas Apply:   0%|          | 0/408 [00:00<?, ?it/s]"
      ],
      "application/vnd.jupyter.widget-view+json": {
       "version_major": 2,
       "version_minor": 0,
       "model_id": "aac5d2313efd4ebaa326cd51a29360f1"
      }
     },
     "metadata": {},
     "output_type": "display_data"
    },
    {
     "data": {
      "text/plain": [
       "Pandas Apply:   0%|          | 0/750 [00:00<?, ?it/s]"
      ],
      "application/vnd.jupyter.widget-view+json": {
       "version_major": 2,
       "version_minor": 0,
       "model_id": "65f7d31b565d4f09a73174479de565a8"
      }
     },
     "metadata": {},
     "output_type": "display_data"
    },
    {
     "data": {
      "text/plain": [
       "Pandas Apply:   0%|          | 0/114721 [00:00<?, ?it/s]"
      ],
      "application/vnd.jupyter.widget-view+json": {
       "version_major": 2,
       "version_minor": 0,
       "model_id": "b01ad64f54144c47ab428ee9f86e0c89"
      }
     },
     "metadata": {},
     "output_type": "display_data"
    },
    {
     "data": {
      "text/plain": [
       "Pandas Apply:   0%|          | 0/1073 [00:00<?, ?it/s]"
      ],
      "application/vnd.jupyter.widget-view+json": {
       "version_major": 2,
       "version_minor": 0,
       "model_id": "953d41f4adbd49ecaea9e0612b2379e9"
      }
     },
     "metadata": {},
     "output_type": "display_data"
    },
    {
     "data": {
      "text/plain": [
       "Pandas Apply:   0%|          | 0/3368 [00:00<?, ?it/s]"
      ],
      "application/vnd.jupyter.widget-view+json": {
       "version_major": 2,
       "version_minor": 0,
       "model_id": "c3554fa9f1244db4b682ee94e2b50c49"
      }
     },
     "metadata": {},
     "output_type": "display_data"
    },
    {
     "data": {
      "text/plain": [
       "Pandas Apply:   0%|          | 0/465 [00:00<?, ?it/s]"
      ],
      "application/vnd.jupyter.widget-view+json": {
       "version_major": 2,
       "version_minor": 0,
       "model_id": "fb15e752c45442e2ba7ee5851f8c71c8"
      }
     },
     "metadata": {},
     "output_type": "display_data"
    },
    {
     "data": {
      "text/plain": [
       "Pandas Apply:   0%|          | 0/726 [00:00<?, ?it/s]"
      ],
      "application/vnd.jupyter.widget-view+json": {
       "version_major": 2,
       "version_minor": 0,
       "model_id": "e60df4aa6d0045c38b3551c80d685fe3"
      }
     },
     "metadata": {},
     "output_type": "display_data"
    },
    {
     "data": {
      "text/plain": [
       "Pandas Apply:   0%|          | 0/1722 [00:00<?, ?it/s]"
      ],
      "application/vnd.jupyter.widget-view+json": {
       "version_major": 2,
       "version_minor": 0,
       "model_id": "35ca4b556f7f4888bce1003ece9fc4bf"
      }
     },
     "metadata": {},
     "output_type": "display_data"
    }
   ],
   "execution_count": 275
  },
  {
   "cell_type": "code",
   "id": "691b988b630afa0d",
   "metadata": {
    "ExecuteTime": {
     "end_time": "2024-12-15T20:44:36.240100Z",
     "start_time": "2024-12-15T20:44:36.066232Z"
    }
   },
   "source": [
    "from src.models.box_office_revenue import get_box_office_absolute\n",
    "\n",
    "# Plot figure 4: box office revenue per year\n",
    "fig = get_box_office_absolute(movie_frames_concat)\n",
    "fig"
   ],
   "outputs": [
    {
     "data": {
      "application/vnd.plotly.v1+json": {
       "data": [
        {
         "mode": "lines",
         "name": "Box office revenue of all movies",
         "x": [
          1888.0,
          1889.0,
          1890.0,
          1891.0,
          1892.0,
          1893.0,
          1894.0,
          1895.0,
          1896.0,
          1897.0,
          1898.0,
          1899.0,
          1900.0,
          1901.0,
          1902.0,
          1903.0,
          1904.0,
          1905.0,
          1906.0,
          1907.0,
          1908.0,
          1909.0,
          1910.0,
          1911.0,
          1912.0,
          1913.0,
          1914.0,
          1915.0,
          1916.0,
          1917.0,
          1918.0,
          1919.0,
          1920.0,
          1921.0,
          1922.0,
          1923.0,
          1924.0,
          1925.0,
          1926.0,
          1927.0,
          1928.0,
          1929.0,
          1930.0,
          1931.0,
          1932.0,
          1933.0,
          1934.0,
          1935.0,
          1936.0,
          1937.0,
          1938.0,
          1939.0,
          1940.0,
          1941.0,
          1942.0,
          1943.0,
          1944.0,
          1945.0,
          1946.0,
          1947.0,
          1948.0,
          1949.0,
          1950.0,
          1951.0,
          1952.0,
          1953.0,
          1954.0,
          1955.0,
          1956.0,
          1957.0,
          1958.0,
          1959.0,
          1960.0,
          1961.0,
          1962.0,
          1963.0,
          1964.0,
          1965.0,
          1966.0,
          1967.0,
          1968.0,
          1969.0,
          1970.0,
          1971.0,
          1972.0,
          1973.0,
          1974.0,
          1975.0,
          1976.0,
          1977.0,
          1978.0,
          1979.0,
          1980.0,
          1981.0,
          1982.0,
          1983.0,
          1984.0,
          1985.0,
          1986.0,
          1987.0,
          1988.0,
          1989.0,
          1990.0,
          1991.0,
          1992.0,
          1993.0,
          1994.0,
          1995.0,
          1996.0,
          1997.0,
          1998.0,
          1999.0,
          2000.0,
          2001.0,
          2002.0,
          2003.0,
          2004.0,
          2005.0,
          2006.0,
          2007.0,
          2008.0,
          2009.0,
          2010.0,
          2011.0,
          2012.0,
          2013.0,
          2014.0,
          2015.0,
          2016.0,
          2017.0,
          2018.0,
          2019.0,
          2020.0,
          2021.0,
          2022.0,
          2023.0
         ],
         "y": [
          0.0,
          0.0,
          0.0,
          0.0,
          0.0,
          0.0,
          0.0,
          0.0,
          0.0,
          3077797.97979798,
          0.0,
          0.0,
          0.0,
          0.0,
          0.0,
          0.0,
          0.0,
          0.0,
          0.0,
          0.0,
          0.0,
          0.0,
          0.0,
          0.0,
          0.0,
          0.0,
          8.62833185056E7,
          1.5084257425742574E9,
          0.0,
          0.0,
          0.0,
          0.0,
          6.855795E7,
          1.3447741899441344E8,
          3.17959674705119E8,
          1.3664886845497075E8,
          4.311848693298245E7,
          3.527926987829714E8,
          6.885920903954802E7,
          9.894059195402299E7,
          1.8834503742690057E8,
          3.114731555555555E8,
          3.662624229559282E8,
          4.760604109909211E8,
          3.560120375182482E8,
          6.480505265907692E8,
          3.479638173495522E8,
          6.431911370417519E8,
          6.772054560417266E8,
          9.217958299695692E9,
          5.079959544994326E8,
          9.654023208400145E9,
          4.354653442938714E9,
          6.299753647812245E8,
          5.751013816202699E9,
          2.945160587196532E8,
          3.0510938311147726E8,
          9.331375007132223E8,
          2.0509460368512821E9,
          3.65436241086278E8,
          5.490300169958506E8,
          8.870821972642857E8,
          2.7178533373443985E9,
          2.5134750786923075E9,
          3.460322392075472E9,
          4.800022542284719E9,
          2.934116502497621E9,
          4.570897529733283E9,
          4.2638003874264708E9,
          3.2775646356843414E9,
          1.3072761592089274E9,
          2.9803729817869415E9,
          1.8422484064495945E9,
          4.1059153358116393E9,
          2.999574912116821E9,
          6.776064792697058E9,
          3.3100574121965804E9,
          5.647493860114032E9,
          4.168204770733951E9,
          8.240984295520061E9,
          8.769458644553333E9,
          4.95766154591128E9,
          5.885371753920155E9,
          4.162373357525679E9,
          6.448576566103637E9,
          9.130733340400406E9,
          7.820038218402556E9,
          9.706637992062046E9,
          6.843351420143691E9,
          1.2709050318427656E10,
          1.0706171501494509E10,
          9.897286862123554E9,
          8.068471171775023E9,
          9.197077676053509E9,
          1.0244454078419254E10,
          7.969221611389037E9,
          9.885180780854225E9,
          9.196898247132286E9,
          1.0552317196593048E10,
          1.1345012159906338E10,
          1.2462061223171835E10,
          1.4909255885596146E10,
          1.545014311711076E10,
          1.3464099527618444E10,
          1.5265530842839314E10,
          1.6736418608165274E10,
          1.7330408059523495E10,
          1.891218660237564E10,
          1.8730693401627865E10,
          2.346094089037104E10,
          2.121714737621864E10,
          2.406133214898862E10,
          2.2192294186312695E10,
          2.5476537646480305E10,
          2.9162026905683636E10,
          2.9120383649559326E10,
          3.00086313986247E10,
          2.667479640340047E10,
          2.674656688685795E10,
          3.1228403952438984E10,
          3.1533865870919895E10,
          3.524008883759911E10,
          3.585659303447882E10,
          3.6644150008467735E10,
          3.7610900463522064E10,
          3.904812668801549E10,
          3.832142704702014E10,
          4.070527412999046E10,
          4.1921915603981255E10,
          4.211033551838087E10,
          3.9801000586876625E10,
          3.888326991752933E10,
          7.747420044739513E9,
          1.92416124350975E10,
          2.3032576690818752E10,
          2.5621256239E10
         ],
         "type": "scatter"
        },
        {
         "mode": "lines",
         "name": "Box office revenue of sequels",
         "x": [
          1910.0,
          1920.0,
          1922.0,
          1929.0,
          1931.0,
          1933.0,
          1935.0,
          1936.0,
          1937.0,
          1938.0,
          1939.0,
          1940.0,
          1942.0,
          1943.0,
          1944.0,
          1945.0,
          1946.0,
          1947.0,
          1951.0,
          1952.0,
          1954.0,
          1955.0,
          1956.0,
          1957.0,
          1958.0,
          1959.0,
          1960.0,
          1962.0,
          1963.0,
          1964.0,
          1965.0,
          1966.0,
          1967.0,
          1968.0,
          1969.0,
          1970.0,
          1971.0,
          1972.0,
          1973.0,
          1974.0,
          1975.0,
          1976.0,
          1977.0,
          1978.0,
          1979.0,
          1980.0,
          1981.0,
          1982.0,
          1983.0,
          1984.0,
          1985.0,
          1986.0,
          1987.0,
          1988.0,
          1989.0,
          1990.0,
          1991.0,
          1992.0,
          1993.0,
          1994.0,
          1995.0,
          1996.0,
          1997.0,
          1998.0,
          1999.0,
          2000.0,
          2001.0,
          2002.0,
          2003.0,
          2004.0,
          2005.0,
          2006.0,
          2007.0,
          2008.0,
          2009.0,
          2010.0,
          2011.0,
          2012.0,
          2013.0,
          2014.0,
          2015.0,
          2016.0,
          2017.0,
          2018.0,
          2019.0,
          2020.0,
          2021.0,
          2022.0,
          2023.0
         ],
         "y": [
          0.0,
          0.0,
          0.0,
          0.0,
          0.0,
          4.350207015384615E7,
          0.0,
          0.0,
          0.0,
          0.0,
          0.0,
          0.0,
          1.2618027607361963E7,
          0.0,
          0.0,
          0.0,
          0.0,
          0.0,
          1.8164926923076924E7,
          4.5992754716981135E7,
          4.814065055762082E7,
          0.0,
          1.3442735294117648E7,
          0.0,
          5060794.46366782,
          0.0,
          0.0,
          0.0,
          0.0,
          0.0,
          0.0,
          0.0,
          0.0,
          0.0,
          0.0,
          0.0,
          9.290706299530864E7,
          0.0,
          0.0,
          0.0,
          0.0,
          0.0,
          3.0545189877366334E8,
          1.571101227792945E8,
          3.399567768595041E7,
          0.0,
          5.2440353899449944E8,
          3.0621830766567874E8,
          4.3510942046293175E8,
          1.5687602411998075E8,
          5.552362476010782E8,
          6.849427284225549E8,
          1.1164171657018135E9,
          3.8076415755274725E8,
          1.6943838493236454E9,
          1.3453048930901916E9,
          1.2712344847258444E8,
          1.8253885048698785E9,
          3.7186702958380625E7,
          4.485171065450608E8,
          3.2400177869479E8,
          3.479562258428298E7,
          5.931504112581557E8,
          1.2200390334667484E8,
          9.195523818161343E8,
          2.5102612919910568E8,
          1.3500923097599323E9,
          2.158579555885225E9,
          8.842286391407282E8,
          3.798450934888258E9,
          1.7873394359781053E9,
          1.2108200269828076E9,
          3.5720677240582128E9,
          1.438951036363906E9,
          1.3230174020171998E9,
          3.371878963188511E9,
          3.898624073197089E9,
          1.868316663199831E9,
          6.624078957780329E9,
          8.995633483461554E9,
          8.786039888880596E9,
          7.446074436550651E9,
          1.4534081948764132E10,
          1.1576984485082941E10,
          1.2952796101513597E10,
          9.417428873452907E8,
          5.703459932361176E9,
          9.116787071461277E9,
          7.167363576E9
         ],
         "type": "scatter"
        },
        {
         "mode": "lines",
         "name": "Box office revenue of book adaptation",
         "x": [
          1905.0,
          1909.0,
          1910.0,
          1913.0,
          1915.0,
          1917.0,
          1918.0,
          1919.0,
          1920.0,
          1921.0,
          1922.0,
          1923.0,
          1924.0,
          1925.0,
          1926.0,
          1927.0,
          1928.0,
          1929.0,
          1930.0,
          1931.0,
          1932.0,
          1933.0,
          1934.0,
          1935.0,
          1936.0,
          1937.0,
          1938.0,
          1939.0,
          1940.0,
          1941.0,
          1942.0,
          1943.0,
          1944.0,
          1945.0,
          1946.0,
          1947.0,
          1948.0,
          1949.0,
          1950.0,
          1951.0,
          1952.0,
          1953.0,
          1954.0,
          1955.0,
          1956.0,
          1957.0,
          1958.0,
          1959.0,
          1960.0,
          1961.0,
          1962.0,
          1963.0,
          1964.0,
          1965.0,
          1966.0,
          1967.0,
          1968.0,
          1969.0,
          1970.0,
          1971.0,
          1972.0,
          1973.0,
          1974.0,
          1975.0,
          1976.0,
          1977.0,
          1978.0,
          1979.0,
          1980.0,
          1981.0,
          1982.0,
          1983.0,
          1984.0,
          1985.0,
          1986.0,
          1987.0,
          1988.0,
          1989.0,
          1990.0,
          1991.0,
          1992.0,
          1993.0,
          1994.0,
          1995.0,
          1996.0,
          1997.0,
          1998.0,
          1999.0,
          2000.0,
          2001.0,
          2002.0,
          2003.0,
          2004.0,
          2005.0,
          2006.0,
          2007.0,
          2008.0,
          2009.0,
          2010.0,
          2011.0,
          2012.0,
          2013.0,
          2014.0,
          2015.0,
          2016.0,
          2017.0,
          2018.0,
          2019.0,
          2020.0,
          2021.0,
          2022.0,
          2023.0
         ],
         "y": [
          0.0,
          0.0,
          0.0,
          0.0,
          0.0,
          0.0,
          0.0,
          0.0,
          0.0,
          0.0,
          0.0,
          0.0,
          0.0,
          4.65584656E7,
          0.0,
          0.0,
          3.029201169590643E7,
          0.0,
          0.0,
          2.405542105263158E8,
          5.649219562043796E7,
          0.0,
          3.537139988686567E7,
          6.076247182481752E7,
          0.0,
          0.0,
          2.056848711361702E7,
          8.917392137797554E9,
          1.8749003339452858E9,
          1.2436816326530613E8,
          8.692419018404907E7,
          0.0,
          299248.5267045454,
          0.0,
          0.0,
          0.0,
          0.0,
          4.12884012605042E7,
          1.3054141701244812E9,
          2.9823294215384614E8,
          9.92063719245283E7,
          6.179630449438202E8,
          0.0,
          1.0232529850746268E8,
          1.4646980330882353E8,
          1.4464670209964411E9,
          3.312050115899654E8,
          1.7085824347079036E9,
          4.4498937429662156E8,
          7.744933779264215E7,
          1.0460747164202648E9,
          1.0786251648366013E9,
          2.2329027181404514E9,
          1.1097141403434923E9,
          3.2796056196679014E8,
          2.912208322208264E9,
          4.566478286445633E9,
          9.803795733682287E8,
          1.054274440760464E9,
          5.1656910247590125E8,
          1.0710084314535886E9,
          1.5947177936880631E9,
          1.7960730466531444E9,
          3.5976884304683275E9,
          4.6591164033782077E8,
          1.2473770003064027E9,
          6.759436310573926E8,
          1.821334653419146E9,
          3.7635899490822816E8,
          7.714367401231683E8,
          9.280469627190259E8,
          4.02651067446245E8,
          7.13484343771742E8,
          4.455292977911339E8,
          6.411427111236862E8,
          7.858727802142606E8,
          1.9017563557314117E9,
          2.3690353939319354E8,
          3.5344950887897935E9,
          1.1685078542434802E9,
          8.218979125551959E8,
          1.0221465076707959E9,
          3.163281901854224E9,
          1.9983588663916667E9,
          1.673780611653244E9,
          1.2047626388596635E9,
          1.7002956310052638E9,
          3.2969950992787037E9,
          2.701715610925912E9,
          4.0584473989960027E9,
          4.314668600587237E9,
          1.5738035358357825E9,
          3.5749973521905875E9,
          4.709687316030251E9,
          3.8736039869732738E9,
          3.931990763678936E9,
          2.5020847943342175E9,
          3.285489376047572E9,
          6.0027462930752E9,
          3.6513326418320165E9,
          5.963520535859709E9,
          6.989008317666076E9,
          7.705728924173113E9,
          6.621066357684647E9,
          4.703703458035607E9,
          4.0038001403656087E9,
          4.653678031685385E9,
          3.4986013824581137E9,
          9.056420089862179E8,
          1.737536781302882E9,
          8.762184388652099E8,
          2.816489583E9
         ],
         "type": "scatter"
        },
        {
         "mode": "lines",
         "name": "Box office revenue of comics adaptation",
         "x": [
          1936.0,
          1941.0,
          1944.0,
          1954.0,
          1961.0,
          1966.0,
          1967.0,
          1968.0,
          1969.0,
          1972.0,
          1974.0,
          1975.0,
          1976.0,
          1978.0,
          1979.0,
          1980.0,
          1981.0,
          1982.0,
          1983.0,
          1984.0,
          1985.0,
          1986.0,
          1988.0,
          1989.0,
          1990.0,
          1991.0,
          1992.0,
          1993.0,
          1994.0,
          1995.0,
          1996.0,
          1997.0,
          1998.0,
          1999.0,
          2000.0,
          2001.0,
          2002.0,
          2003.0,
          2004.0,
          2005.0,
          2006.0,
          2007.0,
          2008.0,
          2009.0,
          2010.0,
          2011.0,
          2012.0,
          2013.0,
          2014.0,
          2015.0,
          2016.0,
          2017.0,
          2018.0,
          2019.0,
          2020.0,
          2021.0,
          2022.0,
          2023.0
         ],
         "y": [
          0.0,
          0.0,
          0.0,
          2.945075092936803E7,
          0.0,
          0.0,
          0.0,
          0.0,
          0.0,
          1.8223803827751198E8,
          5599594.563894523,
          0.0,
          0.0,
          1.4030219405005522E9,
          0.0,
          0.0,
          3.626446753532673E8,
          2.465647257835855E8,
          8597121.041144578,
          5.885760786604427E7,
          1.2993071250986987E8,
          1.0554136097945255E8,
          0.0,
          1.01127089727E9,
          8.50238971093971E8,
          3.1467263021091044E8,
          5.794818596472416E8,
          3.364255352702284E8,
          1.3322725935729017E9,
          1.525718453704488E9,
          5.3389744614990436E7,
          1.7379171275981681E9,
          2.4522628195128834E8,
          1.950769710307443E8,
          0.0,
          1.7391187008624506E8,
          2.402619113890895E9,
          1.075573824599076E9,
          2.176946119861429E9,
          1.883383639136088E9,
          4.427141924197818E8,
          2.374758257572966E9,
          1.6929039426791544E9,
          4.807530967120077E8,
          1.5165158820633323E9,
          3.5978148868019066E9,
          5.486696494952743E9,
          4.865770950384792E9,
          6.906532253978609E9,
          3.6211362746766353E9,
          5.981916699871804E9,
          7.089129758967795E9,
          9.022631611615416E9,
          8.451610123010135E9,
          5.62010722665559E8,
          2.2778806178164E9,
          4.59281667088943E9,
          2.530061671E9
         ],
         "type": "scatter"
        },
        {
         "mode": "lines",
         "name": "Box office revenue of remakes",
         "x": [
          1896.0,
          1897.0,
          1923.0,
          1924.0,
          1925.0,
          1928.0,
          1929.0,
          1930.0,
          1932.0,
          1935.0,
          1936.0,
          1937.0,
          1938.0,
          1939.0,
          1940.0,
          1941.0,
          1943.0,
          1945.0,
          1946.0,
          1947.0,
          1948.0,
          1949.0,
          1950.0,
          1951.0,
          1952.0,
          1953.0,
          1954.0,
          1955.0,
          1956.0,
          1957.0,
          1958.0,
          1959.0,
          1960.0,
          1961.0,
          1962.0,
          1964.0,
          1966.0,
          1967.0,
          1968.0,
          1971.0,
          1972.0,
          1973.0,
          1974.0,
          1976.0,
          1977.0,
          1978.0,
          1979.0,
          1980.0,
          1981.0,
          1982.0,
          1983.0,
          1984.0,
          1985.0,
          1986.0,
          1987.0,
          1988.0,
          1989.0,
          1990.0,
          1991.0,
          1992.0,
          1993.0,
          1994.0,
          1995.0,
          1996.0,
          1997.0,
          1998.0,
          1999.0,
          2000.0,
          2001.0,
          2002.0,
          2003.0,
          2004.0,
          2005.0,
          2006.0,
          2007.0,
          2008.0,
          2009.0,
          2010.0,
          2011.0,
          2012.0,
          2013.0,
          2014.0,
          2015.0,
          2016.0,
          2017.0,
          2018.0,
          2019.0,
          2020.0,
          2021.0,
          2022.0,
          2023.0
         ],
         "y": [
          0.0,
          0.0,
          0.0,
          0.0,
          0.0,
          0.0,
          0.0,
          0.0,
          0.0,
          0.0,
          0.0,
          0.0,
          2.056848711361702E7,
          0.0,
          0.0,
          0.0,
          0.0,
          0.0,
          0.0,
          0.0,
          0.0,
          5.1210420168067224E7,
          0.0,
          3.340002692307692E7,
          8.023436060377358E7,
          0.0,
          9.628130111524165E7,
          7.049076119402984E7,
          6.2732764705882356E7,
          0.0,
          2.2193692387543254E7,
          1.5381692027491407E9,
          0.0,
          0.0,
          1.5134205298013246E7,
          0.0,
          3.291533950617284E7,
          0.0,
          0.0,
          0.0,
          0.0,
          2.0587972972972974E7,
          0.0,
          4.852443342775044E8,
          6.0337029702970296E7,
          4.981167865846932E8,
          8.460714155564739E7,
          0.0,
          4.089509790979098E7,
          2.173810786686632E8,
          2.4363870658592373E8,
          8464278.440327238,
          2.2607170061955392E8,
          5.44275259720292E8,
          1.874536896496479E8,
          1.589994070402705E8,
          3.7168026179738706E8,
          2.7756491815944918E7,
          6.838603923453598E8,
          4.688082250733E8,
          9.600555676794463E8,
          4.2869538202916336E8,
          5.43646079438517E8,
          4.561564342706437E8,
          3.7505370884176946E8,
          9.802703961524049E8,
          1.3953101889663146E9,
          7.974783332586296E8,
          5.550682937120723E8,
          8.250658748550195E8,
          5.368312981039891E8,
          1.2598283172185812E9,
          1.4674466152789862E9,
          1.146798226742758E9,
          6.598240278679959E8,
          9.286650997983029E8,
          4.8118904794417745E8,
          5.860591674540118E8,
          7.718657397522261E8,
          6.134588561647779E8,
          1.8677892395626664E8,
          1.4434199913363492E9,
          1.1520706527097888E9,
          1.873830061283496E9,
          3.0134546643818784E9,
          1.919855844031572E9,
          3.9506177313505826E9,
          4.80042483403333E7,
          3.092905555122707E7,
          4.382091707050896E8,
          2.0200243E7
         ],
         "type": "scatter"
        }
       ],
       "layout": {
        "template": {
         "data": {
          "histogram2dcontour": [
           {
            "type": "histogram2dcontour",
            "colorbar": {
             "outlinewidth": 0,
             "ticks": ""
            },
            "colorscale": [
             [
              0.0,
              "#0d0887"
             ],
             [
              0.1111111111111111,
              "#46039f"
             ],
             [
              0.2222222222222222,
              "#7201a8"
             ],
             [
              0.3333333333333333,
              "#9c179e"
             ],
             [
              0.4444444444444444,
              "#bd3786"
             ],
             [
              0.5555555555555556,
              "#d8576b"
             ],
             [
              0.6666666666666666,
              "#ed7953"
             ],
             [
              0.7777777777777778,
              "#fb9f3a"
             ],
             [
              0.8888888888888888,
              "#fdca26"
             ],
             [
              1.0,
              "#f0f921"
             ]
            ]
           }
          ],
          "choropleth": [
           {
            "type": "choropleth",
            "colorbar": {
             "outlinewidth": 0,
             "ticks": ""
            }
           }
          ],
          "histogram2d": [
           {
            "type": "histogram2d",
            "colorbar": {
             "outlinewidth": 0,
             "ticks": ""
            },
            "colorscale": [
             [
              0.0,
              "#0d0887"
             ],
             [
              0.1111111111111111,
              "#46039f"
             ],
             [
              0.2222222222222222,
              "#7201a8"
             ],
             [
              0.3333333333333333,
              "#9c179e"
             ],
             [
              0.4444444444444444,
              "#bd3786"
             ],
             [
              0.5555555555555556,
              "#d8576b"
             ],
             [
              0.6666666666666666,
              "#ed7953"
             ],
             [
              0.7777777777777778,
              "#fb9f3a"
             ],
             [
              0.8888888888888888,
              "#fdca26"
             ],
             [
              1.0,
              "#f0f921"
             ]
            ]
           }
          ],
          "heatmap": [
           {
            "type": "heatmap",
            "colorbar": {
             "outlinewidth": 0,
             "ticks": ""
            },
            "colorscale": [
             [
              0.0,
              "#0d0887"
             ],
             [
              0.1111111111111111,
              "#46039f"
             ],
             [
              0.2222222222222222,
              "#7201a8"
             ],
             [
              0.3333333333333333,
              "#9c179e"
             ],
             [
              0.4444444444444444,
              "#bd3786"
             ],
             [
              0.5555555555555556,
              "#d8576b"
             ],
             [
              0.6666666666666666,
              "#ed7953"
             ],
             [
              0.7777777777777778,
              "#fb9f3a"
             ],
             [
              0.8888888888888888,
              "#fdca26"
             ],
             [
              1.0,
              "#f0f921"
             ]
            ]
           }
          ],
          "heatmapgl": [
           {
            "type": "heatmapgl",
            "colorbar": {
             "outlinewidth": 0,
             "ticks": ""
            },
            "colorscale": [
             [
              0.0,
              "#0d0887"
             ],
             [
              0.1111111111111111,
              "#46039f"
             ],
             [
              0.2222222222222222,
              "#7201a8"
             ],
             [
              0.3333333333333333,
              "#9c179e"
             ],
             [
              0.4444444444444444,
              "#bd3786"
             ],
             [
              0.5555555555555556,
              "#d8576b"
             ],
             [
              0.6666666666666666,
              "#ed7953"
             ],
             [
              0.7777777777777778,
              "#fb9f3a"
             ],
             [
              0.8888888888888888,
              "#fdca26"
             ],
             [
              1.0,
              "#f0f921"
             ]
            ]
           }
          ],
          "contourcarpet": [
           {
            "type": "contourcarpet",
            "colorbar": {
             "outlinewidth": 0,
             "ticks": ""
            }
           }
          ],
          "contour": [
           {
            "type": "contour",
            "colorbar": {
             "outlinewidth": 0,
             "ticks": ""
            },
            "colorscale": [
             [
              0.0,
              "#0d0887"
             ],
             [
              0.1111111111111111,
              "#46039f"
             ],
             [
              0.2222222222222222,
              "#7201a8"
             ],
             [
              0.3333333333333333,
              "#9c179e"
             ],
             [
              0.4444444444444444,
              "#bd3786"
             ],
             [
              0.5555555555555556,
              "#d8576b"
             ],
             [
              0.6666666666666666,
              "#ed7953"
             ],
             [
              0.7777777777777778,
              "#fb9f3a"
             ],
             [
              0.8888888888888888,
              "#fdca26"
             ],
             [
              1.0,
              "#f0f921"
             ]
            ]
           }
          ],
          "surface": [
           {
            "type": "surface",
            "colorbar": {
             "outlinewidth": 0,
             "ticks": ""
            },
            "colorscale": [
             [
              0.0,
              "#0d0887"
             ],
             [
              0.1111111111111111,
              "#46039f"
             ],
             [
              0.2222222222222222,
              "#7201a8"
             ],
             [
              0.3333333333333333,
              "#9c179e"
             ],
             [
              0.4444444444444444,
              "#bd3786"
             ],
             [
              0.5555555555555556,
              "#d8576b"
             ],
             [
              0.6666666666666666,
              "#ed7953"
             ],
             [
              0.7777777777777778,
              "#fb9f3a"
             ],
             [
              0.8888888888888888,
              "#fdca26"
             ],
             [
              1.0,
              "#f0f921"
             ]
            ]
           }
          ],
          "mesh3d": [
           {
            "type": "mesh3d",
            "colorbar": {
             "outlinewidth": 0,
             "ticks": ""
            }
           }
          ],
          "scatter": [
           {
            "fillpattern": {
             "fillmode": "overlay",
             "size": 10,
             "solidity": 0.2
            },
            "type": "scatter"
           }
          ],
          "parcoords": [
           {
            "type": "parcoords",
            "line": {
             "colorbar": {
              "outlinewidth": 0,
              "ticks": ""
             }
            }
           }
          ],
          "scatterpolargl": [
           {
            "type": "scatterpolargl",
            "marker": {
             "colorbar": {
              "outlinewidth": 0,
              "ticks": ""
             }
            }
           }
          ],
          "bar": [
           {
            "error_x": {
             "color": "#2a3f5f"
            },
            "error_y": {
             "color": "#2a3f5f"
            },
            "marker": {
             "line": {
              "color": "#E5ECF6",
              "width": 0.5
             },
             "pattern": {
              "fillmode": "overlay",
              "size": 10,
              "solidity": 0.2
             }
            },
            "type": "bar"
           }
          ],
          "scattergeo": [
           {
            "type": "scattergeo",
            "marker": {
             "colorbar": {
              "outlinewidth": 0,
              "ticks": ""
             }
            }
           }
          ],
          "scatterpolar": [
           {
            "type": "scatterpolar",
            "marker": {
             "colorbar": {
              "outlinewidth": 0,
              "ticks": ""
             }
            }
           }
          ],
          "histogram": [
           {
            "marker": {
             "pattern": {
              "fillmode": "overlay",
              "size": 10,
              "solidity": 0.2
             }
            },
            "type": "histogram"
           }
          ],
          "scattergl": [
           {
            "type": "scattergl",
            "marker": {
             "colorbar": {
              "outlinewidth": 0,
              "ticks": ""
             }
            }
           }
          ],
          "scatter3d": [
           {
            "type": "scatter3d",
            "line": {
             "colorbar": {
              "outlinewidth": 0,
              "ticks": ""
             }
            },
            "marker": {
             "colorbar": {
              "outlinewidth": 0,
              "ticks": ""
             }
            }
           }
          ],
          "scattermapbox": [
           {
            "type": "scattermapbox",
            "marker": {
             "colorbar": {
              "outlinewidth": 0,
              "ticks": ""
             }
            }
           }
          ],
          "scatterternary": [
           {
            "type": "scatterternary",
            "marker": {
             "colorbar": {
              "outlinewidth": 0,
              "ticks": ""
             }
            }
           }
          ],
          "scattercarpet": [
           {
            "type": "scattercarpet",
            "marker": {
             "colorbar": {
              "outlinewidth": 0,
              "ticks": ""
             }
            }
           }
          ],
          "carpet": [
           {
            "aaxis": {
             "endlinecolor": "#2a3f5f",
             "gridcolor": "white",
             "linecolor": "white",
             "minorgridcolor": "white",
             "startlinecolor": "#2a3f5f"
            },
            "baxis": {
             "endlinecolor": "#2a3f5f",
             "gridcolor": "white",
             "linecolor": "white",
             "minorgridcolor": "white",
             "startlinecolor": "#2a3f5f"
            },
            "type": "carpet"
           }
          ],
          "table": [
           {
            "cells": {
             "fill": {
              "color": "#EBF0F8"
             },
             "line": {
              "color": "white"
             }
            },
            "header": {
             "fill": {
              "color": "#C8D4E3"
             },
             "line": {
              "color": "white"
             }
            },
            "type": "table"
           }
          ],
          "barpolar": [
           {
            "marker": {
             "line": {
              "color": "#E5ECF6",
              "width": 0.5
             },
             "pattern": {
              "fillmode": "overlay",
              "size": 10,
              "solidity": 0.2
             }
            },
            "type": "barpolar"
           }
          ],
          "pie": [
           {
            "automargin": true,
            "type": "pie"
           }
          ]
         },
         "layout": {
          "autotypenumbers": "strict",
          "colorway": [
           "#636efa",
           "#EF553B",
           "#00cc96",
           "#ab63fa",
           "#FFA15A",
           "#19d3f3",
           "#FF6692",
           "#B6E880",
           "#FF97FF",
           "#FECB52"
          ],
          "font": {
           "color": "#2a3f5f"
          },
          "hovermode": "closest",
          "hoverlabel": {
           "align": "left"
          },
          "paper_bgcolor": "white",
          "plot_bgcolor": "#E5ECF6",
          "polar": {
           "bgcolor": "#E5ECF6",
           "angularaxis": {
            "gridcolor": "white",
            "linecolor": "white",
            "ticks": ""
           },
           "radialaxis": {
            "gridcolor": "white",
            "linecolor": "white",
            "ticks": ""
           }
          },
          "ternary": {
           "bgcolor": "#E5ECF6",
           "aaxis": {
            "gridcolor": "white",
            "linecolor": "white",
            "ticks": ""
           },
           "baxis": {
            "gridcolor": "white",
            "linecolor": "white",
            "ticks": ""
           },
           "caxis": {
            "gridcolor": "white",
            "linecolor": "white",
            "ticks": ""
           }
          },
          "coloraxis": {
           "colorbar": {
            "outlinewidth": 0,
            "ticks": ""
           }
          },
          "colorscale": {
           "sequential": [
            [
             0.0,
             "#0d0887"
            ],
            [
             0.1111111111111111,
             "#46039f"
            ],
            [
             0.2222222222222222,
             "#7201a8"
            ],
            [
             0.3333333333333333,
             "#9c179e"
            ],
            [
             0.4444444444444444,
             "#bd3786"
            ],
            [
             0.5555555555555556,
             "#d8576b"
            ],
            [
             0.6666666666666666,
             "#ed7953"
            ],
            [
             0.7777777777777778,
             "#fb9f3a"
            ],
            [
             0.8888888888888888,
             "#fdca26"
            ],
            [
             1.0,
             "#f0f921"
            ]
           ],
           "sequentialminus": [
            [
             0.0,
             "#0d0887"
            ],
            [
             0.1111111111111111,
             "#46039f"
            ],
            [
             0.2222222222222222,
             "#7201a8"
            ],
            [
             0.3333333333333333,
             "#9c179e"
            ],
            [
             0.4444444444444444,
             "#bd3786"
            ],
            [
             0.5555555555555556,
             "#d8576b"
            ],
            [
             0.6666666666666666,
             "#ed7953"
            ],
            [
             0.7777777777777778,
             "#fb9f3a"
            ],
            [
             0.8888888888888888,
             "#fdca26"
            ],
            [
             1.0,
             "#f0f921"
            ]
           ],
           "diverging": [
            [
             0,
             "#8e0152"
            ],
            [
             0.1,
             "#c51b7d"
            ],
            [
             0.2,
             "#de77ae"
            ],
            [
             0.3,
             "#f1b6da"
            ],
            [
             0.4,
             "#fde0ef"
            ],
            [
             0.5,
             "#f7f7f7"
            ],
            [
             0.6,
             "#e6f5d0"
            ],
            [
             0.7,
             "#b8e186"
            ],
            [
             0.8,
             "#7fbc41"
            ],
            [
             0.9,
             "#4d9221"
            ],
            [
             1,
             "#276419"
            ]
           ]
          },
          "xaxis": {
           "gridcolor": "white",
           "linecolor": "white",
           "ticks": "",
           "title": {
            "standoff": 15
           },
           "zerolinecolor": "white",
           "automargin": true,
           "zerolinewidth": 2
          },
          "yaxis": {
           "gridcolor": "white",
           "linecolor": "white",
           "ticks": "",
           "title": {
            "standoff": 15
           },
           "zerolinecolor": "white",
           "automargin": true,
           "zerolinewidth": 2
          },
          "scene": {
           "xaxis": {
            "backgroundcolor": "#E5ECF6",
            "gridcolor": "white",
            "linecolor": "white",
            "showbackground": true,
            "ticks": "",
            "zerolinecolor": "white",
            "gridwidth": 2
           },
           "yaxis": {
            "backgroundcolor": "#E5ECF6",
            "gridcolor": "white",
            "linecolor": "white",
            "showbackground": true,
            "ticks": "",
            "zerolinecolor": "white",
            "gridwidth": 2
           },
           "zaxis": {
            "backgroundcolor": "#E5ECF6",
            "gridcolor": "white",
            "linecolor": "white",
            "showbackground": true,
            "ticks": "",
            "zerolinecolor": "white",
            "gridwidth": 2
           }
          },
          "shapedefaults": {
           "line": {
            "color": "#2a3f5f"
           }
          },
          "annotationdefaults": {
           "arrowcolor": "#2a3f5f",
           "arrowhead": 0,
           "arrowwidth": 1
          },
          "geo": {
           "bgcolor": "white",
           "landcolor": "#E5ECF6",
           "subunitcolor": "white",
           "showland": true,
           "showlakes": true,
           "lakecolor": "white"
          },
          "title": {
           "x": 0.05
          },
          "mapbox": {
           "style": "light"
          }
         }
        },
        "yaxis": {
         "title": {
          "text": "Box office revenue"
         },
         "tickformat": "$.2s"
        },
        "legend": {
         "x": 0,
         "y": 1
        },
        "title": {
         "text": "Box office revenue per year"
        },
        "xaxis": {
         "title": {
          "text": "Year"
         }
        }
       },
       "config": {
        "plotlyServerURL": "https://plot.ly"
       }
      },
      "text/html": [
       "<div>                            <div id=\"bbd2efb3-e54f-409d-ad57-21b2fad55d8d\" class=\"plotly-graph-div\" style=\"height:525px; width:100%;\"></div>            <script type=\"text/javascript\">                require([\"plotly\"], function(Plotly) {                    window.PLOTLYENV=window.PLOTLYENV || {};                                    if (document.getElementById(\"bbd2efb3-e54f-409d-ad57-21b2fad55d8d\")) {                    Plotly.newPlot(                        \"bbd2efb3-e54f-409d-ad57-21b2fad55d8d\",                        [{\"mode\":\"lines\",\"name\":\"Box office revenue of all movies\",\"x\":[1888.0,1889.0,1890.0,1891.0,1892.0,1893.0,1894.0,1895.0,1896.0,1897.0,1898.0,1899.0,1900.0,1901.0,1902.0,1903.0,1904.0,1905.0,1906.0,1907.0,1908.0,1909.0,1910.0,1911.0,1912.0,1913.0,1914.0,1915.0,1916.0,1917.0,1918.0,1919.0,1920.0,1921.0,1922.0,1923.0,1924.0,1925.0,1926.0,1927.0,1928.0,1929.0,1930.0,1931.0,1932.0,1933.0,1934.0,1935.0,1936.0,1937.0,1938.0,1939.0,1940.0,1941.0,1942.0,1943.0,1944.0,1945.0,1946.0,1947.0,1948.0,1949.0,1950.0,1951.0,1952.0,1953.0,1954.0,1955.0,1956.0,1957.0,1958.0,1959.0,1960.0,1961.0,1962.0,1963.0,1964.0,1965.0,1966.0,1967.0,1968.0,1969.0,1970.0,1971.0,1972.0,1973.0,1974.0,1975.0,1976.0,1977.0,1978.0,1979.0,1980.0,1981.0,1982.0,1983.0,1984.0,1985.0,1986.0,1987.0,1988.0,1989.0,1990.0,1991.0,1992.0,1993.0,1994.0,1995.0,1996.0,1997.0,1998.0,1999.0,2000.0,2001.0,2002.0,2003.0,2004.0,2005.0,2006.0,2007.0,2008.0,2009.0,2010.0,2011.0,2012.0,2013.0,2014.0,2015.0,2016.0,2017.0,2018.0,2019.0,2020.0,2021.0,2022.0,2023.0],\"y\":[0.0,0.0,0.0,0.0,0.0,0.0,0.0,0.0,0.0,3077797.97979798,0.0,0.0,0.0,0.0,0.0,0.0,0.0,0.0,0.0,0.0,0.0,0.0,0.0,0.0,0.0,0.0,86283318.5056,1508425742.5742574,0.0,0.0,0.0,0.0,68557950.0,134477418.99441344,317959674.705119,136648868.45497075,43118486.93298245,352792698.7829714,68859209.03954802,98940591.95402299,188345037.42690057,311473155.5555555,366262422.9559282,476060410.9909211,356012037.5182482,648050526.5907692,347963817.3495522,643191137.0417519,677205456.0417266,9217958299.695692,507995954.4994326,9654023208.400145,4354653442.938714,629975364.7812245,5751013816.202699,294516058.7196532,305109383.11147726,933137500.7132223,2050946036.8512821,365436241.086278,549030016.9958506,887082197.2642857,2717853337.3443985,2513475078.6923075,3460322392.075472,4800022542.284719,2934116502.497621,4570897529.733283,4263800387.4264708,3277564635.6843414,1307276159.2089274,2980372981.7869415,1842248406.4495945,4105915335.8116393,2999574912.116821,6776064792.697058,3310057412.1965804,5647493860.114032,4168204770.733951,8240984295.520061,8769458644.553333,4957661545.91128,5885371753.920155,4162373357.525679,6448576566.103637,9130733340.400406,7820038218.402556,9706637992.062046,6843351420.143691,12709050318.427656,10706171501.494509,9897286862.123554,8068471171.775023,9197077676.053509,10244454078.419254,7969221611.389037,9885180780.854225,9196898247.132286,10552317196.593048,11345012159.906338,12462061223.171835,14909255885.596146,15450143117.11076,13464099527.618444,15265530842.839314,16736418608.165274,17330408059.523495,18912186602.37564,18730693401.627865,23460940890.37104,21217147376.21864,24061332148.98862,22192294186.312695,25476537646.480305,29162026905.683636,29120383649.559326,30008631398.6247,26674796403.40047,26746566886.85795,31228403952.438984,31533865870.919895,35240088837.59911,35856593034.47882,36644150008.467735,37610900463.522064,39048126688.01549,38321427047.02014,40705274129.99046,41921915603.981255,42110335518.38087,39801000586.876625,38883269917.52933,7747420044.739513,19241612435.0975,23032576690.818752,25621256239.0],\"type\":\"scatter\"},{\"mode\":\"lines\",\"name\":\"Box office revenue of sequels\",\"x\":[1910.0,1920.0,1922.0,1929.0,1931.0,1933.0,1935.0,1936.0,1937.0,1938.0,1939.0,1940.0,1942.0,1943.0,1944.0,1945.0,1946.0,1947.0,1951.0,1952.0,1954.0,1955.0,1956.0,1957.0,1958.0,1959.0,1960.0,1962.0,1963.0,1964.0,1965.0,1966.0,1967.0,1968.0,1969.0,1970.0,1971.0,1972.0,1973.0,1974.0,1975.0,1976.0,1977.0,1978.0,1979.0,1980.0,1981.0,1982.0,1983.0,1984.0,1985.0,1986.0,1987.0,1988.0,1989.0,1990.0,1991.0,1992.0,1993.0,1994.0,1995.0,1996.0,1997.0,1998.0,1999.0,2000.0,2001.0,2002.0,2003.0,2004.0,2005.0,2006.0,2007.0,2008.0,2009.0,2010.0,2011.0,2012.0,2013.0,2014.0,2015.0,2016.0,2017.0,2018.0,2019.0,2020.0,2021.0,2022.0,2023.0],\"y\":[0.0,0.0,0.0,0.0,0.0,43502070.15384615,0.0,0.0,0.0,0.0,0.0,0.0,12618027.607361963,0.0,0.0,0.0,0.0,0.0,18164926.923076924,45992754.716981135,48140650.55762082,0.0,13442735.294117648,0.0,5060794.46366782,0.0,0.0,0.0,0.0,0.0,0.0,0.0,0.0,0.0,0.0,0.0,92907062.99530864,0.0,0.0,0.0,0.0,0.0,305451898.77366334,157110122.7792945,33995677.68595041,0.0,524403538.99449944,306218307.66567874,435109420.46293175,156876024.11998075,555236247.6010782,684942728.4225549,1116417165.7018135,380764157.55274725,1694383849.3236454,1345304893.0901916,127123448.47258444,1825388504.8698785,37186702.958380625,448517106.5450608,324001778.69479,34795622.58428298,593150411.2581557,122003903.34667484,919552381.8161343,251026129.19910568,1350092309.7599323,2158579555.885225,884228639.1407282,3798450934.888258,1787339435.9781053,1210820026.9828076,3572067724.0582128,1438951036.363906,1323017402.0171998,3371878963.188511,3898624073.197089,1868316663.199831,6624078957.780329,8995633483.461554,8786039888.880596,7446074436.550651,14534081948.764132,11576984485.082941,12952796101.513597,941742887.3452907,5703459932.361176,9116787071.461277,7167363576.0],\"type\":\"scatter\"},{\"mode\":\"lines\",\"name\":\"Box office revenue of book adaptation\",\"x\":[1905.0,1909.0,1910.0,1913.0,1915.0,1917.0,1918.0,1919.0,1920.0,1921.0,1922.0,1923.0,1924.0,1925.0,1926.0,1927.0,1928.0,1929.0,1930.0,1931.0,1932.0,1933.0,1934.0,1935.0,1936.0,1937.0,1938.0,1939.0,1940.0,1941.0,1942.0,1943.0,1944.0,1945.0,1946.0,1947.0,1948.0,1949.0,1950.0,1951.0,1952.0,1953.0,1954.0,1955.0,1956.0,1957.0,1958.0,1959.0,1960.0,1961.0,1962.0,1963.0,1964.0,1965.0,1966.0,1967.0,1968.0,1969.0,1970.0,1971.0,1972.0,1973.0,1974.0,1975.0,1976.0,1977.0,1978.0,1979.0,1980.0,1981.0,1982.0,1983.0,1984.0,1985.0,1986.0,1987.0,1988.0,1989.0,1990.0,1991.0,1992.0,1993.0,1994.0,1995.0,1996.0,1997.0,1998.0,1999.0,2000.0,2001.0,2002.0,2003.0,2004.0,2005.0,2006.0,2007.0,2008.0,2009.0,2010.0,2011.0,2012.0,2013.0,2014.0,2015.0,2016.0,2017.0,2018.0,2019.0,2020.0,2021.0,2022.0,2023.0],\"y\":[0.0,0.0,0.0,0.0,0.0,0.0,0.0,0.0,0.0,0.0,0.0,0.0,0.0,46558465.6,0.0,0.0,30292011.69590643,0.0,0.0,240554210.5263158,56492195.62043796,0.0,35371399.88686567,60762471.82481752,0.0,0.0,20568487.11361702,8917392137.797554,1874900333.9452858,124368163.26530613,86924190.18404907,0.0,299248.5267045454,0.0,0.0,0.0,0.0,41288401.2605042,1305414170.1244812,298232942.15384614,99206371.9245283,617963044.9438202,0.0,102325298.50746268,146469803.30882353,1446467020.9964411,331205011.5899654,1708582434.7079036,444989374.29662156,77449337.79264215,1046074716.4202648,1078625164.8366013,2232902718.1404514,1109714140.3434923,327960561.96679014,2912208322.208264,4566478286.445633,980379573.3682287,1054274440.760464,516569102.47590125,1071008431.4535886,1594717793.6880631,1796073046.6531444,3597688430.4683275,465911640.33782077,1247377000.3064027,675943631.0573926,1821334653.419146,376358994.90822816,771436740.1231683,928046962.7190259,402651067.446245,713484343.771742,445529297.7911339,641142711.1236862,785872780.2142606,1901756355.7314117,236903539.39319354,3534495088.7897935,1168507854.2434802,821897912.5551959,1022146507.6707959,3163281901.854224,1998358866.3916667,1673780611.653244,1204762638.8596635,1700295631.0052638,3296995099.2787037,2701715610.925912,4058447398.9960027,4314668600.587237,1573803535.8357825,3574997352.1905875,4709687316.030251,3873603986.9732738,3931990763.678936,2502084794.3342175,3285489376.047572,6002746293.0752,3651332641.8320165,5963520535.859709,6989008317.666076,7705728924.173113,6621066357.684647,4703703458.035607,4003800140.3656087,4653678031.685385,3498601382.4581137,905642008.9862179,1737536781.302882,876218438.8652099,2816489583.0],\"type\":\"scatter\"},{\"mode\":\"lines\",\"name\":\"Box office revenue of comics adaptation\",\"x\":[1936.0,1941.0,1944.0,1954.0,1961.0,1966.0,1967.0,1968.0,1969.0,1972.0,1974.0,1975.0,1976.0,1978.0,1979.0,1980.0,1981.0,1982.0,1983.0,1984.0,1985.0,1986.0,1988.0,1989.0,1990.0,1991.0,1992.0,1993.0,1994.0,1995.0,1996.0,1997.0,1998.0,1999.0,2000.0,2001.0,2002.0,2003.0,2004.0,2005.0,2006.0,2007.0,2008.0,2009.0,2010.0,2011.0,2012.0,2013.0,2014.0,2015.0,2016.0,2017.0,2018.0,2019.0,2020.0,2021.0,2022.0,2023.0],\"y\":[0.0,0.0,0.0,29450750.92936803,0.0,0.0,0.0,0.0,0.0,182238038.27751198,5599594.563894523,0.0,0.0,1403021940.5005522,0.0,0.0,362644675.3532673,246564725.7835855,8597121.041144578,58857607.86604427,129930712.50986987,105541360.97945255,0.0,1011270897.27,850238971.093971,314672630.21091044,579481859.6472416,336425535.2702284,1332272593.5729017,1525718453.704488,53389744.614990436,1737917127.5981681,245226281.95128834,195076971.0307443,0.0,173911870.08624506,2402619113.890895,1075573824.599076,2176946119.861429,1883383639.136088,442714192.4197818,2374758257.572966,1692903942.6791544,480753096.7120077,1516515882.0633323,3597814886.8019066,5486696494.952743,4865770950.384792,6906532253.978609,3621136274.6766353,5981916699.871804,7089129758.967795,9022631611.615416,8451610123.010135,562010722.665559,2277880617.8164,4592816670.88943,2530061671.0],\"type\":\"scatter\"},{\"mode\":\"lines\",\"name\":\"Box office revenue of remakes\",\"x\":[1896.0,1897.0,1923.0,1924.0,1925.0,1928.0,1929.0,1930.0,1932.0,1935.0,1936.0,1937.0,1938.0,1939.0,1940.0,1941.0,1943.0,1945.0,1946.0,1947.0,1948.0,1949.0,1950.0,1951.0,1952.0,1953.0,1954.0,1955.0,1956.0,1957.0,1958.0,1959.0,1960.0,1961.0,1962.0,1964.0,1966.0,1967.0,1968.0,1971.0,1972.0,1973.0,1974.0,1976.0,1977.0,1978.0,1979.0,1980.0,1981.0,1982.0,1983.0,1984.0,1985.0,1986.0,1987.0,1988.0,1989.0,1990.0,1991.0,1992.0,1993.0,1994.0,1995.0,1996.0,1997.0,1998.0,1999.0,2000.0,2001.0,2002.0,2003.0,2004.0,2005.0,2006.0,2007.0,2008.0,2009.0,2010.0,2011.0,2012.0,2013.0,2014.0,2015.0,2016.0,2017.0,2018.0,2019.0,2020.0,2021.0,2022.0,2023.0],\"y\":[0.0,0.0,0.0,0.0,0.0,0.0,0.0,0.0,0.0,0.0,0.0,0.0,20568487.11361702,0.0,0.0,0.0,0.0,0.0,0.0,0.0,0.0,51210420.168067224,0.0,33400026.92307692,80234360.60377358,0.0,96281301.11524165,70490761.19402984,62732764.705882356,0.0,22193692.387543254,1538169202.7491407,0.0,0.0,15134205.298013246,0.0,32915339.50617284,0.0,0.0,0.0,0.0,20587972.972972974,0.0,485244334.2775044,60337029.702970296,498116786.5846932,84607141.55564739,0.0,40895097.90979098,217381078.6686632,243638706.58592373,8464278.440327238,226071700.61955392,544275259.720292,187453689.6496479,158999407.0402705,371680261.79738706,27756491.815944918,683860392.3453598,468808225.0733,960055567.6794463,428695382.02916336,543646079.438517,456156434.2706437,375053708.84176946,980270396.1524049,1395310188.9663146,797478333.2586296,555068293.7120723,825065874.8550195,536831298.1039891,1259828317.2185812,1467446615.2789862,1146798226.742758,659824027.8679959,928665099.7983029,481189047.94417745,586059167.4540118,771865739.7522261,613458856.1647779,186778923.95626664,1443419991.3363492,1152070652.7097888,1873830061.283496,3013454664.3818784,1919855844.031572,3950617731.3505826,48004248.3403333,30929055.55122707,438209170.7050896,20200243.0],\"type\":\"scatter\"}],                        {\"template\":{\"data\":{\"histogram2dcontour\":[{\"type\":\"histogram2dcontour\",\"colorbar\":{\"outlinewidth\":0,\"ticks\":\"\"},\"colorscale\":[[0.0,\"#0d0887\"],[0.1111111111111111,\"#46039f\"],[0.2222222222222222,\"#7201a8\"],[0.3333333333333333,\"#9c179e\"],[0.4444444444444444,\"#bd3786\"],[0.5555555555555556,\"#d8576b\"],[0.6666666666666666,\"#ed7953\"],[0.7777777777777778,\"#fb9f3a\"],[0.8888888888888888,\"#fdca26\"],[1.0,\"#f0f921\"]]}],\"choropleth\":[{\"type\":\"choropleth\",\"colorbar\":{\"outlinewidth\":0,\"ticks\":\"\"}}],\"histogram2d\":[{\"type\":\"histogram2d\",\"colorbar\":{\"outlinewidth\":0,\"ticks\":\"\"},\"colorscale\":[[0.0,\"#0d0887\"],[0.1111111111111111,\"#46039f\"],[0.2222222222222222,\"#7201a8\"],[0.3333333333333333,\"#9c179e\"],[0.4444444444444444,\"#bd3786\"],[0.5555555555555556,\"#d8576b\"],[0.6666666666666666,\"#ed7953\"],[0.7777777777777778,\"#fb9f3a\"],[0.8888888888888888,\"#fdca26\"],[1.0,\"#f0f921\"]]}],\"heatmap\":[{\"type\":\"heatmap\",\"colorbar\":{\"outlinewidth\":0,\"ticks\":\"\"},\"colorscale\":[[0.0,\"#0d0887\"],[0.1111111111111111,\"#46039f\"],[0.2222222222222222,\"#7201a8\"],[0.3333333333333333,\"#9c179e\"],[0.4444444444444444,\"#bd3786\"],[0.5555555555555556,\"#d8576b\"],[0.6666666666666666,\"#ed7953\"],[0.7777777777777778,\"#fb9f3a\"],[0.8888888888888888,\"#fdca26\"],[1.0,\"#f0f921\"]]}],\"heatmapgl\":[{\"type\":\"heatmapgl\",\"colorbar\":{\"outlinewidth\":0,\"ticks\":\"\"},\"colorscale\":[[0.0,\"#0d0887\"],[0.1111111111111111,\"#46039f\"],[0.2222222222222222,\"#7201a8\"],[0.3333333333333333,\"#9c179e\"],[0.4444444444444444,\"#bd3786\"],[0.5555555555555556,\"#d8576b\"],[0.6666666666666666,\"#ed7953\"],[0.7777777777777778,\"#fb9f3a\"],[0.8888888888888888,\"#fdca26\"],[1.0,\"#f0f921\"]]}],\"contourcarpet\":[{\"type\":\"contourcarpet\",\"colorbar\":{\"outlinewidth\":0,\"ticks\":\"\"}}],\"contour\":[{\"type\":\"contour\",\"colorbar\":{\"outlinewidth\":0,\"ticks\":\"\"},\"colorscale\":[[0.0,\"#0d0887\"],[0.1111111111111111,\"#46039f\"],[0.2222222222222222,\"#7201a8\"],[0.3333333333333333,\"#9c179e\"],[0.4444444444444444,\"#bd3786\"],[0.5555555555555556,\"#d8576b\"],[0.6666666666666666,\"#ed7953\"],[0.7777777777777778,\"#fb9f3a\"],[0.8888888888888888,\"#fdca26\"],[1.0,\"#f0f921\"]]}],\"surface\":[{\"type\":\"surface\",\"colorbar\":{\"outlinewidth\":0,\"ticks\":\"\"},\"colorscale\":[[0.0,\"#0d0887\"],[0.1111111111111111,\"#46039f\"],[0.2222222222222222,\"#7201a8\"],[0.3333333333333333,\"#9c179e\"],[0.4444444444444444,\"#bd3786\"],[0.5555555555555556,\"#d8576b\"],[0.6666666666666666,\"#ed7953\"],[0.7777777777777778,\"#fb9f3a\"],[0.8888888888888888,\"#fdca26\"],[1.0,\"#f0f921\"]]}],\"mesh3d\":[{\"type\":\"mesh3d\",\"colorbar\":{\"outlinewidth\":0,\"ticks\":\"\"}}],\"scatter\":[{\"fillpattern\":{\"fillmode\":\"overlay\",\"size\":10,\"solidity\":0.2},\"type\":\"scatter\"}],\"parcoords\":[{\"type\":\"parcoords\",\"line\":{\"colorbar\":{\"outlinewidth\":0,\"ticks\":\"\"}}}],\"scatterpolargl\":[{\"type\":\"scatterpolargl\",\"marker\":{\"colorbar\":{\"outlinewidth\":0,\"ticks\":\"\"}}}],\"bar\":[{\"error_x\":{\"color\":\"#2a3f5f\"},\"error_y\":{\"color\":\"#2a3f5f\"},\"marker\":{\"line\":{\"color\":\"#E5ECF6\",\"width\":0.5},\"pattern\":{\"fillmode\":\"overlay\",\"size\":10,\"solidity\":0.2}},\"type\":\"bar\"}],\"scattergeo\":[{\"type\":\"scattergeo\",\"marker\":{\"colorbar\":{\"outlinewidth\":0,\"ticks\":\"\"}}}],\"scatterpolar\":[{\"type\":\"scatterpolar\",\"marker\":{\"colorbar\":{\"outlinewidth\":0,\"ticks\":\"\"}}}],\"histogram\":[{\"marker\":{\"pattern\":{\"fillmode\":\"overlay\",\"size\":10,\"solidity\":0.2}},\"type\":\"histogram\"}],\"scattergl\":[{\"type\":\"scattergl\",\"marker\":{\"colorbar\":{\"outlinewidth\":0,\"ticks\":\"\"}}}],\"scatter3d\":[{\"type\":\"scatter3d\",\"line\":{\"colorbar\":{\"outlinewidth\":0,\"ticks\":\"\"}},\"marker\":{\"colorbar\":{\"outlinewidth\":0,\"ticks\":\"\"}}}],\"scattermapbox\":[{\"type\":\"scattermapbox\",\"marker\":{\"colorbar\":{\"outlinewidth\":0,\"ticks\":\"\"}}}],\"scatterternary\":[{\"type\":\"scatterternary\",\"marker\":{\"colorbar\":{\"outlinewidth\":0,\"ticks\":\"\"}}}],\"scattercarpet\":[{\"type\":\"scattercarpet\",\"marker\":{\"colorbar\":{\"outlinewidth\":0,\"ticks\":\"\"}}}],\"carpet\":[{\"aaxis\":{\"endlinecolor\":\"#2a3f5f\",\"gridcolor\":\"white\",\"linecolor\":\"white\",\"minorgridcolor\":\"white\",\"startlinecolor\":\"#2a3f5f\"},\"baxis\":{\"endlinecolor\":\"#2a3f5f\",\"gridcolor\":\"white\",\"linecolor\":\"white\",\"minorgridcolor\":\"white\",\"startlinecolor\":\"#2a3f5f\"},\"type\":\"carpet\"}],\"table\":[{\"cells\":{\"fill\":{\"color\":\"#EBF0F8\"},\"line\":{\"color\":\"white\"}},\"header\":{\"fill\":{\"color\":\"#C8D4E3\"},\"line\":{\"color\":\"white\"}},\"type\":\"table\"}],\"barpolar\":[{\"marker\":{\"line\":{\"color\":\"#E5ECF6\",\"width\":0.5},\"pattern\":{\"fillmode\":\"overlay\",\"size\":10,\"solidity\":0.2}},\"type\":\"barpolar\"}],\"pie\":[{\"automargin\":true,\"type\":\"pie\"}]},\"layout\":{\"autotypenumbers\":\"strict\",\"colorway\":[\"#636efa\",\"#EF553B\",\"#00cc96\",\"#ab63fa\",\"#FFA15A\",\"#19d3f3\",\"#FF6692\",\"#B6E880\",\"#FF97FF\",\"#FECB52\"],\"font\":{\"color\":\"#2a3f5f\"},\"hovermode\":\"closest\",\"hoverlabel\":{\"align\":\"left\"},\"paper_bgcolor\":\"white\",\"plot_bgcolor\":\"#E5ECF6\",\"polar\":{\"bgcolor\":\"#E5ECF6\",\"angularaxis\":{\"gridcolor\":\"white\",\"linecolor\":\"white\",\"ticks\":\"\"},\"radialaxis\":{\"gridcolor\":\"white\",\"linecolor\":\"white\",\"ticks\":\"\"}},\"ternary\":{\"bgcolor\":\"#E5ECF6\",\"aaxis\":{\"gridcolor\":\"white\",\"linecolor\":\"white\",\"ticks\":\"\"},\"baxis\":{\"gridcolor\":\"white\",\"linecolor\":\"white\",\"ticks\":\"\"},\"caxis\":{\"gridcolor\":\"white\",\"linecolor\":\"white\",\"ticks\":\"\"}},\"coloraxis\":{\"colorbar\":{\"outlinewidth\":0,\"ticks\":\"\"}},\"colorscale\":{\"sequential\":[[0.0,\"#0d0887\"],[0.1111111111111111,\"#46039f\"],[0.2222222222222222,\"#7201a8\"],[0.3333333333333333,\"#9c179e\"],[0.4444444444444444,\"#bd3786\"],[0.5555555555555556,\"#d8576b\"],[0.6666666666666666,\"#ed7953\"],[0.7777777777777778,\"#fb9f3a\"],[0.8888888888888888,\"#fdca26\"],[1.0,\"#f0f921\"]],\"sequentialminus\":[[0.0,\"#0d0887\"],[0.1111111111111111,\"#46039f\"],[0.2222222222222222,\"#7201a8\"],[0.3333333333333333,\"#9c179e\"],[0.4444444444444444,\"#bd3786\"],[0.5555555555555556,\"#d8576b\"],[0.6666666666666666,\"#ed7953\"],[0.7777777777777778,\"#fb9f3a\"],[0.8888888888888888,\"#fdca26\"],[1.0,\"#f0f921\"]],\"diverging\":[[0,\"#8e0152\"],[0.1,\"#c51b7d\"],[0.2,\"#de77ae\"],[0.3,\"#f1b6da\"],[0.4,\"#fde0ef\"],[0.5,\"#f7f7f7\"],[0.6,\"#e6f5d0\"],[0.7,\"#b8e186\"],[0.8,\"#7fbc41\"],[0.9,\"#4d9221\"],[1,\"#276419\"]]},\"xaxis\":{\"gridcolor\":\"white\",\"linecolor\":\"white\",\"ticks\":\"\",\"title\":{\"standoff\":15},\"zerolinecolor\":\"white\",\"automargin\":true,\"zerolinewidth\":2},\"yaxis\":{\"gridcolor\":\"white\",\"linecolor\":\"white\",\"ticks\":\"\",\"title\":{\"standoff\":15},\"zerolinecolor\":\"white\",\"automargin\":true,\"zerolinewidth\":2},\"scene\":{\"xaxis\":{\"backgroundcolor\":\"#E5ECF6\",\"gridcolor\":\"white\",\"linecolor\":\"white\",\"showbackground\":true,\"ticks\":\"\",\"zerolinecolor\":\"white\",\"gridwidth\":2},\"yaxis\":{\"backgroundcolor\":\"#E5ECF6\",\"gridcolor\":\"white\",\"linecolor\":\"white\",\"showbackground\":true,\"ticks\":\"\",\"zerolinecolor\":\"white\",\"gridwidth\":2},\"zaxis\":{\"backgroundcolor\":\"#E5ECF6\",\"gridcolor\":\"white\",\"linecolor\":\"white\",\"showbackground\":true,\"ticks\":\"\",\"zerolinecolor\":\"white\",\"gridwidth\":2}},\"shapedefaults\":{\"line\":{\"color\":\"#2a3f5f\"}},\"annotationdefaults\":{\"arrowcolor\":\"#2a3f5f\",\"arrowhead\":0,\"arrowwidth\":1},\"geo\":{\"bgcolor\":\"white\",\"landcolor\":\"#E5ECF6\",\"subunitcolor\":\"white\",\"showland\":true,\"showlakes\":true,\"lakecolor\":\"white\"},\"title\":{\"x\":0.05},\"mapbox\":{\"style\":\"light\"}}},\"yaxis\":{\"title\":{\"text\":\"Box office revenue\"},\"tickformat\":\"$.2s\"},\"legend\":{\"x\":0,\"y\":1},\"title\":{\"text\":\"Box office revenue per year\"},\"xaxis\":{\"title\":{\"text\":\"Year\"}}},                        {\"responsive\": true}                    ).then(function(){\n",
       "                            \n",
       "var gd = document.getElementById('bbd2efb3-e54f-409d-ad57-21b2fad55d8d');\n",
       "var x = new MutationObserver(function (mutations, observer) {{\n",
       "        var display = window.getComputedStyle(gd).display;\n",
       "        if (!display || display === 'none') {{\n",
       "            console.log([gd, 'removed!']);\n",
       "            Plotly.purge(gd);\n",
       "            observer.disconnect();\n",
       "        }}\n",
       "}});\n",
       "\n",
       "// Listen for the removal of the full notebook cells\n",
       "var notebookContainer = gd.closest('#notebook-container');\n",
       "if (notebookContainer) {{\n",
       "    x.observe(notebookContainer, {childList: true});\n",
       "}}\n",
       "\n",
       "// Listen for the clearing of the current output cell\n",
       "var outputEl = gd.closest('.output');\n",
       "if (outputEl) {{\n",
       "    x.observe(outputEl, {childList: true});\n",
       "}}\n",
       "\n",
       "                        })                };                });            </script>        </div>"
      ]
     },
     "metadata": {},
     "output_type": "display_data"
    }
   ],
   "execution_count": 276
  },
  {
   "cell_type": "markdown",
   "id": "4b7b455b",
   "metadata": {},
   "source": [
    "Calculation and plots the percentage of box office revenue each year contributed by movies with sequels, relative to the total box office revenue for all movies that year"
   ]
  },
  {
   "cell_type": "markdown",
   "id": "1a9df2e3",
   "metadata": {},
   "source": [
    "$$\n",
    "\\text{Box Office \\%} = \\frac{\\text{Box office of movies with sequel per year}}{\\text{Box office for all movies per year}} * 100\n",
    "$$"
   ]
  },
  {
   "cell_type": "code",
   "id": "679d8d9f008ab8f1",
   "metadata": {
    "ExecuteTime": {
     "end_time": "2024-12-15T20:44:38.788780Z",
     "start_time": "2024-12-15T20:44:38.612952Z"
    }
   },
   "source": [
    "from src.models.box_office_revenue import get_box_office_ratio\n",
    "\n",
    "fig = get_box_office_ratio(movie_frames_concat)\n",
    "fig"
   ],
   "outputs": [
    {
     "data": {
      "application/vnd.plotly.v1+json": {
       "data": [
        {
         "mode": "lines",
         "name": "Ratio of the box office taken by sequels",
         "x": [
          1888.0,
          1889.0,
          1890.0,
          1891.0,
          1892.0,
          1893.0,
          1894.0,
          1895.0,
          1896.0,
          1897.0,
          1898.0,
          1899.0,
          1900.0,
          1901.0,
          1902.0,
          1903.0,
          1904.0,
          1905.0,
          1906.0,
          1907.0,
          1908.0,
          1909.0,
          1910.0,
          1911.0,
          1912.0,
          1913.0,
          1914.0,
          1915.0,
          1916.0,
          1917.0,
          1918.0,
          1919.0,
          1920.0,
          1921.0,
          1922.0,
          1923.0,
          1924.0,
          1925.0,
          1926.0,
          1927.0,
          1928.0,
          1929.0,
          1930.0,
          1931.0,
          1932.0,
          1933.0,
          1934.0,
          1935.0,
          1936.0,
          1937.0,
          1938.0,
          1939.0,
          1940.0,
          1941.0,
          1942.0,
          1943.0,
          1944.0,
          1945.0,
          1946.0,
          1947.0,
          1948.0,
          1949.0,
          1950.0,
          1951.0,
          1952.0,
          1953.0,
          1954.0,
          1955.0,
          1956.0,
          1957.0,
          1958.0,
          1959.0,
          1960.0,
          1961.0,
          1962.0,
          1963.0,
          1964.0,
          1965.0,
          1966.0,
          1967.0,
          1968.0,
          1969.0,
          1970.0,
          1971.0,
          1972.0,
          1973.0,
          1974.0,
          1975.0,
          1976.0,
          1977.0,
          1978.0,
          1979.0,
          1980.0,
          1981.0,
          1982.0,
          1983.0,
          1984.0,
          1985.0,
          1986.0,
          1987.0,
          1988.0,
          1989.0,
          1990.0,
          1991.0,
          1992.0,
          1993.0,
          1994.0,
          1995.0,
          1996.0,
          1997.0,
          1998.0,
          1999.0,
          2000.0,
          2001.0,
          2002.0,
          2003.0,
          2004.0,
          2005.0,
          2006.0,
          2007.0,
          2008.0,
          2009.0,
          2010.0,
          2011.0,
          2012.0,
          2013.0,
          2014.0,
          2015.0,
          2016.0,
          2017.0,
          2018.0,
          2019.0,
          2020.0,
          2021.0,
          2022.0,
          2023.0
         ],
         "y": [
          0.0,
          0.0,
          0.0,
          0.0,
          0.0,
          0.0,
          0.0,
          0.0,
          0.0,
          0.0,
          0.0,
          0.0,
          0.0,
          0.0,
          0.0,
          0.0,
          0.0,
          0.0,
          0.0,
          0.0,
          0.0,
          0.0,
          0.0,
          0.0,
          0.0,
          0.0,
          0.0,
          0.0,
          0.0,
          0.0,
          0.0,
          0.0,
          0.0,
          0.0,
          0.0,
          0.0,
          0.0,
          0.0,
          0.0,
          0.0,
          0.0,
          0.0,
          0.0,
          0.0,
          0.0,
          6.712759016291462,
          0.0,
          0.0,
          0.0,
          0.0,
          0.0,
          0.0,
          0.0,
          0.0,
          0.2194052737590786,
          0.0,
          0.0,
          0.0,
          0.0,
          0.0,
          0.0,
          0.0,
          0.0,
          0.7227016920544779,
          1.3291465217896958,
          0.0,
          1.6407204866146878,
          0.0,
          0.3152759058270869,
          0.0,
          0.3871251248649911,
          0.0,
          0.0,
          0.0,
          0.0,
          0.0,
          0.0,
          0.0,
          0.0,
          0.0,
          0.0,
          0.0,
          0.0,
          2.232069423261377,
          0.0,
          0.0,
          0.0,
          0.0,
          0.0,
          2.403420327408487,
          1.4674725017935961,
          0.343484817198239,
          0.0,
          5.701849625124863,
          2.9891129905179783,
          5.459873519405016,
          1.5869818427986742,
          6.037212032591619,
          6.4909224738211755,
          9.840599110570105,
          3.055386671064961,
          11.364643965636086,
          8.707394377468843,
          0.9441659890571998,
          11.957582894840002,
          0.22219032535573754,
          2.5880354634730565,
          1.7131904708157373,
          0.18576793628611168,
          2.5282464758333694,
          0.5750250077605796,
          3.821701874701839,
          1.1311409586212515,
          5.299355542319752,
          7.402021686855109,
          3.036459442917089,
          12.657861281412327,
          6.700480142184919,
          4.5270110070752665,
          11.438521576377997,
          4.563192607763602,
          3.7542964437865365,
          9.4037907057879,
          10.63914450818533,
          4.967487191676965,
          16.963884108205804,
          23.4741610024699,
          21.584524552820287,
          17.761770494675368,
          34.51428674183825,
          29.08716945397639,
          33.312003154534665,
          12.155567684557553,
          29.641278513425558,
          39.58214138974478,
          27.974286307983714
         ],
         "type": "scatter"
        },
        {
         "mode": "lines",
         "name": "Ratio of the box office taken by book adaptation",
         "x": [
          1888.0,
          1889.0,
          1890.0,
          1891.0,
          1892.0,
          1893.0,
          1894.0,
          1895.0,
          1896.0,
          1897.0,
          1898.0,
          1899.0,
          1900.0,
          1901.0,
          1902.0,
          1903.0,
          1904.0,
          1905.0,
          1906.0,
          1907.0,
          1908.0,
          1909.0,
          1910.0,
          1911.0,
          1912.0,
          1913.0,
          1914.0,
          1915.0,
          1916.0,
          1917.0,
          1918.0,
          1919.0,
          1920.0,
          1921.0,
          1922.0,
          1923.0,
          1924.0,
          1925.0,
          1926.0,
          1927.0,
          1928.0,
          1929.0,
          1930.0,
          1931.0,
          1932.0,
          1933.0,
          1934.0,
          1935.0,
          1936.0,
          1937.0,
          1938.0,
          1939.0,
          1940.0,
          1941.0,
          1942.0,
          1943.0,
          1944.0,
          1945.0,
          1946.0,
          1947.0,
          1948.0,
          1949.0,
          1950.0,
          1951.0,
          1952.0,
          1953.0,
          1954.0,
          1955.0,
          1956.0,
          1957.0,
          1958.0,
          1959.0,
          1960.0,
          1961.0,
          1962.0,
          1963.0,
          1964.0,
          1965.0,
          1966.0,
          1967.0,
          1968.0,
          1969.0,
          1970.0,
          1971.0,
          1972.0,
          1973.0,
          1974.0,
          1975.0,
          1976.0,
          1977.0,
          1978.0,
          1979.0,
          1980.0,
          1981.0,
          1982.0,
          1983.0,
          1984.0,
          1985.0,
          1986.0,
          1987.0,
          1988.0,
          1989.0,
          1990.0,
          1991.0,
          1992.0,
          1993.0,
          1994.0,
          1995.0,
          1996.0,
          1997.0,
          1998.0,
          1999.0,
          2000.0,
          2001.0,
          2002.0,
          2003.0,
          2004.0,
          2005.0,
          2006.0,
          2007.0,
          2008.0,
          2009.0,
          2010.0,
          2011.0,
          2012.0,
          2013.0,
          2014.0,
          2015.0,
          2016.0,
          2017.0,
          2018.0,
          2019.0,
          2020.0,
          2021.0,
          2022.0,
          2023.0
         ],
         "y": [
          0.0,
          0.0,
          0.0,
          0.0,
          0.0,
          0.0,
          0.0,
          0.0,
          0.0,
          0.0,
          0.0,
          0.0,
          0.0,
          0.0,
          0.0,
          0.0,
          0.0,
          0.0,
          0.0,
          0.0,
          0.0,
          0.0,
          0.0,
          0.0,
          0.0,
          0.0,
          0.0,
          0.0,
          0.0,
          0.0,
          0.0,
          0.0,
          0.0,
          0.0,
          0.0,
          0.0,
          0.0,
          13.19711710605483,
          0.0,
          0.0,
          16.08325449385052,
          0.0,
          0.0,
          50.530185869814616,
          15.868057724745425,
          0.0,
          10.16525228292136,
          9.447031889196136,
          0.0,
          0.0,
          4.048947030274036,
          92.36969857331984,
          43.055098609179325,
          19.741750268043614,
          1.511458552562541,
          0.0,
          0.09807909663506137,
          0.0,
          0.0,
          0.0,
          0.0,
          4.654405351368276,
          48.03107482613448,
          11.865363006066032,
          2.8669690475003735,
          12.874169641913422,
          0.0,
          2.2386259556650674,
          3.4351937239076342,
          44.13237210482731,
          25.335504610623943,
          57.32780578635796,
          24.154689060321186,
          1.886286770628998,
          34.87409873294489,
          15.918164861692228,
          67.45812655432702,
          19.649674135654312,
          7.868148999528202,
          35.338112751790945,
          52.072522051082935,
          19.775040395340717,
          17.91347233177289,
          12.41044611103737,
          16.608447158451188,
          17.465385684104653,
          22.967573769991606,
          37.06420733327509,
          6.808237831633056,
          9.814871835842462,
          6.313588671384869,
          18.40236297878065,
          4.66456391670333,
          8.387846306134428,
          9.059018231864883,
          5.0525771158227695,
          7.217716697236633,
          4.8443430145598905,
          6.075847599906184,
          6.927033388219379,
          15.260367620368488,
          1.5889695717280323,
          22.87677895278137,
          8.678692933356295,
          5.384011345669831,
          6.10731920371612,
          18.25278372551604,
          10.566514112866484,
          8.936031228335505,
          5.1351846649685235,
          8.013780556150776,
          13.702462851448097,
          12.174115881143194,
          15.930137192550161,
          14.79550311966249,
          5.4044739065778025,
          11.91323024599659,
          17.65594475326479,
          14.482621277561373,
          12.59107180010665,
          7.934595791636212,
          9.323158608335138,
          16.740983414969477,
          9.964298915347378,
          15.855830257623287,
          17.898447148326625,
          20.10814710714774,
          16.26586848805039,
          11.220153922519954,
          9.507879932749475,
          11.692364420656846,
          8.997703613607037,
          11.68959477808548,
          9.030099671551136,
          3.8042571208044134,
          10.992784884266579
         ],
         "type": "scatter"
        },
        {
         "mode": "lines",
         "name": "Ratio of the box office taken by comics adaptation",
         "x": [
          1888.0,
          1889.0,
          1890.0,
          1891.0,
          1892.0,
          1893.0,
          1894.0,
          1895.0,
          1896.0,
          1897.0,
          1898.0,
          1899.0,
          1900.0,
          1901.0,
          1902.0,
          1903.0,
          1904.0,
          1905.0,
          1906.0,
          1907.0,
          1908.0,
          1909.0,
          1910.0,
          1911.0,
          1912.0,
          1913.0,
          1914.0,
          1915.0,
          1916.0,
          1917.0,
          1918.0,
          1919.0,
          1920.0,
          1921.0,
          1922.0,
          1923.0,
          1924.0,
          1925.0,
          1926.0,
          1927.0,
          1928.0,
          1929.0,
          1930.0,
          1931.0,
          1932.0,
          1933.0,
          1934.0,
          1935.0,
          1936.0,
          1937.0,
          1938.0,
          1939.0,
          1940.0,
          1941.0,
          1942.0,
          1943.0,
          1944.0,
          1945.0,
          1946.0,
          1947.0,
          1948.0,
          1949.0,
          1950.0,
          1951.0,
          1952.0,
          1953.0,
          1954.0,
          1955.0,
          1956.0,
          1957.0,
          1958.0,
          1959.0,
          1960.0,
          1961.0,
          1962.0,
          1963.0,
          1964.0,
          1965.0,
          1966.0,
          1967.0,
          1968.0,
          1969.0,
          1970.0,
          1971.0,
          1972.0,
          1973.0,
          1974.0,
          1975.0,
          1976.0,
          1977.0,
          1978.0,
          1979.0,
          1980.0,
          1981.0,
          1982.0,
          1983.0,
          1984.0,
          1985.0,
          1986.0,
          1987.0,
          1988.0,
          1989.0,
          1990.0,
          1991.0,
          1992.0,
          1993.0,
          1994.0,
          1995.0,
          1996.0,
          1997.0,
          1998.0,
          1999.0,
          2000.0,
          2001.0,
          2002.0,
          2003.0,
          2004.0,
          2005.0,
          2006.0,
          2007.0,
          2008.0,
          2009.0,
          2010.0,
          2011.0,
          2012.0,
          2013.0,
          2014.0,
          2015.0,
          2016.0,
          2017.0,
          2018.0,
          2019.0,
          2020.0,
          2021.0,
          2022.0,
          2023.0
         ],
         "y": [
          0.0,
          0.0,
          0.0,
          0.0,
          0.0,
          0.0,
          0.0,
          0.0,
          0.0,
          0.0,
          0.0,
          0.0,
          0.0,
          0.0,
          0.0,
          0.0,
          0.0,
          0.0,
          0.0,
          0.0,
          0.0,
          0.0,
          0.0,
          0.0,
          0.0,
          0.0,
          0.0,
          0.0,
          0.0,
          0.0,
          0.0,
          0.0,
          0.0,
          0.0,
          0.0,
          0.0,
          0.0,
          0.0,
          0.0,
          0.0,
          0.0,
          0.0,
          0.0,
          0.0,
          0.0,
          0.0,
          0.0,
          0.0,
          0.0,
          0.0,
          0.0,
          0.0,
          0.0,
          0.0,
          0.0,
          0.0,
          0.0,
          0.0,
          0.0,
          0.0,
          0.0,
          0.0,
          0.0,
          0.0,
          0.0,
          0.0,
          1.0037348859289852,
          0.0,
          0.0,
          0.0,
          0.0,
          0.0,
          0.0,
          0.0,
          0.0,
          0.0,
          0.0,
          0.0,
          0.0,
          0.0,
          0.0,
          0.0,
          0.0,
          0.0,
          2.8260196092798195,
          0.0,
          0.0716057186359683,
          0.0,
          0.0,
          0.0,
          13.104796054357056,
          0.0,
          0.0,
          3.9430424328967844,
          2.4068117626979597,
          0.1078790559526942,
          0.5954125591718121,
          1.4127666634822666,
          1.0001723698518836,
          0.0,
          0.0,
          6.782839499367572,
          5.503113884766196,
          2.33712347094162,
          3.7960151246169227,
          2.0101405393032827,
          7.6874854244461055,
          8.067382613033418,
          0.2850388048653361,
          7.40770430188268,
          1.1557928952605176,
          0.8107488389371827,
          0.0,
          0.6826354212628722,
          8.238861865334291,
          3.69354276901964,
          7.2543998789668205,
          7.060536135511033,
          1.655218758700996,
          7.6044816801708315,
          5.368526490246562,
          1.3642221474739085,
          4.2293920133602425,
          9.818251715404841,
          14.588048750053623,
          12.460958727318863,
          18.022638471955492,
          8.89598793294623,
          14.269187401597916,
          16.834655130860785,
          22.669358756247952,
          21.735852311124653,
          7.2541661536367,
          11.838304224761597,
          19.940524816401542,
          9.874854095361673
         ],
         "type": "scatter"
        },
        {
         "mode": "lines",
         "name": "Ratio of the box office taken by remakes",
         "x": [
          1888.0,
          1889.0,
          1890.0,
          1891.0,
          1892.0,
          1893.0,
          1894.0,
          1895.0,
          1896.0,
          1897.0,
          1898.0,
          1899.0,
          1900.0,
          1901.0,
          1902.0,
          1903.0,
          1904.0,
          1905.0,
          1906.0,
          1907.0,
          1908.0,
          1909.0,
          1910.0,
          1911.0,
          1912.0,
          1913.0,
          1914.0,
          1915.0,
          1916.0,
          1917.0,
          1918.0,
          1919.0,
          1920.0,
          1921.0,
          1922.0,
          1923.0,
          1924.0,
          1925.0,
          1926.0,
          1927.0,
          1928.0,
          1929.0,
          1930.0,
          1931.0,
          1932.0,
          1933.0,
          1934.0,
          1935.0,
          1936.0,
          1937.0,
          1938.0,
          1939.0,
          1940.0,
          1941.0,
          1942.0,
          1943.0,
          1944.0,
          1945.0,
          1946.0,
          1947.0,
          1948.0,
          1949.0,
          1950.0,
          1951.0,
          1952.0,
          1953.0,
          1954.0,
          1955.0,
          1956.0,
          1957.0,
          1958.0,
          1959.0,
          1960.0,
          1961.0,
          1962.0,
          1963.0,
          1964.0,
          1965.0,
          1966.0,
          1967.0,
          1968.0,
          1969.0,
          1970.0,
          1971.0,
          1972.0,
          1973.0,
          1974.0,
          1975.0,
          1976.0,
          1977.0,
          1978.0,
          1979.0,
          1980.0,
          1981.0,
          1982.0,
          1983.0,
          1984.0,
          1985.0,
          1986.0,
          1987.0,
          1988.0,
          1989.0,
          1990.0,
          1991.0,
          1992.0,
          1993.0,
          1994.0,
          1995.0,
          1996.0,
          1997.0,
          1998.0,
          1999.0,
          2000.0,
          2001.0,
          2002.0,
          2003.0,
          2004.0,
          2005.0,
          2006.0,
          2007.0,
          2008.0,
          2009.0,
          2010.0,
          2011.0,
          2012.0,
          2013.0,
          2014.0,
          2015.0,
          2016.0,
          2017.0,
          2018.0,
          2019.0,
          2020.0,
          2021.0,
          2022.0,
          2023.0
         ],
         "y": [
          0.0,
          0.0,
          0.0,
          0.0,
          0.0,
          0.0,
          0.0,
          0.0,
          0.0,
          0.0,
          0.0,
          0.0,
          0.0,
          0.0,
          0.0,
          0.0,
          0.0,
          0.0,
          0.0,
          0.0,
          0.0,
          0.0,
          0.0,
          0.0,
          0.0,
          0.0,
          0.0,
          0.0,
          0.0,
          0.0,
          0.0,
          0.0,
          0.0,
          0.0,
          0.0,
          0.0,
          0.0,
          0.0,
          0.0,
          0.0,
          0.0,
          0.0,
          0.0,
          0.0,
          0.0,
          0.0,
          0.0,
          0.0,
          0.0,
          0.0,
          4.048947030274036,
          0.0,
          0.0,
          0.0,
          0.0,
          0.0,
          0.0,
          0.0,
          0.0,
          0.0,
          0.0,
          5.772905862162203,
          0.0,
          1.3288385950679107,
          2.318696107262124,
          0.0,
          3.2814409732293757,
          1.5421645472359353,
          1.4712875605264055,
          0.0,
          1.6977049746683466,
          51.60995661109842,
          0.0,
          0.0,
          0.5045450019227201,
          0.0,
          0.0,
          0.0,
          0.7896766429826094,
          0.0,
          0.0,
          0.0,
          0.0,
          0.0,
          0.0,
          0.2254799500263375,
          0.0,
          0.0,
          7.090741136706313,
          0.4747563995044053,
          4.6526135557903165,
          0.8548518673277512,
          0.0,
          0.44465317517399916,
          2.1219391194948445,
          3.0572459703935557,
          0.08562593469935306,
          2.4581298449185955,
          5.157874328266196,
          1.6523004736135556,
          1.2758676449496857,
          2.492949779985116,
          0.17965200455136945,
          5.079139462260959,
          3.0710247150901173,
          5.736326212652567,
          2.473660057840268,
          2.874580770952351,
          2.435341951788072,
          1.5986302961775116,
          4.62017998353137,
          5.798973142162306,
          3.593492076860092,
          2.1787430514081545,
          2.8292473548682424,
          1.8434897855891155,
          4.198219840430042,
          5.501247668724166,
          4.287646454193127,
          2.1128970563878675,
          2.9449770085269034,
          1.3654592363875566,
          1.634453019254985,
          2.106381890626098,
          1.6310666551569466,
          0.478330050116315,
          3.76661336114984,
          2.8302736619109923,
          4.469810203772132,
          7.156092743707839,
          4.823637134048826,
          10.160199334391802,
          0.6196159245674063,
          0.16074045590280775,
          1.9025625165063214,
          0.07884173520442656
         ],
         "type": "scatter"
        }
       ],
       "layout": {
        "template": {
         "data": {
          "histogram2dcontour": [
           {
            "type": "histogram2dcontour",
            "colorbar": {
             "outlinewidth": 0,
             "ticks": ""
            },
            "colorscale": [
             [
              0.0,
              "#0d0887"
             ],
             [
              0.1111111111111111,
              "#46039f"
             ],
             [
              0.2222222222222222,
              "#7201a8"
             ],
             [
              0.3333333333333333,
              "#9c179e"
             ],
             [
              0.4444444444444444,
              "#bd3786"
             ],
             [
              0.5555555555555556,
              "#d8576b"
             ],
             [
              0.6666666666666666,
              "#ed7953"
             ],
             [
              0.7777777777777778,
              "#fb9f3a"
             ],
             [
              0.8888888888888888,
              "#fdca26"
             ],
             [
              1.0,
              "#f0f921"
             ]
            ]
           }
          ],
          "choropleth": [
           {
            "type": "choropleth",
            "colorbar": {
             "outlinewidth": 0,
             "ticks": ""
            }
           }
          ],
          "histogram2d": [
           {
            "type": "histogram2d",
            "colorbar": {
             "outlinewidth": 0,
             "ticks": ""
            },
            "colorscale": [
             [
              0.0,
              "#0d0887"
             ],
             [
              0.1111111111111111,
              "#46039f"
             ],
             [
              0.2222222222222222,
              "#7201a8"
             ],
             [
              0.3333333333333333,
              "#9c179e"
             ],
             [
              0.4444444444444444,
              "#bd3786"
             ],
             [
              0.5555555555555556,
              "#d8576b"
             ],
             [
              0.6666666666666666,
              "#ed7953"
             ],
             [
              0.7777777777777778,
              "#fb9f3a"
             ],
             [
              0.8888888888888888,
              "#fdca26"
             ],
             [
              1.0,
              "#f0f921"
             ]
            ]
           }
          ],
          "heatmap": [
           {
            "type": "heatmap",
            "colorbar": {
             "outlinewidth": 0,
             "ticks": ""
            },
            "colorscale": [
             [
              0.0,
              "#0d0887"
             ],
             [
              0.1111111111111111,
              "#46039f"
             ],
             [
              0.2222222222222222,
              "#7201a8"
             ],
             [
              0.3333333333333333,
              "#9c179e"
             ],
             [
              0.4444444444444444,
              "#bd3786"
             ],
             [
              0.5555555555555556,
              "#d8576b"
             ],
             [
              0.6666666666666666,
              "#ed7953"
             ],
             [
              0.7777777777777778,
              "#fb9f3a"
             ],
             [
              0.8888888888888888,
              "#fdca26"
             ],
             [
              1.0,
              "#f0f921"
             ]
            ]
           }
          ],
          "heatmapgl": [
           {
            "type": "heatmapgl",
            "colorbar": {
             "outlinewidth": 0,
             "ticks": ""
            },
            "colorscale": [
             [
              0.0,
              "#0d0887"
             ],
             [
              0.1111111111111111,
              "#46039f"
             ],
             [
              0.2222222222222222,
              "#7201a8"
             ],
             [
              0.3333333333333333,
              "#9c179e"
             ],
             [
              0.4444444444444444,
              "#bd3786"
             ],
             [
              0.5555555555555556,
              "#d8576b"
             ],
             [
              0.6666666666666666,
              "#ed7953"
             ],
             [
              0.7777777777777778,
              "#fb9f3a"
             ],
             [
              0.8888888888888888,
              "#fdca26"
             ],
             [
              1.0,
              "#f0f921"
             ]
            ]
           }
          ],
          "contourcarpet": [
           {
            "type": "contourcarpet",
            "colorbar": {
             "outlinewidth": 0,
             "ticks": ""
            }
           }
          ],
          "contour": [
           {
            "type": "contour",
            "colorbar": {
             "outlinewidth": 0,
             "ticks": ""
            },
            "colorscale": [
             [
              0.0,
              "#0d0887"
             ],
             [
              0.1111111111111111,
              "#46039f"
             ],
             [
              0.2222222222222222,
              "#7201a8"
             ],
             [
              0.3333333333333333,
              "#9c179e"
             ],
             [
              0.4444444444444444,
              "#bd3786"
             ],
             [
              0.5555555555555556,
              "#d8576b"
             ],
             [
              0.6666666666666666,
              "#ed7953"
             ],
             [
              0.7777777777777778,
              "#fb9f3a"
             ],
             [
              0.8888888888888888,
              "#fdca26"
             ],
             [
              1.0,
              "#f0f921"
             ]
            ]
           }
          ],
          "surface": [
           {
            "type": "surface",
            "colorbar": {
             "outlinewidth": 0,
             "ticks": ""
            },
            "colorscale": [
             [
              0.0,
              "#0d0887"
             ],
             [
              0.1111111111111111,
              "#46039f"
             ],
             [
              0.2222222222222222,
              "#7201a8"
             ],
             [
              0.3333333333333333,
              "#9c179e"
             ],
             [
              0.4444444444444444,
              "#bd3786"
             ],
             [
              0.5555555555555556,
              "#d8576b"
             ],
             [
              0.6666666666666666,
              "#ed7953"
             ],
             [
              0.7777777777777778,
              "#fb9f3a"
             ],
             [
              0.8888888888888888,
              "#fdca26"
             ],
             [
              1.0,
              "#f0f921"
             ]
            ]
           }
          ],
          "mesh3d": [
           {
            "type": "mesh3d",
            "colorbar": {
             "outlinewidth": 0,
             "ticks": ""
            }
           }
          ],
          "scatter": [
           {
            "fillpattern": {
             "fillmode": "overlay",
             "size": 10,
             "solidity": 0.2
            },
            "type": "scatter"
           }
          ],
          "parcoords": [
           {
            "type": "parcoords",
            "line": {
             "colorbar": {
              "outlinewidth": 0,
              "ticks": ""
             }
            }
           }
          ],
          "scatterpolargl": [
           {
            "type": "scatterpolargl",
            "marker": {
             "colorbar": {
              "outlinewidth": 0,
              "ticks": ""
             }
            }
           }
          ],
          "bar": [
           {
            "error_x": {
             "color": "#2a3f5f"
            },
            "error_y": {
             "color": "#2a3f5f"
            },
            "marker": {
             "line": {
              "color": "#E5ECF6",
              "width": 0.5
             },
             "pattern": {
              "fillmode": "overlay",
              "size": 10,
              "solidity": 0.2
             }
            },
            "type": "bar"
           }
          ],
          "scattergeo": [
           {
            "type": "scattergeo",
            "marker": {
             "colorbar": {
              "outlinewidth": 0,
              "ticks": ""
             }
            }
           }
          ],
          "scatterpolar": [
           {
            "type": "scatterpolar",
            "marker": {
             "colorbar": {
              "outlinewidth": 0,
              "ticks": ""
             }
            }
           }
          ],
          "histogram": [
           {
            "marker": {
             "pattern": {
              "fillmode": "overlay",
              "size": 10,
              "solidity": 0.2
             }
            },
            "type": "histogram"
           }
          ],
          "scattergl": [
           {
            "type": "scattergl",
            "marker": {
             "colorbar": {
              "outlinewidth": 0,
              "ticks": ""
             }
            }
           }
          ],
          "scatter3d": [
           {
            "type": "scatter3d",
            "line": {
             "colorbar": {
              "outlinewidth": 0,
              "ticks": ""
             }
            },
            "marker": {
             "colorbar": {
              "outlinewidth": 0,
              "ticks": ""
             }
            }
           }
          ],
          "scattermapbox": [
           {
            "type": "scattermapbox",
            "marker": {
             "colorbar": {
              "outlinewidth": 0,
              "ticks": ""
             }
            }
           }
          ],
          "scatterternary": [
           {
            "type": "scatterternary",
            "marker": {
             "colorbar": {
              "outlinewidth": 0,
              "ticks": ""
             }
            }
           }
          ],
          "scattercarpet": [
           {
            "type": "scattercarpet",
            "marker": {
             "colorbar": {
              "outlinewidth": 0,
              "ticks": ""
             }
            }
           }
          ],
          "carpet": [
           {
            "aaxis": {
             "endlinecolor": "#2a3f5f",
             "gridcolor": "white",
             "linecolor": "white",
             "minorgridcolor": "white",
             "startlinecolor": "#2a3f5f"
            },
            "baxis": {
             "endlinecolor": "#2a3f5f",
             "gridcolor": "white",
             "linecolor": "white",
             "minorgridcolor": "white",
             "startlinecolor": "#2a3f5f"
            },
            "type": "carpet"
           }
          ],
          "table": [
           {
            "cells": {
             "fill": {
              "color": "#EBF0F8"
             },
             "line": {
              "color": "white"
             }
            },
            "header": {
             "fill": {
              "color": "#C8D4E3"
             },
             "line": {
              "color": "white"
             }
            },
            "type": "table"
           }
          ],
          "barpolar": [
           {
            "marker": {
             "line": {
              "color": "#E5ECF6",
              "width": 0.5
             },
             "pattern": {
              "fillmode": "overlay",
              "size": 10,
              "solidity": 0.2
             }
            },
            "type": "barpolar"
           }
          ],
          "pie": [
           {
            "automargin": true,
            "type": "pie"
           }
          ]
         },
         "layout": {
          "autotypenumbers": "strict",
          "colorway": [
           "#636efa",
           "#EF553B",
           "#00cc96",
           "#ab63fa",
           "#FFA15A",
           "#19d3f3",
           "#FF6692",
           "#B6E880",
           "#FF97FF",
           "#FECB52"
          ],
          "font": {
           "color": "#2a3f5f"
          },
          "hovermode": "closest",
          "hoverlabel": {
           "align": "left"
          },
          "paper_bgcolor": "white",
          "plot_bgcolor": "#E5ECF6",
          "polar": {
           "bgcolor": "#E5ECF6",
           "angularaxis": {
            "gridcolor": "white",
            "linecolor": "white",
            "ticks": ""
           },
           "radialaxis": {
            "gridcolor": "white",
            "linecolor": "white",
            "ticks": ""
           }
          },
          "ternary": {
           "bgcolor": "#E5ECF6",
           "aaxis": {
            "gridcolor": "white",
            "linecolor": "white",
            "ticks": ""
           },
           "baxis": {
            "gridcolor": "white",
            "linecolor": "white",
            "ticks": ""
           },
           "caxis": {
            "gridcolor": "white",
            "linecolor": "white",
            "ticks": ""
           }
          },
          "coloraxis": {
           "colorbar": {
            "outlinewidth": 0,
            "ticks": ""
           }
          },
          "colorscale": {
           "sequential": [
            [
             0.0,
             "#0d0887"
            ],
            [
             0.1111111111111111,
             "#46039f"
            ],
            [
             0.2222222222222222,
             "#7201a8"
            ],
            [
             0.3333333333333333,
             "#9c179e"
            ],
            [
             0.4444444444444444,
             "#bd3786"
            ],
            [
             0.5555555555555556,
             "#d8576b"
            ],
            [
             0.6666666666666666,
             "#ed7953"
            ],
            [
             0.7777777777777778,
             "#fb9f3a"
            ],
            [
             0.8888888888888888,
             "#fdca26"
            ],
            [
             1.0,
             "#f0f921"
            ]
           ],
           "sequentialminus": [
            [
             0.0,
             "#0d0887"
            ],
            [
             0.1111111111111111,
             "#46039f"
            ],
            [
             0.2222222222222222,
             "#7201a8"
            ],
            [
             0.3333333333333333,
             "#9c179e"
            ],
            [
             0.4444444444444444,
             "#bd3786"
            ],
            [
             0.5555555555555556,
             "#d8576b"
            ],
            [
             0.6666666666666666,
             "#ed7953"
            ],
            [
             0.7777777777777778,
             "#fb9f3a"
            ],
            [
             0.8888888888888888,
             "#fdca26"
            ],
            [
             1.0,
             "#f0f921"
            ]
           ],
           "diverging": [
            [
             0,
             "#8e0152"
            ],
            [
             0.1,
             "#c51b7d"
            ],
            [
             0.2,
             "#de77ae"
            ],
            [
             0.3,
             "#f1b6da"
            ],
            [
             0.4,
             "#fde0ef"
            ],
            [
             0.5,
             "#f7f7f7"
            ],
            [
             0.6,
             "#e6f5d0"
            ],
            [
             0.7,
             "#b8e186"
            ],
            [
             0.8,
             "#7fbc41"
            ],
            [
             0.9,
             "#4d9221"
            ],
            [
             1,
             "#276419"
            ]
           ]
          },
          "xaxis": {
           "gridcolor": "white",
           "linecolor": "white",
           "ticks": "",
           "title": {
            "standoff": 15
           },
           "zerolinecolor": "white",
           "automargin": true,
           "zerolinewidth": 2
          },
          "yaxis": {
           "gridcolor": "white",
           "linecolor": "white",
           "ticks": "",
           "title": {
            "standoff": 15
           },
           "zerolinecolor": "white",
           "automargin": true,
           "zerolinewidth": 2
          },
          "scene": {
           "xaxis": {
            "backgroundcolor": "#E5ECF6",
            "gridcolor": "white",
            "linecolor": "white",
            "showbackground": true,
            "ticks": "",
            "zerolinecolor": "white",
            "gridwidth": 2
           },
           "yaxis": {
            "backgroundcolor": "#E5ECF6",
            "gridcolor": "white",
            "linecolor": "white",
            "showbackground": true,
            "ticks": "",
            "zerolinecolor": "white",
            "gridwidth": 2
           },
           "zaxis": {
            "backgroundcolor": "#E5ECF6",
            "gridcolor": "white",
            "linecolor": "white",
            "showbackground": true,
            "ticks": "",
            "zerolinecolor": "white",
            "gridwidth": 2
           }
          },
          "shapedefaults": {
           "line": {
            "color": "#2a3f5f"
           }
          },
          "annotationdefaults": {
           "arrowcolor": "#2a3f5f",
           "arrowhead": 0,
           "arrowwidth": 1
          },
          "geo": {
           "bgcolor": "white",
           "landcolor": "#E5ECF6",
           "subunitcolor": "white",
           "showland": true,
           "showlakes": true,
           "lakecolor": "white"
          },
          "title": {
           "x": 0.05
          },
          "mapbox": {
           "style": "light"
          }
         }
        },
        "legend": {
         "x": 0,
         "y": 1
        },
        "title": {
         "text": "Box office revenue percentage"
        },
        "xaxis": {
         "title": {
          "text": "Year"
         }
        },
        "yaxis": {
         "title": {
          "text": "Percentage (%)"
         }
        }
       },
       "config": {
        "plotlyServerURL": "https://plot.ly"
       }
      },
      "text/html": [
       "<div>                            <div id=\"acee2f19-ed49-42a6-b215-ed0f36e0e360\" class=\"plotly-graph-div\" style=\"height:525px; width:100%;\"></div>            <script type=\"text/javascript\">                require([\"plotly\"], function(Plotly) {                    window.PLOTLYENV=window.PLOTLYENV || {};                                    if (document.getElementById(\"acee2f19-ed49-42a6-b215-ed0f36e0e360\")) {                    Plotly.newPlot(                        \"acee2f19-ed49-42a6-b215-ed0f36e0e360\",                        [{\"mode\":\"lines\",\"name\":\"Ratio of the box office taken by sequels\",\"x\":[1888.0,1889.0,1890.0,1891.0,1892.0,1893.0,1894.0,1895.0,1896.0,1897.0,1898.0,1899.0,1900.0,1901.0,1902.0,1903.0,1904.0,1905.0,1906.0,1907.0,1908.0,1909.0,1910.0,1911.0,1912.0,1913.0,1914.0,1915.0,1916.0,1917.0,1918.0,1919.0,1920.0,1921.0,1922.0,1923.0,1924.0,1925.0,1926.0,1927.0,1928.0,1929.0,1930.0,1931.0,1932.0,1933.0,1934.0,1935.0,1936.0,1937.0,1938.0,1939.0,1940.0,1941.0,1942.0,1943.0,1944.0,1945.0,1946.0,1947.0,1948.0,1949.0,1950.0,1951.0,1952.0,1953.0,1954.0,1955.0,1956.0,1957.0,1958.0,1959.0,1960.0,1961.0,1962.0,1963.0,1964.0,1965.0,1966.0,1967.0,1968.0,1969.0,1970.0,1971.0,1972.0,1973.0,1974.0,1975.0,1976.0,1977.0,1978.0,1979.0,1980.0,1981.0,1982.0,1983.0,1984.0,1985.0,1986.0,1987.0,1988.0,1989.0,1990.0,1991.0,1992.0,1993.0,1994.0,1995.0,1996.0,1997.0,1998.0,1999.0,2000.0,2001.0,2002.0,2003.0,2004.0,2005.0,2006.0,2007.0,2008.0,2009.0,2010.0,2011.0,2012.0,2013.0,2014.0,2015.0,2016.0,2017.0,2018.0,2019.0,2020.0,2021.0,2022.0,2023.0],\"y\":[0.0,0.0,0.0,0.0,0.0,0.0,0.0,0.0,0.0,0.0,0.0,0.0,0.0,0.0,0.0,0.0,0.0,0.0,0.0,0.0,0.0,0.0,0.0,0.0,0.0,0.0,0.0,0.0,0.0,0.0,0.0,0.0,0.0,0.0,0.0,0.0,0.0,0.0,0.0,0.0,0.0,0.0,0.0,0.0,0.0,6.712759016291462,0.0,0.0,0.0,0.0,0.0,0.0,0.0,0.0,0.2194052737590786,0.0,0.0,0.0,0.0,0.0,0.0,0.0,0.0,0.7227016920544779,1.3291465217896958,0.0,1.6407204866146878,0.0,0.3152759058270869,0.0,0.3871251248649911,0.0,0.0,0.0,0.0,0.0,0.0,0.0,0.0,0.0,0.0,0.0,0.0,2.232069423261377,0.0,0.0,0.0,0.0,0.0,2.403420327408487,1.4674725017935961,0.343484817198239,0.0,5.701849625124863,2.9891129905179783,5.459873519405016,1.5869818427986742,6.037212032591619,6.4909224738211755,9.840599110570105,3.055386671064961,11.364643965636086,8.707394377468843,0.9441659890571998,11.957582894840002,0.22219032535573754,2.5880354634730565,1.7131904708157373,0.18576793628611168,2.5282464758333694,0.5750250077605796,3.821701874701839,1.1311409586212515,5.299355542319752,7.402021686855109,3.036459442917089,12.657861281412327,6.700480142184919,4.5270110070752665,11.438521576377997,4.563192607763602,3.7542964437865365,9.4037907057879,10.63914450818533,4.967487191676965,16.963884108205804,23.4741610024699,21.584524552820287,17.761770494675368,34.51428674183825,29.08716945397639,33.312003154534665,12.155567684557553,29.641278513425558,39.58214138974478,27.974286307983714],\"type\":\"scatter\"},{\"mode\":\"lines\",\"name\":\"Ratio of the box office taken by book adaptation\",\"x\":[1888.0,1889.0,1890.0,1891.0,1892.0,1893.0,1894.0,1895.0,1896.0,1897.0,1898.0,1899.0,1900.0,1901.0,1902.0,1903.0,1904.0,1905.0,1906.0,1907.0,1908.0,1909.0,1910.0,1911.0,1912.0,1913.0,1914.0,1915.0,1916.0,1917.0,1918.0,1919.0,1920.0,1921.0,1922.0,1923.0,1924.0,1925.0,1926.0,1927.0,1928.0,1929.0,1930.0,1931.0,1932.0,1933.0,1934.0,1935.0,1936.0,1937.0,1938.0,1939.0,1940.0,1941.0,1942.0,1943.0,1944.0,1945.0,1946.0,1947.0,1948.0,1949.0,1950.0,1951.0,1952.0,1953.0,1954.0,1955.0,1956.0,1957.0,1958.0,1959.0,1960.0,1961.0,1962.0,1963.0,1964.0,1965.0,1966.0,1967.0,1968.0,1969.0,1970.0,1971.0,1972.0,1973.0,1974.0,1975.0,1976.0,1977.0,1978.0,1979.0,1980.0,1981.0,1982.0,1983.0,1984.0,1985.0,1986.0,1987.0,1988.0,1989.0,1990.0,1991.0,1992.0,1993.0,1994.0,1995.0,1996.0,1997.0,1998.0,1999.0,2000.0,2001.0,2002.0,2003.0,2004.0,2005.0,2006.0,2007.0,2008.0,2009.0,2010.0,2011.0,2012.0,2013.0,2014.0,2015.0,2016.0,2017.0,2018.0,2019.0,2020.0,2021.0,2022.0,2023.0],\"y\":[0.0,0.0,0.0,0.0,0.0,0.0,0.0,0.0,0.0,0.0,0.0,0.0,0.0,0.0,0.0,0.0,0.0,0.0,0.0,0.0,0.0,0.0,0.0,0.0,0.0,0.0,0.0,0.0,0.0,0.0,0.0,0.0,0.0,0.0,0.0,0.0,0.0,13.19711710605483,0.0,0.0,16.08325449385052,0.0,0.0,50.530185869814616,15.868057724745425,0.0,10.16525228292136,9.447031889196136,0.0,0.0,4.048947030274036,92.36969857331984,43.055098609179325,19.741750268043614,1.511458552562541,0.0,0.09807909663506137,0.0,0.0,0.0,0.0,4.654405351368276,48.03107482613448,11.865363006066032,2.8669690475003735,12.874169641913422,0.0,2.2386259556650674,3.4351937239076342,44.13237210482731,25.335504610623943,57.32780578635796,24.154689060321186,1.886286770628998,34.87409873294489,15.918164861692228,67.45812655432702,19.649674135654312,7.868148999528202,35.338112751790945,52.072522051082935,19.775040395340717,17.91347233177289,12.41044611103737,16.608447158451188,17.465385684104653,22.967573769991606,37.06420733327509,6.808237831633056,9.814871835842462,6.313588671384869,18.40236297878065,4.66456391670333,8.387846306134428,9.059018231864883,5.0525771158227695,7.217716697236633,4.8443430145598905,6.075847599906184,6.927033388219379,15.260367620368488,1.5889695717280323,22.87677895278137,8.678692933356295,5.384011345669831,6.10731920371612,18.25278372551604,10.566514112866484,8.936031228335505,5.1351846649685235,8.013780556150776,13.702462851448097,12.174115881143194,15.930137192550161,14.79550311966249,5.4044739065778025,11.91323024599659,17.65594475326479,14.482621277561373,12.59107180010665,7.934595791636212,9.323158608335138,16.740983414969477,9.964298915347378,15.855830257623287,17.898447148326625,20.10814710714774,16.26586848805039,11.220153922519954,9.507879932749475,11.692364420656846,8.997703613607037,11.68959477808548,9.030099671551136,3.8042571208044134,10.992784884266579],\"type\":\"scatter\"},{\"mode\":\"lines\",\"name\":\"Ratio of the box office taken by comics adaptation\",\"x\":[1888.0,1889.0,1890.0,1891.0,1892.0,1893.0,1894.0,1895.0,1896.0,1897.0,1898.0,1899.0,1900.0,1901.0,1902.0,1903.0,1904.0,1905.0,1906.0,1907.0,1908.0,1909.0,1910.0,1911.0,1912.0,1913.0,1914.0,1915.0,1916.0,1917.0,1918.0,1919.0,1920.0,1921.0,1922.0,1923.0,1924.0,1925.0,1926.0,1927.0,1928.0,1929.0,1930.0,1931.0,1932.0,1933.0,1934.0,1935.0,1936.0,1937.0,1938.0,1939.0,1940.0,1941.0,1942.0,1943.0,1944.0,1945.0,1946.0,1947.0,1948.0,1949.0,1950.0,1951.0,1952.0,1953.0,1954.0,1955.0,1956.0,1957.0,1958.0,1959.0,1960.0,1961.0,1962.0,1963.0,1964.0,1965.0,1966.0,1967.0,1968.0,1969.0,1970.0,1971.0,1972.0,1973.0,1974.0,1975.0,1976.0,1977.0,1978.0,1979.0,1980.0,1981.0,1982.0,1983.0,1984.0,1985.0,1986.0,1987.0,1988.0,1989.0,1990.0,1991.0,1992.0,1993.0,1994.0,1995.0,1996.0,1997.0,1998.0,1999.0,2000.0,2001.0,2002.0,2003.0,2004.0,2005.0,2006.0,2007.0,2008.0,2009.0,2010.0,2011.0,2012.0,2013.0,2014.0,2015.0,2016.0,2017.0,2018.0,2019.0,2020.0,2021.0,2022.0,2023.0],\"y\":[0.0,0.0,0.0,0.0,0.0,0.0,0.0,0.0,0.0,0.0,0.0,0.0,0.0,0.0,0.0,0.0,0.0,0.0,0.0,0.0,0.0,0.0,0.0,0.0,0.0,0.0,0.0,0.0,0.0,0.0,0.0,0.0,0.0,0.0,0.0,0.0,0.0,0.0,0.0,0.0,0.0,0.0,0.0,0.0,0.0,0.0,0.0,0.0,0.0,0.0,0.0,0.0,0.0,0.0,0.0,0.0,0.0,0.0,0.0,0.0,0.0,0.0,0.0,0.0,0.0,0.0,1.0037348859289852,0.0,0.0,0.0,0.0,0.0,0.0,0.0,0.0,0.0,0.0,0.0,0.0,0.0,0.0,0.0,0.0,0.0,2.8260196092798195,0.0,0.0716057186359683,0.0,0.0,0.0,13.104796054357056,0.0,0.0,3.9430424328967844,2.4068117626979597,0.1078790559526942,0.5954125591718121,1.4127666634822666,1.0001723698518836,0.0,0.0,6.782839499367572,5.503113884766196,2.33712347094162,3.7960151246169227,2.0101405393032827,7.6874854244461055,8.067382613033418,0.2850388048653361,7.40770430188268,1.1557928952605176,0.8107488389371827,0.0,0.6826354212628722,8.238861865334291,3.69354276901964,7.2543998789668205,7.060536135511033,1.655218758700996,7.6044816801708315,5.368526490246562,1.3642221474739085,4.2293920133602425,9.818251715404841,14.588048750053623,12.460958727318863,18.022638471955492,8.89598793294623,14.269187401597916,16.834655130860785,22.669358756247952,21.735852311124653,7.2541661536367,11.838304224761597,19.940524816401542,9.874854095361673],\"type\":\"scatter\"},{\"mode\":\"lines\",\"name\":\"Ratio of the box office taken by remakes\",\"x\":[1888.0,1889.0,1890.0,1891.0,1892.0,1893.0,1894.0,1895.0,1896.0,1897.0,1898.0,1899.0,1900.0,1901.0,1902.0,1903.0,1904.0,1905.0,1906.0,1907.0,1908.0,1909.0,1910.0,1911.0,1912.0,1913.0,1914.0,1915.0,1916.0,1917.0,1918.0,1919.0,1920.0,1921.0,1922.0,1923.0,1924.0,1925.0,1926.0,1927.0,1928.0,1929.0,1930.0,1931.0,1932.0,1933.0,1934.0,1935.0,1936.0,1937.0,1938.0,1939.0,1940.0,1941.0,1942.0,1943.0,1944.0,1945.0,1946.0,1947.0,1948.0,1949.0,1950.0,1951.0,1952.0,1953.0,1954.0,1955.0,1956.0,1957.0,1958.0,1959.0,1960.0,1961.0,1962.0,1963.0,1964.0,1965.0,1966.0,1967.0,1968.0,1969.0,1970.0,1971.0,1972.0,1973.0,1974.0,1975.0,1976.0,1977.0,1978.0,1979.0,1980.0,1981.0,1982.0,1983.0,1984.0,1985.0,1986.0,1987.0,1988.0,1989.0,1990.0,1991.0,1992.0,1993.0,1994.0,1995.0,1996.0,1997.0,1998.0,1999.0,2000.0,2001.0,2002.0,2003.0,2004.0,2005.0,2006.0,2007.0,2008.0,2009.0,2010.0,2011.0,2012.0,2013.0,2014.0,2015.0,2016.0,2017.0,2018.0,2019.0,2020.0,2021.0,2022.0,2023.0],\"y\":[0.0,0.0,0.0,0.0,0.0,0.0,0.0,0.0,0.0,0.0,0.0,0.0,0.0,0.0,0.0,0.0,0.0,0.0,0.0,0.0,0.0,0.0,0.0,0.0,0.0,0.0,0.0,0.0,0.0,0.0,0.0,0.0,0.0,0.0,0.0,0.0,0.0,0.0,0.0,0.0,0.0,0.0,0.0,0.0,0.0,0.0,0.0,0.0,0.0,0.0,4.048947030274036,0.0,0.0,0.0,0.0,0.0,0.0,0.0,0.0,0.0,0.0,5.772905862162203,0.0,1.3288385950679107,2.318696107262124,0.0,3.2814409732293757,1.5421645472359353,1.4712875605264055,0.0,1.6977049746683466,51.60995661109842,0.0,0.0,0.5045450019227201,0.0,0.0,0.0,0.7896766429826094,0.0,0.0,0.0,0.0,0.0,0.0,0.2254799500263375,0.0,0.0,7.090741136706313,0.4747563995044053,4.6526135557903165,0.8548518673277512,0.0,0.44465317517399916,2.1219391194948445,3.0572459703935557,0.08562593469935306,2.4581298449185955,5.157874328266196,1.6523004736135556,1.2758676449496857,2.492949779985116,0.17965200455136945,5.079139462260959,3.0710247150901173,5.736326212652567,2.473660057840268,2.874580770952351,2.435341951788072,1.5986302961775116,4.62017998353137,5.798973142162306,3.593492076860092,2.1787430514081545,2.8292473548682424,1.8434897855891155,4.198219840430042,5.501247668724166,4.287646454193127,2.1128970563878675,2.9449770085269034,1.3654592363875566,1.634453019254985,2.106381890626098,1.6310666551569466,0.478330050116315,3.76661336114984,2.8302736619109923,4.469810203772132,7.156092743707839,4.823637134048826,10.160199334391802,0.6196159245674063,0.16074045590280775,1.9025625165063214,0.07884173520442656],\"type\":\"scatter\"}],                        {\"template\":{\"data\":{\"histogram2dcontour\":[{\"type\":\"histogram2dcontour\",\"colorbar\":{\"outlinewidth\":0,\"ticks\":\"\"},\"colorscale\":[[0.0,\"#0d0887\"],[0.1111111111111111,\"#46039f\"],[0.2222222222222222,\"#7201a8\"],[0.3333333333333333,\"#9c179e\"],[0.4444444444444444,\"#bd3786\"],[0.5555555555555556,\"#d8576b\"],[0.6666666666666666,\"#ed7953\"],[0.7777777777777778,\"#fb9f3a\"],[0.8888888888888888,\"#fdca26\"],[1.0,\"#f0f921\"]]}],\"choropleth\":[{\"type\":\"choropleth\",\"colorbar\":{\"outlinewidth\":0,\"ticks\":\"\"}}],\"histogram2d\":[{\"type\":\"histogram2d\",\"colorbar\":{\"outlinewidth\":0,\"ticks\":\"\"},\"colorscale\":[[0.0,\"#0d0887\"],[0.1111111111111111,\"#46039f\"],[0.2222222222222222,\"#7201a8\"],[0.3333333333333333,\"#9c179e\"],[0.4444444444444444,\"#bd3786\"],[0.5555555555555556,\"#d8576b\"],[0.6666666666666666,\"#ed7953\"],[0.7777777777777778,\"#fb9f3a\"],[0.8888888888888888,\"#fdca26\"],[1.0,\"#f0f921\"]]}],\"heatmap\":[{\"type\":\"heatmap\",\"colorbar\":{\"outlinewidth\":0,\"ticks\":\"\"},\"colorscale\":[[0.0,\"#0d0887\"],[0.1111111111111111,\"#46039f\"],[0.2222222222222222,\"#7201a8\"],[0.3333333333333333,\"#9c179e\"],[0.4444444444444444,\"#bd3786\"],[0.5555555555555556,\"#d8576b\"],[0.6666666666666666,\"#ed7953\"],[0.7777777777777778,\"#fb9f3a\"],[0.8888888888888888,\"#fdca26\"],[1.0,\"#f0f921\"]]}],\"heatmapgl\":[{\"type\":\"heatmapgl\",\"colorbar\":{\"outlinewidth\":0,\"ticks\":\"\"},\"colorscale\":[[0.0,\"#0d0887\"],[0.1111111111111111,\"#46039f\"],[0.2222222222222222,\"#7201a8\"],[0.3333333333333333,\"#9c179e\"],[0.4444444444444444,\"#bd3786\"],[0.5555555555555556,\"#d8576b\"],[0.6666666666666666,\"#ed7953\"],[0.7777777777777778,\"#fb9f3a\"],[0.8888888888888888,\"#fdca26\"],[1.0,\"#f0f921\"]]}],\"contourcarpet\":[{\"type\":\"contourcarpet\",\"colorbar\":{\"outlinewidth\":0,\"ticks\":\"\"}}],\"contour\":[{\"type\":\"contour\",\"colorbar\":{\"outlinewidth\":0,\"ticks\":\"\"},\"colorscale\":[[0.0,\"#0d0887\"],[0.1111111111111111,\"#46039f\"],[0.2222222222222222,\"#7201a8\"],[0.3333333333333333,\"#9c179e\"],[0.4444444444444444,\"#bd3786\"],[0.5555555555555556,\"#d8576b\"],[0.6666666666666666,\"#ed7953\"],[0.7777777777777778,\"#fb9f3a\"],[0.8888888888888888,\"#fdca26\"],[1.0,\"#f0f921\"]]}],\"surface\":[{\"type\":\"surface\",\"colorbar\":{\"outlinewidth\":0,\"ticks\":\"\"},\"colorscale\":[[0.0,\"#0d0887\"],[0.1111111111111111,\"#46039f\"],[0.2222222222222222,\"#7201a8\"],[0.3333333333333333,\"#9c179e\"],[0.4444444444444444,\"#bd3786\"],[0.5555555555555556,\"#d8576b\"],[0.6666666666666666,\"#ed7953\"],[0.7777777777777778,\"#fb9f3a\"],[0.8888888888888888,\"#fdca26\"],[1.0,\"#f0f921\"]]}],\"mesh3d\":[{\"type\":\"mesh3d\",\"colorbar\":{\"outlinewidth\":0,\"ticks\":\"\"}}],\"scatter\":[{\"fillpattern\":{\"fillmode\":\"overlay\",\"size\":10,\"solidity\":0.2},\"type\":\"scatter\"}],\"parcoords\":[{\"type\":\"parcoords\",\"line\":{\"colorbar\":{\"outlinewidth\":0,\"ticks\":\"\"}}}],\"scatterpolargl\":[{\"type\":\"scatterpolargl\",\"marker\":{\"colorbar\":{\"outlinewidth\":0,\"ticks\":\"\"}}}],\"bar\":[{\"error_x\":{\"color\":\"#2a3f5f\"},\"error_y\":{\"color\":\"#2a3f5f\"},\"marker\":{\"line\":{\"color\":\"#E5ECF6\",\"width\":0.5},\"pattern\":{\"fillmode\":\"overlay\",\"size\":10,\"solidity\":0.2}},\"type\":\"bar\"}],\"scattergeo\":[{\"type\":\"scattergeo\",\"marker\":{\"colorbar\":{\"outlinewidth\":0,\"ticks\":\"\"}}}],\"scatterpolar\":[{\"type\":\"scatterpolar\",\"marker\":{\"colorbar\":{\"outlinewidth\":0,\"ticks\":\"\"}}}],\"histogram\":[{\"marker\":{\"pattern\":{\"fillmode\":\"overlay\",\"size\":10,\"solidity\":0.2}},\"type\":\"histogram\"}],\"scattergl\":[{\"type\":\"scattergl\",\"marker\":{\"colorbar\":{\"outlinewidth\":0,\"ticks\":\"\"}}}],\"scatter3d\":[{\"type\":\"scatter3d\",\"line\":{\"colorbar\":{\"outlinewidth\":0,\"ticks\":\"\"}},\"marker\":{\"colorbar\":{\"outlinewidth\":0,\"ticks\":\"\"}}}],\"scattermapbox\":[{\"type\":\"scattermapbox\",\"marker\":{\"colorbar\":{\"outlinewidth\":0,\"ticks\":\"\"}}}],\"scatterternary\":[{\"type\":\"scatterternary\",\"marker\":{\"colorbar\":{\"outlinewidth\":0,\"ticks\":\"\"}}}],\"scattercarpet\":[{\"type\":\"scattercarpet\",\"marker\":{\"colorbar\":{\"outlinewidth\":0,\"ticks\":\"\"}}}],\"carpet\":[{\"aaxis\":{\"endlinecolor\":\"#2a3f5f\",\"gridcolor\":\"white\",\"linecolor\":\"white\",\"minorgridcolor\":\"white\",\"startlinecolor\":\"#2a3f5f\"},\"baxis\":{\"endlinecolor\":\"#2a3f5f\",\"gridcolor\":\"white\",\"linecolor\":\"white\",\"minorgridcolor\":\"white\",\"startlinecolor\":\"#2a3f5f\"},\"type\":\"carpet\"}],\"table\":[{\"cells\":{\"fill\":{\"color\":\"#EBF0F8\"},\"line\":{\"color\":\"white\"}},\"header\":{\"fill\":{\"color\":\"#C8D4E3\"},\"line\":{\"color\":\"white\"}},\"type\":\"table\"}],\"barpolar\":[{\"marker\":{\"line\":{\"color\":\"#E5ECF6\",\"width\":0.5},\"pattern\":{\"fillmode\":\"overlay\",\"size\":10,\"solidity\":0.2}},\"type\":\"barpolar\"}],\"pie\":[{\"automargin\":true,\"type\":\"pie\"}]},\"layout\":{\"autotypenumbers\":\"strict\",\"colorway\":[\"#636efa\",\"#EF553B\",\"#00cc96\",\"#ab63fa\",\"#FFA15A\",\"#19d3f3\",\"#FF6692\",\"#B6E880\",\"#FF97FF\",\"#FECB52\"],\"font\":{\"color\":\"#2a3f5f\"},\"hovermode\":\"closest\",\"hoverlabel\":{\"align\":\"left\"},\"paper_bgcolor\":\"white\",\"plot_bgcolor\":\"#E5ECF6\",\"polar\":{\"bgcolor\":\"#E5ECF6\",\"angularaxis\":{\"gridcolor\":\"white\",\"linecolor\":\"white\",\"ticks\":\"\"},\"radialaxis\":{\"gridcolor\":\"white\",\"linecolor\":\"white\",\"ticks\":\"\"}},\"ternary\":{\"bgcolor\":\"#E5ECF6\",\"aaxis\":{\"gridcolor\":\"white\",\"linecolor\":\"white\",\"ticks\":\"\"},\"baxis\":{\"gridcolor\":\"white\",\"linecolor\":\"white\",\"ticks\":\"\"},\"caxis\":{\"gridcolor\":\"white\",\"linecolor\":\"white\",\"ticks\":\"\"}},\"coloraxis\":{\"colorbar\":{\"outlinewidth\":0,\"ticks\":\"\"}},\"colorscale\":{\"sequential\":[[0.0,\"#0d0887\"],[0.1111111111111111,\"#46039f\"],[0.2222222222222222,\"#7201a8\"],[0.3333333333333333,\"#9c179e\"],[0.4444444444444444,\"#bd3786\"],[0.5555555555555556,\"#d8576b\"],[0.6666666666666666,\"#ed7953\"],[0.7777777777777778,\"#fb9f3a\"],[0.8888888888888888,\"#fdca26\"],[1.0,\"#f0f921\"]],\"sequentialminus\":[[0.0,\"#0d0887\"],[0.1111111111111111,\"#46039f\"],[0.2222222222222222,\"#7201a8\"],[0.3333333333333333,\"#9c179e\"],[0.4444444444444444,\"#bd3786\"],[0.5555555555555556,\"#d8576b\"],[0.6666666666666666,\"#ed7953\"],[0.7777777777777778,\"#fb9f3a\"],[0.8888888888888888,\"#fdca26\"],[1.0,\"#f0f921\"]],\"diverging\":[[0,\"#8e0152\"],[0.1,\"#c51b7d\"],[0.2,\"#de77ae\"],[0.3,\"#f1b6da\"],[0.4,\"#fde0ef\"],[0.5,\"#f7f7f7\"],[0.6,\"#e6f5d0\"],[0.7,\"#b8e186\"],[0.8,\"#7fbc41\"],[0.9,\"#4d9221\"],[1,\"#276419\"]]},\"xaxis\":{\"gridcolor\":\"white\",\"linecolor\":\"white\",\"ticks\":\"\",\"title\":{\"standoff\":15},\"zerolinecolor\":\"white\",\"automargin\":true,\"zerolinewidth\":2},\"yaxis\":{\"gridcolor\":\"white\",\"linecolor\":\"white\",\"ticks\":\"\",\"title\":{\"standoff\":15},\"zerolinecolor\":\"white\",\"automargin\":true,\"zerolinewidth\":2},\"scene\":{\"xaxis\":{\"backgroundcolor\":\"#E5ECF6\",\"gridcolor\":\"white\",\"linecolor\":\"white\",\"showbackground\":true,\"ticks\":\"\",\"zerolinecolor\":\"white\",\"gridwidth\":2},\"yaxis\":{\"backgroundcolor\":\"#E5ECF6\",\"gridcolor\":\"white\",\"linecolor\":\"white\",\"showbackground\":true,\"ticks\":\"\",\"zerolinecolor\":\"white\",\"gridwidth\":2},\"zaxis\":{\"backgroundcolor\":\"#E5ECF6\",\"gridcolor\":\"white\",\"linecolor\":\"white\",\"showbackground\":true,\"ticks\":\"\",\"zerolinecolor\":\"white\",\"gridwidth\":2}},\"shapedefaults\":{\"line\":{\"color\":\"#2a3f5f\"}},\"annotationdefaults\":{\"arrowcolor\":\"#2a3f5f\",\"arrowhead\":0,\"arrowwidth\":1},\"geo\":{\"bgcolor\":\"white\",\"landcolor\":\"#E5ECF6\",\"subunitcolor\":\"white\",\"showland\":true,\"showlakes\":true,\"lakecolor\":\"white\"},\"title\":{\"x\":0.05},\"mapbox\":{\"style\":\"light\"}}},\"legend\":{\"x\":0,\"y\":1},\"title\":{\"text\":\"Box office revenue percentage\"},\"xaxis\":{\"title\":{\"text\":\"Year\"}},\"yaxis\":{\"title\":{\"text\":\"Percentage (%)\"}}},                        {\"responsive\": true}                    ).then(function(){\n",
       "                            \n",
       "var gd = document.getElementById('acee2f19-ed49-42a6-b215-ed0f36e0e360');\n",
       "var x = new MutationObserver(function (mutations, observer) {{\n",
       "        var display = window.getComputedStyle(gd).display;\n",
       "        if (!display || display === 'none') {{\n",
       "            console.log([gd, 'removed!']);\n",
       "            Plotly.purge(gd);\n",
       "            observer.disconnect();\n",
       "        }}\n",
       "}});\n",
       "\n",
       "// Listen for the removal of the full notebook cells\n",
       "var notebookContainer = gd.closest('#notebook-container');\n",
       "if (notebookContainer) {{\n",
       "    x.observe(notebookContainer, {childList: true});\n",
       "}}\n",
       "\n",
       "// Listen for the clearing of the current output cell\n",
       "var outputEl = gd.closest('.output');\n",
       "if (outputEl) {{\n",
       "    x.observe(outputEl, {childList: true});\n",
       "}}\n",
       "\n",
       "                        })                };                });            </script>        </div>"
      ]
     },
     "metadata": {},
     "output_type": "display_data"
    }
   ],
   "execution_count": 277
  },
  {
   "cell_type": "markdown",
   "id": "0ce3cf55",
   "metadata": {},
   "source": [
    "Calculation and plot of the average inflation-adjusted box office revenue per year, both for all movies and for movies with sequels"
   ]
  },
  {
   "cell_type": "code",
   "id": "ba6e01bb1a95a81b",
   "metadata": {
    "ExecuteTime": {
     "end_time": "2024-12-15T20:44:40.172200Z",
     "start_time": "2024-12-15T20:44:40.097779Z"
    }
   },
   "source": [
    "from src.models.box_office_revenue import get_average_box_office_revenue\n",
    "\n",
    "fig = get_average_box_office_revenue(movie_frames_concat)\n",
    "fig"
   ],
   "outputs": [
    {
     "data": {
      "application/vnd.plotly.v1+json": {
       "data": [
        {
         "mode": "lines",
         "name": "Average box office revenue of all movies",
         "x": [
          1888.0,
          1889.0,
          1890.0,
          1891.0,
          1892.0,
          1893.0,
          1894.0,
          1895.0,
          1896.0,
          1897.0,
          1898.0,
          1899.0,
          1900.0,
          1901.0,
          1902.0,
          1903.0,
          1904.0,
          1905.0,
          1906.0,
          1907.0,
          1908.0,
          1909.0,
          1910.0,
          1911.0,
          1912.0,
          1913.0,
          1914.0,
          1915.0,
          1916.0,
          1917.0,
          1918.0,
          1919.0,
          1920.0,
          1921.0,
          1922.0,
          1923.0,
          1924.0,
          1925.0,
          1926.0,
          1927.0,
          1928.0,
          1929.0,
          1930.0,
          1931.0,
          1932.0,
          1933.0,
          1934.0,
          1935.0,
          1936.0,
          1937.0,
          1938.0,
          1939.0,
          1940.0,
          1941.0,
          1942.0,
          1943.0,
          1944.0,
          1945.0,
          1946.0,
          1947.0,
          1948.0,
          1949.0,
          1950.0,
          1951.0,
          1952.0,
          1953.0,
          1954.0,
          1955.0,
          1956.0,
          1957.0,
          1958.0,
          1959.0,
          1960.0,
          1961.0,
          1962.0,
          1963.0,
          1964.0,
          1965.0,
          1966.0,
          1967.0,
          1968.0,
          1969.0,
          1970.0,
          1971.0,
          1972.0,
          1973.0,
          1974.0,
          1975.0,
          1976.0,
          1977.0,
          1978.0,
          1979.0,
          1980.0,
          1981.0,
          1982.0,
          1983.0,
          1984.0,
          1985.0,
          1986.0,
          1987.0,
          1988.0,
          1989.0,
          1990.0,
          1991.0,
          1992.0,
          1993.0,
          1994.0,
          1995.0,
          1996.0,
          1997.0,
          1998.0,
          1999.0,
          2000.0,
          2001.0,
          2002.0,
          2003.0,
          2004.0,
          2005.0,
          2006.0,
          2007.0,
          2008.0,
          2009.0,
          2010.0,
          2011.0,
          2012.0,
          2013.0,
          2014.0,
          2015.0,
          2016.0,
          2017.0,
          2018.0,
          2019.0,
          2020.0,
          2021.0,
          2022.0,
          2023.0
         ],
         "y": [
          0.0,
          0.0,
          0.0,
          0.0,
          0.0,
          0.0,
          0.0,
          0.0,
          0.0,
          3077797.97979798,
          0.0,
          0.0,
          0.0,
          0.0,
          0.0,
          0.0,
          0.0,
          0.0,
          0.0,
          0.0,
          0.0,
          0.0,
          0.0,
          0.0,
          0.0,
          0.0,
          2.15708296264E7,
          1.5084257425742574E9,
          0.0,
          0.0,
          0.0,
          0.0,
          6.855795E7,
          4.4825806331471145E7,
          3.17959674705119E8,
          6.832443422748537E7,
          1.4372828977660818E7,
          7.055853975659427E7,
          3.442960451977401E7,
          4.9470295977011494E7,
          4.708625935672514E7,
          3.1147315555555552E7,
          2.81740325350714E7,
          4.327821918099283E7,
          2.373413583454988E7,
          3.812061921122172E7,
          2.319758782330348E7,
          2.796483204529356E7,
          3.983561506127804E7,
          5.422328411585702E8,
          2.82219974721907E7,
          4.1974013949565846E8,
          1.7418613771754855E8,
          4.199835765208163E7,
          3.834009210801799E8,
          4.207372267423617E7,
          4.3587054730211034E7,
          8.48306818830202E7,
          2.278828929834758E8,
          4.060402678736422E7,
          6.1003335221761174E7,
          3.856879118540373E7,
          5.54663946396816E7,
          2.349042129618979E7,
          3.233946160818198E7,
          4.486002375967027E7,
          4.8901941708293684E7,
          4.6641811527890645E7,
          4.306869078208556E7,
          4.3125850469530806E7,
          9.337686851492338E7,
          2.2925946013745704E8,
          1.3158917188925675E8,
          2.737276890541093E8,
          1.5787236379562214E8,
          4.8400462804978985E8,
          3.31005741219658E8,
          5.1340853273763925E8,
          1.3894015902446502E8,
          2.575307592350019E8,
          2.5792525425156862E8,
          1.9830646183645117E8,
          2.4522382308000645E8,
          1.4865619134020284E8,
          2.5794306264414546E8,
          3.148528738069106E8,
          2.3697085510310778E8,
          2.773325140589156E8,
          2.1385473187949035E8,
          3.631157233836473E8,
          2.0588791349027902E8,
          1.736366116162027E8,
          1.0616409436546083E8,
          1.1496347095066886E8,
          1.2195778664784826E8,
          7.73710836057188E7,
          8.448872462268569E7,
          7.793981565366344E7,
          7.816531256735592E7,
          7.319362683810541E7,
          6.885116697884992E7,
          9.376890494085626E7,
          1.0164567840204448E8,
          9.350069116401698E7,
          9.251836874448068E7,
          9.563667776094443E7,
          9.522202230507414E7,
          9.45609330118782E7,
          9.605483795706597E7,
          1.2545957695385583E8,
          1.0249829650347169E8,
          1.253194382759824E8,
          1.1040942381250097E8,
          1.1960815796469627E8,
          1.1303111203753348E8,
          1.2716324737798832E8,
          1.1586344169353166E8,
          9.326851889300863E7,
          7.620104526170355E7,
          8.327574387317063E7,
          8.592334024773814E7,
          9.708013453884053E7,
          1.6993645987904653E7,
          1.5566758712178307E7,
          1.5382781375673646E7,
          1.4467627524273986E7,
          1.365209371108662E7,
          1.3696256436739726E7,
          1.3423604099897936E7,
          1.2555258055569727E7,
          1.1977430209713098E7,
          1.1945705043787811E7,
          3106423.434137736,
          7647699.695984698,
          8944689.977016991,
          1.1742097268102659E7
         ],
         "type": "scatter"
        },
        {
         "mode": "lines",
         "name": "Average box office revenue sequels",
         "x": [
          1910.0,
          1920.0,
          1922.0,
          1929.0,
          1931.0,
          1933.0,
          1935.0,
          1936.0,
          1937.0,
          1938.0,
          1939.0,
          1940.0,
          1942.0,
          1943.0,
          1944.0,
          1945.0,
          1946.0,
          1947.0,
          1951.0,
          1952.0,
          1954.0,
          1955.0,
          1956.0,
          1957.0,
          1958.0,
          1959.0,
          1960.0,
          1962.0,
          1963.0,
          1964.0,
          1965.0,
          1966.0,
          1967.0,
          1968.0,
          1969.0,
          1970.0,
          1971.0,
          1972.0,
          1973.0,
          1974.0,
          1975.0,
          1976.0,
          1977.0,
          1978.0,
          1979.0,
          1980.0,
          1981.0,
          1982.0,
          1983.0,
          1984.0,
          1985.0,
          1986.0,
          1987.0,
          1988.0,
          1989.0,
          1990.0,
          1991.0,
          1992.0,
          1993.0,
          1994.0,
          1995.0,
          1996.0,
          1997.0,
          1998.0,
          1999.0,
          2000.0,
          2001.0,
          2002.0,
          2003.0,
          2004.0,
          2005.0,
          2006.0,
          2007.0,
          2008.0,
          2009.0,
          2010.0,
          2011.0,
          2012.0,
          2013.0,
          2014.0,
          2015.0,
          2016.0,
          2017.0,
          2018.0,
          2019.0,
          2020.0,
          2021.0,
          2022.0,
          2023.0
         ],
         "y": [
          0.0,
          0.0,
          0.0,
          0.0,
          0.0,
          4.350207015384615E7,
          0.0,
          0.0,
          0.0,
          0.0,
          0.0,
          0.0,
          1.2618027607361963E7,
          0.0,
          0.0,
          0.0,
          0.0,
          0.0,
          1.8164926923076924E7,
          2.2996377358490568E7,
          4.814065055762082E7,
          0.0,
          1.3442735294117648E7,
          0.0,
          5060794.46366782,
          0.0,
          0.0,
          0.0,
          0.0,
          0.0,
          0.0,
          0.0,
          0.0,
          0.0,
          0.0,
          0.0,
          9.290706299530864E7,
          0.0,
          0.0,
          0.0,
          0.0,
          0.0,
          1.5272594938683167E8,
          7.855506138964725E7,
          3.399567768595041E7,
          0.0,
          1.7480117966483316E8,
          1.0207276922189291E8,
          1.0877735511573294E8,
          5.2292008039993584E7,
          1.1104724952021563E8,
          9.784896120322213E7,
          1.860695276169689E8,
          5.4394879650392465E7,
          1.6943838493236452E8,
          1.921864132985988E8,
          4.237448282419481E7,
          6.084628349566262E8,
          1.2395567652793542E7,
          2.242585532725304E8,
          1.0800059289826334E8,
          3.479562258428298E7,
          1.4828760281453893E8,
          6.100195167333742E7,
          4.5977619090806717E8,
          1.2551306459955284E8,
          6.750461548799661E8,
          4.31715911177045E8,
          2.947428797135761E8,
          9.496127337220645E8,
          4.468348589945263E8,
          4.036066756609359E8,
          7.144135448116425E8,
          2.3982517272731766E8,
          4.4100580067239994E8,
          1.873266090660284E8,
          1.2183200228740904E8,
          8.896746015237291E7,
          2.136799663800106E8,
          1.9139645709492669E8,
          1.996827247472863E8,
          1.3789026734353057E8,
          2.1373649924653134E8,
          1.7540885583459002E8,
          2.312999303841714E8,
          3.1391429578176357E7,
          1.584294425655882E8,
          1.4945552576166028E8,
          8.432192442352942E7
         ],
         "type": "scatter"
        },
        {
         "mode": "lines",
         "name": "Average box office revenue book adaptation",
         "x": [
          1905.0,
          1909.0,
          1910.0,
          1913.0,
          1915.0,
          1917.0,
          1918.0,
          1919.0,
          1920.0,
          1921.0,
          1922.0,
          1923.0,
          1924.0,
          1925.0,
          1926.0,
          1927.0,
          1928.0,
          1929.0,
          1930.0,
          1931.0,
          1932.0,
          1933.0,
          1934.0,
          1935.0,
          1936.0,
          1937.0,
          1938.0,
          1939.0,
          1940.0,
          1941.0,
          1942.0,
          1943.0,
          1944.0,
          1945.0,
          1946.0,
          1947.0,
          1948.0,
          1949.0,
          1950.0,
          1951.0,
          1952.0,
          1953.0,
          1954.0,
          1955.0,
          1956.0,
          1957.0,
          1958.0,
          1959.0,
          1960.0,
          1961.0,
          1962.0,
          1963.0,
          1964.0,
          1965.0,
          1966.0,
          1967.0,
          1968.0,
          1969.0,
          1970.0,
          1971.0,
          1972.0,
          1973.0,
          1974.0,
          1975.0,
          1976.0,
          1977.0,
          1978.0,
          1979.0,
          1980.0,
          1981.0,
          1982.0,
          1983.0,
          1984.0,
          1985.0,
          1986.0,
          1987.0,
          1988.0,
          1989.0,
          1990.0,
          1991.0,
          1992.0,
          1993.0,
          1994.0,
          1995.0,
          1996.0,
          1997.0,
          1998.0,
          1999.0,
          2000.0,
          2001.0,
          2002.0,
          2003.0,
          2004.0,
          2005.0,
          2006.0,
          2007.0,
          2008.0,
          2009.0,
          2010.0,
          2011.0,
          2012.0,
          2013.0,
          2014.0,
          2015.0,
          2016.0,
          2017.0,
          2018.0,
          2019.0,
          2020.0,
          2021.0,
          2022.0,
          2023.0
         ],
         "y": [
          0.0,
          0.0,
          0.0,
          0.0,
          0.0,
          0.0,
          0.0,
          0.0,
          0.0,
          0.0,
          0.0,
          0.0,
          0.0,
          2.32792328E7,
          0.0,
          0.0,
          3.029201169590643E7,
          0.0,
          0.0,
          2.405542105263158E8,
          5.649219562043796E7,
          0.0,
          1.7685699943432834E7,
          3.038123591240876E7,
          0.0,
          0.0,
          2.056848711361702E7,
          2.2293480344493885E9,
          6.249667779817619E8,
          1.2436816326530613E8,
          8.692419018404907E7,
          0.0,
          299248.5267045454,
          0.0,
          0.0,
          0.0,
          0.0,
          4.12884012605042E7,
          2.6108283402489623E8,
          4.260470602197802E7,
          4.960318596226415E7,
          1.5449076123595506E8,
          0.0,
          5.116264925373134E7,
          4.882326776960784E7,
          1.4464670209964412E8,
          6.624100231799308E7,
          4.271456086769759E8,
          1.483297914322072E8,
          7.744933779264215E7,
          1.7434578607004413E8,
          2.696562912091503E8,
          1.1164513590702257E9,
          5.548570701717461E8,
          1.0932018732226337E8,
          4.8536805370137733E8,
          7.610797144076055E8,
          1.9607591467364573E8,
          3.514248135868213E8,
          1.0331382049518025E8,
          3.5700281048452955E8,
          3.189435587376126E8,
          8.980365233265722E8,
          5.996147384113879E8,
          1.553038801126069E8,
          4.1579233343546754E8,
          8.449295388217407E7,
          2.6019066477416372E8,
          1.2545299830274272E8,
          6.428639501026403E7,
          1.0311632919100288E8,
          3.3554255620520417E7,
          6.486221307015836E7,
          5.5691162223891735E7,
          1.2822854222473724E8,
          6.5489398351188384E7,
          1.0565313087396732E8,
          3.384336277045622E7,
          2.3563300591931957E8,
          1.4606348178043503E8,
          9.132199028391066E7,
          9.292240978825417E7,
          3.514757668726916E8,
          8.68851681039855E7,
          1.2875235474255723E8,
          6.340855993998229E7,
          1.1335304206701759E8,
          1.569997666323192E8,
          1.8011437406172746E8,
          4.0584473989960027E8,
          1.6594879233027837E8,
          9.836272098973641E7,
          1.8815775537845197E8,
          3.139791544020167E8,
          1.614001661238864E8,
          1.787268528944971E8,
          1.1914689496829608E8,
          1.428473641759814E8,
          8.959322825485373E7,
          4.681195694656432E7,
          8.16920621350645E7,
          8.033342893869053E7,
          7.862988698135829E7,
          7.61042110078695E7,
          3.986189371216616E7,
          2.705270365111898E7,
          3.421822082121606E7,
          2.4638037904634602E7,
          8308642.284277228,
          1.2870642824465793E7,
          5689730.122501363,
          1.7069633836363636E7
         ],
         "type": "scatter"
        },
        {
         "mode": "lines",
         "name": "Average box office revenue comics adaptation",
         "x": [
          1936.0,
          1941.0,
          1944.0,
          1954.0,
          1961.0,
          1966.0,
          1967.0,
          1968.0,
          1969.0,
          1972.0,
          1974.0,
          1975.0,
          1976.0,
          1978.0,
          1979.0,
          1980.0,
          1981.0,
          1982.0,
          1983.0,
          1984.0,
          1985.0,
          1986.0,
          1988.0,
          1989.0,
          1990.0,
          1991.0,
          1992.0,
          1993.0,
          1994.0,
          1995.0,
          1996.0,
          1997.0,
          1998.0,
          1999.0,
          2000.0,
          2001.0,
          2002.0,
          2003.0,
          2004.0,
          2005.0,
          2006.0,
          2007.0,
          2008.0,
          2009.0,
          2010.0,
          2011.0,
          2012.0,
          2013.0,
          2014.0,
          2015.0,
          2016.0,
          2017.0,
          2018.0,
          2019.0,
          2020.0,
          2021.0,
          2022.0,
          2023.0
         ],
         "y": [
          0.0,
          0.0,
          0.0,
          2.945075092936803E7,
          0.0,
          0.0,
          0.0,
          0.0,
          0.0,
          1.8223803827751198E8,
          5599594.563894523,
          0.0,
          0.0,
          1.4030219405005522E9,
          0.0,
          0.0,
          3.626446753532673E8,
          1.2328236289179274E8,
          8597121.041144578,
          2.9428803933022134E7,
          6.496535625493494E7,
          1.0554136097945255E8,
          0.0,
          5.05635448635E8,
          4.251194855469855E8,
          1.5733631510545522E8,
          5.794818596472416E8,
          1.682127676351142E8,
          3.3306814839322543E8,
          3.051436907408976E8,
          1.7796581538330145E7,
          5.793057091993893E8,
          2.4522628195128834E8,
          9.753848551537216E7,
          0.0,
          4.3477967521561265E7,
          8.008730379636316E8,
          2.151147649198152E8,
          3.628243533102382E8,
          3.13897273189348E8,
          2.213570962098909E8,
          3.957930429288277E8,
          2.4184342038273636E8,
          9.615061934240153E7,
          7.582579410316661E7,
          1.7989074434009534E8,
          3.22746852644279E8,
          1.569603532382191E8,
          2.2279136303156802E8,
          2.1300801615744913E8,
          2.6008333477703497E8,
          2.215353049677436E8,
          2.9105263263275534E8,
          3.130225971485235E8,
          3.746738151103727E7,
          1.42367538613525E8,
          2.1870555575663954E8,
          1.100026813478261E8
         ],
         "type": "scatter"
        },
        {
         "mode": "lines",
         "name": "Average box office revenue remakes",
         "x": [
          1896.0,
          1897.0,
          1923.0,
          1924.0,
          1925.0,
          1928.0,
          1929.0,
          1930.0,
          1932.0,
          1935.0,
          1936.0,
          1937.0,
          1938.0,
          1939.0,
          1940.0,
          1941.0,
          1943.0,
          1945.0,
          1946.0,
          1947.0,
          1948.0,
          1949.0,
          1950.0,
          1951.0,
          1952.0,
          1953.0,
          1954.0,
          1955.0,
          1956.0,
          1957.0,
          1958.0,
          1959.0,
          1960.0,
          1961.0,
          1962.0,
          1964.0,
          1966.0,
          1967.0,
          1968.0,
          1971.0,
          1972.0,
          1973.0,
          1974.0,
          1976.0,
          1977.0,
          1978.0,
          1979.0,
          1980.0,
          1981.0,
          1982.0,
          1983.0,
          1984.0,
          1985.0,
          1986.0,
          1987.0,
          1988.0,
          1989.0,
          1990.0,
          1991.0,
          1992.0,
          1993.0,
          1994.0,
          1995.0,
          1996.0,
          1997.0,
          1998.0,
          1999.0,
          2000.0,
          2001.0,
          2002.0,
          2003.0,
          2004.0,
          2005.0,
          2006.0,
          2007.0,
          2008.0,
          2009.0,
          2010.0,
          2011.0,
          2012.0,
          2013.0,
          2014.0,
          2015.0,
          2016.0,
          2017.0,
          2018.0,
          2019.0,
          2020.0,
          2021.0,
          2022.0,
          2023.0
         ],
         "y": [
          0.0,
          0.0,
          0.0,
          0.0,
          0.0,
          0.0,
          0.0,
          0.0,
          0.0,
          0.0,
          0.0,
          0.0,
          2.056848711361702E7,
          0.0,
          0.0,
          0.0,
          0.0,
          0.0,
          0.0,
          0.0,
          0.0,
          5.1210420168067224E7,
          0.0,
          1.670001346153846E7,
          4.011718030188679E7,
          0.0,
          4.814065055762082E7,
          3.524538059701492E7,
          3.1366382352941178E7,
          0.0,
          2.2193692387543254E7,
          1.5381692027491407E9,
          0.0,
          0.0,
          1.5134205298013246E7,
          0.0,
          3.291533950617284E7,
          0.0,
          0.0,
          0.0,
          0.0,
          2.0587972972972974E7,
          0.0,
          4.852443342775044E8,
          6.0337029702970296E7,
          2.490583932923466E8,
          8.460714155564739E7,
          0.0,
          4.089509790979098E7,
          7.246035955622107E7,
          8.121290219530791E7,
          8464278.440327238,
          1.1303585030977696E8,
          1.36068814930073E8,
          9.372684482482395E7,
          5.299980234675684E7,
          7.433605235947742E7,
          1.3878245907972459E7,
          1.7096509808633995E8,
          4.688082250733E8,
          2.4001389191986158E8,
          1.428984606763878E8,
          1.3591151985962924E8,
          2.2807821713532186E8,
          1.2501790294725649E8,
          2.4506759903810123E8,
          2.3255169816105244E8,
          1.993695833146574E8,
          1.3876707342801806E8,
          2.0626646871375486E8,
          1.7894376603466305E8,
          1.5747853965232265E8,
          2.4457443587983105E8,
          1.0425438424934164E8,
          8.247800348349948E7,
          1.0318501108870032E8,
          8.019817465736291E7,
          3.0845219339684833E7,
          4.0624512618538216E7,
          2.921232648403704E7,
          9830469.681908771,
          5.551615351293651E7,
          4.4310409719607264E7,
          5.5112648861279294E7,
          9.41704582619337E7,
          4.363308736435391E7,
          8.588299415979527E7,
          2182011.288196968,
          1104609.1268295383,
          1.0433551683454515E7,
          673341.4333333333
         ],
         "type": "scatter"
        }
       ],
       "layout": {
        "template": {
         "data": {
          "histogram2dcontour": [
           {
            "type": "histogram2dcontour",
            "colorbar": {
             "outlinewidth": 0,
             "ticks": ""
            },
            "colorscale": [
             [
              0.0,
              "#0d0887"
             ],
             [
              0.1111111111111111,
              "#46039f"
             ],
             [
              0.2222222222222222,
              "#7201a8"
             ],
             [
              0.3333333333333333,
              "#9c179e"
             ],
             [
              0.4444444444444444,
              "#bd3786"
             ],
             [
              0.5555555555555556,
              "#d8576b"
             ],
             [
              0.6666666666666666,
              "#ed7953"
             ],
             [
              0.7777777777777778,
              "#fb9f3a"
             ],
             [
              0.8888888888888888,
              "#fdca26"
             ],
             [
              1.0,
              "#f0f921"
             ]
            ]
           }
          ],
          "choropleth": [
           {
            "type": "choropleth",
            "colorbar": {
             "outlinewidth": 0,
             "ticks": ""
            }
           }
          ],
          "histogram2d": [
           {
            "type": "histogram2d",
            "colorbar": {
             "outlinewidth": 0,
             "ticks": ""
            },
            "colorscale": [
             [
              0.0,
              "#0d0887"
             ],
             [
              0.1111111111111111,
              "#46039f"
             ],
             [
              0.2222222222222222,
              "#7201a8"
             ],
             [
              0.3333333333333333,
              "#9c179e"
             ],
             [
              0.4444444444444444,
              "#bd3786"
             ],
             [
              0.5555555555555556,
              "#d8576b"
             ],
             [
              0.6666666666666666,
              "#ed7953"
             ],
             [
              0.7777777777777778,
              "#fb9f3a"
             ],
             [
              0.8888888888888888,
              "#fdca26"
             ],
             [
              1.0,
              "#f0f921"
             ]
            ]
           }
          ],
          "heatmap": [
           {
            "type": "heatmap",
            "colorbar": {
             "outlinewidth": 0,
             "ticks": ""
            },
            "colorscale": [
             [
              0.0,
              "#0d0887"
             ],
             [
              0.1111111111111111,
              "#46039f"
             ],
             [
              0.2222222222222222,
              "#7201a8"
             ],
             [
              0.3333333333333333,
              "#9c179e"
             ],
             [
              0.4444444444444444,
              "#bd3786"
             ],
             [
              0.5555555555555556,
              "#d8576b"
             ],
             [
              0.6666666666666666,
              "#ed7953"
             ],
             [
              0.7777777777777778,
              "#fb9f3a"
             ],
             [
              0.8888888888888888,
              "#fdca26"
             ],
             [
              1.0,
              "#f0f921"
             ]
            ]
           }
          ],
          "heatmapgl": [
           {
            "type": "heatmapgl",
            "colorbar": {
             "outlinewidth": 0,
             "ticks": ""
            },
            "colorscale": [
             [
              0.0,
              "#0d0887"
             ],
             [
              0.1111111111111111,
              "#46039f"
             ],
             [
              0.2222222222222222,
              "#7201a8"
             ],
             [
              0.3333333333333333,
              "#9c179e"
             ],
             [
              0.4444444444444444,
              "#bd3786"
             ],
             [
              0.5555555555555556,
              "#d8576b"
             ],
             [
              0.6666666666666666,
              "#ed7953"
             ],
             [
              0.7777777777777778,
              "#fb9f3a"
             ],
             [
              0.8888888888888888,
              "#fdca26"
             ],
             [
              1.0,
              "#f0f921"
             ]
            ]
           }
          ],
          "contourcarpet": [
           {
            "type": "contourcarpet",
            "colorbar": {
             "outlinewidth": 0,
             "ticks": ""
            }
           }
          ],
          "contour": [
           {
            "type": "contour",
            "colorbar": {
             "outlinewidth": 0,
             "ticks": ""
            },
            "colorscale": [
             [
              0.0,
              "#0d0887"
             ],
             [
              0.1111111111111111,
              "#46039f"
             ],
             [
              0.2222222222222222,
              "#7201a8"
             ],
             [
              0.3333333333333333,
              "#9c179e"
             ],
             [
              0.4444444444444444,
              "#bd3786"
             ],
             [
              0.5555555555555556,
              "#d8576b"
             ],
             [
              0.6666666666666666,
              "#ed7953"
             ],
             [
              0.7777777777777778,
              "#fb9f3a"
             ],
             [
              0.8888888888888888,
              "#fdca26"
             ],
             [
              1.0,
              "#f0f921"
             ]
            ]
           }
          ],
          "surface": [
           {
            "type": "surface",
            "colorbar": {
             "outlinewidth": 0,
             "ticks": ""
            },
            "colorscale": [
             [
              0.0,
              "#0d0887"
             ],
             [
              0.1111111111111111,
              "#46039f"
             ],
             [
              0.2222222222222222,
              "#7201a8"
             ],
             [
              0.3333333333333333,
              "#9c179e"
             ],
             [
              0.4444444444444444,
              "#bd3786"
             ],
             [
              0.5555555555555556,
              "#d8576b"
             ],
             [
              0.6666666666666666,
              "#ed7953"
             ],
             [
              0.7777777777777778,
              "#fb9f3a"
             ],
             [
              0.8888888888888888,
              "#fdca26"
             ],
             [
              1.0,
              "#f0f921"
             ]
            ]
           }
          ],
          "mesh3d": [
           {
            "type": "mesh3d",
            "colorbar": {
             "outlinewidth": 0,
             "ticks": ""
            }
           }
          ],
          "scatter": [
           {
            "fillpattern": {
             "fillmode": "overlay",
             "size": 10,
             "solidity": 0.2
            },
            "type": "scatter"
           }
          ],
          "parcoords": [
           {
            "type": "parcoords",
            "line": {
             "colorbar": {
              "outlinewidth": 0,
              "ticks": ""
             }
            }
           }
          ],
          "scatterpolargl": [
           {
            "type": "scatterpolargl",
            "marker": {
             "colorbar": {
              "outlinewidth": 0,
              "ticks": ""
             }
            }
           }
          ],
          "bar": [
           {
            "error_x": {
             "color": "#2a3f5f"
            },
            "error_y": {
             "color": "#2a3f5f"
            },
            "marker": {
             "line": {
              "color": "#E5ECF6",
              "width": 0.5
             },
             "pattern": {
              "fillmode": "overlay",
              "size": 10,
              "solidity": 0.2
             }
            },
            "type": "bar"
           }
          ],
          "scattergeo": [
           {
            "type": "scattergeo",
            "marker": {
             "colorbar": {
              "outlinewidth": 0,
              "ticks": ""
             }
            }
           }
          ],
          "scatterpolar": [
           {
            "type": "scatterpolar",
            "marker": {
             "colorbar": {
              "outlinewidth": 0,
              "ticks": ""
             }
            }
           }
          ],
          "histogram": [
           {
            "marker": {
             "pattern": {
              "fillmode": "overlay",
              "size": 10,
              "solidity": 0.2
             }
            },
            "type": "histogram"
           }
          ],
          "scattergl": [
           {
            "type": "scattergl",
            "marker": {
             "colorbar": {
              "outlinewidth": 0,
              "ticks": ""
             }
            }
           }
          ],
          "scatter3d": [
           {
            "type": "scatter3d",
            "line": {
             "colorbar": {
              "outlinewidth": 0,
              "ticks": ""
             }
            },
            "marker": {
             "colorbar": {
              "outlinewidth": 0,
              "ticks": ""
             }
            }
           }
          ],
          "scattermapbox": [
           {
            "type": "scattermapbox",
            "marker": {
             "colorbar": {
              "outlinewidth": 0,
              "ticks": ""
             }
            }
           }
          ],
          "scatterternary": [
           {
            "type": "scatterternary",
            "marker": {
             "colorbar": {
              "outlinewidth": 0,
              "ticks": ""
             }
            }
           }
          ],
          "scattercarpet": [
           {
            "type": "scattercarpet",
            "marker": {
             "colorbar": {
              "outlinewidth": 0,
              "ticks": ""
             }
            }
           }
          ],
          "carpet": [
           {
            "aaxis": {
             "endlinecolor": "#2a3f5f",
             "gridcolor": "white",
             "linecolor": "white",
             "minorgridcolor": "white",
             "startlinecolor": "#2a3f5f"
            },
            "baxis": {
             "endlinecolor": "#2a3f5f",
             "gridcolor": "white",
             "linecolor": "white",
             "minorgridcolor": "white",
             "startlinecolor": "#2a3f5f"
            },
            "type": "carpet"
           }
          ],
          "table": [
           {
            "cells": {
             "fill": {
              "color": "#EBF0F8"
             },
             "line": {
              "color": "white"
             }
            },
            "header": {
             "fill": {
              "color": "#C8D4E3"
             },
             "line": {
              "color": "white"
             }
            },
            "type": "table"
           }
          ],
          "barpolar": [
           {
            "marker": {
             "line": {
              "color": "#E5ECF6",
              "width": 0.5
             },
             "pattern": {
              "fillmode": "overlay",
              "size": 10,
              "solidity": 0.2
             }
            },
            "type": "barpolar"
           }
          ],
          "pie": [
           {
            "automargin": true,
            "type": "pie"
           }
          ]
         },
         "layout": {
          "autotypenumbers": "strict",
          "colorway": [
           "#636efa",
           "#EF553B",
           "#00cc96",
           "#ab63fa",
           "#FFA15A",
           "#19d3f3",
           "#FF6692",
           "#B6E880",
           "#FF97FF",
           "#FECB52"
          ],
          "font": {
           "color": "#2a3f5f"
          },
          "hovermode": "closest",
          "hoverlabel": {
           "align": "left"
          },
          "paper_bgcolor": "white",
          "plot_bgcolor": "#E5ECF6",
          "polar": {
           "bgcolor": "#E5ECF6",
           "angularaxis": {
            "gridcolor": "white",
            "linecolor": "white",
            "ticks": ""
           },
           "radialaxis": {
            "gridcolor": "white",
            "linecolor": "white",
            "ticks": ""
           }
          },
          "ternary": {
           "bgcolor": "#E5ECF6",
           "aaxis": {
            "gridcolor": "white",
            "linecolor": "white",
            "ticks": ""
           },
           "baxis": {
            "gridcolor": "white",
            "linecolor": "white",
            "ticks": ""
           },
           "caxis": {
            "gridcolor": "white",
            "linecolor": "white",
            "ticks": ""
           }
          },
          "coloraxis": {
           "colorbar": {
            "outlinewidth": 0,
            "ticks": ""
           }
          },
          "colorscale": {
           "sequential": [
            [
             0.0,
             "#0d0887"
            ],
            [
             0.1111111111111111,
             "#46039f"
            ],
            [
             0.2222222222222222,
             "#7201a8"
            ],
            [
             0.3333333333333333,
             "#9c179e"
            ],
            [
             0.4444444444444444,
             "#bd3786"
            ],
            [
             0.5555555555555556,
             "#d8576b"
            ],
            [
             0.6666666666666666,
             "#ed7953"
            ],
            [
             0.7777777777777778,
             "#fb9f3a"
            ],
            [
             0.8888888888888888,
             "#fdca26"
            ],
            [
             1.0,
             "#f0f921"
            ]
           ],
           "sequentialminus": [
            [
             0.0,
             "#0d0887"
            ],
            [
             0.1111111111111111,
             "#46039f"
            ],
            [
             0.2222222222222222,
             "#7201a8"
            ],
            [
             0.3333333333333333,
             "#9c179e"
            ],
            [
             0.4444444444444444,
             "#bd3786"
            ],
            [
             0.5555555555555556,
             "#d8576b"
            ],
            [
             0.6666666666666666,
             "#ed7953"
            ],
            [
             0.7777777777777778,
             "#fb9f3a"
            ],
            [
             0.8888888888888888,
             "#fdca26"
            ],
            [
             1.0,
             "#f0f921"
            ]
           ],
           "diverging": [
            [
             0,
             "#8e0152"
            ],
            [
             0.1,
             "#c51b7d"
            ],
            [
             0.2,
             "#de77ae"
            ],
            [
             0.3,
             "#f1b6da"
            ],
            [
             0.4,
             "#fde0ef"
            ],
            [
             0.5,
             "#f7f7f7"
            ],
            [
             0.6,
             "#e6f5d0"
            ],
            [
             0.7,
             "#b8e186"
            ],
            [
             0.8,
             "#7fbc41"
            ],
            [
             0.9,
             "#4d9221"
            ],
            [
             1,
             "#276419"
            ]
           ]
          },
          "xaxis": {
           "gridcolor": "white",
           "linecolor": "white",
           "ticks": "",
           "title": {
            "standoff": 15
           },
           "zerolinecolor": "white",
           "automargin": true,
           "zerolinewidth": 2
          },
          "yaxis": {
           "gridcolor": "white",
           "linecolor": "white",
           "ticks": "",
           "title": {
            "standoff": 15
           },
           "zerolinecolor": "white",
           "automargin": true,
           "zerolinewidth": 2
          },
          "scene": {
           "xaxis": {
            "backgroundcolor": "#E5ECF6",
            "gridcolor": "white",
            "linecolor": "white",
            "showbackground": true,
            "ticks": "",
            "zerolinecolor": "white",
            "gridwidth": 2
           },
           "yaxis": {
            "backgroundcolor": "#E5ECF6",
            "gridcolor": "white",
            "linecolor": "white",
            "showbackground": true,
            "ticks": "",
            "zerolinecolor": "white",
            "gridwidth": 2
           },
           "zaxis": {
            "backgroundcolor": "#E5ECF6",
            "gridcolor": "white",
            "linecolor": "white",
            "showbackground": true,
            "ticks": "",
            "zerolinecolor": "white",
            "gridwidth": 2
           }
          },
          "shapedefaults": {
           "line": {
            "color": "#2a3f5f"
           }
          },
          "annotationdefaults": {
           "arrowcolor": "#2a3f5f",
           "arrowhead": 0,
           "arrowwidth": 1
          },
          "geo": {
           "bgcolor": "white",
           "landcolor": "#E5ECF6",
           "subunitcolor": "white",
           "showland": true,
           "showlakes": true,
           "lakecolor": "white"
          },
          "title": {
           "x": 0.05
          },
          "mapbox": {
           "style": "light"
          }
         }
        },
        "yaxis": {
         "title": {
          "text": "Revenue"
         },
         "tickformat": "$.2s"
        },
        "legend": {
         "x": 0,
         "y": 1.1
        },
        "title": {
         "text": "Average Box Office Revenue per Year"
        },
        "xaxis": {
         "title": {
          "text": "Year"
         }
        }
       },
       "config": {
        "plotlyServerURL": "https://plot.ly"
       }
      },
      "text/html": [
       "<div>                            <div id=\"2c2d1eb5-0978-43e0-b39d-cbc0a0929fda\" class=\"plotly-graph-div\" style=\"height:525px; width:100%;\"></div>            <script type=\"text/javascript\">                require([\"plotly\"], function(Plotly) {                    window.PLOTLYENV=window.PLOTLYENV || {};                                    if (document.getElementById(\"2c2d1eb5-0978-43e0-b39d-cbc0a0929fda\")) {                    Plotly.newPlot(                        \"2c2d1eb5-0978-43e0-b39d-cbc0a0929fda\",                        [{\"mode\":\"lines\",\"name\":\"Average box office revenue of all movies\",\"x\":[1888.0,1889.0,1890.0,1891.0,1892.0,1893.0,1894.0,1895.0,1896.0,1897.0,1898.0,1899.0,1900.0,1901.0,1902.0,1903.0,1904.0,1905.0,1906.0,1907.0,1908.0,1909.0,1910.0,1911.0,1912.0,1913.0,1914.0,1915.0,1916.0,1917.0,1918.0,1919.0,1920.0,1921.0,1922.0,1923.0,1924.0,1925.0,1926.0,1927.0,1928.0,1929.0,1930.0,1931.0,1932.0,1933.0,1934.0,1935.0,1936.0,1937.0,1938.0,1939.0,1940.0,1941.0,1942.0,1943.0,1944.0,1945.0,1946.0,1947.0,1948.0,1949.0,1950.0,1951.0,1952.0,1953.0,1954.0,1955.0,1956.0,1957.0,1958.0,1959.0,1960.0,1961.0,1962.0,1963.0,1964.0,1965.0,1966.0,1967.0,1968.0,1969.0,1970.0,1971.0,1972.0,1973.0,1974.0,1975.0,1976.0,1977.0,1978.0,1979.0,1980.0,1981.0,1982.0,1983.0,1984.0,1985.0,1986.0,1987.0,1988.0,1989.0,1990.0,1991.0,1992.0,1993.0,1994.0,1995.0,1996.0,1997.0,1998.0,1999.0,2000.0,2001.0,2002.0,2003.0,2004.0,2005.0,2006.0,2007.0,2008.0,2009.0,2010.0,2011.0,2012.0,2013.0,2014.0,2015.0,2016.0,2017.0,2018.0,2019.0,2020.0,2021.0,2022.0,2023.0],\"y\":[0.0,0.0,0.0,0.0,0.0,0.0,0.0,0.0,0.0,3077797.97979798,0.0,0.0,0.0,0.0,0.0,0.0,0.0,0.0,0.0,0.0,0.0,0.0,0.0,0.0,0.0,0.0,21570829.6264,1508425742.5742574,0.0,0.0,0.0,0.0,68557950.0,44825806.331471145,317959674.705119,68324434.22748537,14372828.977660818,70558539.75659427,34429604.51977401,49470295.977011494,47086259.35672514,31147315.555555552,28174032.5350714,43278219.18099283,23734135.83454988,38120619.21122172,23197587.82330348,27964832.04529356,39835615.06127804,542232841.1585702,28221997.4721907,419740139.49565846,174186137.71754855,41998357.65208163,383400921.0801799,42073722.67423617,43587054.730211034,84830681.8830202,227882892.9834758,40604026.78736422,61003335.221761174,38568791.18540373,55466394.6396816,23490421.29618979,32339461.60818198,44860023.75967027,48901941.708293684,46641811.527890645,43068690.78208556,43125850.469530806,93376868.51492338,229259460.13745704,131589171.88925675,273727689.0541093,157872363.79562214,484004628.04978985,331005741.219658,513408532.73763925,138940159.02446502,257530759.2350019,257925254.25156862,198306461.83645117,245223823.08000645,148656191.34020284,257943062.64414546,314852873.8069106,236970855.10310778,277332514.0589156,213854731.87949035,363115723.3836473,205887913.49027902,173636611.6162027,106164094.36546083,114963470.95066886,121957786.64784826,77371083.6057188,84488724.62268569,77939815.65366344,78165312.56735592,73193626.83810541,68851166.97884992,93768904.94085626,101645678.40204448,93500691.16401698,92518368.74448068,95636677.76094443,95222022.30507414,94560933.0118782,96054837.95706597,125459576.95385583,102498296.50347169,125319438.2759824,110409423.81250097,119608157.96469627,113031112.03753348,127163247.37798832,115863441.69353166,93268518.89300863,76201045.26170355,83275743.87317063,85923340.24773814,97080134.53884053,16993645.987904653,15566758.712178307,15382781.375673646,14467627.524273986,13652093.71108662,13696256.436739726,13423604.099897936,12555258.055569727,11977430.209713098,11945705.043787811,3106423.434137736,7647699.695984698,8944689.977016991,11742097.268102659],\"type\":\"scatter\"},{\"mode\":\"lines\",\"name\":\"Average box office revenue sequels\",\"x\":[1910.0,1920.0,1922.0,1929.0,1931.0,1933.0,1935.0,1936.0,1937.0,1938.0,1939.0,1940.0,1942.0,1943.0,1944.0,1945.0,1946.0,1947.0,1951.0,1952.0,1954.0,1955.0,1956.0,1957.0,1958.0,1959.0,1960.0,1962.0,1963.0,1964.0,1965.0,1966.0,1967.0,1968.0,1969.0,1970.0,1971.0,1972.0,1973.0,1974.0,1975.0,1976.0,1977.0,1978.0,1979.0,1980.0,1981.0,1982.0,1983.0,1984.0,1985.0,1986.0,1987.0,1988.0,1989.0,1990.0,1991.0,1992.0,1993.0,1994.0,1995.0,1996.0,1997.0,1998.0,1999.0,2000.0,2001.0,2002.0,2003.0,2004.0,2005.0,2006.0,2007.0,2008.0,2009.0,2010.0,2011.0,2012.0,2013.0,2014.0,2015.0,2016.0,2017.0,2018.0,2019.0,2020.0,2021.0,2022.0,2023.0],\"y\":[0.0,0.0,0.0,0.0,0.0,43502070.15384615,0.0,0.0,0.0,0.0,0.0,0.0,12618027.607361963,0.0,0.0,0.0,0.0,0.0,18164926.923076924,22996377.358490568,48140650.55762082,0.0,13442735.294117648,0.0,5060794.46366782,0.0,0.0,0.0,0.0,0.0,0.0,0.0,0.0,0.0,0.0,0.0,92907062.99530864,0.0,0.0,0.0,0.0,0.0,152725949.38683167,78555061.38964725,33995677.68595041,0.0,174801179.66483316,102072769.22189291,108777355.11573294,52292008.039993584,111047249.52021563,97848961.20322213,186069527.6169689,54394879.650392465,169438384.93236452,192186413.2985988,42374482.82419481,608462834.9566262,12395567.652793542,224258553.2725304,108000592.89826334,34795622.58428298,148287602.81453893,61001951.67333742,459776190.90806717,125513064.59955284,675046154.8799661,431715911.177045,294742879.7135761,949612733.7220645,446834858.9945263,403606675.6609359,714413544.8116425,239825172.72731766,441005800.67239994,187326609.0660284,121832002.28740904,88967460.15237291,213679966.3800106,191396457.09492669,199682724.7472863,137890267.34353057,213736499.24653134,175408855.83459002,231299930.3841714,31391429.578176357,158429442.5655882,149455525.76166028,84321924.42352942],\"type\":\"scatter\"},{\"mode\":\"lines\",\"name\":\"Average box office revenue book adaptation\",\"x\":[1905.0,1909.0,1910.0,1913.0,1915.0,1917.0,1918.0,1919.0,1920.0,1921.0,1922.0,1923.0,1924.0,1925.0,1926.0,1927.0,1928.0,1929.0,1930.0,1931.0,1932.0,1933.0,1934.0,1935.0,1936.0,1937.0,1938.0,1939.0,1940.0,1941.0,1942.0,1943.0,1944.0,1945.0,1946.0,1947.0,1948.0,1949.0,1950.0,1951.0,1952.0,1953.0,1954.0,1955.0,1956.0,1957.0,1958.0,1959.0,1960.0,1961.0,1962.0,1963.0,1964.0,1965.0,1966.0,1967.0,1968.0,1969.0,1970.0,1971.0,1972.0,1973.0,1974.0,1975.0,1976.0,1977.0,1978.0,1979.0,1980.0,1981.0,1982.0,1983.0,1984.0,1985.0,1986.0,1987.0,1988.0,1989.0,1990.0,1991.0,1992.0,1993.0,1994.0,1995.0,1996.0,1997.0,1998.0,1999.0,2000.0,2001.0,2002.0,2003.0,2004.0,2005.0,2006.0,2007.0,2008.0,2009.0,2010.0,2011.0,2012.0,2013.0,2014.0,2015.0,2016.0,2017.0,2018.0,2019.0,2020.0,2021.0,2022.0,2023.0],\"y\":[0.0,0.0,0.0,0.0,0.0,0.0,0.0,0.0,0.0,0.0,0.0,0.0,0.0,23279232.8,0.0,0.0,30292011.69590643,0.0,0.0,240554210.5263158,56492195.62043796,0.0,17685699.943432834,30381235.91240876,0.0,0.0,20568487.11361702,2229348034.4493885,624966777.9817619,124368163.26530613,86924190.18404907,0.0,299248.5267045454,0.0,0.0,0.0,0.0,41288401.2605042,261082834.02489623,42604706.02197802,49603185.96226415,154490761.23595506,0.0,51162649.25373134,48823267.76960784,144646702.09964412,66241002.31799308,427145608.6769759,148329791.4322072,77449337.79264215,174345786.07004413,269656291.2091503,1116451359.0702257,554857070.1717461,109320187.32226337,485368053.70137733,761079714.4076055,196075914.67364573,351424813.5868213,103313820.49518025,357002810.48452955,318943558.7376126,898036523.3265722,599614738.4113879,155303880.1126069,415792333.43546754,84492953.88217407,260190664.77416372,125452998.30274272,64286395.01026403,103116329.19100288,33554255.620520417,64862213.07015836,55691162.223891735,128228542.22473724,65489398.351188384,105653130.87396732,33843362.77045622,235633005.91931957,146063481.78043503,91321990.28391066,92922409.78825417,351475766.8726916,86885168.1039855,128752354.74255723,63408559.93998229,113353042.06701759,156999766.6323192,180114374.06172746,405844739.89960027,165948792.33027837,98362720.98973641,188157755.37845197,313979154.4020167,161400166.1238864,178726852.8944971,119146894.96829608,142847364.1759814,89593228.25485373,46811956.94656432,81692062.1350645,80333428.93869053,78629886.98135829,76104211.0078695,39861893.71216616,27052703.65111898,34218220.82121606,24638037.904634602,8308642.284277228,12870642.824465793,5689730.122501363,17069633.836363636],\"type\":\"scatter\"},{\"mode\":\"lines\",\"name\":\"Average box office revenue comics adaptation\",\"x\":[1936.0,1941.0,1944.0,1954.0,1961.0,1966.0,1967.0,1968.0,1969.0,1972.0,1974.0,1975.0,1976.0,1978.0,1979.0,1980.0,1981.0,1982.0,1983.0,1984.0,1985.0,1986.0,1988.0,1989.0,1990.0,1991.0,1992.0,1993.0,1994.0,1995.0,1996.0,1997.0,1998.0,1999.0,2000.0,2001.0,2002.0,2003.0,2004.0,2005.0,2006.0,2007.0,2008.0,2009.0,2010.0,2011.0,2012.0,2013.0,2014.0,2015.0,2016.0,2017.0,2018.0,2019.0,2020.0,2021.0,2022.0,2023.0],\"y\":[0.0,0.0,0.0,29450750.92936803,0.0,0.0,0.0,0.0,0.0,182238038.27751198,5599594.563894523,0.0,0.0,1403021940.5005522,0.0,0.0,362644675.3532673,123282362.89179274,8597121.041144578,29428803.933022134,64965356.25493494,105541360.97945255,0.0,505635448.635,425119485.5469855,157336315.10545522,579481859.6472416,168212767.6351142,333068148.39322543,305143690.7408976,17796581.538330145,579305709.1993893,245226281.95128834,97538485.51537216,0.0,43477967.521561265,800873037.9636316,215114764.9198152,362824353.3102382,313897273.189348,221357096.2098909,395793042.9288277,241843420.38273636,96150619.34240153,75825794.10316661,179890744.34009534,322746852.644279,156960353.2382191,222791363.03156802,213008016.15744913,260083334.77703497,221535304.9677436,291052632.63275534,313022597.1485235,37467381.51103727,142367538.613525,218705555.75663954,110002681.3478261],\"type\":\"scatter\"},{\"mode\":\"lines\",\"name\":\"Average box office revenue remakes\",\"x\":[1896.0,1897.0,1923.0,1924.0,1925.0,1928.0,1929.0,1930.0,1932.0,1935.0,1936.0,1937.0,1938.0,1939.0,1940.0,1941.0,1943.0,1945.0,1946.0,1947.0,1948.0,1949.0,1950.0,1951.0,1952.0,1953.0,1954.0,1955.0,1956.0,1957.0,1958.0,1959.0,1960.0,1961.0,1962.0,1964.0,1966.0,1967.0,1968.0,1971.0,1972.0,1973.0,1974.0,1976.0,1977.0,1978.0,1979.0,1980.0,1981.0,1982.0,1983.0,1984.0,1985.0,1986.0,1987.0,1988.0,1989.0,1990.0,1991.0,1992.0,1993.0,1994.0,1995.0,1996.0,1997.0,1998.0,1999.0,2000.0,2001.0,2002.0,2003.0,2004.0,2005.0,2006.0,2007.0,2008.0,2009.0,2010.0,2011.0,2012.0,2013.0,2014.0,2015.0,2016.0,2017.0,2018.0,2019.0,2020.0,2021.0,2022.0,2023.0],\"y\":[0.0,0.0,0.0,0.0,0.0,0.0,0.0,0.0,0.0,0.0,0.0,0.0,20568487.11361702,0.0,0.0,0.0,0.0,0.0,0.0,0.0,0.0,51210420.168067224,0.0,16700013.46153846,40117180.30188679,0.0,48140650.55762082,35245380.59701492,31366382.352941178,0.0,22193692.387543254,1538169202.7491407,0.0,0.0,15134205.298013246,0.0,32915339.50617284,0.0,0.0,0.0,0.0,20587972.972972974,0.0,485244334.2775044,60337029.702970296,249058393.2923466,84607141.55564739,0.0,40895097.90979098,72460359.55622107,81212902.19530791,8464278.440327238,113035850.30977696,136068814.930073,93726844.82482395,52999802.34675684,74336052.35947742,13878245.907972459,170965098.08633995,468808225.0733,240013891.91986158,142898460.6763878,135911519.85962924,228078217.13532186,125017902.94725649,245067599.03810123,232551698.16105244,199369583.3146574,138767073.42801806,206266468.71375486,178943766.03466305,157478539.65232265,244574435.87983105,104254384.24934164,82478003.48349948,103185011.08870032,80198174.65736291,30845219.339684833,40624512.618538216,29212326.48403704,9830469.681908771,55516153.51293651,44310409.719607264,55112648.861279294,94170458.2619337,43633087.36435391,85882994.15979527,2182011.288196968,1104609.1268295383,10433551.683454515,673341.4333333333],\"type\":\"scatter\"}],                        {\"template\":{\"data\":{\"histogram2dcontour\":[{\"type\":\"histogram2dcontour\",\"colorbar\":{\"outlinewidth\":0,\"ticks\":\"\"},\"colorscale\":[[0.0,\"#0d0887\"],[0.1111111111111111,\"#46039f\"],[0.2222222222222222,\"#7201a8\"],[0.3333333333333333,\"#9c179e\"],[0.4444444444444444,\"#bd3786\"],[0.5555555555555556,\"#d8576b\"],[0.6666666666666666,\"#ed7953\"],[0.7777777777777778,\"#fb9f3a\"],[0.8888888888888888,\"#fdca26\"],[1.0,\"#f0f921\"]]}],\"choropleth\":[{\"type\":\"choropleth\",\"colorbar\":{\"outlinewidth\":0,\"ticks\":\"\"}}],\"histogram2d\":[{\"type\":\"histogram2d\",\"colorbar\":{\"outlinewidth\":0,\"ticks\":\"\"},\"colorscale\":[[0.0,\"#0d0887\"],[0.1111111111111111,\"#46039f\"],[0.2222222222222222,\"#7201a8\"],[0.3333333333333333,\"#9c179e\"],[0.4444444444444444,\"#bd3786\"],[0.5555555555555556,\"#d8576b\"],[0.6666666666666666,\"#ed7953\"],[0.7777777777777778,\"#fb9f3a\"],[0.8888888888888888,\"#fdca26\"],[1.0,\"#f0f921\"]]}],\"heatmap\":[{\"type\":\"heatmap\",\"colorbar\":{\"outlinewidth\":0,\"ticks\":\"\"},\"colorscale\":[[0.0,\"#0d0887\"],[0.1111111111111111,\"#46039f\"],[0.2222222222222222,\"#7201a8\"],[0.3333333333333333,\"#9c179e\"],[0.4444444444444444,\"#bd3786\"],[0.5555555555555556,\"#d8576b\"],[0.6666666666666666,\"#ed7953\"],[0.7777777777777778,\"#fb9f3a\"],[0.8888888888888888,\"#fdca26\"],[1.0,\"#f0f921\"]]}],\"heatmapgl\":[{\"type\":\"heatmapgl\",\"colorbar\":{\"outlinewidth\":0,\"ticks\":\"\"},\"colorscale\":[[0.0,\"#0d0887\"],[0.1111111111111111,\"#46039f\"],[0.2222222222222222,\"#7201a8\"],[0.3333333333333333,\"#9c179e\"],[0.4444444444444444,\"#bd3786\"],[0.5555555555555556,\"#d8576b\"],[0.6666666666666666,\"#ed7953\"],[0.7777777777777778,\"#fb9f3a\"],[0.8888888888888888,\"#fdca26\"],[1.0,\"#f0f921\"]]}],\"contourcarpet\":[{\"type\":\"contourcarpet\",\"colorbar\":{\"outlinewidth\":0,\"ticks\":\"\"}}],\"contour\":[{\"type\":\"contour\",\"colorbar\":{\"outlinewidth\":0,\"ticks\":\"\"},\"colorscale\":[[0.0,\"#0d0887\"],[0.1111111111111111,\"#46039f\"],[0.2222222222222222,\"#7201a8\"],[0.3333333333333333,\"#9c179e\"],[0.4444444444444444,\"#bd3786\"],[0.5555555555555556,\"#d8576b\"],[0.6666666666666666,\"#ed7953\"],[0.7777777777777778,\"#fb9f3a\"],[0.8888888888888888,\"#fdca26\"],[1.0,\"#f0f921\"]]}],\"surface\":[{\"type\":\"surface\",\"colorbar\":{\"outlinewidth\":0,\"ticks\":\"\"},\"colorscale\":[[0.0,\"#0d0887\"],[0.1111111111111111,\"#46039f\"],[0.2222222222222222,\"#7201a8\"],[0.3333333333333333,\"#9c179e\"],[0.4444444444444444,\"#bd3786\"],[0.5555555555555556,\"#d8576b\"],[0.6666666666666666,\"#ed7953\"],[0.7777777777777778,\"#fb9f3a\"],[0.8888888888888888,\"#fdca26\"],[1.0,\"#f0f921\"]]}],\"mesh3d\":[{\"type\":\"mesh3d\",\"colorbar\":{\"outlinewidth\":0,\"ticks\":\"\"}}],\"scatter\":[{\"fillpattern\":{\"fillmode\":\"overlay\",\"size\":10,\"solidity\":0.2},\"type\":\"scatter\"}],\"parcoords\":[{\"type\":\"parcoords\",\"line\":{\"colorbar\":{\"outlinewidth\":0,\"ticks\":\"\"}}}],\"scatterpolargl\":[{\"type\":\"scatterpolargl\",\"marker\":{\"colorbar\":{\"outlinewidth\":0,\"ticks\":\"\"}}}],\"bar\":[{\"error_x\":{\"color\":\"#2a3f5f\"},\"error_y\":{\"color\":\"#2a3f5f\"},\"marker\":{\"line\":{\"color\":\"#E5ECF6\",\"width\":0.5},\"pattern\":{\"fillmode\":\"overlay\",\"size\":10,\"solidity\":0.2}},\"type\":\"bar\"}],\"scattergeo\":[{\"type\":\"scattergeo\",\"marker\":{\"colorbar\":{\"outlinewidth\":0,\"ticks\":\"\"}}}],\"scatterpolar\":[{\"type\":\"scatterpolar\",\"marker\":{\"colorbar\":{\"outlinewidth\":0,\"ticks\":\"\"}}}],\"histogram\":[{\"marker\":{\"pattern\":{\"fillmode\":\"overlay\",\"size\":10,\"solidity\":0.2}},\"type\":\"histogram\"}],\"scattergl\":[{\"type\":\"scattergl\",\"marker\":{\"colorbar\":{\"outlinewidth\":0,\"ticks\":\"\"}}}],\"scatter3d\":[{\"type\":\"scatter3d\",\"line\":{\"colorbar\":{\"outlinewidth\":0,\"ticks\":\"\"}},\"marker\":{\"colorbar\":{\"outlinewidth\":0,\"ticks\":\"\"}}}],\"scattermapbox\":[{\"type\":\"scattermapbox\",\"marker\":{\"colorbar\":{\"outlinewidth\":0,\"ticks\":\"\"}}}],\"scatterternary\":[{\"type\":\"scatterternary\",\"marker\":{\"colorbar\":{\"outlinewidth\":0,\"ticks\":\"\"}}}],\"scattercarpet\":[{\"type\":\"scattercarpet\",\"marker\":{\"colorbar\":{\"outlinewidth\":0,\"ticks\":\"\"}}}],\"carpet\":[{\"aaxis\":{\"endlinecolor\":\"#2a3f5f\",\"gridcolor\":\"white\",\"linecolor\":\"white\",\"minorgridcolor\":\"white\",\"startlinecolor\":\"#2a3f5f\"},\"baxis\":{\"endlinecolor\":\"#2a3f5f\",\"gridcolor\":\"white\",\"linecolor\":\"white\",\"minorgridcolor\":\"white\",\"startlinecolor\":\"#2a3f5f\"},\"type\":\"carpet\"}],\"table\":[{\"cells\":{\"fill\":{\"color\":\"#EBF0F8\"},\"line\":{\"color\":\"white\"}},\"header\":{\"fill\":{\"color\":\"#C8D4E3\"},\"line\":{\"color\":\"white\"}},\"type\":\"table\"}],\"barpolar\":[{\"marker\":{\"line\":{\"color\":\"#E5ECF6\",\"width\":0.5},\"pattern\":{\"fillmode\":\"overlay\",\"size\":10,\"solidity\":0.2}},\"type\":\"barpolar\"}],\"pie\":[{\"automargin\":true,\"type\":\"pie\"}]},\"layout\":{\"autotypenumbers\":\"strict\",\"colorway\":[\"#636efa\",\"#EF553B\",\"#00cc96\",\"#ab63fa\",\"#FFA15A\",\"#19d3f3\",\"#FF6692\",\"#B6E880\",\"#FF97FF\",\"#FECB52\"],\"font\":{\"color\":\"#2a3f5f\"},\"hovermode\":\"closest\",\"hoverlabel\":{\"align\":\"left\"},\"paper_bgcolor\":\"white\",\"plot_bgcolor\":\"#E5ECF6\",\"polar\":{\"bgcolor\":\"#E5ECF6\",\"angularaxis\":{\"gridcolor\":\"white\",\"linecolor\":\"white\",\"ticks\":\"\"},\"radialaxis\":{\"gridcolor\":\"white\",\"linecolor\":\"white\",\"ticks\":\"\"}},\"ternary\":{\"bgcolor\":\"#E5ECF6\",\"aaxis\":{\"gridcolor\":\"white\",\"linecolor\":\"white\",\"ticks\":\"\"},\"baxis\":{\"gridcolor\":\"white\",\"linecolor\":\"white\",\"ticks\":\"\"},\"caxis\":{\"gridcolor\":\"white\",\"linecolor\":\"white\",\"ticks\":\"\"}},\"coloraxis\":{\"colorbar\":{\"outlinewidth\":0,\"ticks\":\"\"}},\"colorscale\":{\"sequential\":[[0.0,\"#0d0887\"],[0.1111111111111111,\"#46039f\"],[0.2222222222222222,\"#7201a8\"],[0.3333333333333333,\"#9c179e\"],[0.4444444444444444,\"#bd3786\"],[0.5555555555555556,\"#d8576b\"],[0.6666666666666666,\"#ed7953\"],[0.7777777777777778,\"#fb9f3a\"],[0.8888888888888888,\"#fdca26\"],[1.0,\"#f0f921\"]],\"sequentialminus\":[[0.0,\"#0d0887\"],[0.1111111111111111,\"#46039f\"],[0.2222222222222222,\"#7201a8\"],[0.3333333333333333,\"#9c179e\"],[0.4444444444444444,\"#bd3786\"],[0.5555555555555556,\"#d8576b\"],[0.6666666666666666,\"#ed7953\"],[0.7777777777777778,\"#fb9f3a\"],[0.8888888888888888,\"#fdca26\"],[1.0,\"#f0f921\"]],\"diverging\":[[0,\"#8e0152\"],[0.1,\"#c51b7d\"],[0.2,\"#de77ae\"],[0.3,\"#f1b6da\"],[0.4,\"#fde0ef\"],[0.5,\"#f7f7f7\"],[0.6,\"#e6f5d0\"],[0.7,\"#b8e186\"],[0.8,\"#7fbc41\"],[0.9,\"#4d9221\"],[1,\"#276419\"]]},\"xaxis\":{\"gridcolor\":\"white\",\"linecolor\":\"white\",\"ticks\":\"\",\"title\":{\"standoff\":15},\"zerolinecolor\":\"white\",\"automargin\":true,\"zerolinewidth\":2},\"yaxis\":{\"gridcolor\":\"white\",\"linecolor\":\"white\",\"ticks\":\"\",\"title\":{\"standoff\":15},\"zerolinecolor\":\"white\",\"automargin\":true,\"zerolinewidth\":2},\"scene\":{\"xaxis\":{\"backgroundcolor\":\"#E5ECF6\",\"gridcolor\":\"white\",\"linecolor\":\"white\",\"showbackground\":true,\"ticks\":\"\",\"zerolinecolor\":\"white\",\"gridwidth\":2},\"yaxis\":{\"backgroundcolor\":\"#E5ECF6\",\"gridcolor\":\"white\",\"linecolor\":\"white\",\"showbackground\":true,\"ticks\":\"\",\"zerolinecolor\":\"white\",\"gridwidth\":2},\"zaxis\":{\"backgroundcolor\":\"#E5ECF6\",\"gridcolor\":\"white\",\"linecolor\":\"white\",\"showbackground\":true,\"ticks\":\"\",\"zerolinecolor\":\"white\",\"gridwidth\":2}},\"shapedefaults\":{\"line\":{\"color\":\"#2a3f5f\"}},\"annotationdefaults\":{\"arrowcolor\":\"#2a3f5f\",\"arrowhead\":0,\"arrowwidth\":1},\"geo\":{\"bgcolor\":\"white\",\"landcolor\":\"#E5ECF6\",\"subunitcolor\":\"white\",\"showland\":true,\"showlakes\":true,\"lakecolor\":\"white\"},\"title\":{\"x\":0.05},\"mapbox\":{\"style\":\"light\"}}},\"yaxis\":{\"title\":{\"text\":\"Revenue\"},\"tickformat\":\"$.2s\"},\"legend\":{\"x\":0,\"y\":1.1},\"title\":{\"text\":\"Average Box Office Revenue per Year\"},\"xaxis\":{\"title\":{\"text\":\"Year\"}}},                        {\"responsive\": true}                    ).then(function(){\n",
       "                            \n",
       "var gd = document.getElementById('2c2d1eb5-0978-43e0-b39d-cbc0a0929fda');\n",
       "var x = new MutationObserver(function (mutations, observer) {{\n",
       "        var display = window.getComputedStyle(gd).display;\n",
       "        if (!display || display === 'none') {{\n",
       "            console.log([gd, 'removed!']);\n",
       "            Plotly.purge(gd);\n",
       "            observer.disconnect();\n",
       "        }}\n",
       "}});\n",
       "\n",
       "// Listen for the removal of the full notebook cells\n",
       "var notebookContainer = gd.closest('#notebook-container');\n",
       "if (notebookContainer) {{\n",
       "    x.observe(notebookContainer, {childList: true});\n",
       "}}\n",
       "\n",
       "// Listen for the clearing of the current output cell\n",
       "var outputEl = gd.closest('.output');\n",
       "if (outputEl) {{\n",
       "    x.observe(outputEl, {childList: true});\n",
       "}}\n",
       "\n",
       "                        })                };                });            </script>        </div>"
      ]
     },
     "metadata": {},
     "output_type": "display_data"
    }
   ],
   "execution_count": 278
  },
  {
   "cell_type": "markdown",
   "id": "54cf716b68e15bea",
   "metadata": {},
   "source": [
    "#### 3.1.2 Box office revenue for movies with sequel compared to the first movie of the collection"
   ]
  },
  {
   "cell_type": "markdown",
   "id": "f6231a02",
   "metadata": {},
   "source": [
    "This plot shows the box office revenue for the first movie in a collection compared to the sequels. The x-axis represents the collection, and the y-axis is the box office revenue. On the left side, the box office of the entire serie following the first movie is seen, and on the right side, the average box office of the sequels is compared to the first. Improving sequels are linked in green, and decreasing sequels are linked in red.\n",
    "\n",
    "compare_first_sequel splits the movies into first movies and sequels, calculates the box office revenue for each movie, and then plots the data.\n"
   ]
  },
  {
   "cell_type": "code",
   "id": "8ea1df41fe534bc3",
   "metadata": {
    "ExecuteTime": {
     "end_time": "2024-12-15T20:44:44.362921Z",
     "start_time": "2024-12-15T20:44:41.730710Z"
    }
   },
   "source": [
    "from src.models.box_office_revenue import compare_first_sequel\n",
    "\n",
    "fig_plt, fig2 = compare_first_sequel(movie_frames_concat)\n",
    "fig_plt.show()\n",
    "fig2.show()\n"
   ],
   "outputs": [
    {
     "data": {
      "application/vnd.plotly.v1+json": {
       "data": [
        {
         "hoverinfo": "text",
         "marker": {
          "color": "blue"
         },
         "mode": "markers",
         "name": "First movie <br>box office revenue",
         "text": [
          "The Boondock Saints Collection<br>First movie box office revenue: 55.7K",
          "The Toxic Avenger Collection<br>First movie box office revenue: 2.27M",
          "Flesh Gordon Collection<br>First movie box office revenue: 5.6M",
          "The Stepfather Collection<br>First movie box office revenue: 6.68M",
          "Silent Night, Deadly Night Collection<br>First movie box office revenue: 7.31M",
          "The Amazing Colossal Man Collection<br>First movie box office revenue: 9.2M",
          "Leprechaun Collection<br>First movie box office revenue: 18M",
          "Firefly Collection<br>First movie box office revenue: 27.9M",
          "Hellraiser Collection<br>First movie box office revenue: 39.1M",
          "Allan Quatermain Collection<br>First movie box office revenue: 40.8M",
          "King Kong (1933) Collection<br>First movie box office revenue: 43.5M",
          "Air Bud Collection<br>First movie box office revenue: 43.9M",
          "Cochise Collection<br>First movie box office revenue: 44.9M",
          "Wrong Turn Collection<br>First movie box office revenue: 47.4M",
          "Cheaper by the Dozen (1950) Collection<br>First movie box office revenue: 55.9M",
          "Candyman Collection<br>First movie box office revenue: 56M",
          "The Neverending Story Collection<br>First movie box office revenue: 59.1M",
          "Crank Collection<br>First movie box office revenue: 64.9M",
          "The Transporter Collection<br>First movie box office revenue: 74.4M",
          "A Nightmare on Elm Street Collection<br>First movie box office revenue: 77.2M",
          "Return of the Living Dead Collection<br>First movie box office revenue: 96.3M",
          "Psycho Collection<br>First movie box office revenue: 106M",
          "The Pink Panther (Original) Collection<br>First movie box office revenue: 108M",
          "Short Circuit Collection<br>First movie box office revenue: 113M",
          "Problem Child Collection<br>First movie box office revenue: 125M",
          "Power Rangers Collection<br>First movie box office revenue: 133M",
          "Urban Legend Collection<br>First movie box office revenue: 136M",
          "Death Wish Collection<br>First movie box office revenue: 136M",
          "RoboCop Collection<br>First movie box office revenue: 143M",
          "Friday the 13th Collection<br>First movie box office revenue: 147M",
          "Meatballs Collection<br>First movie box office revenue: 181M",
          "Carrie Collection<br>First movie box office revenue: 181M",
          "Texas Chainsaw Massacre Collection<br>First movie box office revenue: 191M",
          "Father of the Bride (Steve Martin) Collection<br>First movie box office revenue: 200M",
          "Pokémon Collection<br>First movie box office revenue: 237M",
          "Police Academy Collection<br>First movie box office revenue: 238M",
          "I Know What You Did Last Summer Collection<br>First movie box office revenue: 238M",
          "Legally Blonde Collection<br>First movie box office revenue: 244M",
          "Mortal Kombat Collection<br>First movie box office revenue: 244M",
          "Rugrats Collection<br>First movie box office revenue: 263M",
          "The Karate Kid Collection<br>First movie box office revenue: 266M",
          "Dirty Harry Collection<br>First movie box office revenue: 271M",
          "Bad Boys Collection<br>First movie box office revenue: 283M",
          "Planet of the Apes (Original) Collection<br>First movie box office revenue: 285M",
          "The Crow Collection<br>First movie box office revenue: 297M",
          "Open Season Collection<br>First movie box office revenue: 298M",
          "Airplane Collection<br>First movie box office revenue: 309M",
          "Lethal Weapon Collection<br>First movie box office revenue: 322M",
          "The Omen Collection<br>First movie box office revenue: 326M",
          "Halloween Collection<br>First movie box office revenue: 327M",
          "Scream Collection<br>First movie box office revenue: 336M",
          "Red Cliff Collection<br>First movie box office revenue: 352M",
          "The Bourne Collection<br>First movie box office revenue: 363M",
          "Die Hard Collection<br>First movie box office revenue: 363M",
          "The Amityville Collection<br>First movie box office revenue: 363M",
          "Poltergeist Collection<br>First movie box office revenue: 384M",
          "The Santa Clause Collection<br>First movie box office revenue: 390M",
          "Rambo Collection<br>First movie box office revenue: 395M",
          "Demetrius Collection<br>First movie box office revenue: 411M",
          "Mad Max Collection<br>First movie box office revenue: 420M",
          "Alien Collection<br>First movie box office revenue: 440M",
          "The Jack Ryan Collection<br>First movie box office revenue: 467M",
          "King Kong (1976) Collection<br>First movie box office revenue: 485M",
          "Fantastic Four Collection<br>First movie box office revenue: 516M",
          "Dr. Dolittle Collection<br>First movie box office revenue: 550M",
          "James Bond Collection<br>First movie box office revenue: 601M",
          "The Hannibal Lecter Collection<br>First movie box office revenue: 610M",
          "Ice Age Collection<br>First movie box office revenue: 649M",
          "Toy Story Collection<br>First movie box office revenue: 724M",
          "The Mummy Collection<br>First movie box office revenue: 761M",
          "Ocean's Collection<br>First movie box office revenue: 775M",
          "Airport Collection<br>First movie box office revenue: 789M",
          "Madagascar Collection<br>First movie box office revenue: 831M",
          "Shrek Collection<br>First movie box office revenue: 833M",
          "Beverly Hills Cop Collection<br>First movie box office revenue: 928M",
          "American Graffiti Collection<br>First movie box office revenue: 961M",
          "Peter Pan Collection<br>First movie box office revenue: 997M",
          "Back to the Future Collection<br>First movie box office revenue: 1.09B",
          "Home Alone Collection<br>First movie box office revenue: 1.11B",
          "Spider-Man Collection<br>First movie box office revenue: 1.39B",
          "Superman Collection<br>First movie box office revenue: 1.4B",
          "Harry Potter Collection<br>First movie box office revenue: 1.68B",
          "The Jungle Book Collection<br>First movie box office revenue: 1.88B",
          "Jurassic Park Collection<br>First movie box office revenue: 1.93B",
          "Jaws Collection<br>First movie box office revenue: 2.67B",
          "The Exorcist Collection<br>First movie box office revenue: 3.03B",
          "Bambi Collection<br>First movie box office revenue: 5B"
         ],
         "x": [
          0,
          1,
          2,
          3,
          4,
          5,
          6,
          7,
          8,
          9,
          10,
          11,
          12,
          13,
          14,
          15,
          16,
          17,
          18,
          19,
          20,
          21,
          22,
          23,
          24,
          25,
          26,
          27,
          28,
          29,
          30,
          31,
          32,
          33,
          34,
          35,
          36,
          37,
          38,
          39,
          40,
          41,
          42,
          43,
          44,
          45,
          46,
          47,
          48,
          49,
          50,
          51,
          52,
          53,
          54,
          55,
          56,
          57,
          58,
          59,
          60,
          61,
          62,
          63,
          64,
          65,
          66,
          67,
          68,
          69,
          70,
          71,
          72,
          73,
          74,
          75,
          76,
          77,
          78,
          79,
          80,
          81,
          82,
          83,
          84,
          85,
          86
         ],
         "y": [
          55729.739747899155,
          2265442.379182156,
          5599594.563894523,
          6675387.812323944,
          7306572.135899903,
          9195277.43772242,
          1.804371440747405E7,
          2.7869543590163045E7,
          3.906415629360915E7,
          4.077796282527881E7,
          4.350207015384615E7,
          4.393878588347664E7,
          4.488348962655602E7,
          4.744504078070652E7,
          5.594632157676348E7,
          5.60154557492516E7,
          5.911866328408084E7,
          6.4886776065386906E7,
          7.440374340335742E7,
          7.718714876440808E7,
          9.628130111524165E7,
          1.0623270030120483E8,
          1.0831963918673201E8,
          1.1314497419910584E8,
          1.2465715510175976E8,
          1.3282366849204724E8,
          1.3557854755638036E8,
          1.359724949290061E8,
          1.4329759815195423E8,
          1.4680424029126212E8,
          1.806639560069697E8,
          1.8100048506151143E8,
          1.907261464097363E8,
          1.998365919057269E8,
          2.370186438300813E8,
          2.381276746832339E8,
          2.3841960250509658E8,
          2.4392449599468097E8,
          2.4431326257112858E8,
          2.6337968872300613E8,
          2.6632995335626563E8,
          2.706656580740741E8,
          2.827231169740682E8,
          2.853483796565518E8,
          2.9749180696732795E8,
          2.98216543377748E8,
          3.085978184511893E8,
          3.2242387333762324E8,
          3.262452346565905E8,
          3.271340490797546E8,
          3.360590459491778E8,
          3.515416728981947E8,
          3.625161540925403E8,
          3.6257208562224853E8,
          3.6275704833388436E8,
          3.8429085389987564E8,
          3.90300968587139E8,
          3.953639613949016E8,
          4.108341573033708E8,
          4.1969972451790637E8,
          4.403984797286777E8,
          4.674567968430452E8,
          4.852443342775044E8,
          5.1576191264074755E8,
          5.504387512681595E8,
          6.013324238410596E8,
          6.101711734158884E8,
          6.491340514367537E8,
          7.236847163823621E8,
          7.607187315426891E8,
          7.754625468057595E8,
          7.891558063918041E8,
          8.310745817462467E8,
          8.334300256523772E8,
          9.277735357801347E8,
          9.607720720720721E8,
          9.974671149438951E8,
          1.0870579758468773E9,
          1.1112989582390974E9,
          1.3917523007604334E9,
          1.4030219405005522E9,
          1.6770745965807004E9,
          1.8778730617851498E9,
          1.9287765608085537E9,
          2.6655931302230487E9,
          3.026919351209955E9,
          4.999489662533742E9
         ],
         "type": "scatter"
        },
        {
         "hoverinfo": "text",
         "marker": {
          "color": "lightblue"
         },
         "mode": "markers",
         "name": "Sequel movie <br>box office revenue",
         "text": [
          "The Boondock Saints Collection<br>Sequel movie box office revenue: 14.6M",
          "The Toxic Avenger Collection<br>Sequel movie box office revenue: 893K",
          "Flesh Gordon Collection<br>Sequel movie box office revenue: 3.17M",
          "The Stepfather Collection<br>Sequel movie box office revenue: 3.73M",
          "Silent Night, Deadly Night Collection<br>Sequel movie box office revenue: 414K",
          "The Amazing Colossal Man Collection<br>Sequel movie box office revenue: 5.06M",
          "Leprechaun Collection<br>Sequel movie box office revenue: 4.65M",
          "Firefly Collection<br>Sequel movie box office revenue: 30.3M",
          "Hellraiser Collection<br>Sequel movie box office revenue: 76.5M",
          "Allan Quatermain Collection<br>Sequel movie box office revenue: 10.1M",
          "King Kong (1933) Collection<br>Sequel movie box office revenue: 43.5M",
          "Air Bud Collection<br>Sequel movie box office revenue: 19.1M",
          "Cochise Collection<br>Sequel movie box office revenue: 23M",
          "Wrong Turn Collection<br>Sequel movie box office revenue: 13.2M",
          "Cheaper by the Dozen (1950) Collection<br>Sequel movie box office revenue: 23M",
          "Candyman Collection<br>Sequel movie box office revenue: 27.9M",
          "The Neverending Story Collection<br>Sequel movie box office revenue: 40.5M",
          "Crank Collection<br>Sequel movie box office revenue: 49.1M",
          "The Transporter Collection<br>Sequel movie box office revenue: 287M",
          "A Nightmare on Elm Street Collection<br>Sequel movie box office revenue: 502M",
          "Return of the Living Dead Collection<br>Sequel movie box office revenue: 23.8M",
          "Psycho Collection<br>Sequel movie box office revenue: 40.3M",
          "The Pink Panther (Original) Collection<br>Sequel movie box office revenue: 678M",
          "Short Circuit Collection<br>Sequel movie box office revenue: 55.7M",
          "Problem Child Collection<br>Sequel movie box office revenue: 56.2M",
          "Power Rangers Collection<br>Sequel movie box office revenue: 18.3M",
          "Urban Legend Collection<br>Sequel movie box office revenue: 68.3M",
          "Death Wish Collection<br>Sequel movie box office revenue: 67.6M",
          "RoboCop Collection<br>Sequel movie box office revenue: 129M",
          "Friday the 13th Collection<br>Sequel movie box office revenue: 552M",
          "Meatballs Collection<br>Sequel movie box office revenue: 15.9M",
          "Carrie Collection<br>Sequel movie box office revenue: 32.5M",
          "Texas Chainsaw Massacre Collection<br>Sequel movie box office revenue: 36.1M",
          "Father of the Bride (Steve Martin) Collection<br>Sequel movie box office revenue: 153M",
          "Pokémon Collection<br>Sequel movie box office revenue: 200M",
          "Police Academy Collection<br>Sequel movie box office revenue: 358M",
          "I Know What You Did Last Summer Collection<br>Sequel movie box office revenue: 157M",
          "Legally Blonde Collection<br>Sequel movie box office revenue: 414M",
          "Mortal Kombat Collection<br>Sequel movie box office revenue: 97.5M",
          "Rugrats Collection<br>Sequel movie box office revenue: 275M",
          "The Karate Kid Collection<br>Sequel movie box office revenue: 448M",
          "Dirty Harry Collection<br>Sequel movie box office revenue: 761M",
          "Bad Boys Collection<br>Sequel movie box office revenue: 453M",
          "Planet of the Apes (Original) Collection<br>Sequel movie box office revenue: 374M",
          "The Crow Collection<br>Sequel movie box office revenue: 34.8M",
          "Open Season Collection<br>Sequel movie box office revenue: 12.3M",
          "Airplane Collection<br>Sequel movie box office revenue: 85.7M",
          "Lethal Weapon Collection<br>Sequel movie box office revenue: 1.82B",
          "The Omen Collection<br>Sequel movie box office revenue: 193M",
          "Halloween Collection<br>Sequel movie box office revenue: 327M",
          "Scream Collection<br>Sequel movie box office revenue: 327M",
          "Red Cliff Collection<br>Sequel movie box office revenue: 352M",
          "The Bourne Collection<br>Sequel movie box office revenue: 1.12B",
          "Die Hard Collection<br>Sequel movie box office revenue: 560M",
          "The Amityville Collection<br>Sequel movie box office revenue: 224M",
          "Poltergeist Collection<br>Sequel movie box office revenue: 150M",
          "The Santa Clause Collection<br>Sequel movie box office revenue: 460M",
          "Rambo Collection<br>Sequel movie box office revenue: 647M",
          "Demetrius Collection<br>Sequel movie box office revenue: 48.1M",
          "Mad Max Collection<br>Sequel movie box office revenue: 103M",
          "Alien Collection<br>Sequel movie box office revenue: 711M",
          "The Jack Ryan Collection<br>Sequel movie box office revenue: 831M",
          "King Kong (1976) Collection<br>Sequel movie box office revenue: 13.1M",
          "Fantastic Four Collection<br>Sequel movie box office revenue: 425M",
          "Dr. Dolittle Collection<br>Sequel movie box office revenue: 303M",
          "James Bond Collection<br>Sequel movie box office revenue: 13.7B",
          "The Hannibal Lecter Collection<br>Sequel movie box office revenue: 959M",
          "Ice Age Collection<br>Sequel movie box office revenue: 2.25B",
          "Toy Story Collection<br>Sequel movie box office revenue: 887M",
          "The Mummy Collection<br>Sequel movie box office revenue: 1.31B",
          "Ocean's Collection<br>Sequel movie box office revenue: 1.04B",
          "Airport Collection<br>Sequel movie box office revenue: 151M",
          "Madagascar Collection<br>Sequel movie box office revenue: 852M",
          "Shrek Collection<br>Sequel movie box office revenue: 2.66B",
          "Beverly Hills Cop Collection<br>Sequel movie box office revenue: 1.05B",
          "American Graffiti Collection<br>Sequel movie box office revenue: 34M",
          "Peter Pan Collection<br>Sequel movie box office revenue: 186M",
          "Back to the Future Collection<br>Sequel movie box office revenue: 1.39B",
          "Home Alone Collection<br>Sequel movie box office revenue: 930M",
          "Spider-Man Collection<br>Sequel movie box office revenue: 2.57B",
          "Superman Collection<br>Sequel movie box office revenue: 405M",
          "Harry Potter Collection<br>Sequel movie box office revenue: 6.88B",
          "The Jungle Book Collection<br>Sequel movie box office revenue: 225M",
          "Jurassic Park Collection<br>Sequel movie box office revenue: 634M",
          "Jaws Collection<br>Sequel movie box office revenue: 408M",
          "The Exorcist Collection<br>Sequel movie box office revenue: 371M",
          "Bambi Collection<br>Sequel movie box office revenue: 52.8M"
         ],
         "x": [
          0,
          1,
          2,
          3,
          4,
          5,
          6,
          7,
          8,
          9,
          10,
          11,
          12,
          13,
          14,
          15,
          16,
          17,
          18,
          19,
          20,
          21,
          22,
          23,
          24,
          25,
          26,
          27,
          28,
          29,
          30,
          31,
          32,
          33,
          34,
          35,
          36,
          37,
          38,
          39,
          40,
          41,
          42,
          43,
          44,
          45,
          46,
          47,
          48,
          49,
          50,
          51,
          52,
          53,
          54,
          55,
          56,
          57,
          58,
          59,
          60,
          61,
          62,
          63,
          64,
          65,
          66,
          67,
          68,
          69,
          70,
          71,
          72,
          73,
          74,
          75,
          76,
          77,
          78,
          79,
          80,
          81,
          82,
          83,
          84,
          85,
          86
         ],
         "y": [
          1.4590774225313116E7,
          893369.0630806452,
          3166895.6642580647,
          3734555.490258065,
          413930.6931866193,
          5060794.463667819,
          4647881.54280702,
          3.0251820872288786E7,
          7.647695514524907E7,
          1.0062941801919013E7,
          4.350207015384615E7,
          1.9112322659092024E7,
          2.2996377358490564E7,
          1.3226061290042542E7,
          2.299637735849057E7,
          2.7871801711719163E7,
          4.050304838526397E7,
          4.90855979763584E7,
          2.8710683075682986E8,
          5.019427601648592E8,
          2.3825745236647323E7,
          4.026180989051095E7,
          6.784016836676046E8,
          5.571201245795436E7,
          5.616337958443466E7,
          1.825523787962617E7,
          6.825601190548202E7,
          6.759459187135023E7,
          1.2884874179713428E8,
          5.523670018029717E8,
          1.5868469589451402E7,
          3.2486985227551013E7,
          3.613646193658143E7,
          1.5313896057161415E8,
          1.9972355094531217E8,
          3.575395919071995E8,
          1.5702829159892026E8,
          4.137152411639565E8,
          9.753664984686604E7,
          2.745209667562976E8,
          4.482706239911884E8,
          7.611589856006186E8,
          4.5264733365386957E8,
          3.735203771339541E8,
          3.4795622584282994E7,
          1.23364379451285E7,
          8.572872550122279E7,
          1.8185324382491298E9,
          1.9255062705964923E8,
          3.2665118905944324E8,
          3.2722394106730217E8,
          3.515416728981947E8,
          1.1161181595522537E9,
          5.595864912317369E8,
          2.237155636800959E8,
          1.5033025732255602E8,
          4.6018678880396414E8,
          6.471082719898751E8,
          4.814065055762082E7,
          1.0259684191206318E8,
          7.113586619925973E8,
          8.305597072693527E8,
          1.309779339817518E7,
          4.247737143541877E8,
          3.029889657001016E8,
          1.3736560136349243E10,
          9.594114409766854E8,
          2.249906915326024E9,
          8.870653965885832E8,
          1.3126898107399123E9,
          1.0426119376712116E9,
          1.5084257425742567E8,
          8.524010647922045E8,
          2.657849440709842E9,
          1.0496729265969386E9,
          3.39956776859504E7,
          1.860777038952973E8,
          1.3857613669997833E9,
          9.297956571949387E8,
          2.5734326615231514E9,
          4.0470487038883066E8,
          6.881528048318411E9,
          2.2472368490488052E8,
          6.34490401264359E8,
          4.083321327924237E8,
          3.714044329373784E8,
          5.283713596812534E7
         ],
         "type": "scatter"
        }
       ],
       "layout": {
        "template": {
         "data": {
          "histogram2dcontour": [
           {
            "type": "histogram2dcontour",
            "colorbar": {
             "outlinewidth": 0,
             "ticks": ""
            },
            "colorscale": [
             [
              0.0,
              "#0d0887"
             ],
             [
              0.1111111111111111,
              "#46039f"
             ],
             [
              0.2222222222222222,
              "#7201a8"
             ],
             [
              0.3333333333333333,
              "#9c179e"
             ],
             [
              0.4444444444444444,
              "#bd3786"
             ],
             [
              0.5555555555555556,
              "#d8576b"
             ],
             [
              0.6666666666666666,
              "#ed7953"
             ],
             [
              0.7777777777777778,
              "#fb9f3a"
             ],
             [
              0.8888888888888888,
              "#fdca26"
             ],
             [
              1.0,
              "#f0f921"
             ]
            ]
           }
          ],
          "choropleth": [
           {
            "type": "choropleth",
            "colorbar": {
             "outlinewidth": 0,
             "ticks": ""
            }
           }
          ],
          "histogram2d": [
           {
            "type": "histogram2d",
            "colorbar": {
             "outlinewidth": 0,
             "ticks": ""
            },
            "colorscale": [
             [
              0.0,
              "#0d0887"
             ],
             [
              0.1111111111111111,
              "#46039f"
             ],
             [
              0.2222222222222222,
              "#7201a8"
             ],
             [
              0.3333333333333333,
              "#9c179e"
             ],
             [
              0.4444444444444444,
              "#bd3786"
             ],
             [
              0.5555555555555556,
              "#d8576b"
             ],
             [
              0.6666666666666666,
              "#ed7953"
             ],
             [
              0.7777777777777778,
              "#fb9f3a"
             ],
             [
              0.8888888888888888,
              "#fdca26"
             ],
             [
              1.0,
              "#f0f921"
             ]
            ]
           }
          ],
          "heatmap": [
           {
            "type": "heatmap",
            "colorbar": {
             "outlinewidth": 0,
             "ticks": ""
            },
            "colorscale": [
             [
              0.0,
              "#0d0887"
             ],
             [
              0.1111111111111111,
              "#46039f"
             ],
             [
              0.2222222222222222,
              "#7201a8"
             ],
             [
              0.3333333333333333,
              "#9c179e"
             ],
             [
              0.4444444444444444,
              "#bd3786"
             ],
             [
              0.5555555555555556,
              "#d8576b"
             ],
             [
              0.6666666666666666,
              "#ed7953"
             ],
             [
              0.7777777777777778,
              "#fb9f3a"
             ],
             [
              0.8888888888888888,
              "#fdca26"
             ],
             [
              1.0,
              "#f0f921"
             ]
            ]
           }
          ],
          "heatmapgl": [
           {
            "type": "heatmapgl",
            "colorbar": {
             "outlinewidth": 0,
             "ticks": ""
            },
            "colorscale": [
             [
              0.0,
              "#0d0887"
             ],
             [
              0.1111111111111111,
              "#46039f"
             ],
             [
              0.2222222222222222,
              "#7201a8"
             ],
             [
              0.3333333333333333,
              "#9c179e"
             ],
             [
              0.4444444444444444,
              "#bd3786"
             ],
             [
              0.5555555555555556,
              "#d8576b"
             ],
             [
              0.6666666666666666,
              "#ed7953"
             ],
             [
              0.7777777777777778,
              "#fb9f3a"
             ],
             [
              0.8888888888888888,
              "#fdca26"
             ],
             [
              1.0,
              "#f0f921"
             ]
            ]
           }
          ],
          "contourcarpet": [
           {
            "type": "contourcarpet",
            "colorbar": {
             "outlinewidth": 0,
             "ticks": ""
            }
           }
          ],
          "contour": [
           {
            "type": "contour",
            "colorbar": {
             "outlinewidth": 0,
             "ticks": ""
            },
            "colorscale": [
             [
              0.0,
              "#0d0887"
             ],
             [
              0.1111111111111111,
              "#46039f"
             ],
             [
              0.2222222222222222,
              "#7201a8"
             ],
             [
              0.3333333333333333,
              "#9c179e"
             ],
             [
              0.4444444444444444,
              "#bd3786"
             ],
             [
              0.5555555555555556,
              "#d8576b"
             ],
             [
              0.6666666666666666,
              "#ed7953"
             ],
             [
              0.7777777777777778,
              "#fb9f3a"
             ],
             [
              0.8888888888888888,
              "#fdca26"
             ],
             [
              1.0,
              "#f0f921"
             ]
            ]
           }
          ],
          "surface": [
           {
            "type": "surface",
            "colorbar": {
             "outlinewidth": 0,
             "ticks": ""
            },
            "colorscale": [
             [
              0.0,
              "#0d0887"
             ],
             [
              0.1111111111111111,
              "#46039f"
             ],
             [
              0.2222222222222222,
              "#7201a8"
             ],
             [
              0.3333333333333333,
              "#9c179e"
             ],
             [
              0.4444444444444444,
              "#bd3786"
             ],
             [
              0.5555555555555556,
              "#d8576b"
             ],
             [
              0.6666666666666666,
              "#ed7953"
             ],
             [
              0.7777777777777778,
              "#fb9f3a"
             ],
             [
              0.8888888888888888,
              "#fdca26"
             ],
             [
              1.0,
              "#f0f921"
             ]
            ]
           }
          ],
          "mesh3d": [
           {
            "type": "mesh3d",
            "colorbar": {
             "outlinewidth": 0,
             "ticks": ""
            }
           }
          ],
          "scatter": [
           {
            "fillpattern": {
             "fillmode": "overlay",
             "size": 10,
             "solidity": 0.2
            },
            "type": "scatter"
           }
          ],
          "parcoords": [
           {
            "type": "parcoords",
            "line": {
             "colorbar": {
              "outlinewidth": 0,
              "ticks": ""
             }
            }
           }
          ],
          "scatterpolargl": [
           {
            "type": "scatterpolargl",
            "marker": {
             "colorbar": {
              "outlinewidth": 0,
              "ticks": ""
             }
            }
           }
          ],
          "bar": [
           {
            "error_x": {
             "color": "#2a3f5f"
            },
            "error_y": {
             "color": "#2a3f5f"
            },
            "marker": {
             "line": {
              "color": "#E5ECF6",
              "width": 0.5
             },
             "pattern": {
              "fillmode": "overlay",
              "size": 10,
              "solidity": 0.2
             }
            },
            "type": "bar"
           }
          ],
          "scattergeo": [
           {
            "type": "scattergeo",
            "marker": {
             "colorbar": {
              "outlinewidth": 0,
              "ticks": ""
             }
            }
           }
          ],
          "scatterpolar": [
           {
            "type": "scatterpolar",
            "marker": {
             "colorbar": {
              "outlinewidth": 0,
              "ticks": ""
             }
            }
           }
          ],
          "histogram": [
           {
            "marker": {
             "pattern": {
              "fillmode": "overlay",
              "size": 10,
              "solidity": 0.2
             }
            },
            "type": "histogram"
           }
          ],
          "scattergl": [
           {
            "type": "scattergl",
            "marker": {
             "colorbar": {
              "outlinewidth": 0,
              "ticks": ""
             }
            }
           }
          ],
          "scatter3d": [
           {
            "type": "scatter3d",
            "line": {
             "colorbar": {
              "outlinewidth": 0,
              "ticks": ""
             }
            },
            "marker": {
             "colorbar": {
              "outlinewidth": 0,
              "ticks": ""
             }
            }
           }
          ],
          "scattermapbox": [
           {
            "type": "scattermapbox",
            "marker": {
             "colorbar": {
              "outlinewidth": 0,
              "ticks": ""
             }
            }
           }
          ],
          "scatterternary": [
           {
            "type": "scatterternary",
            "marker": {
             "colorbar": {
              "outlinewidth": 0,
              "ticks": ""
             }
            }
           }
          ],
          "scattercarpet": [
           {
            "type": "scattercarpet",
            "marker": {
             "colorbar": {
              "outlinewidth": 0,
              "ticks": ""
             }
            }
           }
          ],
          "carpet": [
           {
            "aaxis": {
             "endlinecolor": "#2a3f5f",
             "gridcolor": "white",
             "linecolor": "white",
             "minorgridcolor": "white",
             "startlinecolor": "#2a3f5f"
            },
            "baxis": {
             "endlinecolor": "#2a3f5f",
             "gridcolor": "white",
             "linecolor": "white",
             "minorgridcolor": "white",
             "startlinecolor": "#2a3f5f"
            },
            "type": "carpet"
           }
          ],
          "table": [
           {
            "cells": {
             "fill": {
              "color": "#EBF0F8"
             },
             "line": {
              "color": "white"
             }
            },
            "header": {
             "fill": {
              "color": "#C8D4E3"
             },
             "line": {
              "color": "white"
             }
            },
            "type": "table"
           }
          ],
          "barpolar": [
           {
            "marker": {
             "line": {
              "color": "#E5ECF6",
              "width": 0.5
             },
             "pattern": {
              "fillmode": "overlay",
              "size": 10,
              "solidity": 0.2
             }
            },
            "type": "barpolar"
           }
          ],
          "pie": [
           {
            "automargin": true,
            "type": "pie"
           }
          ]
         },
         "layout": {
          "autotypenumbers": "strict",
          "colorway": [
           "#636efa",
           "#EF553B",
           "#00cc96",
           "#ab63fa",
           "#FFA15A",
           "#19d3f3",
           "#FF6692",
           "#B6E880",
           "#FF97FF",
           "#FECB52"
          ],
          "font": {
           "color": "#2a3f5f"
          },
          "hovermode": "closest",
          "hoverlabel": {
           "align": "left"
          },
          "paper_bgcolor": "white",
          "plot_bgcolor": "#E5ECF6",
          "polar": {
           "bgcolor": "#E5ECF6",
           "angularaxis": {
            "gridcolor": "white",
            "linecolor": "white",
            "ticks": ""
           },
           "radialaxis": {
            "gridcolor": "white",
            "linecolor": "white",
            "ticks": ""
           }
          },
          "ternary": {
           "bgcolor": "#E5ECF6",
           "aaxis": {
            "gridcolor": "white",
            "linecolor": "white",
            "ticks": ""
           },
           "baxis": {
            "gridcolor": "white",
            "linecolor": "white",
            "ticks": ""
           },
           "caxis": {
            "gridcolor": "white",
            "linecolor": "white",
            "ticks": ""
           }
          },
          "coloraxis": {
           "colorbar": {
            "outlinewidth": 0,
            "ticks": ""
           }
          },
          "colorscale": {
           "sequential": [
            [
             0.0,
             "#0d0887"
            ],
            [
             0.1111111111111111,
             "#46039f"
            ],
            [
             0.2222222222222222,
             "#7201a8"
            ],
            [
             0.3333333333333333,
             "#9c179e"
            ],
            [
             0.4444444444444444,
             "#bd3786"
            ],
            [
             0.5555555555555556,
             "#d8576b"
            ],
            [
             0.6666666666666666,
             "#ed7953"
            ],
            [
             0.7777777777777778,
             "#fb9f3a"
            ],
            [
             0.8888888888888888,
             "#fdca26"
            ],
            [
             1.0,
             "#f0f921"
            ]
           ],
           "sequentialminus": [
            [
             0.0,
             "#0d0887"
            ],
            [
             0.1111111111111111,
             "#46039f"
            ],
            [
             0.2222222222222222,
             "#7201a8"
            ],
            [
             0.3333333333333333,
             "#9c179e"
            ],
            [
             0.4444444444444444,
             "#bd3786"
            ],
            [
             0.5555555555555556,
             "#d8576b"
            ],
            [
             0.6666666666666666,
             "#ed7953"
            ],
            [
             0.7777777777777778,
             "#fb9f3a"
            ],
            [
             0.8888888888888888,
             "#fdca26"
            ],
            [
             1.0,
             "#f0f921"
            ]
           ],
           "diverging": [
            [
             0,
             "#8e0152"
            ],
            [
             0.1,
             "#c51b7d"
            ],
            [
             0.2,
             "#de77ae"
            ],
            [
             0.3,
             "#f1b6da"
            ],
            [
             0.4,
             "#fde0ef"
            ],
            [
             0.5,
             "#f7f7f7"
            ],
            [
             0.6,
             "#e6f5d0"
            ],
            [
             0.7,
             "#b8e186"
            ],
            [
             0.8,
             "#7fbc41"
            ],
            [
             0.9,
             "#4d9221"
            ],
            [
             1,
             "#276419"
            ]
           ]
          },
          "xaxis": {
           "gridcolor": "white",
           "linecolor": "white",
           "ticks": "",
           "title": {
            "standoff": 15
           },
           "zerolinecolor": "white",
           "automargin": true,
           "zerolinewidth": 2
          },
          "yaxis": {
           "gridcolor": "white",
           "linecolor": "white",
           "ticks": "",
           "title": {
            "standoff": 15
           },
           "zerolinecolor": "white",
           "automargin": true,
           "zerolinewidth": 2
          },
          "scene": {
           "xaxis": {
            "backgroundcolor": "#E5ECF6",
            "gridcolor": "white",
            "linecolor": "white",
            "showbackground": true,
            "ticks": "",
            "zerolinecolor": "white",
            "gridwidth": 2
           },
           "yaxis": {
            "backgroundcolor": "#E5ECF6",
            "gridcolor": "white",
            "linecolor": "white",
            "showbackground": true,
            "ticks": "",
            "zerolinecolor": "white",
            "gridwidth": 2
           },
           "zaxis": {
            "backgroundcolor": "#E5ECF6",
            "gridcolor": "white",
            "linecolor": "white",
            "showbackground": true,
            "ticks": "",
            "zerolinecolor": "white",
            "gridwidth": 2
           }
          },
          "shapedefaults": {
           "line": {
            "color": "#2a3f5f"
           }
          },
          "annotationdefaults": {
           "arrowcolor": "#2a3f5f",
           "arrowhead": 0,
           "arrowwidth": 1
          },
          "geo": {
           "bgcolor": "white",
           "landcolor": "#E5ECF6",
           "subunitcolor": "white",
           "showland": true,
           "showlakes": true,
           "lakecolor": "white"
          },
          "title": {
           "x": 0.05
          },
          "mapbox": {
           "style": "light"
          }
         }
        },
        "shapes": [
         {
          "line": {
           "color": "green",
           "width": 1
          },
          "type": "line",
          "x0": 0,
          "x1": 0,
          "y0": 55729.739747899155,
          "y1": 1.4590774225313116E7
         },
         {
          "line": {
           "color": "red",
           "width": 1
          },
          "type": "line",
          "x0": 1,
          "x1": 1,
          "y0": 2265442.379182156,
          "y1": 893369.0630806452
         },
         {
          "line": {
           "color": "red",
           "width": 1
          },
          "type": "line",
          "x0": 2,
          "x1": 2,
          "y0": 5599594.563894523,
          "y1": 3166895.6642580647
         },
         {
          "line": {
           "color": "red",
           "width": 1
          },
          "type": "line",
          "x0": 3,
          "x1": 3,
          "y0": 6675387.812323944,
          "y1": 3734555.490258065
         },
         {
          "line": {
           "color": "red",
           "width": 1
          },
          "type": "line",
          "x0": 4,
          "x1": 4,
          "y0": 7306572.135899903,
          "y1": 413930.6931866193
         },
         {
          "line": {
           "color": "red",
           "width": 1
          },
          "type": "line",
          "x0": 5,
          "x1": 5,
          "y0": 9195277.43772242,
          "y1": 5060794.463667819
         },
         {
          "line": {
           "color": "red",
           "width": 1
          },
          "type": "line",
          "x0": 6,
          "x1": 6,
          "y0": 1.804371440747405E7,
          "y1": 4647881.54280702
         },
         {
          "line": {
           "color": "green",
           "width": 1
          },
          "type": "line",
          "x0": 7,
          "x1": 7,
          "y0": 2.7869543590163045E7,
          "y1": 3.0251820872288786E7
         },
         {
          "line": {
           "color": "green",
           "width": 1
          },
          "type": "line",
          "x0": 8,
          "x1": 8,
          "y0": 3.906415629360915E7,
          "y1": 7.647695514524907E7
         },
         {
          "line": {
           "color": "red",
           "width": 1
          },
          "type": "line",
          "x0": 9,
          "x1": 9,
          "y0": 4.077796282527881E7,
          "y1": 1.0062941801919013E7
         },
         {
          "line": {
           "color": "green",
           "width": 1
          },
          "type": "line",
          "x0": 10,
          "x1": 10,
          "y0": 4.350207015384615E7,
          "y1": 4.350207015384615E7
         },
         {
          "line": {
           "color": "red",
           "width": 1
          },
          "type": "line",
          "x0": 11,
          "x1": 11,
          "y0": 4.393878588347664E7,
          "y1": 1.9112322659092024E7
         },
         {
          "line": {
           "color": "red",
           "width": 1
          },
          "type": "line",
          "x0": 12,
          "x1": 12,
          "y0": 4.488348962655602E7,
          "y1": 2.2996377358490564E7
         },
         {
          "line": {
           "color": "red",
           "width": 1
          },
          "type": "line",
          "x0": 13,
          "x1": 13,
          "y0": 4.744504078070652E7,
          "y1": 1.3226061290042542E7
         },
         {
          "line": {
           "color": "red",
           "width": 1
          },
          "type": "line",
          "x0": 14,
          "x1": 14,
          "y0": 5.594632157676348E7,
          "y1": 2.299637735849057E7
         },
         {
          "line": {
           "color": "red",
           "width": 1
          },
          "type": "line",
          "x0": 15,
          "x1": 15,
          "y0": 5.60154557492516E7,
          "y1": 2.7871801711719163E7
         },
         {
          "line": {
           "color": "red",
           "width": 1
          },
          "type": "line",
          "x0": 16,
          "x1": 16,
          "y0": 5.911866328408084E7,
          "y1": 4.050304838526397E7
         },
         {
          "line": {
           "color": "red",
           "width": 1
          },
          "type": "line",
          "x0": 17,
          "x1": 17,
          "y0": 6.4886776065386906E7,
          "y1": 4.90855979763584E7
         },
         {
          "line": {
           "color": "green",
           "width": 1
          },
          "type": "line",
          "x0": 18,
          "x1": 18,
          "y0": 7.440374340335742E7,
          "y1": 2.8710683075682986E8
         },
         {
          "line": {
           "color": "green",
           "width": 1
          },
          "type": "line",
          "x0": 19,
          "x1": 19,
          "y0": 7.718714876440808E7,
          "y1": 5.019427601648592E8
         },
         {
          "line": {
           "color": "red",
           "width": 1
          },
          "type": "line",
          "x0": 20,
          "x1": 20,
          "y0": 9.628130111524165E7,
          "y1": 2.3825745236647323E7
         },
         {
          "line": {
           "color": "red",
           "width": 1
          },
          "type": "line",
          "x0": 21,
          "x1": 21,
          "y0": 1.0623270030120483E8,
          "y1": 4.026180989051095E7
         },
         {
          "line": {
           "color": "green",
           "width": 1
          },
          "type": "line",
          "x0": 22,
          "x1": 22,
          "y0": 1.0831963918673201E8,
          "y1": 6.784016836676046E8
         },
         {
          "line": {
           "color": "red",
           "width": 1
          },
          "type": "line",
          "x0": 23,
          "x1": 23,
          "y0": 1.1314497419910584E8,
          "y1": 5.571201245795436E7
         },
         {
          "line": {
           "color": "red",
           "width": 1
          },
          "type": "line",
          "x0": 24,
          "x1": 24,
          "y0": 1.2465715510175976E8,
          "y1": 5.616337958443466E7
         },
         {
          "line": {
           "color": "red",
           "width": 1
          },
          "type": "line",
          "x0": 25,
          "x1": 25,
          "y0": 1.3282366849204724E8,
          "y1": 1.825523787962617E7
         },
         {
          "line": {
           "color": "red",
           "width": 1
          },
          "type": "line",
          "x0": 26,
          "x1": 26,
          "y0": 1.3557854755638036E8,
          "y1": 6.825601190548202E7
         },
         {
          "line": {
           "color": "red",
           "width": 1
          },
          "type": "line",
          "x0": 27,
          "x1": 27,
          "y0": 1.359724949290061E8,
          "y1": 6.759459187135023E7
         },
         {
          "line": {
           "color": "red",
           "width": 1
          },
          "type": "line",
          "x0": 28,
          "x1": 28,
          "y0": 1.4329759815195423E8,
          "y1": 1.2884874179713428E8
         },
         {
          "line": {
           "color": "green",
           "width": 1
          },
          "type": "line",
          "x0": 29,
          "x1": 29,
          "y0": 1.4680424029126212E8,
          "y1": 5.523670018029717E8
         },
         {
          "line": {
           "color": "red",
           "width": 1
          },
          "type": "line",
          "x0": 30,
          "x1": 30,
          "y0": 1.806639560069697E8,
          "y1": 1.5868469589451402E7
         },
         {
          "line": {
           "color": "red",
           "width": 1
          },
          "type": "line",
          "x0": 31,
          "x1": 31,
          "y0": 1.8100048506151143E8,
          "y1": 3.2486985227551013E7
         },
         {
          "line": {
           "color": "red",
           "width": 1
          },
          "type": "line",
          "x0": 32,
          "x1": 32,
          "y0": 1.907261464097363E8,
          "y1": 3.613646193658143E7
         },
         {
          "line": {
           "color": "red",
           "width": 1
          },
          "type": "line",
          "x0": 33,
          "x1": 33,
          "y0": 1.998365919057269E8,
          "y1": 1.5313896057161415E8
         },
         {
          "line": {
           "color": "red",
           "width": 1
          },
          "type": "line",
          "x0": 34,
          "x1": 34,
          "y0": 2.370186438300813E8,
          "y1": 1.9972355094531217E8
         },
         {
          "line": {
           "color": "green",
           "width": 1
          },
          "type": "line",
          "x0": 35,
          "x1": 35,
          "y0": 2.381276746832339E8,
          "y1": 3.575395919071995E8
         },
         {
          "line": {
           "color": "red",
           "width": 1
          },
          "type": "line",
          "x0": 36,
          "x1": 36,
          "y0": 2.3841960250509658E8,
          "y1": 1.5702829159892026E8
         },
         {
          "line": {
           "color": "green",
           "width": 1
          },
          "type": "line",
          "x0": 37,
          "x1": 37,
          "y0": 2.4392449599468097E8,
          "y1": 4.137152411639565E8
         },
         {
          "line": {
           "color": "red",
           "width": 1
          },
          "type": "line",
          "x0": 38,
          "x1": 38,
          "y0": 2.4431326257112858E8,
          "y1": 9.753664984686604E7
         },
         {
          "line": {
           "color": "green",
           "width": 1
          },
          "type": "line",
          "x0": 39,
          "x1": 39,
          "y0": 2.6337968872300613E8,
          "y1": 2.745209667562976E8
         },
         {
          "line": {
           "color": "green",
           "width": 1
          },
          "type": "line",
          "x0": 40,
          "x1": 40,
          "y0": 2.6632995335626563E8,
          "y1": 4.482706239911884E8
         },
         {
          "line": {
           "color": "green",
           "width": 1
          },
          "type": "line",
          "x0": 41,
          "x1": 41,
          "y0": 2.706656580740741E8,
          "y1": 7.611589856006186E8
         },
         {
          "line": {
           "color": "green",
           "width": 1
          },
          "type": "line",
          "x0": 42,
          "x1": 42,
          "y0": 2.827231169740682E8,
          "y1": 4.5264733365386957E8
         },
         {
          "line": {
           "color": "green",
           "width": 1
          },
          "type": "line",
          "x0": 43,
          "x1": 43,
          "y0": 2.853483796565518E8,
          "y1": 3.735203771339541E8
         },
         {
          "line": {
           "color": "red",
           "width": 1
          },
          "type": "line",
          "x0": 44,
          "x1": 44,
          "y0": 2.9749180696732795E8,
          "y1": 3.4795622584282994E7
         },
         {
          "line": {
           "color": "red",
           "width": 1
          },
          "type": "line",
          "x0": 45,
          "x1": 45,
          "y0": 2.98216543377748E8,
          "y1": 1.23364379451285E7
         },
         {
          "line": {
           "color": "red",
           "width": 1
          },
          "type": "line",
          "x0": 46,
          "x1": 46,
          "y0": 3.085978184511893E8,
          "y1": 8.572872550122279E7
         },
         {
          "line": {
           "color": "green",
           "width": 1
          },
          "type": "line",
          "x0": 47,
          "x1": 47,
          "y0": 3.2242387333762324E8,
          "y1": 1.8185324382491298E9
         },
         {
          "line": {
           "color": "red",
           "width": 1
          },
          "type": "line",
          "x0": 48,
          "x1": 48,
          "y0": 3.262452346565905E8,
          "y1": 1.9255062705964923E8
         },
         {
          "line": {
           "color": "red",
           "width": 1
          },
          "type": "line",
          "x0": 49,
          "x1": 49,
          "y0": 3.271340490797546E8,
          "y1": 3.2665118905944324E8
         },
         {
          "line": {
           "color": "red",
           "width": 1
          },
          "type": "line",
          "x0": 50,
          "x1": 50,
          "y0": 3.360590459491778E8,
          "y1": 3.2722394106730217E8
         },
         {
          "line": {
           "color": "green",
           "width": 1
          },
          "type": "line",
          "x0": 51,
          "x1": 51,
          "y0": 3.515416728981947E8,
          "y1": 3.515416728981947E8
         },
         {
          "line": {
           "color": "green",
           "width": 1
          },
          "type": "line",
          "x0": 52,
          "x1": 52,
          "y0": 3.625161540925403E8,
          "y1": 1.1161181595522537E9
         },
         {
          "line": {
           "color": "green",
           "width": 1
          },
          "type": "line",
          "x0": 53,
          "x1": 53,
          "y0": 3.6257208562224853E8,
          "y1": 5.595864912317369E8
         },
         {
          "line": {
           "color": "red",
           "width": 1
          },
          "type": "line",
          "x0": 54,
          "x1": 54,
          "y0": 3.6275704833388436E8,
          "y1": 2.237155636800959E8
         },
         {
          "line": {
           "color": "red",
           "width": 1
          },
          "type": "line",
          "x0": 55,
          "x1": 55,
          "y0": 3.8429085389987564E8,
          "y1": 1.5033025732255602E8
         },
         {
          "line": {
           "color": "green",
           "width": 1
          },
          "type": "line",
          "x0": 56,
          "x1": 56,
          "y0": 3.90300968587139E8,
          "y1": 4.6018678880396414E8
         },
         {
          "line": {
           "color": "green",
           "width": 1
          },
          "type": "line",
          "x0": 57,
          "x1": 57,
          "y0": 3.953639613949016E8,
          "y1": 6.471082719898751E8
         },
         {
          "line": {
           "color": "red",
           "width": 1
          },
          "type": "line",
          "x0": 58,
          "x1": 58,
          "y0": 4.108341573033708E8,
          "y1": 4.814065055762082E7
         },
         {
          "line": {
           "color": "red",
           "width": 1
          },
          "type": "line",
          "x0": 59,
          "x1": 59,
          "y0": 4.1969972451790637E8,
          "y1": 1.0259684191206318E8
         },
         {
          "line": {
           "color": "green",
           "width": 1
          },
          "type": "line",
          "x0": 60,
          "x1": 60,
          "y0": 4.403984797286777E8,
          "y1": 7.113586619925973E8
         },
         {
          "line": {
           "color": "green",
           "width": 1
          },
          "type": "line",
          "x0": 61,
          "x1": 61,
          "y0": 4.674567968430452E8,
          "y1": 8.305597072693527E8
         },
         {
          "line": {
           "color": "red",
           "width": 1
          },
          "type": "line",
          "x0": 62,
          "x1": 62,
          "y0": 4.852443342775044E8,
          "y1": 1.309779339817518E7
         },
         {
          "line": {
           "color": "red",
           "width": 1
          },
          "type": "line",
          "x0": 63,
          "x1": 63,
          "y0": 5.1576191264074755E8,
          "y1": 4.247737143541877E8
         },
         {
          "line": {
           "color": "red",
           "width": 1
          },
          "type": "line",
          "x0": 64,
          "x1": 64,
          "y0": 5.504387512681595E8,
          "y1": 3.029889657001016E8
         },
         {
          "line": {
           "color": "green",
           "width": 1
          },
          "type": "line",
          "x0": 65,
          "x1": 65,
          "y0": 6.013324238410596E8,
          "y1": 1.3736560136349243E10
         },
         {
          "line": {
           "color": "green",
           "width": 1
          },
          "type": "line",
          "x0": 66,
          "x1": 66,
          "y0": 6.101711734158884E8,
          "y1": 9.594114409766854E8
         },
         {
          "line": {
           "color": "green",
           "width": 1
          },
          "type": "line",
          "x0": 67,
          "x1": 67,
          "y0": 6.491340514367537E8,
          "y1": 2.249906915326024E9
         },
         {
          "line": {
           "color": "green",
           "width": 1
          },
          "type": "line",
          "x0": 68,
          "x1": 68,
          "y0": 7.236847163823621E8,
          "y1": 8.870653965885832E8
         },
         {
          "line": {
           "color": "green",
           "width": 1
          },
          "type": "line",
          "x0": 69,
          "x1": 69,
          "y0": 7.607187315426891E8,
          "y1": 1.3126898107399123E9
         },
         {
          "line": {
           "color": "green",
           "width": 1
          },
          "type": "line",
          "x0": 70,
          "x1": 70,
          "y0": 7.754625468057595E8,
          "y1": 1.0426119376712116E9
         },
         {
          "line": {
           "color": "red",
           "width": 1
          },
          "type": "line",
          "x0": 71,
          "x1": 71,
          "y0": 7.891558063918041E8,
          "y1": 1.5084257425742567E8
         },
         {
          "line": {
           "color": "green",
           "width": 1
          },
          "type": "line",
          "x0": 72,
          "x1": 72,
          "y0": 8.310745817462467E8,
          "y1": 8.524010647922045E8
         },
         {
          "line": {
           "color": "green",
           "width": 1
          },
          "type": "line",
          "x0": 73,
          "x1": 73,
          "y0": 8.334300256523772E8,
          "y1": 2.657849440709842E9
         },
         {
          "line": {
           "color": "green",
           "width": 1
          },
          "type": "line",
          "x0": 74,
          "x1": 74,
          "y0": 9.277735357801347E8,
          "y1": 1.0496729265969386E9
         },
         {
          "line": {
           "color": "red",
           "width": 1
          },
          "type": "line",
          "x0": 75,
          "x1": 75,
          "y0": 9.607720720720721E8,
          "y1": 3.39956776859504E7
         },
         {
          "line": {
           "color": "red",
           "width": 1
          },
          "type": "line",
          "x0": 76,
          "x1": 76,
          "y0": 9.974671149438951E8,
          "y1": 1.860777038952973E8
         },
         {
          "line": {
           "color": "green",
           "width": 1
          },
          "type": "line",
          "x0": 77,
          "x1": 77,
          "y0": 1.0870579758468773E9,
          "y1": 1.3857613669997833E9
         },
         {
          "line": {
           "color": "red",
           "width": 1
          },
          "type": "line",
          "x0": 78,
          "x1": 78,
          "y0": 1.1112989582390974E9,
          "y1": 9.297956571949387E8
         },
         {
          "line": {
           "color": "green",
           "width": 1
          },
          "type": "line",
          "x0": 79,
          "x1": 79,
          "y0": 1.3917523007604334E9,
          "y1": 2.5734326615231514E9
         },
         {
          "line": {
           "color": "red",
           "width": 1
          },
          "type": "line",
          "x0": 80,
          "x1": 80,
          "y0": 1.4030219405005522E9,
          "y1": 4.0470487038883066E8
         },
         {
          "line": {
           "color": "green",
           "width": 1
          },
          "type": "line",
          "x0": 81,
          "x1": 81,
          "y0": 1.6770745965807004E9,
          "y1": 6.881528048318411E9
         },
         {
          "line": {
           "color": "red",
           "width": 1
          },
          "type": "line",
          "x0": 82,
          "x1": 82,
          "y0": 1.8778730617851498E9,
          "y1": 2.2472368490488052E8
         },
         {
          "line": {
           "color": "red",
           "width": 1
          },
          "type": "line",
          "x0": 83,
          "x1": 83,
          "y0": 1.9287765608085537E9,
          "y1": 6.34490401264359E8
         },
         {
          "line": {
           "color": "red",
           "width": 1
          },
          "type": "line",
          "x0": 84,
          "x1": 84,
          "y0": 2.6655931302230487E9,
          "y1": 4.083321327924237E8
         },
         {
          "line": {
           "color": "red",
           "width": 1
          },
          "type": "line",
          "x0": 85,
          "x1": 85,
          "y0": 3.026919351209955E9,
          "y1": 3.714044329373784E8
         },
         {
          "line": {
           "color": "red",
           "width": 1
          },
          "type": "line",
          "x0": 86,
          "x1": 86,
          "y0": 4.999489662533742E9,
          "y1": 5.283713596812534E7
         }
        ],
        "yaxis": {
         "title": {
          "text": "Box office revenue"
         },
         "type": "log"
        },
        "title": {
         "text": "First movie vs Box office revenue of all sequels"
        },
        "xaxis": {
         "title": {
          "text": "Collection"
         }
        },
        "width": 1000,
        "height": 600
       },
       "config": {
        "plotlyServerURL": "https://plot.ly"
       }
      },
      "text/html": [
       "<div>                            <div id=\"cb74ea3d-e45b-4181-8955-833caf2db707\" class=\"plotly-graph-div\" style=\"height:600px; width:1000px;\"></div>            <script type=\"text/javascript\">                require([\"plotly\"], function(Plotly) {                    window.PLOTLYENV=window.PLOTLYENV || {};                                    if (document.getElementById(\"cb74ea3d-e45b-4181-8955-833caf2db707\")) {                    Plotly.newPlot(                        \"cb74ea3d-e45b-4181-8955-833caf2db707\",                        [{\"hoverinfo\":\"text\",\"marker\":{\"color\":\"blue\"},\"mode\":\"markers\",\"name\":\"First movie \\u003cbr\\u003ebox office revenue\",\"text\":[\"The Boondock Saints Collection\\u003cbr\\u003eFirst movie box office revenue: 55.7K\",\"The Toxic Avenger Collection\\u003cbr\\u003eFirst movie box office revenue: 2.27M\",\"Flesh Gordon Collection\\u003cbr\\u003eFirst movie box office revenue: 5.6M\",\"The Stepfather Collection\\u003cbr\\u003eFirst movie box office revenue: 6.68M\",\"Silent Night, Deadly Night Collection\\u003cbr\\u003eFirst movie box office revenue: 7.31M\",\"The Amazing Colossal Man Collection\\u003cbr\\u003eFirst movie box office revenue: 9.2M\",\"Leprechaun Collection\\u003cbr\\u003eFirst movie box office revenue: 18M\",\"Firefly Collection\\u003cbr\\u003eFirst movie box office revenue: 27.9M\",\"Hellraiser Collection\\u003cbr\\u003eFirst movie box office revenue: 39.1M\",\"Allan Quatermain Collection\\u003cbr\\u003eFirst movie box office revenue: 40.8M\",\"King Kong (1933) Collection\\u003cbr\\u003eFirst movie box office revenue: 43.5M\",\"Air Bud Collection\\u003cbr\\u003eFirst movie box office revenue: 43.9M\",\"Cochise Collection\\u003cbr\\u003eFirst movie box office revenue: 44.9M\",\"Wrong Turn Collection\\u003cbr\\u003eFirst movie box office revenue: 47.4M\",\"Cheaper by the Dozen (1950) Collection\\u003cbr\\u003eFirst movie box office revenue: 55.9M\",\"Candyman Collection\\u003cbr\\u003eFirst movie box office revenue: 56M\",\"The Neverending Story Collection\\u003cbr\\u003eFirst movie box office revenue: 59.1M\",\"Crank Collection\\u003cbr\\u003eFirst movie box office revenue: 64.9M\",\"The Transporter Collection\\u003cbr\\u003eFirst movie box office revenue: 74.4M\",\"A Nightmare on Elm Street Collection\\u003cbr\\u003eFirst movie box office revenue: 77.2M\",\"Return of the Living Dead Collection\\u003cbr\\u003eFirst movie box office revenue: 96.3M\",\"Psycho Collection\\u003cbr\\u003eFirst movie box office revenue: 106M\",\"The Pink Panther (Original) Collection\\u003cbr\\u003eFirst movie box office revenue: 108M\",\"Short Circuit Collection\\u003cbr\\u003eFirst movie box office revenue: 113M\",\"Problem Child Collection\\u003cbr\\u003eFirst movie box office revenue: 125M\",\"Power Rangers Collection\\u003cbr\\u003eFirst movie box office revenue: 133M\",\"Urban Legend Collection\\u003cbr\\u003eFirst movie box office revenue: 136M\",\"Death Wish Collection\\u003cbr\\u003eFirst movie box office revenue: 136M\",\"RoboCop Collection\\u003cbr\\u003eFirst movie box office revenue: 143M\",\"Friday the 13th Collection\\u003cbr\\u003eFirst movie box office revenue: 147M\",\"Meatballs Collection\\u003cbr\\u003eFirst movie box office revenue: 181M\",\"Carrie Collection\\u003cbr\\u003eFirst movie box office revenue: 181M\",\"Texas Chainsaw Massacre Collection\\u003cbr\\u003eFirst movie box office revenue: 191M\",\"Father of the Bride (Steve Martin) Collection\\u003cbr\\u003eFirst movie box office revenue: 200M\",\"Pok\\u00e9mon Collection\\u003cbr\\u003eFirst movie box office revenue: 237M\",\"Police Academy Collection\\u003cbr\\u003eFirst movie box office revenue: 238M\",\"I Know What You Did Last Summer Collection\\u003cbr\\u003eFirst movie box office revenue: 238M\",\"Legally Blonde Collection\\u003cbr\\u003eFirst movie box office revenue: 244M\",\"Mortal Kombat Collection\\u003cbr\\u003eFirst movie box office revenue: 244M\",\"Rugrats Collection\\u003cbr\\u003eFirst movie box office revenue: 263M\",\"The Karate Kid Collection\\u003cbr\\u003eFirst movie box office revenue: 266M\",\"Dirty Harry Collection\\u003cbr\\u003eFirst movie box office revenue: 271M\",\"Bad Boys Collection\\u003cbr\\u003eFirst movie box office revenue: 283M\",\"Planet of the Apes (Original) Collection\\u003cbr\\u003eFirst movie box office revenue: 285M\",\"The Crow Collection\\u003cbr\\u003eFirst movie box office revenue: 297M\",\"Open Season Collection\\u003cbr\\u003eFirst movie box office revenue: 298M\",\"Airplane Collection\\u003cbr\\u003eFirst movie box office revenue: 309M\",\"Lethal Weapon Collection\\u003cbr\\u003eFirst movie box office revenue: 322M\",\"The Omen Collection\\u003cbr\\u003eFirst movie box office revenue: 326M\",\"Halloween Collection\\u003cbr\\u003eFirst movie box office revenue: 327M\",\"Scream Collection\\u003cbr\\u003eFirst movie box office revenue: 336M\",\"Red Cliff Collection\\u003cbr\\u003eFirst movie box office revenue: 352M\",\"The Bourne Collection\\u003cbr\\u003eFirst movie box office revenue: 363M\",\"Die Hard Collection\\u003cbr\\u003eFirst movie box office revenue: 363M\",\"The Amityville Collection\\u003cbr\\u003eFirst movie box office revenue: 363M\",\"Poltergeist Collection\\u003cbr\\u003eFirst movie box office revenue: 384M\",\"The Santa Clause Collection\\u003cbr\\u003eFirst movie box office revenue: 390M\",\"Rambo Collection\\u003cbr\\u003eFirst movie box office revenue: 395M\",\"Demetrius Collection\\u003cbr\\u003eFirst movie box office revenue: 411M\",\"Mad Max Collection\\u003cbr\\u003eFirst movie box office revenue: 420M\",\"Alien Collection\\u003cbr\\u003eFirst movie box office revenue: 440M\",\"The Jack Ryan Collection\\u003cbr\\u003eFirst movie box office revenue: 467M\",\"King Kong (1976) Collection\\u003cbr\\u003eFirst movie box office revenue: 485M\",\"Fantastic Four Collection\\u003cbr\\u003eFirst movie box office revenue: 516M\",\"Dr. Dolittle Collection\\u003cbr\\u003eFirst movie box office revenue: 550M\",\"James Bond Collection\\u003cbr\\u003eFirst movie box office revenue: 601M\",\"The Hannibal Lecter Collection\\u003cbr\\u003eFirst movie box office revenue: 610M\",\"Ice Age Collection\\u003cbr\\u003eFirst movie box office revenue: 649M\",\"Toy Story Collection\\u003cbr\\u003eFirst movie box office revenue: 724M\",\"The Mummy Collection\\u003cbr\\u003eFirst movie box office revenue: 761M\",\"Ocean's Collection\\u003cbr\\u003eFirst movie box office revenue: 775M\",\"Airport Collection\\u003cbr\\u003eFirst movie box office revenue: 789M\",\"Madagascar Collection\\u003cbr\\u003eFirst movie box office revenue: 831M\",\"Shrek Collection\\u003cbr\\u003eFirst movie box office revenue: 833M\",\"Beverly Hills Cop Collection\\u003cbr\\u003eFirst movie box office revenue: 928M\",\"American Graffiti Collection\\u003cbr\\u003eFirst movie box office revenue: 961M\",\"Peter Pan Collection\\u003cbr\\u003eFirst movie box office revenue: 997M\",\"Back to the Future Collection\\u003cbr\\u003eFirst movie box office revenue: 1.09B\",\"Home Alone Collection\\u003cbr\\u003eFirst movie box office revenue: 1.11B\",\"Spider-Man Collection\\u003cbr\\u003eFirst movie box office revenue: 1.39B\",\"Superman Collection\\u003cbr\\u003eFirst movie box office revenue: 1.4B\",\"Harry Potter Collection\\u003cbr\\u003eFirst movie box office revenue: 1.68B\",\"The Jungle Book Collection\\u003cbr\\u003eFirst movie box office revenue: 1.88B\",\"Jurassic Park Collection\\u003cbr\\u003eFirst movie box office revenue: 1.93B\",\"Jaws Collection\\u003cbr\\u003eFirst movie box office revenue: 2.67B\",\"The Exorcist Collection\\u003cbr\\u003eFirst movie box office revenue: 3.03B\",\"Bambi Collection\\u003cbr\\u003eFirst movie box office revenue: 5B\"],\"x\":[0,1,2,3,4,5,6,7,8,9,10,11,12,13,14,15,16,17,18,19,20,21,22,23,24,25,26,27,28,29,30,31,32,33,34,35,36,37,38,39,40,41,42,43,44,45,46,47,48,49,50,51,52,53,54,55,56,57,58,59,60,61,62,63,64,65,66,67,68,69,70,71,72,73,74,75,76,77,78,79,80,81,82,83,84,85,86],\"y\":[55729.739747899155,2265442.379182156,5599594.563894523,6675387.812323944,7306572.135899903,9195277.43772242,18043714.40747405,27869543.590163045,39064156.29360915,40777962.82527881,43502070.15384615,43938785.88347664,44883489.62655602,47445040.78070652,55946321.57676348,56015455.7492516,59118663.28408084,64886776.065386906,74403743.40335742,77187148.76440808,96281301.11524165,106232700.30120483,108319639.18673201,113144974.19910584,124657155.10175976,132823668.49204724,135578547.55638036,135972494.9290061,143297598.15195423,146804240.29126212,180663956.0069697,181000485.06151143,190726146.4097363,199836591.9057269,237018643.8300813,238127674.6832339,238419602.50509658,243924495.99468097,244313262.57112858,263379688.72300613,266329953.35626563,270665658.0740741,282723116.9740682,285348379.6565518,297491806.96732795,298216543.377748,308597818.4511893,322423873.33762324,326245234.6565905,327134049.0797546,336059045.9491778,351541672.8981947,362516154.0925403,362572085.62224853,362757048.33388436,384290853.89987564,390300968.587139,395363961.3949016,410834157.3033708,419699724.51790637,440398479.7286777,467456796.8430452,485244334.2775044,515761912.64074755,550438751.2681595,601332423.8410596,610171173.4158884,649134051.4367537,723684716.3823621,760718731.5426891,775462546.8057595,789155806.3918041,831074581.7462467,833430025.6523772,927773535.7801347,960772072.0720721,997467114.9438951,1087057975.8468773,1111298958.2390974,1391752300.7604334,1403021940.5005522,1677074596.5807004,1877873061.7851498,1928776560.8085537,2665593130.2230487,3026919351.209955,4999489662.533742],\"type\":\"scatter\"},{\"hoverinfo\":\"text\",\"marker\":{\"color\":\"lightblue\"},\"mode\":\"markers\",\"name\":\"Sequel movie \\u003cbr\\u003ebox office revenue\",\"text\":[\"The Boondock Saints Collection\\u003cbr\\u003eSequel movie box office revenue: 14.6M\",\"The Toxic Avenger Collection\\u003cbr\\u003eSequel movie box office revenue: 893K\",\"Flesh Gordon Collection\\u003cbr\\u003eSequel movie box office revenue: 3.17M\",\"The Stepfather Collection\\u003cbr\\u003eSequel movie box office revenue: 3.73M\",\"Silent Night, Deadly Night Collection\\u003cbr\\u003eSequel movie box office revenue: 414K\",\"The Amazing Colossal Man Collection\\u003cbr\\u003eSequel movie box office revenue: 5.06M\",\"Leprechaun Collection\\u003cbr\\u003eSequel movie box office revenue: 4.65M\",\"Firefly Collection\\u003cbr\\u003eSequel movie box office revenue: 30.3M\",\"Hellraiser Collection\\u003cbr\\u003eSequel movie box office revenue: 76.5M\",\"Allan Quatermain Collection\\u003cbr\\u003eSequel movie box office revenue: 10.1M\",\"King Kong (1933) Collection\\u003cbr\\u003eSequel movie box office revenue: 43.5M\",\"Air Bud Collection\\u003cbr\\u003eSequel movie box office revenue: 19.1M\",\"Cochise Collection\\u003cbr\\u003eSequel movie box office revenue: 23M\",\"Wrong Turn Collection\\u003cbr\\u003eSequel movie box office revenue: 13.2M\",\"Cheaper by the Dozen (1950) Collection\\u003cbr\\u003eSequel movie box office revenue: 23M\",\"Candyman Collection\\u003cbr\\u003eSequel movie box office revenue: 27.9M\",\"The Neverending Story Collection\\u003cbr\\u003eSequel movie box office revenue: 40.5M\",\"Crank Collection\\u003cbr\\u003eSequel movie box office revenue: 49.1M\",\"The Transporter Collection\\u003cbr\\u003eSequel movie box office revenue: 287M\",\"A Nightmare on Elm Street Collection\\u003cbr\\u003eSequel movie box office revenue: 502M\",\"Return of the Living Dead Collection\\u003cbr\\u003eSequel movie box office revenue: 23.8M\",\"Psycho Collection\\u003cbr\\u003eSequel movie box office revenue: 40.3M\",\"The Pink Panther (Original) Collection\\u003cbr\\u003eSequel movie box office revenue: 678M\",\"Short Circuit Collection\\u003cbr\\u003eSequel movie box office revenue: 55.7M\",\"Problem Child Collection\\u003cbr\\u003eSequel movie box office revenue: 56.2M\",\"Power Rangers Collection\\u003cbr\\u003eSequel movie box office revenue: 18.3M\",\"Urban Legend Collection\\u003cbr\\u003eSequel movie box office revenue: 68.3M\",\"Death Wish Collection\\u003cbr\\u003eSequel movie box office revenue: 67.6M\",\"RoboCop Collection\\u003cbr\\u003eSequel movie box office revenue: 129M\",\"Friday the 13th Collection\\u003cbr\\u003eSequel movie box office revenue: 552M\",\"Meatballs Collection\\u003cbr\\u003eSequel movie box office revenue: 15.9M\",\"Carrie Collection\\u003cbr\\u003eSequel movie box office revenue: 32.5M\",\"Texas Chainsaw Massacre Collection\\u003cbr\\u003eSequel movie box office revenue: 36.1M\",\"Father of the Bride (Steve Martin) Collection\\u003cbr\\u003eSequel movie box office revenue: 153M\",\"Pok\\u00e9mon Collection\\u003cbr\\u003eSequel movie box office revenue: 200M\",\"Police Academy Collection\\u003cbr\\u003eSequel movie box office revenue: 358M\",\"I Know What You Did Last Summer Collection\\u003cbr\\u003eSequel movie box office revenue: 157M\",\"Legally Blonde Collection\\u003cbr\\u003eSequel movie box office revenue: 414M\",\"Mortal Kombat Collection\\u003cbr\\u003eSequel movie box office revenue: 97.5M\",\"Rugrats Collection\\u003cbr\\u003eSequel movie box office revenue: 275M\",\"The Karate Kid Collection\\u003cbr\\u003eSequel movie box office revenue: 448M\",\"Dirty Harry Collection\\u003cbr\\u003eSequel movie box office revenue: 761M\",\"Bad Boys Collection\\u003cbr\\u003eSequel movie box office revenue: 453M\",\"Planet of the Apes (Original) Collection\\u003cbr\\u003eSequel movie box office revenue: 374M\",\"The Crow Collection\\u003cbr\\u003eSequel movie box office revenue: 34.8M\",\"Open Season Collection\\u003cbr\\u003eSequel movie box office revenue: 12.3M\",\"Airplane Collection\\u003cbr\\u003eSequel movie box office revenue: 85.7M\",\"Lethal Weapon Collection\\u003cbr\\u003eSequel movie box office revenue: 1.82B\",\"The Omen Collection\\u003cbr\\u003eSequel movie box office revenue: 193M\",\"Halloween Collection\\u003cbr\\u003eSequel movie box office revenue: 327M\",\"Scream Collection\\u003cbr\\u003eSequel movie box office revenue: 327M\",\"Red Cliff Collection\\u003cbr\\u003eSequel movie box office revenue: 352M\",\"The Bourne Collection\\u003cbr\\u003eSequel movie box office revenue: 1.12B\",\"Die Hard Collection\\u003cbr\\u003eSequel movie box office revenue: 560M\",\"The Amityville Collection\\u003cbr\\u003eSequel movie box office revenue: 224M\",\"Poltergeist Collection\\u003cbr\\u003eSequel movie box office revenue: 150M\",\"The Santa Clause Collection\\u003cbr\\u003eSequel movie box office revenue: 460M\",\"Rambo Collection\\u003cbr\\u003eSequel movie box office revenue: 647M\",\"Demetrius Collection\\u003cbr\\u003eSequel movie box office revenue: 48.1M\",\"Mad Max Collection\\u003cbr\\u003eSequel movie box office revenue: 103M\",\"Alien Collection\\u003cbr\\u003eSequel movie box office revenue: 711M\",\"The Jack Ryan Collection\\u003cbr\\u003eSequel movie box office revenue: 831M\",\"King Kong (1976) Collection\\u003cbr\\u003eSequel movie box office revenue: 13.1M\",\"Fantastic Four Collection\\u003cbr\\u003eSequel movie box office revenue: 425M\",\"Dr. Dolittle Collection\\u003cbr\\u003eSequel movie box office revenue: 303M\",\"James Bond Collection\\u003cbr\\u003eSequel movie box office revenue: 13.7B\",\"The Hannibal Lecter Collection\\u003cbr\\u003eSequel movie box office revenue: 959M\",\"Ice Age Collection\\u003cbr\\u003eSequel movie box office revenue: 2.25B\",\"Toy Story Collection\\u003cbr\\u003eSequel movie box office revenue: 887M\",\"The Mummy Collection\\u003cbr\\u003eSequel movie box office revenue: 1.31B\",\"Ocean's Collection\\u003cbr\\u003eSequel movie box office revenue: 1.04B\",\"Airport Collection\\u003cbr\\u003eSequel movie box office revenue: 151M\",\"Madagascar Collection\\u003cbr\\u003eSequel movie box office revenue: 852M\",\"Shrek Collection\\u003cbr\\u003eSequel movie box office revenue: 2.66B\",\"Beverly Hills Cop Collection\\u003cbr\\u003eSequel movie box office revenue: 1.05B\",\"American Graffiti Collection\\u003cbr\\u003eSequel movie box office revenue: 34M\",\"Peter Pan Collection\\u003cbr\\u003eSequel movie box office revenue: 186M\",\"Back to the Future Collection\\u003cbr\\u003eSequel movie box office revenue: 1.39B\",\"Home Alone Collection\\u003cbr\\u003eSequel movie box office revenue: 930M\",\"Spider-Man Collection\\u003cbr\\u003eSequel movie box office revenue: 2.57B\",\"Superman Collection\\u003cbr\\u003eSequel movie box office revenue: 405M\",\"Harry Potter Collection\\u003cbr\\u003eSequel movie box office revenue: 6.88B\",\"The Jungle Book Collection\\u003cbr\\u003eSequel movie box office revenue: 225M\",\"Jurassic Park Collection\\u003cbr\\u003eSequel movie box office revenue: 634M\",\"Jaws Collection\\u003cbr\\u003eSequel movie box office revenue: 408M\",\"The Exorcist Collection\\u003cbr\\u003eSequel movie box office revenue: 371M\",\"Bambi Collection\\u003cbr\\u003eSequel movie box office revenue: 52.8M\"],\"x\":[0,1,2,3,4,5,6,7,8,9,10,11,12,13,14,15,16,17,18,19,20,21,22,23,24,25,26,27,28,29,30,31,32,33,34,35,36,37,38,39,40,41,42,43,44,45,46,47,48,49,50,51,52,53,54,55,56,57,58,59,60,61,62,63,64,65,66,67,68,69,70,71,72,73,74,75,76,77,78,79,80,81,82,83,84,85,86],\"y\":[14590774.225313116,893369.0630806452,3166895.6642580647,3734555.490258065,413930.6931866193,5060794.463667819,4647881.54280702,30251820.872288786,76476955.14524907,10062941.801919013,43502070.15384615,19112322.659092024,22996377.358490564,13226061.290042542,22996377.35849057,27871801.711719163,40503048.38526397,49085597.9763584,287106830.75682986,501942760.1648592,23825745.236647323,40261809.89051095,678401683.6676046,55712012.45795436,56163379.58443466,18255237.87962617,68256011.90548202,67594591.87135023,128848741.79713428,552367001.8029717,15868469.589451402,32486985.227551013,36136461.93658143,153138960.57161415,199723550.94531217,357539591.9071995,157028291.59892026,413715241.1639565,97536649.84686604,274520966.7562976,448270623.9911884,761158985.6006186,452647333.65386957,373520377.1339541,34795622.584282994,12336437.9451285,85728725.50122279,1818532438.2491298,192550627.05964923,326651189.05944324,327223941.06730217,351541672.8981947,1116118159.5522537,559586491.2317369,223715563.6800959,150330257.32255602,460186788.80396414,647108271.9898751,48140650.55762082,102596841.91206318,711358661.9925973,830559707.2693527,13097793.39817518,424773714.3541877,302988965.7001016,13736560136.349243,959411440.9766854,2249906915.326024,887065396.5885832,1312689810.7399123,1042611937.6712116,150842574.25742567,852401064.7922045,2657849440.709842,1049672926.5969386,33995677.6859504,186077703.8952973,1385761366.9997833,929795657.1949387,2573432661.5231514,404704870.38883066,6881528048.318411,224723684.90488052,634490401.264359,408332132.7924237,371404432.9373784,52837135.96812534],\"type\":\"scatter\"}],                        {\"template\":{\"data\":{\"histogram2dcontour\":[{\"type\":\"histogram2dcontour\",\"colorbar\":{\"outlinewidth\":0,\"ticks\":\"\"},\"colorscale\":[[0.0,\"#0d0887\"],[0.1111111111111111,\"#46039f\"],[0.2222222222222222,\"#7201a8\"],[0.3333333333333333,\"#9c179e\"],[0.4444444444444444,\"#bd3786\"],[0.5555555555555556,\"#d8576b\"],[0.6666666666666666,\"#ed7953\"],[0.7777777777777778,\"#fb9f3a\"],[0.8888888888888888,\"#fdca26\"],[1.0,\"#f0f921\"]]}],\"choropleth\":[{\"type\":\"choropleth\",\"colorbar\":{\"outlinewidth\":0,\"ticks\":\"\"}}],\"histogram2d\":[{\"type\":\"histogram2d\",\"colorbar\":{\"outlinewidth\":0,\"ticks\":\"\"},\"colorscale\":[[0.0,\"#0d0887\"],[0.1111111111111111,\"#46039f\"],[0.2222222222222222,\"#7201a8\"],[0.3333333333333333,\"#9c179e\"],[0.4444444444444444,\"#bd3786\"],[0.5555555555555556,\"#d8576b\"],[0.6666666666666666,\"#ed7953\"],[0.7777777777777778,\"#fb9f3a\"],[0.8888888888888888,\"#fdca26\"],[1.0,\"#f0f921\"]]}],\"heatmap\":[{\"type\":\"heatmap\",\"colorbar\":{\"outlinewidth\":0,\"ticks\":\"\"},\"colorscale\":[[0.0,\"#0d0887\"],[0.1111111111111111,\"#46039f\"],[0.2222222222222222,\"#7201a8\"],[0.3333333333333333,\"#9c179e\"],[0.4444444444444444,\"#bd3786\"],[0.5555555555555556,\"#d8576b\"],[0.6666666666666666,\"#ed7953\"],[0.7777777777777778,\"#fb9f3a\"],[0.8888888888888888,\"#fdca26\"],[1.0,\"#f0f921\"]]}],\"heatmapgl\":[{\"type\":\"heatmapgl\",\"colorbar\":{\"outlinewidth\":0,\"ticks\":\"\"},\"colorscale\":[[0.0,\"#0d0887\"],[0.1111111111111111,\"#46039f\"],[0.2222222222222222,\"#7201a8\"],[0.3333333333333333,\"#9c179e\"],[0.4444444444444444,\"#bd3786\"],[0.5555555555555556,\"#d8576b\"],[0.6666666666666666,\"#ed7953\"],[0.7777777777777778,\"#fb9f3a\"],[0.8888888888888888,\"#fdca26\"],[1.0,\"#f0f921\"]]}],\"contourcarpet\":[{\"type\":\"contourcarpet\",\"colorbar\":{\"outlinewidth\":0,\"ticks\":\"\"}}],\"contour\":[{\"type\":\"contour\",\"colorbar\":{\"outlinewidth\":0,\"ticks\":\"\"},\"colorscale\":[[0.0,\"#0d0887\"],[0.1111111111111111,\"#46039f\"],[0.2222222222222222,\"#7201a8\"],[0.3333333333333333,\"#9c179e\"],[0.4444444444444444,\"#bd3786\"],[0.5555555555555556,\"#d8576b\"],[0.6666666666666666,\"#ed7953\"],[0.7777777777777778,\"#fb9f3a\"],[0.8888888888888888,\"#fdca26\"],[1.0,\"#f0f921\"]]}],\"surface\":[{\"type\":\"surface\",\"colorbar\":{\"outlinewidth\":0,\"ticks\":\"\"},\"colorscale\":[[0.0,\"#0d0887\"],[0.1111111111111111,\"#46039f\"],[0.2222222222222222,\"#7201a8\"],[0.3333333333333333,\"#9c179e\"],[0.4444444444444444,\"#bd3786\"],[0.5555555555555556,\"#d8576b\"],[0.6666666666666666,\"#ed7953\"],[0.7777777777777778,\"#fb9f3a\"],[0.8888888888888888,\"#fdca26\"],[1.0,\"#f0f921\"]]}],\"mesh3d\":[{\"type\":\"mesh3d\",\"colorbar\":{\"outlinewidth\":0,\"ticks\":\"\"}}],\"scatter\":[{\"fillpattern\":{\"fillmode\":\"overlay\",\"size\":10,\"solidity\":0.2},\"type\":\"scatter\"}],\"parcoords\":[{\"type\":\"parcoords\",\"line\":{\"colorbar\":{\"outlinewidth\":0,\"ticks\":\"\"}}}],\"scatterpolargl\":[{\"type\":\"scatterpolargl\",\"marker\":{\"colorbar\":{\"outlinewidth\":0,\"ticks\":\"\"}}}],\"bar\":[{\"error_x\":{\"color\":\"#2a3f5f\"},\"error_y\":{\"color\":\"#2a3f5f\"},\"marker\":{\"line\":{\"color\":\"#E5ECF6\",\"width\":0.5},\"pattern\":{\"fillmode\":\"overlay\",\"size\":10,\"solidity\":0.2}},\"type\":\"bar\"}],\"scattergeo\":[{\"type\":\"scattergeo\",\"marker\":{\"colorbar\":{\"outlinewidth\":0,\"ticks\":\"\"}}}],\"scatterpolar\":[{\"type\":\"scatterpolar\",\"marker\":{\"colorbar\":{\"outlinewidth\":0,\"ticks\":\"\"}}}],\"histogram\":[{\"marker\":{\"pattern\":{\"fillmode\":\"overlay\",\"size\":10,\"solidity\":0.2}},\"type\":\"histogram\"}],\"scattergl\":[{\"type\":\"scattergl\",\"marker\":{\"colorbar\":{\"outlinewidth\":0,\"ticks\":\"\"}}}],\"scatter3d\":[{\"type\":\"scatter3d\",\"line\":{\"colorbar\":{\"outlinewidth\":0,\"ticks\":\"\"}},\"marker\":{\"colorbar\":{\"outlinewidth\":0,\"ticks\":\"\"}}}],\"scattermapbox\":[{\"type\":\"scattermapbox\",\"marker\":{\"colorbar\":{\"outlinewidth\":0,\"ticks\":\"\"}}}],\"scatterternary\":[{\"type\":\"scatterternary\",\"marker\":{\"colorbar\":{\"outlinewidth\":0,\"ticks\":\"\"}}}],\"scattercarpet\":[{\"type\":\"scattercarpet\",\"marker\":{\"colorbar\":{\"outlinewidth\":0,\"ticks\":\"\"}}}],\"carpet\":[{\"aaxis\":{\"endlinecolor\":\"#2a3f5f\",\"gridcolor\":\"white\",\"linecolor\":\"white\",\"minorgridcolor\":\"white\",\"startlinecolor\":\"#2a3f5f\"},\"baxis\":{\"endlinecolor\":\"#2a3f5f\",\"gridcolor\":\"white\",\"linecolor\":\"white\",\"minorgridcolor\":\"white\",\"startlinecolor\":\"#2a3f5f\"},\"type\":\"carpet\"}],\"table\":[{\"cells\":{\"fill\":{\"color\":\"#EBF0F8\"},\"line\":{\"color\":\"white\"}},\"header\":{\"fill\":{\"color\":\"#C8D4E3\"},\"line\":{\"color\":\"white\"}},\"type\":\"table\"}],\"barpolar\":[{\"marker\":{\"line\":{\"color\":\"#E5ECF6\",\"width\":0.5},\"pattern\":{\"fillmode\":\"overlay\",\"size\":10,\"solidity\":0.2}},\"type\":\"barpolar\"}],\"pie\":[{\"automargin\":true,\"type\":\"pie\"}]},\"layout\":{\"autotypenumbers\":\"strict\",\"colorway\":[\"#636efa\",\"#EF553B\",\"#00cc96\",\"#ab63fa\",\"#FFA15A\",\"#19d3f3\",\"#FF6692\",\"#B6E880\",\"#FF97FF\",\"#FECB52\"],\"font\":{\"color\":\"#2a3f5f\"},\"hovermode\":\"closest\",\"hoverlabel\":{\"align\":\"left\"},\"paper_bgcolor\":\"white\",\"plot_bgcolor\":\"#E5ECF6\",\"polar\":{\"bgcolor\":\"#E5ECF6\",\"angularaxis\":{\"gridcolor\":\"white\",\"linecolor\":\"white\",\"ticks\":\"\"},\"radialaxis\":{\"gridcolor\":\"white\",\"linecolor\":\"white\",\"ticks\":\"\"}},\"ternary\":{\"bgcolor\":\"#E5ECF6\",\"aaxis\":{\"gridcolor\":\"white\",\"linecolor\":\"white\",\"ticks\":\"\"},\"baxis\":{\"gridcolor\":\"white\",\"linecolor\":\"white\",\"ticks\":\"\"},\"caxis\":{\"gridcolor\":\"white\",\"linecolor\":\"white\",\"ticks\":\"\"}},\"coloraxis\":{\"colorbar\":{\"outlinewidth\":0,\"ticks\":\"\"}},\"colorscale\":{\"sequential\":[[0.0,\"#0d0887\"],[0.1111111111111111,\"#46039f\"],[0.2222222222222222,\"#7201a8\"],[0.3333333333333333,\"#9c179e\"],[0.4444444444444444,\"#bd3786\"],[0.5555555555555556,\"#d8576b\"],[0.6666666666666666,\"#ed7953\"],[0.7777777777777778,\"#fb9f3a\"],[0.8888888888888888,\"#fdca26\"],[1.0,\"#f0f921\"]],\"sequentialminus\":[[0.0,\"#0d0887\"],[0.1111111111111111,\"#46039f\"],[0.2222222222222222,\"#7201a8\"],[0.3333333333333333,\"#9c179e\"],[0.4444444444444444,\"#bd3786\"],[0.5555555555555556,\"#d8576b\"],[0.6666666666666666,\"#ed7953\"],[0.7777777777777778,\"#fb9f3a\"],[0.8888888888888888,\"#fdca26\"],[1.0,\"#f0f921\"]],\"diverging\":[[0,\"#8e0152\"],[0.1,\"#c51b7d\"],[0.2,\"#de77ae\"],[0.3,\"#f1b6da\"],[0.4,\"#fde0ef\"],[0.5,\"#f7f7f7\"],[0.6,\"#e6f5d0\"],[0.7,\"#b8e186\"],[0.8,\"#7fbc41\"],[0.9,\"#4d9221\"],[1,\"#276419\"]]},\"xaxis\":{\"gridcolor\":\"white\",\"linecolor\":\"white\",\"ticks\":\"\",\"title\":{\"standoff\":15},\"zerolinecolor\":\"white\",\"automargin\":true,\"zerolinewidth\":2},\"yaxis\":{\"gridcolor\":\"white\",\"linecolor\":\"white\",\"ticks\":\"\",\"title\":{\"standoff\":15},\"zerolinecolor\":\"white\",\"automargin\":true,\"zerolinewidth\":2},\"scene\":{\"xaxis\":{\"backgroundcolor\":\"#E5ECF6\",\"gridcolor\":\"white\",\"linecolor\":\"white\",\"showbackground\":true,\"ticks\":\"\",\"zerolinecolor\":\"white\",\"gridwidth\":2},\"yaxis\":{\"backgroundcolor\":\"#E5ECF6\",\"gridcolor\":\"white\",\"linecolor\":\"white\",\"showbackground\":true,\"ticks\":\"\",\"zerolinecolor\":\"white\",\"gridwidth\":2},\"zaxis\":{\"backgroundcolor\":\"#E5ECF6\",\"gridcolor\":\"white\",\"linecolor\":\"white\",\"showbackground\":true,\"ticks\":\"\",\"zerolinecolor\":\"white\",\"gridwidth\":2}},\"shapedefaults\":{\"line\":{\"color\":\"#2a3f5f\"}},\"annotationdefaults\":{\"arrowcolor\":\"#2a3f5f\",\"arrowhead\":0,\"arrowwidth\":1},\"geo\":{\"bgcolor\":\"white\",\"landcolor\":\"#E5ECF6\",\"subunitcolor\":\"white\",\"showland\":true,\"showlakes\":true,\"lakecolor\":\"white\"},\"title\":{\"x\":0.05},\"mapbox\":{\"style\":\"light\"}}},\"shapes\":[{\"line\":{\"color\":\"green\",\"width\":1},\"type\":\"line\",\"x0\":0,\"x1\":0,\"y0\":55729.739747899155,\"y1\":14590774.225313116},{\"line\":{\"color\":\"red\",\"width\":1},\"type\":\"line\",\"x0\":1,\"x1\":1,\"y0\":2265442.379182156,\"y1\":893369.0630806452},{\"line\":{\"color\":\"red\",\"width\":1},\"type\":\"line\",\"x0\":2,\"x1\":2,\"y0\":5599594.563894523,\"y1\":3166895.6642580647},{\"line\":{\"color\":\"red\",\"width\":1},\"type\":\"line\",\"x0\":3,\"x1\":3,\"y0\":6675387.812323944,\"y1\":3734555.490258065},{\"line\":{\"color\":\"red\",\"width\":1},\"type\":\"line\",\"x0\":4,\"x1\":4,\"y0\":7306572.135899903,\"y1\":413930.6931866193},{\"line\":{\"color\":\"red\",\"width\":1},\"type\":\"line\",\"x0\":5,\"x1\":5,\"y0\":9195277.43772242,\"y1\":5060794.463667819},{\"line\":{\"color\":\"red\",\"width\":1},\"type\":\"line\",\"x0\":6,\"x1\":6,\"y0\":18043714.40747405,\"y1\":4647881.54280702},{\"line\":{\"color\":\"green\",\"width\":1},\"type\":\"line\",\"x0\":7,\"x1\":7,\"y0\":27869543.590163045,\"y1\":30251820.872288786},{\"line\":{\"color\":\"green\",\"width\":1},\"type\":\"line\",\"x0\":8,\"x1\":8,\"y0\":39064156.29360915,\"y1\":76476955.14524907},{\"line\":{\"color\":\"red\",\"width\":1},\"type\":\"line\",\"x0\":9,\"x1\":9,\"y0\":40777962.82527881,\"y1\":10062941.801919013},{\"line\":{\"color\":\"green\",\"width\":1},\"type\":\"line\",\"x0\":10,\"x1\":10,\"y0\":43502070.15384615,\"y1\":43502070.15384615},{\"line\":{\"color\":\"red\",\"width\":1},\"type\":\"line\",\"x0\":11,\"x1\":11,\"y0\":43938785.88347664,\"y1\":19112322.659092024},{\"line\":{\"color\":\"red\",\"width\":1},\"type\":\"line\",\"x0\":12,\"x1\":12,\"y0\":44883489.62655602,\"y1\":22996377.358490564},{\"line\":{\"color\":\"red\",\"width\":1},\"type\":\"line\",\"x0\":13,\"x1\":13,\"y0\":47445040.78070652,\"y1\":13226061.290042542},{\"line\":{\"color\":\"red\",\"width\":1},\"type\":\"line\",\"x0\":14,\"x1\":14,\"y0\":55946321.57676348,\"y1\":22996377.35849057},{\"line\":{\"color\":\"red\",\"width\":1},\"type\":\"line\",\"x0\":15,\"x1\":15,\"y0\":56015455.7492516,\"y1\":27871801.711719163},{\"line\":{\"color\":\"red\",\"width\":1},\"type\":\"line\",\"x0\":16,\"x1\":16,\"y0\":59118663.28408084,\"y1\":40503048.38526397},{\"line\":{\"color\":\"red\",\"width\":1},\"type\":\"line\",\"x0\":17,\"x1\":17,\"y0\":64886776.065386906,\"y1\":49085597.9763584},{\"line\":{\"color\":\"green\",\"width\":1},\"type\":\"line\",\"x0\":18,\"x1\":18,\"y0\":74403743.40335742,\"y1\":287106830.75682986},{\"line\":{\"color\":\"green\",\"width\":1},\"type\":\"line\",\"x0\":19,\"x1\":19,\"y0\":77187148.76440808,\"y1\":501942760.1648592},{\"line\":{\"color\":\"red\",\"width\":1},\"type\":\"line\",\"x0\":20,\"x1\":20,\"y0\":96281301.11524165,\"y1\":23825745.236647323},{\"line\":{\"color\":\"red\",\"width\":1},\"type\":\"line\",\"x0\":21,\"x1\":21,\"y0\":106232700.30120483,\"y1\":40261809.89051095},{\"line\":{\"color\":\"green\",\"width\":1},\"type\":\"line\",\"x0\":22,\"x1\":22,\"y0\":108319639.18673201,\"y1\":678401683.6676046},{\"line\":{\"color\":\"red\",\"width\":1},\"type\":\"line\",\"x0\":23,\"x1\":23,\"y0\":113144974.19910584,\"y1\":55712012.45795436},{\"line\":{\"color\":\"red\",\"width\":1},\"type\":\"line\",\"x0\":24,\"x1\":24,\"y0\":124657155.10175976,\"y1\":56163379.58443466},{\"line\":{\"color\":\"red\",\"width\":1},\"type\":\"line\",\"x0\":25,\"x1\":25,\"y0\":132823668.49204724,\"y1\":18255237.87962617},{\"line\":{\"color\":\"red\",\"width\":1},\"type\":\"line\",\"x0\":26,\"x1\":26,\"y0\":135578547.55638036,\"y1\":68256011.90548202},{\"line\":{\"color\":\"red\",\"width\":1},\"type\":\"line\",\"x0\":27,\"x1\":27,\"y0\":135972494.9290061,\"y1\":67594591.87135023},{\"line\":{\"color\":\"red\",\"width\":1},\"type\":\"line\",\"x0\":28,\"x1\":28,\"y0\":143297598.15195423,\"y1\":128848741.79713428},{\"line\":{\"color\":\"green\",\"width\":1},\"type\":\"line\",\"x0\":29,\"x1\":29,\"y0\":146804240.29126212,\"y1\":552367001.8029717},{\"line\":{\"color\":\"red\",\"width\":1},\"type\":\"line\",\"x0\":30,\"x1\":30,\"y0\":180663956.0069697,\"y1\":15868469.589451402},{\"line\":{\"color\":\"red\",\"width\":1},\"type\":\"line\",\"x0\":31,\"x1\":31,\"y0\":181000485.06151143,\"y1\":32486985.227551013},{\"line\":{\"color\":\"red\",\"width\":1},\"type\":\"line\",\"x0\":32,\"x1\":32,\"y0\":190726146.4097363,\"y1\":36136461.93658143},{\"line\":{\"color\":\"red\",\"width\":1},\"type\":\"line\",\"x0\":33,\"x1\":33,\"y0\":199836591.9057269,\"y1\":153138960.57161415},{\"line\":{\"color\":\"red\",\"width\":1},\"type\":\"line\",\"x0\":34,\"x1\":34,\"y0\":237018643.8300813,\"y1\":199723550.94531217},{\"line\":{\"color\":\"green\",\"width\":1},\"type\":\"line\",\"x0\":35,\"x1\":35,\"y0\":238127674.6832339,\"y1\":357539591.9071995},{\"line\":{\"color\":\"red\",\"width\":1},\"type\":\"line\",\"x0\":36,\"x1\":36,\"y0\":238419602.50509658,\"y1\":157028291.59892026},{\"line\":{\"color\":\"green\",\"width\":1},\"type\":\"line\",\"x0\":37,\"x1\":37,\"y0\":243924495.99468097,\"y1\":413715241.1639565},{\"line\":{\"color\":\"red\",\"width\":1},\"type\":\"line\",\"x0\":38,\"x1\":38,\"y0\":244313262.57112858,\"y1\":97536649.84686604},{\"line\":{\"color\":\"green\",\"width\":1},\"type\":\"line\",\"x0\":39,\"x1\":39,\"y0\":263379688.72300613,\"y1\":274520966.7562976},{\"line\":{\"color\":\"green\",\"width\":1},\"type\":\"line\",\"x0\":40,\"x1\":40,\"y0\":266329953.35626563,\"y1\":448270623.9911884},{\"line\":{\"color\":\"green\",\"width\":1},\"type\":\"line\",\"x0\":41,\"x1\":41,\"y0\":270665658.0740741,\"y1\":761158985.6006186},{\"line\":{\"color\":\"green\",\"width\":1},\"type\":\"line\",\"x0\":42,\"x1\":42,\"y0\":282723116.9740682,\"y1\":452647333.65386957},{\"line\":{\"color\":\"green\",\"width\":1},\"type\":\"line\",\"x0\":43,\"x1\":43,\"y0\":285348379.6565518,\"y1\":373520377.1339541},{\"line\":{\"color\":\"red\",\"width\":1},\"type\":\"line\",\"x0\":44,\"x1\":44,\"y0\":297491806.96732795,\"y1\":34795622.584282994},{\"line\":{\"color\":\"red\",\"width\":1},\"type\":\"line\",\"x0\":45,\"x1\":45,\"y0\":298216543.377748,\"y1\":12336437.9451285},{\"line\":{\"color\":\"red\",\"width\":1},\"type\":\"line\",\"x0\":46,\"x1\":46,\"y0\":308597818.4511893,\"y1\":85728725.50122279},{\"line\":{\"color\":\"green\",\"width\":1},\"type\":\"line\",\"x0\":47,\"x1\":47,\"y0\":322423873.33762324,\"y1\":1818532438.2491298},{\"line\":{\"color\":\"red\",\"width\":1},\"type\":\"line\",\"x0\":48,\"x1\":48,\"y0\":326245234.6565905,\"y1\":192550627.05964923},{\"line\":{\"color\":\"red\",\"width\":1},\"type\":\"line\",\"x0\":49,\"x1\":49,\"y0\":327134049.0797546,\"y1\":326651189.05944324},{\"line\":{\"color\":\"red\",\"width\":1},\"type\":\"line\",\"x0\":50,\"x1\":50,\"y0\":336059045.9491778,\"y1\":327223941.06730217},{\"line\":{\"color\":\"green\",\"width\":1},\"type\":\"line\",\"x0\":51,\"x1\":51,\"y0\":351541672.8981947,\"y1\":351541672.8981947},{\"line\":{\"color\":\"green\",\"width\":1},\"type\":\"line\",\"x0\":52,\"x1\":52,\"y0\":362516154.0925403,\"y1\":1116118159.5522537},{\"line\":{\"color\":\"green\",\"width\":1},\"type\":\"line\",\"x0\":53,\"x1\":53,\"y0\":362572085.62224853,\"y1\":559586491.2317369},{\"line\":{\"color\":\"red\",\"width\":1},\"type\":\"line\",\"x0\":54,\"x1\":54,\"y0\":362757048.33388436,\"y1\":223715563.6800959},{\"line\":{\"color\":\"red\",\"width\":1},\"type\":\"line\",\"x0\":55,\"x1\":55,\"y0\":384290853.89987564,\"y1\":150330257.32255602},{\"line\":{\"color\":\"green\",\"width\":1},\"type\":\"line\",\"x0\":56,\"x1\":56,\"y0\":390300968.587139,\"y1\":460186788.80396414},{\"line\":{\"color\":\"green\",\"width\":1},\"type\":\"line\",\"x0\":57,\"x1\":57,\"y0\":395363961.3949016,\"y1\":647108271.9898751},{\"line\":{\"color\":\"red\",\"width\":1},\"type\":\"line\",\"x0\":58,\"x1\":58,\"y0\":410834157.3033708,\"y1\":48140650.55762082},{\"line\":{\"color\":\"red\",\"width\":1},\"type\":\"line\",\"x0\":59,\"x1\":59,\"y0\":419699724.51790637,\"y1\":102596841.91206318},{\"line\":{\"color\":\"green\",\"width\":1},\"type\":\"line\",\"x0\":60,\"x1\":60,\"y0\":440398479.7286777,\"y1\":711358661.9925973},{\"line\":{\"color\":\"green\",\"width\":1},\"type\":\"line\",\"x0\":61,\"x1\":61,\"y0\":467456796.8430452,\"y1\":830559707.2693527},{\"line\":{\"color\":\"red\",\"width\":1},\"type\":\"line\",\"x0\":62,\"x1\":62,\"y0\":485244334.2775044,\"y1\":13097793.39817518},{\"line\":{\"color\":\"red\",\"width\":1},\"type\":\"line\",\"x0\":63,\"x1\":63,\"y0\":515761912.64074755,\"y1\":424773714.3541877},{\"line\":{\"color\":\"red\",\"width\":1},\"type\":\"line\",\"x0\":64,\"x1\":64,\"y0\":550438751.2681595,\"y1\":302988965.7001016},{\"line\":{\"color\":\"green\",\"width\":1},\"type\":\"line\",\"x0\":65,\"x1\":65,\"y0\":601332423.8410596,\"y1\":13736560136.349243},{\"line\":{\"color\":\"green\",\"width\":1},\"type\":\"line\",\"x0\":66,\"x1\":66,\"y0\":610171173.4158884,\"y1\":959411440.9766854},{\"line\":{\"color\":\"green\",\"width\":1},\"type\":\"line\",\"x0\":67,\"x1\":67,\"y0\":649134051.4367537,\"y1\":2249906915.326024},{\"line\":{\"color\":\"green\",\"width\":1},\"type\":\"line\",\"x0\":68,\"x1\":68,\"y0\":723684716.3823621,\"y1\":887065396.5885832},{\"line\":{\"color\":\"green\",\"width\":1},\"type\":\"line\",\"x0\":69,\"x1\":69,\"y0\":760718731.5426891,\"y1\":1312689810.7399123},{\"line\":{\"color\":\"green\",\"width\":1},\"type\":\"line\",\"x0\":70,\"x1\":70,\"y0\":775462546.8057595,\"y1\":1042611937.6712116},{\"line\":{\"color\":\"red\",\"width\":1},\"type\":\"line\",\"x0\":71,\"x1\":71,\"y0\":789155806.3918041,\"y1\":150842574.25742567},{\"line\":{\"color\":\"green\",\"width\":1},\"type\":\"line\",\"x0\":72,\"x1\":72,\"y0\":831074581.7462467,\"y1\":852401064.7922045},{\"line\":{\"color\":\"green\",\"width\":1},\"type\":\"line\",\"x0\":73,\"x1\":73,\"y0\":833430025.6523772,\"y1\":2657849440.709842},{\"line\":{\"color\":\"green\",\"width\":1},\"type\":\"line\",\"x0\":74,\"x1\":74,\"y0\":927773535.7801347,\"y1\":1049672926.5969386},{\"line\":{\"color\":\"red\",\"width\":1},\"type\":\"line\",\"x0\":75,\"x1\":75,\"y0\":960772072.0720721,\"y1\":33995677.6859504},{\"line\":{\"color\":\"red\",\"width\":1},\"type\":\"line\",\"x0\":76,\"x1\":76,\"y0\":997467114.9438951,\"y1\":186077703.8952973},{\"line\":{\"color\":\"green\",\"width\":1},\"type\":\"line\",\"x0\":77,\"x1\":77,\"y0\":1087057975.8468773,\"y1\":1385761366.9997833},{\"line\":{\"color\":\"red\",\"width\":1},\"type\":\"line\",\"x0\":78,\"x1\":78,\"y0\":1111298958.2390974,\"y1\":929795657.1949387},{\"line\":{\"color\":\"green\",\"width\":1},\"type\":\"line\",\"x0\":79,\"x1\":79,\"y0\":1391752300.7604334,\"y1\":2573432661.5231514},{\"line\":{\"color\":\"red\",\"width\":1},\"type\":\"line\",\"x0\":80,\"x1\":80,\"y0\":1403021940.5005522,\"y1\":404704870.38883066},{\"line\":{\"color\":\"green\",\"width\":1},\"type\":\"line\",\"x0\":81,\"x1\":81,\"y0\":1677074596.5807004,\"y1\":6881528048.318411},{\"line\":{\"color\":\"red\",\"width\":1},\"type\":\"line\",\"x0\":82,\"x1\":82,\"y0\":1877873061.7851498,\"y1\":224723684.90488052},{\"line\":{\"color\":\"red\",\"width\":1},\"type\":\"line\",\"x0\":83,\"x1\":83,\"y0\":1928776560.8085537,\"y1\":634490401.264359},{\"line\":{\"color\":\"red\",\"width\":1},\"type\":\"line\",\"x0\":84,\"x1\":84,\"y0\":2665593130.2230487,\"y1\":408332132.7924237},{\"line\":{\"color\":\"red\",\"width\":1},\"type\":\"line\",\"x0\":85,\"x1\":85,\"y0\":3026919351.209955,\"y1\":371404432.9373784},{\"line\":{\"color\":\"red\",\"width\":1},\"type\":\"line\",\"x0\":86,\"x1\":86,\"y0\":4999489662.533742,\"y1\":52837135.96812534}],\"yaxis\":{\"title\":{\"text\":\"Box office revenue\"},\"type\":\"log\"},\"title\":{\"text\":\"First movie vs Box office revenue of all sequels\"},\"xaxis\":{\"title\":{\"text\":\"Collection\"}},\"width\":1000,\"height\":600},                        {\"responsive\": true}                    ).then(function(){\n",
       "                            \n",
       "var gd = document.getElementById('cb74ea3d-e45b-4181-8955-833caf2db707');\n",
       "var x = new MutationObserver(function (mutations, observer) {{\n",
       "        var display = window.getComputedStyle(gd).display;\n",
       "        if (!display || display === 'none') {{\n",
       "            console.log([gd, 'removed!']);\n",
       "            Plotly.purge(gd);\n",
       "            observer.disconnect();\n",
       "        }}\n",
       "}});\n",
       "\n",
       "// Listen for the removal of the full notebook cells\n",
       "var notebookContainer = gd.closest('#notebook-container');\n",
       "if (notebookContainer) {{\n",
       "    x.observe(notebookContainer, {childList: true});\n",
       "}}\n",
       "\n",
       "// Listen for the clearing of the current output cell\n",
       "var outputEl = gd.closest('.output');\n",
       "if (outputEl) {{\n",
       "    x.observe(outputEl, {childList: true});\n",
       "}}\n",
       "\n",
       "                        })                };                });            </script>        </div>"
      ]
     },
     "metadata": {},
     "output_type": "display_data"
    },
    {
     "data": {
      "application/vnd.plotly.v1+json": {
       "data": [
        {
         "hoverinfo": "text",
         "marker": {
          "color": "blue"
         },
         "mode": "markers",
         "name": "First movie <br>box office revenue",
         "text": [
          "The Boondock Saints Collection<br>First movie box office revenue: 55.7K",
          "The Toxic Avenger Collection<br>First movie box office revenue: 2.27M",
          "Flesh Gordon Collection<br>First movie box office revenue: 5.6M",
          "The Stepfather Collection<br>First movie box office revenue: 6.68M",
          "Silent Night, Deadly Night Collection<br>First movie box office revenue: 7.31M",
          "The Amazing Colossal Man Collection<br>First movie box office revenue: 9.2M",
          "Leprechaun Collection<br>First movie box office revenue: 18M",
          "Firefly Collection<br>First movie box office revenue: 27.9M",
          "Hellraiser Collection<br>First movie box office revenue: 39.1M",
          "Allan Quatermain Collection<br>First movie box office revenue: 40.8M",
          "King Kong (1933) Collection<br>First movie box office revenue: 43.5M",
          "Air Bud Collection<br>First movie box office revenue: 43.9M",
          "Cochise Collection<br>First movie box office revenue: 44.9M",
          "Wrong Turn Collection<br>First movie box office revenue: 47.4M",
          "Cheaper by the Dozen (1950) Collection<br>First movie box office revenue: 55.9M",
          "Candyman Collection<br>First movie box office revenue: 56M",
          "The Neverending Story Collection<br>First movie box office revenue: 59.1M",
          "Crank Collection<br>First movie box office revenue: 64.9M",
          "The Transporter Collection<br>First movie box office revenue: 74.4M",
          "A Nightmare on Elm Street Collection<br>First movie box office revenue: 77.2M",
          "Return of the Living Dead Collection<br>First movie box office revenue: 96.3M",
          "Psycho Collection<br>First movie box office revenue: 106M",
          "The Pink Panther (Original) Collection<br>First movie box office revenue: 108M",
          "Short Circuit Collection<br>First movie box office revenue: 113M",
          "Problem Child Collection<br>First movie box office revenue: 125M",
          "Power Rangers Collection<br>First movie box office revenue: 133M",
          "Urban Legend Collection<br>First movie box office revenue: 136M",
          "Death Wish Collection<br>First movie box office revenue: 136M",
          "RoboCop Collection<br>First movie box office revenue: 143M",
          "Friday the 13th Collection<br>First movie box office revenue: 147M",
          "Meatballs Collection<br>First movie box office revenue: 181M",
          "Carrie Collection<br>First movie box office revenue: 181M",
          "Texas Chainsaw Massacre Collection<br>First movie box office revenue: 191M",
          "Father of the Bride (Steve Martin) Collection<br>First movie box office revenue: 200M",
          "Pokémon Collection<br>First movie box office revenue: 237M",
          "Police Academy Collection<br>First movie box office revenue: 238M",
          "I Know What You Did Last Summer Collection<br>First movie box office revenue: 238M",
          "Legally Blonde Collection<br>First movie box office revenue: 244M",
          "Mortal Kombat Collection<br>First movie box office revenue: 244M",
          "Rugrats Collection<br>First movie box office revenue: 263M",
          "The Karate Kid Collection<br>First movie box office revenue: 266M",
          "Dirty Harry Collection<br>First movie box office revenue: 271M",
          "Bad Boys Collection<br>First movie box office revenue: 283M",
          "Planet of the Apes (Original) Collection<br>First movie box office revenue: 285M",
          "The Crow Collection<br>First movie box office revenue: 297M",
          "Open Season Collection<br>First movie box office revenue: 298M",
          "Airplane Collection<br>First movie box office revenue: 309M",
          "Lethal Weapon Collection<br>First movie box office revenue: 322M",
          "The Omen Collection<br>First movie box office revenue: 326M",
          "Halloween Collection<br>First movie box office revenue: 327M",
          "Scream Collection<br>First movie box office revenue: 336M",
          "Red Cliff Collection<br>First movie box office revenue: 352M",
          "The Bourne Collection<br>First movie box office revenue: 363M",
          "Die Hard Collection<br>First movie box office revenue: 363M",
          "The Amityville Collection<br>First movie box office revenue: 363M",
          "Poltergeist Collection<br>First movie box office revenue: 384M",
          "The Santa Clause Collection<br>First movie box office revenue: 390M",
          "Rambo Collection<br>First movie box office revenue: 395M",
          "Demetrius Collection<br>First movie box office revenue: 411M",
          "Mad Max Collection<br>First movie box office revenue: 420M",
          "Alien Collection<br>First movie box office revenue: 440M",
          "The Jack Ryan Collection<br>First movie box office revenue: 467M",
          "King Kong (1976) Collection<br>First movie box office revenue: 485M",
          "Fantastic Four Collection<br>First movie box office revenue: 516M",
          "Dr. Dolittle Collection<br>First movie box office revenue: 550M",
          "James Bond Collection<br>First movie box office revenue: 601M",
          "The Hannibal Lecter Collection<br>First movie box office revenue: 610M",
          "Ice Age Collection<br>First movie box office revenue: 649M",
          "Toy Story Collection<br>First movie box office revenue: 724M",
          "The Mummy Collection<br>First movie box office revenue: 761M",
          "Ocean's Collection<br>First movie box office revenue: 775M",
          "Airport Collection<br>First movie box office revenue: 789M",
          "Madagascar Collection<br>First movie box office revenue: 831M",
          "Shrek Collection<br>First movie box office revenue: 833M",
          "Beverly Hills Cop Collection<br>First movie box office revenue: 928M",
          "American Graffiti Collection<br>First movie box office revenue: 961M",
          "Peter Pan Collection<br>First movie box office revenue: 997M",
          "Back to the Future Collection<br>First movie box office revenue: 1.09B",
          "Home Alone Collection<br>First movie box office revenue: 1.11B",
          "Spider-Man Collection<br>First movie box office revenue: 1.39B",
          "Superman Collection<br>First movie box office revenue: 1.4B",
          "Harry Potter Collection<br>First movie box office revenue: 1.68B",
          "The Jungle Book Collection<br>First movie box office revenue: 1.88B",
          "Jurassic Park Collection<br>First movie box office revenue: 1.93B",
          "Jaws Collection<br>First movie box office revenue: 2.67B",
          "The Exorcist Collection<br>First movie box office revenue: 3.03B",
          "Bambi Collection<br>First movie box office revenue: 5B"
         ],
         "x": [
          0,
          1,
          2,
          3,
          4,
          5,
          6,
          7,
          8,
          9,
          10,
          11,
          12,
          13,
          14,
          15,
          16,
          17,
          18,
          19,
          20,
          21,
          22,
          23,
          24,
          25,
          26,
          27,
          28,
          29,
          30,
          31,
          32,
          33,
          34,
          35,
          36,
          37,
          38,
          39,
          40,
          41,
          42,
          43,
          44,
          45,
          46,
          47,
          48,
          49,
          50,
          51,
          52,
          53,
          54,
          55,
          56,
          57,
          58,
          59,
          60,
          61,
          62,
          63,
          64,
          65,
          66,
          67,
          68,
          69,
          70,
          71,
          72,
          73,
          74,
          75,
          76,
          77,
          78,
          79,
          80,
          81,
          82,
          83,
          84,
          85,
          86
         ],
         "y": [
          55729.739747899155,
          2265442.379182156,
          5599594.563894523,
          6675387.812323944,
          7306572.135899903,
          9195277.43772242,
          1.804371440747405E7,
          2.7869543590163045E7,
          3.906415629360915E7,
          4.077796282527881E7,
          4.350207015384615E7,
          4.393878588347664E7,
          4.488348962655602E7,
          4.744504078070652E7,
          5.594632157676348E7,
          5.60154557492516E7,
          5.911866328408084E7,
          6.4886776065386906E7,
          7.440374340335742E7,
          7.718714876440808E7,
          9.628130111524165E7,
          1.0623270030120483E8,
          1.0831963918673201E8,
          1.1314497419910584E8,
          1.2465715510175976E8,
          1.3282366849204724E8,
          1.3557854755638036E8,
          1.359724949290061E8,
          1.4329759815195423E8,
          1.4680424029126212E8,
          1.806639560069697E8,
          1.8100048506151143E8,
          1.907261464097363E8,
          1.998365919057269E8,
          2.370186438300813E8,
          2.381276746832339E8,
          2.3841960250509658E8,
          2.4392449599468097E8,
          2.4431326257112858E8,
          2.6337968872300613E8,
          2.6632995335626563E8,
          2.706656580740741E8,
          2.827231169740682E8,
          2.853483796565518E8,
          2.9749180696732795E8,
          2.98216543377748E8,
          3.085978184511893E8,
          3.2242387333762324E8,
          3.262452346565905E8,
          3.271340490797546E8,
          3.360590459491778E8,
          3.515416728981947E8,
          3.625161540925403E8,
          3.6257208562224853E8,
          3.6275704833388436E8,
          3.8429085389987564E8,
          3.90300968587139E8,
          3.953639613949016E8,
          4.108341573033708E8,
          4.1969972451790637E8,
          4.403984797286777E8,
          4.674567968430452E8,
          4.852443342775044E8,
          5.1576191264074755E8,
          5.504387512681595E8,
          6.013324238410596E8,
          6.101711734158884E8,
          6.491340514367537E8,
          7.236847163823621E8,
          7.607187315426891E8,
          7.754625468057595E8,
          7.891558063918041E8,
          8.310745817462467E8,
          8.334300256523772E8,
          9.277735357801347E8,
          9.607720720720721E8,
          9.974671149438951E8,
          1.0870579758468773E9,
          1.1112989582390974E9,
          1.3917523007604334E9,
          1.4030219405005522E9,
          1.6770745965807004E9,
          1.8778730617851498E9,
          1.9287765608085537E9,
          2.6655931302230487E9,
          3.026919351209955E9,
          4.999489662533742E9
         ],
         "type": "scatter"
        },
        {
         "hoverinfo": "text",
         "marker": {
          "color": "lightblue"
         },
         "mode": "markers",
         "name": "Average sequel movie <br>box office revenue",
         "text": [
          "The Boondock Saints Collection<br>Average sequel movie box office revenue: 14.6M",
          "The Toxic Avenger Collection<br>Average sequel movie box office revenue: 447K",
          "Flesh Gordon Collection<br>Average sequel movie box office revenue: 3.17M",
          "The Stepfather Collection<br>Average sequel movie box office revenue: 3.73M",
          "Silent Night, Deadly Night Collection<br>Average sequel movie box office revenue: 103K",
          "The Amazing Colossal Man Collection<br>Average sequel movie box office revenue: 5.06M",
          "Leprechaun Collection<br>Average sequel movie box office revenue: 930K",
          "Firefly Collection<br>Average sequel movie box office revenue: 30.3M",
          "Hellraiser Collection<br>Average sequel movie box office revenue: 10.9M",
          "Allan Quatermain Collection<br>Average sequel movie box office revenue: 10.1M",
          "King Kong (1933) Collection<br>Average sequel movie box office revenue: 43.5M",
          "Air Bud Collection<br>Average sequel movie box office revenue: 6.37M",
          "Cochise Collection<br>Average sequel movie box office revenue: 23M",
          "Wrong Turn Collection<br>Average sequel movie box office revenue: 6.61M",
          "Cheaper by the Dozen (1950) Collection<br>Average sequel movie box office revenue: 23M",
          "Candyman Collection<br>Average sequel movie box office revenue: 13.9M",
          "The Neverending Story Collection<br>Average sequel movie box office revenue: 40.5M",
          "Crank Collection<br>Average sequel movie box office revenue: 49.1M",
          "The Transporter Collection<br>Average sequel movie box office revenue: 144M",
          "A Nightmare on Elm Street Collection<br>Average sequel movie box office revenue: 83.7M",
          "Return of the Living Dead Collection<br>Average sequel movie box office revenue: 5.96M",
          "Psycho Collection<br>Average sequel movie box office revenue: 20.1M",
          "The Pink Panther (Original) Collection<br>Average sequel movie box office revenue: 84.8M",
          "Short Circuit Collection<br>Average sequel movie box office revenue: 55.7M",
          "Problem Child Collection<br>Average sequel movie box office revenue: 28.1M",
          "Power Rangers Collection<br>Average sequel movie box office revenue: 18.3M",
          "Urban Legend Collection<br>Average sequel movie box office revenue: 34.1M",
          "Death Wish Collection<br>Average sequel movie box office revenue: 22.5M",
          "RoboCop Collection<br>Average sequel movie box office revenue: 64.4M",
          "Friday the 13th Collection<br>Average sequel movie box office revenue: 61.4M",
          "Meatballs Collection<br>Average sequel movie box office revenue: 5.29M",
          "Carrie Collection<br>Average sequel movie box office revenue: 32.5M",
          "Texas Chainsaw Massacre Collection<br>Average sequel movie box office revenue: 12M",
          "Father of the Bride (Steve Martin) Collection<br>Average sequel movie box office revenue: 153M",
          "Pokémon Collection<br>Average sequel movie box office revenue: 66.6M",
          "Police Academy Collection<br>Average sequel movie box office revenue: 71.5M",
          "I Know What You Did Last Summer Collection<br>Average sequel movie box office revenue: 78.5M",
          "Legally Blonde Collection<br>Average sequel movie box office revenue: 207M",
          "Mortal Kombat Collection<br>Average sequel movie box office revenue: 97.5M",
          "Rugrats Collection<br>Average sequel movie box office revenue: 137M",
          "The Karate Kid Collection<br>Average sequel movie box office revenue: 149M",
          "Dirty Harry Collection<br>Average sequel movie box office revenue: 254M",
          "Bad Boys Collection<br>Average sequel movie box office revenue: 453M",
          "Planet of the Apes (Original) Collection<br>Average sequel movie box office revenue: 93.4M",
          "The Crow Collection<br>Average sequel movie box office revenue: 11.6M",
          "Open Season Collection<br>Average sequel movie box office revenue: 12.3M",
          "Airplane Collection<br>Average sequel movie box office revenue: 85.7M",
          "Lethal Weapon Collection<br>Average sequel movie box office revenue: 606M",
          "The Omen Collection<br>Average sequel movie box office revenue: 64.2M",
          "Halloween Collection<br>Average sequel movie box office revenue: 65.3M",
          "Scream Collection<br>Average sequel movie box office revenue: 327M",
          "Red Cliff Collection<br>Average sequel movie box office revenue: 352M",
          "The Bourne Collection<br>Average sequel movie box office revenue: 558M",
          "Die Hard Collection<br>Average sequel movie box office revenue: 560M",
          "The Amityville Collection<br>Average sequel movie box office revenue: 28M",
          "Poltergeist Collection<br>Average sequel movie box office revenue: 75.2M",
          "The Santa Clause Collection<br>Average sequel movie box office revenue: 230M",
          "Rambo Collection<br>Average sequel movie box office revenue: 216M",
          "Demetrius Collection<br>Average sequel movie box office revenue: 48.1M",
          "Mad Max Collection<br>Average sequel movie box office revenue: 51.3M",
          "Alien Collection<br>Average sequel movie box office revenue: 356M",
          "The Jack Ryan Collection<br>Average sequel movie box office revenue: 415M",
          "King Kong (1976) Collection<br>Average sequel movie box office revenue: 13.1M",
          "Fantastic Four Collection<br>Average sequel movie box office revenue: 425M",
          "Dr. Dolittle Collection<br>Average sequel movie box office revenue: 75.7M",
          "James Bond Collection<br>Average sequel movie box office revenue: 763M",
          "The Hannibal Lecter Collection<br>Average sequel movie box office revenue: 480M",
          "Ice Age Collection<br>Average sequel movie box office revenue: 1.12B",
          "Toy Story Collection<br>Average sequel movie box office revenue: 887M",
          "The Mummy Collection<br>Average sequel movie box office revenue: 656M",
          "Ocean's Collection<br>Average sequel movie box office revenue: 521M",
          "Airport Collection<br>Average sequel movie box office revenue: 75.4M",
          "Madagascar Collection<br>Average sequel movie box office revenue: 852M",
          "Shrek Collection<br>Average sequel movie box office revenue: 1.33B",
          "Beverly Hills Cop Collection<br>Average sequel movie box office revenue: 525M",
          "American Graffiti Collection<br>Average sequel movie box office revenue: 34M",
          "Peter Pan Collection<br>Average sequel movie box office revenue: 186M",
          "Back to the Future Collection<br>Average sequel movie box office revenue: 693M",
          "Home Alone Collection<br>Average sequel movie box office revenue: 465M",
          "Spider-Man Collection<br>Average sequel movie box office revenue: 1.29B",
          "Superman Collection<br>Average sequel movie box office revenue: 135M",
          "Harry Potter Collection<br>Average sequel movie box office revenue: 1.38B",
          "The Jungle Book Collection<br>Average sequel movie box office revenue: 225M",
          "Jurassic Park Collection<br>Average sequel movie box office revenue: 634M",
          "Jaws Collection<br>Average sequel movie box office revenue: 204M",
          "The Exorcist Collection<br>Average sequel movie box office revenue: 124M",
          "Bambi Collection<br>Average sequel movie box office revenue: 52.8M"
         ],
         "x": [
          0,
          1,
          2,
          3,
          4,
          5,
          6,
          7,
          8,
          9,
          10,
          11,
          12,
          13,
          14,
          15,
          16,
          17,
          18,
          19,
          20,
          21,
          22,
          23,
          24,
          25,
          26,
          27,
          28,
          29,
          30,
          31,
          32,
          33,
          34,
          35,
          36,
          37,
          38,
          39,
          40,
          41,
          42,
          43,
          44,
          45,
          46,
          47,
          48,
          49,
          50,
          51,
          52,
          53,
          54,
          55,
          56,
          57,
          58,
          59,
          60,
          61,
          62,
          63,
          64,
          65,
          66,
          67,
          68,
          69,
          70,
          71,
          72,
          73,
          74,
          75,
          76,
          77,
          78,
          79,
          80,
          81,
          82,
          83,
          84,
          85,
          86
         ],
         "y": [
          1.4590774225313116E7,
          446684.5315403226,
          3166895.6642580647,
          3734555.490258065,
          103482.67329665483,
          5060794.463667819,
          929576.308561404,
          3.0251820872288786E7,
          1.0925279306464152E7,
          1.0062941801919013E7,
          4.350207015384615E7,
          6370774.219697341,
          2.2996377358490564E7,
          6613030.645021271,
          2.299637735849057E7,
          1.3935900855859581E7,
          4.050304838526397E7,
          4.90855979763584E7,
          1.4355341537841493E8,
          8.365712669414319E7,
          5956436.309161831,
          2.0130904945255473E7,
          8.480021045845057E7,
          5.571201245795436E7,
          2.808168979221733E7,
          1.825523787962617E7,
          3.412800595274101E7,
          2.253153062378341E7,
          6.442437089856714E7,
          6.13741113114413E7,
          5289489.863150467,
          3.2486985227551013E7,
          1.2045487312193811E7,
          1.5313896057161415E8,
          6.6574516981770724E7,
          7.15079183814399E7,
          7.851414579946013E7,
          2.0685762058197826E8,
          9.753664984686604E7,
          1.372604833781488E8,
          1.4942354133039615E8,
          2.5371966186687288E8,
          4.5264733365386957E8,
          9.338009428348853E7,
          1.1598540861427665E7,
          1.23364379451285E7,
          8.572872550122279E7,
          6.061774794163766E8,
          6.418354235321641E7,
          6.533023781188865E7,
          3.2722394106730217E8,
          3.515416728981947E8,
          5.580590797761269E8,
          5.595864912317369E8,
          2.796444546001199E7,
          7.516512866127801E7,
          2.3009339440198207E8,
          2.1570275732995835E8,
          4.814065055762082E7,
          5.129842095603159E7,
          3.556793309962987E8,
          4.1527985363467634E8,
          1.309779339817518E7,
          4.247737143541877E8,
          7.57472414250254E7,
          7.631422297971802E8,
          4.797057204883427E8,
          1.124953457663012E9,
          8.870653965885832E8,
          6.563449053699561E8,
          5.213059688356058E8,
          7.542128712871283E7,
          8.524010647922045E8,
          1.328924720354921E9,
          5.248364632984693E8,
          3.39956776859504E7,
          1.860777038952973E8,
          6.928806834998916E8,
          4.6489782859746933E8,
          1.2867163307615757E9,
          1.3490162346294355E8,
          1.3763056096636822E9,
          2.2472368490488052E8,
          6.34490401264359E8,
          2.0416606639621186E8,
          1.238014776457928E8,
          5.283713596812534E7
         ],
         "type": "scatter"
        }
       ],
       "layout": {
        "template": {
         "data": {
          "histogram2dcontour": [
           {
            "type": "histogram2dcontour",
            "colorbar": {
             "outlinewidth": 0,
             "ticks": ""
            },
            "colorscale": [
             [
              0.0,
              "#0d0887"
             ],
             [
              0.1111111111111111,
              "#46039f"
             ],
             [
              0.2222222222222222,
              "#7201a8"
             ],
             [
              0.3333333333333333,
              "#9c179e"
             ],
             [
              0.4444444444444444,
              "#bd3786"
             ],
             [
              0.5555555555555556,
              "#d8576b"
             ],
             [
              0.6666666666666666,
              "#ed7953"
             ],
             [
              0.7777777777777778,
              "#fb9f3a"
             ],
             [
              0.8888888888888888,
              "#fdca26"
             ],
             [
              1.0,
              "#f0f921"
             ]
            ]
           }
          ],
          "choropleth": [
           {
            "type": "choropleth",
            "colorbar": {
             "outlinewidth": 0,
             "ticks": ""
            }
           }
          ],
          "histogram2d": [
           {
            "type": "histogram2d",
            "colorbar": {
             "outlinewidth": 0,
             "ticks": ""
            },
            "colorscale": [
             [
              0.0,
              "#0d0887"
             ],
             [
              0.1111111111111111,
              "#46039f"
             ],
             [
              0.2222222222222222,
              "#7201a8"
             ],
             [
              0.3333333333333333,
              "#9c179e"
             ],
             [
              0.4444444444444444,
              "#bd3786"
             ],
             [
              0.5555555555555556,
              "#d8576b"
             ],
             [
              0.6666666666666666,
              "#ed7953"
             ],
             [
              0.7777777777777778,
              "#fb9f3a"
             ],
             [
              0.8888888888888888,
              "#fdca26"
             ],
             [
              1.0,
              "#f0f921"
             ]
            ]
           }
          ],
          "heatmap": [
           {
            "type": "heatmap",
            "colorbar": {
             "outlinewidth": 0,
             "ticks": ""
            },
            "colorscale": [
             [
              0.0,
              "#0d0887"
             ],
             [
              0.1111111111111111,
              "#46039f"
             ],
             [
              0.2222222222222222,
              "#7201a8"
             ],
             [
              0.3333333333333333,
              "#9c179e"
             ],
             [
              0.4444444444444444,
              "#bd3786"
             ],
             [
              0.5555555555555556,
              "#d8576b"
             ],
             [
              0.6666666666666666,
              "#ed7953"
             ],
             [
              0.7777777777777778,
              "#fb9f3a"
             ],
             [
              0.8888888888888888,
              "#fdca26"
             ],
             [
              1.0,
              "#f0f921"
             ]
            ]
           }
          ],
          "heatmapgl": [
           {
            "type": "heatmapgl",
            "colorbar": {
             "outlinewidth": 0,
             "ticks": ""
            },
            "colorscale": [
             [
              0.0,
              "#0d0887"
             ],
             [
              0.1111111111111111,
              "#46039f"
             ],
             [
              0.2222222222222222,
              "#7201a8"
             ],
             [
              0.3333333333333333,
              "#9c179e"
             ],
             [
              0.4444444444444444,
              "#bd3786"
             ],
             [
              0.5555555555555556,
              "#d8576b"
             ],
             [
              0.6666666666666666,
              "#ed7953"
             ],
             [
              0.7777777777777778,
              "#fb9f3a"
             ],
             [
              0.8888888888888888,
              "#fdca26"
             ],
             [
              1.0,
              "#f0f921"
             ]
            ]
           }
          ],
          "contourcarpet": [
           {
            "type": "contourcarpet",
            "colorbar": {
             "outlinewidth": 0,
             "ticks": ""
            }
           }
          ],
          "contour": [
           {
            "type": "contour",
            "colorbar": {
             "outlinewidth": 0,
             "ticks": ""
            },
            "colorscale": [
             [
              0.0,
              "#0d0887"
             ],
             [
              0.1111111111111111,
              "#46039f"
             ],
             [
              0.2222222222222222,
              "#7201a8"
             ],
             [
              0.3333333333333333,
              "#9c179e"
             ],
             [
              0.4444444444444444,
              "#bd3786"
             ],
             [
              0.5555555555555556,
              "#d8576b"
             ],
             [
              0.6666666666666666,
              "#ed7953"
             ],
             [
              0.7777777777777778,
              "#fb9f3a"
             ],
             [
              0.8888888888888888,
              "#fdca26"
             ],
             [
              1.0,
              "#f0f921"
             ]
            ]
           }
          ],
          "surface": [
           {
            "type": "surface",
            "colorbar": {
             "outlinewidth": 0,
             "ticks": ""
            },
            "colorscale": [
             [
              0.0,
              "#0d0887"
             ],
             [
              0.1111111111111111,
              "#46039f"
             ],
             [
              0.2222222222222222,
              "#7201a8"
             ],
             [
              0.3333333333333333,
              "#9c179e"
             ],
             [
              0.4444444444444444,
              "#bd3786"
             ],
             [
              0.5555555555555556,
              "#d8576b"
             ],
             [
              0.6666666666666666,
              "#ed7953"
             ],
             [
              0.7777777777777778,
              "#fb9f3a"
             ],
             [
              0.8888888888888888,
              "#fdca26"
             ],
             [
              1.0,
              "#f0f921"
             ]
            ]
           }
          ],
          "mesh3d": [
           {
            "type": "mesh3d",
            "colorbar": {
             "outlinewidth": 0,
             "ticks": ""
            }
           }
          ],
          "scatter": [
           {
            "fillpattern": {
             "fillmode": "overlay",
             "size": 10,
             "solidity": 0.2
            },
            "type": "scatter"
           }
          ],
          "parcoords": [
           {
            "type": "parcoords",
            "line": {
             "colorbar": {
              "outlinewidth": 0,
              "ticks": ""
             }
            }
           }
          ],
          "scatterpolargl": [
           {
            "type": "scatterpolargl",
            "marker": {
             "colorbar": {
              "outlinewidth": 0,
              "ticks": ""
             }
            }
           }
          ],
          "bar": [
           {
            "error_x": {
             "color": "#2a3f5f"
            },
            "error_y": {
             "color": "#2a3f5f"
            },
            "marker": {
             "line": {
              "color": "#E5ECF6",
              "width": 0.5
             },
             "pattern": {
              "fillmode": "overlay",
              "size": 10,
              "solidity": 0.2
             }
            },
            "type": "bar"
           }
          ],
          "scattergeo": [
           {
            "type": "scattergeo",
            "marker": {
             "colorbar": {
              "outlinewidth": 0,
              "ticks": ""
             }
            }
           }
          ],
          "scatterpolar": [
           {
            "type": "scatterpolar",
            "marker": {
             "colorbar": {
              "outlinewidth": 0,
              "ticks": ""
             }
            }
           }
          ],
          "histogram": [
           {
            "marker": {
             "pattern": {
              "fillmode": "overlay",
              "size": 10,
              "solidity": 0.2
             }
            },
            "type": "histogram"
           }
          ],
          "scattergl": [
           {
            "type": "scattergl",
            "marker": {
             "colorbar": {
              "outlinewidth": 0,
              "ticks": ""
             }
            }
           }
          ],
          "scatter3d": [
           {
            "type": "scatter3d",
            "line": {
             "colorbar": {
              "outlinewidth": 0,
              "ticks": ""
             }
            },
            "marker": {
             "colorbar": {
              "outlinewidth": 0,
              "ticks": ""
             }
            }
           }
          ],
          "scattermapbox": [
           {
            "type": "scattermapbox",
            "marker": {
             "colorbar": {
              "outlinewidth": 0,
              "ticks": ""
             }
            }
           }
          ],
          "scatterternary": [
           {
            "type": "scatterternary",
            "marker": {
             "colorbar": {
              "outlinewidth": 0,
              "ticks": ""
             }
            }
           }
          ],
          "scattercarpet": [
           {
            "type": "scattercarpet",
            "marker": {
             "colorbar": {
              "outlinewidth": 0,
              "ticks": ""
             }
            }
           }
          ],
          "carpet": [
           {
            "aaxis": {
             "endlinecolor": "#2a3f5f",
             "gridcolor": "white",
             "linecolor": "white",
             "minorgridcolor": "white",
             "startlinecolor": "#2a3f5f"
            },
            "baxis": {
             "endlinecolor": "#2a3f5f",
             "gridcolor": "white",
             "linecolor": "white",
             "minorgridcolor": "white",
             "startlinecolor": "#2a3f5f"
            },
            "type": "carpet"
           }
          ],
          "table": [
           {
            "cells": {
             "fill": {
              "color": "#EBF0F8"
             },
             "line": {
              "color": "white"
             }
            },
            "header": {
             "fill": {
              "color": "#C8D4E3"
             },
             "line": {
              "color": "white"
             }
            },
            "type": "table"
           }
          ],
          "barpolar": [
           {
            "marker": {
             "line": {
              "color": "#E5ECF6",
              "width": 0.5
             },
             "pattern": {
              "fillmode": "overlay",
              "size": 10,
              "solidity": 0.2
             }
            },
            "type": "barpolar"
           }
          ],
          "pie": [
           {
            "automargin": true,
            "type": "pie"
           }
          ]
         },
         "layout": {
          "autotypenumbers": "strict",
          "colorway": [
           "#636efa",
           "#EF553B",
           "#00cc96",
           "#ab63fa",
           "#FFA15A",
           "#19d3f3",
           "#FF6692",
           "#B6E880",
           "#FF97FF",
           "#FECB52"
          ],
          "font": {
           "color": "#2a3f5f"
          },
          "hovermode": "closest",
          "hoverlabel": {
           "align": "left"
          },
          "paper_bgcolor": "white",
          "plot_bgcolor": "#E5ECF6",
          "polar": {
           "bgcolor": "#E5ECF6",
           "angularaxis": {
            "gridcolor": "white",
            "linecolor": "white",
            "ticks": ""
           },
           "radialaxis": {
            "gridcolor": "white",
            "linecolor": "white",
            "ticks": ""
           }
          },
          "ternary": {
           "bgcolor": "#E5ECF6",
           "aaxis": {
            "gridcolor": "white",
            "linecolor": "white",
            "ticks": ""
           },
           "baxis": {
            "gridcolor": "white",
            "linecolor": "white",
            "ticks": ""
           },
           "caxis": {
            "gridcolor": "white",
            "linecolor": "white",
            "ticks": ""
           }
          },
          "coloraxis": {
           "colorbar": {
            "outlinewidth": 0,
            "ticks": ""
           }
          },
          "colorscale": {
           "sequential": [
            [
             0.0,
             "#0d0887"
            ],
            [
             0.1111111111111111,
             "#46039f"
            ],
            [
             0.2222222222222222,
             "#7201a8"
            ],
            [
             0.3333333333333333,
             "#9c179e"
            ],
            [
             0.4444444444444444,
             "#bd3786"
            ],
            [
             0.5555555555555556,
             "#d8576b"
            ],
            [
             0.6666666666666666,
             "#ed7953"
            ],
            [
             0.7777777777777778,
             "#fb9f3a"
            ],
            [
             0.8888888888888888,
             "#fdca26"
            ],
            [
             1.0,
             "#f0f921"
            ]
           ],
           "sequentialminus": [
            [
             0.0,
             "#0d0887"
            ],
            [
             0.1111111111111111,
             "#46039f"
            ],
            [
             0.2222222222222222,
             "#7201a8"
            ],
            [
             0.3333333333333333,
             "#9c179e"
            ],
            [
             0.4444444444444444,
             "#bd3786"
            ],
            [
             0.5555555555555556,
             "#d8576b"
            ],
            [
             0.6666666666666666,
             "#ed7953"
            ],
            [
             0.7777777777777778,
             "#fb9f3a"
            ],
            [
             0.8888888888888888,
             "#fdca26"
            ],
            [
             1.0,
             "#f0f921"
            ]
           ],
           "diverging": [
            [
             0,
             "#8e0152"
            ],
            [
             0.1,
             "#c51b7d"
            ],
            [
             0.2,
             "#de77ae"
            ],
            [
             0.3,
             "#f1b6da"
            ],
            [
             0.4,
             "#fde0ef"
            ],
            [
             0.5,
             "#f7f7f7"
            ],
            [
             0.6,
             "#e6f5d0"
            ],
            [
             0.7,
             "#b8e186"
            ],
            [
             0.8,
             "#7fbc41"
            ],
            [
             0.9,
             "#4d9221"
            ],
            [
             1,
             "#276419"
            ]
           ]
          },
          "xaxis": {
           "gridcolor": "white",
           "linecolor": "white",
           "ticks": "",
           "title": {
            "standoff": 15
           },
           "zerolinecolor": "white",
           "automargin": true,
           "zerolinewidth": 2
          },
          "yaxis": {
           "gridcolor": "white",
           "linecolor": "white",
           "ticks": "",
           "title": {
            "standoff": 15
           },
           "zerolinecolor": "white",
           "automargin": true,
           "zerolinewidth": 2
          },
          "scene": {
           "xaxis": {
            "backgroundcolor": "#E5ECF6",
            "gridcolor": "white",
            "linecolor": "white",
            "showbackground": true,
            "ticks": "",
            "zerolinecolor": "white",
            "gridwidth": 2
           },
           "yaxis": {
            "backgroundcolor": "#E5ECF6",
            "gridcolor": "white",
            "linecolor": "white",
            "showbackground": true,
            "ticks": "",
            "zerolinecolor": "white",
            "gridwidth": 2
           },
           "zaxis": {
            "backgroundcolor": "#E5ECF6",
            "gridcolor": "white",
            "linecolor": "white",
            "showbackground": true,
            "ticks": "",
            "zerolinecolor": "white",
            "gridwidth": 2
           }
          },
          "shapedefaults": {
           "line": {
            "color": "#2a3f5f"
           }
          },
          "annotationdefaults": {
           "arrowcolor": "#2a3f5f",
           "arrowhead": 0,
           "arrowwidth": 1
          },
          "geo": {
           "bgcolor": "white",
           "landcolor": "#E5ECF6",
           "subunitcolor": "white",
           "showland": true,
           "showlakes": true,
           "lakecolor": "white"
          },
          "title": {
           "x": 0.05
          },
          "mapbox": {
           "style": "light"
          }
         }
        },
        "shapes": [
         {
          "line": {
           "color": "green",
           "width": 1
          },
          "type": "line",
          "x0": 0,
          "x1": 0,
          "y0": 55729.739747899155,
          "y1": 1.4590774225313116E7
         },
         {
          "line": {
           "color": "red",
           "width": 1
          },
          "type": "line",
          "x0": 1,
          "x1": 1,
          "y0": 2265442.379182156,
          "y1": 446684.5315403226
         },
         {
          "line": {
           "color": "red",
           "width": 1
          },
          "type": "line",
          "x0": 2,
          "x1": 2,
          "y0": 5599594.563894523,
          "y1": 3166895.6642580647
         },
         {
          "line": {
           "color": "red",
           "width": 1
          },
          "type": "line",
          "x0": 3,
          "x1": 3,
          "y0": 6675387.812323944,
          "y1": 3734555.490258065
         },
         {
          "line": {
           "color": "red",
           "width": 1
          },
          "type": "line",
          "x0": 4,
          "x1": 4,
          "y0": 7306572.135899903,
          "y1": 103482.67329665483
         },
         {
          "line": {
           "color": "red",
           "width": 1
          },
          "type": "line",
          "x0": 5,
          "x1": 5,
          "y0": 9195277.43772242,
          "y1": 5060794.463667819
         },
         {
          "line": {
           "color": "red",
           "width": 1
          },
          "type": "line",
          "x0": 6,
          "x1": 6,
          "y0": 1.804371440747405E7,
          "y1": 929576.308561404
         },
         {
          "line": {
           "color": "green",
           "width": 1
          },
          "type": "line",
          "x0": 7,
          "x1": 7,
          "y0": 2.7869543590163045E7,
          "y1": 3.0251820872288786E7
         },
         {
          "line": {
           "color": "red",
           "width": 1
          },
          "type": "line",
          "x0": 8,
          "x1": 8,
          "y0": 3.906415629360915E7,
          "y1": 1.0925279306464152E7
         },
         {
          "line": {
           "color": "red",
           "width": 1
          },
          "type": "line",
          "x0": 9,
          "x1": 9,
          "y0": 4.077796282527881E7,
          "y1": 1.0062941801919013E7
         },
         {
          "line": {
           "color": "green",
           "width": 1
          },
          "type": "line",
          "x0": 10,
          "x1": 10,
          "y0": 4.350207015384615E7,
          "y1": 4.350207015384615E7
         },
         {
          "line": {
           "color": "red",
           "width": 1
          },
          "type": "line",
          "x0": 11,
          "x1": 11,
          "y0": 4.393878588347664E7,
          "y1": 6370774.219697341
         },
         {
          "line": {
           "color": "red",
           "width": 1
          },
          "type": "line",
          "x0": 12,
          "x1": 12,
          "y0": 4.488348962655602E7,
          "y1": 2.2996377358490564E7
         },
         {
          "line": {
           "color": "red",
           "width": 1
          },
          "type": "line",
          "x0": 13,
          "x1": 13,
          "y0": 4.744504078070652E7,
          "y1": 6613030.645021271
         },
         {
          "line": {
           "color": "red",
           "width": 1
          },
          "type": "line",
          "x0": 14,
          "x1": 14,
          "y0": 5.594632157676348E7,
          "y1": 2.299637735849057E7
         },
         {
          "line": {
           "color": "red",
           "width": 1
          },
          "type": "line",
          "x0": 15,
          "x1": 15,
          "y0": 5.60154557492516E7,
          "y1": 1.3935900855859581E7
         },
         {
          "line": {
           "color": "red",
           "width": 1
          },
          "type": "line",
          "x0": 16,
          "x1": 16,
          "y0": 5.911866328408084E7,
          "y1": 4.050304838526397E7
         },
         {
          "line": {
           "color": "red",
           "width": 1
          },
          "type": "line",
          "x0": 17,
          "x1": 17,
          "y0": 6.4886776065386906E7,
          "y1": 4.90855979763584E7
         },
         {
          "line": {
           "color": "green",
           "width": 1
          },
          "type": "line",
          "x0": 18,
          "x1": 18,
          "y0": 7.440374340335742E7,
          "y1": 1.4355341537841493E8
         },
         {
          "line": {
           "color": "green",
           "width": 1
          },
          "type": "line",
          "x0": 19,
          "x1": 19,
          "y0": 7.718714876440808E7,
          "y1": 8.365712669414319E7
         },
         {
          "line": {
           "color": "red",
           "width": 1
          },
          "type": "line",
          "x0": 20,
          "x1": 20,
          "y0": 9.628130111524165E7,
          "y1": 5956436.309161831
         },
         {
          "line": {
           "color": "red",
           "width": 1
          },
          "type": "line",
          "x0": 21,
          "x1": 21,
          "y0": 1.0623270030120483E8,
          "y1": 2.0130904945255473E7
         },
         {
          "line": {
           "color": "red",
           "width": 1
          },
          "type": "line",
          "x0": 22,
          "x1": 22,
          "y0": 1.0831963918673201E8,
          "y1": 8.480021045845057E7
         },
         {
          "line": {
           "color": "red",
           "width": 1
          },
          "type": "line",
          "x0": 23,
          "x1": 23,
          "y0": 1.1314497419910584E8,
          "y1": 5.571201245795436E7
         },
         {
          "line": {
           "color": "red",
           "width": 1
          },
          "type": "line",
          "x0": 24,
          "x1": 24,
          "y0": 1.2465715510175976E8,
          "y1": 2.808168979221733E7
         },
         {
          "line": {
           "color": "red",
           "width": 1
          },
          "type": "line",
          "x0": 25,
          "x1": 25,
          "y0": 1.3282366849204724E8,
          "y1": 1.825523787962617E7
         },
         {
          "line": {
           "color": "red",
           "width": 1
          },
          "type": "line",
          "x0": 26,
          "x1": 26,
          "y0": 1.3557854755638036E8,
          "y1": 3.412800595274101E7
         },
         {
          "line": {
           "color": "red",
           "width": 1
          },
          "type": "line",
          "x0": 27,
          "x1": 27,
          "y0": 1.359724949290061E8,
          "y1": 2.253153062378341E7
         },
         {
          "line": {
           "color": "red",
           "width": 1
          },
          "type": "line",
          "x0": 28,
          "x1": 28,
          "y0": 1.4329759815195423E8,
          "y1": 6.442437089856714E7
         },
         {
          "line": {
           "color": "red",
           "width": 1
          },
          "type": "line",
          "x0": 29,
          "x1": 29,
          "y0": 1.4680424029126212E8,
          "y1": 6.13741113114413E7
         },
         {
          "line": {
           "color": "red",
           "width": 1
          },
          "type": "line",
          "x0": 30,
          "x1": 30,
          "y0": 1.806639560069697E8,
          "y1": 5289489.863150467
         },
         {
          "line": {
           "color": "red",
           "width": 1
          },
          "type": "line",
          "x0": 31,
          "x1": 31,
          "y0": 1.8100048506151143E8,
          "y1": 3.2486985227551013E7
         },
         {
          "line": {
           "color": "red",
           "width": 1
          },
          "type": "line",
          "x0": 32,
          "x1": 32,
          "y0": 1.907261464097363E8,
          "y1": 1.2045487312193811E7
         },
         {
          "line": {
           "color": "red",
           "width": 1
          },
          "type": "line",
          "x0": 33,
          "x1": 33,
          "y0": 1.998365919057269E8,
          "y1": 1.5313896057161415E8
         },
         {
          "line": {
           "color": "red",
           "width": 1
          },
          "type": "line",
          "x0": 34,
          "x1": 34,
          "y0": 2.370186438300813E8,
          "y1": 6.6574516981770724E7
         },
         {
          "line": {
           "color": "red",
           "width": 1
          },
          "type": "line",
          "x0": 35,
          "x1": 35,
          "y0": 2.381276746832339E8,
          "y1": 7.15079183814399E7
         },
         {
          "line": {
           "color": "red",
           "width": 1
          },
          "type": "line",
          "x0": 36,
          "x1": 36,
          "y0": 2.3841960250509658E8,
          "y1": 7.851414579946013E7
         },
         {
          "line": {
           "color": "red",
           "width": 1
          },
          "type": "line",
          "x0": 37,
          "x1": 37,
          "y0": 2.4392449599468097E8,
          "y1": 2.0685762058197826E8
         },
         {
          "line": {
           "color": "red",
           "width": 1
          },
          "type": "line",
          "x0": 38,
          "x1": 38,
          "y0": 2.4431326257112858E8,
          "y1": 9.753664984686604E7
         },
         {
          "line": {
           "color": "red",
           "width": 1
          },
          "type": "line",
          "x0": 39,
          "x1": 39,
          "y0": 2.6337968872300613E8,
          "y1": 1.372604833781488E8
         },
         {
          "line": {
           "color": "red",
           "width": 1
          },
          "type": "line",
          "x0": 40,
          "x1": 40,
          "y0": 2.6632995335626563E8,
          "y1": 1.4942354133039615E8
         },
         {
          "line": {
           "color": "red",
           "width": 1
          },
          "type": "line",
          "x0": 41,
          "x1": 41,
          "y0": 2.706656580740741E8,
          "y1": 2.5371966186687288E8
         },
         {
          "line": {
           "color": "green",
           "width": 1
          },
          "type": "line",
          "x0": 42,
          "x1": 42,
          "y0": 2.827231169740682E8,
          "y1": 4.5264733365386957E8
         },
         {
          "line": {
           "color": "red",
           "width": 1
          },
          "type": "line",
          "x0": 43,
          "x1": 43,
          "y0": 2.853483796565518E8,
          "y1": 9.338009428348853E7
         },
         {
          "line": {
           "color": "red",
           "width": 1
          },
          "type": "line",
          "x0": 44,
          "x1": 44,
          "y0": 2.9749180696732795E8,
          "y1": 1.1598540861427665E7
         },
         {
          "line": {
           "color": "red",
           "width": 1
          },
          "type": "line",
          "x0": 45,
          "x1": 45,
          "y0": 2.98216543377748E8,
          "y1": 1.23364379451285E7
         },
         {
          "line": {
           "color": "red",
           "width": 1
          },
          "type": "line",
          "x0": 46,
          "x1": 46,
          "y0": 3.085978184511893E8,
          "y1": 8.572872550122279E7
         },
         {
          "line": {
           "color": "green",
           "width": 1
          },
          "type": "line",
          "x0": 47,
          "x1": 47,
          "y0": 3.2242387333762324E8,
          "y1": 6.061774794163766E8
         },
         {
          "line": {
           "color": "red",
           "width": 1
          },
          "type": "line",
          "x0": 48,
          "x1": 48,
          "y0": 3.262452346565905E8,
          "y1": 6.418354235321641E7
         },
         {
          "line": {
           "color": "red",
           "width": 1
          },
          "type": "line",
          "x0": 49,
          "x1": 49,
          "y0": 3.271340490797546E8,
          "y1": 6.533023781188865E7
         },
         {
          "line": {
           "color": "red",
           "width": 1
          },
          "type": "line",
          "x0": 50,
          "x1": 50,
          "y0": 3.360590459491778E8,
          "y1": 3.2722394106730217E8
         },
         {
          "line": {
           "color": "green",
           "width": 1
          },
          "type": "line",
          "x0": 51,
          "x1": 51,
          "y0": 3.515416728981947E8,
          "y1": 3.515416728981947E8
         },
         {
          "line": {
           "color": "green",
           "width": 1
          },
          "type": "line",
          "x0": 52,
          "x1": 52,
          "y0": 3.625161540925403E8,
          "y1": 5.580590797761269E8
         },
         {
          "line": {
           "color": "green",
           "width": 1
          },
          "type": "line",
          "x0": 53,
          "x1": 53,
          "y0": 3.6257208562224853E8,
          "y1": 5.595864912317369E8
         },
         {
          "line": {
           "color": "red",
           "width": 1
          },
          "type": "line",
          "x0": 54,
          "x1": 54,
          "y0": 3.6275704833388436E8,
          "y1": 2.796444546001199E7
         },
         {
          "line": {
           "color": "red",
           "width": 1
          },
          "type": "line",
          "x0": 55,
          "x1": 55,
          "y0": 3.8429085389987564E8,
          "y1": 7.516512866127801E7
         },
         {
          "line": {
           "color": "red",
           "width": 1
          },
          "type": "line",
          "x0": 56,
          "x1": 56,
          "y0": 3.90300968587139E8,
          "y1": 2.3009339440198207E8
         },
         {
          "line": {
           "color": "red",
           "width": 1
          },
          "type": "line",
          "x0": 57,
          "x1": 57,
          "y0": 3.953639613949016E8,
          "y1": 2.1570275732995835E8
         },
         {
          "line": {
           "color": "red",
           "width": 1
          },
          "type": "line",
          "x0": 58,
          "x1": 58,
          "y0": 4.108341573033708E8,
          "y1": 4.814065055762082E7
         },
         {
          "line": {
           "color": "red",
           "width": 1
          },
          "type": "line",
          "x0": 59,
          "x1": 59,
          "y0": 4.1969972451790637E8,
          "y1": 5.129842095603159E7
         },
         {
          "line": {
           "color": "red",
           "width": 1
          },
          "type": "line",
          "x0": 60,
          "x1": 60,
          "y0": 4.403984797286777E8,
          "y1": 3.556793309962987E8
         },
         {
          "line": {
           "color": "red",
           "width": 1
          },
          "type": "line",
          "x0": 61,
          "x1": 61,
          "y0": 4.674567968430452E8,
          "y1": 4.1527985363467634E8
         },
         {
          "line": {
           "color": "red",
           "width": 1
          },
          "type": "line",
          "x0": 62,
          "x1": 62,
          "y0": 4.852443342775044E8,
          "y1": 1.309779339817518E7
         },
         {
          "line": {
           "color": "red",
           "width": 1
          },
          "type": "line",
          "x0": 63,
          "x1": 63,
          "y0": 5.1576191264074755E8,
          "y1": 4.247737143541877E8
         },
         {
          "line": {
           "color": "red",
           "width": 1
          },
          "type": "line",
          "x0": 64,
          "x1": 64,
          "y0": 5.504387512681595E8,
          "y1": 7.57472414250254E7
         },
         {
          "line": {
           "color": "green",
           "width": 1
          },
          "type": "line",
          "x0": 65,
          "x1": 65,
          "y0": 6.013324238410596E8,
          "y1": 7.631422297971802E8
         },
         {
          "line": {
           "color": "red",
           "width": 1
          },
          "type": "line",
          "x0": 66,
          "x1": 66,
          "y0": 6.101711734158884E8,
          "y1": 4.797057204883427E8
         },
         {
          "line": {
           "color": "green",
           "width": 1
          },
          "type": "line",
          "x0": 67,
          "x1": 67,
          "y0": 6.491340514367537E8,
          "y1": 1.124953457663012E9
         },
         {
          "line": {
           "color": "green",
           "width": 1
          },
          "type": "line",
          "x0": 68,
          "x1": 68,
          "y0": 7.236847163823621E8,
          "y1": 8.870653965885832E8
         },
         {
          "line": {
           "color": "red",
           "width": 1
          },
          "type": "line",
          "x0": 69,
          "x1": 69,
          "y0": 7.607187315426891E8,
          "y1": 6.563449053699561E8
         },
         {
          "line": {
           "color": "red",
           "width": 1
          },
          "type": "line",
          "x0": 70,
          "x1": 70,
          "y0": 7.754625468057595E8,
          "y1": 5.213059688356058E8
         },
         {
          "line": {
           "color": "red",
           "width": 1
          },
          "type": "line",
          "x0": 71,
          "x1": 71,
          "y0": 7.891558063918041E8,
          "y1": 7.542128712871283E7
         },
         {
          "line": {
           "color": "green",
           "width": 1
          },
          "type": "line",
          "x0": 72,
          "x1": 72,
          "y0": 8.310745817462467E8,
          "y1": 8.524010647922045E8
         },
         {
          "line": {
           "color": "green",
           "width": 1
          },
          "type": "line",
          "x0": 73,
          "x1": 73,
          "y0": 8.334300256523772E8,
          "y1": 1.328924720354921E9
         },
         {
          "line": {
           "color": "red",
           "width": 1
          },
          "type": "line",
          "x0": 74,
          "x1": 74,
          "y0": 9.277735357801347E8,
          "y1": 5.248364632984693E8
         },
         {
          "line": {
           "color": "red",
           "width": 1
          },
          "type": "line",
          "x0": 75,
          "x1": 75,
          "y0": 9.607720720720721E8,
          "y1": 3.39956776859504E7
         },
         {
          "line": {
           "color": "red",
           "width": 1
          },
          "type": "line",
          "x0": 76,
          "x1": 76,
          "y0": 9.974671149438951E8,
          "y1": 1.860777038952973E8
         },
         {
          "line": {
           "color": "red",
           "width": 1
          },
          "type": "line",
          "x0": 77,
          "x1": 77,
          "y0": 1.0870579758468773E9,
          "y1": 6.928806834998916E8
         },
         {
          "line": {
           "color": "red",
           "width": 1
          },
          "type": "line",
          "x0": 78,
          "x1": 78,
          "y0": 1.1112989582390974E9,
          "y1": 4.6489782859746933E8
         },
         {
          "line": {
           "color": "red",
           "width": 1
          },
          "type": "line",
          "x0": 79,
          "x1": 79,
          "y0": 1.3917523007604334E9,
          "y1": 1.2867163307615757E9
         },
         {
          "line": {
           "color": "red",
           "width": 1
          },
          "type": "line",
          "x0": 80,
          "x1": 80,
          "y0": 1.4030219405005522E9,
          "y1": 1.3490162346294355E8
         },
         {
          "line": {
           "color": "red",
           "width": 1
          },
          "type": "line",
          "x0": 81,
          "x1": 81,
          "y0": 1.6770745965807004E9,
          "y1": 1.3763056096636822E9
         },
         {
          "line": {
           "color": "red",
           "width": 1
          },
          "type": "line",
          "x0": 82,
          "x1": 82,
          "y0": 1.8778730617851498E9,
          "y1": 2.2472368490488052E8
         },
         {
          "line": {
           "color": "red",
           "width": 1
          },
          "type": "line",
          "x0": 83,
          "x1": 83,
          "y0": 1.9287765608085537E9,
          "y1": 6.34490401264359E8
         },
         {
          "line": {
           "color": "red",
           "width": 1
          },
          "type": "line",
          "x0": 84,
          "x1": 84,
          "y0": 2.6655931302230487E9,
          "y1": 2.0416606639621186E8
         },
         {
          "line": {
           "color": "red",
           "width": 1
          },
          "type": "line",
          "x0": 85,
          "x1": 85,
          "y0": 3.026919351209955E9,
          "y1": 1.238014776457928E8
         },
         {
          "line": {
           "color": "red",
           "width": 1
          },
          "type": "line",
          "x0": 86,
          "x1": 86,
          "y0": 4.999489662533742E9,
          "y1": 5.283713596812534E7
         },
         {
          "line": {
           "color": "yellow",
           "dash": "dot"
          },
          "name": "Average movie box office revenue",
          "type": "line",
          "x0": 0,
          "x1": 1,
          "xref": "x domain",
          "y0": 2.7365016285212573E7,
          "y1": 2.7365016285212573E7,
          "yref": "y"
         }
        ],
        "yaxis": {
         "title": {
          "text": "Box office revenue"
         },
         "type": "log"
        },
        "title": {
         "text": "First movie vs Average sequel movie box office revenue"
        },
        "xaxis": {
         "title": {
          "text": "Collection"
         }
        },
        "width": 1000,
        "height": 600
       },
       "config": {
        "plotlyServerURL": "https://plot.ly"
       }
      },
      "text/html": [
       "<div>                            <div id=\"eba82dda-95a9-4778-8d81-2b367c561d25\" class=\"plotly-graph-div\" style=\"height:600px; width:1000px;\"></div>            <script type=\"text/javascript\">                require([\"plotly\"], function(Plotly) {                    window.PLOTLYENV=window.PLOTLYENV || {};                                    if (document.getElementById(\"eba82dda-95a9-4778-8d81-2b367c561d25\")) {                    Plotly.newPlot(                        \"eba82dda-95a9-4778-8d81-2b367c561d25\",                        [{\"hoverinfo\":\"text\",\"marker\":{\"color\":\"blue\"},\"mode\":\"markers\",\"name\":\"First movie \\u003cbr\\u003ebox office revenue\",\"text\":[\"The Boondock Saints Collection\\u003cbr\\u003eFirst movie box office revenue: 55.7K\",\"The Toxic Avenger Collection\\u003cbr\\u003eFirst movie box office revenue: 2.27M\",\"Flesh Gordon Collection\\u003cbr\\u003eFirst movie box office revenue: 5.6M\",\"The Stepfather Collection\\u003cbr\\u003eFirst movie box office revenue: 6.68M\",\"Silent Night, Deadly Night Collection\\u003cbr\\u003eFirst movie box office revenue: 7.31M\",\"The Amazing Colossal Man Collection\\u003cbr\\u003eFirst movie box office revenue: 9.2M\",\"Leprechaun Collection\\u003cbr\\u003eFirst movie box office revenue: 18M\",\"Firefly Collection\\u003cbr\\u003eFirst movie box office revenue: 27.9M\",\"Hellraiser Collection\\u003cbr\\u003eFirst movie box office revenue: 39.1M\",\"Allan Quatermain Collection\\u003cbr\\u003eFirst movie box office revenue: 40.8M\",\"King Kong (1933) Collection\\u003cbr\\u003eFirst movie box office revenue: 43.5M\",\"Air Bud Collection\\u003cbr\\u003eFirst movie box office revenue: 43.9M\",\"Cochise Collection\\u003cbr\\u003eFirst movie box office revenue: 44.9M\",\"Wrong Turn Collection\\u003cbr\\u003eFirst movie box office revenue: 47.4M\",\"Cheaper by the Dozen (1950) Collection\\u003cbr\\u003eFirst movie box office revenue: 55.9M\",\"Candyman Collection\\u003cbr\\u003eFirst movie box office revenue: 56M\",\"The Neverending Story Collection\\u003cbr\\u003eFirst movie box office revenue: 59.1M\",\"Crank Collection\\u003cbr\\u003eFirst movie box office revenue: 64.9M\",\"The Transporter Collection\\u003cbr\\u003eFirst movie box office revenue: 74.4M\",\"A Nightmare on Elm Street Collection\\u003cbr\\u003eFirst movie box office revenue: 77.2M\",\"Return of the Living Dead Collection\\u003cbr\\u003eFirst movie box office revenue: 96.3M\",\"Psycho Collection\\u003cbr\\u003eFirst movie box office revenue: 106M\",\"The Pink Panther (Original) Collection\\u003cbr\\u003eFirst movie box office revenue: 108M\",\"Short Circuit Collection\\u003cbr\\u003eFirst movie box office revenue: 113M\",\"Problem Child Collection\\u003cbr\\u003eFirst movie box office revenue: 125M\",\"Power Rangers Collection\\u003cbr\\u003eFirst movie box office revenue: 133M\",\"Urban Legend Collection\\u003cbr\\u003eFirst movie box office revenue: 136M\",\"Death Wish Collection\\u003cbr\\u003eFirst movie box office revenue: 136M\",\"RoboCop Collection\\u003cbr\\u003eFirst movie box office revenue: 143M\",\"Friday the 13th Collection\\u003cbr\\u003eFirst movie box office revenue: 147M\",\"Meatballs Collection\\u003cbr\\u003eFirst movie box office revenue: 181M\",\"Carrie Collection\\u003cbr\\u003eFirst movie box office revenue: 181M\",\"Texas Chainsaw Massacre Collection\\u003cbr\\u003eFirst movie box office revenue: 191M\",\"Father of the Bride (Steve Martin) Collection\\u003cbr\\u003eFirst movie box office revenue: 200M\",\"Pok\\u00e9mon Collection\\u003cbr\\u003eFirst movie box office revenue: 237M\",\"Police Academy Collection\\u003cbr\\u003eFirst movie box office revenue: 238M\",\"I Know What You Did Last Summer Collection\\u003cbr\\u003eFirst movie box office revenue: 238M\",\"Legally Blonde Collection\\u003cbr\\u003eFirst movie box office revenue: 244M\",\"Mortal Kombat Collection\\u003cbr\\u003eFirst movie box office revenue: 244M\",\"Rugrats Collection\\u003cbr\\u003eFirst movie box office revenue: 263M\",\"The Karate Kid Collection\\u003cbr\\u003eFirst movie box office revenue: 266M\",\"Dirty Harry Collection\\u003cbr\\u003eFirst movie box office revenue: 271M\",\"Bad Boys Collection\\u003cbr\\u003eFirst movie box office revenue: 283M\",\"Planet of the Apes (Original) Collection\\u003cbr\\u003eFirst movie box office revenue: 285M\",\"The Crow Collection\\u003cbr\\u003eFirst movie box office revenue: 297M\",\"Open Season Collection\\u003cbr\\u003eFirst movie box office revenue: 298M\",\"Airplane Collection\\u003cbr\\u003eFirst movie box office revenue: 309M\",\"Lethal Weapon Collection\\u003cbr\\u003eFirst movie box office revenue: 322M\",\"The Omen Collection\\u003cbr\\u003eFirst movie box office revenue: 326M\",\"Halloween Collection\\u003cbr\\u003eFirst movie box office revenue: 327M\",\"Scream Collection\\u003cbr\\u003eFirst movie box office revenue: 336M\",\"Red Cliff Collection\\u003cbr\\u003eFirst movie box office revenue: 352M\",\"The Bourne Collection\\u003cbr\\u003eFirst movie box office revenue: 363M\",\"Die Hard Collection\\u003cbr\\u003eFirst movie box office revenue: 363M\",\"The Amityville Collection\\u003cbr\\u003eFirst movie box office revenue: 363M\",\"Poltergeist Collection\\u003cbr\\u003eFirst movie box office revenue: 384M\",\"The Santa Clause Collection\\u003cbr\\u003eFirst movie box office revenue: 390M\",\"Rambo Collection\\u003cbr\\u003eFirst movie box office revenue: 395M\",\"Demetrius Collection\\u003cbr\\u003eFirst movie box office revenue: 411M\",\"Mad Max Collection\\u003cbr\\u003eFirst movie box office revenue: 420M\",\"Alien Collection\\u003cbr\\u003eFirst movie box office revenue: 440M\",\"The Jack Ryan Collection\\u003cbr\\u003eFirst movie box office revenue: 467M\",\"King Kong (1976) Collection\\u003cbr\\u003eFirst movie box office revenue: 485M\",\"Fantastic Four Collection\\u003cbr\\u003eFirst movie box office revenue: 516M\",\"Dr. Dolittle Collection\\u003cbr\\u003eFirst movie box office revenue: 550M\",\"James Bond Collection\\u003cbr\\u003eFirst movie box office revenue: 601M\",\"The Hannibal Lecter Collection\\u003cbr\\u003eFirst movie box office revenue: 610M\",\"Ice Age Collection\\u003cbr\\u003eFirst movie box office revenue: 649M\",\"Toy Story Collection\\u003cbr\\u003eFirst movie box office revenue: 724M\",\"The Mummy Collection\\u003cbr\\u003eFirst movie box office revenue: 761M\",\"Ocean's Collection\\u003cbr\\u003eFirst movie box office revenue: 775M\",\"Airport Collection\\u003cbr\\u003eFirst movie box office revenue: 789M\",\"Madagascar Collection\\u003cbr\\u003eFirst movie box office revenue: 831M\",\"Shrek Collection\\u003cbr\\u003eFirst movie box office revenue: 833M\",\"Beverly Hills Cop Collection\\u003cbr\\u003eFirst movie box office revenue: 928M\",\"American Graffiti Collection\\u003cbr\\u003eFirst movie box office revenue: 961M\",\"Peter Pan Collection\\u003cbr\\u003eFirst movie box office revenue: 997M\",\"Back to the Future Collection\\u003cbr\\u003eFirst movie box office revenue: 1.09B\",\"Home Alone Collection\\u003cbr\\u003eFirst movie box office revenue: 1.11B\",\"Spider-Man Collection\\u003cbr\\u003eFirst movie box office revenue: 1.39B\",\"Superman Collection\\u003cbr\\u003eFirst movie box office revenue: 1.4B\",\"Harry Potter Collection\\u003cbr\\u003eFirst movie box office revenue: 1.68B\",\"The Jungle Book Collection\\u003cbr\\u003eFirst movie box office revenue: 1.88B\",\"Jurassic Park Collection\\u003cbr\\u003eFirst movie box office revenue: 1.93B\",\"Jaws Collection\\u003cbr\\u003eFirst movie box office revenue: 2.67B\",\"The Exorcist Collection\\u003cbr\\u003eFirst movie box office revenue: 3.03B\",\"Bambi Collection\\u003cbr\\u003eFirst movie box office revenue: 5B\"],\"x\":[0,1,2,3,4,5,6,7,8,9,10,11,12,13,14,15,16,17,18,19,20,21,22,23,24,25,26,27,28,29,30,31,32,33,34,35,36,37,38,39,40,41,42,43,44,45,46,47,48,49,50,51,52,53,54,55,56,57,58,59,60,61,62,63,64,65,66,67,68,69,70,71,72,73,74,75,76,77,78,79,80,81,82,83,84,85,86],\"y\":[55729.739747899155,2265442.379182156,5599594.563894523,6675387.812323944,7306572.135899903,9195277.43772242,18043714.40747405,27869543.590163045,39064156.29360915,40777962.82527881,43502070.15384615,43938785.88347664,44883489.62655602,47445040.78070652,55946321.57676348,56015455.7492516,59118663.28408084,64886776.065386906,74403743.40335742,77187148.76440808,96281301.11524165,106232700.30120483,108319639.18673201,113144974.19910584,124657155.10175976,132823668.49204724,135578547.55638036,135972494.9290061,143297598.15195423,146804240.29126212,180663956.0069697,181000485.06151143,190726146.4097363,199836591.9057269,237018643.8300813,238127674.6832339,238419602.50509658,243924495.99468097,244313262.57112858,263379688.72300613,266329953.35626563,270665658.0740741,282723116.9740682,285348379.6565518,297491806.96732795,298216543.377748,308597818.4511893,322423873.33762324,326245234.6565905,327134049.0797546,336059045.9491778,351541672.8981947,362516154.0925403,362572085.62224853,362757048.33388436,384290853.89987564,390300968.587139,395363961.3949016,410834157.3033708,419699724.51790637,440398479.7286777,467456796.8430452,485244334.2775044,515761912.64074755,550438751.2681595,601332423.8410596,610171173.4158884,649134051.4367537,723684716.3823621,760718731.5426891,775462546.8057595,789155806.3918041,831074581.7462467,833430025.6523772,927773535.7801347,960772072.0720721,997467114.9438951,1087057975.8468773,1111298958.2390974,1391752300.7604334,1403021940.5005522,1677074596.5807004,1877873061.7851498,1928776560.8085537,2665593130.2230487,3026919351.209955,4999489662.533742],\"type\":\"scatter\"},{\"hoverinfo\":\"text\",\"marker\":{\"color\":\"lightblue\"},\"mode\":\"markers\",\"name\":\"Average sequel movie \\u003cbr\\u003ebox office revenue\",\"text\":[\"The Boondock Saints Collection\\u003cbr\\u003eAverage sequel movie box office revenue: 14.6M\",\"The Toxic Avenger Collection\\u003cbr\\u003eAverage sequel movie box office revenue: 447K\",\"Flesh Gordon Collection\\u003cbr\\u003eAverage sequel movie box office revenue: 3.17M\",\"The Stepfather Collection\\u003cbr\\u003eAverage sequel movie box office revenue: 3.73M\",\"Silent Night, Deadly Night Collection\\u003cbr\\u003eAverage sequel movie box office revenue: 103K\",\"The Amazing Colossal Man Collection\\u003cbr\\u003eAverage sequel movie box office revenue: 5.06M\",\"Leprechaun Collection\\u003cbr\\u003eAverage sequel movie box office revenue: 930K\",\"Firefly Collection\\u003cbr\\u003eAverage sequel movie box office revenue: 30.3M\",\"Hellraiser Collection\\u003cbr\\u003eAverage sequel movie box office revenue: 10.9M\",\"Allan Quatermain Collection\\u003cbr\\u003eAverage sequel movie box office revenue: 10.1M\",\"King Kong (1933) Collection\\u003cbr\\u003eAverage sequel movie box office revenue: 43.5M\",\"Air Bud Collection\\u003cbr\\u003eAverage sequel movie box office revenue: 6.37M\",\"Cochise Collection\\u003cbr\\u003eAverage sequel movie box office revenue: 23M\",\"Wrong Turn Collection\\u003cbr\\u003eAverage sequel movie box office revenue: 6.61M\",\"Cheaper by the Dozen (1950) Collection\\u003cbr\\u003eAverage sequel movie box office revenue: 23M\",\"Candyman Collection\\u003cbr\\u003eAverage sequel movie box office revenue: 13.9M\",\"The Neverending Story Collection\\u003cbr\\u003eAverage sequel movie box office revenue: 40.5M\",\"Crank Collection\\u003cbr\\u003eAverage sequel movie box office revenue: 49.1M\",\"The Transporter Collection\\u003cbr\\u003eAverage sequel movie box office revenue: 144M\",\"A Nightmare on Elm Street Collection\\u003cbr\\u003eAverage sequel movie box office revenue: 83.7M\",\"Return of the Living Dead Collection\\u003cbr\\u003eAverage sequel movie box office revenue: 5.96M\",\"Psycho Collection\\u003cbr\\u003eAverage sequel movie box office revenue: 20.1M\",\"The Pink Panther (Original) Collection\\u003cbr\\u003eAverage sequel movie box office revenue: 84.8M\",\"Short Circuit Collection\\u003cbr\\u003eAverage sequel movie box office revenue: 55.7M\",\"Problem Child Collection\\u003cbr\\u003eAverage sequel movie box office revenue: 28.1M\",\"Power Rangers Collection\\u003cbr\\u003eAverage sequel movie box office revenue: 18.3M\",\"Urban Legend Collection\\u003cbr\\u003eAverage sequel movie box office revenue: 34.1M\",\"Death Wish Collection\\u003cbr\\u003eAverage sequel movie box office revenue: 22.5M\",\"RoboCop Collection\\u003cbr\\u003eAverage sequel movie box office revenue: 64.4M\",\"Friday the 13th Collection\\u003cbr\\u003eAverage sequel movie box office revenue: 61.4M\",\"Meatballs Collection\\u003cbr\\u003eAverage sequel movie box office revenue: 5.29M\",\"Carrie Collection\\u003cbr\\u003eAverage sequel movie box office revenue: 32.5M\",\"Texas Chainsaw Massacre Collection\\u003cbr\\u003eAverage sequel movie box office revenue: 12M\",\"Father of the Bride (Steve Martin) Collection\\u003cbr\\u003eAverage sequel movie box office revenue: 153M\",\"Pok\\u00e9mon Collection\\u003cbr\\u003eAverage sequel movie box office revenue: 66.6M\",\"Police Academy Collection\\u003cbr\\u003eAverage sequel movie box office revenue: 71.5M\",\"I Know What You Did Last Summer Collection\\u003cbr\\u003eAverage sequel movie box office revenue: 78.5M\",\"Legally Blonde Collection\\u003cbr\\u003eAverage sequel movie box office revenue: 207M\",\"Mortal Kombat Collection\\u003cbr\\u003eAverage sequel movie box office revenue: 97.5M\",\"Rugrats Collection\\u003cbr\\u003eAverage sequel movie box office revenue: 137M\",\"The Karate Kid Collection\\u003cbr\\u003eAverage sequel movie box office revenue: 149M\",\"Dirty Harry Collection\\u003cbr\\u003eAverage sequel movie box office revenue: 254M\",\"Bad Boys Collection\\u003cbr\\u003eAverage sequel movie box office revenue: 453M\",\"Planet of the Apes (Original) Collection\\u003cbr\\u003eAverage sequel movie box office revenue: 93.4M\",\"The Crow Collection\\u003cbr\\u003eAverage sequel movie box office revenue: 11.6M\",\"Open Season Collection\\u003cbr\\u003eAverage sequel movie box office revenue: 12.3M\",\"Airplane Collection\\u003cbr\\u003eAverage sequel movie box office revenue: 85.7M\",\"Lethal Weapon Collection\\u003cbr\\u003eAverage sequel movie box office revenue: 606M\",\"The Omen Collection\\u003cbr\\u003eAverage sequel movie box office revenue: 64.2M\",\"Halloween Collection\\u003cbr\\u003eAverage sequel movie box office revenue: 65.3M\",\"Scream Collection\\u003cbr\\u003eAverage sequel movie box office revenue: 327M\",\"Red Cliff Collection\\u003cbr\\u003eAverage sequel movie box office revenue: 352M\",\"The Bourne Collection\\u003cbr\\u003eAverage sequel movie box office revenue: 558M\",\"Die Hard Collection\\u003cbr\\u003eAverage sequel movie box office revenue: 560M\",\"The Amityville Collection\\u003cbr\\u003eAverage sequel movie box office revenue: 28M\",\"Poltergeist Collection\\u003cbr\\u003eAverage sequel movie box office revenue: 75.2M\",\"The Santa Clause Collection\\u003cbr\\u003eAverage sequel movie box office revenue: 230M\",\"Rambo Collection\\u003cbr\\u003eAverage sequel movie box office revenue: 216M\",\"Demetrius Collection\\u003cbr\\u003eAverage sequel movie box office revenue: 48.1M\",\"Mad Max Collection\\u003cbr\\u003eAverage sequel movie box office revenue: 51.3M\",\"Alien Collection\\u003cbr\\u003eAverage sequel movie box office revenue: 356M\",\"The Jack Ryan Collection\\u003cbr\\u003eAverage sequel movie box office revenue: 415M\",\"King Kong (1976) Collection\\u003cbr\\u003eAverage sequel movie box office revenue: 13.1M\",\"Fantastic Four Collection\\u003cbr\\u003eAverage sequel movie box office revenue: 425M\",\"Dr. Dolittle Collection\\u003cbr\\u003eAverage sequel movie box office revenue: 75.7M\",\"James Bond Collection\\u003cbr\\u003eAverage sequel movie box office revenue: 763M\",\"The Hannibal Lecter Collection\\u003cbr\\u003eAverage sequel movie box office revenue: 480M\",\"Ice Age Collection\\u003cbr\\u003eAverage sequel movie box office revenue: 1.12B\",\"Toy Story Collection\\u003cbr\\u003eAverage sequel movie box office revenue: 887M\",\"The Mummy Collection\\u003cbr\\u003eAverage sequel movie box office revenue: 656M\",\"Ocean's Collection\\u003cbr\\u003eAverage sequel movie box office revenue: 521M\",\"Airport Collection\\u003cbr\\u003eAverage sequel movie box office revenue: 75.4M\",\"Madagascar Collection\\u003cbr\\u003eAverage sequel movie box office revenue: 852M\",\"Shrek Collection\\u003cbr\\u003eAverage sequel movie box office revenue: 1.33B\",\"Beverly Hills Cop Collection\\u003cbr\\u003eAverage sequel movie box office revenue: 525M\",\"American Graffiti Collection\\u003cbr\\u003eAverage sequel movie box office revenue: 34M\",\"Peter Pan Collection\\u003cbr\\u003eAverage sequel movie box office revenue: 186M\",\"Back to the Future Collection\\u003cbr\\u003eAverage sequel movie box office revenue: 693M\",\"Home Alone Collection\\u003cbr\\u003eAverage sequel movie box office revenue: 465M\",\"Spider-Man Collection\\u003cbr\\u003eAverage sequel movie box office revenue: 1.29B\",\"Superman Collection\\u003cbr\\u003eAverage sequel movie box office revenue: 135M\",\"Harry Potter Collection\\u003cbr\\u003eAverage sequel movie box office revenue: 1.38B\",\"The Jungle Book Collection\\u003cbr\\u003eAverage sequel movie box office revenue: 225M\",\"Jurassic Park Collection\\u003cbr\\u003eAverage sequel movie box office revenue: 634M\",\"Jaws Collection\\u003cbr\\u003eAverage sequel movie box office revenue: 204M\",\"The Exorcist Collection\\u003cbr\\u003eAverage sequel movie box office revenue: 124M\",\"Bambi Collection\\u003cbr\\u003eAverage sequel movie box office revenue: 52.8M\"],\"x\":[0,1,2,3,4,5,6,7,8,9,10,11,12,13,14,15,16,17,18,19,20,21,22,23,24,25,26,27,28,29,30,31,32,33,34,35,36,37,38,39,40,41,42,43,44,45,46,47,48,49,50,51,52,53,54,55,56,57,58,59,60,61,62,63,64,65,66,67,68,69,70,71,72,73,74,75,76,77,78,79,80,81,82,83,84,85,86],\"y\":[14590774.225313116,446684.5315403226,3166895.6642580647,3734555.490258065,103482.67329665483,5060794.463667819,929576.308561404,30251820.872288786,10925279.306464152,10062941.801919013,43502070.15384615,6370774.219697341,22996377.358490564,6613030.645021271,22996377.35849057,13935900.855859581,40503048.38526397,49085597.9763584,143553415.37841493,83657126.69414319,5956436.309161831,20130904.945255473,84800210.45845057,55712012.45795436,28081689.79221733,18255237.87962617,34128005.95274101,22531530.62378341,64424370.89856714,61374111.3114413,5289489.863150467,32486985.227551013,12045487.312193811,153138960.57161415,66574516.981770724,71507918.3814399,78514145.79946013,206857620.58197826,97536649.84686604,137260483.3781488,149423541.33039615,253719661.86687288,452647333.65386957,93380094.28348853,11598540.861427665,12336437.9451285,85728725.50122279,606177479.4163766,64183542.35321641,65330237.81188865,327223941.06730217,351541672.8981947,558059079.7761269,559586491.2317369,27964445.46001199,75165128.66127801,230093394.40198207,215702757.32995835,48140650.55762082,51298420.95603159,355679330.9962987,415279853.63467634,13097793.39817518,424773714.3541877,75747241.4250254,763142229.7971802,479705720.4883427,1124953457.663012,887065396.5885832,656344905.3699561,521305968.8356058,75421287.12871283,852401064.7922045,1328924720.354921,524836463.2984693,33995677.6859504,186077703.8952973,692880683.4998916,464897828.59746933,1286716330.7615757,134901623.46294355,1376305609.6636822,224723684.90488052,634490401.264359,204166066.39621186,123801477.6457928,52837135.96812534],\"type\":\"scatter\"}],                        {\"template\":{\"data\":{\"histogram2dcontour\":[{\"type\":\"histogram2dcontour\",\"colorbar\":{\"outlinewidth\":0,\"ticks\":\"\"},\"colorscale\":[[0.0,\"#0d0887\"],[0.1111111111111111,\"#46039f\"],[0.2222222222222222,\"#7201a8\"],[0.3333333333333333,\"#9c179e\"],[0.4444444444444444,\"#bd3786\"],[0.5555555555555556,\"#d8576b\"],[0.6666666666666666,\"#ed7953\"],[0.7777777777777778,\"#fb9f3a\"],[0.8888888888888888,\"#fdca26\"],[1.0,\"#f0f921\"]]}],\"choropleth\":[{\"type\":\"choropleth\",\"colorbar\":{\"outlinewidth\":0,\"ticks\":\"\"}}],\"histogram2d\":[{\"type\":\"histogram2d\",\"colorbar\":{\"outlinewidth\":0,\"ticks\":\"\"},\"colorscale\":[[0.0,\"#0d0887\"],[0.1111111111111111,\"#46039f\"],[0.2222222222222222,\"#7201a8\"],[0.3333333333333333,\"#9c179e\"],[0.4444444444444444,\"#bd3786\"],[0.5555555555555556,\"#d8576b\"],[0.6666666666666666,\"#ed7953\"],[0.7777777777777778,\"#fb9f3a\"],[0.8888888888888888,\"#fdca26\"],[1.0,\"#f0f921\"]]}],\"heatmap\":[{\"type\":\"heatmap\",\"colorbar\":{\"outlinewidth\":0,\"ticks\":\"\"},\"colorscale\":[[0.0,\"#0d0887\"],[0.1111111111111111,\"#46039f\"],[0.2222222222222222,\"#7201a8\"],[0.3333333333333333,\"#9c179e\"],[0.4444444444444444,\"#bd3786\"],[0.5555555555555556,\"#d8576b\"],[0.6666666666666666,\"#ed7953\"],[0.7777777777777778,\"#fb9f3a\"],[0.8888888888888888,\"#fdca26\"],[1.0,\"#f0f921\"]]}],\"heatmapgl\":[{\"type\":\"heatmapgl\",\"colorbar\":{\"outlinewidth\":0,\"ticks\":\"\"},\"colorscale\":[[0.0,\"#0d0887\"],[0.1111111111111111,\"#46039f\"],[0.2222222222222222,\"#7201a8\"],[0.3333333333333333,\"#9c179e\"],[0.4444444444444444,\"#bd3786\"],[0.5555555555555556,\"#d8576b\"],[0.6666666666666666,\"#ed7953\"],[0.7777777777777778,\"#fb9f3a\"],[0.8888888888888888,\"#fdca26\"],[1.0,\"#f0f921\"]]}],\"contourcarpet\":[{\"type\":\"contourcarpet\",\"colorbar\":{\"outlinewidth\":0,\"ticks\":\"\"}}],\"contour\":[{\"type\":\"contour\",\"colorbar\":{\"outlinewidth\":0,\"ticks\":\"\"},\"colorscale\":[[0.0,\"#0d0887\"],[0.1111111111111111,\"#46039f\"],[0.2222222222222222,\"#7201a8\"],[0.3333333333333333,\"#9c179e\"],[0.4444444444444444,\"#bd3786\"],[0.5555555555555556,\"#d8576b\"],[0.6666666666666666,\"#ed7953\"],[0.7777777777777778,\"#fb9f3a\"],[0.8888888888888888,\"#fdca26\"],[1.0,\"#f0f921\"]]}],\"surface\":[{\"type\":\"surface\",\"colorbar\":{\"outlinewidth\":0,\"ticks\":\"\"},\"colorscale\":[[0.0,\"#0d0887\"],[0.1111111111111111,\"#46039f\"],[0.2222222222222222,\"#7201a8\"],[0.3333333333333333,\"#9c179e\"],[0.4444444444444444,\"#bd3786\"],[0.5555555555555556,\"#d8576b\"],[0.6666666666666666,\"#ed7953\"],[0.7777777777777778,\"#fb9f3a\"],[0.8888888888888888,\"#fdca26\"],[1.0,\"#f0f921\"]]}],\"mesh3d\":[{\"type\":\"mesh3d\",\"colorbar\":{\"outlinewidth\":0,\"ticks\":\"\"}}],\"scatter\":[{\"fillpattern\":{\"fillmode\":\"overlay\",\"size\":10,\"solidity\":0.2},\"type\":\"scatter\"}],\"parcoords\":[{\"type\":\"parcoords\",\"line\":{\"colorbar\":{\"outlinewidth\":0,\"ticks\":\"\"}}}],\"scatterpolargl\":[{\"type\":\"scatterpolargl\",\"marker\":{\"colorbar\":{\"outlinewidth\":0,\"ticks\":\"\"}}}],\"bar\":[{\"error_x\":{\"color\":\"#2a3f5f\"},\"error_y\":{\"color\":\"#2a3f5f\"},\"marker\":{\"line\":{\"color\":\"#E5ECF6\",\"width\":0.5},\"pattern\":{\"fillmode\":\"overlay\",\"size\":10,\"solidity\":0.2}},\"type\":\"bar\"}],\"scattergeo\":[{\"type\":\"scattergeo\",\"marker\":{\"colorbar\":{\"outlinewidth\":0,\"ticks\":\"\"}}}],\"scatterpolar\":[{\"type\":\"scatterpolar\",\"marker\":{\"colorbar\":{\"outlinewidth\":0,\"ticks\":\"\"}}}],\"histogram\":[{\"marker\":{\"pattern\":{\"fillmode\":\"overlay\",\"size\":10,\"solidity\":0.2}},\"type\":\"histogram\"}],\"scattergl\":[{\"type\":\"scattergl\",\"marker\":{\"colorbar\":{\"outlinewidth\":0,\"ticks\":\"\"}}}],\"scatter3d\":[{\"type\":\"scatter3d\",\"line\":{\"colorbar\":{\"outlinewidth\":0,\"ticks\":\"\"}},\"marker\":{\"colorbar\":{\"outlinewidth\":0,\"ticks\":\"\"}}}],\"scattermapbox\":[{\"type\":\"scattermapbox\",\"marker\":{\"colorbar\":{\"outlinewidth\":0,\"ticks\":\"\"}}}],\"scatterternary\":[{\"type\":\"scatterternary\",\"marker\":{\"colorbar\":{\"outlinewidth\":0,\"ticks\":\"\"}}}],\"scattercarpet\":[{\"type\":\"scattercarpet\",\"marker\":{\"colorbar\":{\"outlinewidth\":0,\"ticks\":\"\"}}}],\"carpet\":[{\"aaxis\":{\"endlinecolor\":\"#2a3f5f\",\"gridcolor\":\"white\",\"linecolor\":\"white\",\"minorgridcolor\":\"white\",\"startlinecolor\":\"#2a3f5f\"},\"baxis\":{\"endlinecolor\":\"#2a3f5f\",\"gridcolor\":\"white\",\"linecolor\":\"white\",\"minorgridcolor\":\"white\",\"startlinecolor\":\"#2a3f5f\"},\"type\":\"carpet\"}],\"table\":[{\"cells\":{\"fill\":{\"color\":\"#EBF0F8\"},\"line\":{\"color\":\"white\"}},\"header\":{\"fill\":{\"color\":\"#C8D4E3\"},\"line\":{\"color\":\"white\"}},\"type\":\"table\"}],\"barpolar\":[{\"marker\":{\"line\":{\"color\":\"#E5ECF6\",\"width\":0.5},\"pattern\":{\"fillmode\":\"overlay\",\"size\":10,\"solidity\":0.2}},\"type\":\"barpolar\"}],\"pie\":[{\"automargin\":true,\"type\":\"pie\"}]},\"layout\":{\"autotypenumbers\":\"strict\",\"colorway\":[\"#636efa\",\"#EF553B\",\"#00cc96\",\"#ab63fa\",\"#FFA15A\",\"#19d3f3\",\"#FF6692\",\"#B6E880\",\"#FF97FF\",\"#FECB52\"],\"font\":{\"color\":\"#2a3f5f\"},\"hovermode\":\"closest\",\"hoverlabel\":{\"align\":\"left\"},\"paper_bgcolor\":\"white\",\"plot_bgcolor\":\"#E5ECF6\",\"polar\":{\"bgcolor\":\"#E5ECF6\",\"angularaxis\":{\"gridcolor\":\"white\",\"linecolor\":\"white\",\"ticks\":\"\"},\"radialaxis\":{\"gridcolor\":\"white\",\"linecolor\":\"white\",\"ticks\":\"\"}},\"ternary\":{\"bgcolor\":\"#E5ECF6\",\"aaxis\":{\"gridcolor\":\"white\",\"linecolor\":\"white\",\"ticks\":\"\"},\"baxis\":{\"gridcolor\":\"white\",\"linecolor\":\"white\",\"ticks\":\"\"},\"caxis\":{\"gridcolor\":\"white\",\"linecolor\":\"white\",\"ticks\":\"\"}},\"coloraxis\":{\"colorbar\":{\"outlinewidth\":0,\"ticks\":\"\"}},\"colorscale\":{\"sequential\":[[0.0,\"#0d0887\"],[0.1111111111111111,\"#46039f\"],[0.2222222222222222,\"#7201a8\"],[0.3333333333333333,\"#9c179e\"],[0.4444444444444444,\"#bd3786\"],[0.5555555555555556,\"#d8576b\"],[0.6666666666666666,\"#ed7953\"],[0.7777777777777778,\"#fb9f3a\"],[0.8888888888888888,\"#fdca26\"],[1.0,\"#f0f921\"]],\"sequentialminus\":[[0.0,\"#0d0887\"],[0.1111111111111111,\"#46039f\"],[0.2222222222222222,\"#7201a8\"],[0.3333333333333333,\"#9c179e\"],[0.4444444444444444,\"#bd3786\"],[0.5555555555555556,\"#d8576b\"],[0.6666666666666666,\"#ed7953\"],[0.7777777777777778,\"#fb9f3a\"],[0.8888888888888888,\"#fdca26\"],[1.0,\"#f0f921\"]],\"diverging\":[[0,\"#8e0152\"],[0.1,\"#c51b7d\"],[0.2,\"#de77ae\"],[0.3,\"#f1b6da\"],[0.4,\"#fde0ef\"],[0.5,\"#f7f7f7\"],[0.6,\"#e6f5d0\"],[0.7,\"#b8e186\"],[0.8,\"#7fbc41\"],[0.9,\"#4d9221\"],[1,\"#276419\"]]},\"xaxis\":{\"gridcolor\":\"white\",\"linecolor\":\"white\",\"ticks\":\"\",\"title\":{\"standoff\":15},\"zerolinecolor\":\"white\",\"automargin\":true,\"zerolinewidth\":2},\"yaxis\":{\"gridcolor\":\"white\",\"linecolor\":\"white\",\"ticks\":\"\",\"title\":{\"standoff\":15},\"zerolinecolor\":\"white\",\"automargin\":true,\"zerolinewidth\":2},\"scene\":{\"xaxis\":{\"backgroundcolor\":\"#E5ECF6\",\"gridcolor\":\"white\",\"linecolor\":\"white\",\"showbackground\":true,\"ticks\":\"\",\"zerolinecolor\":\"white\",\"gridwidth\":2},\"yaxis\":{\"backgroundcolor\":\"#E5ECF6\",\"gridcolor\":\"white\",\"linecolor\":\"white\",\"showbackground\":true,\"ticks\":\"\",\"zerolinecolor\":\"white\",\"gridwidth\":2},\"zaxis\":{\"backgroundcolor\":\"#E5ECF6\",\"gridcolor\":\"white\",\"linecolor\":\"white\",\"showbackground\":true,\"ticks\":\"\",\"zerolinecolor\":\"white\",\"gridwidth\":2}},\"shapedefaults\":{\"line\":{\"color\":\"#2a3f5f\"}},\"annotationdefaults\":{\"arrowcolor\":\"#2a3f5f\",\"arrowhead\":0,\"arrowwidth\":1},\"geo\":{\"bgcolor\":\"white\",\"landcolor\":\"#E5ECF6\",\"subunitcolor\":\"white\",\"showland\":true,\"showlakes\":true,\"lakecolor\":\"white\"},\"title\":{\"x\":0.05},\"mapbox\":{\"style\":\"light\"}}},\"shapes\":[{\"line\":{\"color\":\"green\",\"width\":1},\"type\":\"line\",\"x0\":0,\"x1\":0,\"y0\":55729.739747899155,\"y1\":14590774.225313116},{\"line\":{\"color\":\"red\",\"width\":1},\"type\":\"line\",\"x0\":1,\"x1\":1,\"y0\":2265442.379182156,\"y1\":446684.5315403226},{\"line\":{\"color\":\"red\",\"width\":1},\"type\":\"line\",\"x0\":2,\"x1\":2,\"y0\":5599594.563894523,\"y1\":3166895.6642580647},{\"line\":{\"color\":\"red\",\"width\":1},\"type\":\"line\",\"x0\":3,\"x1\":3,\"y0\":6675387.812323944,\"y1\":3734555.490258065},{\"line\":{\"color\":\"red\",\"width\":1},\"type\":\"line\",\"x0\":4,\"x1\":4,\"y0\":7306572.135899903,\"y1\":103482.67329665483},{\"line\":{\"color\":\"red\",\"width\":1},\"type\":\"line\",\"x0\":5,\"x1\":5,\"y0\":9195277.43772242,\"y1\":5060794.463667819},{\"line\":{\"color\":\"red\",\"width\":1},\"type\":\"line\",\"x0\":6,\"x1\":6,\"y0\":18043714.40747405,\"y1\":929576.308561404},{\"line\":{\"color\":\"green\",\"width\":1},\"type\":\"line\",\"x0\":7,\"x1\":7,\"y0\":27869543.590163045,\"y1\":30251820.872288786},{\"line\":{\"color\":\"red\",\"width\":1},\"type\":\"line\",\"x0\":8,\"x1\":8,\"y0\":39064156.29360915,\"y1\":10925279.306464152},{\"line\":{\"color\":\"red\",\"width\":1},\"type\":\"line\",\"x0\":9,\"x1\":9,\"y0\":40777962.82527881,\"y1\":10062941.801919013},{\"line\":{\"color\":\"green\",\"width\":1},\"type\":\"line\",\"x0\":10,\"x1\":10,\"y0\":43502070.15384615,\"y1\":43502070.15384615},{\"line\":{\"color\":\"red\",\"width\":1},\"type\":\"line\",\"x0\":11,\"x1\":11,\"y0\":43938785.88347664,\"y1\":6370774.219697341},{\"line\":{\"color\":\"red\",\"width\":1},\"type\":\"line\",\"x0\":12,\"x1\":12,\"y0\":44883489.62655602,\"y1\":22996377.358490564},{\"line\":{\"color\":\"red\",\"width\":1},\"type\":\"line\",\"x0\":13,\"x1\":13,\"y0\":47445040.78070652,\"y1\":6613030.645021271},{\"line\":{\"color\":\"red\",\"width\":1},\"type\":\"line\",\"x0\":14,\"x1\":14,\"y0\":55946321.57676348,\"y1\":22996377.35849057},{\"line\":{\"color\":\"red\",\"width\":1},\"type\":\"line\",\"x0\":15,\"x1\":15,\"y0\":56015455.7492516,\"y1\":13935900.855859581},{\"line\":{\"color\":\"red\",\"width\":1},\"type\":\"line\",\"x0\":16,\"x1\":16,\"y0\":59118663.28408084,\"y1\":40503048.38526397},{\"line\":{\"color\":\"red\",\"width\":1},\"type\":\"line\",\"x0\":17,\"x1\":17,\"y0\":64886776.065386906,\"y1\":49085597.9763584},{\"line\":{\"color\":\"green\",\"width\":1},\"type\":\"line\",\"x0\":18,\"x1\":18,\"y0\":74403743.40335742,\"y1\":143553415.37841493},{\"line\":{\"color\":\"green\",\"width\":1},\"type\":\"line\",\"x0\":19,\"x1\":19,\"y0\":77187148.76440808,\"y1\":83657126.69414319},{\"line\":{\"color\":\"red\",\"width\":1},\"type\":\"line\",\"x0\":20,\"x1\":20,\"y0\":96281301.11524165,\"y1\":5956436.309161831},{\"line\":{\"color\":\"red\",\"width\":1},\"type\":\"line\",\"x0\":21,\"x1\":21,\"y0\":106232700.30120483,\"y1\":20130904.945255473},{\"line\":{\"color\":\"red\",\"width\":1},\"type\":\"line\",\"x0\":22,\"x1\":22,\"y0\":108319639.18673201,\"y1\":84800210.45845057},{\"line\":{\"color\":\"red\",\"width\":1},\"type\":\"line\",\"x0\":23,\"x1\":23,\"y0\":113144974.19910584,\"y1\":55712012.45795436},{\"line\":{\"color\":\"red\",\"width\":1},\"type\":\"line\",\"x0\":24,\"x1\":24,\"y0\":124657155.10175976,\"y1\":28081689.79221733},{\"line\":{\"color\":\"red\",\"width\":1},\"type\":\"line\",\"x0\":25,\"x1\":25,\"y0\":132823668.49204724,\"y1\":18255237.87962617},{\"line\":{\"color\":\"red\",\"width\":1},\"type\":\"line\",\"x0\":26,\"x1\":26,\"y0\":135578547.55638036,\"y1\":34128005.95274101},{\"line\":{\"color\":\"red\",\"width\":1},\"type\":\"line\",\"x0\":27,\"x1\":27,\"y0\":135972494.9290061,\"y1\":22531530.62378341},{\"line\":{\"color\":\"red\",\"width\":1},\"type\":\"line\",\"x0\":28,\"x1\":28,\"y0\":143297598.15195423,\"y1\":64424370.89856714},{\"line\":{\"color\":\"red\",\"width\":1},\"type\":\"line\",\"x0\":29,\"x1\":29,\"y0\":146804240.29126212,\"y1\":61374111.3114413},{\"line\":{\"color\":\"red\",\"width\":1},\"type\":\"line\",\"x0\":30,\"x1\":30,\"y0\":180663956.0069697,\"y1\":5289489.863150467},{\"line\":{\"color\":\"red\",\"width\":1},\"type\":\"line\",\"x0\":31,\"x1\":31,\"y0\":181000485.06151143,\"y1\":32486985.227551013},{\"line\":{\"color\":\"red\",\"width\":1},\"type\":\"line\",\"x0\":32,\"x1\":32,\"y0\":190726146.4097363,\"y1\":12045487.312193811},{\"line\":{\"color\":\"red\",\"width\":1},\"type\":\"line\",\"x0\":33,\"x1\":33,\"y0\":199836591.9057269,\"y1\":153138960.57161415},{\"line\":{\"color\":\"red\",\"width\":1},\"type\":\"line\",\"x0\":34,\"x1\":34,\"y0\":237018643.8300813,\"y1\":66574516.981770724},{\"line\":{\"color\":\"red\",\"width\":1},\"type\":\"line\",\"x0\":35,\"x1\":35,\"y0\":238127674.6832339,\"y1\":71507918.3814399},{\"line\":{\"color\":\"red\",\"width\":1},\"type\":\"line\",\"x0\":36,\"x1\":36,\"y0\":238419602.50509658,\"y1\":78514145.79946013},{\"line\":{\"color\":\"red\",\"width\":1},\"type\":\"line\",\"x0\":37,\"x1\":37,\"y0\":243924495.99468097,\"y1\":206857620.58197826},{\"line\":{\"color\":\"red\",\"width\":1},\"type\":\"line\",\"x0\":38,\"x1\":38,\"y0\":244313262.57112858,\"y1\":97536649.84686604},{\"line\":{\"color\":\"red\",\"width\":1},\"type\":\"line\",\"x0\":39,\"x1\":39,\"y0\":263379688.72300613,\"y1\":137260483.3781488},{\"line\":{\"color\":\"red\",\"width\":1},\"type\":\"line\",\"x0\":40,\"x1\":40,\"y0\":266329953.35626563,\"y1\":149423541.33039615},{\"line\":{\"color\":\"red\",\"width\":1},\"type\":\"line\",\"x0\":41,\"x1\":41,\"y0\":270665658.0740741,\"y1\":253719661.86687288},{\"line\":{\"color\":\"green\",\"width\":1},\"type\":\"line\",\"x0\":42,\"x1\":42,\"y0\":282723116.9740682,\"y1\":452647333.65386957},{\"line\":{\"color\":\"red\",\"width\":1},\"type\":\"line\",\"x0\":43,\"x1\":43,\"y0\":285348379.6565518,\"y1\":93380094.28348853},{\"line\":{\"color\":\"red\",\"width\":1},\"type\":\"line\",\"x0\":44,\"x1\":44,\"y0\":297491806.96732795,\"y1\":11598540.861427665},{\"line\":{\"color\":\"red\",\"width\":1},\"type\":\"line\",\"x0\":45,\"x1\":45,\"y0\":298216543.377748,\"y1\":12336437.9451285},{\"line\":{\"color\":\"red\",\"width\":1},\"type\":\"line\",\"x0\":46,\"x1\":46,\"y0\":308597818.4511893,\"y1\":85728725.50122279},{\"line\":{\"color\":\"green\",\"width\":1},\"type\":\"line\",\"x0\":47,\"x1\":47,\"y0\":322423873.33762324,\"y1\":606177479.4163766},{\"line\":{\"color\":\"red\",\"width\":1},\"type\":\"line\",\"x0\":48,\"x1\":48,\"y0\":326245234.6565905,\"y1\":64183542.35321641},{\"line\":{\"color\":\"red\",\"width\":1},\"type\":\"line\",\"x0\":49,\"x1\":49,\"y0\":327134049.0797546,\"y1\":65330237.81188865},{\"line\":{\"color\":\"red\",\"width\":1},\"type\":\"line\",\"x0\":50,\"x1\":50,\"y0\":336059045.9491778,\"y1\":327223941.06730217},{\"line\":{\"color\":\"green\",\"width\":1},\"type\":\"line\",\"x0\":51,\"x1\":51,\"y0\":351541672.8981947,\"y1\":351541672.8981947},{\"line\":{\"color\":\"green\",\"width\":1},\"type\":\"line\",\"x0\":52,\"x1\":52,\"y0\":362516154.0925403,\"y1\":558059079.7761269},{\"line\":{\"color\":\"green\",\"width\":1},\"type\":\"line\",\"x0\":53,\"x1\":53,\"y0\":362572085.62224853,\"y1\":559586491.2317369},{\"line\":{\"color\":\"red\",\"width\":1},\"type\":\"line\",\"x0\":54,\"x1\":54,\"y0\":362757048.33388436,\"y1\":27964445.46001199},{\"line\":{\"color\":\"red\",\"width\":1},\"type\":\"line\",\"x0\":55,\"x1\":55,\"y0\":384290853.89987564,\"y1\":75165128.66127801},{\"line\":{\"color\":\"red\",\"width\":1},\"type\":\"line\",\"x0\":56,\"x1\":56,\"y0\":390300968.587139,\"y1\":230093394.40198207},{\"line\":{\"color\":\"red\",\"width\":1},\"type\":\"line\",\"x0\":57,\"x1\":57,\"y0\":395363961.3949016,\"y1\":215702757.32995835},{\"line\":{\"color\":\"red\",\"width\":1},\"type\":\"line\",\"x0\":58,\"x1\":58,\"y0\":410834157.3033708,\"y1\":48140650.55762082},{\"line\":{\"color\":\"red\",\"width\":1},\"type\":\"line\",\"x0\":59,\"x1\":59,\"y0\":419699724.51790637,\"y1\":51298420.95603159},{\"line\":{\"color\":\"red\",\"width\":1},\"type\":\"line\",\"x0\":60,\"x1\":60,\"y0\":440398479.7286777,\"y1\":355679330.9962987},{\"line\":{\"color\":\"red\",\"width\":1},\"type\":\"line\",\"x0\":61,\"x1\":61,\"y0\":467456796.8430452,\"y1\":415279853.63467634},{\"line\":{\"color\":\"red\",\"width\":1},\"type\":\"line\",\"x0\":62,\"x1\":62,\"y0\":485244334.2775044,\"y1\":13097793.39817518},{\"line\":{\"color\":\"red\",\"width\":1},\"type\":\"line\",\"x0\":63,\"x1\":63,\"y0\":515761912.64074755,\"y1\":424773714.3541877},{\"line\":{\"color\":\"red\",\"width\":1},\"type\":\"line\",\"x0\":64,\"x1\":64,\"y0\":550438751.2681595,\"y1\":75747241.4250254},{\"line\":{\"color\":\"green\",\"width\":1},\"type\":\"line\",\"x0\":65,\"x1\":65,\"y0\":601332423.8410596,\"y1\":763142229.7971802},{\"line\":{\"color\":\"red\",\"width\":1},\"type\":\"line\",\"x0\":66,\"x1\":66,\"y0\":610171173.4158884,\"y1\":479705720.4883427},{\"line\":{\"color\":\"green\",\"width\":1},\"type\":\"line\",\"x0\":67,\"x1\":67,\"y0\":649134051.4367537,\"y1\":1124953457.663012},{\"line\":{\"color\":\"green\",\"width\":1},\"type\":\"line\",\"x0\":68,\"x1\":68,\"y0\":723684716.3823621,\"y1\":887065396.5885832},{\"line\":{\"color\":\"red\",\"width\":1},\"type\":\"line\",\"x0\":69,\"x1\":69,\"y0\":760718731.5426891,\"y1\":656344905.3699561},{\"line\":{\"color\":\"red\",\"width\":1},\"type\":\"line\",\"x0\":70,\"x1\":70,\"y0\":775462546.8057595,\"y1\":521305968.8356058},{\"line\":{\"color\":\"red\",\"width\":1},\"type\":\"line\",\"x0\":71,\"x1\":71,\"y0\":789155806.3918041,\"y1\":75421287.12871283},{\"line\":{\"color\":\"green\",\"width\":1},\"type\":\"line\",\"x0\":72,\"x1\":72,\"y0\":831074581.7462467,\"y1\":852401064.7922045},{\"line\":{\"color\":\"green\",\"width\":1},\"type\":\"line\",\"x0\":73,\"x1\":73,\"y0\":833430025.6523772,\"y1\":1328924720.354921},{\"line\":{\"color\":\"red\",\"width\":1},\"type\":\"line\",\"x0\":74,\"x1\":74,\"y0\":927773535.7801347,\"y1\":524836463.2984693},{\"line\":{\"color\":\"red\",\"width\":1},\"type\":\"line\",\"x0\":75,\"x1\":75,\"y0\":960772072.0720721,\"y1\":33995677.6859504},{\"line\":{\"color\":\"red\",\"width\":1},\"type\":\"line\",\"x0\":76,\"x1\":76,\"y0\":997467114.9438951,\"y1\":186077703.8952973},{\"line\":{\"color\":\"red\",\"width\":1},\"type\":\"line\",\"x0\":77,\"x1\":77,\"y0\":1087057975.8468773,\"y1\":692880683.4998916},{\"line\":{\"color\":\"red\",\"width\":1},\"type\":\"line\",\"x0\":78,\"x1\":78,\"y0\":1111298958.2390974,\"y1\":464897828.59746933},{\"line\":{\"color\":\"red\",\"width\":1},\"type\":\"line\",\"x0\":79,\"x1\":79,\"y0\":1391752300.7604334,\"y1\":1286716330.7615757},{\"line\":{\"color\":\"red\",\"width\":1},\"type\":\"line\",\"x0\":80,\"x1\":80,\"y0\":1403021940.5005522,\"y1\":134901623.46294355},{\"line\":{\"color\":\"red\",\"width\":1},\"type\":\"line\",\"x0\":81,\"x1\":81,\"y0\":1677074596.5807004,\"y1\":1376305609.6636822},{\"line\":{\"color\":\"red\",\"width\":1},\"type\":\"line\",\"x0\":82,\"x1\":82,\"y0\":1877873061.7851498,\"y1\":224723684.90488052},{\"line\":{\"color\":\"red\",\"width\":1},\"type\":\"line\",\"x0\":83,\"x1\":83,\"y0\":1928776560.8085537,\"y1\":634490401.264359},{\"line\":{\"color\":\"red\",\"width\":1},\"type\":\"line\",\"x0\":84,\"x1\":84,\"y0\":2665593130.2230487,\"y1\":204166066.39621186},{\"line\":{\"color\":\"red\",\"width\":1},\"type\":\"line\",\"x0\":85,\"x1\":85,\"y0\":3026919351.209955,\"y1\":123801477.6457928},{\"line\":{\"color\":\"red\",\"width\":1},\"type\":\"line\",\"x0\":86,\"x1\":86,\"y0\":4999489662.533742,\"y1\":52837135.96812534},{\"line\":{\"color\":\"yellow\",\"dash\":\"dot\"},\"name\":\"Average movie box office revenue\",\"type\":\"line\",\"x0\":0,\"x1\":1,\"xref\":\"x domain\",\"y0\":27365016.285212573,\"y1\":27365016.285212573,\"yref\":\"y\"}],\"yaxis\":{\"title\":{\"text\":\"Box office revenue\"},\"type\":\"log\"},\"title\":{\"text\":\"First movie vs Average sequel movie box office revenue\"},\"xaxis\":{\"title\":{\"text\":\"Collection\"}},\"width\":1000,\"height\":600},                        {\"responsive\": true}                    ).then(function(){\n",
       "                            \n",
       "var gd = document.getElementById('eba82dda-95a9-4778-8d81-2b367c561d25');\n",
       "var x = new MutationObserver(function (mutations, observer) {{\n",
       "        var display = window.getComputedStyle(gd).display;\n",
       "        if (!display || display === 'none') {{\n",
       "            console.log([gd, 'removed!']);\n",
       "            Plotly.purge(gd);\n",
       "            observer.disconnect();\n",
       "        }}\n",
       "}});\n",
       "\n",
       "// Listen for the removal of the full notebook cells\n",
       "var notebookContainer = gd.closest('#notebook-container');\n",
       "if (notebookContainer) {{\n",
       "    x.observe(notebookContainer, {childList: true});\n",
       "}}\n",
       "\n",
       "// Listen for the clearing of the current output cell\n",
       "var outputEl = gd.closest('.output');\n",
       "if (outputEl) {{\n",
       "    x.observe(outputEl, {childList: true});\n",
       "}}\n",
       "\n",
       "                        })                };                });            </script>        </div>"
      ]
     },
     "metadata": {},
     "output_type": "display_data"
    }
   ],
   "execution_count": 279
  },
  {
   "cell_type": "markdown",
   "id": "78d67dc0",
   "metadata": {},
   "source": [
    "These plots highlight where the first movie outperforms the sequel (red lines) and vice versa (green lines). The second plot also includes a yellow horizontal line showing the average box office revenue of all movies in the dataset.\n",
    "\n",
    "The log scale on the y-axis is used to better visualize large differences in revenue, especially when there are very high values."
   ]
  },
  {
   "cell_type": "markdown",
   "id": "50eafa110cdecfc5",
   "metadata": {},
   "source": [
    "## 4. Number of movies in a collection"
   ]
  },
  {
   "cell_type": "markdown",
   "id": "1196cb93",
   "metadata": {},
   "source": [
    "A plot of the comparison between the budget and the box office revenue for collection. The x-axis is the budget and the y-axis is the revenue. The size of the circles is proportional to the number of movies in the collection. \n",
    "get_budget_vs_revenue first computes the box office revenue and budget for each movie in the collection, then calculates the total box office revenue and budget for the collection. The budget is our first use of the extended data which wasn't in the original database, but was given by the TMDB API. The function then plots the data.\n",
    "\n"
   ]
  },
  {
   "cell_type": "code",
   "id": "6d8fd0a7ec6d91d8",
   "metadata": {
    "ExecuteTime": {
     "end_time": "2024-12-15T20:55:51.698050Z",
     "start_time": "2024-12-15T20:55:51.027927Z"
    }
   },
   "source": [
    "from src.models.collection_analysis import get_budget_vs_revenue\n",
    "import seaborn as sns\n",
    "\n",
    "fig = get_budget_vs_revenue(movie_frames_concat, [\"data/sequels/sequels_1880_2010_extended.csv\", \"data/sequels/sequels_2010_2024_extended.csv\"])\n",
    "fig.show()"
   ],
   "outputs": [
    {
     "name": "stderr",
     "output_type": "stream",
     "text": [
      "/usr/local/lib/python3.8/dist-packages/swifter/swifter.py:87: UserWarning:\n",
      "\n",
      "This pandas object has duplicate indices, and swifter may not be able to improve performance. Consider resetting the indices with `df.reset_index(drop=True)`.\n",
      "\n"
     ]
    },
    {
     "data": {
      "text/plain": [
       "Pandas Apply:   0%|          | 0/784 [00:00<?, ?it/s]"
      ],
      "application/vnd.jupyter.widget-view+json": {
       "version_major": 2,
       "version_minor": 0,
       "model_id": "471f435d771446e89dfd78e78011870c"
      }
     },
     "metadata": {},
     "output_type": "display_data"
    },
    {
     "data": {
      "application/vnd.plotly.v1+json": {
       "data": [
        {
         "hoverinfo": "text",
         "marker": {
          "color": [
           2.15880014E8,
           0.0,
           2.25613655E8,
           2.8262574E7,
           3.3368615E7,
           1.10604073E8,
           1.30489151E8,
           0.0,
           3.95765594E8,
           0.0,
           1.8151699E7,
           1.481E8,
           5.7059003E7,
           0.0,
           0.0,
           3.3151003E7,
           9.60352447E8,
           4.1474658E8,
           3.02405787E8,
           0.0,
           0.0,
           7.35534503E8,
           0.0,
           0.0,
           1.5101131E7,
           0.0,
           0.0,
           0.0,
           3.9732693E7,
           0.0,
           5.1562705E7,
           0.0,
           0.0,
           6425000.0,
           6980986.0,
           8.5E7,
           5550000.0,
           0.0,
           7.7491618E7,
           1300000.0,
           0.0,
           0.0,
           0.0,
           4116307.0,
           0.0,
           3.5227275E7,
           1.191925E7,
           4.025E7,
           0.0,
           0.0,
           0.0,
           3.8079905E8,
           0.0,
           9391937.0,
           0.0,
           4.70560949E8,
           0.0,
           0.0,
           0.0,
           0.0,
           0.0,
           0.0,
           0.0,
           2.1082165E7,
           6.19627482E8,
           0.0,
           1.65919887E8,
           3.2710894E7,
           3.6219574E7,
           2194784.0,
           3.945096E7,
           0.0,
           0.0,
           0.0,
           1.2E7,
           0.0,
           2.39897041E8,
           2.5E7,
           0.0,
           0.0,
           0.0,
           0.0,
           4.0E7,
           0.0,
           0.0,
           7.1518503E7,
           2.17651422E8,
           0.0,
           0.0,
           5.421637048E9,
           0.0,
           4.8517185E7,
           1.44133816E8,
           9.1476204E8,
           1.3818181E7,
           2.09588246E8,
           1.925332111E9,
           0.0,
           1.34403112E8,
           0.0,
           0.0,
           6.10521068E8,
           0.0,
           3.6642838E7,
           0.0,
           0.0,
           3712000.0,
           9.5325665E7,
           3.91604363E8,
           1.0817562E7,
           8.97646626E8,
           0.0,
           0.0,
           0.0,
           0.0,
           1.88E7,
           1.36230219E8,
           1.134988849E9,
           4.9797148E7,
           0.0,
           0.0,
           0.0,
           5.0604203E7,
           1.01393569E8,
           1.73572781E8,
           0.0,
           7100000.0,
           0.0,
           0.0,
           3109904.0,
           0.0,
           1.124774054E9,
           0.0,
           0.0,
           8868786.0,
           2.06025977E8,
           6.1749765E7,
           1.97267333E8,
           0.0,
           6000000.0,
           8.2482842E7,
           3.46079773E8,
           0.0,
           2.51252027E8,
           2.11581892E8,
           1.76817172E8,
           7.6049034E7,
           7.85756E7,
           0.0,
           0.0,
           4.9207E7,
           2.9907685E7,
           4385516.0,
           0.0,
           0.0,
           0.0,
           4.27472805E8,
           2023414.0,
           0.0,
           4.968E8,
           4.3260131E7,
           0.0,
           0.0,
           1.09705854E8,
           0.0,
           9.67732E7,
           3.1132592E7,
           3.3395426E7,
           2.99591272E8,
           0.0,
           0.0,
           3.45409964E8,
           0.0,
           0.0,
           0.0,
           6.2327849E7,
           2.203206138E9,
           2645783.0,
           2.496346518E9,
           2.9066483E7,
           0.0,
           0.0,
           0.0,
           4.24084744E8,
           4.48191819E8,
           0.0,
           0.0,
           0.0,
           4.4836332E7,
           1328000.0,
           2.12140786E8,
           0.0,
           0.0,
           4.2349782E7,
           869235.0,
           0.0,
           1.1403529E7,
           0.0,
           3.7799643E7,
           0.0,
           0.0,
           0.0,
           1.0303659E7,
           9.45358579E8,
           0.0,
           0.0,
           1.62610416E8,
           0.0,
           4.53E7,
           1.69327687E8,
           5.8884499E8,
           0.0,
           0.0,
           8.33631488E8,
           0.0,
           1.7985893E7,
           3.25338851E8,
           0.0,
           5.94451947E8,
           3.41547211E8,
           2.60702809E8,
           0.0,
           2268000.0,
           0.0,
           0.0,
           9.51583777E8,
           2.11343479E8,
           0.0,
           9.26047111E8,
           0.0,
           1.3687027E7,
           0.0,
           1.250075319E9,
           0.0,
           3.7532335E7,
           1.3168027E7,
           4.4527234E7,
           1.07912717E8,
           0.0,
           2.5150385E7,
           0.0,
           1.45179997E8,
           9.33E7,
           3.7666766E7,
           0.0,
           2.1413105E7,
           4.73456544E8,
           0.0,
           0.0,
           4008536.0,
           6347072.0,
           9771658.0,
           0.0,
           0.0,
           0.0,
           1163561.0,
           2.3807612E8,
           0.0,
           0.0,
           8.46973915E8,
           0.0,
           0.0,
           0.0,
           1.11101957E8,
           0.0,
           9054451.0,
           808114.0,
           2.1411158E7,
           3.0147739E7,
           1.4545941E7,
           0.0,
           3.7650575E7,
           0.0,
           0.0
          ],
          "colorscale": [
           [
            0.0,
            "rgb(253, 253, 204)"
           ],
           [
            0.09090909090909091,
            "rgb(206, 236, 179)"
           ],
           [
            0.18181818181818182,
            "rgb(156, 219, 165)"
           ],
           [
            0.2727272727272727,
            "rgb(111, 201, 163)"
           ],
           [
            0.36363636363636365,
            "rgb(86, 177, 163)"
           ],
           [
            0.45454545454545453,
            "rgb(76, 153, 160)"
           ],
           [
            0.5454545454545454,
            "rgb(68, 130, 155)"
           ],
           [
            0.6363636363636364,
            "rgb(62, 108, 150)"
           ],
           [
            0.7272727272727273,
            "rgb(62, 82, 143)"
           ],
           [
            0.8181818181818182,
            "rgb(64, 60, 115)"
           ],
           [
            0.9090909090909091,
            "rgb(54, 43, 77)"
           ],
           [
            1.0,
            "rgb(39, 26, 44)"
           ]
          ],
          "showscale": true,
          "size": [
           10,
           5,
           35,
           15,
           20,
           10,
           15,
           10,
           15,
           10,
           10,
           10,
           10,
           5,
           5,
           10,
           15,
           10,
           10,
           15,
           15,
           15,
           10,
           5,
           5,
           40,
           5,
           10,
           15,
           10,
           10,
           140,
           55,
           10,
           30,
           15,
           10,
           20,
           10,
           10,
           10,
           25,
           5,
           10,
           15,
           15,
           20,
           10,
           10,
           10,
           35,
           10,
           5,
           10,
           10,
           25,
           30,
           10,
           40,
           20,
           5,
           20,
           10,
           5,
           10,
           5,
           10,
           10,
           10,
           10,
           10,
           10,
           10,
           35,
           25,
           15,
           50,
           10,
           15,
           20,
           10,
           70,
           15,
           5,
           10,
           10,
           30,
           15,
           15,
           30,
           10,
           40,
           25,
           15,
           10,
           15,
           15,
           10,
           10,
           5,
           10,
           15,
           10,
           10,
           10,
           5,
           10,
           10,
           15,
           30,
           20,
           30,
           40,
           5,
           25,
           10,
           15,
           10,
           15,
           10,
           25,
           15,
           20,
           10,
           10,
           10,
           10,
           10,
           20,
           10,
           10,
           15,
           15,
           10,
           5,
           10,
           10,
           10,
           10,
           10,
           25,
           10,
           20,
           20,
           30,
           15,
           10,
           15,
           20,
           10,
           15,
           10,
           20,
           40,
           15,
           5,
           20,
           15,
           15,
           10,
           25,
           15,
           10,
           15,
           10,
           5,
           15,
           10,
           15,
           10,
           10,
           10,
           40,
           10,
           40,
           10,
           15,
           25,
           15,
           35,
           5,
           10,
           20,
           20,
           15,
           10,
           5,
           15,
           20,
           10,
           45,
           10,
           10,
           15,
           15,
           10,
           10,
           10,
           15,
           20,
           5,
           10,
           10,
           15,
           20,
           15,
           20,
           10,
           20,
           10,
           20,
           10,
           10,
           15,
           10,
           35,
           10,
           25,
           15,
           10,
           20,
           10,
           10,
           5,
           15,
           15,
           15,
           15,
           15,
           15,
           10,
           30,
           15,
           15,
           10,
           15,
           10,
           20,
           5,
           15,
           10,
           45,
           10,
           15,
           20,
           5,
           15,
           10,
           15,
           10,
           5,
           15,
           10,
           10,
           10,
           15,
           15,
           10,
           10,
           10,
           10,
           10,
           10,
           15,
           5,
           15,
           10,
           10,
           15,
           10,
           20,
           15,
           10,
           5
          ]
         },
         "mode": "markers",
         "text": [
          "101 Dalmatians (Animated) Collection",
          "976-EVIL Collection",
          "A Nightmare on Elm Street Collection",
          "Adventures of a Collection",
          "Air Bud Collection",
          "Airplane Collection",
          "Airport Collection",
          "Aladdin Collection",
          "Alien Collection",
          "All Quiet On The Western Front Collection",
          "Allan Quatermain Collection",
          "American Graffiti Collection",
          "Annie Collection",
          "At The Top Collection",
          "Atlantis Collection",
          "Ator Collection",
          "Back to the Future Collection",
          "Bad Boys Collection",
          "Bambi Collection",
          "Basket Case Trilogy",
          "Beach Party Collection",
          "Beverly Hills Cop Collection",
          "Blacula Collection",
          "Bloody Murder Collection",
          "Breakin' Collection",
          "Bullets, Bombs, and Babes Collection",
          "C.H.U.D. Collection",
          "Camp Blood Collection",
          "Candyman Collection",
          "Caprona (Amicus) Collection",
          "Carrie Collection",
          "Carry On Collection",
          "Charlie Chan (Sidney Toler) Collection",
          "Cheaper by the Dozen (1950) Collection",
          "Children of the Corn Collection",
          "Cinderella Collection",
          "Cochise Collection",
          "Confessions Collection",
          "Crank Collection",
          "Creature From The Black Lagoon Collection",
          "Cross of Iron Collection",
          "Daninsky Werewolf Collection",
          "Darkman Collection",
          "Darko Collection",
          "Dead or Alive Collection",
          "Death Note Collection",
          "Deathstalker Collection",
          "Demetrius Collection",
          "Demonic Toys Collection",
          "Dhoom Collection",
          "Dick Tracy Collection",
          "Die Hard Collection",
          "Die Supernasen Filmreihe",
          "District 13 Collection",
          "Doctor Who (Peter Cushing) Collection",
          "Dr. Dolittle Collection",
          "Dr. Kildare Collection",
          "Dr. Phibes Collection",
          "Dracula (Hammer) Collection",
          "Dracula (Universal) Collection",
          "El Lute Collection",
          "Enteng Kabisote Collection",
          "Even Angels Collection",
          "F/X Collection",
          "Fantastic Four Collection",
          "Fantomas Collection",
          "Father of the Bride (Steve Martin) Collection",
          "FernGully Collection",
          "Firefly Collection",
          "Flesh Gordon Collection",
          "Fletch Collection",
          "Flipper Collection",
          "Fontaine Khaled Collection",
          "Frankenstein (Hammer) Collection",
          "Frankenstein (Universal) Collection",
          "French Fried Vacation",
          "Friday the 13th Collection",
          "Fritz the Cat Collection",
          "Gamera (Heisei) Collection",
          "Gamera (Showa) Collection",
          "Gator Collection",
          "Godzilla (Showa) Collection",
          "Gone in 60 Seconds Trilogy",
          "Green Street Hooligans Collection",
          "Greetings Collection",
          "Grumpy Old Men Collection",
          "Halloween Collection",
          "Halloweentown Collection",
          "Harihar Nagar  Collection",
          "Harry Potter Collection",
          "Hellboy (Animated) Collection",
          "Hellraiser Collection",
          "Herbie Collection",
          "Home Alone Collection",
          "House of the Dead Collection",
          "I Know What You Did Last Summer Collection",
          "Ice Age Collection",
          "Inner Sanctum Mysteries Collection",
          "Inspector Gadget Collection",
          "Inspector Tanquerelle",
          "Jack Frost Collection",
          "Jaws Collection",
          "Johnny Tsunami Collection",
          "Joy Ride Collection",
          "Kamen Rider: The First Collection",
          "Kill or Be Killed Collection",
          "King Kong (1933) Collection",
          "King Kong (1976) Collection",
          "Legally Blonde Collection",
          "Leprechaun Collection",
          "Lethal Weapon Collection",
          "Lone Wolf and Cub Collection",
          "Love Comes Softly Collection",
          "Love Story Collection",
          "Lucky Stars Collection",
          "Macon County Collection",
          "Mad Max Collection",
          "Madagascar Collection",
          "Major League Collection",
          "Major Mahadevan Collection",
          "Mano Po Collection",
          "Martial Law Collection",
          "Meatballs Collection",
          "Miss Congeniality Collection",
          "Mortal Kombat Collection",
          "Mr. Boogedy Collection",
          "Navarone Collection",
          "Nekromantik Collection",
          "Nemesis Collection",
          "Night of the Demons Collection",
          "No Retreat, No Surrender Collection",
          "Ocean's Collection",
          "On the Buses Collection",
          "Once Were Warriors Collection",
          "Ong Bak Collection",
          "Open Season Collection",
          "Patton Collection",
          "Peter Pan Collection",
          "Phoenix Collection",
          "Piranha Collection",
          "Planet of the Apes (Original) Collection",
          "Pocahontas Collection",
          "Poison Ivy Collection",
          "Pokémon Collection",
          "Police Academy Collection",
          "Poltergeist Collection",
          "Power Rangers Collection",
          "Problem Child Collection",
          "Project A-Ko",
          "Project Shadowchaser Collection",
          "Psycho Collection",
          "Pulse Collection",
          "Pumpkinhead Collection",
          "Puppet Master Collection",
          "Quatermass (Hammer series)",
          "Queen Victoria Collection",
          "Rambo Collection",
          "Re-Animator Collection",
          "Rebirth of Mothra Collection",
          "Red Cliff Collection",
          "Return of the Living Dead Collection",
          "Ring Collection",
          "Ringo Collection",
          "RoboCop Collection",
          "Rock 'n' Roll High School Collection",
          "Romancing the Stone Collection",
          "Rooster Cogburn Collection",
          "Rosemary's Baby Collection",
          "Rugrats Collection",
          "Santa Baby Collection",
          "Scarecrow Collection",
          "Scream Collection",
          "Shake, Rattle & Roll Collection",
          "She Collection",
          "Sherlock Holmes (Basil Rathbone) Collection",
          "Short Circuit Collection",
          "Shrek Collection",
          "Silent Night, Deadly Night Collection",
          "Spider-Man Collection",
          "St. Trinian's Collection",
          "Stanley Windrush Collection",
          "Star Wars: The Ewok Adventures Collection",
          "Stepford Collection",
          "Superman Collection",
          "Tarzan (Animation) Collection",
          "Teenage Runaway Collection",
          "Terror Within Collection",
          "Tetsuo Collection",
          "Texas Chainsaw Massacre Collection",
          "The Amazing Colossal Man Collection",
          "The Amityville Collection",
          "The Ape Woman Collection",
          "The Aztec Mummy Collection",
          "The Bad News Bears Collection",
          "The Beastmaster Collection",
          "The Big Family Collection",
          "The Birds Collection",
          "The Black Mask Collection",
          "The Black Stallion Collection",
          "The Blind Dead Collection",
          "The Blob Collection",
          "The Boogey Man Collection",
          "The Boondock Saints Collection",
          "The Bourne Collection",
          "The Brave Archer Collection",
          "The Cheetah Girls Collection",
          "The Crow Collection",
          "The Cutting Edge Collection",
          "The Dirty Dozen Collection",
          "The Emperor's New Groove Collection",
          "The Exorcist Collection",
          "The Eye Collection",
          "The Fly Collection",
          "The Hannibal Lecter Collection",
          "The Hobgoblin Collection",
          "The Howling Collection",
          "The Hunchback of Notre Dame Collection",
          "The Invisible Man Collection",
          "The Jack Ryan Collection",
          "The Jungle Book Collection",
          "The Karate Kid Collection",
          "The Kolchak Collection",
          "The Last Picture Show and Texasville",
          "The Letters Collection",
          "The Librarian Collection",
          "The Lion King Collection",
          "The Little Mermaid Collection",
          "The Little Polar Bear Collection",
          "The Lord of the Rings Collection",
          "The Magnificent Seven Collection",
          "The Man From Snowy River Collection",
          "The Mummy (Universal) Collection",
          "The Mummy Collection",
          "The Musketeers Collection",
          "The Neverending Story Collection",
          "The Ninja Trilogy",
          "The Odd Couple Collection",
          "The Omen Collection",
          "The Over-the-Hill Gang Collection",
          "The Parent Trap Collection",
          "The Philadelphia Experiment Collection",
          "The Pink Panther (Original) Collection",
          "The Poseidon Adventure Collection",
          "The Prince & Me Collection",
          "The Prophecy Collection",
          "The Rescuers Collection",
          "The Santa Clause Collection",
          "The Sentimental Swordsman Collection",
          "The Skulls Collection",
          "The Stepfather Collection",
          "The Sting Collection",
          "The Swan Princess Collection",
          "The Sweeney Movie Collection",
          "The Tall Blond Man Collection",
          "The Three Musketeers (Silent era)",
          "The Toxic Avenger Collection",
          "The Transporter Collection",
          "The Usual Suspects Collection",
          "The Wolf Man Collection",
          "Toy Story Collection",
          "Transylvanians Trilogy",
          "Twitches Collection",
          "Un éléphant ça trompe énormément",
          "Urban Legend Collection",
          "WarGames Collection",
          "Warlock Collection",
          "Waxwork Collection",
          "When a Stranger Calls Collection",
          "Wild Things Collection",
          "Willard Collection",
          "Wishmaster Collection",
          "Wrong Turn Collection",
          "Xtro Collection",
          "Zatoichi: The Blind Swordsman Collection"
         ],
         "x": [
          0.0,
          0.0,
          7.920307975065474E7,
          0.0,
          2.056271165644172E7,
          4.736300518134715E7,
          3.0168514851485148E7,
          7196066.126855602,
          1.085894511760513E8,
          0.0,
          0.0,
          1.049249311294766E7,
          0.0,
          0.0,
          0.0,
          0.0,
          1.915433013303058E8,
          2.1527858695652175E8,
          0.0,
          5828270.849273145,
          0.0,
          7.510260563380282E7,
          0.0,
          538196.4673913043,
          0.0,
          0.0,
          1.2089789032258065E8,
          0.0,
          0.0,
          0.0,
          3.840781512605042E7,
          0.0,
          0.0,
          0.0,
          6255880.589830697,
          8468649.2495831,
          0.0,
          0.0,
          2.8405543099791642E7,
          0.0,
          0.0,
          0.0,
          0.0,
          5681108.619958329,
          0.0,
          0.0,
          0.0,
          5.0972453531598516E7,
          0.0,
          1.6625605158730159E7,
          0.0,
          1.6319158377964807E8,
          0.0,
          2.130415732484373E7,
          7523506.1728395065,
          0.0,
          0.0,
          546714.114832536,
          6393539.340357643,
          6102369.982733813,
          0.0,
          0.0,
          0.0,
          3.668952129221733E7,
          1.9104310752283666E8,
          0.0,
          0.0,
          0.0,
          1.0921218637992831E7,
          0.0,
          1.9658193548387095E7,
          0.0,
          0.0,
          0.0,
          1.9074163095481228E7,
          52.899652777777774,
          5.239425314409691E7,
          2.1631987829614606E7,
          1.0973661464585835E7,
          490325.0574712644,
          0.0,
          1.0976458632762115E7,
          3157533.678756477,
          1.1362217239916658E7,
          0.0,
          4.9983923884514436E7,
          8.24275499416187E7,
          0.0,
          937382.9222931243,
          2.3402611367127496E8,
          0.0,
          7727016.060862215,
          7.800870455709165E7,
          9.984275694051243E7,
          9068511.904761905,
          0.0,
          2.4873843601255447E8,
          0.0,
          1.987186956521739E7,
          0.0,
          0.0,
          1.2440619513264325E8,
          0.0,
          7101385.774947911,
          0.0,
          0.0,
          5859653.846153846,
          2.7801277372262776E7,
          7.451951086956522E7,
          9548793.85908802,
          1.3744447066194558E8,
          0.0,
          0.0,
          0.0,
          2.5551921762992565E7,
          0.0,
          3.50221441512181E7,
          2.12283618899876E8,
          5.140047233468287E7,
          0.0,
          0.0,
          0.0,
          0.0,
          0.0,
          5.695364485981309E7,
          0.0,
          2.3366717791411042E7,
          0.0,
          0.0,
          0.0,
          0.0,
          1.7743366860772896E8,
          0.0,
          0.0,
          1.2029405070992973E7,
          0.0,
          0.0,
          3.38745969983324E7,
          0.0,
          460324.20489119174,
          1.8808765432098765E7,
          0.0,
          2829033.0278723473,
          0.0,
          3.336153284671533E7,
          7.986698322031702E7,
          1.898454828660436E7,
          0.0,
          0.0,
          0.0,
          3.864935813326298E7,
          0.0,
          9068511.904761905,
          1818420.5049732213,
          0.0,
          0.0,
          1.9536053715497726E8,
          9630584.070722863,
          0.0,
          1.1362217239916657E8,
          1.3578373266574182E7,
          1.0973661464585835E7,
          0.0,
          1.2798640780677906E8,
          0.0,
          7.079507434944238E7,
          5.663605947955391E7,
          0.0,
          5.3083972125435546E7,
          0.0,
          413997.2826086957,
          4.556291588785047E7,
          0.0,
          0.0,
          0.0,
          2.575672020287405E7,
          4.770849811365483E8,
          670558.9788732395,
          7.017537605104235E8,
          1.278249439490624E7,
          0.0,
          1.4159014869888477E7,
          0.0,
          3.645923841743289E8,
          0.0,
          0.0,
          0.0,
          271473.62794012827,
          1.7173191496936765E7,
          0.0,
          1748481.2547819435,
          1828419.751363636,
          0.0,
          0.0,
          1.3422995594713658E7,
          0.0,
          0.0,
          0.0,
          0.0,
          0.0,
          1093428.229665072,
          0.0,
          1.1362217239916658E7,
          2.238468669126713E8,
          0.0,
          0.0,
          5.542223238598794E7,
          0.0,
          0.0,
          0.0,
          7.039320132013202E7,
          0.0,
          0.0,
          1.496842123094297E8,
          0.0,
          5663605.94795539,
          0.0,
          1.8007222582353197E7,
          1.274731713900135E8,
          3.3119782608695652E7,
          6.685758800329645E7,
          0.0,
          0.0,
          0.0,
          0.0,
          0.0,
          0.0,
          0.0,
          2.8946763640428257E8,
          2.1868564593301438E7,
          1.7591839898562975E7,
          1828212.0,
          1.686098023715415E8,
          0.0,
          7.460186687069626E7,
          2141479.919678715,
          0.0,
          3.1778736196319018E7,
          0.0,
          0.0,
          1.054332179930796E7,
          3.365182730923695E7,
          0.0,
          0.0,
          0.0,
          8.85897169089518E7,
          1.2822946405410412E8,
          0.0,
          6436173.429683157,
          3685911.290322581,
          0.0,
          0.0,
          0.0,
          0.0,
          0.0,
          2088891.1905065482,
          4.9925570916538656E7,
          0.0,
          2.1135398843930636E7,
          1.6460492196878752E8,
          0.0,
          0.0,
          0.0,
          2.4772520325203255E7,
          0.0,
          9983880.23444672,
          7601261.582323591,
          0.0,
          4516493.382742192,
          0.0,
          7999986.149732805,
          5878249.462241128,
          0.0,
          0.0
         ],
         "y": [
          2.15880014E8,
          0.0,
          2.25613655E8,
          2.8262574E7,
          3.3368615E7,
          1.10604073E8,
          1.30489151E8,
          0.0,
          3.95765594E8,
          0.0,
          1.8151699E7,
          1.481E8,
          5.7059003E7,
          0.0,
          0.0,
          3.3151003E7,
          9.60352447E8,
          4.1474658E8,
          3.02405787E8,
          0.0,
          0.0,
          7.35534503E8,
          0.0,
          0.0,
          1.5101131E7,
          0.0,
          0.0,
          0.0,
          3.9732693E7,
          0.0,
          5.1562705E7,
          0.0,
          0.0,
          6425000.0,
          6980986.0,
          8.5E7,
          5550000.0,
          0.0,
          7.7491618E7,
          1300000.0,
          0.0,
          0.0,
          0.0,
          4116307.0,
          0.0,
          3.5227275E7,
          1.191925E7,
          4.025E7,
          0.0,
          0.0,
          0.0,
          3.8079905E8,
          0.0,
          9391937.0,
          0.0,
          4.70560949E8,
          0.0,
          0.0,
          0.0,
          0.0,
          0.0,
          0.0,
          0.0,
          2.1082165E7,
          6.19627482E8,
          0.0,
          1.65919887E8,
          3.2710894E7,
          3.6219574E7,
          2194784.0,
          3.945096E7,
          0.0,
          0.0,
          0.0,
          1.2E7,
          0.0,
          2.39897041E8,
          2.5E7,
          0.0,
          0.0,
          0.0,
          0.0,
          4.0E7,
          0.0,
          0.0,
          7.1518503E7,
          2.17651422E8,
          0.0,
          0.0,
          5.421637048E9,
          0.0,
          4.8517185E7,
          1.44133816E8,
          9.1476204E8,
          1.3818181E7,
          2.09588246E8,
          1.925332111E9,
          0.0,
          1.34403112E8,
          0.0,
          0.0,
          6.10521068E8,
          0.0,
          3.6642838E7,
          0.0,
          0.0,
          3712000.0,
          9.5325665E7,
          3.91604363E8,
          1.0817562E7,
          8.97646626E8,
          0.0,
          0.0,
          0.0,
          0.0,
          1.88E7,
          1.36230219E8,
          1.134988849E9,
          4.9797148E7,
          0.0,
          0.0,
          0.0,
          5.0604203E7,
          1.01393569E8,
          1.73572781E8,
          0.0,
          7100000.0,
          0.0,
          0.0,
          3109904.0,
          0.0,
          1.124774054E9,
          0.0,
          0.0,
          8868786.0,
          2.06025977E8,
          6.1749765E7,
          1.97267333E8,
          0.0,
          6000000.0,
          8.2482842E7,
          3.46079773E8,
          0.0,
          2.51252027E8,
          2.11581892E8,
          1.76817172E8,
          7.6049034E7,
          7.85756E7,
          0.0,
          0.0,
          4.9207E7,
          2.9907685E7,
          4385516.0,
          0.0,
          0.0,
          0.0,
          4.27472805E8,
          2023414.0,
          0.0,
          4.968E8,
          4.3260131E7,
          0.0,
          0.0,
          1.09705854E8,
          0.0,
          9.67732E7,
          3.1132592E7,
          3.3395426E7,
          2.99591272E8,
          0.0,
          0.0,
          3.45409964E8,
          0.0,
          0.0,
          0.0,
          6.2327849E7,
          2.203206138E9,
          2645783.0,
          2.496346518E9,
          2.9066483E7,
          0.0,
          0.0,
          0.0,
          4.24084744E8,
          4.48191819E8,
          0.0,
          0.0,
          0.0,
          4.4836332E7,
          1328000.0,
          2.12140786E8,
          0.0,
          0.0,
          4.2349782E7,
          869235.0,
          0.0,
          1.1403529E7,
          0.0,
          3.7799643E7,
          0.0,
          0.0,
          0.0,
          1.0303659E7,
          9.45358579E8,
          0.0,
          0.0,
          1.62610416E8,
          0.0,
          4.53E7,
          1.69327687E8,
          5.8884499E8,
          0.0,
          0.0,
          8.33631488E8,
          0.0,
          1.7985893E7,
          3.25338851E8,
          0.0,
          5.94451947E8,
          3.41547211E8,
          2.60702809E8,
          0.0,
          2268000.0,
          0.0,
          0.0,
          9.51583777E8,
          2.11343479E8,
          0.0,
          9.26047111E8,
          0.0,
          1.3687027E7,
          0.0,
          1.250075319E9,
          0.0,
          3.7532335E7,
          1.3168027E7,
          4.4527234E7,
          1.07912717E8,
          0.0,
          2.5150385E7,
          0.0,
          1.45179997E8,
          9.33E7,
          3.7666766E7,
          0.0,
          2.1413105E7,
          4.73456544E8,
          0.0,
          0.0,
          4008536.0,
          6347072.0,
          9771658.0,
          0.0,
          0.0,
          0.0,
          1163561.0,
          2.3807612E8,
          0.0,
          0.0,
          8.46973915E8,
          0.0,
          0.0,
          0.0,
          1.11101957E8,
          0.0,
          9054451.0,
          808114.0,
          2.1411158E7,
          3.0147739E7,
          1.4545941E7,
          0.0,
          3.7650575E7,
          0.0,
          0.0
         ],
         "type": "scatter"
        },
        {
         "line": {
          "color": "gray",
          "dash": "dash",
          "width": 2
         },
         "mode": "lines+text",
         "text": "Return on investement",
         "textposition": "top left",
         "x": [
          0.0,
          1.0E9
         ],
         "y": [
          0.0,
          1.0E9
         ],
         "type": "scatter"
        }
       ],
       "layout": {
        "template": {
         "data": {
          "histogram2dcontour": [
           {
            "type": "histogram2dcontour",
            "colorbar": {
             "outlinewidth": 0,
             "ticks": ""
            },
            "colorscale": [
             [
              0.0,
              "#0d0887"
             ],
             [
              0.1111111111111111,
              "#46039f"
             ],
             [
              0.2222222222222222,
              "#7201a8"
             ],
             [
              0.3333333333333333,
              "#9c179e"
             ],
             [
              0.4444444444444444,
              "#bd3786"
             ],
             [
              0.5555555555555556,
              "#d8576b"
             ],
             [
              0.6666666666666666,
              "#ed7953"
             ],
             [
              0.7777777777777778,
              "#fb9f3a"
             ],
             [
              0.8888888888888888,
              "#fdca26"
             ],
             [
              1.0,
              "#f0f921"
             ]
            ]
           }
          ],
          "choropleth": [
           {
            "type": "choropleth",
            "colorbar": {
             "outlinewidth": 0,
             "ticks": ""
            }
           }
          ],
          "histogram2d": [
           {
            "type": "histogram2d",
            "colorbar": {
             "outlinewidth": 0,
             "ticks": ""
            },
            "colorscale": [
             [
              0.0,
              "#0d0887"
             ],
             [
              0.1111111111111111,
              "#46039f"
             ],
             [
              0.2222222222222222,
              "#7201a8"
             ],
             [
              0.3333333333333333,
              "#9c179e"
             ],
             [
              0.4444444444444444,
              "#bd3786"
             ],
             [
              0.5555555555555556,
              "#d8576b"
             ],
             [
              0.6666666666666666,
              "#ed7953"
             ],
             [
              0.7777777777777778,
              "#fb9f3a"
             ],
             [
              0.8888888888888888,
              "#fdca26"
             ],
             [
              1.0,
              "#f0f921"
             ]
            ]
           }
          ],
          "heatmap": [
           {
            "type": "heatmap",
            "colorbar": {
             "outlinewidth": 0,
             "ticks": ""
            },
            "colorscale": [
             [
              0.0,
              "#0d0887"
             ],
             [
              0.1111111111111111,
              "#46039f"
             ],
             [
              0.2222222222222222,
              "#7201a8"
             ],
             [
              0.3333333333333333,
              "#9c179e"
             ],
             [
              0.4444444444444444,
              "#bd3786"
             ],
             [
              0.5555555555555556,
              "#d8576b"
             ],
             [
              0.6666666666666666,
              "#ed7953"
             ],
             [
              0.7777777777777778,
              "#fb9f3a"
             ],
             [
              0.8888888888888888,
              "#fdca26"
             ],
             [
              1.0,
              "#f0f921"
             ]
            ]
           }
          ],
          "heatmapgl": [
           {
            "type": "heatmapgl",
            "colorbar": {
             "outlinewidth": 0,
             "ticks": ""
            },
            "colorscale": [
             [
              0.0,
              "#0d0887"
             ],
             [
              0.1111111111111111,
              "#46039f"
             ],
             [
              0.2222222222222222,
              "#7201a8"
             ],
             [
              0.3333333333333333,
              "#9c179e"
             ],
             [
              0.4444444444444444,
              "#bd3786"
             ],
             [
              0.5555555555555556,
              "#d8576b"
             ],
             [
              0.6666666666666666,
              "#ed7953"
             ],
             [
              0.7777777777777778,
              "#fb9f3a"
             ],
             [
              0.8888888888888888,
              "#fdca26"
             ],
             [
              1.0,
              "#f0f921"
             ]
            ]
           }
          ],
          "contourcarpet": [
           {
            "type": "contourcarpet",
            "colorbar": {
             "outlinewidth": 0,
             "ticks": ""
            }
           }
          ],
          "contour": [
           {
            "type": "contour",
            "colorbar": {
             "outlinewidth": 0,
             "ticks": ""
            },
            "colorscale": [
             [
              0.0,
              "#0d0887"
             ],
             [
              0.1111111111111111,
              "#46039f"
             ],
             [
              0.2222222222222222,
              "#7201a8"
             ],
             [
              0.3333333333333333,
              "#9c179e"
             ],
             [
              0.4444444444444444,
              "#bd3786"
             ],
             [
              0.5555555555555556,
              "#d8576b"
             ],
             [
              0.6666666666666666,
              "#ed7953"
             ],
             [
              0.7777777777777778,
              "#fb9f3a"
             ],
             [
              0.8888888888888888,
              "#fdca26"
             ],
             [
              1.0,
              "#f0f921"
             ]
            ]
           }
          ],
          "surface": [
           {
            "type": "surface",
            "colorbar": {
             "outlinewidth": 0,
             "ticks": ""
            },
            "colorscale": [
             [
              0.0,
              "#0d0887"
             ],
             [
              0.1111111111111111,
              "#46039f"
             ],
             [
              0.2222222222222222,
              "#7201a8"
             ],
             [
              0.3333333333333333,
              "#9c179e"
             ],
             [
              0.4444444444444444,
              "#bd3786"
             ],
             [
              0.5555555555555556,
              "#d8576b"
             ],
             [
              0.6666666666666666,
              "#ed7953"
             ],
             [
              0.7777777777777778,
              "#fb9f3a"
             ],
             [
              0.8888888888888888,
              "#fdca26"
             ],
             [
              1.0,
              "#f0f921"
             ]
            ]
           }
          ],
          "mesh3d": [
           {
            "type": "mesh3d",
            "colorbar": {
             "outlinewidth": 0,
             "ticks": ""
            }
           }
          ],
          "scatter": [
           {
            "fillpattern": {
             "fillmode": "overlay",
             "size": 10,
             "solidity": 0.2
            },
            "type": "scatter"
           }
          ],
          "parcoords": [
           {
            "type": "parcoords",
            "line": {
             "colorbar": {
              "outlinewidth": 0,
              "ticks": ""
             }
            }
           }
          ],
          "scatterpolargl": [
           {
            "type": "scatterpolargl",
            "marker": {
             "colorbar": {
              "outlinewidth": 0,
              "ticks": ""
             }
            }
           }
          ],
          "bar": [
           {
            "error_x": {
             "color": "#2a3f5f"
            },
            "error_y": {
             "color": "#2a3f5f"
            },
            "marker": {
             "line": {
              "color": "#E5ECF6",
              "width": 0.5
             },
             "pattern": {
              "fillmode": "overlay",
              "size": 10,
              "solidity": 0.2
             }
            },
            "type": "bar"
           }
          ],
          "scattergeo": [
           {
            "type": "scattergeo",
            "marker": {
             "colorbar": {
              "outlinewidth": 0,
              "ticks": ""
             }
            }
           }
          ],
          "scatterpolar": [
           {
            "type": "scatterpolar",
            "marker": {
             "colorbar": {
              "outlinewidth": 0,
              "ticks": ""
             }
            }
           }
          ],
          "histogram": [
           {
            "marker": {
             "pattern": {
              "fillmode": "overlay",
              "size": 10,
              "solidity": 0.2
             }
            },
            "type": "histogram"
           }
          ],
          "scattergl": [
           {
            "type": "scattergl",
            "marker": {
             "colorbar": {
              "outlinewidth": 0,
              "ticks": ""
             }
            }
           }
          ],
          "scatter3d": [
           {
            "type": "scatter3d",
            "line": {
             "colorbar": {
              "outlinewidth": 0,
              "ticks": ""
             }
            },
            "marker": {
             "colorbar": {
              "outlinewidth": 0,
              "ticks": ""
             }
            }
           }
          ],
          "scattermapbox": [
           {
            "type": "scattermapbox",
            "marker": {
             "colorbar": {
              "outlinewidth": 0,
              "ticks": ""
             }
            }
           }
          ],
          "scatterternary": [
           {
            "type": "scatterternary",
            "marker": {
             "colorbar": {
              "outlinewidth": 0,
              "ticks": ""
             }
            }
           }
          ],
          "scattercarpet": [
           {
            "type": "scattercarpet",
            "marker": {
             "colorbar": {
              "outlinewidth": 0,
              "ticks": ""
             }
            }
           }
          ],
          "carpet": [
           {
            "aaxis": {
             "endlinecolor": "#2a3f5f",
             "gridcolor": "white",
             "linecolor": "white",
             "minorgridcolor": "white",
             "startlinecolor": "#2a3f5f"
            },
            "baxis": {
             "endlinecolor": "#2a3f5f",
             "gridcolor": "white",
             "linecolor": "white",
             "minorgridcolor": "white",
             "startlinecolor": "#2a3f5f"
            },
            "type": "carpet"
           }
          ],
          "table": [
           {
            "cells": {
             "fill": {
              "color": "#EBF0F8"
             },
             "line": {
              "color": "white"
             }
            },
            "header": {
             "fill": {
              "color": "#C8D4E3"
             },
             "line": {
              "color": "white"
             }
            },
            "type": "table"
           }
          ],
          "barpolar": [
           {
            "marker": {
             "line": {
              "color": "#E5ECF6",
              "width": 0.5
             },
             "pattern": {
              "fillmode": "overlay",
              "size": 10,
              "solidity": 0.2
             }
            },
            "type": "barpolar"
           }
          ],
          "pie": [
           {
            "automargin": true,
            "type": "pie"
           }
          ]
         },
         "layout": {
          "autotypenumbers": "strict",
          "colorway": [
           "#636efa",
           "#EF553B",
           "#00cc96",
           "#ab63fa",
           "#FFA15A",
           "#19d3f3",
           "#FF6692",
           "#B6E880",
           "#FF97FF",
           "#FECB52"
          ],
          "font": {
           "color": "#2a3f5f"
          },
          "hovermode": "closest",
          "hoverlabel": {
           "align": "left"
          },
          "paper_bgcolor": "white",
          "plot_bgcolor": "#E5ECF6",
          "polar": {
           "bgcolor": "#E5ECF6",
           "angularaxis": {
            "gridcolor": "white",
            "linecolor": "white",
            "ticks": ""
           },
           "radialaxis": {
            "gridcolor": "white",
            "linecolor": "white",
            "ticks": ""
           }
          },
          "ternary": {
           "bgcolor": "#E5ECF6",
           "aaxis": {
            "gridcolor": "white",
            "linecolor": "white",
            "ticks": ""
           },
           "baxis": {
            "gridcolor": "white",
            "linecolor": "white",
            "ticks": ""
           },
           "caxis": {
            "gridcolor": "white",
            "linecolor": "white",
            "ticks": ""
           }
          },
          "coloraxis": {
           "colorbar": {
            "outlinewidth": 0,
            "ticks": ""
           }
          },
          "colorscale": {
           "sequential": [
            [
             0.0,
             "#0d0887"
            ],
            [
             0.1111111111111111,
             "#46039f"
            ],
            [
             0.2222222222222222,
             "#7201a8"
            ],
            [
             0.3333333333333333,
             "#9c179e"
            ],
            [
             0.4444444444444444,
             "#bd3786"
            ],
            [
             0.5555555555555556,
             "#d8576b"
            ],
            [
             0.6666666666666666,
             "#ed7953"
            ],
            [
             0.7777777777777778,
             "#fb9f3a"
            ],
            [
             0.8888888888888888,
             "#fdca26"
            ],
            [
             1.0,
             "#f0f921"
            ]
           ],
           "sequentialminus": [
            [
             0.0,
             "#0d0887"
            ],
            [
             0.1111111111111111,
             "#46039f"
            ],
            [
             0.2222222222222222,
             "#7201a8"
            ],
            [
             0.3333333333333333,
             "#9c179e"
            ],
            [
             0.4444444444444444,
             "#bd3786"
            ],
            [
             0.5555555555555556,
             "#d8576b"
            ],
            [
             0.6666666666666666,
             "#ed7953"
            ],
            [
             0.7777777777777778,
             "#fb9f3a"
            ],
            [
             0.8888888888888888,
             "#fdca26"
            ],
            [
             1.0,
             "#f0f921"
            ]
           ],
           "diverging": [
            [
             0,
             "#8e0152"
            ],
            [
             0.1,
             "#c51b7d"
            ],
            [
             0.2,
             "#de77ae"
            ],
            [
             0.3,
             "#f1b6da"
            ],
            [
             0.4,
             "#fde0ef"
            ],
            [
             0.5,
             "#f7f7f7"
            ],
            [
             0.6,
             "#e6f5d0"
            ],
            [
             0.7,
             "#b8e186"
            ],
            [
             0.8,
             "#7fbc41"
            ],
            [
             0.9,
             "#4d9221"
            ],
            [
             1,
             "#276419"
            ]
           ]
          },
          "xaxis": {
           "gridcolor": "white",
           "linecolor": "white",
           "ticks": "",
           "title": {
            "standoff": 15
           },
           "zerolinecolor": "white",
           "automargin": true,
           "zerolinewidth": 2
          },
          "yaxis": {
           "gridcolor": "white",
           "linecolor": "white",
           "ticks": "",
           "title": {
            "standoff": 15
           },
           "zerolinecolor": "white",
           "automargin": true,
           "zerolinewidth": 2
          },
          "scene": {
           "xaxis": {
            "backgroundcolor": "#E5ECF6",
            "gridcolor": "white",
            "linecolor": "white",
            "showbackground": true,
            "ticks": "",
            "zerolinecolor": "white",
            "gridwidth": 2
           },
           "yaxis": {
            "backgroundcolor": "#E5ECF6",
            "gridcolor": "white",
            "linecolor": "white",
            "showbackground": true,
            "ticks": "",
            "zerolinecolor": "white",
            "gridwidth": 2
           },
           "zaxis": {
            "backgroundcolor": "#E5ECF6",
            "gridcolor": "white",
            "linecolor": "white",
            "showbackground": true,
            "ticks": "",
            "zerolinecolor": "white",
            "gridwidth": 2
           }
          },
          "shapedefaults": {
           "line": {
            "color": "#2a3f5f"
           }
          },
          "annotationdefaults": {
           "arrowcolor": "#2a3f5f",
           "arrowhead": 0,
           "arrowwidth": 1
          },
          "geo": {
           "bgcolor": "white",
           "landcolor": "#E5ECF6",
           "subunitcolor": "white",
           "showland": true,
           "showlakes": true,
           "lakecolor": "white"
          },
          "title": {
           "x": 0.05
          },
          "mapbox": {
           "style": "light"
          }
         }
        },
        "xaxis": {
         "title": {
          "text": "Budget"
         },
         "type": "log",
         "range": [
          5.5,
          9
         ],
         "tickvals": [
          1000000.0,
          1.0E7,
          1.0E8,
          1.0E9,
          1.0E10
         ],
         "ticktext": [
          "1M",
          "10M",
          "100M",
          "1B",
          "10B"
         ]
        },
        "yaxis": {
         "title": {
          "text": "Box office revenue"
         },
         "type": "log",
         "range": [
          5.5,
          10.5
         ],
         "tickvals": [
          1000000.0,
          1.0E7,
          1.0E8,
          1.0E9,
          1.0E10
         ],
         "ticktext": [
          "1M",
          "10M",
          "100M",
          "1B",
          "10B"
         ]
        },
        "title": {
         "text": "Budget vs Box office revenue"
        }
       },
       "config": {
        "plotlyServerURL": "https://plot.ly"
       }
      },
      "text/html": [
       "<div>                            <div id=\"c3427c63-a3a9-4815-9c93-3ca9562c2181\" class=\"plotly-graph-div\" style=\"height:525px; width:100%;\"></div>            <script type=\"text/javascript\">                require([\"plotly\"], function(Plotly) {                    window.PLOTLYENV=window.PLOTLYENV || {};                                    if (document.getElementById(\"c3427c63-a3a9-4815-9c93-3ca9562c2181\")) {                    Plotly.newPlot(                        \"c3427c63-a3a9-4815-9c93-3ca9562c2181\",                        [{\"hoverinfo\":\"text\",\"marker\":{\"color\":[215880014.0,0.0,225613655.0,28262574.0,33368615.0,110604073.0,130489151.0,0.0,395765594.0,0.0,18151699.0,148100000.0,57059003.0,0.0,0.0,33151003.0,960352447.0,414746580.0,302405787.0,0.0,0.0,735534503.0,0.0,0.0,15101131.0,0.0,0.0,0.0,39732693.0,0.0,51562705.0,0.0,0.0,6425000.0,6980986.0,85000000.0,5550000.0,0.0,77491618.0,1300000.0,0.0,0.0,0.0,4116307.0,0.0,35227275.0,11919250.0,40250000.0,0.0,0.0,0.0,380799050.0,0.0,9391937.0,0.0,470560949.0,0.0,0.0,0.0,0.0,0.0,0.0,0.0,21082165.0,619627482.0,0.0,165919887.0,32710894.0,36219574.0,2194784.0,39450960.0,0.0,0.0,0.0,12000000.0,0.0,239897041.0,25000000.0,0.0,0.0,0.0,0.0,40000000.0,0.0,0.0,71518503.0,217651422.0,0.0,0.0,5421637048.0,0.0,48517185.0,144133816.0,914762040.0,13818181.0,209588246.0,1925332111.0,0.0,134403112.0,0.0,0.0,610521068.0,0.0,36642838.0,0.0,0.0,3712000.0,95325665.0,391604363.0,10817562.0,897646626.0,0.0,0.0,0.0,0.0,18800000.0,136230219.0,1134988849.0,49797148.0,0.0,0.0,0.0,50604203.0,101393569.0,173572781.0,0.0,7100000.0,0.0,0.0,3109904.0,0.0,1124774054.0,0.0,0.0,8868786.0,206025977.0,61749765.0,197267333.0,0.0,6000000.0,82482842.0,346079773.0,0.0,251252027.0,211581892.0,176817172.0,76049034.0,78575600.0,0.0,0.0,49207000.0,29907685.0,4385516.0,0.0,0.0,0.0,427472805.0,2023414.0,0.0,496800000.0,43260131.0,0.0,0.0,109705854.0,0.0,96773200.0,31132592.0,33395426.0,299591272.0,0.0,0.0,345409964.0,0.0,0.0,0.0,62327849.0,2203206138.0,2645783.0,2496346518.0,29066483.0,0.0,0.0,0.0,424084744.0,448191819.0,0.0,0.0,0.0,44836332.0,1328000.0,212140786.0,0.0,0.0,42349782.0,869235.0,0.0,11403529.0,0.0,37799643.0,0.0,0.0,0.0,10303659.0,945358579.0,0.0,0.0,162610416.0,0.0,45300000.0,169327687.0,588844990.0,0.0,0.0,833631488.0,0.0,17985893.0,325338851.0,0.0,594451947.0,341547211.0,260702809.0,0.0,2268000.0,0.0,0.0,951583777.0,211343479.0,0.0,926047111.0,0.0,13687027.0,0.0,1250075319.0,0.0,37532335.0,13168027.0,44527234.0,107912717.0,0.0,25150385.0,0.0,145179997.0,93300000.0,37666766.0,0.0,21413105.0,473456544.0,0.0,0.0,4008536.0,6347072.0,9771658.0,0.0,0.0,0.0,1163561.0,238076120.0,0.0,0.0,846973915.0,0.0,0.0,0.0,111101957.0,0.0,9054451.0,808114.0,21411158.0,30147739.0,14545941.0,0.0,37650575.0,0.0,0.0],\"colorscale\":[[0.0,\"rgb(253, 253, 204)\"],[0.09090909090909091,\"rgb(206, 236, 179)\"],[0.18181818181818182,\"rgb(156, 219, 165)\"],[0.2727272727272727,\"rgb(111, 201, 163)\"],[0.36363636363636365,\"rgb(86, 177, 163)\"],[0.45454545454545453,\"rgb(76, 153, 160)\"],[0.5454545454545454,\"rgb(68, 130, 155)\"],[0.6363636363636364,\"rgb(62, 108, 150)\"],[0.7272727272727273,\"rgb(62, 82, 143)\"],[0.8181818181818182,\"rgb(64, 60, 115)\"],[0.9090909090909091,\"rgb(54, 43, 77)\"],[1.0,\"rgb(39, 26, 44)\"]],\"showscale\":true,\"size\":[10,5,35,15,20,10,15,10,15,10,10,10,10,5,5,10,15,10,10,15,15,15,10,5,5,40,5,10,15,10,10,140,55,10,30,15,10,20,10,10,10,25,5,10,15,15,20,10,10,10,35,10,5,10,10,25,30,10,40,20,5,20,10,5,10,5,10,10,10,10,10,10,10,35,25,15,50,10,15,20,10,70,15,5,10,10,30,15,15,30,10,40,25,15,10,15,15,10,10,5,10,15,10,10,10,5,10,10,15,30,20,30,40,5,25,10,15,10,15,10,25,15,20,10,10,10,10,10,20,10,10,15,15,10,5,10,10,10,10,10,25,10,20,20,30,15,10,15,20,10,15,10,20,40,15,5,20,15,15,10,25,15,10,15,10,5,15,10,15,10,10,10,40,10,40,10,15,25,15,35,5,10,20,20,15,10,5,15,20,10,45,10,10,15,15,10,10,10,15,20,5,10,10,15,20,15,20,10,20,10,20,10,10,15,10,35,10,25,15,10,20,10,10,5,15,15,15,15,15,15,10,30,15,15,10,15,10,20,5,15,10,45,10,15,20,5,15,10,15,10,5,15,10,10,10,15,15,10,10,10,10,10,10,15,5,15,10,10,15,10,20,15,10,5]},\"mode\":\"markers\",\"text\":[\"101 Dalmatians (Animated) Collection\",\"976-EVIL Collection\",\"A Nightmare on Elm Street Collection\",\"Adventures of a Collection\",\"Air Bud Collection\",\"Airplane Collection\",\"Airport Collection\",\"Aladdin Collection\",\"Alien Collection\",\"All Quiet On The Western Front Collection\",\"Allan Quatermain Collection\",\"American Graffiti Collection\",\"Annie Collection\",\"At The Top Collection\",\"Atlantis Collection\",\"Ator Collection\",\"Back to the Future Collection\",\"Bad Boys Collection\",\"Bambi Collection\",\"Basket Case Trilogy\",\"Beach Party Collection\",\"Beverly Hills Cop Collection\",\"Blacula Collection\",\"Bloody Murder Collection\",\"Breakin' Collection\",\"Bullets, Bombs, and Babes Collection\",\"C.H.U.D. Collection\",\"Camp Blood Collection\",\"Candyman Collection\",\"Caprona (Amicus) Collection\",\"Carrie Collection\",\"Carry On Collection\",\"Charlie Chan (Sidney Toler) Collection\",\"Cheaper by the Dozen (1950) Collection\",\"Children of the Corn Collection\",\"Cinderella Collection\",\"Cochise Collection\",\"Confessions Collection\",\"Crank Collection\",\"Creature From The Black Lagoon Collection\",\"Cross of Iron Collection\",\"Daninsky Werewolf Collection\",\"Darkman Collection\",\"Darko Collection\",\"Dead or Alive Collection\",\"Death Note Collection\",\"Deathstalker Collection\",\"Demetrius Collection\",\"Demonic Toys Collection\",\"Dhoom Collection\",\"Dick Tracy Collection\",\"Die Hard Collection\",\"Die Supernasen Filmreihe\",\"District 13 Collection\",\"Doctor Who (Peter Cushing) Collection\",\"Dr. Dolittle Collection\",\"Dr. Kildare Collection\",\"Dr. Phibes Collection\",\"Dracula (Hammer) Collection\",\"Dracula (Universal) Collection\",\"El Lute Collection\",\"Enteng Kabisote Collection\",\"Even Angels Collection\",\"F\\u002fX Collection\",\"Fantastic Four Collection\",\"Fantomas Collection\",\"Father of the Bride (Steve Martin) Collection\",\"FernGully Collection\",\"Firefly Collection\",\"Flesh Gordon Collection\",\"Fletch Collection\",\"Flipper Collection\",\"Fontaine Khaled Collection\",\"Frankenstein (Hammer) Collection\",\"Frankenstein (Universal) Collection\",\"French Fried Vacation\",\"Friday the 13th Collection\",\"Fritz the Cat Collection\",\"Gamera (Heisei) Collection\",\"Gamera (Showa) Collection\",\"Gator Collection\",\"Godzilla (Showa) Collection\",\"Gone in 60 Seconds Trilogy\",\"Green Street Hooligans Collection\",\"Greetings Collection\",\"Grumpy Old Men Collection\",\"Halloween Collection\",\"Halloweentown Collection\",\"Harihar Nagar  Collection\",\"Harry Potter Collection\",\"Hellboy (Animated) Collection\",\"Hellraiser Collection\",\"Herbie Collection\",\"Home Alone Collection\",\"House of the Dead Collection\",\"I Know What You Did Last Summer Collection\",\"Ice Age Collection\",\"Inner Sanctum Mysteries Collection\",\"Inspector Gadget Collection\",\"Inspector Tanquerelle\",\"Jack Frost Collection\",\"Jaws Collection\",\"Johnny Tsunami Collection\",\"Joy Ride Collection\",\"Kamen Rider: The First Collection\",\"Kill or Be Killed Collection\",\"King Kong (1933) Collection\",\"King Kong (1976) Collection\",\"Legally Blonde Collection\",\"Leprechaun Collection\",\"Lethal Weapon Collection\",\"Lone Wolf and Cub Collection\",\"Love Comes Softly Collection\",\"Love Story Collection\",\"Lucky Stars Collection\",\"Macon County Collection\",\"Mad Max Collection\",\"Madagascar Collection\",\"Major League Collection\",\"Major Mahadevan Collection\",\"Mano Po Collection\",\"Martial Law Collection\",\"Meatballs Collection\",\"Miss Congeniality Collection\",\"Mortal Kombat Collection\",\"Mr. Boogedy Collection\",\"Navarone Collection\",\"Nekromantik Collection\",\"Nemesis Collection\",\"Night of the Demons Collection\",\"No Retreat, No Surrender Collection\",\"Ocean's Collection\",\"On the Buses Collection\",\"Once Were Warriors Collection\",\"Ong Bak Collection\",\"Open Season Collection\",\"Patton Collection\",\"Peter Pan Collection\",\"Phoenix Collection\",\"Piranha Collection\",\"Planet of the Apes (Original) Collection\",\"Pocahontas Collection\",\"Poison Ivy Collection\",\"Pok\\u00e9mon Collection\",\"Police Academy Collection\",\"Poltergeist Collection\",\"Power Rangers Collection\",\"Problem Child Collection\",\"Project A-Ko\",\"Project Shadowchaser Collection\",\"Psycho Collection\",\"Pulse Collection\",\"Pumpkinhead Collection\",\"Puppet Master Collection\",\"Quatermass (Hammer series)\",\"Queen Victoria Collection\",\"Rambo Collection\",\"Re-Animator Collection\",\"Rebirth of Mothra Collection\",\"Red Cliff Collection\",\"Return of the Living Dead Collection\",\"Ring Collection\",\"Ringo Collection\",\"RoboCop Collection\",\"Rock 'n' Roll High School Collection\",\"Romancing the Stone Collection\",\"Rooster Cogburn Collection\",\"Rosemary's Baby Collection\",\"Rugrats Collection\",\"Santa Baby Collection\",\"Scarecrow Collection\",\"Scream Collection\",\"Shake, Rattle & Roll Collection\",\"She Collection\",\"Sherlock Holmes (Basil Rathbone) Collection\",\"Short Circuit Collection\",\"Shrek Collection\",\"Silent Night, Deadly Night Collection\",\"Spider-Man Collection\",\"St. Trinian's Collection\",\"Stanley Windrush Collection\",\"Star Wars: The Ewok Adventures Collection\",\"Stepford Collection\",\"Superman Collection\",\"Tarzan (Animation) Collection\",\"Teenage Runaway Collection\",\"Terror Within Collection\",\"Tetsuo Collection\",\"Texas Chainsaw Massacre Collection\",\"The Amazing Colossal Man Collection\",\"The Amityville Collection\",\"The Ape Woman Collection\",\"The Aztec Mummy Collection\",\"The Bad News Bears Collection\",\"The Beastmaster Collection\",\"The Big Family Collection\",\"The Birds Collection\",\"The Black Mask Collection\",\"The Black Stallion Collection\",\"The Blind Dead Collection\",\"The Blob Collection\",\"The Boogey Man Collection\",\"The Boondock Saints Collection\",\"The Bourne Collection\",\"The Brave Archer Collection\",\"The Cheetah Girls Collection\",\"The Crow Collection\",\"The Cutting Edge Collection\",\"The Dirty Dozen Collection\",\"The Emperor's New Groove Collection\",\"The Exorcist Collection\",\"The Eye Collection\",\"The Fly Collection\",\"The Hannibal Lecter Collection\",\"The Hobgoblin Collection\",\"The Howling Collection\",\"The Hunchback of Notre Dame Collection\",\"The Invisible Man Collection\",\"The Jack Ryan Collection\",\"The Jungle Book Collection\",\"The Karate Kid Collection\",\"The Kolchak Collection\",\"The Last Picture Show and Texasville\",\"The Letters Collection\",\"The Librarian Collection\",\"The Lion King Collection\",\"The Little Mermaid Collection\",\"The Little Polar Bear Collection\",\"The Lord of the Rings Collection\",\"The Magnificent Seven Collection\",\"The Man From Snowy River Collection\",\"The Mummy (Universal) Collection\",\"The Mummy Collection\",\"The Musketeers Collection\",\"The Neverending Story Collection\",\"The Ninja Trilogy\",\"The Odd Couple Collection\",\"The Omen Collection\",\"The Over-the-Hill Gang Collection\",\"The Parent Trap Collection\",\"The Philadelphia Experiment Collection\",\"The Pink Panther (Original) Collection\",\"The Poseidon Adventure Collection\",\"The Prince & Me Collection\",\"The Prophecy Collection\",\"The Rescuers Collection\",\"The Santa Clause Collection\",\"The Sentimental Swordsman Collection\",\"The Skulls Collection\",\"The Stepfather Collection\",\"The Sting Collection\",\"The Swan Princess Collection\",\"The Sweeney Movie Collection\",\"The Tall Blond Man Collection\",\"The Three Musketeers (Silent era)\",\"The Toxic Avenger Collection\",\"The Transporter Collection\",\"The Usual Suspects Collection\",\"The Wolf Man Collection\",\"Toy Story Collection\",\"Transylvanians Trilogy\",\"Twitches Collection\",\"Un \\u00e9l\\u00e9phant \\u00e7a trompe \\u00e9norm\\u00e9ment\",\"Urban Legend Collection\",\"WarGames Collection\",\"Warlock Collection\",\"Waxwork Collection\",\"When a Stranger Calls Collection\",\"Wild Things Collection\",\"Willard Collection\",\"Wishmaster Collection\",\"Wrong Turn Collection\",\"Xtro Collection\",\"Zatoichi: The Blind Swordsman Collection\"],\"x\":[0.0,0.0,79203079.75065474,0.0,20562711.65644172,47363005.18134715,30168514.851485148,7196066.126855602,108589451.1760513,0.0,0.0,10492493.11294766,0.0,0.0,0.0,0.0,191543301.3303058,215278586.95652175,0.0,5828270.849273145,0.0,75102605.63380282,0.0,538196.4673913043,0.0,0.0,120897890.32258065,0.0,0.0,0.0,38407815.12605042,0.0,0.0,0.0,6255880.589830697,8468649.2495831,0.0,0.0,28405543.099791642,0.0,0.0,0.0,0.0,5681108.619958329,0.0,0.0,0.0,50972453.531598516,0.0,16625605.158730159,0.0,163191583.77964807,0.0,21304157.32484373,7523506.1728395065,0.0,0.0,546714.114832536,6393539.340357643,6102369.982733813,0.0,0.0,0.0,36689521.29221733,191043107.52283666,0.0,0.0,0.0,10921218.637992831,0.0,19658193.548387095,0.0,0.0,0.0,19074163.095481228,52.899652777777774,52394253.14409691,21631987.829614606,10973661.464585835,490325.0574712644,0.0,10976458.632762115,3157533.678756477,11362217.239916658,0.0,49983923.884514436,82427549.9416187,0.0,937382.9222931243,234026113.67127496,0.0,7727016.060862215,78008704.55709165,99842756.94051243,9068511.904761905,0.0,248738436.01255447,0.0,19871869.56521739,0.0,0.0,124406195.13264325,0.0,7101385.774947911,0.0,0.0,5859653.846153846,27801277.372262776,74519510.86956522,9548793.85908802,137444470.66194558,0.0,0.0,0.0,25551921.762992565,0.0,35022144.1512181,212283618.899876,51400472.33468287,0.0,0.0,0.0,0.0,0.0,56953644.85981309,0.0,23366717.791411042,0.0,0.0,0.0,0.0,177433668.60772896,0.0,0.0,12029405.070992973,0.0,0.0,33874596.9983324,0.0,460324.20489119174,18808765.432098765,0.0,2829033.0278723473,0.0,33361532.84671533,79866983.22031702,18984548.28660436,0.0,0.0,0.0,38649358.13326298,0.0,9068511.904761905,1818420.5049732213,0.0,0.0,195360537.15497726,9630584.070722863,0.0,113622172.39916657,13578373.266574182,10973661.464585835,0.0,127986407.80677906,0.0,70795074.34944238,56636059.47955391,0.0,53083972.125435546,0.0,413997.2826086957,45562915.88785047,0.0,0.0,0.0,25756720.20287405,477084981.1365483,670558.9788732395,701753760.5104235,12782494.39490624,0.0,14159014.869888477,0.0,364592384.1743289,0.0,0.0,0.0,271473.62794012827,17173191.496936765,0.0,1748481.2547819435,1828419.751363636,0.0,0.0,13422995.594713658,0.0,0.0,0.0,0.0,0.0,1093428.229665072,0.0,11362217.239916658,223846866.9126713,0.0,0.0,55422232.38598794,0.0,0.0,0.0,70393201.32013202,0.0,0.0,149684212.3094297,0.0,5663605.94795539,0.0,18007222.582353197,127473171.3900135,33119782.608695652,66857588.00329645,0.0,0.0,0.0,0.0,0.0,0.0,0.0,289467636.40428257,21868564.593301438,17591839.898562975,1828212.0,168609802.3715415,0.0,74601866.87069626,2141479.919678715,0.0,31778736.196319018,0.0,0.0,10543321.79930796,33651827.30923695,0.0,0.0,0.0,88589716.9089518,128229464.05410412,0.0,6436173.429683157,3685911.290322581,0.0,0.0,0.0,0.0,0.0,2088891.1905065482,49925570.916538656,0.0,21135398.843930636,164604921.96878752,0.0,0.0,0.0,24772520.325203255,0.0,9983880.23444672,7601261.582323591,0.0,4516493.382742192,0.0,7999986.149732805,5878249.462241128,0.0,0.0],\"y\":[215880014.0,0.0,225613655.0,28262574.0,33368615.0,110604073.0,130489151.0,0.0,395765594.0,0.0,18151699.0,148100000.0,57059003.0,0.0,0.0,33151003.0,960352447.0,414746580.0,302405787.0,0.0,0.0,735534503.0,0.0,0.0,15101131.0,0.0,0.0,0.0,39732693.0,0.0,51562705.0,0.0,0.0,6425000.0,6980986.0,85000000.0,5550000.0,0.0,77491618.0,1300000.0,0.0,0.0,0.0,4116307.0,0.0,35227275.0,11919250.0,40250000.0,0.0,0.0,0.0,380799050.0,0.0,9391937.0,0.0,470560949.0,0.0,0.0,0.0,0.0,0.0,0.0,0.0,21082165.0,619627482.0,0.0,165919887.0,32710894.0,36219574.0,2194784.0,39450960.0,0.0,0.0,0.0,12000000.0,0.0,239897041.0,25000000.0,0.0,0.0,0.0,0.0,40000000.0,0.0,0.0,71518503.0,217651422.0,0.0,0.0,5421637048.0,0.0,48517185.0,144133816.0,914762040.0,13818181.0,209588246.0,1925332111.0,0.0,134403112.0,0.0,0.0,610521068.0,0.0,36642838.0,0.0,0.0,3712000.0,95325665.0,391604363.0,10817562.0,897646626.0,0.0,0.0,0.0,0.0,18800000.0,136230219.0,1134988849.0,49797148.0,0.0,0.0,0.0,50604203.0,101393569.0,173572781.0,0.0,7100000.0,0.0,0.0,3109904.0,0.0,1124774054.0,0.0,0.0,8868786.0,206025977.0,61749765.0,197267333.0,0.0,6000000.0,82482842.0,346079773.0,0.0,251252027.0,211581892.0,176817172.0,76049034.0,78575600.0,0.0,0.0,49207000.0,29907685.0,4385516.0,0.0,0.0,0.0,427472805.0,2023414.0,0.0,496800000.0,43260131.0,0.0,0.0,109705854.0,0.0,96773200.0,31132592.0,33395426.0,299591272.0,0.0,0.0,345409964.0,0.0,0.0,0.0,62327849.0,2203206138.0,2645783.0,2496346518.0,29066483.0,0.0,0.0,0.0,424084744.0,448191819.0,0.0,0.0,0.0,44836332.0,1328000.0,212140786.0,0.0,0.0,42349782.0,869235.0,0.0,11403529.0,0.0,37799643.0,0.0,0.0,0.0,10303659.0,945358579.0,0.0,0.0,162610416.0,0.0,45300000.0,169327687.0,588844990.0,0.0,0.0,833631488.0,0.0,17985893.0,325338851.0,0.0,594451947.0,341547211.0,260702809.0,0.0,2268000.0,0.0,0.0,951583777.0,211343479.0,0.0,926047111.0,0.0,13687027.0,0.0,1250075319.0,0.0,37532335.0,13168027.0,44527234.0,107912717.0,0.0,25150385.0,0.0,145179997.0,93300000.0,37666766.0,0.0,21413105.0,473456544.0,0.0,0.0,4008536.0,6347072.0,9771658.0,0.0,0.0,0.0,1163561.0,238076120.0,0.0,0.0,846973915.0,0.0,0.0,0.0,111101957.0,0.0,9054451.0,808114.0,21411158.0,30147739.0,14545941.0,0.0,37650575.0,0.0,0.0],\"type\":\"scatter\"},{\"line\":{\"color\":\"gray\",\"dash\":\"dash\",\"width\":2},\"mode\":\"lines+text\",\"text\":\"Return on investement\",\"textposition\":\"top left\",\"x\":[0.0,1000000000.0],\"y\":[0.0,1000000000.0],\"type\":\"scatter\"}],                        {\"template\":{\"data\":{\"histogram2dcontour\":[{\"type\":\"histogram2dcontour\",\"colorbar\":{\"outlinewidth\":0,\"ticks\":\"\"},\"colorscale\":[[0.0,\"#0d0887\"],[0.1111111111111111,\"#46039f\"],[0.2222222222222222,\"#7201a8\"],[0.3333333333333333,\"#9c179e\"],[0.4444444444444444,\"#bd3786\"],[0.5555555555555556,\"#d8576b\"],[0.6666666666666666,\"#ed7953\"],[0.7777777777777778,\"#fb9f3a\"],[0.8888888888888888,\"#fdca26\"],[1.0,\"#f0f921\"]]}],\"choropleth\":[{\"type\":\"choropleth\",\"colorbar\":{\"outlinewidth\":0,\"ticks\":\"\"}}],\"histogram2d\":[{\"type\":\"histogram2d\",\"colorbar\":{\"outlinewidth\":0,\"ticks\":\"\"},\"colorscale\":[[0.0,\"#0d0887\"],[0.1111111111111111,\"#46039f\"],[0.2222222222222222,\"#7201a8\"],[0.3333333333333333,\"#9c179e\"],[0.4444444444444444,\"#bd3786\"],[0.5555555555555556,\"#d8576b\"],[0.6666666666666666,\"#ed7953\"],[0.7777777777777778,\"#fb9f3a\"],[0.8888888888888888,\"#fdca26\"],[1.0,\"#f0f921\"]]}],\"heatmap\":[{\"type\":\"heatmap\",\"colorbar\":{\"outlinewidth\":0,\"ticks\":\"\"},\"colorscale\":[[0.0,\"#0d0887\"],[0.1111111111111111,\"#46039f\"],[0.2222222222222222,\"#7201a8\"],[0.3333333333333333,\"#9c179e\"],[0.4444444444444444,\"#bd3786\"],[0.5555555555555556,\"#d8576b\"],[0.6666666666666666,\"#ed7953\"],[0.7777777777777778,\"#fb9f3a\"],[0.8888888888888888,\"#fdca26\"],[1.0,\"#f0f921\"]]}],\"heatmapgl\":[{\"type\":\"heatmapgl\",\"colorbar\":{\"outlinewidth\":0,\"ticks\":\"\"},\"colorscale\":[[0.0,\"#0d0887\"],[0.1111111111111111,\"#46039f\"],[0.2222222222222222,\"#7201a8\"],[0.3333333333333333,\"#9c179e\"],[0.4444444444444444,\"#bd3786\"],[0.5555555555555556,\"#d8576b\"],[0.6666666666666666,\"#ed7953\"],[0.7777777777777778,\"#fb9f3a\"],[0.8888888888888888,\"#fdca26\"],[1.0,\"#f0f921\"]]}],\"contourcarpet\":[{\"type\":\"contourcarpet\",\"colorbar\":{\"outlinewidth\":0,\"ticks\":\"\"}}],\"contour\":[{\"type\":\"contour\",\"colorbar\":{\"outlinewidth\":0,\"ticks\":\"\"},\"colorscale\":[[0.0,\"#0d0887\"],[0.1111111111111111,\"#46039f\"],[0.2222222222222222,\"#7201a8\"],[0.3333333333333333,\"#9c179e\"],[0.4444444444444444,\"#bd3786\"],[0.5555555555555556,\"#d8576b\"],[0.6666666666666666,\"#ed7953\"],[0.7777777777777778,\"#fb9f3a\"],[0.8888888888888888,\"#fdca26\"],[1.0,\"#f0f921\"]]}],\"surface\":[{\"type\":\"surface\",\"colorbar\":{\"outlinewidth\":0,\"ticks\":\"\"},\"colorscale\":[[0.0,\"#0d0887\"],[0.1111111111111111,\"#46039f\"],[0.2222222222222222,\"#7201a8\"],[0.3333333333333333,\"#9c179e\"],[0.4444444444444444,\"#bd3786\"],[0.5555555555555556,\"#d8576b\"],[0.6666666666666666,\"#ed7953\"],[0.7777777777777778,\"#fb9f3a\"],[0.8888888888888888,\"#fdca26\"],[1.0,\"#f0f921\"]]}],\"mesh3d\":[{\"type\":\"mesh3d\",\"colorbar\":{\"outlinewidth\":0,\"ticks\":\"\"}}],\"scatter\":[{\"fillpattern\":{\"fillmode\":\"overlay\",\"size\":10,\"solidity\":0.2},\"type\":\"scatter\"}],\"parcoords\":[{\"type\":\"parcoords\",\"line\":{\"colorbar\":{\"outlinewidth\":0,\"ticks\":\"\"}}}],\"scatterpolargl\":[{\"type\":\"scatterpolargl\",\"marker\":{\"colorbar\":{\"outlinewidth\":0,\"ticks\":\"\"}}}],\"bar\":[{\"error_x\":{\"color\":\"#2a3f5f\"},\"error_y\":{\"color\":\"#2a3f5f\"},\"marker\":{\"line\":{\"color\":\"#E5ECF6\",\"width\":0.5},\"pattern\":{\"fillmode\":\"overlay\",\"size\":10,\"solidity\":0.2}},\"type\":\"bar\"}],\"scattergeo\":[{\"type\":\"scattergeo\",\"marker\":{\"colorbar\":{\"outlinewidth\":0,\"ticks\":\"\"}}}],\"scatterpolar\":[{\"type\":\"scatterpolar\",\"marker\":{\"colorbar\":{\"outlinewidth\":0,\"ticks\":\"\"}}}],\"histogram\":[{\"marker\":{\"pattern\":{\"fillmode\":\"overlay\",\"size\":10,\"solidity\":0.2}},\"type\":\"histogram\"}],\"scattergl\":[{\"type\":\"scattergl\",\"marker\":{\"colorbar\":{\"outlinewidth\":0,\"ticks\":\"\"}}}],\"scatter3d\":[{\"type\":\"scatter3d\",\"line\":{\"colorbar\":{\"outlinewidth\":0,\"ticks\":\"\"}},\"marker\":{\"colorbar\":{\"outlinewidth\":0,\"ticks\":\"\"}}}],\"scattermapbox\":[{\"type\":\"scattermapbox\",\"marker\":{\"colorbar\":{\"outlinewidth\":0,\"ticks\":\"\"}}}],\"scatterternary\":[{\"type\":\"scatterternary\",\"marker\":{\"colorbar\":{\"outlinewidth\":0,\"ticks\":\"\"}}}],\"scattercarpet\":[{\"type\":\"scattercarpet\",\"marker\":{\"colorbar\":{\"outlinewidth\":0,\"ticks\":\"\"}}}],\"carpet\":[{\"aaxis\":{\"endlinecolor\":\"#2a3f5f\",\"gridcolor\":\"white\",\"linecolor\":\"white\",\"minorgridcolor\":\"white\",\"startlinecolor\":\"#2a3f5f\"},\"baxis\":{\"endlinecolor\":\"#2a3f5f\",\"gridcolor\":\"white\",\"linecolor\":\"white\",\"minorgridcolor\":\"white\",\"startlinecolor\":\"#2a3f5f\"},\"type\":\"carpet\"}],\"table\":[{\"cells\":{\"fill\":{\"color\":\"#EBF0F8\"},\"line\":{\"color\":\"white\"}},\"header\":{\"fill\":{\"color\":\"#C8D4E3\"},\"line\":{\"color\":\"white\"}},\"type\":\"table\"}],\"barpolar\":[{\"marker\":{\"line\":{\"color\":\"#E5ECF6\",\"width\":0.5},\"pattern\":{\"fillmode\":\"overlay\",\"size\":10,\"solidity\":0.2}},\"type\":\"barpolar\"}],\"pie\":[{\"automargin\":true,\"type\":\"pie\"}]},\"layout\":{\"autotypenumbers\":\"strict\",\"colorway\":[\"#636efa\",\"#EF553B\",\"#00cc96\",\"#ab63fa\",\"#FFA15A\",\"#19d3f3\",\"#FF6692\",\"#B6E880\",\"#FF97FF\",\"#FECB52\"],\"font\":{\"color\":\"#2a3f5f\"},\"hovermode\":\"closest\",\"hoverlabel\":{\"align\":\"left\"},\"paper_bgcolor\":\"white\",\"plot_bgcolor\":\"#E5ECF6\",\"polar\":{\"bgcolor\":\"#E5ECF6\",\"angularaxis\":{\"gridcolor\":\"white\",\"linecolor\":\"white\",\"ticks\":\"\"},\"radialaxis\":{\"gridcolor\":\"white\",\"linecolor\":\"white\",\"ticks\":\"\"}},\"ternary\":{\"bgcolor\":\"#E5ECF6\",\"aaxis\":{\"gridcolor\":\"white\",\"linecolor\":\"white\",\"ticks\":\"\"},\"baxis\":{\"gridcolor\":\"white\",\"linecolor\":\"white\",\"ticks\":\"\"},\"caxis\":{\"gridcolor\":\"white\",\"linecolor\":\"white\",\"ticks\":\"\"}},\"coloraxis\":{\"colorbar\":{\"outlinewidth\":0,\"ticks\":\"\"}},\"colorscale\":{\"sequential\":[[0.0,\"#0d0887\"],[0.1111111111111111,\"#46039f\"],[0.2222222222222222,\"#7201a8\"],[0.3333333333333333,\"#9c179e\"],[0.4444444444444444,\"#bd3786\"],[0.5555555555555556,\"#d8576b\"],[0.6666666666666666,\"#ed7953\"],[0.7777777777777778,\"#fb9f3a\"],[0.8888888888888888,\"#fdca26\"],[1.0,\"#f0f921\"]],\"sequentialminus\":[[0.0,\"#0d0887\"],[0.1111111111111111,\"#46039f\"],[0.2222222222222222,\"#7201a8\"],[0.3333333333333333,\"#9c179e\"],[0.4444444444444444,\"#bd3786\"],[0.5555555555555556,\"#d8576b\"],[0.6666666666666666,\"#ed7953\"],[0.7777777777777778,\"#fb9f3a\"],[0.8888888888888888,\"#fdca26\"],[1.0,\"#f0f921\"]],\"diverging\":[[0,\"#8e0152\"],[0.1,\"#c51b7d\"],[0.2,\"#de77ae\"],[0.3,\"#f1b6da\"],[0.4,\"#fde0ef\"],[0.5,\"#f7f7f7\"],[0.6,\"#e6f5d0\"],[0.7,\"#b8e186\"],[0.8,\"#7fbc41\"],[0.9,\"#4d9221\"],[1,\"#276419\"]]},\"xaxis\":{\"gridcolor\":\"white\",\"linecolor\":\"white\",\"ticks\":\"\",\"title\":{\"standoff\":15},\"zerolinecolor\":\"white\",\"automargin\":true,\"zerolinewidth\":2},\"yaxis\":{\"gridcolor\":\"white\",\"linecolor\":\"white\",\"ticks\":\"\",\"title\":{\"standoff\":15},\"zerolinecolor\":\"white\",\"automargin\":true,\"zerolinewidth\":2},\"scene\":{\"xaxis\":{\"backgroundcolor\":\"#E5ECF6\",\"gridcolor\":\"white\",\"linecolor\":\"white\",\"showbackground\":true,\"ticks\":\"\",\"zerolinecolor\":\"white\",\"gridwidth\":2},\"yaxis\":{\"backgroundcolor\":\"#E5ECF6\",\"gridcolor\":\"white\",\"linecolor\":\"white\",\"showbackground\":true,\"ticks\":\"\",\"zerolinecolor\":\"white\",\"gridwidth\":2},\"zaxis\":{\"backgroundcolor\":\"#E5ECF6\",\"gridcolor\":\"white\",\"linecolor\":\"white\",\"showbackground\":true,\"ticks\":\"\",\"zerolinecolor\":\"white\",\"gridwidth\":2}},\"shapedefaults\":{\"line\":{\"color\":\"#2a3f5f\"}},\"annotationdefaults\":{\"arrowcolor\":\"#2a3f5f\",\"arrowhead\":0,\"arrowwidth\":1},\"geo\":{\"bgcolor\":\"white\",\"landcolor\":\"#E5ECF6\",\"subunitcolor\":\"white\",\"showland\":true,\"showlakes\":true,\"lakecolor\":\"white\"},\"title\":{\"x\":0.05},\"mapbox\":{\"style\":\"light\"}}},\"xaxis\":{\"title\":{\"text\":\"Budget\"},\"type\":\"log\",\"range\":[5.5,9],\"tickvals\":[1000000.0,10000000.0,100000000.0,1000000000.0,10000000000.0],\"ticktext\":[\"1M\",\"10M\",\"100M\",\"1B\",\"10B\"]},\"yaxis\":{\"title\":{\"text\":\"Box office revenue\"},\"type\":\"log\",\"range\":[5.5,10.5],\"tickvals\":[1000000.0,10000000.0,100000000.0,1000000000.0,10000000000.0],\"ticktext\":[\"1M\",\"10M\",\"100M\",\"1B\",\"10B\"]},\"title\":{\"text\":\"Budget vs Box office revenue\"}},                        {\"responsive\": true}                    ).then(function(){\n",
       "                            \n",
       "var gd = document.getElementById('c3427c63-a3a9-4815-9c93-3ca9562c2181');\n",
       "var x = new MutationObserver(function (mutations, observer) {{\n",
       "        var display = window.getComputedStyle(gd).display;\n",
       "        if (!display || display === 'none') {{\n",
       "            console.log([gd, 'removed!']);\n",
       "            Plotly.purge(gd);\n",
       "            observer.disconnect();\n",
       "        }}\n",
       "}});\n",
       "\n",
       "// Listen for the removal of the full notebook cells\n",
       "var notebookContainer = gd.closest('#notebook-container');\n",
       "if (notebookContainer) {{\n",
       "    x.observe(notebookContainer, {childList: true});\n",
       "}}\n",
       "\n",
       "// Listen for the clearing of the current output cell\n",
       "var outputEl = gd.closest('.output');\n",
       "if (outputEl) {{\n",
       "    x.observe(outputEl, {childList: true});\n",
       "}}\n",
       "\n",
       "                        })                };                });            </script>        </div>"
      ]
     },
     "metadata": {},
     "output_type": "display_data"
    }
   ],
   "execution_count": 282
  },
  {
   "cell_type": "markdown",
   "id": "ebe4c69043748ca8",
   "metadata": {},
   "source": [
    "### 5. Time between sequels"
   ]
  },
  {
   "cell_type": "markdown",
   "id": "e0e45c9aafe33ed5",
   "metadata": {},
   "source": [
    "This graph displays the time occured between sequels in a collection. The x-axis represents the number of years between sequels, and the y-axis is the collection. The size of the circles is proportional to the box office revenue of the movie. The link between each film . The graph helps identify patterns in the time between sequels and the revenue generated by each sequel.\n",
    "\n",
    "get_time_between_sequels first separates the movies between first movie and the following sequels, creates a dataframe with the movies in each collection, their release date and the box office revenue. It then calculates the time between sequels. Then it draws the graph."
   ]
  },
  {
   "cell_type": "code",
   "id": "befb60b2df4bd9cc",
   "metadata": {
    "ExecuteTime": {
     "end_time": "2024-12-15T23:01:08.293765Z",
     "start_time": "2024-12-15T23:01:08.017992Z"
    }
   },
   "source": [
    "from src.models.collection_analysis import get_time_between_sequels\n",
    "\n",
    "fig = get_time_between_sequels(movie_frames_concat)\n",
    "fig.show()"
   ],
   "outputs": [
    {
     "data": {
      "application/vnd.plotly.v1+json": {
       "data": [
        {
         "hoverinfo": "text",
         "marker": {
          "size": [
           10.025614449047364,
           10.027565416249805,
           10.044633930087114,
           10.049587739234653,
           10.056659436410925,
           10.065990154067903,
           10.08861828723322,
           10.097237324815945,
           10.110548916815036,
           10.123405517142103,
           10.129642837870907,
           10.162467899789876,
           10.164062168396805,
           10.175207467383018,
           10.216335446636135,
           10.246659510587843,
           10.25008087049443,
           10.265638002184563,
           10.278239498410507,
           10.326635236054825,
           10.342113241233344,
           10.350279557659405,
           10.35810988840863,
           10.376971922805957,
           10.384868224991727,
           10.386417427979723,
           10.395015414280063,
           10.395015414280063,
           10.395957969084009,
           10.397138225975112,
           10.423584784116862,
           10.425019958534708,
           10.429132459522148,
           10.442718872423573,
           10.445147362526365,
           10.445548083189184,
           10.447168272986094,
           10.448330900179243,
           10.45579114641162,
           10.45579114641162,
           10.457559849416562,
           10.535461161848083,
           10.545060616185179,
           10.546615710496454,
           10.547221596571585,
           10.556890832889808,
           10.563048555927626,
           10.597719844088376,
           10.600305783995868,
           10.62394592823166,
           10.634076651540218,
           10.650934655715968,
           10.661536779755327,
           10.668326762263964,
           10.676835645066674,
           10.682672545549037,
           10.682696904573854,
           10.759044966301976,
           10.77326411301587,
           10.785509770785826,
           10.785509770785826,
           10.845742147720701,
           10.862488849209647,
           10.864375571579144,
           10.91231779117283,
           10.914049283656544,
           10.931153543880525,
           10.948572732174403,
           10.949372731501429,
           10.984456956203598,
           11.00041967213959,
           11.02881178050215,
           11.04538486029844,
           11.049718075617449,
           11.094400334794043,
           11.11214860235035,
           11.135241394270498,
           11.144614024755583,
           11.147098132997863,
           11.166187313799522,
           11.211965479272914,
           11.21391890040282,
           11.268480133963447,
           11.315296917911544,
           11.36930820292657,
           11.394789004633182,
           11.40033287898072,
           11.41730697669393,
           11.425292774499761,
           11.488335467591227,
           11.507409298697125,
           11.531836448461034,
           11.533752665394267,
           11.684484185906802,
           11.90466569582612,
           12.072519330782304,
           12.478486790936213,
           12.51935040061466,
           12.52652754710179,
           12.598470593996629,
           12.779577660341179,
           12.803949912964908,
           12.81718344097768,
           12.836281865116938,
           12.892507288405838,
           12.908785555380428,
           12.928418091378767,
           12.928418091378767,
           12.954884382133116,
           12.972180276383304,
           13.009172119785749,
           13.08244713384244,
           10.0,
           10.0,
           10.0,
           10.0,
           10.0,
           10.0,
           10.0,
           10.0,
           10.0,
           10.0,
           10.0,
           10.0,
           10.0,
           10.0,
           10.0,
           10.0,
           10.0,
           10.0,
           10.0,
           10.0,
           10.0,
           10.0,
           10.0
          ]
         },
         "mode": "markers",
         "showlegend": false,
         "text": [
          "More American Graffiti",
          "Open Season 2",
          "Poltergeist III",
          "Superman IV: The Quest For Peace",
          "The Crow: City of Angels",
          "Pokémon Heroes",
          "Pokémon 4Ever",
          "Exorcist II: The Heretic",
          "Bambi II",
          "The Exorcist III",
          "Poltergeist II: The Other Side",
          "Mortal Kombat: Annihilation",
          "Jaws: The Revenge",
          "Rugrats Go Wild",
          "Pokémon: Spell Of The Unown",
          "Exorcist: The Beginning",
          "Home Alone 3",
          "I Still Know What You Did Last Summer",
          "Jaws 3-D",
          "Rugrats in Paris: The Movie",
          "Superman II",
          "The Santa Clause 3: The Escape Clause",
          "Rambo",
          "Beverly Hills Cop III",
          "Poltergeist",
          "Mortal Kombat",
          "Legally Blonde 2: Red, White & Blonde",
          "Legally Blonde 2: Red, White & Blonde",
          "First Blood",
          "I Know What You Did Last Summer",
          "Pokémon The Movie 2000",
          "Inspector Gadget",
          "The Jungle Book 2",
          "American Graffiti",
          "Die Hard",
          "The Rugrats Movie",
          "Bad Boys",
          "Legally Blonde",
          "Herbie: Fully Loaded",
          "The Love Bug",
          "The Crow",
          "The Emperor's New Groove",
          "Scream 2",
          "The Santa Clause 2",
          "Scream",
          "Dr. Dolittle 2",
          "Patriot Games",
          "Rambo III",
          "The Santa Clause",
          "Open Season",
          "The Hunt for Red October",
          "The Jungle Book",
          "Red Dragon",
          "The Little Mermaid",
          "The Bourne Identity",
          "One Hundred and One Dalmatians",
          "Clear and Present Danger",
          "Die Hard 2",
          "Back to the Future Part III",
          "Red Cliff",
          "Red Cliff",
          "Bambi",
          "The Silence of the Lambs",
          "Bad Boys II",
          "The Bourne Supremacy",
          "Fantastic Four: Rise of the Silver Surfer",
          "Dr. Dolittle",
          "Beverly Hills Cop II",
          "Superman",
          "Ocean's Thirteen",
          "Beverly Hills Cop",
          "The Hunchback of Notre Dame",
          "Fantastic Four",
          "Back to the Future Part II",
          "Pocahontas",
          "Hannibal",
          "Home Alone 2: Lost in New York",
          "Toy Story",
          "Ocean's Twelve",
          "Jurassic Park III",
          "Ice Age",
          "Back to the Future",
          "The Mummy - Tomb of the Dragon Emperor",
          "The Mummy",
          "The Mummy Returns",
          "The Exorcist",
          "The Bourne Ultimatum",
          "Tarzan",
          "Ocean's Eleven",
          "Jaws",
          "Home Alone",
          "Shrek",
          "Toy Story 2",
          "Madagascar",
          "Madagascar: Escape 2 Africa",
          "Ice Age: The Meltdown",
          "Spider-Man 2",
          "Harry Potter and the Prisoner of Azkaban",
          "Shrek the Third",
          "Spider-Man",
          "Harry Potter and the Chamber of Secrets",
          "Ice Age: Dawn of the Dinosaurs",
          "Spider-Man 3",
          "Harry Potter and the Goblet of Fire",
          "Jurassic Park",
          "Shrek 2",
          "The Lord of the Rings film trilogy",
          "The Lord of the Rings: The Two Towers",
          "Harry Potter and the Half-Blood Prince",
          "Harry Potter and the Order of the Phoenix",
          "The Lion King",
          "Harry Potter and the Philosopher's Stone",
          "101 Dalmatians II: Patch's London Adventure",
          "Dr. Dolittle 3",
          "Dr. Dolittle: Tail To The Chief",
          "Dr Dolittle Million Dollar Mutts",
          "Herbie Rides Again",
          "Herbie Goes to Monte Carlo",
          "Herbie Goes Bananas",
          "I'll Always Know What You Did Last Summer",
          "Inspector Gadget 2",
          "Pocahontas II: Journey to a New World",
          "Rambo: First Blood Part II",
          "Superman III",
          "Tarzan & Jane",
          "Tarzan II",
          "The Crow: Salvation",
          "The Crow: Wicked Prayer",
          "Kronk's New Groove",
          "The Hunchback of Notre Dame II",
          "The Lion King II: Simba's Pride",
          "The Lion King 1½",
          "The Little Mermaid II: Return to the Sea",
          "The Little Mermaid: Ariel's Beginning",
          "The Lord of the Rings film trilogy"
         ],
         "x": [
          "1979-08-03T00:00:00",
          "2008-09-24T00:00:00",
          "1988-06-10T00:00:00",
          "1987-07-24T00:00:00",
          "1996-08-29T00:00:00",
          "2002-07-13T00:00:00",
          "2001-07-06T00:00:00",
          "1977-06-17T00:00:00",
          "2006-01-26T00:00:00",
          "1990-08-17T00:00:00",
          "1986-05-23T00:00:00",
          "1997-11-11T00:00:00",
          "1987-07-17T00:00:00",
          "2003-06-13T00:00:00",
          "2000-07-08T00:00:00",
          "2004-08-20T00:00:00",
          "1997-12-12T00:00:00",
          "1998-11-13T00:00:00",
          "1983-07-22T00:00:00",
          "2000-11-17T00:00:00",
          "1980-12-12T00:00:00",
          "2006-11-02T00:00:00",
          "2008-01-24T00:00:00",
          "1994-05-24T00:00:00",
          "1982-06-04T00:00:00",
          "1995-08-18T00:00:00",
          null,
          "2003-07-02T00:00:00",
          "1982-10-22T00:00:00",
          "1997-10-17T00:00:00",
          "1999-07-17T00:00:00",
          "1999-07-23T00:00:00",
          "2003-02-07T00:00:00",
          "1973-08-11T00:00:00",
          "1988-07-15T00:00:00",
          "1998-11-20T00:00:00",
          "1995-04-07T00:00:00",
          "2001-07-13T00:00:00",
          "2005-06-22T00:00:00",
          "1968-12-23T00:00:00",
          "1994-05-11T00:00:00",
          "2000-12-15T00:00:00",
          "1997-12-12T00:00:00",
          "2002-09-29T00:00:00",
          "1996-12-20T00:00:00",
          "2001-06-22T00:00:00",
          "1992-06-04T00:00:00",
          "1988-05-24T00:00:00",
          "1994-11-11T00:00:00",
          "2006-09-27T00:00:00",
          "1990-03-02T00:00:00",
          "1967-10-18T00:00:00",
          "2002-10-02T00:00:00",
          "1989-11-17T00:00:00",
          "2002-06-14T00:00:00",
          "1961-01-25T00:00:00",
          "1994-08-03T00:00:00",
          "1990-07-03T00:00:00",
          "1990-05-25T00:00:00",
          "2008-07-10T00:00:00",
          "2009-01-07T00:00:00",
          "1942-02-11T00:00:00",
          "1991-02-14T00:00:00",
          "2003-07-18T00:00:00",
          "2004-07-23T00:00:00",
          "2007-06-13T00:00:00",
          "1998-06-26T00:00:00",
          "1987-05-18T00:00:00",
          "1978-12-14T00:00:00",
          "2007-06-05T00:00:00",
          "1984-12-05T00:00:00",
          "1996-06-21T00:00:00",
          "2005-06-29T00:00:00",
          "1989-11-22T00:00:00",
          "1995-06-14T00:00:00",
          "2001-02-08T00:00:00",
          "1992-11-15T00:00:00",
          "1995-10-30T00:00:00",
          "2004-12-09T00:00:00",
          "2001-07-18T00:00:00",
          "2002-03-10T00:00:00",
          "1985-07-03T00:00:00",
          "2008-07-01T00:00:00",
          "1999-04-16T00:00:00",
          "2001-05-04T00:00:00",
          "1973-12-26T00:00:00",
          "2007-08-03T00:00:00",
          "1999-06-18T00:00:00",
          "2001-12-07T00:00:00",
          "1975-06-20T00:00:00",
          "1990-11-16T00:00:00",
          "2001-05-18T00:00:00",
          "1999-10-30T00:00:00",
          "2005-05-25T00:00:00",
          "2008-10-30T00:00:00",
          "2006-03-29T00:00:00",
          "2004-06-25T00:00:00",
          "2004-05-31T00:00:00",
          "2007-05-17T00:00:00",
          "2002-05-01T00:00:00",
          "2002-11-13T00:00:00",
          "2009-06-26T00:00:00",
          "2007-05-01T00:00:00",
          "2005-11-16T00:00:00",
          "1993-06-11T00:00:00",
          "2004-05-19T00:00:00",
          "2001-12-18T00:00:00",
          "2002-12-18T00:00:00",
          "2009-07-15T00:00:00",
          "2007-07-08T00:00:00",
          "1994-06-24T00:00:00",
          "2001-11-16T00:00:00",
          "2003-03-02T00:00:00",
          "2006-04-25T00:00:00",
          "2008-03-04T00:00:00",
          "2009-04-08T00:00:00",
          "1974-02-12T00:00:00",
          "1977-06-24T00:00:00",
          "1980-06-25T00:00:00",
          "2006-06-24T00:00:00",
          "2003-03-11T00:00:00",
          "1998-08-04T00:00:00",
          "1985-05-21T00:00:00",
          "1983-06-17T00:00:00",
          "2002-06-24T00:00:00",
          "2005-06-13T00:00:00",
          "2000-01-23T00:00:00",
          "2005-05-04T00:00:00",
          "2005-12-05T00:00:00",
          "2002-02-06T00:00:00",
          "1998-10-24T00:00:00",
          "2004-02-06T00:00:00",
          "2000-01-23T00:00:00",
          "2008-08-25T00:00:00",
          "2003-12-17T00:00:00"
         ],
         "y": [
          "American Graffiti",
          "Open Season",
          "Poltergeist",
          "Superman",
          "The Crow",
          "Pokémon",
          "Pokémon",
          "The Exorcist",
          "Bambi",
          "The Exorcist",
          "Poltergeist",
          "Mortal Kombat",
          "Jaws",
          "Rugrats",
          "Pokémon",
          "The Exorcist",
          "Home Alone",
          "I Know What You Did Last Summer",
          "Jaws",
          "Rugrats",
          "Superman",
          "The Santa Clause",
          "Rambo",
          "Beverly Hills Cop",
          "Poltergeist",
          "Mortal Kombat",
          "Legally Blonde",
          "Legally Blonde",
          "Rambo",
          "I Know What You Did Last Summer",
          "Pokémon",
          "Inspector Gadget",
          "The Jungle Book",
          "American Graffiti",
          "Die Hard",
          "Rugrats",
          "Bad Boys",
          "Legally Blonde",
          "Herbie",
          "Herbie",
          "The Crow",
          "The Emperor's New Groove",
          "Scream",
          "The Santa Clause",
          "Scream",
          "Dr. Dolittle",
          "The Jack Ryan",
          "Rambo",
          "The Santa Clause",
          "Open Season",
          "The Jack Ryan",
          "The Jungle Book",
          "The Hannibal Lecter",
          "The Little Mermaid",
          "The Bourne",
          "101 Dalmatians (Animated)",
          "The Jack Ryan",
          "Die Hard",
          "Back to the Future",
          "Red Cliff",
          "Red Cliff",
          "Bambi",
          "The Hannibal Lecter",
          "Bad Boys",
          "The Bourne",
          "Fantastic Four",
          "Dr. Dolittle",
          "Beverly Hills Cop",
          "Superman",
          "Ocean's",
          "Beverly Hills Cop",
          "The Hunchback of Notre Dame",
          "Fantastic Four",
          "Back to the Future",
          "Pocahontas",
          "The Hannibal Lecter",
          "Home Alone",
          "Toy Story",
          "Ocean's",
          "Jurassic Park",
          "Ice Age",
          "Back to the Future",
          "The Mummy",
          "The Mummy",
          "The Mummy",
          "The Exorcist",
          "The Bourne",
          "Tarzan (Animation)",
          "Ocean's",
          "Jaws",
          "Home Alone",
          "Shrek",
          "Toy Story",
          "Madagascar",
          "Madagascar",
          "Ice Age",
          "Spider-Man",
          "Harry Potter",
          "Shrek",
          "Spider-Man",
          "Harry Potter",
          "Ice Age",
          "Spider-Man",
          "Harry Potter",
          "Jurassic Park",
          "Shrek",
          "The Lord of the Rings",
          "The Lord of the Rings",
          "Harry Potter",
          "Harry Potter",
          "The Lion King",
          "Harry Potter",
          "101 Dalmatians (Animated)",
          "Dr. Dolittle",
          "Dr. Dolittle",
          "Dr. Dolittle",
          "Herbie",
          "Herbie",
          "Herbie",
          "I Know What You Did Last Summer",
          "Inspector Gadget",
          "Pocahontas",
          "Rambo",
          "Superman",
          "Tarzan (Animation)",
          "Tarzan (Animation)",
          "The Crow",
          "The Crow",
          "The Emperor's New Groove",
          "The Hunchback of Notre Dame",
          "The Lion King",
          "The Lion King",
          "The Little Mermaid",
          "The Little Mermaid",
          "The Lord of the Rings"
         ],
         "type": "scatter"
        },
        {
         "hoverinfo": "skip",
         "line": {
          "color": "rgb(248, 216, 77)",
          "width": 2
         },
         "mode": "lines",
         "showlegend": false,
         "x": [
          "1973-08-11T00:00:00",
          "1979-08-03T00:00:00"
         ],
         "y": [
          "American Graffiti",
          "American Graffiti"
         ],
         "type": "scatter"
        },
        {
         "hoverinfo": "skip",
         "line": {
          "color": "rgb(251, 242, 135)",
          "width": 2
         },
         "mode": "lines",
         "showlegend": false,
         "x": [
          "2006-09-27T00:00:00",
          "2008-09-24T00:00:00"
         ],
         "y": [
          "Open Season",
          "Open Season"
         ],
         "type": "scatter"
        },
        {
         "hoverinfo": "skip",
         "line": {
          "color": "rgb(251, 242, 134)",
          "width": 2
         },
         "mode": "lines",
         "showlegend": false,
         "x": [
          "1986-05-23T00:00:00",
          "1988-06-10T00:00:00"
         ],
         "y": [
          "Poltergeist",
          "Poltergeist"
         ],
         "type": "scatter"
        },
        {
         "hoverinfo": "skip",
         "line": {
          "color": "rgb(249, 228, 105)",
          "width": 2
         },
         "mode": "lines",
         "showlegend": false,
         "x": [
          "1983-06-17T00:00:00",
          "1987-07-24T00:00:00"
         ],
         "y": [
          "Superman",
          "Superman"
         ],
         "type": "scatter"
        },
        {
         "hoverinfo": "skip",
         "line": {
          "color": "rgb(250, 240, 131)",
          "width": 2
         },
         "mode": "lines",
         "showlegend": false,
         "x": [
          "1994-05-11T00:00:00",
          "1996-08-29T00:00:00"
         ],
         "y": [
          "The Crow",
          "The Crow"
         ],
         "type": "scatter"
        },
        {
         "hoverinfo": "skip",
         "line": {
          "color": "rgb(251, 248, 149)",
          "width": 2
         },
         "mode": "lines",
         "showlegend": false,
         "x": [
          "2001-07-06T00:00:00",
          "2002-07-13T00:00:00"
         ],
         "y": [
          "Pokémon",
          "Pokémon"
         ],
         "type": "scatter"
        },
        {
         "hoverinfo": "skip",
         "line": {
          "color": "rgb(251, 249, 150)",
          "width": 2
         },
         "mode": "lines",
         "showlegend": false,
         "x": [
          "2000-07-08T00:00:00",
          "2001-07-06T00:00:00"
         ],
         "y": [
          "Pokémon",
          "Pokémon"
         ],
         "type": "scatter"
        },
        {
         "hoverinfo": "skip",
         "line": {
          "color": "rgb(250, 233, 114)",
          "width": 2
         },
         "mode": "lines",
         "showlegend": false,
         "x": [
          "1973-12-26T00:00:00",
          "1977-06-17T00:00:00"
         ],
         "y": [
          "The Exorcist",
          "The Exorcist"
         ],
         "type": "scatter"
        },
        {
         "hoverinfo": "skip",
         "line": {
          "color": "rgb(0, 0, 4)",
          "width": 2
         },
         "mode": "lines",
         "showlegend": false,
         "x": [
          "1942-02-11T00:00:00",
          "2006-01-26T00:00:00"
         ],
         "y": [
          "Bambi",
          "Bambi"
         ],
         "type": "scatter"
        },
        {
         "hoverinfo": "skip",
         "line": {
          "color": "rgb(250, 163, 14)",
          "width": 2
         },
         "mode": "lines",
         "showlegend": false,
         "x": [
          "1977-06-17T00:00:00",
          "1990-08-17T00:00:00"
         ],
         "y": [
          "The Exorcist",
          "The Exorcist"
         ],
         "type": "scatter"
        },
        {
         "hoverinfo": "skip",
         "line": {
          "color": "rgb(249, 229, 106)",
          "width": 2
         },
         "mode": "lines",
         "showlegend": false,
         "x": [
          "1982-06-04T00:00:00",
          "1986-05-23T00:00:00"
         ],
         "y": [
          "Poltergeist",
          "Poltergeist"
         ],
         "type": "scatter"
        },
        {
         "hoverinfo": "skip",
         "line": {
          "color": "rgb(250, 241, 132)",
          "width": 2
         },
         "mode": "lines",
         "showlegend": false,
         "x": [
          "1995-08-18T00:00:00",
          "1997-11-11T00:00:00"
         ],
         "y": [
          "Mortal Kombat",
          "Mortal Kombat"
         ],
         "type": "scatter"
        },
        {
         "hoverinfo": "skip",
         "line": {
          "color": "rgb(249, 229, 106)",
          "width": 2
         },
         "mode": "lines",
         "showlegend": false,
         "x": [
          "1983-07-22T00:00:00",
          "1987-07-17T00:00:00"
         ],
         "y": [
          "Jaws",
          "Jaws"
         ],
         "type": "scatter"
        },
        {
         "hoverinfo": "skip",
         "line": {
          "color": "rgb(250, 238, 127)",
          "width": 2
         },
         "mode": "lines",
         "showlegend": false,
         "x": [
          "2000-11-17T00:00:00",
          "2003-06-13T00:00:00"
         ],
         "y": [
          "Rugrats",
          "Rugrats"
         ],
         "type": "scatter"
        },
        {
         "hoverinfo": "skip",
         "line": {
          "color": "rgb(251, 249, 150)",
          "width": 2
         },
         "mode": "lines",
         "showlegend": false,
         "x": [
          "1999-07-17T00:00:00",
          "2000-07-08T00:00:00"
         ],
         "y": [
          "Pokémon",
          "Pokémon"
         ],
         "type": "scatter"
        },
        {
         "hoverinfo": "skip",
         "line": {
          "color": "rgb(251, 157, 8)",
          "width": 2
         },
         "mode": "lines",
         "showlegend": false,
         "x": [
          "1990-08-17T00:00:00",
          "2004-08-20T00:00:00"
         ],
         "y": [
          "The Exorcist",
          "The Exorcist"
         ],
         "type": "scatter"
        },
        {
         "hoverinfo": "skip",
         "line": {
          "color": "rgb(248, 222, 90)",
          "width": 2
         },
         "mode": "lines",
         "showlegend": false,
         "x": [
          "1992-11-15T00:00:00",
          "1997-12-12T00:00:00"
         ],
         "y": [
          "Home Alone",
          "Home Alone"
         ],
         "type": "scatter"
        },
        {
         "hoverinfo": "skip",
         "line": {
          "color": "rgb(251, 248, 148)",
          "width": 2
         },
         "mode": "lines",
         "showlegend": false,
         "x": [
          "1997-10-17T00:00:00",
          "1998-11-13T00:00:00"
         ],
         "y": [
          "I Know What You Did Last Summer",
          "I Know What You Did Last Summer"
         ],
         "type": "scatter"
        },
        {
         "hoverinfo": "skip",
         "line": {
          "color": "rgb(248, 202, 53)",
          "width": 2
         },
         "mode": "lines",
         "showlegend": false,
         "x": [
          "1975-06-20T00:00:00",
          "1983-07-22T00:00:00"
         ],
         "y": [
          "Jaws",
          "Jaws"
         ],
         "type": "scatter"
        },
        {
         "hoverinfo": "skip",
         "line": {
          "color": "rgb(251, 242, 135)",
          "width": 2
         },
         "mode": "lines",
         "showlegend": false,
         "x": [
          "1998-11-20T00:00:00",
          "2000-11-17T00:00:00"
         ],
         "y": [
          "Rugrats",
          "Rugrats"
         ],
         "type": "scatter"
        },
        {
         "hoverinfo": "skip",
         "line": {
          "color": "rgb(251, 242, 135)",
          "width": 2
         },
         "mode": "lines",
         "showlegend": false,
         "x": [
          "1978-12-14T00:00:00",
          "1980-12-12T00:00:00"
         ],
         "y": [
          "Superman",
          "Superman"
         ],
         "type": "scatter"
        },
        {
         "hoverinfo": "skip",
         "line": {
          "color": "rgb(249, 229, 105)",
          "width": 2
         },
         "mode": "lines",
         "showlegend": false,
         "x": [
          "2002-09-29T00:00:00",
          "2006-11-02T00:00:00"
         ],
         "y": [
          "The Santa Clause",
          "The Santa Clause"
         ],
         "type": "scatter"
        },
        {
         "hoverinfo": "skip",
         "line": {
          "color": "rgb(240, 117, 30)",
          "width": 2
         },
         "mode": "lines",
         "showlegend": false,
         "x": [
          "1988-05-24T00:00:00",
          "2008-01-24T00:00:00"
         ],
         "y": [
          "Rambo",
          "Rambo"
         ],
         "type": "scatter"
        },
        {
         "hoverinfo": "skip",
         "line": {
          "color": "rgb(247, 210, 62)",
          "width": 2
         },
         "mode": "lines",
         "showlegend": false,
         "x": [
          "1987-05-18T00:00:00",
          "1994-05-24T00:00:00"
         ],
         "y": [
          "Beverly Hills Cop",
          "Beverly Hills Cop"
         ],
         "type": "scatter"
        },
        {
         "hoverinfo": "skip",
         "line": {
          "color": "black",
          "width": 2
         },
         "mode": "lines",
         "showlegend": false,
         "x": [
          "2003-07-02T00:00:00",
          null
         ],
         "y": [
          "Legally Blonde",
          "Legally Blonde"
         ],
         "type": "scatter"
        },
        {
         "hoverinfo": "skip",
         "line": {
          "color": "rgb(251, 242, 135)",
          "width": 2
         },
         "mode": "lines",
         "showlegend": false,
         "x": [
          "2001-07-13T00:00:00",
          "2003-07-02T00:00:00"
         ],
         "y": [
          "Legally Blonde",
          "Legally Blonde"
         ],
         "type": "scatter"
        },
        {
         "hoverinfo": "skip",
         "line": {
          "color": "rgb(166, 45, 95)",
          "width": 2
         },
         "mode": "lines",
         "showlegend": false,
         "x": [
          "1967-10-18T00:00:00",
          "2003-02-07T00:00:00"
         ],
         "y": [
          "The Jungle Book",
          "The Jungle Book"
         ],
         "type": "scatter"
        },
        {
         "hoverinfo": "skip",
         "line": {
          "color": "rgb(221, 86, 54)",
          "width": 2
         },
         "mode": "lines",
         "showlegend": false,
         "x": [
          "1980-06-25T00:00:00",
          "2005-06-22T00:00:00"
         ],
         "y": [
          "Herbie",
          "Herbie"
         ],
         "type": "scatter"
        },
        {
         "hoverinfo": "skip",
         "line": {
          "color": "rgb(251, 249, 150)",
          "width": 2
         },
         "mode": "lines",
         "showlegend": false,
         "x": [
          "1996-12-20T00:00:00",
          "1997-12-12T00:00:00"
         ],
         "y": [
          "Scream",
          "Scream"
         ],
         "type": "scatter"
        },
        {
         "hoverinfo": "skip",
         "line": {
          "color": "rgb(247, 203, 55)",
          "width": 2
         },
         "mode": "lines",
         "showlegend": false,
         "x": [
          "1994-11-11T00:00:00",
          "2002-09-29T00:00:00"
         ],
         "y": [
          "The Santa Clause",
          "The Santa Clause"
         ],
         "type": "scatter"
        },
        {
         "hoverinfo": "skip",
         "line": {
          "color": "rgb(250, 236, 121)",
          "width": 2
         },
         "mode": "lines",
         "showlegend": false,
         "x": [
          "1998-06-26T00:00:00",
          "2001-06-22T00:00:00"
         ],
         "y": [
          "Dr. Dolittle",
          "Dr. Dolittle"
         ],
         "type": "scatter"
        },
        {
         "hoverinfo": "skip",
         "line": {
          "color": "rgb(250, 240, 131)",
          "width": 2
         },
         "mode": "lines",
         "showlegend": false,
         "x": [
          "1990-03-02T00:00:00",
          "1992-06-04T00:00:00"
         ],
         "y": [
          "The Jack Ryan",
          "The Jack Ryan"
         ],
         "type": "scatter"
        },
        {
         "hoverinfo": "skip",
         "line": {
          "color": "rgb(250, 236, 120)",
          "width": 2
         },
         "mode": "lines",
         "showlegend": false,
         "x": [
          "1985-05-21T00:00:00",
          "1988-05-24T00:00:00"
         ],
         "y": [
          "Rambo",
          "Rambo"
         ],
         "type": "scatter"
        },
        {
         "hoverinfo": "skip",
         "line": {
          "color": "rgb(251, 244, 140)",
          "width": 2
         },
         "mode": "lines",
         "showlegend": false,
         "x": [
          "2001-02-08T00:00:00",
          "2002-10-02T00:00:00"
         ],
         "y": [
          "The Hannibal Lecter",
          "The Hannibal Lecter"
         ],
         "type": "scatter"
        },
        {
         "hoverinfo": "skip",
         "line": {
          "color": "rgb(250, 241, 133)",
          "width": 2
         },
         "mode": "lines",
         "showlegend": false,
         "x": [
          "1992-06-04T00:00:00",
          "1994-08-03T00:00:00"
         ],
         "y": [
          "The Jack Ryan",
          "The Jack Ryan"
         ],
         "type": "scatter"
        },
        {
         "hoverinfo": "skip",
         "line": {
          "color": "rgb(251, 242, 136)",
          "width": 2
         },
         "mode": "lines",
         "showlegend": false,
         "x": [
          "1988-07-15T00:00:00",
          "1990-07-03T00:00:00"
         ],
         "y": [
          "Die Hard",
          "Die Hard"
         ],
         "type": "scatter"
        },
        {
         "hoverinfo": "skip",
         "line": {
          "color": "rgb(252, 252, 157)",
          "width": 2
         },
         "mode": "lines",
         "showlegend": false,
         "x": [
          "1989-11-22T00:00:00",
          "1990-05-25T00:00:00"
         ],
         "y": [
          "Back to the Future",
          "Back to the Future"
         ],
         "type": "scatter"
        },
        {
         "hoverinfo": "skip",
         "line": {
          "color": "rgb(252, 252, 157)",
          "width": 2
         },
         "mode": "lines",
         "showlegend": false,
         "x": [
          "2008-07-10T00:00:00",
          "2009-01-07T00:00:00"
         ],
         "y": [
          "Red Cliff",
          "Red Cliff"
         ],
         "type": "scatter"
        },
        {
         "hoverinfo": "skip",
         "line": {
          "color": "rgb(248, 200, 52)",
          "width": 2
         },
         "mode": "lines",
         "showlegend": false,
         "x": [
          "1995-04-07T00:00:00",
          "2003-07-18T00:00:00"
         ],
         "y": [
          "Bad Boys",
          "Bad Boys"
         ],
         "type": "scatter"
        },
        {
         "hoverinfo": "skip",
         "line": {
          "color": "rgb(251, 241, 133)",
          "width": 2
         },
         "mode": "lines",
         "showlegend": false,
         "x": [
          "2002-06-14T00:00:00",
          "2004-07-23T00:00:00"
         ],
         "y": [
          "The Bourne",
          "The Bourne"
         ],
         "type": "scatter"
        },
        {
         "hoverinfo": "skip",
         "line": {
          "color": "rgb(251, 242, 136)",
          "width": 2
         },
         "mode": "lines",
         "showlegend": false,
         "x": [
          "2005-06-29T00:00:00",
          "2007-06-13T00:00:00"
         ],
         "y": [
          "Fantastic Four",
          "Fantastic Four"
         ],
         "type": "scatter"
        },
        {
         "hoverinfo": "skip",
         "line": {
          "color": "rgb(250, 239, 129)",
          "width": 2
         },
         "mode": "lines",
         "showlegend": false,
         "x": [
          "1984-12-05T00:00:00",
          "1987-05-18T00:00:00"
         ],
         "y": [
          "Beverly Hills Cop",
          "Beverly Hills Cop"
         ],
         "type": "scatter"
        },
        {
         "hoverinfo": "skip",
         "line": {
          "color": "rgb(250, 239, 128)",
          "width": 2
         },
         "mode": "lines",
         "showlegend": false,
         "x": [
          "2004-12-09T00:00:00",
          "2007-06-05T00:00:00"
         ],
         "y": [
          "Ocean's",
          "Ocean's"
         ],
         "type": "scatter"
        },
        {
         "hoverinfo": "skip",
         "line": {
          "color": "rgb(249, 227, 100)",
          "width": 2
         },
         "mode": "lines",
         "showlegend": false,
         "x": [
          "1985-07-03T00:00:00",
          "1989-11-22T00:00:00"
         ],
         "y": [
          "Back to the Future",
          "Back to the Future"
         ],
         "type": "scatter"
        },
        {
         "hoverinfo": "skip",
         "line": {
          "color": "rgb(249, 187, 39)",
          "width": 2
         },
         "mode": "lines",
         "showlegend": false,
         "x": [
          "1991-02-14T00:00:00",
          "2001-02-08T00:00:00"
         ],
         "y": [
          "The Hannibal Lecter",
          "The Hannibal Lecter"
         ],
         "type": "scatter"
        },
        {
         "hoverinfo": "skip",
         "line": {
          "color": "rgb(251, 242, 135)",
          "width": 2
         },
         "mode": "lines",
         "showlegend": false,
         "x": [
          "1990-11-16T00:00:00",
          "1992-11-15T00:00:00"
         ],
         "y": [
          "Home Alone",
          "Home Alone"
         ],
         "type": "scatter"
        },
        {
         "hoverinfo": "skip",
         "line": {
          "color": "rgb(250, 236, 120)",
          "width": 2
         },
         "mode": "lines",
         "showlegend": false,
         "x": [
          "2001-12-07T00:00:00",
          "2004-12-09T00:00:00"
         ],
         "y": [
          "Ocean's",
          "Ocean's"
         ],
         "type": "scatter"
        },
        {
         "hoverinfo": "skip",
         "line": {
          "color": "rgb(248, 201, 53)",
          "width": 2
         },
         "mode": "lines",
         "showlegend": false,
         "x": [
          "1993-06-11T00:00:00",
          "2001-07-18T00:00:00"
         ],
         "y": [
          "Jurassic Park",
          "Jurassic Park"
         ],
         "type": "scatter"
        },
        {
         "hoverinfo": "skip",
         "line": {
          "color": "rgb(247, 209, 61)",
          "width": 2
         },
         "mode": "lines",
         "showlegend": false,
         "x": [
          "2001-05-04T00:00:00",
          "2008-07-01T00:00:00"
         ],
         "y": [
          "The Mummy",
          "The Mummy"
         ],
         "type": "scatter"
        },
        {
         "hoverinfo": "skip",
         "line": {
          "color": "rgb(251, 242, 134)",
          "width": 2
         },
         "mode": "lines",
         "showlegend": false,
         "x": [
          "1999-04-16T00:00:00",
          "2001-05-04T00:00:00"
         ],
         "y": [
          "The Mummy",
          "The Mummy"
         ],
         "type": "scatter"
        },
        {
         "hoverinfo": "skip",
         "line": {
          "color": "rgb(250, 235, 120)",
          "width": 2
         },
         "mode": "lines",
         "showlegend": false,
         "x": [
          "2004-07-23T00:00:00",
          "2007-08-03T00:00:00"
         ],
         "y": [
          "The Bourne",
          "The Bourne"
         ],
         "type": "scatter"
        },
        {
         "hoverinfo": "skip",
         "line": {
          "color": "rgb(249, 229, 106)",
          "width": 2
         },
         "mode": "lines",
         "showlegend": false,
         "x": [
          "1995-10-30T00:00:00",
          "1999-10-30T00:00:00"
         ],
         "y": [
          "Toy Story",
          "Toy Story"
         ],
         "type": "scatter"
        },
        {
         "hoverinfo": "skip",
         "line": {
          "color": "rgb(250, 233, 114)",
          "width": 2
         },
         "mode": "lines",
         "showlegend": false,
         "x": [
          "2005-05-25T00:00:00",
          "2008-10-30T00:00:00"
         ],
         "y": [
          "Madagascar",
          "Madagascar"
         ],
         "type": "scatter"
        },
        {
         "hoverinfo": "skip",
         "line": {
          "color": "rgb(249, 229, 105)",
          "width": 2
         },
         "mode": "lines",
         "showlegend": false,
         "x": [
          "2002-03-10T00:00:00",
          "2006-03-29T00:00:00"
         ],
         "y": [
          "Ice Age",
          "Ice Age"
         ],
         "type": "scatter"
        },
        {
         "hoverinfo": "skip",
         "line": {
          "color": "rgb(250, 241, 133)",
          "width": 2
         },
         "mode": "lines",
         "showlegend": false,
         "x": [
          "2002-05-01T00:00:00",
          "2004-06-25T00:00:00"
         ],
         "y": [
          "Spider-Man",
          "Spider-Man"
         ],
         "type": "scatter"
        },
        {
         "hoverinfo": "skip",
         "line": {
          "color": "rgb(251, 245, 142)",
          "width": 2
         },
         "mode": "lines",
         "showlegend": false,
         "x": [
          "2002-11-13T00:00:00",
          "2004-05-31T00:00:00"
         ],
         "y": [
          "Harry Potter",
          "Harry Potter"
         ],
         "type": "scatter"
        },
        {
         "hoverinfo": "skip",
         "line": {
          "color": "rgb(250, 236, 121)",
          "width": 2
         },
         "mode": "lines",
         "showlegend": false,
         "x": [
          "2004-05-19T00:00:00",
          "2007-05-17T00:00:00"
         ],
         "y": [
          "Shrek",
          "Shrek"
         ],
         "type": "scatter"
        },
        {
         "hoverinfo": "skip",
         "line": {
          "color": "rgb(251, 249, 150)",
          "width": 2
         },
         "mode": "lines",
         "showlegend": false,
         "x": [
          "2001-11-16T00:00:00",
          "2002-11-13T00:00:00"
         ],
         "y": [
          "Harry Potter",
          "Harry Potter"
         ],
         "type": "scatter"
        },
        {
         "hoverinfo": "skip",
         "line": {
          "color": "rgb(250, 234, 117)",
          "width": 2
         },
         "mode": "lines",
         "showlegend": false,
         "x": [
          "2006-03-29T00:00:00",
          "2009-06-26T00:00:00"
         ],
         "y": [
          "Ice Age",
          "Ice Age"
         ],
         "type": "scatter"
        },
        {
         "hoverinfo": "skip",
         "line": {
          "color": "rgb(250, 237, 123)",
          "width": 2
         },
         "mode": "lines",
         "showlegend": false,
         "x": [
          "2004-06-25T00:00:00",
          "2007-05-01T00:00:00"
         ],
         "y": [
          "Spider-Man",
          "Spider-Man"
         ],
         "type": "scatter"
        },
        {
         "hoverinfo": "skip",
         "line": {
          "color": "rgb(251, 246, 143)",
          "width": 2
         },
         "mode": "lines",
         "showlegend": false,
         "x": [
          "2004-05-31T00:00:00",
          "2005-11-16T00:00:00"
         ],
         "y": [
          "Harry Potter",
          "Harry Potter"
         ],
         "type": "scatter"
        },
        {
         "hoverinfo": "skip",
         "line": {
          "color": "rgb(250, 236, 120)",
          "width": 2
         },
         "mode": "lines",
         "showlegend": false,
         "x": [
          "2001-05-18T00:00:00",
          "2004-05-19T00:00:00"
         ],
         "y": [
          "Shrek",
          "Shrek"
         ],
         "type": "scatter"
        },
        {
         "hoverinfo": "skip",
         "line": {
          "color": "rgb(251, 249, 150)",
          "width": 2
         },
         "mode": "lines",
         "showlegend": false,
         "x": [
          "2001-12-18T00:00:00",
          "2002-12-18T00:00:00"
         ],
         "y": [
          "The Lord of the Rings",
          "The Lord of the Rings"
         ],
         "type": "scatter"
        },
        {
         "hoverinfo": "skip",
         "line": {
          "color": "rgb(251, 242, 135)",
          "width": 2
         },
         "mode": "lines",
         "showlegend": false,
         "x": [
          "2007-07-08T00:00:00",
          "2009-07-15T00:00:00"
         ],
         "y": [
          "Harry Potter",
          "Harry Potter"
         ],
         "type": "scatter"
        },
        {
         "hoverinfo": "skip",
         "line": {
          "color": "rgb(251, 244, 140)",
          "width": 2
         },
         "mode": "lines",
         "showlegend": false,
         "x": [
          "2005-11-16T00:00:00",
          "2007-07-08T00:00:00"
         ],
         "y": [
          "Harry Potter",
          "Harry Potter"
         ],
         "type": "scatter"
        },
        {
         "hoverinfo": "skip",
         "line": {
          "color": "rgb(123, 29, 108)",
          "width": 2
         },
         "mode": "lines",
         "showlegend": false,
         "x": [
          "1961-01-25T00:00:00",
          "2003-03-02T00:00:00"
         ],
         "y": [
          "101 Dalmatians (Animated)",
          "101 Dalmatians (Animated)"
         ],
         "type": "scatter"
        },
        {
         "hoverinfo": "skip",
         "line": {
          "color": "rgb(249, 224, 94)",
          "width": 2
         },
         "mode": "lines",
         "showlegend": false,
         "x": [
          "2001-06-22T00:00:00",
          "2006-04-25T00:00:00"
         ],
         "y": [
          "Dr. Dolittle",
          "Dr. Dolittle"
         ],
         "type": "scatter"
        },
        {
         "hoverinfo": "skip",
         "line": {
          "color": "rgb(251, 243, 137)",
          "width": 2
         },
         "mode": "lines",
         "showlegend": false,
         "x": [
          "2006-04-25T00:00:00",
          "2008-03-04T00:00:00"
         ],
         "y": [
          "Dr. Dolittle",
          "Dr. Dolittle"
         ],
         "type": "scatter"
        },
        {
         "hoverinfo": "skip",
         "line": {
          "color": "rgb(251, 248, 148)",
          "width": 2
         },
         "mode": "lines",
         "showlegend": false,
         "x": [
          "2008-03-04T00:00:00",
          "2009-04-08T00:00:00"
         ],
         "y": [
          "Dr. Dolittle",
          "Dr. Dolittle"
         ],
         "type": "scatter"
        },
        {
         "hoverinfo": "skip",
         "line": {
          "color": "rgb(248, 222, 90)",
          "width": 2
         },
         "mode": "lines",
         "showlegend": false,
         "x": [
          "1968-12-23T00:00:00",
          "1974-02-12T00:00:00"
         ],
         "y": [
          "Herbie",
          "Herbie"
         ],
         "type": "scatter"
        },
        {
         "hoverinfo": "skip",
         "line": {
          "color": "rgb(250, 233, 115)",
          "width": 2
         },
         "mode": "lines",
         "showlegend": false,
         "x": [
          "1974-02-12T00:00:00",
          "1977-06-24T00:00:00"
         ],
         "y": [
          "Herbie",
          "Herbie"
         ],
         "type": "scatter"
        },
        {
         "hoverinfo": "skip",
         "line": {
          "color": "rgb(250, 236, 120)",
          "width": 2
         },
         "mode": "lines",
         "showlegend": false,
         "x": [
          "1977-06-24T00:00:00",
          "1980-06-25T00:00:00"
         ],
         "y": [
          "Herbie",
          "Herbie"
         ],
         "type": "scatter"
        },
        {
         "hoverinfo": "skip",
         "line": {
          "color": "rgb(247, 205, 57)",
          "width": 2
         },
         "mode": "lines",
         "showlegend": false,
         "x": [
          "1998-11-13T00:00:00",
          "2006-06-24T00:00:00"
         ],
         "y": [
          "I Know What You Did Last Summer",
          "I Know What You Did Last Summer"
         ],
         "type": "scatter"
        },
        {
         "hoverinfo": "skip",
         "line": {
          "color": "rgb(249, 231, 111)",
          "width": 2
         },
         "mode": "lines",
         "showlegend": false,
         "x": [
          "1999-07-23T00:00:00",
          "2003-03-11T00:00:00"
         ],
         "y": [
          "Inspector Gadget",
          "Inspector Gadget"
         ],
         "type": "scatter"
        },
        {
         "hoverinfo": "skip",
         "line": {
          "color": "rgb(250, 235, 118)",
          "width": 2
         },
         "mode": "lines",
         "showlegend": false,
         "x": [
          "1995-06-14T00:00:00",
          "1998-08-04T00:00:00"
         ],
         "y": [
          "Pocahontas",
          "Pocahontas"
         ],
         "type": "scatter"
        },
        {
         "hoverinfo": "skip",
         "line": {
          "color": "rgb(250, 238, 127)",
          "width": 2
         },
         "mode": "lines",
         "showlegend": false,
         "x": [
          "1982-10-22T00:00:00",
          "1985-05-21T00:00:00"
         ],
         "y": [
          "Rambo",
          "Rambo"
         ],
         "type": "scatter"
        },
        {
         "hoverinfo": "skip",
         "line": {
          "color": "rgb(250, 239, 128)",
          "width": 2
         },
         "mode": "lines",
         "showlegend": false,
         "x": [
          "1980-12-12T00:00:00",
          "1983-06-17T00:00:00"
         ],
         "y": [
          "Superman",
          "Superman"
         ],
         "type": "scatter"
        },
        {
         "hoverinfo": "skip",
         "line": {
          "color": "rgb(250, 235, 120)",
          "width": 2
         },
         "mode": "lines",
         "showlegend": false,
         "x": [
          "1999-06-18T00:00:00",
          "2002-06-24T00:00:00"
         ],
         "y": [
          "Tarzan (Animation)",
          "Tarzan (Animation)"
         ],
         "type": "scatter"
        },
        {
         "hoverinfo": "skip",
         "line": {
          "color": "rgb(250, 236, 121)",
          "width": 2
         },
         "mode": "lines",
         "showlegend": false,
         "x": [
          "2002-06-24T00:00:00",
          "2005-06-13T00:00:00"
         ],
         "y": [
          "Tarzan (Animation)",
          "Tarzan (Animation)"
         ],
         "type": "scatter"
        },
        {
         "hoverinfo": "skip",
         "line": {
          "color": "rgb(250, 233, 115)",
          "width": 2
         },
         "mode": "lines",
         "showlegend": false,
         "x": [
          "1996-08-29T00:00:00",
          "2000-01-23T00:00:00"
         ],
         "y": [
          "The Crow",
          "The Crow"
         ],
         "type": "scatter"
        },
        {
         "hoverinfo": "skip",
         "line": {
          "color": "rgb(248, 221, 87)",
          "width": 2
         },
         "mode": "lines",
         "showlegend": false,
         "x": [
          "2000-01-23T00:00:00",
          "2005-05-04T00:00:00"
         ],
         "y": [
          "The Crow",
          "The Crow"
         ],
         "type": "scatter"
        },
        {
         "hoverinfo": "skip",
         "line": {
          "color": "rgb(249, 223, 92)",
          "width": 2
         },
         "mode": "lines",
         "showlegend": false,
         "x": [
          "2000-12-15T00:00:00",
          "2005-12-05T00:00:00"
         ],
         "y": [
          "The Emperor's New Groove",
          "The Emperor's New Groove"
         ],
         "type": "scatter"
        },
        {
         "hoverinfo": "skip",
         "line": {
          "color": "rgb(248, 219, 82)",
          "width": 2
         },
         "mode": "lines",
         "showlegend": false,
         "x": [
          "1996-06-21T00:00:00",
          "2002-02-06T00:00:00"
         ],
         "y": [
          "The Hunchback of Notre Dame",
          "The Hunchback of Notre Dame"
         ],
         "type": "scatter"
        },
        {
         "hoverinfo": "skip",
         "line": {
          "color": "rgb(249, 227, 101)",
          "width": 2
         },
         "mode": "lines",
         "showlegend": false,
         "x": [
          "1994-06-24T00:00:00",
          "1998-10-24T00:00:00"
         ],
         "y": [
          "The Lion King",
          "The Lion King"
         ],
         "type": "scatter"
        },
        {
         "hoverinfo": "skip",
         "line": {
          "color": "rgb(248, 221, 87)",
          "width": 2
         },
         "mode": "lines",
         "showlegend": false,
         "x": [
          "1998-10-24T00:00:00",
          "2004-02-06T00:00:00"
         ],
         "y": [
          "The Lion King",
          "The Lion King"
         ],
         "type": "scatter"
        },
        {
         "hoverinfo": "skip",
         "line": {
          "color": "rgb(249, 186, 37)",
          "width": 2
         },
         "mode": "lines",
         "showlegend": false,
         "x": [
          "1989-11-17T00:00:00",
          "2000-01-23T00:00:00"
         ],
         "y": [
          "The Little Mermaid",
          "The Little Mermaid"
         ],
         "type": "scatter"
        },
        {
         "hoverinfo": "skip",
         "line": {
          "color": "rgb(248, 198, 50)",
          "width": 2
         },
         "mode": "lines",
         "showlegend": false,
         "x": [
          "2000-01-23T00:00:00",
          "2008-08-25T00:00:00"
         ],
         "y": [
          "The Little Mermaid",
          "The Little Mermaid"
         ],
         "type": "scatter"
        },
        {
         "hoverinfo": "skip",
         "line": {
          "color": "rgb(251, 249, 150)",
          "width": 2
         },
         "mode": "lines",
         "showlegend": false,
         "x": [
          "2002-12-18T00:00:00",
          "2003-12-17T00:00:00"
         ],
         "y": [
          "The Lord of the Rings",
          "The Lord of the Rings"
         ],
         "type": "scatter"
        }
       ],
       "layout": {
        "template": {
         "data": {
          "histogram2dcontour": [
           {
            "type": "histogram2dcontour",
            "colorbar": {
             "outlinewidth": 0,
             "ticks": ""
            },
            "colorscale": [
             [
              0.0,
              "#0d0887"
             ],
             [
              0.1111111111111111,
              "#46039f"
             ],
             [
              0.2222222222222222,
              "#7201a8"
             ],
             [
              0.3333333333333333,
              "#9c179e"
             ],
             [
              0.4444444444444444,
              "#bd3786"
             ],
             [
              0.5555555555555556,
              "#d8576b"
             ],
             [
              0.6666666666666666,
              "#ed7953"
             ],
             [
              0.7777777777777778,
              "#fb9f3a"
             ],
             [
              0.8888888888888888,
              "#fdca26"
             ],
             [
              1.0,
              "#f0f921"
             ]
            ]
           }
          ],
          "choropleth": [
           {
            "type": "choropleth",
            "colorbar": {
             "outlinewidth": 0,
             "ticks": ""
            }
           }
          ],
          "histogram2d": [
           {
            "type": "histogram2d",
            "colorbar": {
             "outlinewidth": 0,
             "ticks": ""
            },
            "colorscale": [
             [
              0.0,
              "#0d0887"
             ],
             [
              0.1111111111111111,
              "#46039f"
             ],
             [
              0.2222222222222222,
              "#7201a8"
             ],
             [
              0.3333333333333333,
              "#9c179e"
             ],
             [
              0.4444444444444444,
              "#bd3786"
             ],
             [
              0.5555555555555556,
              "#d8576b"
             ],
             [
              0.6666666666666666,
              "#ed7953"
             ],
             [
              0.7777777777777778,
              "#fb9f3a"
             ],
             [
              0.8888888888888888,
              "#fdca26"
             ],
             [
              1.0,
              "#f0f921"
             ]
            ]
           }
          ],
          "heatmap": [
           {
            "type": "heatmap",
            "colorbar": {
             "outlinewidth": 0,
             "ticks": ""
            },
            "colorscale": [
             [
              0.0,
              "#0d0887"
             ],
             [
              0.1111111111111111,
              "#46039f"
             ],
             [
              0.2222222222222222,
              "#7201a8"
             ],
             [
              0.3333333333333333,
              "#9c179e"
             ],
             [
              0.4444444444444444,
              "#bd3786"
             ],
             [
              0.5555555555555556,
              "#d8576b"
             ],
             [
              0.6666666666666666,
              "#ed7953"
             ],
             [
              0.7777777777777778,
              "#fb9f3a"
             ],
             [
              0.8888888888888888,
              "#fdca26"
             ],
             [
              1.0,
              "#f0f921"
             ]
            ]
           }
          ],
          "heatmapgl": [
           {
            "type": "heatmapgl",
            "colorbar": {
             "outlinewidth": 0,
             "ticks": ""
            },
            "colorscale": [
             [
              0.0,
              "#0d0887"
             ],
             [
              0.1111111111111111,
              "#46039f"
             ],
             [
              0.2222222222222222,
              "#7201a8"
             ],
             [
              0.3333333333333333,
              "#9c179e"
             ],
             [
              0.4444444444444444,
              "#bd3786"
             ],
             [
              0.5555555555555556,
              "#d8576b"
             ],
             [
              0.6666666666666666,
              "#ed7953"
             ],
             [
              0.7777777777777778,
              "#fb9f3a"
             ],
             [
              0.8888888888888888,
              "#fdca26"
             ],
             [
              1.0,
              "#f0f921"
             ]
            ]
           }
          ],
          "contourcarpet": [
           {
            "type": "contourcarpet",
            "colorbar": {
             "outlinewidth": 0,
             "ticks": ""
            }
           }
          ],
          "contour": [
           {
            "type": "contour",
            "colorbar": {
             "outlinewidth": 0,
             "ticks": ""
            },
            "colorscale": [
             [
              0.0,
              "#0d0887"
             ],
             [
              0.1111111111111111,
              "#46039f"
             ],
             [
              0.2222222222222222,
              "#7201a8"
             ],
             [
              0.3333333333333333,
              "#9c179e"
             ],
             [
              0.4444444444444444,
              "#bd3786"
             ],
             [
              0.5555555555555556,
              "#d8576b"
             ],
             [
              0.6666666666666666,
              "#ed7953"
             ],
             [
              0.7777777777777778,
              "#fb9f3a"
             ],
             [
              0.8888888888888888,
              "#fdca26"
             ],
             [
              1.0,
              "#f0f921"
             ]
            ]
           }
          ],
          "surface": [
           {
            "type": "surface",
            "colorbar": {
             "outlinewidth": 0,
             "ticks": ""
            },
            "colorscale": [
             [
              0.0,
              "#0d0887"
             ],
             [
              0.1111111111111111,
              "#46039f"
             ],
             [
              0.2222222222222222,
              "#7201a8"
             ],
             [
              0.3333333333333333,
              "#9c179e"
             ],
             [
              0.4444444444444444,
              "#bd3786"
             ],
             [
              0.5555555555555556,
              "#d8576b"
             ],
             [
              0.6666666666666666,
              "#ed7953"
             ],
             [
              0.7777777777777778,
              "#fb9f3a"
             ],
             [
              0.8888888888888888,
              "#fdca26"
             ],
             [
              1.0,
              "#f0f921"
             ]
            ]
           }
          ],
          "mesh3d": [
           {
            "type": "mesh3d",
            "colorbar": {
             "outlinewidth": 0,
             "ticks": ""
            }
           }
          ],
          "scatter": [
           {
            "fillpattern": {
             "fillmode": "overlay",
             "size": 10,
             "solidity": 0.2
            },
            "type": "scatter"
           }
          ],
          "parcoords": [
           {
            "type": "parcoords",
            "line": {
             "colorbar": {
              "outlinewidth": 0,
              "ticks": ""
             }
            }
           }
          ],
          "scatterpolargl": [
           {
            "type": "scatterpolargl",
            "marker": {
             "colorbar": {
              "outlinewidth": 0,
              "ticks": ""
             }
            }
           }
          ],
          "bar": [
           {
            "error_x": {
             "color": "#2a3f5f"
            },
            "error_y": {
             "color": "#2a3f5f"
            },
            "marker": {
             "line": {
              "color": "#E5ECF6",
              "width": 0.5
             },
             "pattern": {
              "fillmode": "overlay",
              "size": 10,
              "solidity": 0.2
             }
            },
            "type": "bar"
           }
          ],
          "scattergeo": [
           {
            "type": "scattergeo",
            "marker": {
             "colorbar": {
              "outlinewidth": 0,
              "ticks": ""
             }
            }
           }
          ],
          "scatterpolar": [
           {
            "type": "scatterpolar",
            "marker": {
             "colorbar": {
              "outlinewidth": 0,
              "ticks": ""
             }
            }
           }
          ],
          "histogram": [
           {
            "marker": {
             "pattern": {
              "fillmode": "overlay",
              "size": 10,
              "solidity": 0.2
             }
            },
            "type": "histogram"
           }
          ],
          "scattergl": [
           {
            "type": "scattergl",
            "marker": {
             "colorbar": {
              "outlinewidth": 0,
              "ticks": ""
             }
            }
           }
          ],
          "scatter3d": [
           {
            "type": "scatter3d",
            "line": {
             "colorbar": {
              "outlinewidth": 0,
              "ticks": ""
             }
            },
            "marker": {
             "colorbar": {
              "outlinewidth": 0,
              "ticks": ""
             }
            }
           }
          ],
          "scattermapbox": [
           {
            "type": "scattermapbox",
            "marker": {
             "colorbar": {
              "outlinewidth": 0,
              "ticks": ""
             }
            }
           }
          ],
          "scatterternary": [
           {
            "type": "scatterternary",
            "marker": {
             "colorbar": {
              "outlinewidth": 0,
              "ticks": ""
             }
            }
           }
          ],
          "scattercarpet": [
           {
            "type": "scattercarpet",
            "marker": {
             "colorbar": {
              "outlinewidth": 0,
              "ticks": ""
             }
            }
           }
          ],
          "carpet": [
           {
            "aaxis": {
             "endlinecolor": "#2a3f5f",
             "gridcolor": "white",
             "linecolor": "white",
             "minorgridcolor": "white",
             "startlinecolor": "#2a3f5f"
            },
            "baxis": {
             "endlinecolor": "#2a3f5f",
             "gridcolor": "white",
             "linecolor": "white",
             "minorgridcolor": "white",
             "startlinecolor": "#2a3f5f"
            },
            "type": "carpet"
           }
          ],
          "table": [
           {
            "cells": {
             "fill": {
              "color": "#EBF0F8"
             },
             "line": {
              "color": "white"
             }
            },
            "header": {
             "fill": {
              "color": "#C8D4E3"
             },
             "line": {
              "color": "white"
             }
            },
            "type": "table"
           }
          ],
          "barpolar": [
           {
            "marker": {
             "line": {
              "color": "#E5ECF6",
              "width": 0.5
             },
             "pattern": {
              "fillmode": "overlay",
              "size": 10,
              "solidity": 0.2
             }
            },
            "type": "barpolar"
           }
          ],
          "pie": [
           {
            "automargin": true,
            "type": "pie"
           }
          ]
         },
         "layout": {
          "autotypenumbers": "strict",
          "colorway": [
           "#636efa",
           "#EF553B",
           "#00cc96",
           "#ab63fa",
           "#FFA15A",
           "#19d3f3",
           "#FF6692",
           "#B6E880",
           "#FF97FF",
           "#FECB52"
          ],
          "font": {
           "color": "#2a3f5f"
          },
          "hovermode": "closest",
          "hoverlabel": {
           "align": "left"
          },
          "paper_bgcolor": "white",
          "plot_bgcolor": "#E5ECF6",
          "polar": {
           "bgcolor": "#E5ECF6",
           "angularaxis": {
            "gridcolor": "white",
            "linecolor": "white",
            "ticks": ""
           },
           "radialaxis": {
            "gridcolor": "white",
            "linecolor": "white",
            "ticks": ""
           }
          },
          "ternary": {
           "bgcolor": "#E5ECF6",
           "aaxis": {
            "gridcolor": "white",
            "linecolor": "white",
            "ticks": ""
           },
           "baxis": {
            "gridcolor": "white",
            "linecolor": "white",
            "ticks": ""
           },
           "caxis": {
            "gridcolor": "white",
            "linecolor": "white",
            "ticks": ""
           }
          },
          "coloraxis": {
           "colorbar": {
            "outlinewidth": 0,
            "ticks": ""
           }
          },
          "colorscale": {
           "sequential": [
            [
             0.0,
             "#0d0887"
            ],
            [
             0.1111111111111111,
             "#46039f"
            ],
            [
             0.2222222222222222,
             "#7201a8"
            ],
            [
             0.3333333333333333,
             "#9c179e"
            ],
            [
             0.4444444444444444,
             "#bd3786"
            ],
            [
             0.5555555555555556,
             "#d8576b"
            ],
            [
             0.6666666666666666,
             "#ed7953"
            ],
            [
             0.7777777777777778,
             "#fb9f3a"
            ],
            [
             0.8888888888888888,
             "#fdca26"
            ],
            [
             1.0,
             "#f0f921"
            ]
           ],
           "sequentialminus": [
            [
             0.0,
             "#0d0887"
            ],
            [
             0.1111111111111111,
             "#46039f"
            ],
            [
             0.2222222222222222,
             "#7201a8"
            ],
            [
             0.3333333333333333,
             "#9c179e"
            ],
            [
             0.4444444444444444,
             "#bd3786"
            ],
            [
             0.5555555555555556,
             "#d8576b"
            ],
            [
             0.6666666666666666,
             "#ed7953"
            ],
            [
             0.7777777777777778,
             "#fb9f3a"
            ],
            [
             0.8888888888888888,
             "#fdca26"
            ],
            [
             1.0,
             "#f0f921"
            ]
           ],
           "diverging": [
            [
             0,
             "#8e0152"
            ],
            [
             0.1,
             "#c51b7d"
            ],
            [
             0.2,
             "#de77ae"
            ],
            [
             0.3,
             "#f1b6da"
            ],
            [
             0.4,
             "#fde0ef"
            ],
            [
             0.5,
             "#f7f7f7"
            ],
            [
             0.6,
             "#e6f5d0"
            ],
            [
             0.7,
             "#b8e186"
            ],
            [
             0.8,
             "#7fbc41"
            ],
            [
             0.9,
             "#4d9221"
            ],
            [
             1,
             "#276419"
            ]
           ]
          },
          "xaxis": {
           "gridcolor": "white",
           "linecolor": "white",
           "ticks": "",
           "title": {
            "standoff": 15
           },
           "zerolinecolor": "white",
           "automargin": true,
           "zerolinewidth": 2
          },
          "yaxis": {
           "gridcolor": "white",
           "linecolor": "white",
           "ticks": "",
           "title": {
            "standoff": 15
           },
           "zerolinecolor": "white",
           "automargin": true,
           "zerolinewidth": 2
          },
          "scene": {
           "xaxis": {
            "backgroundcolor": "#E5ECF6",
            "gridcolor": "white",
            "linecolor": "white",
            "showbackground": true,
            "ticks": "",
            "zerolinecolor": "white",
            "gridwidth": 2
           },
           "yaxis": {
            "backgroundcolor": "#E5ECF6",
            "gridcolor": "white",
            "linecolor": "white",
            "showbackground": true,
            "ticks": "",
            "zerolinecolor": "white",
            "gridwidth": 2
           },
           "zaxis": {
            "backgroundcolor": "#E5ECF6",
            "gridcolor": "white",
            "linecolor": "white",
            "showbackground": true,
            "ticks": "",
            "zerolinecolor": "white",
            "gridwidth": 2
           }
          },
          "shapedefaults": {
           "line": {
            "color": "#2a3f5f"
           }
          },
          "annotationdefaults": {
           "arrowcolor": "#2a3f5f",
           "arrowhead": 0,
           "arrowwidth": 1
          },
          "geo": {
           "bgcolor": "white",
           "landcolor": "#E5ECF6",
           "subunitcolor": "white",
           "showland": true,
           "showlakes": true,
           "lakecolor": "white"
          },
          "title": {
           "x": 0.05
          },
          "mapbox": {
           "style": "light"
          }
         }
        },
        "yaxis": {
         "title": {
          "text": "Collection"
         },
         "tickvals": [
          "American Graffiti",
          "Open Season",
          "Poltergeist",
          "Superman",
          "The Crow",
          "Pokémon",
          "The Exorcist",
          "Bambi",
          "Mortal Kombat",
          "Jaws",
          "Rugrats",
          "Home Alone",
          "I Know What You Did Last Summer",
          "The Santa Clause",
          "Rambo",
          "Beverly Hills Cop",
          "Legally Blonde",
          "Inspector Gadget",
          "The Jungle Book",
          "Die Hard",
          "Bad Boys",
          "Herbie",
          "The Emperor's New Groove",
          "Scream",
          "Dr. Dolittle",
          "The Jack Ryan",
          "The Hannibal Lecter",
          "The Little Mermaid",
          "The Bourne",
          "101 Dalmatians (Animated)",
          "Back to the Future",
          "Red Cliff",
          "Fantastic Four",
          "Ocean's",
          "The Hunchback of Notre Dame",
          "Pocahontas",
          "Toy Story",
          "Jurassic Park",
          "Ice Age",
          "The Mummy",
          "Tarzan (Animation)",
          "Shrek",
          "Madagascar",
          "Spider-Man",
          "Harry Potter",
          "The Lord of the Rings",
          "The Lion King"
         ],
         "ticktext": [
          "American Graffiti",
          "Open Season",
          "Poltergeist",
          "Superman",
          "The Crow",
          "Pokémon",
          "The Exorcist",
          "Bambi",
          "Mortal Kombat",
          "Jaws",
          "Rugrats",
          "Home Alone",
          "I Know What You Did Last Summer",
          "The Santa Clause",
          "Rambo",
          "Beverly Hills Cop",
          "Legally Blonde",
          "Inspector Gadget",
          "The Jungle Book",
          "Die Hard",
          "Bad Boys",
          "Herbie",
          "The Emperor's New Groove",
          "Scream",
          "Dr. Dolittle",
          "The Jack Ryan",
          "The Hannibal Lecter",
          "The Little Mermaid",
          "The Bourne",
          "101 Dalmatians (Animated)",
          "Back to the Future",
          "Red Cliff",
          "Fantastic Four",
          "Ocean's",
          "The Hunchback of Notre Dame",
          "Pocahontas",
          "Toy Story",
          "Jurassic Park",
          "Ice Age",
          "The Mummy",
          "Tarzan (Animation)",
          "Shrek",
          "Madagascar",
          "Spider-Man",
          "Harry Potter",
          "The Lord of the Rings",
          "The Lion King"
         ]
        },
        "xaxis": {
         "title": {
          "text": "Release date"
         }
        },
        "title": {
         "text": "Time between sequels"
        },
        "width": 800,
        "height": 1200
       },
       "config": {
        "plotlyServerURL": "https://plot.ly"
       }
      },
      "text/html": [
       "<div>                            <div id=\"d15812e8-5955-44b5-8d14-49a210de87e6\" class=\"plotly-graph-div\" style=\"height:1200px; width:800px;\"></div>            <script type=\"text/javascript\">                require([\"plotly\"], function(Plotly) {                    window.PLOTLYENV=window.PLOTLYENV || {};                                    if (document.getElementById(\"d15812e8-5955-44b5-8d14-49a210de87e6\")) {                    Plotly.newPlot(                        \"d15812e8-5955-44b5-8d14-49a210de87e6\",                        [{\"hoverinfo\":\"text\",\"marker\":{\"size\":[10.025614449047364,10.027565416249805,10.044633930087114,10.049587739234653,10.056659436410925,10.065990154067903,10.08861828723322,10.097237324815945,10.110548916815036,10.123405517142103,10.129642837870907,10.162467899789876,10.164062168396805,10.175207467383018,10.216335446636135,10.246659510587843,10.25008087049443,10.265638002184563,10.278239498410507,10.326635236054825,10.342113241233344,10.350279557659405,10.35810988840863,10.376971922805957,10.384868224991727,10.386417427979723,10.395015414280063,10.395015414280063,10.395957969084009,10.397138225975112,10.423584784116862,10.425019958534708,10.429132459522148,10.442718872423573,10.445147362526365,10.445548083189184,10.447168272986094,10.448330900179243,10.45579114641162,10.45579114641162,10.457559849416562,10.535461161848083,10.545060616185179,10.546615710496454,10.547221596571585,10.556890832889808,10.563048555927626,10.597719844088376,10.600305783995868,10.62394592823166,10.634076651540218,10.650934655715968,10.661536779755327,10.668326762263964,10.676835645066674,10.682672545549037,10.682696904573854,10.759044966301976,10.77326411301587,10.785509770785826,10.785509770785826,10.845742147720701,10.862488849209647,10.864375571579144,10.91231779117283,10.914049283656544,10.931153543880525,10.948572732174403,10.949372731501429,10.984456956203598,11.00041967213959,11.02881178050215,11.04538486029844,11.049718075617449,11.094400334794043,11.11214860235035,11.135241394270498,11.144614024755583,11.147098132997863,11.166187313799522,11.211965479272914,11.21391890040282,11.268480133963447,11.315296917911544,11.36930820292657,11.394789004633182,11.40033287898072,11.41730697669393,11.425292774499761,11.488335467591227,11.507409298697125,11.531836448461034,11.533752665394267,11.684484185906802,11.90466569582612,12.072519330782304,12.478486790936213,12.51935040061466,12.52652754710179,12.598470593996629,12.779577660341179,12.803949912964908,12.81718344097768,12.836281865116938,12.892507288405838,12.908785555380428,12.928418091378767,12.928418091378767,12.954884382133116,12.972180276383304,13.009172119785749,13.08244713384244,10.0,10.0,10.0,10.0,10.0,10.0,10.0,10.0,10.0,10.0,10.0,10.0,10.0,10.0,10.0,10.0,10.0,10.0,10.0,10.0,10.0,10.0,10.0]},\"mode\":\"markers\",\"showlegend\":false,\"text\":[\"More American Graffiti\",\"Open Season 2\",\"Poltergeist III\",\"Superman IV: The Quest For Peace\",\"The Crow: City of Angels\",\"Pok\\u00e9mon Heroes\",\"Pok\\u00e9mon 4Ever\",\"Exorcist II: The Heretic\",\"Bambi II\",\"The Exorcist III\",\"Poltergeist II: The Other Side\",\"Mortal Kombat: Annihilation\",\"Jaws: The Revenge\",\"Rugrats Go Wild\",\"Pok\\u00e9mon: Spell Of The Unown\",\"Exorcist: The Beginning\",\"Home Alone 3\",\"I Still Know What You Did Last Summer\",\"Jaws 3-D\",\"Rugrats in Paris: The Movie\",\"Superman II\",\"The Santa Clause 3: The Escape Clause\",\"Rambo\",\"Beverly Hills Cop III\",\"Poltergeist\",\"Mortal Kombat\",\"Legally Blonde 2: Red, White & Blonde\",\"Legally Blonde 2: Red, White & Blonde\",\"First Blood\",\"I Know What You Did Last Summer\",\"Pok\\u00e9mon The Movie 2000\",\"Inspector Gadget\",\"The Jungle Book 2\",\"American Graffiti\",\"Die Hard\",\"The Rugrats Movie\",\"Bad Boys\",\"Legally Blonde\",\"Herbie: Fully Loaded\",\"The Love Bug\",\"The Crow\",\"The Emperor's New Groove\",\"Scream 2\",\"The Santa Clause 2\",\"Scream\",\"Dr. Dolittle 2\",\"Patriot Games\",\"Rambo III\",\"The Santa Clause\",\"Open Season\",\"The Hunt for Red October\",\"The Jungle Book\",\"Red Dragon\",\"The Little Mermaid\",\"The Bourne Identity\",\"One Hundred and One Dalmatians\",\"Clear and Present Danger\",\"Die Hard 2\",\"Back to the Future Part III\",\"Red Cliff\",\"Red Cliff\",\"Bambi\",\"The Silence of the Lambs\",\"Bad Boys II\",\"The Bourne Supremacy\",\"Fantastic Four: Rise of the Silver Surfer\",\"Dr. Dolittle\",\"Beverly Hills Cop II\",\"Superman\",\"Ocean's Thirteen\",\"Beverly Hills Cop\",\"The Hunchback of Notre Dame\",\"Fantastic Four\",\"Back to the Future Part II\",\"Pocahontas\",\"Hannibal\",\"Home Alone 2: Lost in New York\",\"Toy Story\",\"Ocean's Twelve\",\"Jurassic Park III\",\"Ice Age\",\"Back to the Future\",\"The Mummy - Tomb of the Dragon Emperor\",\"The Mummy\",\"The Mummy Returns\",\"The Exorcist\",\"The Bourne Ultimatum\",\"Tarzan\",\"Ocean's Eleven\",\"Jaws\",\"Home Alone\",\"Shrek\",\"Toy Story 2\",\"Madagascar\",\"Madagascar: Escape 2 Africa\",\"Ice Age: The Meltdown\",\"Spider-Man 2\",\"Harry Potter and the Prisoner of Azkaban\",\"Shrek the Third\",\"Spider-Man\",\"Harry Potter and the Chamber of Secrets\",\"Ice Age: Dawn of the Dinosaurs\",\"Spider-Man 3\",\"Harry Potter and the Goblet of Fire\",\"Jurassic Park\",\"Shrek 2\",\"The Lord of the Rings film trilogy\",\"The Lord of the Rings: The Two Towers\",\"Harry Potter and the Half-Blood Prince\",\"Harry Potter and the Order of the Phoenix\",\"The Lion King\",\"Harry Potter and the Philosopher's Stone\",\"101 Dalmatians II: Patch's London Adventure\",\"Dr. Dolittle 3\",\"Dr. Dolittle: Tail To The Chief\",\"Dr Dolittle Million Dollar Mutts\",\"Herbie Rides Again\",\"Herbie Goes to Monte Carlo\",\"Herbie Goes Bananas\",\"I'll Always Know What You Did Last Summer\",\"Inspector Gadget 2\",\"Pocahontas II: Journey to a New World\",\"Rambo: First Blood Part II\",\"Superman III\",\"Tarzan & Jane\",\"Tarzan II\",\"The Crow: Salvation\",\"The Crow: Wicked Prayer\",\"Kronk's New Groove\",\"The Hunchback of Notre Dame II\",\"The Lion King II: Simba's Pride\",\"The Lion King 1\\u00bd\",\"The Little Mermaid II: Return to the Sea\",\"The Little Mermaid: Ariel's Beginning\",\"The Lord of the Rings film trilogy\"],\"x\":[\"1979-08-03T00:00:00\",\"2008-09-24T00:00:00\",\"1988-06-10T00:00:00\",\"1987-07-24T00:00:00\",\"1996-08-29T00:00:00\",\"2002-07-13T00:00:00\",\"2001-07-06T00:00:00\",\"1977-06-17T00:00:00\",\"2006-01-26T00:00:00\",\"1990-08-17T00:00:00\",\"1986-05-23T00:00:00\",\"1997-11-11T00:00:00\",\"1987-07-17T00:00:00\",\"2003-06-13T00:00:00\",\"2000-07-08T00:00:00\",\"2004-08-20T00:00:00\",\"1997-12-12T00:00:00\",\"1998-11-13T00:00:00\",\"1983-07-22T00:00:00\",\"2000-11-17T00:00:00\",\"1980-12-12T00:00:00\",\"2006-11-02T00:00:00\",\"2008-01-24T00:00:00\",\"1994-05-24T00:00:00\",\"1982-06-04T00:00:00\",\"1995-08-18T00:00:00\",null,\"2003-07-02T00:00:00\",\"1982-10-22T00:00:00\",\"1997-10-17T00:00:00\",\"1999-07-17T00:00:00\",\"1999-07-23T00:00:00\",\"2003-02-07T00:00:00\",\"1973-08-11T00:00:00\",\"1988-07-15T00:00:00\",\"1998-11-20T00:00:00\",\"1995-04-07T00:00:00\",\"2001-07-13T00:00:00\",\"2005-06-22T00:00:00\",\"1968-12-23T00:00:00\",\"1994-05-11T00:00:00\",\"2000-12-15T00:00:00\",\"1997-12-12T00:00:00\",\"2002-09-29T00:00:00\",\"1996-12-20T00:00:00\",\"2001-06-22T00:00:00\",\"1992-06-04T00:00:00\",\"1988-05-24T00:00:00\",\"1994-11-11T00:00:00\",\"2006-09-27T00:00:00\",\"1990-03-02T00:00:00\",\"1967-10-18T00:00:00\",\"2002-10-02T00:00:00\",\"1989-11-17T00:00:00\",\"2002-06-14T00:00:00\",\"1961-01-25T00:00:00\",\"1994-08-03T00:00:00\",\"1990-07-03T00:00:00\",\"1990-05-25T00:00:00\",\"2008-07-10T00:00:00\",\"2009-01-07T00:00:00\",\"1942-02-11T00:00:00\",\"1991-02-14T00:00:00\",\"2003-07-18T00:00:00\",\"2004-07-23T00:00:00\",\"2007-06-13T00:00:00\",\"1998-06-26T00:00:00\",\"1987-05-18T00:00:00\",\"1978-12-14T00:00:00\",\"2007-06-05T00:00:00\",\"1984-12-05T00:00:00\",\"1996-06-21T00:00:00\",\"2005-06-29T00:00:00\",\"1989-11-22T00:00:00\",\"1995-06-14T00:00:00\",\"2001-02-08T00:00:00\",\"1992-11-15T00:00:00\",\"1995-10-30T00:00:00\",\"2004-12-09T00:00:00\",\"2001-07-18T00:00:00\",\"2002-03-10T00:00:00\",\"1985-07-03T00:00:00\",\"2008-07-01T00:00:00\",\"1999-04-16T00:00:00\",\"2001-05-04T00:00:00\",\"1973-12-26T00:00:00\",\"2007-08-03T00:00:00\",\"1999-06-18T00:00:00\",\"2001-12-07T00:00:00\",\"1975-06-20T00:00:00\",\"1990-11-16T00:00:00\",\"2001-05-18T00:00:00\",\"1999-10-30T00:00:00\",\"2005-05-25T00:00:00\",\"2008-10-30T00:00:00\",\"2006-03-29T00:00:00\",\"2004-06-25T00:00:00\",\"2004-05-31T00:00:00\",\"2007-05-17T00:00:00\",\"2002-05-01T00:00:00\",\"2002-11-13T00:00:00\",\"2009-06-26T00:00:00\",\"2007-05-01T00:00:00\",\"2005-11-16T00:00:00\",\"1993-06-11T00:00:00\",\"2004-05-19T00:00:00\",\"2001-12-18T00:00:00\",\"2002-12-18T00:00:00\",\"2009-07-15T00:00:00\",\"2007-07-08T00:00:00\",\"1994-06-24T00:00:00\",\"2001-11-16T00:00:00\",\"2003-03-02T00:00:00\",\"2006-04-25T00:00:00\",\"2008-03-04T00:00:00\",\"2009-04-08T00:00:00\",\"1974-02-12T00:00:00\",\"1977-06-24T00:00:00\",\"1980-06-25T00:00:00\",\"2006-06-24T00:00:00\",\"2003-03-11T00:00:00\",\"1998-08-04T00:00:00\",\"1985-05-21T00:00:00\",\"1983-06-17T00:00:00\",\"2002-06-24T00:00:00\",\"2005-06-13T00:00:00\",\"2000-01-23T00:00:00\",\"2005-05-04T00:00:00\",\"2005-12-05T00:00:00\",\"2002-02-06T00:00:00\",\"1998-10-24T00:00:00\",\"2004-02-06T00:00:00\",\"2000-01-23T00:00:00\",\"2008-08-25T00:00:00\",\"2003-12-17T00:00:00\"],\"y\":[\"American Graffiti\",\"Open Season\",\"Poltergeist\",\"Superman\",\"The Crow\",\"Pok\\u00e9mon\",\"Pok\\u00e9mon\",\"The Exorcist\",\"Bambi\",\"The Exorcist\",\"Poltergeist\",\"Mortal Kombat\",\"Jaws\",\"Rugrats\",\"Pok\\u00e9mon\",\"The Exorcist\",\"Home Alone\",\"I Know What You Did Last Summer\",\"Jaws\",\"Rugrats\",\"Superman\",\"The Santa Clause\",\"Rambo\",\"Beverly Hills Cop\",\"Poltergeist\",\"Mortal Kombat\",\"Legally Blonde\",\"Legally Blonde\",\"Rambo\",\"I Know What You Did Last Summer\",\"Pok\\u00e9mon\",\"Inspector Gadget\",\"The Jungle Book\",\"American Graffiti\",\"Die Hard\",\"Rugrats\",\"Bad Boys\",\"Legally Blonde\",\"Herbie\",\"Herbie\",\"The Crow\",\"The Emperor's New Groove\",\"Scream\",\"The Santa Clause\",\"Scream\",\"Dr. Dolittle\",\"The Jack Ryan\",\"Rambo\",\"The Santa Clause\",\"Open Season\",\"The Jack Ryan\",\"The Jungle Book\",\"The Hannibal Lecter\",\"The Little Mermaid\",\"The Bourne\",\"101 Dalmatians (Animated)\",\"The Jack Ryan\",\"Die Hard\",\"Back to the Future\",\"Red Cliff\",\"Red Cliff\",\"Bambi\",\"The Hannibal Lecter\",\"Bad Boys\",\"The Bourne\",\"Fantastic Four\",\"Dr. Dolittle\",\"Beverly Hills Cop\",\"Superman\",\"Ocean's\",\"Beverly Hills Cop\",\"The Hunchback of Notre Dame\",\"Fantastic Four\",\"Back to the Future\",\"Pocahontas\",\"The Hannibal Lecter\",\"Home Alone\",\"Toy Story\",\"Ocean's\",\"Jurassic Park\",\"Ice Age\",\"Back to the Future\",\"The Mummy\",\"The Mummy\",\"The Mummy\",\"The Exorcist\",\"The Bourne\",\"Tarzan (Animation)\",\"Ocean's\",\"Jaws\",\"Home Alone\",\"Shrek\",\"Toy Story\",\"Madagascar\",\"Madagascar\",\"Ice Age\",\"Spider-Man\",\"Harry Potter\",\"Shrek\",\"Spider-Man\",\"Harry Potter\",\"Ice Age\",\"Spider-Man\",\"Harry Potter\",\"Jurassic Park\",\"Shrek\",\"The Lord of the Rings\",\"The Lord of the Rings\",\"Harry Potter\",\"Harry Potter\",\"The Lion King\",\"Harry Potter\",\"101 Dalmatians (Animated)\",\"Dr. Dolittle\",\"Dr. Dolittle\",\"Dr. Dolittle\",\"Herbie\",\"Herbie\",\"Herbie\",\"I Know What You Did Last Summer\",\"Inspector Gadget\",\"Pocahontas\",\"Rambo\",\"Superman\",\"Tarzan (Animation)\",\"Tarzan (Animation)\",\"The Crow\",\"The Crow\",\"The Emperor's New Groove\",\"The Hunchback of Notre Dame\",\"The Lion King\",\"The Lion King\",\"The Little Mermaid\",\"The Little Mermaid\",\"The Lord of the Rings\"],\"type\":\"scatter\"},{\"hoverinfo\":\"skip\",\"line\":{\"color\":\"rgb(248, 216, 77)\",\"width\":2},\"mode\":\"lines\",\"showlegend\":false,\"x\":[\"1973-08-11T00:00:00\",\"1979-08-03T00:00:00\"],\"y\":[\"American Graffiti\",\"American Graffiti\"],\"type\":\"scatter\"},{\"hoverinfo\":\"skip\",\"line\":{\"color\":\"rgb(251, 242, 135)\",\"width\":2},\"mode\":\"lines\",\"showlegend\":false,\"x\":[\"2006-09-27T00:00:00\",\"2008-09-24T00:00:00\"],\"y\":[\"Open Season\",\"Open Season\"],\"type\":\"scatter\"},{\"hoverinfo\":\"skip\",\"line\":{\"color\":\"rgb(251, 242, 134)\",\"width\":2},\"mode\":\"lines\",\"showlegend\":false,\"x\":[\"1986-05-23T00:00:00\",\"1988-06-10T00:00:00\"],\"y\":[\"Poltergeist\",\"Poltergeist\"],\"type\":\"scatter\"},{\"hoverinfo\":\"skip\",\"line\":{\"color\":\"rgb(249, 228, 105)\",\"width\":2},\"mode\":\"lines\",\"showlegend\":false,\"x\":[\"1983-06-17T00:00:00\",\"1987-07-24T00:00:00\"],\"y\":[\"Superman\",\"Superman\"],\"type\":\"scatter\"},{\"hoverinfo\":\"skip\",\"line\":{\"color\":\"rgb(250, 240, 131)\",\"width\":2},\"mode\":\"lines\",\"showlegend\":false,\"x\":[\"1994-05-11T00:00:00\",\"1996-08-29T00:00:00\"],\"y\":[\"The Crow\",\"The Crow\"],\"type\":\"scatter\"},{\"hoverinfo\":\"skip\",\"line\":{\"color\":\"rgb(251, 248, 149)\",\"width\":2},\"mode\":\"lines\",\"showlegend\":false,\"x\":[\"2001-07-06T00:00:00\",\"2002-07-13T00:00:00\"],\"y\":[\"Pok\\u00e9mon\",\"Pok\\u00e9mon\"],\"type\":\"scatter\"},{\"hoverinfo\":\"skip\",\"line\":{\"color\":\"rgb(251, 249, 150)\",\"width\":2},\"mode\":\"lines\",\"showlegend\":false,\"x\":[\"2000-07-08T00:00:00\",\"2001-07-06T00:00:00\"],\"y\":[\"Pok\\u00e9mon\",\"Pok\\u00e9mon\"],\"type\":\"scatter\"},{\"hoverinfo\":\"skip\",\"line\":{\"color\":\"rgb(250, 233, 114)\",\"width\":2},\"mode\":\"lines\",\"showlegend\":false,\"x\":[\"1973-12-26T00:00:00\",\"1977-06-17T00:00:00\"],\"y\":[\"The Exorcist\",\"The Exorcist\"],\"type\":\"scatter\"},{\"hoverinfo\":\"skip\",\"line\":{\"color\":\"rgb(0, 0, 4)\",\"width\":2},\"mode\":\"lines\",\"showlegend\":false,\"x\":[\"1942-02-11T00:00:00\",\"2006-01-26T00:00:00\"],\"y\":[\"Bambi\",\"Bambi\"],\"type\":\"scatter\"},{\"hoverinfo\":\"skip\",\"line\":{\"color\":\"rgb(250, 163, 14)\",\"width\":2},\"mode\":\"lines\",\"showlegend\":false,\"x\":[\"1977-06-17T00:00:00\",\"1990-08-17T00:00:00\"],\"y\":[\"The Exorcist\",\"The Exorcist\"],\"type\":\"scatter\"},{\"hoverinfo\":\"skip\",\"line\":{\"color\":\"rgb(249, 229, 106)\",\"width\":2},\"mode\":\"lines\",\"showlegend\":false,\"x\":[\"1982-06-04T00:00:00\",\"1986-05-23T00:00:00\"],\"y\":[\"Poltergeist\",\"Poltergeist\"],\"type\":\"scatter\"},{\"hoverinfo\":\"skip\",\"line\":{\"color\":\"rgb(250, 241, 132)\",\"width\":2},\"mode\":\"lines\",\"showlegend\":false,\"x\":[\"1995-08-18T00:00:00\",\"1997-11-11T00:00:00\"],\"y\":[\"Mortal Kombat\",\"Mortal Kombat\"],\"type\":\"scatter\"},{\"hoverinfo\":\"skip\",\"line\":{\"color\":\"rgb(249, 229, 106)\",\"width\":2},\"mode\":\"lines\",\"showlegend\":false,\"x\":[\"1983-07-22T00:00:00\",\"1987-07-17T00:00:00\"],\"y\":[\"Jaws\",\"Jaws\"],\"type\":\"scatter\"},{\"hoverinfo\":\"skip\",\"line\":{\"color\":\"rgb(250, 238, 127)\",\"width\":2},\"mode\":\"lines\",\"showlegend\":false,\"x\":[\"2000-11-17T00:00:00\",\"2003-06-13T00:00:00\"],\"y\":[\"Rugrats\",\"Rugrats\"],\"type\":\"scatter\"},{\"hoverinfo\":\"skip\",\"line\":{\"color\":\"rgb(251, 249, 150)\",\"width\":2},\"mode\":\"lines\",\"showlegend\":false,\"x\":[\"1999-07-17T00:00:00\",\"2000-07-08T00:00:00\"],\"y\":[\"Pok\\u00e9mon\",\"Pok\\u00e9mon\"],\"type\":\"scatter\"},{\"hoverinfo\":\"skip\",\"line\":{\"color\":\"rgb(251, 157, 8)\",\"width\":2},\"mode\":\"lines\",\"showlegend\":false,\"x\":[\"1990-08-17T00:00:00\",\"2004-08-20T00:00:00\"],\"y\":[\"The Exorcist\",\"The Exorcist\"],\"type\":\"scatter\"},{\"hoverinfo\":\"skip\",\"line\":{\"color\":\"rgb(248, 222, 90)\",\"width\":2},\"mode\":\"lines\",\"showlegend\":false,\"x\":[\"1992-11-15T00:00:00\",\"1997-12-12T00:00:00\"],\"y\":[\"Home Alone\",\"Home Alone\"],\"type\":\"scatter\"},{\"hoverinfo\":\"skip\",\"line\":{\"color\":\"rgb(251, 248, 148)\",\"width\":2},\"mode\":\"lines\",\"showlegend\":false,\"x\":[\"1997-10-17T00:00:00\",\"1998-11-13T00:00:00\"],\"y\":[\"I Know What You Did Last Summer\",\"I Know What You Did Last Summer\"],\"type\":\"scatter\"},{\"hoverinfo\":\"skip\",\"line\":{\"color\":\"rgb(248, 202, 53)\",\"width\":2},\"mode\":\"lines\",\"showlegend\":false,\"x\":[\"1975-06-20T00:00:00\",\"1983-07-22T00:00:00\"],\"y\":[\"Jaws\",\"Jaws\"],\"type\":\"scatter\"},{\"hoverinfo\":\"skip\",\"line\":{\"color\":\"rgb(251, 242, 135)\",\"width\":2},\"mode\":\"lines\",\"showlegend\":false,\"x\":[\"1998-11-20T00:00:00\",\"2000-11-17T00:00:00\"],\"y\":[\"Rugrats\",\"Rugrats\"],\"type\":\"scatter\"},{\"hoverinfo\":\"skip\",\"line\":{\"color\":\"rgb(251, 242, 135)\",\"width\":2},\"mode\":\"lines\",\"showlegend\":false,\"x\":[\"1978-12-14T00:00:00\",\"1980-12-12T00:00:00\"],\"y\":[\"Superman\",\"Superman\"],\"type\":\"scatter\"},{\"hoverinfo\":\"skip\",\"line\":{\"color\":\"rgb(249, 229, 105)\",\"width\":2},\"mode\":\"lines\",\"showlegend\":false,\"x\":[\"2002-09-29T00:00:00\",\"2006-11-02T00:00:00\"],\"y\":[\"The Santa Clause\",\"The Santa Clause\"],\"type\":\"scatter\"},{\"hoverinfo\":\"skip\",\"line\":{\"color\":\"rgb(240, 117, 30)\",\"width\":2},\"mode\":\"lines\",\"showlegend\":false,\"x\":[\"1988-05-24T00:00:00\",\"2008-01-24T00:00:00\"],\"y\":[\"Rambo\",\"Rambo\"],\"type\":\"scatter\"},{\"hoverinfo\":\"skip\",\"line\":{\"color\":\"rgb(247, 210, 62)\",\"width\":2},\"mode\":\"lines\",\"showlegend\":false,\"x\":[\"1987-05-18T00:00:00\",\"1994-05-24T00:00:00\"],\"y\":[\"Beverly Hills Cop\",\"Beverly Hills Cop\"],\"type\":\"scatter\"},{\"hoverinfo\":\"skip\",\"line\":{\"color\":\"black\",\"width\":2},\"mode\":\"lines\",\"showlegend\":false,\"x\":[\"2003-07-02T00:00:00\",null],\"y\":[\"Legally Blonde\",\"Legally Blonde\"],\"type\":\"scatter\"},{\"hoverinfo\":\"skip\",\"line\":{\"color\":\"rgb(251, 242, 135)\",\"width\":2},\"mode\":\"lines\",\"showlegend\":false,\"x\":[\"2001-07-13T00:00:00\",\"2003-07-02T00:00:00\"],\"y\":[\"Legally Blonde\",\"Legally Blonde\"],\"type\":\"scatter\"},{\"hoverinfo\":\"skip\",\"line\":{\"color\":\"rgb(166, 45, 95)\",\"width\":2},\"mode\":\"lines\",\"showlegend\":false,\"x\":[\"1967-10-18T00:00:00\",\"2003-02-07T00:00:00\"],\"y\":[\"The Jungle Book\",\"The Jungle Book\"],\"type\":\"scatter\"},{\"hoverinfo\":\"skip\",\"line\":{\"color\":\"rgb(221, 86, 54)\",\"width\":2},\"mode\":\"lines\",\"showlegend\":false,\"x\":[\"1980-06-25T00:00:00\",\"2005-06-22T00:00:00\"],\"y\":[\"Herbie\",\"Herbie\"],\"type\":\"scatter\"},{\"hoverinfo\":\"skip\",\"line\":{\"color\":\"rgb(251, 249, 150)\",\"width\":2},\"mode\":\"lines\",\"showlegend\":false,\"x\":[\"1996-12-20T00:00:00\",\"1997-12-12T00:00:00\"],\"y\":[\"Scream\",\"Scream\"],\"type\":\"scatter\"},{\"hoverinfo\":\"skip\",\"line\":{\"color\":\"rgb(247, 203, 55)\",\"width\":2},\"mode\":\"lines\",\"showlegend\":false,\"x\":[\"1994-11-11T00:00:00\",\"2002-09-29T00:00:00\"],\"y\":[\"The Santa Clause\",\"The Santa Clause\"],\"type\":\"scatter\"},{\"hoverinfo\":\"skip\",\"line\":{\"color\":\"rgb(250, 236, 121)\",\"width\":2},\"mode\":\"lines\",\"showlegend\":false,\"x\":[\"1998-06-26T00:00:00\",\"2001-06-22T00:00:00\"],\"y\":[\"Dr. Dolittle\",\"Dr. Dolittle\"],\"type\":\"scatter\"},{\"hoverinfo\":\"skip\",\"line\":{\"color\":\"rgb(250, 240, 131)\",\"width\":2},\"mode\":\"lines\",\"showlegend\":false,\"x\":[\"1990-03-02T00:00:00\",\"1992-06-04T00:00:00\"],\"y\":[\"The Jack Ryan\",\"The Jack Ryan\"],\"type\":\"scatter\"},{\"hoverinfo\":\"skip\",\"line\":{\"color\":\"rgb(250, 236, 120)\",\"width\":2},\"mode\":\"lines\",\"showlegend\":false,\"x\":[\"1985-05-21T00:00:00\",\"1988-05-24T00:00:00\"],\"y\":[\"Rambo\",\"Rambo\"],\"type\":\"scatter\"},{\"hoverinfo\":\"skip\",\"line\":{\"color\":\"rgb(251, 244, 140)\",\"width\":2},\"mode\":\"lines\",\"showlegend\":false,\"x\":[\"2001-02-08T00:00:00\",\"2002-10-02T00:00:00\"],\"y\":[\"The Hannibal Lecter\",\"The Hannibal Lecter\"],\"type\":\"scatter\"},{\"hoverinfo\":\"skip\",\"line\":{\"color\":\"rgb(250, 241, 133)\",\"width\":2},\"mode\":\"lines\",\"showlegend\":false,\"x\":[\"1992-06-04T00:00:00\",\"1994-08-03T00:00:00\"],\"y\":[\"The Jack Ryan\",\"The Jack Ryan\"],\"type\":\"scatter\"},{\"hoverinfo\":\"skip\",\"line\":{\"color\":\"rgb(251, 242, 136)\",\"width\":2},\"mode\":\"lines\",\"showlegend\":false,\"x\":[\"1988-07-15T00:00:00\",\"1990-07-03T00:00:00\"],\"y\":[\"Die Hard\",\"Die Hard\"],\"type\":\"scatter\"},{\"hoverinfo\":\"skip\",\"line\":{\"color\":\"rgb(252, 252, 157)\",\"width\":2},\"mode\":\"lines\",\"showlegend\":false,\"x\":[\"1989-11-22T00:00:00\",\"1990-05-25T00:00:00\"],\"y\":[\"Back to the Future\",\"Back to the Future\"],\"type\":\"scatter\"},{\"hoverinfo\":\"skip\",\"line\":{\"color\":\"rgb(252, 252, 157)\",\"width\":2},\"mode\":\"lines\",\"showlegend\":false,\"x\":[\"2008-07-10T00:00:00\",\"2009-01-07T00:00:00\"],\"y\":[\"Red Cliff\",\"Red Cliff\"],\"type\":\"scatter\"},{\"hoverinfo\":\"skip\",\"line\":{\"color\":\"rgb(248, 200, 52)\",\"width\":2},\"mode\":\"lines\",\"showlegend\":false,\"x\":[\"1995-04-07T00:00:00\",\"2003-07-18T00:00:00\"],\"y\":[\"Bad Boys\",\"Bad Boys\"],\"type\":\"scatter\"},{\"hoverinfo\":\"skip\",\"line\":{\"color\":\"rgb(251, 241, 133)\",\"width\":2},\"mode\":\"lines\",\"showlegend\":false,\"x\":[\"2002-06-14T00:00:00\",\"2004-07-23T00:00:00\"],\"y\":[\"The Bourne\",\"The Bourne\"],\"type\":\"scatter\"},{\"hoverinfo\":\"skip\",\"line\":{\"color\":\"rgb(251, 242, 136)\",\"width\":2},\"mode\":\"lines\",\"showlegend\":false,\"x\":[\"2005-06-29T00:00:00\",\"2007-06-13T00:00:00\"],\"y\":[\"Fantastic Four\",\"Fantastic Four\"],\"type\":\"scatter\"},{\"hoverinfo\":\"skip\",\"line\":{\"color\":\"rgb(250, 239, 129)\",\"width\":2},\"mode\":\"lines\",\"showlegend\":false,\"x\":[\"1984-12-05T00:00:00\",\"1987-05-18T00:00:00\"],\"y\":[\"Beverly Hills Cop\",\"Beverly Hills Cop\"],\"type\":\"scatter\"},{\"hoverinfo\":\"skip\",\"line\":{\"color\":\"rgb(250, 239, 128)\",\"width\":2},\"mode\":\"lines\",\"showlegend\":false,\"x\":[\"2004-12-09T00:00:00\",\"2007-06-05T00:00:00\"],\"y\":[\"Ocean's\",\"Ocean's\"],\"type\":\"scatter\"},{\"hoverinfo\":\"skip\",\"line\":{\"color\":\"rgb(249, 227, 100)\",\"width\":2},\"mode\":\"lines\",\"showlegend\":false,\"x\":[\"1985-07-03T00:00:00\",\"1989-11-22T00:00:00\"],\"y\":[\"Back to the Future\",\"Back to the Future\"],\"type\":\"scatter\"},{\"hoverinfo\":\"skip\",\"line\":{\"color\":\"rgb(249, 187, 39)\",\"width\":2},\"mode\":\"lines\",\"showlegend\":false,\"x\":[\"1991-02-14T00:00:00\",\"2001-02-08T00:00:00\"],\"y\":[\"The Hannibal Lecter\",\"The Hannibal Lecter\"],\"type\":\"scatter\"},{\"hoverinfo\":\"skip\",\"line\":{\"color\":\"rgb(251, 242, 135)\",\"width\":2},\"mode\":\"lines\",\"showlegend\":false,\"x\":[\"1990-11-16T00:00:00\",\"1992-11-15T00:00:00\"],\"y\":[\"Home Alone\",\"Home Alone\"],\"type\":\"scatter\"},{\"hoverinfo\":\"skip\",\"line\":{\"color\":\"rgb(250, 236, 120)\",\"width\":2},\"mode\":\"lines\",\"showlegend\":false,\"x\":[\"2001-12-07T00:00:00\",\"2004-12-09T00:00:00\"],\"y\":[\"Ocean's\",\"Ocean's\"],\"type\":\"scatter\"},{\"hoverinfo\":\"skip\",\"line\":{\"color\":\"rgb(248, 201, 53)\",\"width\":2},\"mode\":\"lines\",\"showlegend\":false,\"x\":[\"1993-06-11T00:00:00\",\"2001-07-18T00:00:00\"],\"y\":[\"Jurassic Park\",\"Jurassic Park\"],\"type\":\"scatter\"},{\"hoverinfo\":\"skip\",\"line\":{\"color\":\"rgb(247, 209, 61)\",\"width\":2},\"mode\":\"lines\",\"showlegend\":false,\"x\":[\"2001-05-04T00:00:00\",\"2008-07-01T00:00:00\"],\"y\":[\"The Mummy\",\"The Mummy\"],\"type\":\"scatter\"},{\"hoverinfo\":\"skip\",\"line\":{\"color\":\"rgb(251, 242, 134)\",\"width\":2},\"mode\":\"lines\",\"showlegend\":false,\"x\":[\"1999-04-16T00:00:00\",\"2001-05-04T00:00:00\"],\"y\":[\"The Mummy\",\"The Mummy\"],\"type\":\"scatter\"},{\"hoverinfo\":\"skip\",\"line\":{\"color\":\"rgb(250, 235, 120)\",\"width\":2},\"mode\":\"lines\",\"showlegend\":false,\"x\":[\"2004-07-23T00:00:00\",\"2007-08-03T00:00:00\"],\"y\":[\"The Bourne\",\"The Bourne\"],\"type\":\"scatter\"},{\"hoverinfo\":\"skip\",\"line\":{\"color\":\"rgb(249, 229, 106)\",\"width\":2},\"mode\":\"lines\",\"showlegend\":false,\"x\":[\"1995-10-30T00:00:00\",\"1999-10-30T00:00:00\"],\"y\":[\"Toy Story\",\"Toy Story\"],\"type\":\"scatter\"},{\"hoverinfo\":\"skip\",\"line\":{\"color\":\"rgb(250, 233, 114)\",\"width\":2},\"mode\":\"lines\",\"showlegend\":false,\"x\":[\"2005-05-25T00:00:00\",\"2008-10-30T00:00:00\"],\"y\":[\"Madagascar\",\"Madagascar\"],\"type\":\"scatter\"},{\"hoverinfo\":\"skip\",\"line\":{\"color\":\"rgb(249, 229, 105)\",\"width\":2},\"mode\":\"lines\",\"showlegend\":false,\"x\":[\"2002-03-10T00:00:00\",\"2006-03-29T00:00:00\"],\"y\":[\"Ice Age\",\"Ice Age\"],\"type\":\"scatter\"},{\"hoverinfo\":\"skip\",\"line\":{\"color\":\"rgb(250, 241, 133)\",\"width\":2},\"mode\":\"lines\",\"showlegend\":false,\"x\":[\"2002-05-01T00:00:00\",\"2004-06-25T00:00:00\"],\"y\":[\"Spider-Man\",\"Spider-Man\"],\"type\":\"scatter\"},{\"hoverinfo\":\"skip\",\"line\":{\"color\":\"rgb(251, 245, 142)\",\"width\":2},\"mode\":\"lines\",\"showlegend\":false,\"x\":[\"2002-11-13T00:00:00\",\"2004-05-31T00:00:00\"],\"y\":[\"Harry Potter\",\"Harry Potter\"],\"type\":\"scatter\"},{\"hoverinfo\":\"skip\",\"line\":{\"color\":\"rgb(250, 236, 121)\",\"width\":2},\"mode\":\"lines\",\"showlegend\":false,\"x\":[\"2004-05-19T00:00:00\",\"2007-05-17T00:00:00\"],\"y\":[\"Shrek\",\"Shrek\"],\"type\":\"scatter\"},{\"hoverinfo\":\"skip\",\"line\":{\"color\":\"rgb(251, 249, 150)\",\"width\":2},\"mode\":\"lines\",\"showlegend\":false,\"x\":[\"2001-11-16T00:00:00\",\"2002-11-13T00:00:00\"],\"y\":[\"Harry Potter\",\"Harry Potter\"],\"type\":\"scatter\"},{\"hoverinfo\":\"skip\",\"line\":{\"color\":\"rgb(250, 234, 117)\",\"width\":2},\"mode\":\"lines\",\"showlegend\":false,\"x\":[\"2006-03-29T00:00:00\",\"2009-06-26T00:00:00\"],\"y\":[\"Ice Age\",\"Ice Age\"],\"type\":\"scatter\"},{\"hoverinfo\":\"skip\",\"line\":{\"color\":\"rgb(250, 237, 123)\",\"width\":2},\"mode\":\"lines\",\"showlegend\":false,\"x\":[\"2004-06-25T00:00:00\",\"2007-05-01T00:00:00\"],\"y\":[\"Spider-Man\",\"Spider-Man\"],\"type\":\"scatter\"},{\"hoverinfo\":\"skip\",\"line\":{\"color\":\"rgb(251, 246, 143)\",\"width\":2},\"mode\":\"lines\",\"showlegend\":false,\"x\":[\"2004-05-31T00:00:00\",\"2005-11-16T00:00:00\"],\"y\":[\"Harry Potter\",\"Harry Potter\"],\"type\":\"scatter\"},{\"hoverinfo\":\"skip\",\"line\":{\"color\":\"rgb(250, 236, 120)\",\"width\":2},\"mode\":\"lines\",\"showlegend\":false,\"x\":[\"2001-05-18T00:00:00\",\"2004-05-19T00:00:00\"],\"y\":[\"Shrek\",\"Shrek\"],\"type\":\"scatter\"},{\"hoverinfo\":\"skip\",\"line\":{\"color\":\"rgb(251, 249, 150)\",\"width\":2},\"mode\":\"lines\",\"showlegend\":false,\"x\":[\"2001-12-18T00:00:00\",\"2002-12-18T00:00:00\"],\"y\":[\"The Lord of the Rings\",\"The Lord of the Rings\"],\"type\":\"scatter\"},{\"hoverinfo\":\"skip\",\"line\":{\"color\":\"rgb(251, 242, 135)\",\"width\":2},\"mode\":\"lines\",\"showlegend\":false,\"x\":[\"2007-07-08T00:00:00\",\"2009-07-15T00:00:00\"],\"y\":[\"Harry Potter\",\"Harry Potter\"],\"type\":\"scatter\"},{\"hoverinfo\":\"skip\",\"line\":{\"color\":\"rgb(251, 244, 140)\",\"width\":2},\"mode\":\"lines\",\"showlegend\":false,\"x\":[\"2005-11-16T00:00:00\",\"2007-07-08T00:00:00\"],\"y\":[\"Harry Potter\",\"Harry Potter\"],\"type\":\"scatter\"},{\"hoverinfo\":\"skip\",\"line\":{\"color\":\"rgb(123, 29, 108)\",\"width\":2},\"mode\":\"lines\",\"showlegend\":false,\"x\":[\"1961-01-25T00:00:00\",\"2003-03-02T00:00:00\"],\"y\":[\"101 Dalmatians (Animated)\",\"101 Dalmatians (Animated)\"],\"type\":\"scatter\"},{\"hoverinfo\":\"skip\",\"line\":{\"color\":\"rgb(249, 224, 94)\",\"width\":2},\"mode\":\"lines\",\"showlegend\":false,\"x\":[\"2001-06-22T00:00:00\",\"2006-04-25T00:00:00\"],\"y\":[\"Dr. Dolittle\",\"Dr. Dolittle\"],\"type\":\"scatter\"},{\"hoverinfo\":\"skip\",\"line\":{\"color\":\"rgb(251, 243, 137)\",\"width\":2},\"mode\":\"lines\",\"showlegend\":false,\"x\":[\"2006-04-25T00:00:00\",\"2008-03-04T00:00:00\"],\"y\":[\"Dr. Dolittle\",\"Dr. Dolittle\"],\"type\":\"scatter\"},{\"hoverinfo\":\"skip\",\"line\":{\"color\":\"rgb(251, 248, 148)\",\"width\":2},\"mode\":\"lines\",\"showlegend\":false,\"x\":[\"2008-03-04T00:00:00\",\"2009-04-08T00:00:00\"],\"y\":[\"Dr. Dolittle\",\"Dr. Dolittle\"],\"type\":\"scatter\"},{\"hoverinfo\":\"skip\",\"line\":{\"color\":\"rgb(248, 222, 90)\",\"width\":2},\"mode\":\"lines\",\"showlegend\":false,\"x\":[\"1968-12-23T00:00:00\",\"1974-02-12T00:00:00\"],\"y\":[\"Herbie\",\"Herbie\"],\"type\":\"scatter\"},{\"hoverinfo\":\"skip\",\"line\":{\"color\":\"rgb(250, 233, 115)\",\"width\":2},\"mode\":\"lines\",\"showlegend\":false,\"x\":[\"1974-02-12T00:00:00\",\"1977-06-24T00:00:00\"],\"y\":[\"Herbie\",\"Herbie\"],\"type\":\"scatter\"},{\"hoverinfo\":\"skip\",\"line\":{\"color\":\"rgb(250, 236, 120)\",\"width\":2},\"mode\":\"lines\",\"showlegend\":false,\"x\":[\"1977-06-24T00:00:00\",\"1980-06-25T00:00:00\"],\"y\":[\"Herbie\",\"Herbie\"],\"type\":\"scatter\"},{\"hoverinfo\":\"skip\",\"line\":{\"color\":\"rgb(247, 205, 57)\",\"width\":2},\"mode\":\"lines\",\"showlegend\":false,\"x\":[\"1998-11-13T00:00:00\",\"2006-06-24T00:00:00\"],\"y\":[\"I Know What You Did Last Summer\",\"I Know What You Did Last Summer\"],\"type\":\"scatter\"},{\"hoverinfo\":\"skip\",\"line\":{\"color\":\"rgb(249, 231, 111)\",\"width\":2},\"mode\":\"lines\",\"showlegend\":false,\"x\":[\"1999-07-23T00:00:00\",\"2003-03-11T00:00:00\"],\"y\":[\"Inspector Gadget\",\"Inspector Gadget\"],\"type\":\"scatter\"},{\"hoverinfo\":\"skip\",\"line\":{\"color\":\"rgb(250, 235, 118)\",\"width\":2},\"mode\":\"lines\",\"showlegend\":false,\"x\":[\"1995-06-14T00:00:00\",\"1998-08-04T00:00:00\"],\"y\":[\"Pocahontas\",\"Pocahontas\"],\"type\":\"scatter\"},{\"hoverinfo\":\"skip\",\"line\":{\"color\":\"rgb(250, 238, 127)\",\"width\":2},\"mode\":\"lines\",\"showlegend\":false,\"x\":[\"1982-10-22T00:00:00\",\"1985-05-21T00:00:00\"],\"y\":[\"Rambo\",\"Rambo\"],\"type\":\"scatter\"},{\"hoverinfo\":\"skip\",\"line\":{\"color\":\"rgb(250, 239, 128)\",\"width\":2},\"mode\":\"lines\",\"showlegend\":false,\"x\":[\"1980-12-12T00:00:00\",\"1983-06-17T00:00:00\"],\"y\":[\"Superman\",\"Superman\"],\"type\":\"scatter\"},{\"hoverinfo\":\"skip\",\"line\":{\"color\":\"rgb(250, 235, 120)\",\"width\":2},\"mode\":\"lines\",\"showlegend\":false,\"x\":[\"1999-06-18T00:00:00\",\"2002-06-24T00:00:00\"],\"y\":[\"Tarzan (Animation)\",\"Tarzan (Animation)\"],\"type\":\"scatter\"},{\"hoverinfo\":\"skip\",\"line\":{\"color\":\"rgb(250, 236, 121)\",\"width\":2},\"mode\":\"lines\",\"showlegend\":false,\"x\":[\"2002-06-24T00:00:00\",\"2005-06-13T00:00:00\"],\"y\":[\"Tarzan (Animation)\",\"Tarzan (Animation)\"],\"type\":\"scatter\"},{\"hoverinfo\":\"skip\",\"line\":{\"color\":\"rgb(250, 233, 115)\",\"width\":2},\"mode\":\"lines\",\"showlegend\":false,\"x\":[\"1996-08-29T00:00:00\",\"2000-01-23T00:00:00\"],\"y\":[\"The Crow\",\"The Crow\"],\"type\":\"scatter\"},{\"hoverinfo\":\"skip\",\"line\":{\"color\":\"rgb(248, 221, 87)\",\"width\":2},\"mode\":\"lines\",\"showlegend\":false,\"x\":[\"2000-01-23T00:00:00\",\"2005-05-04T00:00:00\"],\"y\":[\"The Crow\",\"The Crow\"],\"type\":\"scatter\"},{\"hoverinfo\":\"skip\",\"line\":{\"color\":\"rgb(249, 223, 92)\",\"width\":2},\"mode\":\"lines\",\"showlegend\":false,\"x\":[\"2000-12-15T00:00:00\",\"2005-12-05T00:00:00\"],\"y\":[\"The Emperor's New Groove\",\"The Emperor's New Groove\"],\"type\":\"scatter\"},{\"hoverinfo\":\"skip\",\"line\":{\"color\":\"rgb(248, 219, 82)\",\"width\":2},\"mode\":\"lines\",\"showlegend\":false,\"x\":[\"1996-06-21T00:00:00\",\"2002-02-06T00:00:00\"],\"y\":[\"The Hunchback of Notre Dame\",\"The Hunchback of Notre Dame\"],\"type\":\"scatter\"},{\"hoverinfo\":\"skip\",\"line\":{\"color\":\"rgb(249, 227, 101)\",\"width\":2},\"mode\":\"lines\",\"showlegend\":false,\"x\":[\"1994-06-24T00:00:00\",\"1998-10-24T00:00:00\"],\"y\":[\"The Lion King\",\"The Lion King\"],\"type\":\"scatter\"},{\"hoverinfo\":\"skip\",\"line\":{\"color\":\"rgb(248, 221, 87)\",\"width\":2},\"mode\":\"lines\",\"showlegend\":false,\"x\":[\"1998-10-24T00:00:00\",\"2004-02-06T00:00:00\"],\"y\":[\"The Lion King\",\"The Lion King\"],\"type\":\"scatter\"},{\"hoverinfo\":\"skip\",\"line\":{\"color\":\"rgb(249, 186, 37)\",\"width\":2},\"mode\":\"lines\",\"showlegend\":false,\"x\":[\"1989-11-17T00:00:00\",\"2000-01-23T00:00:00\"],\"y\":[\"The Little Mermaid\",\"The Little Mermaid\"],\"type\":\"scatter\"},{\"hoverinfo\":\"skip\",\"line\":{\"color\":\"rgb(248, 198, 50)\",\"width\":2},\"mode\":\"lines\",\"showlegend\":false,\"x\":[\"2000-01-23T00:00:00\",\"2008-08-25T00:00:00\"],\"y\":[\"The Little Mermaid\",\"The Little Mermaid\"],\"type\":\"scatter\"},{\"hoverinfo\":\"skip\",\"line\":{\"color\":\"rgb(251, 249, 150)\",\"width\":2},\"mode\":\"lines\",\"showlegend\":false,\"x\":[\"2002-12-18T00:00:00\",\"2003-12-17T00:00:00\"],\"y\":[\"The Lord of the Rings\",\"The Lord of the Rings\"],\"type\":\"scatter\"}],                        {\"template\":{\"data\":{\"histogram2dcontour\":[{\"type\":\"histogram2dcontour\",\"colorbar\":{\"outlinewidth\":0,\"ticks\":\"\"},\"colorscale\":[[0.0,\"#0d0887\"],[0.1111111111111111,\"#46039f\"],[0.2222222222222222,\"#7201a8\"],[0.3333333333333333,\"#9c179e\"],[0.4444444444444444,\"#bd3786\"],[0.5555555555555556,\"#d8576b\"],[0.6666666666666666,\"#ed7953\"],[0.7777777777777778,\"#fb9f3a\"],[0.8888888888888888,\"#fdca26\"],[1.0,\"#f0f921\"]]}],\"choropleth\":[{\"type\":\"choropleth\",\"colorbar\":{\"outlinewidth\":0,\"ticks\":\"\"}}],\"histogram2d\":[{\"type\":\"histogram2d\",\"colorbar\":{\"outlinewidth\":0,\"ticks\":\"\"},\"colorscale\":[[0.0,\"#0d0887\"],[0.1111111111111111,\"#46039f\"],[0.2222222222222222,\"#7201a8\"],[0.3333333333333333,\"#9c179e\"],[0.4444444444444444,\"#bd3786\"],[0.5555555555555556,\"#d8576b\"],[0.6666666666666666,\"#ed7953\"],[0.7777777777777778,\"#fb9f3a\"],[0.8888888888888888,\"#fdca26\"],[1.0,\"#f0f921\"]]}],\"heatmap\":[{\"type\":\"heatmap\",\"colorbar\":{\"outlinewidth\":0,\"ticks\":\"\"},\"colorscale\":[[0.0,\"#0d0887\"],[0.1111111111111111,\"#46039f\"],[0.2222222222222222,\"#7201a8\"],[0.3333333333333333,\"#9c179e\"],[0.4444444444444444,\"#bd3786\"],[0.5555555555555556,\"#d8576b\"],[0.6666666666666666,\"#ed7953\"],[0.7777777777777778,\"#fb9f3a\"],[0.8888888888888888,\"#fdca26\"],[1.0,\"#f0f921\"]]}],\"heatmapgl\":[{\"type\":\"heatmapgl\",\"colorbar\":{\"outlinewidth\":0,\"ticks\":\"\"},\"colorscale\":[[0.0,\"#0d0887\"],[0.1111111111111111,\"#46039f\"],[0.2222222222222222,\"#7201a8\"],[0.3333333333333333,\"#9c179e\"],[0.4444444444444444,\"#bd3786\"],[0.5555555555555556,\"#d8576b\"],[0.6666666666666666,\"#ed7953\"],[0.7777777777777778,\"#fb9f3a\"],[0.8888888888888888,\"#fdca26\"],[1.0,\"#f0f921\"]]}],\"contourcarpet\":[{\"type\":\"contourcarpet\",\"colorbar\":{\"outlinewidth\":0,\"ticks\":\"\"}}],\"contour\":[{\"type\":\"contour\",\"colorbar\":{\"outlinewidth\":0,\"ticks\":\"\"},\"colorscale\":[[0.0,\"#0d0887\"],[0.1111111111111111,\"#46039f\"],[0.2222222222222222,\"#7201a8\"],[0.3333333333333333,\"#9c179e\"],[0.4444444444444444,\"#bd3786\"],[0.5555555555555556,\"#d8576b\"],[0.6666666666666666,\"#ed7953\"],[0.7777777777777778,\"#fb9f3a\"],[0.8888888888888888,\"#fdca26\"],[1.0,\"#f0f921\"]]}],\"surface\":[{\"type\":\"surface\",\"colorbar\":{\"outlinewidth\":0,\"ticks\":\"\"},\"colorscale\":[[0.0,\"#0d0887\"],[0.1111111111111111,\"#46039f\"],[0.2222222222222222,\"#7201a8\"],[0.3333333333333333,\"#9c179e\"],[0.4444444444444444,\"#bd3786\"],[0.5555555555555556,\"#d8576b\"],[0.6666666666666666,\"#ed7953\"],[0.7777777777777778,\"#fb9f3a\"],[0.8888888888888888,\"#fdca26\"],[1.0,\"#f0f921\"]]}],\"mesh3d\":[{\"type\":\"mesh3d\",\"colorbar\":{\"outlinewidth\":0,\"ticks\":\"\"}}],\"scatter\":[{\"fillpattern\":{\"fillmode\":\"overlay\",\"size\":10,\"solidity\":0.2},\"type\":\"scatter\"}],\"parcoords\":[{\"type\":\"parcoords\",\"line\":{\"colorbar\":{\"outlinewidth\":0,\"ticks\":\"\"}}}],\"scatterpolargl\":[{\"type\":\"scatterpolargl\",\"marker\":{\"colorbar\":{\"outlinewidth\":0,\"ticks\":\"\"}}}],\"bar\":[{\"error_x\":{\"color\":\"#2a3f5f\"},\"error_y\":{\"color\":\"#2a3f5f\"},\"marker\":{\"line\":{\"color\":\"#E5ECF6\",\"width\":0.5},\"pattern\":{\"fillmode\":\"overlay\",\"size\":10,\"solidity\":0.2}},\"type\":\"bar\"}],\"scattergeo\":[{\"type\":\"scattergeo\",\"marker\":{\"colorbar\":{\"outlinewidth\":0,\"ticks\":\"\"}}}],\"scatterpolar\":[{\"type\":\"scatterpolar\",\"marker\":{\"colorbar\":{\"outlinewidth\":0,\"ticks\":\"\"}}}],\"histogram\":[{\"marker\":{\"pattern\":{\"fillmode\":\"overlay\",\"size\":10,\"solidity\":0.2}},\"type\":\"histogram\"}],\"scattergl\":[{\"type\":\"scattergl\",\"marker\":{\"colorbar\":{\"outlinewidth\":0,\"ticks\":\"\"}}}],\"scatter3d\":[{\"type\":\"scatter3d\",\"line\":{\"colorbar\":{\"outlinewidth\":0,\"ticks\":\"\"}},\"marker\":{\"colorbar\":{\"outlinewidth\":0,\"ticks\":\"\"}}}],\"scattermapbox\":[{\"type\":\"scattermapbox\",\"marker\":{\"colorbar\":{\"outlinewidth\":0,\"ticks\":\"\"}}}],\"scatterternary\":[{\"type\":\"scatterternary\",\"marker\":{\"colorbar\":{\"outlinewidth\":0,\"ticks\":\"\"}}}],\"scattercarpet\":[{\"type\":\"scattercarpet\",\"marker\":{\"colorbar\":{\"outlinewidth\":0,\"ticks\":\"\"}}}],\"carpet\":[{\"aaxis\":{\"endlinecolor\":\"#2a3f5f\",\"gridcolor\":\"white\",\"linecolor\":\"white\",\"minorgridcolor\":\"white\",\"startlinecolor\":\"#2a3f5f\"},\"baxis\":{\"endlinecolor\":\"#2a3f5f\",\"gridcolor\":\"white\",\"linecolor\":\"white\",\"minorgridcolor\":\"white\",\"startlinecolor\":\"#2a3f5f\"},\"type\":\"carpet\"}],\"table\":[{\"cells\":{\"fill\":{\"color\":\"#EBF0F8\"},\"line\":{\"color\":\"white\"}},\"header\":{\"fill\":{\"color\":\"#C8D4E3\"},\"line\":{\"color\":\"white\"}},\"type\":\"table\"}],\"barpolar\":[{\"marker\":{\"line\":{\"color\":\"#E5ECF6\",\"width\":0.5},\"pattern\":{\"fillmode\":\"overlay\",\"size\":10,\"solidity\":0.2}},\"type\":\"barpolar\"}],\"pie\":[{\"automargin\":true,\"type\":\"pie\"}]},\"layout\":{\"autotypenumbers\":\"strict\",\"colorway\":[\"#636efa\",\"#EF553B\",\"#00cc96\",\"#ab63fa\",\"#FFA15A\",\"#19d3f3\",\"#FF6692\",\"#B6E880\",\"#FF97FF\",\"#FECB52\"],\"font\":{\"color\":\"#2a3f5f\"},\"hovermode\":\"closest\",\"hoverlabel\":{\"align\":\"left\"},\"paper_bgcolor\":\"white\",\"plot_bgcolor\":\"#E5ECF6\",\"polar\":{\"bgcolor\":\"#E5ECF6\",\"angularaxis\":{\"gridcolor\":\"white\",\"linecolor\":\"white\",\"ticks\":\"\"},\"radialaxis\":{\"gridcolor\":\"white\",\"linecolor\":\"white\",\"ticks\":\"\"}},\"ternary\":{\"bgcolor\":\"#E5ECF6\",\"aaxis\":{\"gridcolor\":\"white\",\"linecolor\":\"white\",\"ticks\":\"\"},\"baxis\":{\"gridcolor\":\"white\",\"linecolor\":\"white\",\"ticks\":\"\"},\"caxis\":{\"gridcolor\":\"white\",\"linecolor\":\"white\",\"ticks\":\"\"}},\"coloraxis\":{\"colorbar\":{\"outlinewidth\":0,\"ticks\":\"\"}},\"colorscale\":{\"sequential\":[[0.0,\"#0d0887\"],[0.1111111111111111,\"#46039f\"],[0.2222222222222222,\"#7201a8\"],[0.3333333333333333,\"#9c179e\"],[0.4444444444444444,\"#bd3786\"],[0.5555555555555556,\"#d8576b\"],[0.6666666666666666,\"#ed7953\"],[0.7777777777777778,\"#fb9f3a\"],[0.8888888888888888,\"#fdca26\"],[1.0,\"#f0f921\"]],\"sequentialminus\":[[0.0,\"#0d0887\"],[0.1111111111111111,\"#46039f\"],[0.2222222222222222,\"#7201a8\"],[0.3333333333333333,\"#9c179e\"],[0.4444444444444444,\"#bd3786\"],[0.5555555555555556,\"#d8576b\"],[0.6666666666666666,\"#ed7953\"],[0.7777777777777778,\"#fb9f3a\"],[0.8888888888888888,\"#fdca26\"],[1.0,\"#f0f921\"]],\"diverging\":[[0,\"#8e0152\"],[0.1,\"#c51b7d\"],[0.2,\"#de77ae\"],[0.3,\"#f1b6da\"],[0.4,\"#fde0ef\"],[0.5,\"#f7f7f7\"],[0.6,\"#e6f5d0\"],[0.7,\"#b8e186\"],[0.8,\"#7fbc41\"],[0.9,\"#4d9221\"],[1,\"#276419\"]]},\"xaxis\":{\"gridcolor\":\"white\",\"linecolor\":\"white\",\"ticks\":\"\",\"title\":{\"standoff\":15},\"zerolinecolor\":\"white\",\"automargin\":true,\"zerolinewidth\":2},\"yaxis\":{\"gridcolor\":\"white\",\"linecolor\":\"white\",\"ticks\":\"\",\"title\":{\"standoff\":15},\"zerolinecolor\":\"white\",\"automargin\":true,\"zerolinewidth\":2},\"scene\":{\"xaxis\":{\"backgroundcolor\":\"#E5ECF6\",\"gridcolor\":\"white\",\"linecolor\":\"white\",\"showbackground\":true,\"ticks\":\"\",\"zerolinecolor\":\"white\",\"gridwidth\":2},\"yaxis\":{\"backgroundcolor\":\"#E5ECF6\",\"gridcolor\":\"white\",\"linecolor\":\"white\",\"showbackground\":true,\"ticks\":\"\",\"zerolinecolor\":\"white\",\"gridwidth\":2},\"zaxis\":{\"backgroundcolor\":\"#E5ECF6\",\"gridcolor\":\"white\",\"linecolor\":\"white\",\"showbackground\":true,\"ticks\":\"\",\"zerolinecolor\":\"white\",\"gridwidth\":2}},\"shapedefaults\":{\"line\":{\"color\":\"#2a3f5f\"}},\"annotationdefaults\":{\"arrowcolor\":\"#2a3f5f\",\"arrowhead\":0,\"arrowwidth\":1},\"geo\":{\"bgcolor\":\"white\",\"landcolor\":\"#E5ECF6\",\"subunitcolor\":\"white\",\"showland\":true,\"showlakes\":true,\"lakecolor\":\"white\"},\"title\":{\"x\":0.05},\"mapbox\":{\"style\":\"light\"}}},\"yaxis\":{\"title\":{\"text\":\"Collection\"},\"tickvals\":[\"American Graffiti\",\"Open Season\",\"Poltergeist\",\"Superman\",\"The Crow\",\"Pok\\u00e9mon\",\"The Exorcist\",\"Bambi\",\"Mortal Kombat\",\"Jaws\",\"Rugrats\",\"Home Alone\",\"I Know What You Did Last Summer\",\"The Santa Clause\",\"Rambo\",\"Beverly Hills Cop\",\"Legally Blonde\",\"Inspector Gadget\",\"The Jungle Book\",\"Die Hard\",\"Bad Boys\",\"Herbie\",\"The Emperor's New Groove\",\"Scream\",\"Dr. Dolittle\",\"The Jack Ryan\",\"The Hannibal Lecter\",\"The Little Mermaid\",\"The Bourne\",\"101 Dalmatians (Animated)\",\"Back to the Future\",\"Red Cliff\",\"Fantastic Four\",\"Ocean's\",\"The Hunchback of Notre Dame\",\"Pocahontas\",\"Toy Story\",\"Jurassic Park\",\"Ice Age\",\"The Mummy\",\"Tarzan (Animation)\",\"Shrek\",\"Madagascar\",\"Spider-Man\",\"Harry Potter\",\"The Lord of the Rings\",\"The Lion King\"],\"ticktext\":[\"American Graffiti\",\"Open Season\",\"Poltergeist\",\"Superman\",\"The Crow\",\"Pok\\u00e9mon\",\"The Exorcist\",\"Bambi\",\"Mortal Kombat\",\"Jaws\",\"Rugrats\",\"Home Alone\",\"I Know What You Did Last Summer\",\"The Santa Clause\",\"Rambo\",\"Beverly Hills Cop\",\"Legally Blonde\",\"Inspector Gadget\",\"The Jungle Book\",\"Die Hard\",\"Bad Boys\",\"Herbie\",\"The Emperor's New Groove\",\"Scream\",\"Dr. Dolittle\",\"The Jack Ryan\",\"The Hannibal Lecter\",\"The Little Mermaid\",\"The Bourne\",\"101 Dalmatians (Animated)\",\"Back to the Future\",\"Red Cliff\",\"Fantastic Four\",\"Ocean's\",\"The Hunchback of Notre Dame\",\"Pocahontas\",\"Toy Story\",\"Jurassic Park\",\"Ice Age\",\"The Mummy\",\"Tarzan (Animation)\",\"Shrek\",\"Madagascar\",\"Spider-Man\",\"Harry Potter\",\"The Lord of the Rings\",\"The Lion King\"]},\"xaxis\":{\"title\":{\"text\":\"Release date\"}},\"title\":{\"text\":\"Time between sequels\"},\"width\":800,\"height\":1200},                        {\"responsive\": true}                    ).then(function(){\n",
       "                            \n",
       "var gd = document.getElementById('d15812e8-5955-44b5-8d14-49a210de87e6');\n",
       "var x = new MutationObserver(function (mutations, observer) {{\n",
       "        var display = window.getComputedStyle(gd).display;\n",
       "        if (!display || display === 'none') {{\n",
       "            console.log([gd, 'removed!']);\n",
       "            Plotly.purge(gd);\n",
       "            observer.disconnect();\n",
       "        }}\n",
       "}});\n",
       "\n",
       "// Listen for the removal of the full notebook cells\n",
       "var notebookContainer = gd.closest('#notebook-container');\n",
       "if (notebookContainer) {{\n",
       "    x.observe(notebookContainer, {childList: true});\n",
       "}}\n",
       "\n",
       "// Listen for the clearing of the current output cell\n",
       "var outputEl = gd.closest('.output');\n",
       "if (outputEl) {{\n",
       "    x.observe(outputEl, {childList: true});\n",
       "}}\n",
       "\n",
       "                        })                };                });            </script>        </div>"
      ]
     },
     "metadata": {},
     "output_type": "display_data"
    }
   ],
   "execution_count": 342
  },
  {
   "cell_type": "markdown",
   "id": "ee766fa7626d9204",
   "metadata": {},
   "source": [
    "## Other line of enquiry:\n",
    "\n",
    "- Highest grossing series\n",
    "- By genre\n",
    "- Find studios that do a lot of sequels\n",
    "- Is there a correlation between the box office revenue of the first movie and the sequels\n",
    "- Add more box office revenue data and get movie budget data\n",
    "- ..."
   ]
  }
 ],
 "metadata": {
  "kernelspec": {
   "display_name": "Python 3 (ipykernel)",
   "language": "python",
   "name": "python3"
  },
  "language_info": {
   "codemirror_mode": {
    "name": "ipython",
    "version": 3
   },
   "file_extension": ".py",
   "mimetype": "text/x-python",
   "name": "python",
   "nbconvert_exporter": "python",
   "pygments_lexer": "ipython3",
   "version": "3.8.10"
  }
 },
 "nbformat": 4,
 "nbformat_minor": 5
}
