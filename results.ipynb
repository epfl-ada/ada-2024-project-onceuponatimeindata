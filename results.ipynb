{
 "cells": [
  {
   "cell_type": "code",
   "id": "4e29fe47c103a5b2",
   "metadata": {
    "ExecuteTime": {
     "end_time": "2024-12-13T18:28:59.619690Z",
     "start_time": "2024-12-13T18:28:59.542483Z"
    }
   },
   "source": [
    "import pandas as pd\n",
    "import matplotlib.pyplot as plt\n",
    "%load_ext autoreload\n",
    "%autoreload 2\n",
    "from data.dataset_enhancer import get_movies"
   ],
   "outputs": [
    {
     "name": "stdout",
     "output_type": "stream",
     "text": [
      "The autoreload extension is already loaded. To reload it, use:\n",
      "  %reload_ext autoreload\n"
     ]
    }
   ],
   "execution_count": 32
  },
  {
   "cell_type": "markdown",
   "id": "ad314c5edea9378",
   "metadata": {},
   "source": [
    "### 0. Data Enhancement"
   ]
  },
  {
   "cell_type": "markdown",
   "id": "1e8130883ead2eb6",
   "metadata": {},
   "source": [
    "First we ran the notebook data_preprocessing.ipynb to generate the necessary files for this notebook. The data_preprocessing.ipynb notebook loads the movie metadata and additional datasets, preprocesses the data, and saves the cleaned data to CSV files. The data_preprocessing.ipynb notebook also generates the necessary files for this notebook, such as the movie metadata for older and newer movies, and additional datasets for sequels, books, comics, remakes, and collections. There is no need to run it again, as the files are already on github. The data_preprocessing.ipynb notebook is run once to generate the necessary files for this notebook. You also need an API key, that we are not putting on github for security reasons.\n",
    "The function stores the output in the data file."
   ]
  },
  {
   "cell_type": "code",
   "id": "fb50a6a53316d5a4",
   "metadata": {
    "ExecuteTime": {
     "end_time": "2024-12-13T18:29:01.009265Z",
     "start_time": "2024-12-13T18:29:00.972461Z"
    }
   },
   "source": [
    "\"\"\"keywords_name = [\"sequels\", \"book\", \"comics\", \"remake\"]\n",
    "keywords_id = [9663, 818, 9717, 9714]\n",
    "start_date = 1880\n",
    "end_date = 2010\n",
    "\n",
    "get_movies(keywords_name, keywords_id, start_date, end_date)\n",
    "\n",
    "start_date = 2010\n",
    "end_date = 2024\n",
    "get_movies(keywords_name, keywords_id, start_date, end_date)\"\"\""
   ],
   "outputs": [
    {
     "data": {
      "text/plain": [
       "'keywords_name = [\"sequels\", \"book\", \"comics\", \"remake\"]\\nkeywords_id = [9663, 818, 9717, 9714]\\nstart_date = 1880\\nend_date = 2010\\n\\nget_movies(keywords_name, keywords_id, start_date, end_date)\\n\\nstart_date = 2010\\nend_date = 2024\\nget_movies(keywords_name, keywords_id, start_date, end_date)'"
      ]
     },
     "execution_count": 33,
     "metadata": {},
     "output_type": "execute_result"
    }
   ],
   "execution_count": 33
  },
  {
   "cell_type": "markdown",
   "id": "fdb8fdd02ef17bfa",
   "metadata": {},
   "source": [
    "## 1. Files loading and preprocessing"
   ]
  },
  {
   "cell_type": "markdown",
   "id": "4aa774dcfa8739da",
   "metadata": {},
   "source": [
    "The following cell organizes and preprocesses movie datasets from different time periods (1880–2010 and 2010–2024) using the MovieFrames class. It first imports the class, then loads the movie metadata for older and newer movies. File paths for additional datasets (such as sequels, books, comics, remakes, and collections) are dynamically generated for both time periods. The MovieFrames objects (movie_frames_old and movie_frames_new) are then created to structure and preprocess the data. The movie_frames_old object specifically standardizes column names for the older dataset using the old=True flag. These objects help manage movie data by categories and prepare it for further analysis."
   ]
  },
  {
   "cell_type": "markdown",
   "id": "3e15c2bf70190560",
   "metadata": {},
   "source": [
    "### 1.1 Data Collection"
   ]
  },
  {
   "cell_type": "code",
   "id": "6cd9b14e91df3d96",
   "metadata": {
    "ExecuteTime": {
     "end_time": "2024-12-13T18:29:02.696439Z",
     "start_time": "2024-12-13T18:29:02.692694Z"
    }
   },
   "source": [],
   "outputs": [],
   "execution_count": null
  },
  {
   "cell_type": "code",
   "id": "12458daa1a129323",
   "metadata": {
    "ExecuteTime": {
     "end_time": "2024-12-13T22:51:44.811800Z",
     "start_time": "2024-12-13T22:51:42.593668Z"
    }
   },
   "source": [
    "from src.models.movies_frame import MovieFrames\n",
    "\n",
    "movie_df = pd.read_csv('data/MovieSummaries_filtered/movie_df.csv')\n",
    "        \n",
    "new_movie_df = pd.read_csv('data/random_sample/random_sample_2010_2024_metadata.csv')\n",
    "\n",
    "keywords = [\"sequels\", \"book\", \"comics\", \"remake\"]\n",
    "path_old = []\n",
    "path_new = []\n",
    "\n",
    "for keyword in keywords:\n",
    "    path_old.append(f\"data/{keyword}/{keyword}_1880_2010_with_wiki_id.csv\")\n",
    "    path_new.append(f\"data/{keyword}/{keyword}_2010_2024_metadata.csv\")\n",
    "\n",
    "path_old.append(\"data/collections/sequels_and_original_1880_2010_with_wiki_id.csv\")\n",
    "path_new.append(\"data/collections/sequels_and_original_2010_2024_metadata.csv\")\n",
    "\n",
    "movie_frames_old = MovieFrames(movie_df, path_old, 1880, 2010)\n",
    "movie_frames_new = MovieFrames(new_movie_df, path_new, 2010, 2024)\n"
   ],
   "outputs": [],
   "execution_count": 273
  },
  {
   "cell_type": "markdown",
   "id": "45486aced1fc0917",
   "metadata": {},
   "source": [
    "### 1.2 Data Preprocessing"
   ]
  },
  {
   "cell_type": "markdown",
   "id": "f5c475137bd576fb",
   "metadata": {},
   "source": [
    "Then the following cell visualizes the size differences between datasets during the preprocessing steps using the display_data_cleaning_graph function. The function takes a MovieFrames object and calculates the number of movies at three stages:\n",
    "\n",
    "- The original data loaded from TMDb.\n",
    "- After matching the TMDb data with the Wikipedia data.\n",
    "- After filtering out movies with mismatched release years.\n",
    "\n",
    "These sizes are passed to the create_graph function, which generates a bar graph showing the changes in dataset sizes for five categories: sequel collections, sequels, books, comics, and remakes. The graph highlights how the preprocessing steps affect the number of movies in each category. "
   ]
  },
  {
   "metadata": {
    "ExecuteTime": {
     "end_time": "2024-12-13T22:51:46.552040Z",
     "start_time": "2024-12-13T22:51:45.755879Z"
    }
   },
   "cell_type": "code",
   "source": [
    "from src.models.movies_frame import MovieFrames\n",
    "\n",
    "movie_df = pd.read_csv('data/MovieSummaries_filtered/movie_df.csv')\n",
    "        \n",
    "new_movie_df = pd.read_csv('data/random_sample/random_sample_2010_2024_metadata.csv')\n",
    "\n",
    "keywords = [\"sequels\", \"book\", \"comics\", \"remake\"]\n",
    "path_old = []\n",
    "path_new = []\n",
    "\n",
    "for keyword in keywords:\n",
    "    path_old.append(f\"data/{keyword}/{keyword}_1880_2010_with_wiki_id.csv\")\n",
    "    path_new.append(f\"data/{keyword}/{keyword}_2010_2024_metadata.csv\")\n",
    "\n",
    "path_old.append(\"data/collections/sequels_and_original_1880_2010_with_wiki_id.csv\")\n",
    "path_new.append(\"data/collections/sequels_and_original_2010_2024_metadata.csv\")\n",
    "\n",
    "movie_frames_old = MovieFrames(movie_df, path_old, 1880, 2010)\n",
    "movie_frames_new = MovieFrames(new_movie_df, path_new, 2010, 2024)\n"
   ],
   "id": "2a49b258d3892231",
   "outputs": [],
   "execution_count": 274
  },
  {
   "cell_type": "code",
   "id": "5af7cf567cbf2051",
   "metadata": {
    "ExecuteTime": {
     "end_time": "2024-12-13T22:51:47.519818Z",
     "start_time": "2024-12-13T22:51:47.194225Z"
    }
   },
   "source": [
    "## Size differences\n",
    "from src.models.movie_data_cleaner import display_data_cleaning_graph\n",
    "fig = display_data_cleaning_graph(movie_frames_old)\n",
    "\n",
    "fig"
   ],
   "outputs": [
    {
     "data": {
      "application/vnd.plotly.v1+json": {
       "data": [
        {
         "name": "TMDB",
         "width": 0.3,
         "x": [
          0,
          1,
          2,
          3,
          4
         ],
         "y": [
          1831,
          778,
          5170,
          400,
          567
         ],
         "type": "bar"
        },
        {
         "name": "Wikipedia",
         "width": 0.3,
         "x": [
          0.3,
          1.3,
          2.3,
          3.3,
          4.3
         ],
         "y": [
          1271,
          558,
          2500,
          183,
          425
         ],
         "type": "bar"
        },
        {
         "name": "After filtering",
         "width": 0.3,
         "x": [
          0.6,
          1.6,
          2.6,
          3.6,
          4.6
         ],
         "y": [
          1181,
          503,
          2304,
          179,
          381
         ],
         "type": "bar"
        }
       ],
       "layout": {
        "template": {
         "data": {
          "histogram2dcontour": [
           {
            "type": "histogram2dcontour",
            "colorbar": {
             "outlinewidth": 0,
             "ticks": ""
            },
            "colorscale": [
             [
              0.0,
              "#0d0887"
             ],
             [
              0.1111111111111111,
              "#46039f"
             ],
             [
              0.2222222222222222,
              "#7201a8"
             ],
             [
              0.3333333333333333,
              "#9c179e"
             ],
             [
              0.4444444444444444,
              "#bd3786"
             ],
             [
              0.5555555555555556,
              "#d8576b"
             ],
             [
              0.6666666666666666,
              "#ed7953"
             ],
             [
              0.7777777777777778,
              "#fb9f3a"
             ],
             [
              0.8888888888888888,
              "#fdca26"
             ],
             [
              1.0,
              "#f0f921"
             ]
            ]
           }
          ],
          "choropleth": [
           {
            "type": "choropleth",
            "colorbar": {
             "outlinewidth": 0,
             "ticks": ""
            }
           }
          ],
          "histogram2d": [
           {
            "type": "histogram2d",
            "colorbar": {
             "outlinewidth": 0,
             "ticks": ""
            },
            "colorscale": [
             [
              0.0,
              "#0d0887"
             ],
             [
              0.1111111111111111,
              "#46039f"
             ],
             [
              0.2222222222222222,
              "#7201a8"
             ],
             [
              0.3333333333333333,
              "#9c179e"
             ],
             [
              0.4444444444444444,
              "#bd3786"
             ],
             [
              0.5555555555555556,
              "#d8576b"
             ],
             [
              0.6666666666666666,
              "#ed7953"
             ],
             [
              0.7777777777777778,
              "#fb9f3a"
             ],
             [
              0.8888888888888888,
              "#fdca26"
             ],
             [
              1.0,
              "#f0f921"
             ]
            ]
           }
          ],
          "heatmap": [
           {
            "type": "heatmap",
            "colorbar": {
             "outlinewidth": 0,
             "ticks": ""
            },
            "colorscale": [
             [
              0.0,
              "#0d0887"
             ],
             [
              0.1111111111111111,
              "#46039f"
             ],
             [
              0.2222222222222222,
              "#7201a8"
             ],
             [
              0.3333333333333333,
              "#9c179e"
             ],
             [
              0.4444444444444444,
              "#bd3786"
             ],
             [
              0.5555555555555556,
              "#d8576b"
             ],
             [
              0.6666666666666666,
              "#ed7953"
             ],
             [
              0.7777777777777778,
              "#fb9f3a"
             ],
             [
              0.8888888888888888,
              "#fdca26"
             ],
             [
              1.0,
              "#f0f921"
             ]
            ]
           }
          ],
          "heatmapgl": [
           {
            "type": "heatmapgl",
            "colorbar": {
             "outlinewidth": 0,
             "ticks": ""
            },
            "colorscale": [
             [
              0.0,
              "#0d0887"
             ],
             [
              0.1111111111111111,
              "#46039f"
             ],
             [
              0.2222222222222222,
              "#7201a8"
             ],
             [
              0.3333333333333333,
              "#9c179e"
             ],
             [
              0.4444444444444444,
              "#bd3786"
             ],
             [
              0.5555555555555556,
              "#d8576b"
             ],
             [
              0.6666666666666666,
              "#ed7953"
             ],
             [
              0.7777777777777778,
              "#fb9f3a"
             ],
             [
              0.8888888888888888,
              "#fdca26"
             ],
             [
              1.0,
              "#f0f921"
             ]
            ]
           }
          ],
          "contourcarpet": [
           {
            "type": "contourcarpet",
            "colorbar": {
             "outlinewidth": 0,
             "ticks": ""
            }
           }
          ],
          "contour": [
           {
            "type": "contour",
            "colorbar": {
             "outlinewidth": 0,
             "ticks": ""
            },
            "colorscale": [
             [
              0.0,
              "#0d0887"
             ],
             [
              0.1111111111111111,
              "#46039f"
             ],
             [
              0.2222222222222222,
              "#7201a8"
             ],
             [
              0.3333333333333333,
              "#9c179e"
             ],
             [
              0.4444444444444444,
              "#bd3786"
             ],
             [
              0.5555555555555556,
              "#d8576b"
             ],
             [
              0.6666666666666666,
              "#ed7953"
             ],
             [
              0.7777777777777778,
              "#fb9f3a"
             ],
             [
              0.8888888888888888,
              "#fdca26"
             ],
             [
              1.0,
              "#f0f921"
             ]
            ]
           }
          ],
          "surface": [
           {
            "type": "surface",
            "colorbar": {
             "outlinewidth": 0,
             "ticks": ""
            },
            "colorscale": [
             [
              0.0,
              "#0d0887"
             ],
             [
              0.1111111111111111,
              "#46039f"
             ],
             [
              0.2222222222222222,
              "#7201a8"
             ],
             [
              0.3333333333333333,
              "#9c179e"
             ],
             [
              0.4444444444444444,
              "#bd3786"
             ],
             [
              0.5555555555555556,
              "#d8576b"
             ],
             [
              0.6666666666666666,
              "#ed7953"
             ],
             [
              0.7777777777777778,
              "#fb9f3a"
             ],
             [
              0.8888888888888888,
              "#fdca26"
             ],
             [
              1.0,
              "#f0f921"
             ]
            ]
           }
          ],
          "mesh3d": [
           {
            "type": "mesh3d",
            "colorbar": {
             "outlinewidth": 0,
             "ticks": ""
            }
           }
          ],
          "scatter": [
           {
            "fillpattern": {
             "fillmode": "overlay",
             "size": 10,
             "solidity": 0.2
            },
            "type": "scatter"
           }
          ],
          "parcoords": [
           {
            "type": "parcoords",
            "line": {
             "colorbar": {
              "outlinewidth": 0,
              "ticks": ""
             }
            }
           }
          ],
          "scatterpolargl": [
           {
            "type": "scatterpolargl",
            "marker": {
             "colorbar": {
              "outlinewidth": 0,
              "ticks": ""
             }
            }
           }
          ],
          "bar": [
           {
            "error_x": {
             "color": "#2a3f5f"
            },
            "error_y": {
             "color": "#2a3f5f"
            },
            "marker": {
             "line": {
              "color": "#E5ECF6",
              "width": 0.5
             },
             "pattern": {
              "fillmode": "overlay",
              "size": 10,
              "solidity": 0.2
             }
            },
            "type": "bar"
           }
          ],
          "scattergeo": [
           {
            "type": "scattergeo",
            "marker": {
             "colorbar": {
              "outlinewidth": 0,
              "ticks": ""
             }
            }
           }
          ],
          "scatterpolar": [
           {
            "type": "scatterpolar",
            "marker": {
             "colorbar": {
              "outlinewidth": 0,
              "ticks": ""
             }
            }
           }
          ],
          "histogram": [
           {
            "marker": {
             "pattern": {
              "fillmode": "overlay",
              "size": 10,
              "solidity": 0.2
             }
            },
            "type": "histogram"
           }
          ],
          "scattergl": [
           {
            "type": "scattergl",
            "marker": {
             "colorbar": {
              "outlinewidth": 0,
              "ticks": ""
             }
            }
           }
          ],
          "scatter3d": [
           {
            "type": "scatter3d",
            "line": {
             "colorbar": {
              "outlinewidth": 0,
              "ticks": ""
             }
            },
            "marker": {
             "colorbar": {
              "outlinewidth": 0,
              "ticks": ""
             }
            }
           }
          ],
          "scattermapbox": [
           {
            "type": "scattermapbox",
            "marker": {
             "colorbar": {
              "outlinewidth": 0,
              "ticks": ""
             }
            }
           }
          ],
          "scatterternary": [
           {
            "type": "scatterternary",
            "marker": {
             "colorbar": {
              "outlinewidth": 0,
              "ticks": ""
             }
            }
           }
          ],
          "scattercarpet": [
           {
            "type": "scattercarpet",
            "marker": {
             "colorbar": {
              "outlinewidth": 0,
              "ticks": ""
             }
            }
           }
          ],
          "carpet": [
           {
            "aaxis": {
             "endlinecolor": "#2a3f5f",
             "gridcolor": "white",
             "linecolor": "white",
             "minorgridcolor": "white",
             "startlinecolor": "#2a3f5f"
            },
            "baxis": {
             "endlinecolor": "#2a3f5f",
             "gridcolor": "white",
             "linecolor": "white",
             "minorgridcolor": "white",
             "startlinecolor": "#2a3f5f"
            },
            "type": "carpet"
           }
          ],
          "table": [
           {
            "cells": {
             "fill": {
              "color": "#EBF0F8"
             },
             "line": {
              "color": "white"
             }
            },
            "header": {
             "fill": {
              "color": "#C8D4E3"
             },
             "line": {
              "color": "white"
             }
            },
            "type": "table"
           }
          ],
          "barpolar": [
           {
            "marker": {
             "line": {
              "color": "#E5ECF6",
              "width": 0.5
             },
             "pattern": {
              "fillmode": "overlay",
              "size": 10,
              "solidity": 0.2
             }
            },
            "type": "barpolar"
           }
          ],
          "pie": [
           {
            "automargin": true,
            "type": "pie"
           }
          ]
         },
         "layout": {
          "autotypenumbers": "strict",
          "colorway": [
           "#636efa",
           "#EF553B",
           "#00cc96",
           "#ab63fa",
           "#FFA15A",
           "#19d3f3",
           "#FF6692",
           "#B6E880",
           "#FF97FF",
           "#FECB52"
          ],
          "font": {
           "color": "#2a3f5f"
          },
          "hovermode": "closest",
          "hoverlabel": {
           "align": "left"
          },
          "paper_bgcolor": "white",
          "plot_bgcolor": "#E5ECF6",
          "polar": {
           "bgcolor": "#E5ECF6",
           "angularaxis": {
            "gridcolor": "white",
            "linecolor": "white",
            "ticks": ""
           },
           "radialaxis": {
            "gridcolor": "white",
            "linecolor": "white",
            "ticks": ""
           }
          },
          "ternary": {
           "bgcolor": "#E5ECF6",
           "aaxis": {
            "gridcolor": "white",
            "linecolor": "white",
            "ticks": ""
           },
           "baxis": {
            "gridcolor": "white",
            "linecolor": "white",
            "ticks": ""
           },
           "caxis": {
            "gridcolor": "white",
            "linecolor": "white",
            "ticks": ""
           }
          },
          "coloraxis": {
           "colorbar": {
            "outlinewidth": 0,
            "ticks": ""
           }
          },
          "colorscale": {
           "sequential": [
            [
             0.0,
             "#0d0887"
            ],
            [
             0.1111111111111111,
             "#46039f"
            ],
            [
             0.2222222222222222,
             "#7201a8"
            ],
            [
             0.3333333333333333,
             "#9c179e"
            ],
            [
             0.4444444444444444,
             "#bd3786"
            ],
            [
             0.5555555555555556,
             "#d8576b"
            ],
            [
             0.6666666666666666,
             "#ed7953"
            ],
            [
             0.7777777777777778,
             "#fb9f3a"
            ],
            [
             0.8888888888888888,
             "#fdca26"
            ],
            [
             1.0,
             "#f0f921"
            ]
           ],
           "sequentialminus": [
            [
             0.0,
             "#0d0887"
            ],
            [
             0.1111111111111111,
             "#46039f"
            ],
            [
             0.2222222222222222,
             "#7201a8"
            ],
            [
             0.3333333333333333,
             "#9c179e"
            ],
            [
             0.4444444444444444,
             "#bd3786"
            ],
            [
             0.5555555555555556,
             "#d8576b"
            ],
            [
             0.6666666666666666,
             "#ed7953"
            ],
            [
             0.7777777777777778,
             "#fb9f3a"
            ],
            [
             0.8888888888888888,
             "#fdca26"
            ],
            [
             1.0,
             "#f0f921"
            ]
           ],
           "diverging": [
            [
             0,
             "#8e0152"
            ],
            [
             0.1,
             "#c51b7d"
            ],
            [
             0.2,
             "#de77ae"
            ],
            [
             0.3,
             "#f1b6da"
            ],
            [
             0.4,
             "#fde0ef"
            ],
            [
             0.5,
             "#f7f7f7"
            ],
            [
             0.6,
             "#e6f5d0"
            ],
            [
             0.7,
             "#b8e186"
            ],
            [
             0.8,
             "#7fbc41"
            ],
            [
             0.9,
             "#4d9221"
            ],
            [
             1,
             "#276419"
            ]
           ]
          },
          "xaxis": {
           "gridcolor": "white",
           "linecolor": "white",
           "ticks": "",
           "title": {
            "standoff": 15
           },
           "zerolinecolor": "white",
           "automargin": true,
           "zerolinewidth": 2
          },
          "yaxis": {
           "gridcolor": "white",
           "linecolor": "white",
           "ticks": "",
           "title": {
            "standoff": 15
           },
           "zerolinecolor": "white",
           "automargin": true,
           "zerolinewidth": 2
          },
          "scene": {
           "xaxis": {
            "backgroundcolor": "#E5ECF6",
            "gridcolor": "white",
            "linecolor": "white",
            "showbackground": true,
            "ticks": "",
            "zerolinecolor": "white",
            "gridwidth": 2
           },
           "yaxis": {
            "backgroundcolor": "#E5ECF6",
            "gridcolor": "white",
            "linecolor": "white",
            "showbackground": true,
            "ticks": "",
            "zerolinecolor": "white",
            "gridwidth": 2
           },
           "zaxis": {
            "backgroundcolor": "#E5ECF6",
            "gridcolor": "white",
            "linecolor": "white",
            "showbackground": true,
            "ticks": "",
            "zerolinecolor": "white",
            "gridwidth": 2
           }
          },
          "shapedefaults": {
           "line": {
            "color": "#2a3f5f"
           }
          },
          "annotationdefaults": {
           "arrowcolor": "#2a3f5f",
           "arrowhead": 0,
           "arrowwidth": 1
          },
          "geo": {
           "bgcolor": "white",
           "landcolor": "#E5ECF6",
           "subunitcolor": "white",
           "showland": true,
           "showlakes": true,
           "lakecolor": "white"
          },
          "title": {
           "x": 0.05
          },
          "mapbox": {
           "style": "light"
          }
         }
        },
        "annotations": [
         {
          "arrowhead": 1,
          "showarrow": true,
          "text": "The TMDB dataset has <br>5170 movies based on books or novels",
          "x": 2,
          "y": 5170
         },
         {
          "arrowhead": 1,
          "ax": 40,
          "ay": -40,
          "showarrow": true,
          "text": "after cleaning, <br>2304 movies are found <br> in the database",
          "x": 2.6,
          "y": 2304
         }
        ],
        "xaxis": {
         "tickvals": [
          0.3,
          1.3,
          2.3,
          3.3,
          4.3
         ],
         "ticktext": [
          "Sequel\ncollections",
          "Sequels",
          "Books",
          "Comics",
          "Remakes"
         ],
         "title": {
          "text": "Dataset"
         }
        },
        "title": {
         "text": "Size differences during data prepossessing"
        },
        "yaxis": {
         "title": {
          "text": "Number of movies"
         }
        },
        "barmode": "group",
        "width": 800,
        "height": 500
       },
       "config": {
        "plotlyServerURL": "https://plot.ly"
       }
      },
      "text/html": [
       "<div>                            <div id=\"4959437f-e183-4b03-9fca-22747ddf7408\" class=\"plotly-graph-div\" style=\"height:500px; width:800px;\"></div>            <script type=\"text/javascript\">                require([\"plotly\"], function(Plotly) {                    window.PLOTLYENV=window.PLOTLYENV || {};                                    if (document.getElementById(\"4959437f-e183-4b03-9fca-22747ddf7408\")) {                    Plotly.newPlot(                        \"4959437f-e183-4b03-9fca-22747ddf7408\",                        [{\"name\":\"TMDB\",\"width\":0.3,\"x\":[0,1,2,3,4],\"y\":[1831,778,5170,400,567],\"type\":\"bar\"},{\"name\":\"Wikipedia\",\"width\":0.3,\"x\":[0.3,1.3,2.3,3.3,4.3],\"y\":[1271,558,2500,183,425],\"type\":\"bar\"},{\"name\":\"After filtering\",\"width\":0.3,\"x\":[0.6,1.6,2.6,3.6,4.6],\"y\":[1181,503,2304,179,381],\"type\":\"bar\"}],                        {\"template\":{\"data\":{\"histogram2dcontour\":[{\"type\":\"histogram2dcontour\",\"colorbar\":{\"outlinewidth\":0,\"ticks\":\"\"},\"colorscale\":[[0.0,\"#0d0887\"],[0.1111111111111111,\"#46039f\"],[0.2222222222222222,\"#7201a8\"],[0.3333333333333333,\"#9c179e\"],[0.4444444444444444,\"#bd3786\"],[0.5555555555555556,\"#d8576b\"],[0.6666666666666666,\"#ed7953\"],[0.7777777777777778,\"#fb9f3a\"],[0.8888888888888888,\"#fdca26\"],[1.0,\"#f0f921\"]]}],\"choropleth\":[{\"type\":\"choropleth\",\"colorbar\":{\"outlinewidth\":0,\"ticks\":\"\"}}],\"histogram2d\":[{\"type\":\"histogram2d\",\"colorbar\":{\"outlinewidth\":0,\"ticks\":\"\"},\"colorscale\":[[0.0,\"#0d0887\"],[0.1111111111111111,\"#46039f\"],[0.2222222222222222,\"#7201a8\"],[0.3333333333333333,\"#9c179e\"],[0.4444444444444444,\"#bd3786\"],[0.5555555555555556,\"#d8576b\"],[0.6666666666666666,\"#ed7953\"],[0.7777777777777778,\"#fb9f3a\"],[0.8888888888888888,\"#fdca26\"],[1.0,\"#f0f921\"]]}],\"heatmap\":[{\"type\":\"heatmap\",\"colorbar\":{\"outlinewidth\":0,\"ticks\":\"\"},\"colorscale\":[[0.0,\"#0d0887\"],[0.1111111111111111,\"#46039f\"],[0.2222222222222222,\"#7201a8\"],[0.3333333333333333,\"#9c179e\"],[0.4444444444444444,\"#bd3786\"],[0.5555555555555556,\"#d8576b\"],[0.6666666666666666,\"#ed7953\"],[0.7777777777777778,\"#fb9f3a\"],[0.8888888888888888,\"#fdca26\"],[1.0,\"#f0f921\"]]}],\"heatmapgl\":[{\"type\":\"heatmapgl\",\"colorbar\":{\"outlinewidth\":0,\"ticks\":\"\"},\"colorscale\":[[0.0,\"#0d0887\"],[0.1111111111111111,\"#46039f\"],[0.2222222222222222,\"#7201a8\"],[0.3333333333333333,\"#9c179e\"],[0.4444444444444444,\"#bd3786\"],[0.5555555555555556,\"#d8576b\"],[0.6666666666666666,\"#ed7953\"],[0.7777777777777778,\"#fb9f3a\"],[0.8888888888888888,\"#fdca26\"],[1.0,\"#f0f921\"]]}],\"contourcarpet\":[{\"type\":\"contourcarpet\",\"colorbar\":{\"outlinewidth\":0,\"ticks\":\"\"}}],\"contour\":[{\"type\":\"contour\",\"colorbar\":{\"outlinewidth\":0,\"ticks\":\"\"},\"colorscale\":[[0.0,\"#0d0887\"],[0.1111111111111111,\"#46039f\"],[0.2222222222222222,\"#7201a8\"],[0.3333333333333333,\"#9c179e\"],[0.4444444444444444,\"#bd3786\"],[0.5555555555555556,\"#d8576b\"],[0.6666666666666666,\"#ed7953\"],[0.7777777777777778,\"#fb9f3a\"],[0.8888888888888888,\"#fdca26\"],[1.0,\"#f0f921\"]]}],\"surface\":[{\"type\":\"surface\",\"colorbar\":{\"outlinewidth\":0,\"ticks\":\"\"},\"colorscale\":[[0.0,\"#0d0887\"],[0.1111111111111111,\"#46039f\"],[0.2222222222222222,\"#7201a8\"],[0.3333333333333333,\"#9c179e\"],[0.4444444444444444,\"#bd3786\"],[0.5555555555555556,\"#d8576b\"],[0.6666666666666666,\"#ed7953\"],[0.7777777777777778,\"#fb9f3a\"],[0.8888888888888888,\"#fdca26\"],[1.0,\"#f0f921\"]]}],\"mesh3d\":[{\"type\":\"mesh3d\",\"colorbar\":{\"outlinewidth\":0,\"ticks\":\"\"}}],\"scatter\":[{\"fillpattern\":{\"fillmode\":\"overlay\",\"size\":10,\"solidity\":0.2},\"type\":\"scatter\"}],\"parcoords\":[{\"type\":\"parcoords\",\"line\":{\"colorbar\":{\"outlinewidth\":0,\"ticks\":\"\"}}}],\"scatterpolargl\":[{\"type\":\"scatterpolargl\",\"marker\":{\"colorbar\":{\"outlinewidth\":0,\"ticks\":\"\"}}}],\"bar\":[{\"error_x\":{\"color\":\"#2a3f5f\"},\"error_y\":{\"color\":\"#2a3f5f\"},\"marker\":{\"line\":{\"color\":\"#E5ECF6\",\"width\":0.5},\"pattern\":{\"fillmode\":\"overlay\",\"size\":10,\"solidity\":0.2}},\"type\":\"bar\"}],\"scattergeo\":[{\"type\":\"scattergeo\",\"marker\":{\"colorbar\":{\"outlinewidth\":0,\"ticks\":\"\"}}}],\"scatterpolar\":[{\"type\":\"scatterpolar\",\"marker\":{\"colorbar\":{\"outlinewidth\":0,\"ticks\":\"\"}}}],\"histogram\":[{\"marker\":{\"pattern\":{\"fillmode\":\"overlay\",\"size\":10,\"solidity\":0.2}},\"type\":\"histogram\"}],\"scattergl\":[{\"type\":\"scattergl\",\"marker\":{\"colorbar\":{\"outlinewidth\":0,\"ticks\":\"\"}}}],\"scatter3d\":[{\"type\":\"scatter3d\",\"line\":{\"colorbar\":{\"outlinewidth\":0,\"ticks\":\"\"}},\"marker\":{\"colorbar\":{\"outlinewidth\":0,\"ticks\":\"\"}}}],\"scattermapbox\":[{\"type\":\"scattermapbox\",\"marker\":{\"colorbar\":{\"outlinewidth\":0,\"ticks\":\"\"}}}],\"scatterternary\":[{\"type\":\"scatterternary\",\"marker\":{\"colorbar\":{\"outlinewidth\":0,\"ticks\":\"\"}}}],\"scattercarpet\":[{\"type\":\"scattercarpet\",\"marker\":{\"colorbar\":{\"outlinewidth\":0,\"ticks\":\"\"}}}],\"carpet\":[{\"aaxis\":{\"endlinecolor\":\"#2a3f5f\",\"gridcolor\":\"white\",\"linecolor\":\"white\",\"minorgridcolor\":\"white\",\"startlinecolor\":\"#2a3f5f\"},\"baxis\":{\"endlinecolor\":\"#2a3f5f\",\"gridcolor\":\"white\",\"linecolor\":\"white\",\"minorgridcolor\":\"white\",\"startlinecolor\":\"#2a3f5f\"},\"type\":\"carpet\"}],\"table\":[{\"cells\":{\"fill\":{\"color\":\"#EBF0F8\"},\"line\":{\"color\":\"white\"}},\"header\":{\"fill\":{\"color\":\"#C8D4E3\"},\"line\":{\"color\":\"white\"}},\"type\":\"table\"}],\"barpolar\":[{\"marker\":{\"line\":{\"color\":\"#E5ECF6\",\"width\":0.5},\"pattern\":{\"fillmode\":\"overlay\",\"size\":10,\"solidity\":0.2}},\"type\":\"barpolar\"}],\"pie\":[{\"automargin\":true,\"type\":\"pie\"}]},\"layout\":{\"autotypenumbers\":\"strict\",\"colorway\":[\"#636efa\",\"#EF553B\",\"#00cc96\",\"#ab63fa\",\"#FFA15A\",\"#19d3f3\",\"#FF6692\",\"#B6E880\",\"#FF97FF\",\"#FECB52\"],\"font\":{\"color\":\"#2a3f5f\"},\"hovermode\":\"closest\",\"hoverlabel\":{\"align\":\"left\"},\"paper_bgcolor\":\"white\",\"plot_bgcolor\":\"#E5ECF6\",\"polar\":{\"bgcolor\":\"#E5ECF6\",\"angularaxis\":{\"gridcolor\":\"white\",\"linecolor\":\"white\",\"ticks\":\"\"},\"radialaxis\":{\"gridcolor\":\"white\",\"linecolor\":\"white\",\"ticks\":\"\"}},\"ternary\":{\"bgcolor\":\"#E5ECF6\",\"aaxis\":{\"gridcolor\":\"white\",\"linecolor\":\"white\",\"ticks\":\"\"},\"baxis\":{\"gridcolor\":\"white\",\"linecolor\":\"white\",\"ticks\":\"\"},\"caxis\":{\"gridcolor\":\"white\",\"linecolor\":\"white\",\"ticks\":\"\"}},\"coloraxis\":{\"colorbar\":{\"outlinewidth\":0,\"ticks\":\"\"}},\"colorscale\":{\"sequential\":[[0.0,\"#0d0887\"],[0.1111111111111111,\"#46039f\"],[0.2222222222222222,\"#7201a8\"],[0.3333333333333333,\"#9c179e\"],[0.4444444444444444,\"#bd3786\"],[0.5555555555555556,\"#d8576b\"],[0.6666666666666666,\"#ed7953\"],[0.7777777777777778,\"#fb9f3a\"],[0.8888888888888888,\"#fdca26\"],[1.0,\"#f0f921\"]],\"sequentialminus\":[[0.0,\"#0d0887\"],[0.1111111111111111,\"#46039f\"],[0.2222222222222222,\"#7201a8\"],[0.3333333333333333,\"#9c179e\"],[0.4444444444444444,\"#bd3786\"],[0.5555555555555556,\"#d8576b\"],[0.6666666666666666,\"#ed7953\"],[0.7777777777777778,\"#fb9f3a\"],[0.8888888888888888,\"#fdca26\"],[1.0,\"#f0f921\"]],\"diverging\":[[0,\"#8e0152\"],[0.1,\"#c51b7d\"],[0.2,\"#de77ae\"],[0.3,\"#f1b6da\"],[0.4,\"#fde0ef\"],[0.5,\"#f7f7f7\"],[0.6,\"#e6f5d0\"],[0.7,\"#b8e186\"],[0.8,\"#7fbc41\"],[0.9,\"#4d9221\"],[1,\"#276419\"]]},\"xaxis\":{\"gridcolor\":\"white\",\"linecolor\":\"white\",\"ticks\":\"\",\"title\":{\"standoff\":15},\"zerolinecolor\":\"white\",\"automargin\":true,\"zerolinewidth\":2},\"yaxis\":{\"gridcolor\":\"white\",\"linecolor\":\"white\",\"ticks\":\"\",\"title\":{\"standoff\":15},\"zerolinecolor\":\"white\",\"automargin\":true,\"zerolinewidth\":2},\"scene\":{\"xaxis\":{\"backgroundcolor\":\"#E5ECF6\",\"gridcolor\":\"white\",\"linecolor\":\"white\",\"showbackground\":true,\"ticks\":\"\",\"zerolinecolor\":\"white\",\"gridwidth\":2},\"yaxis\":{\"backgroundcolor\":\"#E5ECF6\",\"gridcolor\":\"white\",\"linecolor\":\"white\",\"showbackground\":true,\"ticks\":\"\",\"zerolinecolor\":\"white\",\"gridwidth\":2},\"zaxis\":{\"backgroundcolor\":\"#E5ECF6\",\"gridcolor\":\"white\",\"linecolor\":\"white\",\"showbackground\":true,\"ticks\":\"\",\"zerolinecolor\":\"white\",\"gridwidth\":2}},\"shapedefaults\":{\"line\":{\"color\":\"#2a3f5f\"}},\"annotationdefaults\":{\"arrowcolor\":\"#2a3f5f\",\"arrowhead\":0,\"arrowwidth\":1},\"geo\":{\"bgcolor\":\"white\",\"landcolor\":\"#E5ECF6\",\"subunitcolor\":\"white\",\"showland\":true,\"showlakes\":true,\"lakecolor\":\"white\"},\"title\":{\"x\":0.05},\"mapbox\":{\"style\":\"light\"}}},\"annotations\":[{\"arrowhead\":1,\"showarrow\":true,\"text\":\"The TMDB dataset has \\u003cbr\\u003e5170 movies based on books or novels\",\"x\":2,\"y\":5170},{\"arrowhead\":1,\"ax\":40,\"ay\":-40,\"showarrow\":true,\"text\":\"after cleaning, \\u003cbr\\u003e2304 movies are found \\u003cbr\\u003e in the database\",\"x\":2.6,\"y\":2304}],\"xaxis\":{\"tickvals\":[0.3,1.3,2.3,3.3,4.3],\"ticktext\":[\"Sequel\\ncollections\",\"Sequels\",\"Books\",\"Comics\",\"Remakes\"],\"title\":{\"text\":\"Dataset\"}},\"title\":{\"text\":\"Size differences during data prepossessing\"},\"yaxis\":{\"title\":{\"text\":\"Number of movies\"}},\"barmode\":\"group\",\"width\":800,\"height\":500},                        {\"responsive\": true}                    ).then(function(){\n",
       "                            \n",
       "var gd = document.getElementById('4959437f-e183-4b03-9fca-22747ddf7408');\n",
       "var x = new MutationObserver(function (mutations, observer) {{\n",
       "        var display = window.getComputedStyle(gd).display;\n",
       "        if (!display || display === 'none') {{\n",
       "            console.log([gd, 'removed!']);\n",
       "            Plotly.purge(gd);\n",
       "            observer.disconnect();\n",
       "        }}\n",
       "}});\n",
       "\n",
       "// Listen for the removal of the full notebook cells\n",
       "var notebookContainer = gd.closest('#notebook-container');\n",
       "if (notebookContainer) {{\n",
       "    x.observe(notebookContainer, {childList: true});\n",
       "}}\n",
       "\n",
       "// Listen for the clearing of the current output cell\n",
       "var outputEl = gd.closest('.output');\n",
       "if (outputEl) {{\n",
       "    x.observe(outputEl, {childList: true});\n",
       "}}\n",
       "\n",
       "                        })                };                });            </script>        </div>"
      ]
     },
     "metadata": {},
     "output_type": "display_data"
    }
   ],
   "execution_count": 275
  },
  {
   "cell_type": "markdown",
   "id": "ec208912f78269f7",
   "metadata": {},
   "source": [
    "### 2.1 How many sequels are there compared to movies "
   ]
  },
  {
   "cell_type": "markdown",
   "id": "53654302",
   "metadata": {},
   "source": [
    "Groups the movies by 5-year intervals, counts how many movies fall into each interval, and returns the string representation of the interval labels. The first cell shows the result for data between 1880 and 2010, the second cell will show results between 2010-2024 when it will work."
   ]
  },
  {
   "cell_type": "markdown",
   "id": "2123d6aa",
   "metadata": {},
   "source": [
    "Plot of number of movies per 5 year (left figure) VS. Plot of number of movies with sequels per 5 year (right figure)"
   ]
  },
  {
   "cell_type": "code",
   "id": "291aae8c32a635ee",
   "metadata": {
    "ExecuteTime": {
     "end_time": "2024-12-13T22:51:50.866640Z",
     "start_time": "2024-12-13T22:51:50.670371Z"
    }
   },
   "source": [
    "from src.models.movie_counter import get_movie_counter_figure\n",
    "\n",
    "#Plot figure 1 (left):  number of movies per 5 years\n",
    "fig = get_movie_counter_figure(movie_frames_old)\n",
    "fig\n"
   ],
   "outputs": [
    {
     "data": {
      "application/vnd.plotly.v1+json": {
       "data": [
        {
         "marker": {
          "color": "#8e2c50"
         },
         "visible": "legendonly",
         "x": [
          "1880, 1885",
          "1885, 1890",
          "1890, 1895",
          "1895, 1900",
          "1900, 1905",
          "1905, 1910",
          "1910, 1915",
          "1915, 1920",
          "1920, 1925",
          "1925, 1930",
          "1930, 1935",
          "1935, 1940",
          "1940, 1945",
          "1945, 1950",
          "1950, 1955",
          "1955, 1960",
          "1960, 1965",
          "1965, 1970",
          "1970, 1975",
          "1975, 1980",
          "1980, 1985",
          "1985, 1990",
          "1990, 1995",
          "1995, 2000",
          "2000, 2005",
          "2005, 2010"
         ],
         "y": [
          0,
          4,
          36,
          144,
          53,
          151,
          1340,
          1612,
          1336,
          1568,
          2341,
          2609,
          2221,
          2340,
          2900,
          2757,
          2908,
          3078,
          3433,
          3324,
          3493,
          4033,
          4396,
          5545,
          8453,
          11557
         ],
         "type": "bar"
        },
        {
         "marker": {
          "color": "#9ebbc9"
         },
         "visible": "legendonly",
         "x": [
          "1880, 1885",
          "1885, 1890",
          "1890, 1895",
          "1895, 1900",
          "1900, 1905",
          "1905, 1910",
          "1910, 1915",
          "1915, 1920",
          "1920, 1925",
          "1925, 1930",
          "1930, 1935",
          "1935, 1940",
          "1940, 1945",
          "1945, 1950",
          "1950, 1955",
          "1955, 1960",
          "1960, 1965",
          "1965, 1970",
          "1970, 1975",
          "1975, 1980",
          "1980, 1985",
          "1985, 1990",
          "1990, 1995",
          "1995, 2000",
          "2000, 2005",
          "2005, 2010"
         ],
         "y": [
          0,
          0,
          0,
          0,
          0,
          1,
          0,
          1,
          2,
          0,
          5,
          10,
          13,
          6,
          11,
          14,
          15,
          23,
          31,
          34,
          39,
          68,
          57,
          51,
          59,
          54
         ],
         "type": "bar"
        },
        {
         "marker": {
          "color": "#6785be"
         },
         "visible": "legendonly",
         "x": [
          "1880, 1885",
          "1885, 1890",
          "1890, 1895",
          "1895, 1900",
          "1900, 1905",
          "1905, 1910",
          "1910, 1915",
          "1915, 1920",
          "1920, 1925",
          "1925, 1930",
          "1930, 1935",
          "1935, 1940",
          "1940, 1945",
          "1945, 1950",
          "1950, 1955",
          "1955, 1960",
          "1960, 1965",
          "1965, 1970",
          "1970, 1975",
          "1975, 1980",
          "1980, 1985",
          "1985, 1990",
          "1990, 1995",
          "1995, 2000",
          "2000, 2005",
          "2005, 2010"
         ],
         "y": [
          0,
          0,
          0,
          0,
          3,
          6,
          4,
          21,
          28,
          36,
          75,
          76,
          53,
          90,
          80,
          136,
          141,
          159,
          157,
          143,
          161,
          147,
          138,
          195,
          209,
          189
         ],
         "type": "bar"
        },
        {
         "marker": {
          "color": "#5e43a5"
         },
         "visible": "legendonly",
         "x": [
          "1880, 1885",
          "1885, 1890",
          "1890, 1895",
          "1895, 1900",
          "1900, 1905",
          "1905, 1910",
          "1910, 1915",
          "1915, 1920",
          "1920, 1925",
          "1925, 1930",
          "1930, 1935",
          "1935, 1940",
          "1940, 1945",
          "1945, 1950",
          "1950, 1955",
          "1955, 1960",
          "1960, 1965",
          "1965, 1970",
          "1970, 1975",
          "1975, 1980",
          "1980, 1985",
          "1985, 1990",
          "1990, 1995",
          "1995, 2000",
          "2000, 2005",
          "2005, 2010"
         ],
         "y": [
          0,
          0,
          0,
          0,
          0,
          0,
          0,
          0,
          0,
          0,
          0,
          1,
          2,
          0,
          2,
          0,
          1,
          4,
          4,
          7,
          11,
          11,
          17,
          16,
          31,
          45
         ],
         "type": "bar"
        },
        {
         "marker": {
          "color": "#421257"
         },
         "visible": "legendonly",
         "x": [
          "1880, 1885",
          "1885, 1890",
          "1890, 1895",
          "1895, 1900",
          "1900, 1905",
          "1905, 1910",
          "1910, 1915",
          "1915, 1920",
          "1920, 1925",
          "1925, 1930",
          "1930, 1935",
          "1935, 1940",
          "1940, 1945",
          "1945, 1950",
          "1950, 1955",
          "1955, 1960",
          "1960, 1965",
          "1965, 1970",
          "1970, 1975",
          "1975, 1980",
          "1980, 1985",
          "1985, 1990",
          "1990, 1995",
          "1995, 2000",
          "2000, 2005",
          "2005, 2010"
         ],
         "y": [
          0,
          0,
          0,
          2,
          0,
          0,
          0,
          0,
          4,
          5,
          9,
          10,
          7,
          11,
          14,
          16,
          14,
          8,
          7,
          13,
          22,
          29,
          27,
          33,
          69,
          69
         ],
         "type": "bar"
        },
        {
         "marker": {
          "color": "#471340"
         },
         "visible": "legendonly",
         "x": [
          "1880, 1885",
          "1885, 1890",
          "1890, 1895",
          "1895, 1900",
          "1900, 1905",
          "1905, 1910",
          "1910, 1915",
          "1915, 1920",
          "1920, 1925",
          "1925, 1930",
          "1930, 1935",
          "1935, 1940",
          "1940, 1945",
          "1945, 1950",
          "1950, 1955",
          "1955, 1960",
          "1960, 1965",
          "1965, 1970",
          "1970, 1975",
          "1975, 1980",
          "1980, 1985",
          "1985, 1990",
          "1990, 1995",
          "1995, 2000",
          "2000, 2005",
          "2005, 2010"
         ],
         "y": [
          0,
          0,
          0,
          2,
          3,
          7,
          4,
          22,
          34,
          41,
          89,
          97,
          75,
          107,
          107,
          166,
          171,
          194,
          199,
          197,
          233,
          255,
          239,
          295,
          368,
          357
         ],
         "type": "bar"
        }
       ],
       "layout": {
        "title": {
         "text": "Number of movies per 5 years splits"
        },
        "updatemenus": [
         {
          "buttons": [
           {
            "args": [
             {
              "visible": [
               true,
               false,
               false,
               false,
               false,
               false
              ]
             },
             {
              "yaxis": {
               "range": [
                0,
                11657
               ],
               "title": "Number of movies"
              }
             },
             {
              "xaxis": {
               "title": "Year",
               "tickangle": 45
              }
             }
            ],
            "label": "Movies",
            "method": "update"
           },
           {
            "args": [
             {
              "visible": [
               false,
               true,
               false,
               false,
               false,
               false
              ]
             },
             {
              "yaxis": {
               "range": [
                0,
                209
               ],
               "title": "Number of movies"
              }
             },
             {
              "xaxis": {
               "title": "Year",
               "tickangle": 45
              }
             }
            ],
            "label": "Sequels",
            "method": "update"
           },
           {
            "args": [
             {
              "visible": [
               false,
               false,
               true,
               false,
               false,
               false
              ]
             },
             {
              "yaxis": {
               "range": [
                0,
                209
               ],
               "title": "Number of movies"
              }
             },
             {
              "xaxis": {
               "title": "Year",
               "tickangle": 45
              }
             }
            ],
            "label": "Books",
            "method": "update"
           },
           {
            "args": [
             {
              "visible": [
               false,
               false,
               false,
               true,
               false,
               false
              ]
             },
             {
              "yaxis": {
               "range": [
                0,
                209
               ],
               "title": "Number of movies"
              }
             },
             {
              "xaxis": {
               "title": "Year",
               "tickangle": 45
              }
             }
            ],
            "label": "Comics",
            "method": "update"
           },
           {
            "args": [
             {
              "visible": [
               false,
               false,
               false,
               false,
               true,
               false
              ]
             },
             {
              "yaxis": {
               "range": [
                0,
                209
               ],
               "title": "Number of movies"
              }
             },
             {
              "xaxis": {
               "title": "Year",
               "tickangle": 45
              }
             }
            ],
            "label": "Remakes",
            "method": "update"
           },
           {
            "args": [
             {
              "visible": [
               false,
               false,
               false,
               false,
               false,
               true
              ]
             },
             {
              "yaxis": {
               "range": [
                0,
                378
               ],
               "title": "Number of movies"
              }
             },
             {
              "xaxis": {
               "title": "Year",
               "tickangle": 45
              }
             }
            ],
            "label": "All non-original movies",
            "method": "update"
           }
          ],
          "direction": "left",
          "pad": {
           "r": 10,
           "t": 10
          },
          "showactive": true,
          "type": "buttons",
          "x": 0,
          "xanchor": "left",
          "y": 1.2,
          "yanchor": "top"
         }
        ],
        "xaxis": {
         "tickangle": 45,
         "tickvals": [
          "1880, 1885",
          "1885, 1890",
          "1890, 1895",
          "1895, 1900",
          "1900, 1905",
          "1905, 1910",
          "1910, 1915",
          "1915, 1920",
          "1920, 1925",
          "1925, 1930",
          "1930, 1935",
          "1935, 1940",
          "1940, 1945",
          "1945, 1950",
          "1950, 1955",
          "1955, 1960",
          "1960, 1965",
          "1965, 1970",
          "1970, 1975",
          "1975, 1980",
          "1980, 1985",
          "1985, 1990",
          "1990, 1995",
          "1995, 2000",
          "2000, 2005",
          "2005, 2010"
         ],
         "title": {
          "text": "Year"
         }
        },
        "template": {
         "data": {
          "histogram2dcontour": [
           {
            "type": "histogram2dcontour",
            "colorbar": {
             "outlinewidth": 0,
             "ticks": ""
            },
            "colorscale": [
             [
              0.0,
              "#0d0887"
             ],
             [
              0.1111111111111111,
              "#46039f"
             ],
             [
              0.2222222222222222,
              "#7201a8"
             ],
             [
              0.3333333333333333,
              "#9c179e"
             ],
             [
              0.4444444444444444,
              "#bd3786"
             ],
             [
              0.5555555555555556,
              "#d8576b"
             ],
             [
              0.6666666666666666,
              "#ed7953"
             ],
             [
              0.7777777777777778,
              "#fb9f3a"
             ],
             [
              0.8888888888888888,
              "#fdca26"
             ],
             [
              1.0,
              "#f0f921"
             ]
            ]
           }
          ],
          "choropleth": [
           {
            "type": "choropleth",
            "colorbar": {
             "outlinewidth": 0,
             "ticks": ""
            }
           }
          ],
          "histogram2d": [
           {
            "type": "histogram2d",
            "colorbar": {
             "outlinewidth": 0,
             "ticks": ""
            },
            "colorscale": [
             [
              0.0,
              "#0d0887"
             ],
             [
              0.1111111111111111,
              "#46039f"
             ],
             [
              0.2222222222222222,
              "#7201a8"
             ],
             [
              0.3333333333333333,
              "#9c179e"
             ],
             [
              0.4444444444444444,
              "#bd3786"
             ],
             [
              0.5555555555555556,
              "#d8576b"
             ],
             [
              0.6666666666666666,
              "#ed7953"
             ],
             [
              0.7777777777777778,
              "#fb9f3a"
             ],
             [
              0.8888888888888888,
              "#fdca26"
             ],
             [
              1.0,
              "#f0f921"
             ]
            ]
           }
          ],
          "heatmap": [
           {
            "type": "heatmap",
            "colorbar": {
             "outlinewidth": 0,
             "ticks": ""
            },
            "colorscale": [
             [
              0.0,
              "#0d0887"
             ],
             [
              0.1111111111111111,
              "#46039f"
             ],
             [
              0.2222222222222222,
              "#7201a8"
             ],
             [
              0.3333333333333333,
              "#9c179e"
             ],
             [
              0.4444444444444444,
              "#bd3786"
             ],
             [
              0.5555555555555556,
              "#d8576b"
             ],
             [
              0.6666666666666666,
              "#ed7953"
             ],
             [
              0.7777777777777778,
              "#fb9f3a"
             ],
             [
              0.8888888888888888,
              "#fdca26"
             ],
             [
              1.0,
              "#f0f921"
             ]
            ]
           }
          ],
          "heatmapgl": [
           {
            "type": "heatmapgl",
            "colorbar": {
             "outlinewidth": 0,
             "ticks": ""
            },
            "colorscale": [
             [
              0.0,
              "#0d0887"
             ],
             [
              0.1111111111111111,
              "#46039f"
             ],
             [
              0.2222222222222222,
              "#7201a8"
             ],
             [
              0.3333333333333333,
              "#9c179e"
             ],
             [
              0.4444444444444444,
              "#bd3786"
             ],
             [
              0.5555555555555556,
              "#d8576b"
             ],
             [
              0.6666666666666666,
              "#ed7953"
             ],
             [
              0.7777777777777778,
              "#fb9f3a"
             ],
             [
              0.8888888888888888,
              "#fdca26"
             ],
             [
              1.0,
              "#f0f921"
             ]
            ]
           }
          ],
          "contourcarpet": [
           {
            "type": "contourcarpet",
            "colorbar": {
             "outlinewidth": 0,
             "ticks": ""
            }
           }
          ],
          "contour": [
           {
            "type": "contour",
            "colorbar": {
             "outlinewidth": 0,
             "ticks": ""
            },
            "colorscale": [
             [
              0.0,
              "#0d0887"
             ],
             [
              0.1111111111111111,
              "#46039f"
             ],
             [
              0.2222222222222222,
              "#7201a8"
             ],
             [
              0.3333333333333333,
              "#9c179e"
             ],
             [
              0.4444444444444444,
              "#bd3786"
             ],
             [
              0.5555555555555556,
              "#d8576b"
             ],
             [
              0.6666666666666666,
              "#ed7953"
             ],
             [
              0.7777777777777778,
              "#fb9f3a"
             ],
             [
              0.8888888888888888,
              "#fdca26"
             ],
             [
              1.0,
              "#f0f921"
             ]
            ]
           }
          ],
          "surface": [
           {
            "type": "surface",
            "colorbar": {
             "outlinewidth": 0,
             "ticks": ""
            },
            "colorscale": [
             [
              0.0,
              "#0d0887"
             ],
             [
              0.1111111111111111,
              "#46039f"
             ],
             [
              0.2222222222222222,
              "#7201a8"
             ],
             [
              0.3333333333333333,
              "#9c179e"
             ],
             [
              0.4444444444444444,
              "#bd3786"
             ],
             [
              0.5555555555555556,
              "#d8576b"
             ],
             [
              0.6666666666666666,
              "#ed7953"
             ],
             [
              0.7777777777777778,
              "#fb9f3a"
             ],
             [
              0.8888888888888888,
              "#fdca26"
             ],
             [
              1.0,
              "#f0f921"
             ]
            ]
           }
          ],
          "mesh3d": [
           {
            "type": "mesh3d",
            "colorbar": {
             "outlinewidth": 0,
             "ticks": ""
            }
           }
          ],
          "scatter": [
           {
            "fillpattern": {
             "fillmode": "overlay",
             "size": 10,
             "solidity": 0.2
            },
            "type": "scatter"
           }
          ],
          "parcoords": [
           {
            "type": "parcoords",
            "line": {
             "colorbar": {
              "outlinewidth": 0,
              "ticks": ""
             }
            }
           }
          ],
          "scatterpolargl": [
           {
            "type": "scatterpolargl",
            "marker": {
             "colorbar": {
              "outlinewidth": 0,
              "ticks": ""
             }
            }
           }
          ],
          "bar": [
           {
            "error_x": {
             "color": "#2a3f5f"
            },
            "error_y": {
             "color": "#2a3f5f"
            },
            "marker": {
             "line": {
              "color": "#E5ECF6",
              "width": 0.5
             },
             "pattern": {
              "fillmode": "overlay",
              "size": 10,
              "solidity": 0.2
             }
            },
            "type": "bar"
           }
          ],
          "scattergeo": [
           {
            "type": "scattergeo",
            "marker": {
             "colorbar": {
              "outlinewidth": 0,
              "ticks": ""
             }
            }
           }
          ],
          "scatterpolar": [
           {
            "type": "scatterpolar",
            "marker": {
             "colorbar": {
              "outlinewidth": 0,
              "ticks": ""
             }
            }
           }
          ],
          "histogram": [
           {
            "marker": {
             "pattern": {
              "fillmode": "overlay",
              "size": 10,
              "solidity": 0.2
             }
            },
            "type": "histogram"
           }
          ],
          "scattergl": [
           {
            "type": "scattergl",
            "marker": {
             "colorbar": {
              "outlinewidth": 0,
              "ticks": ""
             }
            }
           }
          ],
          "scatter3d": [
           {
            "type": "scatter3d",
            "line": {
             "colorbar": {
              "outlinewidth": 0,
              "ticks": ""
             }
            },
            "marker": {
             "colorbar": {
              "outlinewidth": 0,
              "ticks": ""
             }
            }
           }
          ],
          "scattermapbox": [
           {
            "type": "scattermapbox",
            "marker": {
             "colorbar": {
              "outlinewidth": 0,
              "ticks": ""
             }
            }
           }
          ],
          "scatterternary": [
           {
            "type": "scatterternary",
            "marker": {
             "colorbar": {
              "outlinewidth": 0,
              "ticks": ""
             }
            }
           }
          ],
          "scattercarpet": [
           {
            "type": "scattercarpet",
            "marker": {
             "colorbar": {
              "outlinewidth": 0,
              "ticks": ""
             }
            }
           }
          ],
          "carpet": [
           {
            "aaxis": {
             "endlinecolor": "#2a3f5f",
             "gridcolor": "white",
             "linecolor": "white",
             "minorgridcolor": "white",
             "startlinecolor": "#2a3f5f"
            },
            "baxis": {
             "endlinecolor": "#2a3f5f",
             "gridcolor": "white",
             "linecolor": "white",
             "minorgridcolor": "white",
             "startlinecolor": "#2a3f5f"
            },
            "type": "carpet"
           }
          ],
          "table": [
           {
            "cells": {
             "fill": {
              "color": "#EBF0F8"
             },
             "line": {
              "color": "white"
             }
            },
            "header": {
             "fill": {
              "color": "#C8D4E3"
             },
             "line": {
              "color": "white"
             }
            },
            "type": "table"
           }
          ],
          "barpolar": [
           {
            "marker": {
             "line": {
              "color": "#E5ECF6",
              "width": 0.5
             },
             "pattern": {
              "fillmode": "overlay",
              "size": 10,
              "solidity": 0.2
             }
            },
            "type": "barpolar"
           }
          ],
          "pie": [
           {
            "automargin": true,
            "type": "pie"
           }
          ]
         },
         "layout": {
          "autotypenumbers": "strict",
          "colorway": [
           "#636efa",
           "#EF553B",
           "#00cc96",
           "#ab63fa",
           "#FFA15A",
           "#19d3f3",
           "#FF6692",
           "#B6E880",
           "#FF97FF",
           "#FECB52"
          ],
          "font": {
           "color": "#2a3f5f"
          },
          "hovermode": "closest",
          "hoverlabel": {
           "align": "left"
          },
          "paper_bgcolor": "white",
          "plot_bgcolor": "#E5ECF6",
          "polar": {
           "bgcolor": "#E5ECF6",
           "angularaxis": {
            "gridcolor": "white",
            "linecolor": "white",
            "ticks": ""
           },
           "radialaxis": {
            "gridcolor": "white",
            "linecolor": "white",
            "ticks": ""
           }
          },
          "ternary": {
           "bgcolor": "#E5ECF6",
           "aaxis": {
            "gridcolor": "white",
            "linecolor": "white",
            "ticks": ""
           },
           "baxis": {
            "gridcolor": "white",
            "linecolor": "white",
            "ticks": ""
           },
           "caxis": {
            "gridcolor": "white",
            "linecolor": "white",
            "ticks": ""
           }
          },
          "coloraxis": {
           "colorbar": {
            "outlinewidth": 0,
            "ticks": ""
           }
          },
          "colorscale": {
           "sequential": [
            [
             0.0,
             "#0d0887"
            ],
            [
             0.1111111111111111,
             "#46039f"
            ],
            [
             0.2222222222222222,
             "#7201a8"
            ],
            [
             0.3333333333333333,
             "#9c179e"
            ],
            [
             0.4444444444444444,
             "#bd3786"
            ],
            [
             0.5555555555555556,
             "#d8576b"
            ],
            [
             0.6666666666666666,
             "#ed7953"
            ],
            [
             0.7777777777777778,
             "#fb9f3a"
            ],
            [
             0.8888888888888888,
             "#fdca26"
            ],
            [
             1.0,
             "#f0f921"
            ]
           ],
           "sequentialminus": [
            [
             0.0,
             "#0d0887"
            ],
            [
             0.1111111111111111,
             "#46039f"
            ],
            [
             0.2222222222222222,
             "#7201a8"
            ],
            [
             0.3333333333333333,
             "#9c179e"
            ],
            [
             0.4444444444444444,
             "#bd3786"
            ],
            [
             0.5555555555555556,
             "#d8576b"
            ],
            [
             0.6666666666666666,
             "#ed7953"
            ],
            [
             0.7777777777777778,
             "#fb9f3a"
            ],
            [
             0.8888888888888888,
             "#fdca26"
            ],
            [
             1.0,
             "#f0f921"
            ]
           ],
           "diverging": [
            [
             0,
             "#8e0152"
            ],
            [
             0.1,
             "#c51b7d"
            ],
            [
             0.2,
             "#de77ae"
            ],
            [
             0.3,
             "#f1b6da"
            ],
            [
             0.4,
             "#fde0ef"
            ],
            [
             0.5,
             "#f7f7f7"
            ],
            [
             0.6,
             "#e6f5d0"
            ],
            [
             0.7,
             "#b8e186"
            ],
            [
             0.8,
             "#7fbc41"
            ],
            [
             0.9,
             "#4d9221"
            ],
            [
             1,
             "#276419"
            ]
           ]
          },
          "xaxis": {
           "gridcolor": "white",
           "linecolor": "white",
           "ticks": "",
           "title": {
            "standoff": 15
           },
           "zerolinecolor": "white",
           "automargin": true,
           "zerolinewidth": 2
          },
          "yaxis": {
           "gridcolor": "white",
           "linecolor": "white",
           "ticks": "",
           "title": {
            "standoff": 15
           },
           "zerolinecolor": "white",
           "automargin": true,
           "zerolinewidth": 2
          },
          "scene": {
           "xaxis": {
            "backgroundcolor": "#E5ECF6",
            "gridcolor": "white",
            "linecolor": "white",
            "showbackground": true,
            "ticks": "",
            "zerolinecolor": "white",
            "gridwidth": 2
           },
           "yaxis": {
            "backgroundcolor": "#E5ECF6",
            "gridcolor": "white",
            "linecolor": "white",
            "showbackground": true,
            "ticks": "",
            "zerolinecolor": "white",
            "gridwidth": 2
           },
           "zaxis": {
            "backgroundcolor": "#E5ECF6",
            "gridcolor": "white",
            "linecolor": "white",
            "showbackground": true,
            "ticks": "",
            "zerolinecolor": "white",
            "gridwidth": 2
           }
          },
          "shapedefaults": {
           "line": {
            "color": "#2a3f5f"
           }
          },
          "annotationdefaults": {
           "arrowcolor": "#2a3f5f",
           "arrowhead": 0,
           "arrowwidth": 1
          },
          "geo": {
           "bgcolor": "white",
           "landcolor": "#E5ECF6",
           "subunitcolor": "white",
           "showland": true,
           "showlakes": true,
           "lakecolor": "white"
          },
          "title": {
           "x": 0.05
          },
          "mapbox": {
           "style": "light"
          }
         }
        }
       },
       "config": {
        "plotlyServerURL": "https://plot.ly"
       }
      },
      "text/html": [
       "<div>                            <div id=\"44f13716-e49d-45d7-b1e6-5a34cb8d2b98\" class=\"plotly-graph-div\" style=\"height:525px; width:100%;\"></div>            <script type=\"text/javascript\">                require([\"plotly\"], function(Plotly) {                    window.PLOTLYENV=window.PLOTLYENV || {};                                    if (document.getElementById(\"44f13716-e49d-45d7-b1e6-5a34cb8d2b98\")) {                    Plotly.newPlot(                        \"44f13716-e49d-45d7-b1e6-5a34cb8d2b98\",                        [{\"marker\":{\"color\":\"#8e2c50\"},\"visible\":\"legendonly\",\"x\":[\"1880, 1885\",\"1885, 1890\",\"1890, 1895\",\"1895, 1900\",\"1900, 1905\",\"1905, 1910\",\"1910, 1915\",\"1915, 1920\",\"1920, 1925\",\"1925, 1930\",\"1930, 1935\",\"1935, 1940\",\"1940, 1945\",\"1945, 1950\",\"1950, 1955\",\"1955, 1960\",\"1960, 1965\",\"1965, 1970\",\"1970, 1975\",\"1975, 1980\",\"1980, 1985\",\"1985, 1990\",\"1990, 1995\",\"1995, 2000\",\"2000, 2005\",\"2005, 2010\"],\"y\":[0,4,36,144,53,151,1340,1612,1336,1568,2341,2609,2221,2340,2900,2757,2908,3078,3433,3324,3493,4033,4396,5545,8453,11557],\"type\":\"bar\"},{\"marker\":{\"color\":\"#9ebbc9\"},\"visible\":\"legendonly\",\"x\":[\"1880, 1885\",\"1885, 1890\",\"1890, 1895\",\"1895, 1900\",\"1900, 1905\",\"1905, 1910\",\"1910, 1915\",\"1915, 1920\",\"1920, 1925\",\"1925, 1930\",\"1930, 1935\",\"1935, 1940\",\"1940, 1945\",\"1945, 1950\",\"1950, 1955\",\"1955, 1960\",\"1960, 1965\",\"1965, 1970\",\"1970, 1975\",\"1975, 1980\",\"1980, 1985\",\"1985, 1990\",\"1990, 1995\",\"1995, 2000\",\"2000, 2005\",\"2005, 2010\"],\"y\":[0,0,0,0,0,1,0,1,2,0,5,10,13,6,11,14,15,23,31,34,39,68,57,51,59,54],\"type\":\"bar\"},{\"marker\":{\"color\":\"#6785be\"},\"visible\":\"legendonly\",\"x\":[\"1880, 1885\",\"1885, 1890\",\"1890, 1895\",\"1895, 1900\",\"1900, 1905\",\"1905, 1910\",\"1910, 1915\",\"1915, 1920\",\"1920, 1925\",\"1925, 1930\",\"1930, 1935\",\"1935, 1940\",\"1940, 1945\",\"1945, 1950\",\"1950, 1955\",\"1955, 1960\",\"1960, 1965\",\"1965, 1970\",\"1970, 1975\",\"1975, 1980\",\"1980, 1985\",\"1985, 1990\",\"1990, 1995\",\"1995, 2000\",\"2000, 2005\",\"2005, 2010\"],\"y\":[0,0,0,0,3,6,4,21,28,36,75,76,53,90,80,136,141,159,157,143,161,147,138,195,209,189],\"type\":\"bar\"},{\"marker\":{\"color\":\"#5e43a5\"},\"visible\":\"legendonly\",\"x\":[\"1880, 1885\",\"1885, 1890\",\"1890, 1895\",\"1895, 1900\",\"1900, 1905\",\"1905, 1910\",\"1910, 1915\",\"1915, 1920\",\"1920, 1925\",\"1925, 1930\",\"1930, 1935\",\"1935, 1940\",\"1940, 1945\",\"1945, 1950\",\"1950, 1955\",\"1955, 1960\",\"1960, 1965\",\"1965, 1970\",\"1970, 1975\",\"1975, 1980\",\"1980, 1985\",\"1985, 1990\",\"1990, 1995\",\"1995, 2000\",\"2000, 2005\",\"2005, 2010\"],\"y\":[0,0,0,0,0,0,0,0,0,0,0,1,2,0,2,0,1,4,4,7,11,11,17,16,31,45],\"type\":\"bar\"},{\"marker\":{\"color\":\"#421257\"},\"visible\":\"legendonly\",\"x\":[\"1880, 1885\",\"1885, 1890\",\"1890, 1895\",\"1895, 1900\",\"1900, 1905\",\"1905, 1910\",\"1910, 1915\",\"1915, 1920\",\"1920, 1925\",\"1925, 1930\",\"1930, 1935\",\"1935, 1940\",\"1940, 1945\",\"1945, 1950\",\"1950, 1955\",\"1955, 1960\",\"1960, 1965\",\"1965, 1970\",\"1970, 1975\",\"1975, 1980\",\"1980, 1985\",\"1985, 1990\",\"1990, 1995\",\"1995, 2000\",\"2000, 2005\",\"2005, 2010\"],\"y\":[0,0,0,2,0,0,0,0,4,5,9,10,7,11,14,16,14,8,7,13,22,29,27,33,69,69],\"type\":\"bar\"},{\"marker\":{\"color\":\"#471340\"},\"visible\":\"legendonly\",\"x\":[\"1880, 1885\",\"1885, 1890\",\"1890, 1895\",\"1895, 1900\",\"1900, 1905\",\"1905, 1910\",\"1910, 1915\",\"1915, 1920\",\"1920, 1925\",\"1925, 1930\",\"1930, 1935\",\"1935, 1940\",\"1940, 1945\",\"1945, 1950\",\"1950, 1955\",\"1955, 1960\",\"1960, 1965\",\"1965, 1970\",\"1970, 1975\",\"1975, 1980\",\"1980, 1985\",\"1985, 1990\",\"1990, 1995\",\"1995, 2000\",\"2000, 2005\",\"2005, 2010\"],\"y\":[0,0,0,2,3,7,4,22,34,41,89,97,75,107,107,166,171,194,199,197,233,255,239,295,368,357],\"type\":\"bar\"}],                        {\"title\":{\"text\":\"Number of movies per 5 years splits\"},\"updatemenus\":[{\"buttons\":[{\"args\":[{\"visible\":[true,false,false,false,false,false]},{\"yaxis\":{\"range\":[0,11657],\"title\":\"Number of movies\"}},{\"xaxis\":{\"title\":\"Year\",\"tickangle\":45}}],\"label\":\"Movies\",\"method\":\"update\"},{\"args\":[{\"visible\":[false,true,false,false,false,false]},{\"yaxis\":{\"range\":[0,209],\"title\":\"Number of movies\"}},{\"xaxis\":{\"title\":\"Year\",\"tickangle\":45}}],\"label\":\"Sequels\",\"method\":\"update\"},{\"args\":[{\"visible\":[false,false,true,false,false,false]},{\"yaxis\":{\"range\":[0,209],\"title\":\"Number of movies\"}},{\"xaxis\":{\"title\":\"Year\",\"tickangle\":45}}],\"label\":\"Books\",\"method\":\"update\"},{\"args\":[{\"visible\":[false,false,false,true,false,false]},{\"yaxis\":{\"range\":[0,209],\"title\":\"Number of movies\"}},{\"xaxis\":{\"title\":\"Year\",\"tickangle\":45}}],\"label\":\"Comics\",\"method\":\"update\"},{\"args\":[{\"visible\":[false,false,false,false,true,false]},{\"yaxis\":{\"range\":[0,209],\"title\":\"Number of movies\"}},{\"xaxis\":{\"title\":\"Year\",\"tickangle\":45}}],\"label\":\"Remakes\",\"method\":\"update\"},{\"args\":[{\"visible\":[false,false,false,false,false,true]},{\"yaxis\":{\"range\":[0,378],\"title\":\"Number of movies\"}},{\"xaxis\":{\"title\":\"Year\",\"tickangle\":45}}],\"label\":\"All non-original movies\",\"method\":\"update\"}],\"direction\":\"left\",\"pad\":{\"r\":10,\"t\":10},\"showactive\":true,\"type\":\"buttons\",\"x\":0,\"xanchor\":\"left\",\"y\":1.2,\"yanchor\":\"top\"}],\"xaxis\":{\"tickangle\":45,\"tickvals\":[\"1880, 1885\",\"1885, 1890\",\"1890, 1895\",\"1895, 1900\",\"1900, 1905\",\"1905, 1910\",\"1910, 1915\",\"1915, 1920\",\"1920, 1925\",\"1925, 1930\",\"1930, 1935\",\"1935, 1940\",\"1940, 1945\",\"1945, 1950\",\"1950, 1955\",\"1955, 1960\",\"1960, 1965\",\"1965, 1970\",\"1970, 1975\",\"1975, 1980\",\"1980, 1985\",\"1985, 1990\",\"1990, 1995\",\"1995, 2000\",\"2000, 2005\",\"2005, 2010\"],\"title\":{\"text\":\"Year\"}},\"template\":{\"data\":{\"histogram2dcontour\":[{\"type\":\"histogram2dcontour\",\"colorbar\":{\"outlinewidth\":0,\"ticks\":\"\"},\"colorscale\":[[0.0,\"#0d0887\"],[0.1111111111111111,\"#46039f\"],[0.2222222222222222,\"#7201a8\"],[0.3333333333333333,\"#9c179e\"],[0.4444444444444444,\"#bd3786\"],[0.5555555555555556,\"#d8576b\"],[0.6666666666666666,\"#ed7953\"],[0.7777777777777778,\"#fb9f3a\"],[0.8888888888888888,\"#fdca26\"],[1.0,\"#f0f921\"]]}],\"choropleth\":[{\"type\":\"choropleth\",\"colorbar\":{\"outlinewidth\":0,\"ticks\":\"\"}}],\"histogram2d\":[{\"type\":\"histogram2d\",\"colorbar\":{\"outlinewidth\":0,\"ticks\":\"\"},\"colorscale\":[[0.0,\"#0d0887\"],[0.1111111111111111,\"#46039f\"],[0.2222222222222222,\"#7201a8\"],[0.3333333333333333,\"#9c179e\"],[0.4444444444444444,\"#bd3786\"],[0.5555555555555556,\"#d8576b\"],[0.6666666666666666,\"#ed7953\"],[0.7777777777777778,\"#fb9f3a\"],[0.8888888888888888,\"#fdca26\"],[1.0,\"#f0f921\"]]}],\"heatmap\":[{\"type\":\"heatmap\",\"colorbar\":{\"outlinewidth\":0,\"ticks\":\"\"},\"colorscale\":[[0.0,\"#0d0887\"],[0.1111111111111111,\"#46039f\"],[0.2222222222222222,\"#7201a8\"],[0.3333333333333333,\"#9c179e\"],[0.4444444444444444,\"#bd3786\"],[0.5555555555555556,\"#d8576b\"],[0.6666666666666666,\"#ed7953\"],[0.7777777777777778,\"#fb9f3a\"],[0.8888888888888888,\"#fdca26\"],[1.0,\"#f0f921\"]]}],\"heatmapgl\":[{\"type\":\"heatmapgl\",\"colorbar\":{\"outlinewidth\":0,\"ticks\":\"\"},\"colorscale\":[[0.0,\"#0d0887\"],[0.1111111111111111,\"#46039f\"],[0.2222222222222222,\"#7201a8\"],[0.3333333333333333,\"#9c179e\"],[0.4444444444444444,\"#bd3786\"],[0.5555555555555556,\"#d8576b\"],[0.6666666666666666,\"#ed7953\"],[0.7777777777777778,\"#fb9f3a\"],[0.8888888888888888,\"#fdca26\"],[1.0,\"#f0f921\"]]}],\"contourcarpet\":[{\"type\":\"contourcarpet\",\"colorbar\":{\"outlinewidth\":0,\"ticks\":\"\"}}],\"contour\":[{\"type\":\"contour\",\"colorbar\":{\"outlinewidth\":0,\"ticks\":\"\"},\"colorscale\":[[0.0,\"#0d0887\"],[0.1111111111111111,\"#46039f\"],[0.2222222222222222,\"#7201a8\"],[0.3333333333333333,\"#9c179e\"],[0.4444444444444444,\"#bd3786\"],[0.5555555555555556,\"#d8576b\"],[0.6666666666666666,\"#ed7953\"],[0.7777777777777778,\"#fb9f3a\"],[0.8888888888888888,\"#fdca26\"],[1.0,\"#f0f921\"]]}],\"surface\":[{\"type\":\"surface\",\"colorbar\":{\"outlinewidth\":0,\"ticks\":\"\"},\"colorscale\":[[0.0,\"#0d0887\"],[0.1111111111111111,\"#46039f\"],[0.2222222222222222,\"#7201a8\"],[0.3333333333333333,\"#9c179e\"],[0.4444444444444444,\"#bd3786\"],[0.5555555555555556,\"#d8576b\"],[0.6666666666666666,\"#ed7953\"],[0.7777777777777778,\"#fb9f3a\"],[0.8888888888888888,\"#fdca26\"],[1.0,\"#f0f921\"]]}],\"mesh3d\":[{\"type\":\"mesh3d\",\"colorbar\":{\"outlinewidth\":0,\"ticks\":\"\"}}],\"scatter\":[{\"fillpattern\":{\"fillmode\":\"overlay\",\"size\":10,\"solidity\":0.2},\"type\":\"scatter\"}],\"parcoords\":[{\"type\":\"parcoords\",\"line\":{\"colorbar\":{\"outlinewidth\":0,\"ticks\":\"\"}}}],\"scatterpolargl\":[{\"type\":\"scatterpolargl\",\"marker\":{\"colorbar\":{\"outlinewidth\":0,\"ticks\":\"\"}}}],\"bar\":[{\"error_x\":{\"color\":\"#2a3f5f\"},\"error_y\":{\"color\":\"#2a3f5f\"},\"marker\":{\"line\":{\"color\":\"#E5ECF6\",\"width\":0.5},\"pattern\":{\"fillmode\":\"overlay\",\"size\":10,\"solidity\":0.2}},\"type\":\"bar\"}],\"scattergeo\":[{\"type\":\"scattergeo\",\"marker\":{\"colorbar\":{\"outlinewidth\":0,\"ticks\":\"\"}}}],\"scatterpolar\":[{\"type\":\"scatterpolar\",\"marker\":{\"colorbar\":{\"outlinewidth\":0,\"ticks\":\"\"}}}],\"histogram\":[{\"marker\":{\"pattern\":{\"fillmode\":\"overlay\",\"size\":10,\"solidity\":0.2}},\"type\":\"histogram\"}],\"scattergl\":[{\"type\":\"scattergl\",\"marker\":{\"colorbar\":{\"outlinewidth\":0,\"ticks\":\"\"}}}],\"scatter3d\":[{\"type\":\"scatter3d\",\"line\":{\"colorbar\":{\"outlinewidth\":0,\"ticks\":\"\"}},\"marker\":{\"colorbar\":{\"outlinewidth\":0,\"ticks\":\"\"}}}],\"scattermapbox\":[{\"type\":\"scattermapbox\",\"marker\":{\"colorbar\":{\"outlinewidth\":0,\"ticks\":\"\"}}}],\"scatterternary\":[{\"type\":\"scatterternary\",\"marker\":{\"colorbar\":{\"outlinewidth\":0,\"ticks\":\"\"}}}],\"scattercarpet\":[{\"type\":\"scattercarpet\",\"marker\":{\"colorbar\":{\"outlinewidth\":0,\"ticks\":\"\"}}}],\"carpet\":[{\"aaxis\":{\"endlinecolor\":\"#2a3f5f\",\"gridcolor\":\"white\",\"linecolor\":\"white\",\"minorgridcolor\":\"white\",\"startlinecolor\":\"#2a3f5f\"},\"baxis\":{\"endlinecolor\":\"#2a3f5f\",\"gridcolor\":\"white\",\"linecolor\":\"white\",\"minorgridcolor\":\"white\",\"startlinecolor\":\"#2a3f5f\"},\"type\":\"carpet\"}],\"table\":[{\"cells\":{\"fill\":{\"color\":\"#EBF0F8\"},\"line\":{\"color\":\"white\"}},\"header\":{\"fill\":{\"color\":\"#C8D4E3\"},\"line\":{\"color\":\"white\"}},\"type\":\"table\"}],\"barpolar\":[{\"marker\":{\"line\":{\"color\":\"#E5ECF6\",\"width\":0.5},\"pattern\":{\"fillmode\":\"overlay\",\"size\":10,\"solidity\":0.2}},\"type\":\"barpolar\"}],\"pie\":[{\"automargin\":true,\"type\":\"pie\"}]},\"layout\":{\"autotypenumbers\":\"strict\",\"colorway\":[\"#636efa\",\"#EF553B\",\"#00cc96\",\"#ab63fa\",\"#FFA15A\",\"#19d3f3\",\"#FF6692\",\"#B6E880\",\"#FF97FF\",\"#FECB52\"],\"font\":{\"color\":\"#2a3f5f\"},\"hovermode\":\"closest\",\"hoverlabel\":{\"align\":\"left\"},\"paper_bgcolor\":\"white\",\"plot_bgcolor\":\"#E5ECF6\",\"polar\":{\"bgcolor\":\"#E5ECF6\",\"angularaxis\":{\"gridcolor\":\"white\",\"linecolor\":\"white\",\"ticks\":\"\"},\"radialaxis\":{\"gridcolor\":\"white\",\"linecolor\":\"white\",\"ticks\":\"\"}},\"ternary\":{\"bgcolor\":\"#E5ECF6\",\"aaxis\":{\"gridcolor\":\"white\",\"linecolor\":\"white\",\"ticks\":\"\"},\"baxis\":{\"gridcolor\":\"white\",\"linecolor\":\"white\",\"ticks\":\"\"},\"caxis\":{\"gridcolor\":\"white\",\"linecolor\":\"white\",\"ticks\":\"\"}},\"coloraxis\":{\"colorbar\":{\"outlinewidth\":0,\"ticks\":\"\"}},\"colorscale\":{\"sequential\":[[0.0,\"#0d0887\"],[0.1111111111111111,\"#46039f\"],[0.2222222222222222,\"#7201a8\"],[0.3333333333333333,\"#9c179e\"],[0.4444444444444444,\"#bd3786\"],[0.5555555555555556,\"#d8576b\"],[0.6666666666666666,\"#ed7953\"],[0.7777777777777778,\"#fb9f3a\"],[0.8888888888888888,\"#fdca26\"],[1.0,\"#f0f921\"]],\"sequentialminus\":[[0.0,\"#0d0887\"],[0.1111111111111111,\"#46039f\"],[0.2222222222222222,\"#7201a8\"],[0.3333333333333333,\"#9c179e\"],[0.4444444444444444,\"#bd3786\"],[0.5555555555555556,\"#d8576b\"],[0.6666666666666666,\"#ed7953\"],[0.7777777777777778,\"#fb9f3a\"],[0.8888888888888888,\"#fdca26\"],[1.0,\"#f0f921\"]],\"diverging\":[[0,\"#8e0152\"],[0.1,\"#c51b7d\"],[0.2,\"#de77ae\"],[0.3,\"#f1b6da\"],[0.4,\"#fde0ef\"],[0.5,\"#f7f7f7\"],[0.6,\"#e6f5d0\"],[0.7,\"#b8e186\"],[0.8,\"#7fbc41\"],[0.9,\"#4d9221\"],[1,\"#276419\"]]},\"xaxis\":{\"gridcolor\":\"white\",\"linecolor\":\"white\",\"ticks\":\"\",\"title\":{\"standoff\":15},\"zerolinecolor\":\"white\",\"automargin\":true,\"zerolinewidth\":2},\"yaxis\":{\"gridcolor\":\"white\",\"linecolor\":\"white\",\"ticks\":\"\",\"title\":{\"standoff\":15},\"zerolinecolor\":\"white\",\"automargin\":true,\"zerolinewidth\":2},\"scene\":{\"xaxis\":{\"backgroundcolor\":\"#E5ECF6\",\"gridcolor\":\"white\",\"linecolor\":\"white\",\"showbackground\":true,\"ticks\":\"\",\"zerolinecolor\":\"white\",\"gridwidth\":2},\"yaxis\":{\"backgroundcolor\":\"#E5ECF6\",\"gridcolor\":\"white\",\"linecolor\":\"white\",\"showbackground\":true,\"ticks\":\"\",\"zerolinecolor\":\"white\",\"gridwidth\":2},\"zaxis\":{\"backgroundcolor\":\"#E5ECF6\",\"gridcolor\":\"white\",\"linecolor\":\"white\",\"showbackground\":true,\"ticks\":\"\",\"zerolinecolor\":\"white\",\"gridwidth\":2}},\"shapedefaults\":{\"line\":{\"color\":\"#2a3f5f\"}},\"annotationdefaults\":{\"arrowcolor\":\"#2a3f5f\",\"arrowhead\":0,\"arrowwidth\":1},\"geo\":{\"bgcolor\":\"white\",\"landcolor\":\"#E5ECF6\",\"subunitcolor\":\"white\",\"showland\":true,\"showlakes\":true,\"lakecolor\":\"white\"},\"title\":{\"x\":0.05},\"mapbox\":{\"style\":\"light\"}}}},                        {\"responsive\": true}                    ).then(function(){\n",
       "                            \n",
       "var gd = document.getElementById('44f13716-e49d-45d7-b1e6-5a34cb8d2b98');\n",
       "var x = new MutationObserver(function (mutations, observer) {{\n",
       "        var display = window.getComputedStyle(gd).display;\n",
       "        if (!display || display === 'none') {{\n",
       "            console.log([gd, 'removed!']);\n",
       "            Plotly.purge(gd);\n",
       "            observer.disconnect();\n",
       "        }}\n",
       "}});\n",
       "\n",
       "// Listen for the removal of the full notebook cells\n",
       "var notebookContainer = gd.closest('#notebook-container');\n",
       "if (notebookContainer) {{\n",
       "    x.observe(notebookContainer, {childList: true});\n",
       "}}\n",
       "\n",
       "// Listen for the clearing of the current output cell\n",
       "var outputEl = gd.closest('.output');\n",
       "if (outputEl) {{\n",
       "    x.observe(outputEl, {childList: true});\n",
       "}}\n",
       "\n",
       "                        })                };                });            </script>        </div>"
      ]
     },
     "metadata": {},
     "output_type": "display_data"
    }
   ],
   "execution_count": 276
  },
  {
   "cell_type": "code",
   "id": "7ad120e2e96a709b",
   "metadata": {
    "ExecuteTime": {
     "end_time": "2024-12-13T22:52:34.871367Z",
     "start_time": "2024-12-13T22:52:33.306197Z"
    }
   },
   "source": [
    "movie_frames_new.drop_different_years()\n",
    "movie_frames_concat = movie_frames_old.concat_movie_frame(movie_frames_new)\n",
    "fig = get_movie_counter_figure(movie_frames_concat)\n",
    "fig"
   ],
   "outputs": [
    {
     "name": "stderr",
     "output_type": "stream",
     "text": [
      "/home/yann/Documents/ada-2024-project-onceuponatimeindata/src/models/movies_frame.py:84: UserWarning:\n",
      "\n",
      "You are merging on int and float columns where the float values are not equal to their int representation.\n",
      "\n"
     ]
    },
    {
     "data": {
      "application/vnd.plotly.v1+json": {
       "data": [
        {
         "marker": {
          "color": "#8e2c50"
         },
         "visible": "legendonly",
         "x": [
          "1880, 1885",
          "1885, 1890",
          "1890, 1895",
          "1895, 1900",
          "1900, 1905",
          "1905, 1910",
          "1910, 1915",
          "1915, 1920",
          "1920, 1925",
          "1925, 1930",
          "1930, 1935",
          "1935, 1940",
          "1940, 1945",
          "1945, 1950",
          "1950, 1955",
          "1955, 1960",
          "1960, 1965",
          "1965, 1970",
          "1970, 1975",
          "1975, 1980",
          "1980, 1985",
          "1985, 1990",
          "1990, 1995",
          "1995, 2000",
          "2000, 2005",
          "2005, 2010",
          "2010, 2015",
          "2015, 2020",
          "2020, 2025"
         ],
         "y": [
          0,
          4,
          36,
          144,
          53,
          151,
          1340,
          1612,
          1336,
          1568,
          2341,
          2609,
          2221,
          2340,
          2900,
          2757,
          2908,
          3078,
          3433,
          3324,
          3493,
          4033,
          4396,
          5545,
          8453,
          12408,
          8536,
          6268,
          2801
         ],
         "type": "bar"
        },
        {
         "marker": {
          "color": "#9ebbc9"
         },
         "visible": "legendonly",
         "x": [
          "1880, 1885",
          "1885, 1890",
          "1890, 1895",
          "1895, 1900",
          "1900, 1905",
          "1905, 1910",
          "1910, 1915",
          "1915, 1920",
          "1920, 1925",
          "1925, 1930",
          "1930, 1935",
          "1935, 1940",
          "1940, 1945",
          "1945, 1950",
          "1950, 1955",
          "1955, 1960",
          "1960, 1965",
          "1965, 1970",
          "1970, 1975",
          "1975, 1980",
          "1980, 1985",
          "1985, 1990",
          "1990, 1995",
          "1995, 2000",
          "2000, 2005",
          "2005, 2010",
          "2010, 2015",
          "2015, 2020",
          "2020, 2025"
         ],
         "y": [
          0,
          0,
          0,
          0,
          0,
          0,
          0,
          0,
          0,
          1,
          0,
          3,
          6,
          0,
          1,
          3,
          8,
          8,
          11,
          12,
          24,
          41,
          38,
          33,
          48,
          48,
          98,
          167,
          110
         ],
         "type": "bar"
        },
        {
         "marker": {
          "color": "#6785be"
         },
         "visible": "legendonly",
         "x": [
          "1880, 1885",
          "1885, 1890",
          "1890, 1895",
          "1895, 1900",
          "1900, 1905",
          "1905, 1910",
          "1910, 1915",
          "1915, 1920",
          "1920, 1925",
          "1925, 1930",
          "1930, 1935",
          "1935, 1940",
          "1940, 1945",
          "1945, 1950",
          "1950, 1955",
          "1955, 1960",
          "1960, 1965",
          "1965, 1970",
          "1970, 1975",
          "1975, 1980",
          "1980, 1985",
          "1985, 1990",
          "1990, 1995",
          "1995, 2000",
          "2000, 2005",
          "2005, 2010",
          "2010, 2015",
          "2015, 2020",
          "2020, 2025"
         ],
         "y": [
          0,
          0,
          0,
          0,
          1,
          1,
          0,
          1,
          3,
          4,
          12,
          19,
          14,
          27,
          13,
          30,
          39,
          50,
          61,
          44,
          64,
          64,
          70,
          99,
          119,
          139,
          193,
          323,
          210
         ],
         "type": "bar"
        },
        {
         "marker": {
          "color": "#5e43a5"
         },
         "visible": "legendonly",
         "x": [
          "1880, 1885",
          "1885, 1890",
          "1890, 1895",
          "1895, 1900",
          "1900, 1905",
          "1905, 1910",
          "1910, 1915",
          "1915, 1920",
          "1920, 1925",
          "1925, 1930",
          "1930, 1935",
          "1935, 1940",
          "1940, 1945",
          "1945, 1950",
          "1950, 1955",
          "1955, 1960",
          "1960, 1965",
          "1965, 1970",
          "1970, 1975",
          "1975, 1980",
          "1980, 1985",
          "1985, 1990",
          "1990, 1995",
          "1995, 2000",
          "2000, 2005",
          "2005, 2010",
          "2010, 2015",
          "2015, 2020",
          "2020, 2025"
         ],
         "y": [
          0,
          0,
          0,
          0,
          0,
          0,
          0,
          0,
          0,
          0,
          0,
          1,
          2,
          0,
          2,
          0,
          1,
          4,
          3,
          8,
          11,
          9,
          17,
          16,
          29,
          49,
          62,
          77,
          49
         ],
         "type": "bar"
        },
        {
         "marker": {
          "color": "#421257"
         },
         "visible": "legendonly",
         "x": [
          "1880, 1885",
          "1885, 1890",
          "1890, 1895",
          "1895, 1900",
          "1900, 1905",
          "1905, 1910",
          "1910, 1915",
          "1915, 1920",
          "1920, 1925",
          "1925, 1930",
          "1930, 1935",
          "1935, 1940",
          "1940, 1945",
          "1945, 1950",
          "1950, 1955",
          "1955, 1960",
          "1960, 1965",
          "1965, 1970",
          "1970, 1975",
          "1975, 1980",
          "1980, 1985",
          "1985, 1990",
          "1990, 1995",
          "1995, 2000",
          "2000, 2005",
          "2005, 2010",
          "2010, 2015",
          "2015, 2020",
          "2020, 2025"
         ],
         "y": [
          0,
          0,
          0,
          0,
          0,
          0,
          0,
          0,
          1,
          1,
          0,
          0,
          1,
          2,
          4,
          10,
          4,
          3,
          2,
          7,
          12,
          19,
          21,
          22,
          50,
          70,
          53,
          95,
          43
         ],
         "type": "bar"
        },
        {
         "marker": {
          "color": "#471340"
         },
         "visible": "legendonly",
         "x": [
          "1880, 1885",
          "1885, 1890",
          "1890, 1895",
          "1895, 1900",
          "1900, 1905",
          "1905, 1910",
          "1910, 1915",
          "1915, 1920",
          "1920, 1925",
          "1925, 1930",
          "1930, 1935",
          "1935, 1940",
          "1940, 1945",
          "1945, 1950",
          "1950, 1955",
          "1955, 1960",
          "1960, 1965",
          "1965, 1970",
          "1970, 1975",
          "1975, 1980",
          "1980, 1985",
          "1985, 1990",
          "1990, 1995",
          "1995, 2000",
          "2000, 2005",
          "2005, 2010",
          "2010, 2015",
          "2015, 2020",
          "2020, 2025"
         ],
         "y": [
          0,
          0,
          0,
          0,
          1,
          1,
          0,
          1,
          4,
          6,
          12,
          23,
          23,
          29,
          20,
          43,
          52,
          65,
          77,
          71,
          111,
          133,
          146,
          170,
          246,
          306,
          406,
          662,
          412
         ],
         "type": "bar"
        }
       ],
       "layout": {
        "title": {
         "text": "Number of movies per 5 years splits"
        },
        "updatemenus": [
         {
          "buttons": [
           {
            "args": [
             {
              "visible": [
               true,
               false,
               false,
               false,
               false,
               false
              ]
             },
             {
              "yaxis": {
               "range": [
                0,
                12508
               ],
               "title": "Number of movies"
              }
             },
             {
              "xaxis": {
               "title": "Year",
               "tickangle": 45
              }
             }
            ],
            "label": "Movies",
            "method": "update"
           },
           {
            "args": [
             {
              "visible": [
               false,
               true,
               false,
               false,
               false,
               false
              ]
             },
             {
              "yaxis": {
               "range": [
                0,
                323
               ],
               "title": "Number of movies"
              }
             },
             {
              "xaxis": {
               "title": "Year",
               "tickangle": 45
              }
             }
            ],
            "label": "Sequels",
            "method": "update"
           },
           {
            "args": [
             {
              "visible": [
               false,
               false,
               true,
               false,
               false,
               false
              ]
             },
             {
              "yaxis": {
               "range": [
                0,
                323
               ],
               "title": "Number of movies"
              }
             },
             {
              "xaxis": {
               "title": "Year",
               "tickangle": 45
              }
             }
            ],
            "label": "Books",
            "method": "update"
           },
           {
            "args": [
             {
              "visible": [
               false,
               false,
               false,
               true,
               false,
               false
              ]
             },
             {
              "yaxis": {
               "range": [
                0,
                323
               ],
               "title": "Number of movies"
              }
             },
             {
              "xaxis": {
               "title": "Year",
               "tickangle": 45
              }
             }
            ],
            "label": "Comics",
            "method": "update"
           },
           {
            "args": [
             {
              "visible": [
               false,
               false,
               false,
               false,
               true,
               false
              ]
             },
             {
              "yaxis": {
               "range": [
                0,
                323
               ],
               "title": "Number of movies"
              }
             },
             {
              "xaxis": {
               "title": "Year",
               "tickangle": 45
              }
             }
            ],
            "label": "Remakes",
            "method": "update"
           },
           {
            "args": [
             {
              "visible": [
               false,
               false,
               false,
               false,
               false,
               true
              ]
             },
             {
              "yaxis": {
               "range": [
                0,
                672
               ],
               "title": "Number of movies"
              }
             },
             {
              "xaxis": {
               "title": "Year",
               "tickangle": 45
              }
             }
            ],
            "label": "All non-original movies",
            "method": "update"
           }
          ],
          "direction": "left",
          "pad": {
           "r": 10,
           "t": 10
          },
          "showactive": true,
          "type": "buttons",
          "x": 0,
          "xanchor": "left",
          "y": 1.2,
          "yanchor": "top"
         }
        ],
        "xaxis": {
         "tickangle": 45,
         "tickvals": [
          "1880, 1885",
          "1885, 1890",
          "1890, 1895",
          "1895, 1900",
          "1900, 1905",
          "1905, 1910",
          "1910, 1915",
          "1915, 1920",
          "1920, 1925",
          "1925, 1930",
          "1930, 1935",
          "1935, 1940",
          "1940, 1945",
          "1945, 1950",
          "1950, 1955",
          "1955, 1960",
          "1960, 1965",
          "1965, 1970",
          "1970, 1975",
          "1975, 1980",
          "1980, 1985",
          "1985, 1990",
          "1990, 1995",
          "1995, 2000",
          "2000, 2005",
          "2005, 2010",
          "2010, 2015",
          "2015, 2020",
          "2020, 2025"
         ],
         "title": {
          "text": "Year"
         }
        },
        "template": {
         "data": {
          "histogram2dcontour": [
           {
            "type": "histogram2dcontour",
            "colorbar": {
             "outlinewidth": 0,
             "ticks": ""
            },
            "colorscale": [
             [
              0.0,
              "#0d0887"
             ],
             [
              0.1111111111111111,
              "#46039f"
             ],
             [
              0.2222222222222222,
              "#7201a8"
             ],
             [
              0.3333333333333333,
              "#9c179e"
             ],
             [
              0.4444444444444444,
              "#bd3786"
             ],
             [
              0.5555555555555556,
              "#d8576b"
             ],
             [
              0.6666666666666666,
              "#ed7953"
             ],
             [
              0.7777777777777778,
              "#fb9f3a"
             ],
             [
              0.8888888888888888,
              "#fdca26"
             ],
             [
              1.0,
              "#f0f921"
             ]
            ]
           }
          ],
          "choropleth": [
           {
            "type": "choropleth",
            "colorbar": {
             "outlinewidth": 0,
             "ticks": ""
            }
           }
          ],
          "histogram2d": [
           {
            "type": "histogram2d",
            "colorbar": {
             "outlinewidth": 0,
             "ticks": ""
            },
            "colorscale": [
             [
              0.0,
              "#0d0887"
             ],
             [
              0.1111111111111111,
              "#46039f"
             ],
             [
              0.2222222222222222,
              "#7201a8"
             ],
             [
              0.3333333333333333,
              "#9c179e"
             ],
             [
              0.4444444444444444,
              "#bd3786"
             ],
             [
              0.5555555555555556,
              "#d8576b"
             ],
             [
              0.6666666666666666,
              "#ed7953"
             ],
             [
              0.7777777777777778,
              "#fb9f3a"
             ],
             [
              0.8888888888888888,
              "#fdca26"
             ],
             [
              1.0,
              "#f0f921"
             ]
            ]
           }
          ],
          "heatmap": [
           {
            "type": "heatmap",
            "colorbar": {
             "outlinewidth": 0,
             "ticks": ""
            },
            "colorscale": [
             [
              0.0,
              "#0d0887"
             ],
             [
              0.1111111111111111,
              "#46039f"
             ],
             [
              0.2222222222222222,
              "#7201a8"
             ],
             [
              0.3333333333333333,
              "#9c179e"
             ],
             [
              0.4444444444444444,
              "#bd3786"
             ],
             [
              0.5555555555555556,
              "#d8576b"
             ],
             [
              0.6666666666666666,
              "#ed7953"
             ],
             [
              0.7777777777777778,
              "#fb9f3a"
             ],
             [
              0.8888888888888888,
              "#fdca26"
             ],
             [
              1.0,
              "#f0f921"
             ]
            ]
           }
          ],
          "heatmapgl": [
           {
            "type": "heatmapgl",
            "colorbar": {
             "outlinewidth": 0,
             "ticks": ""
            },
            "colorscale": [
             [
              0.0,
              "#0d0887"
             ],
             [
              0.1111111111111111,
              "#46039f"
             ],
             [
              0.2222222222222222,
              "#7201a8"
             ],
             [
              0.3333333333333333,
              "#9c179e"
             ],
             [
              0.4444444444444444,
              "#bd3786"
             ],
             [
              0.5555555555555556,
              "#d8576b"
             ],
             [
              0.6666666666666666,
              "#ed7953"
             ],
             [
              0.7777777777777778,
              "#fb9f3a"
             ],
             [
              0.8888888888888888,
              "#fdca26"
             ],
             [
              1.0,
              "#f0f921"
             ]
            ]
           }
          ],
          "contourcarpet": [
           {
            "type": "contourcarpet",
            "colorbar": {
             "outlinewidth": 0,
             "ticks": ""
            }
           }
          ],
          "contour": [
           {
            "type": "contour",
            "colorbar": {
             "outlinewidth": 0,
             "ticks": ""
            },
            "colorscale": [
             [
              0.0,
              "#0d0887"
             ],
             [
              0.1111111111111111,
              "#46039f"
             ],
             [
              0.2222222222222222,
              "#7201a8"
             ],
             [
              0.3333333333333333,
              "#9c179e"
             ],
             [
              0.4444444444444444,
              "#bd3786"
             ],
             [
              0.5555555555555556,
              "#d8576b"
             ],
             [
              0.6666666666666666,
              "#ed7953"
             ],
             [
              0.7777777777777778,
              "#fb9f3a"
             ],
             [
              0.8888888888888888,
              "#fdca26"
             ],
             [
              1.0,
              "#f0f921"
             ]
            ]
           }
          ],
          "surface": [
           {
            "type": "surface",
            "colorbar": {
             "outlinewidth": 0,
             "ticks": ""
            },
            "colorscale": [
             [
              0.0,
              "#0d0887"
             ],
             [
              0.1111111111111111,
              "#46039f"
             ],
             [
              0.2222222222222222,
              "#7201a8"
             ],
             [
              0.3333333333333333,
              "#9c179e"
             ],
             [
              0.4444444444444444,
              "#bd3786"
             ],
             [
              0.5555555555555556,
              "#d8576b"
             ],
             [
              0.6666666666666666,
              "#ed7953"
             ],
             [
              0.7777777777777778,
              "#fb9f3a"
             ],
             [
              0.8888888888888888,
              "#fdca26"
             ],
             [
              1.0,
              "#f0f921"
             ]
            ]
           }
          ],
          "mesh3d": [
           {
            "type": "mesh3d",
            "colorbar": {
             "outlinewidth": 0,
             "ticks": ""
            }
           }
          ],
          "scatter": [
           {
            "fillpattern": {
             "fillmode": "overlay",
             "size": 10,
             "solidity": 0.2
            },
            "type": "scatter"
           }
          ],
          "parcoords": [
           {
            "type": "parcoords",
            "line": {
             "colorbar": {
              "outlinewidth": 0,
              "ticks": ""
             }
            }
           }
          ],
          "scatterpolargl": [
           {
            "type": "scatterpolargl",
            "marker": {
             "colorbar": {
              "outlinewidth": 0,
              "ticks": ""
             }
            }
           }
          ],
          "bar": [
           {
            "error_x": {
             "color": "#2a3f5f"
            },
            "error_y": {
             "color": "#2a3f5f"
            },
            "marker": {
             "line": {
              "color": "#E5ECF6",
              "width": 0.5
             },
             "pattern": {
              "fillmode": "overlay",
              "size": 10,
              "solidity": 0.2
             }
            },
            "type": "bar"
           }
          ],
          "scattergeo": [
           {
            "type": "scattergeo",
            "marker": {
             "colorbar": {
              "outlinewidth": 0,
              "ticks": ""
             }
            }
           }
          ],
          "scatterpolar": [
           {
            "type": "scatterpolar",
            "marker": {
             "colorbar": {
              "outlinewidth": 0,
              "ticks": ""
             }
            }
           }
          ],
          "histogram": [
           {
            "marker": {
             "pattern": {
              "fillmode": "overlay",
              "size": 10,
              "solidity": 0.2
             }
            },
            "type": "histogram"
           }
          ],
          "scattergl": [
           {
            "type": "scattergl",
            "marker": {
             "colorbar": {
              "outlinewidth": 0,
              "ticks": ""
             }
            }
           }
          ],
          "scatter3d": [
           {
            "type": "scatter3d",
            "line": {
             "colorbar": {
              "outlinewidth": 0,
              "ticks": ""
             }
            },
            "marker": {
             "colorbar": {
              "outlinewidth": 0,
              "ticks": ""
             }
            }
           }
          ],
          "scattermapbox": [
           {
            "type": "scattermapbox",
            "marker": {
             "colorbar": {
              "outlinewidth": 0,
              "ticks": ""
             }
            }
           }
          ],
          "scatterternary": [
           {
            "type": "scatterternary",
            "marker": {
             "colorbar": {
              "outlinewidth": 0,
              "ticks": ""
             }
            }
           }
          ],
          "scattercarpet": [
           {
            "type": "scattercarpet",
            "marker": {
             "colorbar": {
              "outlinewidth": 0,
              "ticks": ""
             }
            }
           }
          ],
          "carpet": [
           {
            "aaxis": {
             "endlinecolor": "#2a3f5f",
             "gridcolor": "white",
             "linecolor": "white",
             "minorgridcolor": "white",
             "startlinecolor": "#2a3f5f"
            },
            "baxis": {
             "endlinecolor": "#2a3f5f",
             "gridcolor": "white",
             "linecolor": "white",
             "minorgridcolor": "white",
             "startlinecolor": "#2a3f5f"
            },
            "type": "carpet"
           }
          ],
          "table": [
           {
            "cells": {
             "fill": {
              "color": "#EBF0F8"
             },
             "line": {
              "color": "white"
             }
            },
            "header": {
             "fill": {
              "color": "#C8D4E3"
             },
             "line": {
              "color": "white"
             }
            },
            "type": "table"
           }
          ],
          "barpolar": [
           {
            "marker": {
             "line": {
              "color": "#E5ECF6",
              "width": 0.5
             },
             "pattern": {
              "fillmode": "overlay",
              "size": 10,
              "solidity": 0.2
             }
            },
            "type": "barpolar"
           }
          ],
          "pie": [
           {
            "automargin": true,
            "type": "pie"
           }
          ]
         },
         "layout": {
          "autotypenumbers": "strict",
          "colorway": [
           "#636efa",
           "#EF553B",
           "#00cc96",
           "#ab63fa",
           "#FFA15A",
           "#19d3f3",
           "#FF6692",
           "#B6E880",
           "#FF97FF",
           "#FECB52"
          ],
          "font": {
           "color": "#2a3f5f"
          },
          "hovermode": "closest",
          "hoverlabel": {
           "align": "left"
          },
          "paper_bgcolor": "white",
          "plot_bgcolor": "#E5ECF6",
          "polar": {
           "bgcolor": "#E5ECF6",
           "angularaxis": {
            "gridcolor": "white",
            "linecolor": "white",
            "ticks": ""
           },
           "radialaxis": {
            "gridcolor": "white",
            "linecolor": "white",
            "ticks": ""
           }
          },
          "ternary": {
           "bgcolor": "#E5ECF6",
           "aaxis": {
            "gridcolor": "white",
            "linecolor": "white",
            "ticks": ""
           },
           "baxis": {
            "gridcolor": "white",
            "linecolor": "white",
            "ticks": ""
           },
           "caxis": {
            "gridcolor": "white",
            "linecolor": "white",
            "ticks": ""
           }
          },
          "coloraxis": {
           "colorbar": {
            "outlinewidth": 0,
            "ticks": ""
           }
          },
          "colorscale": {
           "sequential": [
            [
             0.0,
             "#0d0887"
            ],
            [
             0.1111111111111111,
             "#46039f"
            ],
            [
             0.2222222222222222,
             "#7201a8"
            ],
            [
             0.3333333333333333,
             "#9c179e"
            ],
            [
             0.4444444444444444,
             "#bd3786"
            ],
            [
             0.5555555555555556,
             "#d8576b"
            ],
            [
             0.6666666666666666,
             "#ed7953"
            ],
            [
             0.7777777777777778,
             "#fb9f3a"
            ],
            [
             0.8888888888888888,
             "#fdca26"
            ],
            [
             1.0,
             "#f0f921"
            ]
           ],
           "sequentialminus": [
            [
             0.0,
             "#0d0887"
            ],
            [
             0.1111111111111111,
             "#46039f"
            ],
            [
             0.2222222222222222,
             "#7201a8"
            ],
            [
             0.3333333333333333,
             "#9c179e"
            ],
            [
             0.4444444444444444,
             "#bd3786"
            ],
            [
             0.5555555555555556,
             "#d8576b"
            ],
            [
             0.6666666666666666,
             "#ed7953"
            ],
            [
             0.7777777777777778,
             "#fb9f3a"
            ],
            [
             0.8888888888888888,
             "#fdca26"
            ],
            [
             1.0,
             "#f0f921"
            ]
           ],
           "diverging": [
            [
             0,
             "#8e0152"
            ],
            [
             0.1,
             "#c51b7d"
            ],
            [
             0.2,
             "#de77ae"
            ],
            [
             0.3,
             "#f1b6da"
            ],
            [
             0.4,
             "#fde0ef"
            ],
            [
             0.5,
             "#f7f7f7"
            ],
            [
             0.6,
             "#e6f5d0"
            ],
            [
             0.7,
             "#b8e186"
            ],
            [
             0.8,
             "#7fbc41"
            ],
            [
             0.9,
             "#4d9221"
            ],
            [
             1,
             "#276419"
            ]
           ]
          },
          "xaxis": {
           "gridcolor": "white",
           "linecolor": "white",
           "ticks": "",
           "title": {
            "standoff": 15
           },
           "zerolinecolor": "white",
           "automargin": true,
           "zerolinewidth": 2
          },
          "yaxis": {
           "gridcolor": "white",
           "linecolor": "white",
           "ticks": "",
           "title": {
            "standoff": 15
           },
           "zerolinecolor": "white",
           "automargin": true,
           "zerolinewidth": 2
          },
          "scene": {
           "xaxis": {
            "backgroundcolor": "#E5ECF6",
            "gridcolor": "white",
            "linecolor": "white",
            "showbackground": true,
            "ticks": "",
            "zerolinecolor": "white",
            "gridwidth": 2
           },
           "yaxis": {
            "backgroundcolor": "#E5ECF6",
            "gridcolor": "white",
            "linecolor": "white",
            "showbackground": true,
            "ticks": "",
            "zerolinecolor": "white",
            "gridwidth": 2
           },
           "zaxis": {
            "backgroundcolor": "#E5ECF6",
            "gridcolor": "white",
            "linecolor": "white",
            "showbackground": true,
            "ticks": "",
            "zerolinecolor": "white",
            "gridwidth": 2
           }
          },
          "shapedefaults": {
           "line": {
            "color": "#2a3f5f"
           }
          },
          "annotationdefaults": {
           "arrowcolor": "#2a3f5f",
           "arrowhead": 0,
           "arrowwidth": 1
          },
          "geo": {
           "bgcolor": "white",
           "landcolor": "#E5ECF6",
           "subunitcolor": "white",
           "showland": true,
           "showlakes": true,
           "lakecolor": "white"
          },
          "title": {
           "x": 0.05
          },
          "mapbox": {
           "style": "light"
          }
         }
        }
       },
       "config": {
        "plotlyServerURL": "https://plot.ly"
       }
      },
      "text/html": [
       "<div>                            <div id=\"4e27524a-5e2f-4ebc-84fb-46f044e66131\" class=\"plotly-graph-div\" style=\"height:525px; width:100%;\"></div>            <script type=\"text/javascript\">                require([\"plotly\"], function(Plotly) {                    window.PLOTLYENV=window.PLOTLYENV || {};                                    if (document.getElementById(\"4e27524a-5e2f-4ebc-84fb-46f044e66131\")) {                    Plotly.newPlot(                        \"4e27524a-5e2f-4ebc-84fb-46f044e66131\",                        [{\"marker\":{\"color\":\"#8e2c50\"},\"visible\":\"legendonly\",\"x\":[\"1880, 1885\",\"1885, 1890\",\"1890, 1895\",\"1895, 1900\",\"1900, 1905\",\"1905, 1910\",\"1910, 1915\",\"1915, 1920\",\"1920, 1925\",\"1925, 1930\",\"1930, 1935\",\"1935, 1940\",\"1940, 1945\",\"1945, 1950\",\"1950, 1955\",\"1955, 1960\",\"1960, 1965\",\"1965, 1970\",\"1970, 1975\",\"1975, 1980\",\"1980, 1985\",\"1985, 1990\",\"1990, 1995\",\"1995, 2000\",\"2000, 2005\",\"2005, 2010\",\"2010, 2015\",\"2015, 2020\",\"2020, 2025\"],\"y\":[0,4,36,144,53,151,1340,1612,1336,1568,2341,2609,2221,2340,2900,2757,2908,3078,3433,3324,3493,4033,4396,5545,8453,12408,8536,6268,2801],\"type\":\"bar\"},{\"marker\":{\"color\":\"#9ebbc9\"},\"visible\":\"legendonly\",\"x\":[\"1880, 1885\",\"1885, 1890\",\"1890, 1895\",\"1895, 1900\",\"1900, 1905\",\"1905, 1910\",\"1910, 1915\",\"1915, 1920\",\"1920, 1925\",\"1925, 1930\",\"1930, 1935\",\"1935, 1940\",\"1940, 1945\",\"1945, 1950\",\"1950, 1955\",\"1955, 1960\",\"1960, 1965\",\"1965, 1970\",\"1970, 1975\",\"1975, 1980\",\"1980, 1985\",\"1985, 1990\",\"1990, 1995\",\"1995, 2000\",\"2000, 2005\",\"2005, 2010\",\"2010, 2015\",\"2015, 2020\",\"2020, 2025\"],\"y\":[0,0,0,0,0,0,0,0,0,1,0,3,6,0,1,3,8,8,11,12,24,41,38,33,48,48,98,167,110],\"type\":\"bar\"},{\"marker\":{\"color\":\"#6785be\"},\"visible\":\"legendonly\",\"x\":[\"1880, 1885\",\"1885, 1890\",\"1890, 1895\",\"1895, 1900\",\"1900, 1905\",\"1905, 1910\",\"1910, 1915\",\"1915, 1920\",\"1920, 1925\",\"1925, 1930\",\"1930, 1935\",\"1935, 1940\",\"1940, 1945\",\"1945, 1950\",\"1950, 1955\",\"1955, 1960\",\"1960, 1965\",\"1965, 1970\",\"1970, 1975\",\"1975, 1980\",\"1980, 1985\",\"1985, 1990\",\"1990, 1995\",\"1995, 2000\",\"2000, 2005\",\"2005, 2010\",\"2010, 2015\",\"2015, 2020\",\"2020, 2025\"],\"y\":[0,0,0,0,1,1,0,1,3,4,12,19,14,27,13,30,39,50,61,44,64,64,70,99,119,139,193,323,210],\"type\":\"bar\"},{\"marker\":{\"color\":\"#5e43a5\"},\"visible\":\"legendonly\",\"x\":[\"1880, 1885\",\"1885, 1890\",\"1890, 1895\",\"1895, 1900\",\"1900, 1905\",\"1905, 1910\",\"1910, 1915\",\"1915, 1920\",\"1920, 1925\",\"1925, 1930\",\"1930, 1935\",\"1935, 1940\",\"1940, 1945\",\"1945, 1950\",\"1950, 1955\",\"1955, 1960\",\"1960, 1965\",\"1965, 1970\",\"1970, 1975\",\"1975, 1980\",\"1980, 1985\",\"1985, 1990\",\"1990, 1995\",\"1995, 2000\",\"2000, 2005\",\"2005, 2010\",\"2010, 2015\",\"2015, 2020\",\"2020, 2025\"],\"y\":[0,0,0,0,0,0,0,0,0,0,0,1,2,0,2,0,1,4,3,8,11,9,17,16,29,49,62,77,49],\"type\":\"bar\"},{\"marker\":{\"color\":\"#421257\"},\"visible\":\"legendonly\",\"x\":[\"1880, 1885\",\"1885, 1890\",\"1890, 1895\",\"1895, 1900\",\"1900, 1905\",\"1905, 1910\",\"1910, 1915\",\"1915, 1920\",\"1920, 1925\",\"1925, 1930\",\"1930, 1935\",\"1935, 1940\",\"1940, 1945\",\"1945, 1950\",\"1950, 1955\",\"1955, 1960\",\"1960, 1965\",\"1965, 1970\",\"1970, 1975\",\"1975, 1980\",\"1980, 1985\",\"1985, 1990\",\"1990, 1995\",\"1995, 2000\",\"2000, 2005\",\"2005, 2010\",\"2010, 2015\",\"2015, 2020\",\"2020, 2025\"],\"y\":[0,0,0,0,0,0,0,0,1,1,0,0,1,2,4,10,4,3,2,7,12,19,21,22,50,70,53,95,43],\"type\":\"bar\"},{\"marker\":{\"color\":\"#471340\"},\"visible\":\"legendonly\",\"x\":[\"1880, 1885\",\"1885, 1890\",\"1890, 1895\",\"1895, 1900\",\"1900, 1905\",\"1905, 1910\",\"1910, 1915\",\"1915, 1920\",\"1920, 1925\",\"1925, 1930\",\"1930, 1935\",\"1935, 1940\",\"1940, 1945\",\"1945, 1950\",\"1950, 1955\",\"1955, 1960\",\"1960, 1965\",\"1965, 1970\",\"1970, 1975\",\"1975, 1980\",\"1980, 1985\",\"1985, 1990\",\"1990, 1995\",\"1995, 2000\",\"2000, 2005\",\"2005, 2010\",\"2010, 2015\",\"2015, 2020\",\"2020, 2025\"],\"y\":[0,0,0,0,1,1,0,1,4,6,12,23,23,29,20,43,52,65,77,71,111,133,146,170,246,306,406,662,412],\"type\":\"bar\"}],                        {\"title\":{\"text\":\"Number of movies per 5 years splits\"},\"updatemenus\":[{\"buttons\":[{\"args\":[{\"visible\":[true,false,false,false,false,false]},{\"yaxis\":{\"range\":[0,12508],\"title\":\"Number of movies\"}},{\"xaxis\":{\"title\":\"Year\",\"tickangle\":45}}],\"label\":\"Movies\",\"method\":\"update\"},{\"args\":[{\"visible\":[false,true,false,false,false,false]},{\"yaxis\":{\"range\":[0,323],\"title\":\"Number of movies\"}},{\"xaxis\":{\"title\":\"Year\",\"tickangle\":45}}],\"label\":\"Sequels\",\"method\":\"update\"},{\"args\":[{\"visible\":[false,false,true,false,false,false]},{\"yaxis\":{\"range\":[0,323],\"title\":\"Number of movies\"}},{\"xaxis\":{\"title\":\"Year\",\"tickangle\":45}}],\"label\":\"Books\",\"method\":\"update\"},{\"args\":[{\"visible\":[false,false,false,true,false,false]},{\"yaxis\":{\"range\":[0,323],\"title\":\"Number of movies\"}},{\"xaxis\":{\"title\":\"Year\",\"tickangle\":45}}],\"label\":\"Comics\",\"method\":\"update\"},{\"args\":[{\"visible\":[false,false,false,false,true,false]},{\"yaxis\":{\"range\":[0,323],\"title\":\"Number of movies\"}},{\"xaxis\":{\"title\":\"Year\",\"tickangle\":45}}],\"label\":\"Remakes\",\"method\":\"update\"},{\"args\":[{\"visible\":[false,false,false,false,false,true]},{\"yaxis\":{\"range\":[0,672],\"title\":\"Number of movies\"}},{\"xaxis\":{\"title\":\"Year\",\"tickangle\":45}}],\"label\":\"All non-original movies\",\"method\":\"update\"}],\"direction\":\"left\",\"pad\":{\"r\":10,\"t\":10},\"showactive\":true,\"type\":\"buttons\",\"x\":0,\"xanchor\":\"left\",\"y\":1.2,\"yanchor\":\"top\"}],\"xaxis\":{\"tickangle\":45,\"tickvals\":[\"1880, 1885\",\"1885, 1890\",\"1890, 1895\",\"1895, 1900\",\"1900, 1905\",\"1905, 1910\",\"1910, 1915\",\"1915, 1920\",\"1920, 1925\",\"1925, 1930\",\"1930, 1935\",\"1935, 1940\",\"1940, 1945\",\"1945, 1950\",\"1950, 1955\",\"1955, 1960\",\"1960, 1965\",\"1965, 1970\",\"1970, 1975\",\"1975, 1980\",\"1980, 1985\",\"1985, 1990\",\"1990, 1995\",\"1995, 2000\",\"2000, 2005\",\"2005, 2010\",\"2010, 2015\",\"2015, 2020\",\"2020, 2025\"],\"title\":{\"text\":\"Year\"}},\"template\":{\"data\":{\"histogram2dcontour\":[{\"type\":\"histogram2dcontour\",\"colorbar\":{\"outlinewidth\":0,\"ticks\":\"\"},\"colorscale\":[[0.0,\"#0d0887\"],[0.1111111111111111,\"#46039f\"],[0.2222222222222222,\"#7201a8\"],[0.3333333333333333,\"#9c179e\"],[0.4444444444444444,\"#bd3786\"],[0.5555555555555556,\"#d8576b\"],[0.6666666666666666,\"#ed7953\"],[0.7777777777777778,\"#fb9f3a\"],[0.8888888888888888,\"#fdca26\"],[1.0,\"#f0f921\"]]}],\"choropleth\":[{\"type\":\"choropleth\",\"colorbar\":{\"outlinewidth\":0,\"ticks\":\"\"}}],\"histogram2d\":[{\"type\":\"histogram2d\",\"colorbar\":{\"outlinewidth\":0,\"ticks\":\"\"},\"colorscale\":[[0.0,\"#0d0887\"],[0.1111111111111111,\"#46039f\"],[0.2222222222222222,\"#7201a8\"],[0.3333333333333333,\"#9c179e\"],[0.4444444444444444,\"#bd3786\"],[0.5555555555555556,\"#d8576b\"],[0.6666666666666666,\"#ed7953\"],[0.7777777777777778,\"#fb9f3a\"],[0.8888888888888888,\"#fdca26\"],[1.0,\"#f0f921\"]]}],\"heatmap\":[{\"type\":\"heatmap\",\"colorbar\":{\"outlinewidth\":0,\"ticks\":\"\"},\"colorscale\":[[0.0,\"#0d0887\"],[0.1111111111111111,\"#46039f\"],[0.2222222222222222,\"#7201a8\"],[0.3333333333333333,\"#9c179e\"],[0.4444444444444444,\"#bd3786\"],[0.5555555555555556,\"#d8576b\"],[0.6666666666666666,\"#ed7953\"],[0.7777777777777778,\"#fb9f3a\"],[0.8888888888888888,\"#fdca26\"],[1.0,\"#f0f921\"]]}],\"heatmapgl\":[{\"type\":\"heatmapgl\",\"colorbar\":{\"outlinewidth\":0,\"ticks\":\"\"},\"colorscale\":[[0.0,\"#0d0887\"],[0.1111111111111111,\"#46039f\"],[0.2222222222222222,\"#7201a8\"],[0.3333333333333333,\"#9c179e\"],[0.4444444444444444,\"#bd3786\"],[0.5555555555555556,\"#d8576b\"],[0.6666666666666666,\"#ed7953\"],[0.7777777777777778,\"#fb9f3a\"],[0.8888888888888888,\"#fdca26\"],[1.0,\"#f0f921\"]]}],\"contourcarpet\":[{\"type\":\"contourcarpet\",\"colorbar\":{\"outlinewidth\":0,\"ticks\":\"\"}}],\"contour\":[{\"type\":\"contour\",\"colorbar\":{\"outlinewidth\":0,\"ticks\":\"\"},\"colorscale\":[[0.0,\"#0d0887\"],[0.1111111111111111,\"#46039f\"],[0.2222222222222222,\"#7201a8\"],[0.3333333333333333,\"#9c179e\"],[0.4444444444444444,\"#bd3786\"],[0.5555555555555556,\"#d8576b\"],[0.6666666666666666,\"#ed7953\"],[0.7777777777777778,\"#fb9f3a\"],[0.8888888888888888,\"#fdca26\"],[1.0,\"#f0f921\"]]}],\"surface\":[{\"type\":\"surface\",\"colorbar\":{\"outlinewidth\":0,\"ticks\":\"\"},\"colorscale\":[[0.0,\"#0d0887\"],[0.1111111111111111,\"#46039f\"],[0.2222222222222222,\"#7201a8\"],[0.3333333333333333,\"#9c179e\"],[0.4444444444444444,\"#bd3786\"],[0.5555555555555556,\"#d8576b\"],[0.6666666666666666,\"#ed7953\"],[0.7777777777777778,\"#fb9f3a\"],[0.8888888888888888,\"#fdca26\"],[1.0,\"#f0f921\"]]}],\"mesh3d\":[{\"type\":\"mesh3d\",\"colorbar\":{\"outlinewidth\":0,\"ticks\":\"\"}}],\"scatter\":[{\"fillpattern\":{\"fillmode\":\"overlay\",\"size\":10,\"solidity\":0.2},\"type\":\"scatter\"}],\"parcoords\":[{\"type\":\"parcoords\",\"line\":{\"colorbar\":{\"outlinewidth\":0,\"ticks\":\"\"}}}],\"scatterpolargl\":[{\"type\":\"scatterpolargl\",\"marker\":{\"colorbar\":{\"outlinewidth\":0,\"ticks\":\"\"}}}],\"bar\":[{\"error_x\":{\"color\":\"#2a3f5f\"},\"error_y\":{\"color\":\"#2a3f5f\"},\"marker\":{\"line\":{\"color\":\"#E5ECF6\",\"width\":0.5},\"pattern\":{\"fillmode\":\"overlay\",\"size\":10,\"solidity\":0.2}},\"type\":\"bar\"}],\"scattergeo\":[{\"type\":\"scattergeo\",\"marker\":{\"colorbar\":{\"outlinewidth\":0,\"ticks\":\"\"}}}],\"scatterpolar\":[{\"type\":\"scatterpolar\",\"marker\":{\"colorbar\":{\"outlinewidth\":0,\"ticks\":\"\"}}}],\"histogram\":[{\"marker\":{\"pattern\":{\"fillmode\":\"overlay\",\"size\":10,\"solidity\":0.2}},\"type\":\"histogram\"}],\"scattergl\":[{\"type\":\"scattergl\",\"marker\":{\"colorbar\":{\"outlinewidth\":0,\"ticks\":\"\"}}}],\"scatter3d\":[{\"type\":\"scatter3d\",\"line\":{\"colorbar\":{\"outlinewidth\":0,\"ticks\":\"\"}},\"marker\":{\"colorbar\":{\"outlinewidth\":0,\"ticks\":\"\"}}}],\"scattermapbox\":[{\"type\":\"scattermapbox\",\"marker\":{\"colorbar\":{\"outlinewidth\":0,\"ticks\":\"\"}}}],\"scatterternary\":[{\"type\":\"scatterternary\",\"marker\":{\"colorbar\":{\"outlinewidth\":0,\"ticks\":\"\"}}}],\"scattercarpet\":[{\"type\":\"scattercarpet\",\"marker\":{\"colorbar\":{\"outlinewidth\":0,\"ticks\":\"\"}}}],\"carpet\":[{\"aaxis\":{\"endlinecolor\":\"#2a3f5f\",\"gridcolor\":\"white\",\"linecolor\":\"white\",\"minorgridcolor\":\"white\",\"startlinecolor\":\"#2a3f5f\"},\"baxis\":{\"endlinecolor\":\"#2a3f5f\",\"gridcolor\":\"white\",\"linecolor\":\"white\",\"minorgridcolor\":\"white\",\"startlinecolor\":\"#2a3f5f\"},\"type\":\"carpet\"}],\"table\":[{\"cells\":{\"fill\":{\"color\":\"#EBF0F8\"},\"line\":{\"color\":\"white\"}},\"header\":{\"fill\":{\"color\":\"#C8D4E3\"},\"line\":{\"color\":\"white\"}},\"type\":\"table\"}],\"barpolar\":[{\"marker\":{\"line\":{\"color\":\"#E5ECF6\",\"width\":0.5},\"pattern\":{\"fillmode\":\"overlay\",\"size\":10,\"solidity\":0.2}},\"type\":\"barpolar\"}],\"pie\":[{\"automargin\":true,\"type\":\"pie\"}]},\"layout\":{\"autotypenumbers\":\"strict\",\"colorway\":[\"#636efa\",\"#EF553B\",\"#00cc96\",\"#ab63fa\",\"#FFA15A\",\"#19d3f3\",\"#FF6692\",\"#B6E880\",\"#FF97FF\",\"#FECB52\"],\"font\":{\"color\":\"#2a3f5f\"},\"hovermode\":\"closest\",\"hoverlabel\":{\"align\":\"left\"},\"paper_bgcolor\":\"white\",\"plot_bgcolor\":\"#E5ECF6\",\"polar\":{\"bgcolor\":\"#E5ECF6\",\"angularaxis\":{\"gridcolor\":\"white\",\"linecolor\":\"white\",\"ticks\":\"\"},\"radialaxis\":{\"gridcolor\":\"white\",\"linecolor\":\"white\",\"ticks\":\"\"}},\"ternary\":{\"bgcolor\":\"#E5ECF6\",\"aaxis\":{\"gridcolor\":\"white\",\"linecolor\":\"white\",\"ticks\":\"\"},\"baxis\":{\"gridcolor\":\"white\",\"linecolor\":\"white\",\"ticks\":\"\"},\"caxis\":{\"gridcolor\":\"white\",\"linecolor\":\"white\",\"ticks\":\"\"}},\"coloraxis\":{\"colorbar\":{\"outlinewidth\":0,\"ticks\":\"\"}},\"colorscale\":{\"sequential\":[[0.0,\"#0d0887\"],[0.1111111111111111,\"#46039f\"],[0.2222222222222222,\"#7201a8\"],[0.3333333333333333,\"#9c179e\"],[0.4444444444444444,\"#bd3786\"],[0.5555555555555556,\"#d8576b\"],[0.6666666666666666,\"#ed7953\"],[0.7777777777777778,\"#fb9f3a\"],[0.8888888888888888,\"#fdca26\"],[1.0,\"#f0f921\"]],\"sequentialminus\":[[0.0,\"#0d0887\"],[0.1111111111111111,\"#46039f\"],[0.2222222222222222,\"#7201a8\"],[0.3333333333333333,\"#9c179e\"],[0.4444444444444444,\"#bd3786\"],[0.5555555555555556,\"#d8576b\"],[0.6666666666666666,\"#ed7953\"],[0.7777777777777778,\"#fb9f3a\"],[0.8888888888888888,\"#fdca26\"],[1.0,\"#f0f921\"]],\"diverging\":[[0,\"#8e0152\"],[0.1,\"#c51b7d\"],[0.2,\"#de77ae\"],[0.3,\"#f1b6da\"],[0.4,\"#fde0ef\"],[0.5,\"#f7f7f7\"],[0.6,\"#e6f5d0\"],[0.7,\"#b8e186\"],[0.8,\"#7fbc41\"],[0.9,\"#4d9221\"],[1,\"#276419\"]]},\"xaxis\":{\"gridcolor\":\"white\",\"linecolor\":\"white\",\"ticks\":\"\",\"title\":{\"standoff\":15},\"zerolinecolor\":\"white\",\"automargin\":true,\"zerolinewidth\":2},\"yaxis\":{\"gridcolor\":\"white\",\"linecolor\":\"white\",\"ticks\":\"\",\"title\":{\"standoff\":15},\"zerolinecolor\":\"white\",\"automargin\":true,\"zerolinewidth\":2},\"scene\":{\"xaxis\":{\"backgroundcolor\":\"#E5ECF6\",\"gridcolor\":\"white\",\"linecolor\":\"white\",\"showbackground\":true,\"ticks\":\"\",\"zerolinecolor\":\"white\",\"gridwidth\":2},\"yaxis\":{\"backgroundcolor\":\"#E5ECF6\",\"gridcolor\":\"white\",\"linecolor\":\"white\",\"showbackground\":true,\"ticks\":\"\",\"zerolinecolor\":\"white\",\"gridwidth\":2},\"zaxis\":{\"backgroundcolor\":\"#E5ECF6\",\"gridcolor\":\"white\",\"linecolor\":\"white\",\"showbackground\":true,\"ticks\":\"\",\"zerolinecolor\":\"white\",\"gridwidth\":2}},\"shapedefaults\":{\"line\":{\"color\":\"#2a3f5f\"}},\"annotationdefaults\":{\"arrowcolor\":\"#2a3f5f\",\"arrowhead\":0,\"arrowwidth\":1},\"geo\":{\"bgcolor\":\"white\",\"landcolor\":\"#E5ECF6\",\"subunitcolor\":\"white\",\"showland\":true,\"showlakes\":true,\"lakecolor\":\"white\"},\"title\":{\"x\":0.05},\"mapbox\":{\"style\":\"light\"}}}},                        {\"responsive\": true}                    ).then(function(){\n",
       "                            \n",
       "var gd = document.getElementById('4e27524a-5e2f-4ebc-84fb-46f044e66131');\n",
       "var x = new MutationObserver(function (mutations, observer) {{\n",
       "        var display = window.getComputedStyle(gd).display;\n",
       "        if (!display || display === 'none') {{\n",
       "            console.log([gd, 'removed!']);\n",
       "            Plotly.purge(gd);\n",
       "            observer.disconnect();\n",
       "        }}\n",
       "}});\n",
       "\n",
       "// Listen for the removal of the full notebook cells\n",
       "var notebookContainer = gd.closest('#notebook-container');\n",
       "if (notebookContainer) {{\n",
       "    x.observe(notebookContainer, {childList: true});\n",
       "}}\n",
       "\n",
       "// Listen for the clearing of the current output cell\n",
       "var outputEl = gd.closest('.output');\n",
       "if (outputEl) {{\n",
       "    x.observe(outputEl, {childList: true});\n",
       "}}\n",
       "\n",
       "                        })                };                });            </script>        </div>"
      ]
     },
     "metadata": {},
     "output_type": "display_data"
    }
   ],
   "execution_count": 279
  },
  {
   "cell_type": "markdown",
   "id": "e2f63a45f18e17ba",
   "metadata": {},
   "source": [
    "### 1.3 Ratio of sequels to original movies"
   ]
  },
  {
   "cell_type": "markdown",
   "id": "f78fbb65b729a89",
   "metadata": {},
   "source": [
    "\n",
    "\n",
    "Calculation and plot of the ratio between movies with sequel and the number of movies, both per 5 years.\n"
   ]
  },
  {
   "cell_type": "markdown",
   "id": "c72e5af5",
   "metadata": {},
   "source": [
    "$$\n",
    "\\text{Ratio} = \\frac{\\text{nb of movie with sequel per 5 year}}{\\text{nb of movie per 5 year}}\n",
    "$$"
   ]
  },
  {
   "cell_type": "code",
   "id": "3d67deb118ecbe63",
   "metadata": {
    "ExecuteTime": {
     "end_time": "2024-12-13T22:54:40.027660Z",
     "start_time": "2024-12-13T22:54:39.776052Z"
    }
   },
   "source": [
    "\n",
    "from src.models.movie_counter import get_ratio_movie_figure\n",
    "\n",
    "fig = get_ratio_movie_figure(movie_frames_old)\n",
    "fig"
   ],
   "outputs": [
    {
     "data": {
      "application/vnd.plotly.v1+json": {
       "data": [
        {
         "line": {
          "color": "rgb(102,194,165)",
          "width": 2
         },
         "mode": "lines+markers",
         "name": "ratio of sequels per movies",
         "x": [
          "1880, 1885",
          "1885, 1890",
          "1890, 1895",
          "1895, 1900",
          "1900, 1905",
          "1905, 1910",
          "1910, 1915",
          "1915, 1920",
          "1920, 1925",
          "1925, 1930",
          "1930, 1935",
          "1935, 1940",
          "1940, 1945",
          "1945, 1950",
          "1950, 1955",
          "1955, 1960",
          "1960, 1965",
          "1965, 1970",
          "1970, 1975",
          "1975, 1980",
          "1980, 1985",
          "1985, 1990",
          "1990, 1995",
          "1995, 2000",
          "2000, 2005",
          "2005, 2010"
         ],
         "y": [
          0.0,
          0.0,
          0.0,
          0.0,
          0.0,
          0.6622516556291391,
          0.0,
          0.062034739454094295,
          0.14970059880239522,
          0.0,
          0.21358393848782573,
          0.3832886163280951,
          0.585321927059883,
          0.2564102564102564,
          0.3793103448275862,
          0.5077983315197679,
          0.515818431911967,
          0.7472384665367121,
          0.9030002912904166,
          1.0228640192539111,
          1.1165187517892927,
          1.686089759484255,
          1.29663330300273,
          0.9197475202885483,
          0.6979770495682006,
          0.4672492861469239
         ],
         "type": "scatter"
        },
        {
         "line": {
          "color": "rgb(252,141,98)",
          "width": 2
         },
         "mode": "lines+markers",
         "name": "ratio of books per movies",
         "x": [
          "1880, 1885",
          "1885, 1890",
          "1890, 1895",
          "1895, 1900",
          "1900, 1905",
          "1905, 1910",
          "1910, 1915",
          "1915, 1920",
          "1920, 1925",
          "1925, 1930",
          "1930, 1935",
          "1935, 1940",
          "1940, 1945",
          "1945, 1950",
          "1950, 1955",
          "1955, 1960",
          "1960, 1965",
          "1965, 1970",
          "1970, 1975",
          "1975, 1980",
          "1980, 1985",
          "1985, 1990",
          "1990, 1995",
          "1995, 2000",
          "2000, 2005",
          "2005, 2010"
         ],
         "y": [
          0.0,
          0.0,
          0.0,
          0.0,
          5.660377358490567,
          3.9735099337748347,
          0.2985074626865672,
          1.3027295285359801,
          2.095808383233533,
          2.295918367346939,
          3.2037590773173856,
          2.9129934840935223,
          2.3863124718595228,
          3.8461538461538463,
          2.7586206896551726,
          4.932898077620602,
          4.84869325997249,
          5.16569200779727,
          4.573259539761142,
          4.302045728038508,
          4.609218436873747,
          3.644929333002728,
          3.1392174704276616,
          3.5166816952209197,
          2.472494972199219,
          1.6353725015142337
         ],
         "type": "scatter"
        },
        {
         "line": {
          "color": "rgb(141,160,203)",
          "width": 2
         },
         "mode": "lines+markers",
         "name": "ratio of comics per movies",
         "x": [
          "1880, 1885",
          "1885, 1890",
          "1890, 1895",
          "1895, 1900",
          "1900, 1905",
          "1905, 1910",
          "1910, 1915",
          "1915, 1920",
          "1920, 1925",
          "1925, 1930",
          "1930, 1935",
          "1935, 1940",
          "1940, 1945",
          "1945, 1950",
          "1950, 1955",
          "1955, 1960",
          "1960, 1965",
          "1965, 1970",
          "1970, 1975",
          "1975, 1980",
          "1980, 1985",
          "1985, 1990",
          "1990, 1995",
          "1995, 2000",
          "2000, 2005",
          "2005, 2010"
         ],
         "y": [
          0.0,
          0.0,
          0.0,
          0.0,
          0.0,
          0.0,
          0.0,
          0.0,
          0.0,
          0.0,
          0.0,
          0.038328861632809505,
          0.09004952723998198,
          0.0,
          0.06896551724137931,
          0.0,
          0.0343878954607978,
          0.1299545159194282,
          0.11651616661811826,
          0.210589651022864,
          0.31491554537646727,
          0.2727498140342177,
          0.3867151956323931,
          0.2885482416591524,
          0.3667337040104105,
          0.3893744051224366
         ],
         "type": "scatter"
        },
        {
         "line": {
          "color": "rgb(231,138,195)",
          "width": 2
         },
         "mode": "lines+markers",
         "name": "ratio of remakes per movies",
         "x": [
          "1880, 1885",
          "1885, 1890",
          "1890, 1895",
          "1895, 1900",
          "1900, 1905",
          "1905, 1910",
          "1910, 1915",
          "1915, 1920",
          "1920, 1925",
          "1925, 1930",
          "1930, 1935",
          "1935, 1940",
          "1940, 1945",
          "1945, 1950",
          "1950, 1955",
          "1955, 1960",
          "1960, 1965",
          "1965, 1970",
          "1970, 1975",
          "1975, 1980",
          "1980, 1985",
          "1985, 1990",
          "1990, 1995",
          "1995, 2000",
          "2000, 2005",
          "2005, 2010"
         ],
         "y": [
          0.0,
          0.0,
          0.0,
          1.3888888888888888,
          0.0,
          0.0,
          0.0,
          0.0,
          0.29940119760479045,
          0.31887755102040816,
          0.3844510892780863,
          0.3832886163280951,
          0.31517334533993696,
          0.4700854700854701,
          0.4827586206896552,
          0.5803409503083061,
          0.48143053645116923,
          0.2599090318388564,
          0.20390329158170697,
          0.3910950661853189,
          0.6298310907529345,
          0.7190676915447558,
          0.6141947224749773,
          0.5951307484220018,
          0.8162782444102685,
          0.5970407545210695
         ],
         "type": "scatter"
        }
       ],
       "layout": {
        "template": {
         "data": {
          "histogram2dcontour": [
           {
            "type": "histogram2dcontour",
            "colorbar": {
             "outlinewidth": 0,
             "ticks": ""
            },
            "colorscale": [
             [
              0.0,
              "#0d0887"
             ],
             [
              0.1111111111111111,
              "#46039f"
             ],
             [
              0.2222222222222222,
              "#7201a8"
             ],
             [
              0.3333333333333333,
              "#9c179e"
             ],
             [
              0.4444444444444444,
              "#bd3786"
             ],
             [
              0.5555555555555556,
              "#d8576b"
             ],
             [
              0.6666666666666666,
              "#ed7953"
             ],
             [
              0.7777777777777778,
              "#fb9f3a"
             ],
             [
              0.8888888888888888,
              "#fdca26"
             ],
             [
              1.0,
              "#f0f921"
             ]
            ]
           }
          ],
          "choropleth": [
           {
            "type": "choropleth",
            "colorbar": {
             "outlinewidth": 0,
             "ticks": ""
            }
           }
          ],
          "histogram2d": [
           {
            "type": "histogram2d",
            "colorbar": {
             "outlinewidth": 0,
             "ticks": ""
            },
            "colorscale": [
             [
              0.0,
              "#0d0887"
             ],
             [
              0.1111111111111111,
              "#46039f"
             ],
             [
              0.2222222222222222,
              "#7201a8"
             ],
             [
              0.3333333333333333,
              "#9c179e"
             ],
             [
              0.4444444444444444,
              "#bd3786"
             ],
             [
              0.5555555555555556,
              "#d8576b"
             ],
             [
              0.6666666666666666,
              "#ed7953"
             ],
             [
              0.7777777777777778,
              "#fb9f3a"
             ],
             [
              0.8888888888888888,
              "#fdca26"
             ],
             [
              1.0,
              "#f0f921"
             ]
            ]
           }
          ],
          "heatmap": [
           {
            "type": "heatmap",
            "colorbar": {
             "outlinewidth": 0,
             "ticks": ""
            },
            "colorscale": [
             [
              0.0,
              "#0d0887"
             ],
             [
              0.1111111111111111,
              "#46039f"
             ],
             [
              0.2222222222222222,
              "#7201a8"
             ],
             [
              0.3333333333333333,
              "#9c179e"
             ],
             [
              0.4444444444444444,
              "#bd3786"
             ],
             [
              0.5555555555555556,
              "#d8576b"
             ],
             [
              0.6666666666666666,
              "#ed7953"
             ],
             [
              0.7777777777777778,
              "#fb9f3a"
             ],
             [
              0.8888888888888888,
              "#fdca26"
             ],
             [
              1.0,
              "#f0f921"
             ]
            ]
           }
          ],
          "heatmapgl": [
           {
            "type": "heatmapgl",
            "colorbar": {
             "outlinewidth": 0,
             "ticks": ""
            },
            "colorscale": [
             [
              0.0,
              "#0d0887"
             ],
             [
              0.1111111111111111,
              "#46039f"
             ],
             [
              0.2222222222222222,
              "#7201a8"
             ],
             [
              0.3333333333333333,
              "#9c179e"
             ],
             [
              0.4444444444444444,
              "#bd3786"
             ],
             [
              0.5555555555555556,
              "#d8576b"
             ],
             [
              0.6666666666666666,
              "#ed7953"
             ],
             [
              0.7777777777777778,
              "#fb9f3a"
             ],
             [
              0.8888888888888888,
              "#fdca26"
             ],
             [
              1.0,
              "#f0f921"
             ]
            ]
           }
          ],
          "contourcarpet": [
           {
            "type": "contourcarpet",
            "colorbar": {
             "outlinewidth": 0,
             "ticks": ""
            }
           }
          ],
          "contour": [
           {
            "type": "contour",
            "colorbar": {
             "outlinewidth": 0,
             "ticks": ""
            },
            "colorscale": [
             [
              0.0,
              "#0d0887"
             ],
             [
              0.1111111111111111,
              "#46039f"
             ],
             [
              0.2222222222222222,
              "#7201a8"
             ],
             [
              0.3333333333333333,
              "#9c179e"
             ],
             [
              0.4444444444444444,
              "#bd3786"
             ],
             [
              0.5555555555555556,
              "#d8576b"
             ],
             [
              0.6666666666666666,
              "#ed7953"
             ],
             [
              0.7777777777777778,
              "#fb9f3a"
             ],
             [
              0.8888888888888888,
              "#fdca26"
             ],
             [
              1.0,
              "#f0f921"
             ]
            ]
           }
          ],
          "surface": [
           {
            "type": "surface",
            "colorbar": {
             "outlinewidth": 0,
             "ticks": ""
            },
            "colorscale": [
             [
              0.0,
              "#0d0887"
             ],
             [
              0.1111111111111111,
              "#46039f"
             ],
             [
              0.2222222222222222,
              "#7201a8"
             ],
             [
              0.3333333333333333,
              "#9c179e"
             ],
             [
              0.4444444444444444,
              "#bd3786"
             ],
             [
              0.5555555555555556,
              "#d8576b"
             ],
             [
              0.6666666666666666,
              "#ed7953"
             ],
             [
              0.7777777777777778,
              "#fb9f3a"
             ],
             [
              0.8888888888888888,
              "#fdca26"
             ],
             [
              1.0,
              "#f0f921"
             ]
            ]
           }
          ],
          "mesh3d": [
           {
            "type": "mesh3d",
            "colorbar": {
             "outlinewidth": 0,
             "ticks": ""
            }
           }
          ],
          "scatter": [
           {
            "fillpattern": {
             "fillmode": "overlay",
             "size": 10,
             "solidity": 0.2
            },
            "type": "scatter"
           }
          ],
          "parcoords": [
           {
            "type": "parcoords",
            "line": {
             "colorbar": {
              "outlinewidth": 0,
              "ticks": ""
             }
            }
           }
          ],
          "scatterpolargl": [
           {
            "type": "scatterpolargl",
            "marker": {
             "colorbar": {
              "outlinewidth": 0,
              "ticks": ""
             }
            }
           }
          ],
          "bar": [
           {
            "error_x": {
             "color": "#2a3f5f"
            },
            "error_y": {
             "color": "#2a3f5f"
            },
            "marker": {
             "line": {
              "color": "#E5ECF6",
              "width": 0.5
             },
             "pattern": {
              "fillmode": "overlay",
              "size": 10,
              "solidity": 0.2
             }
            },
            "type": "bar"
           }
          ],
          "scattergeo": [
           {
            "type": "scattergeo",
            "marker": {
             "colorbar": {
              "outlinewidth": 0,
              "ticks": ""
             }
            }
           }
          ],
          "scatterpolar": [
           {
            "type": "scatterpolar",
            "marker": {
             "colorbar": {
              "outlinewidth": 0,
              "ticks": ""
             }
            }
           }
          ],
          "histogram": [
           {
            "marker": {
             "pattern": {
              "fillmode": "overlay",
              "size": 10,
              "solidity": 0.2
             }
            },
            "type": "histogram"
           }
          ],
          "scattergl": [
           {
            "type": "scattergl",
            "marker": {
             "colorbar": {
              "outlinewidth": 0,
              "ticks": ""
             }
            }
           }
          ],
          "scatter3d": [
           {
            "type": "scatter3d",
            "line": {
             "colorbar": {
              "outlinewidth": 0,
              "ticks": ""
             }
            },
            "marker": {
             "colorbar": {
              "outlinewidth": 0,
              "ticks": ""
             }
            }
           }
          ],
          "scattermapbox": [
           {
            "type": "scattermapbox",
            "marker": {
             "colorbar": {
              "outlinewidth": 0,
              "ticks": ""
             }
            }
           }
          ],
          "scatterternary": [
           {
            "type": "scatterternary",
            "marker": {
             "colorbar": {
              "outlinewidth": 0,
              "ticks": ""
             }
            }
           }
          ],
          "scattercarpet": [
           {
            "type": "scattercarpet",
            "marker": {
             "colorbar": {
              "outlinewidth": 0,
              "ticks": ""
             }
            }
           }
          ],
          "carpet": [
           {
            "aaxis": {
             "endlinecolor": "#2a3f5f",
             "gridcolor": "white",
             "linecolor": "white",
             "minorgridcolor": "white",
             "startlinecolor": "#2a3f5f"
            },
            "baxis": {
             "endlinecolor": "#2a3f5f",
             "gridcolor": "white",
             "linecolor": "white",
             "minorgridcolor": "white",
             "startlinecolor": "#2a3f5f"
            },
            "type": "carpet"
           }
          ],
          "table": [
           {
            "cells": {
             "fill": {
              "color": "#EBF0F8"
             },
             "line": {
              "color": "white"
             }
            },
            "header": {
             "fill": {
              "color": "#C8D4E3"
             },
             "line": {
              "color": "white"
             }
            },
            "type": "table"
           }
          ],
          "barpolar": [
           {
            "marker": {
             "line": {
              "color": "#E5ECF6",
              "width": 0.5
             },
             "pattern": {
              "fillmode": "overlay",
              "size": 10,
              "solidity": 0.2
             }
            },
            "type": "barpolar"
           }
          ],
          "pie": [
           {
            "automargin": true,
            "type": "pie"
           }
          ]
         },
         "layout": {
          "autotypenumbers": "strict",
          "colorway": [
           "#636efa",
           "#EF553B",
           "#00cc96",
           "#ab63fa",
           "#FFA15A",
           "#19d3f3",
           "#FF6692",
           "#B6E880",
           "#FF97FF",
           "#FECB52"
          ],
          "font": {
           "color": "#2a3f5f"
          },
          "hovermode": "closest",
          "hoverlabel": {
           "align": "left"
          },
          "paper_bgcolor": "white",
          "plot_bgcolor": "#E5ECF6",
          "polar": {
           "bgcolor": "#E5ECF6",
           "angularaxis": {
            "gridcolor": "white",
            "linecolor": "white",
            "ticks": ""
           },
           "radialaxis": {
            "gridcolor": "white",
            "linecolor": "white",
            "ticks": ""
           }
          },
          "ternary": {
           "bgcolor": "#E5ECF6",
           "aaxis": {
            "gridcolor": "white",
            "linecolor": "white",
            "ticks": ""
           },
           "baxis": {
            "gridcolor": "white",
            "linecolor": "white",
            "ticks": ""
           },
           "caxis": {
            "gridcolor": "white",
            "linecolor": "white",
            "ticks": ""
           }
          },
          "coloraxis": {
           "colorbar": {
            "outlinewidth": 0,
            "ticks": ""
           }
          },
          "colorscale": {
           "sequential": [
            [
             0.0,
             "#0d0887"
            ],
            [
             0.1111111111111111,
             "#46039f"
            ],
            [
             0.2222222222222222,
             "#7201a8"
            ],
            [
             0.3333333333333333,
             "#9c179e"
            ],
            [
             0.4444444444444444,
             "#bd3786"
            ],
            [
             0.5555555555555556,
             "#d8576b"
            ],
            [
             0.6666666666666666,
             "#ed7953"
            ],
            [
             0.7777777777777778,
             "#fb9f3a"
            ],
            [
             0.8888888888888888,
             "#fdca26"
            ],
            [
             1.0,
             "#f0f921"
            ]
           ],
           "sequentialminus": [
            [
             0.0,
             "#0d0887"
            ],
            [
             0.1111111111111111,
             "#46039f"
            ],
            [
             0.2222222222222222,
             "#7201a8"
            ],
            [
             0.3333333333333333,
             "#9c179e"
            ],
            [
             0.4444444444444444,
             "#bd3786"
            ],
            [
             0.5555555555555556,
             "#d8576b"
            ],
            [
             0.6666666666666666,
             "#ed7953"
            ],
            [
             0.7777777777777778,
             "#fb9f3a"
            ],
            [
             0.8888888888888888,
             "#fdca26"
            ],
            [
             1.0,
             "#f0f921"
            ]
           ],
           "diverging": [
            [
             0,
             "#8e0152"
            ],
            [
             0.1,
             "#c51b7d"
            ],
            [
             0.2,
             "#de77ae"
            ],
            [
             0.3,
             "#f1b6da"
            ],
            [
             0.4,
             "#fde0ef"
            ],
            [
             0.5,
             "#f7f7f7"
            ],
            [
             0.6,
             "#e6f5d0"
            ],
            [
             0.7,
             "#b8e186"
            ],
            [
             0.8,
             "#7fbc41"
            ],
            [
             0.9,
             "#4d9221"
            ],
            [
             1,
             "#276419"
            ]
           ]
          },
          "xaxis": {
           "gridcolor": "white",
           "linecolor": "white",
           "ticks": "",
           "title": {
            "standoff": 15
           },
           "zerolinecolor": "white",
           "automargin": true,
           "zerolinewidth": 2
          },
          "yaxis": {
           "gridcolor": "white",
           "linecolor": "white",
           "ticks": "",
           "title": {
            "standoff": 15
           },
           "zerolinecolor": "white",
           "automargin": true,
           "zerolinewidth": 2
          },
          "scene": {
           "xaxis": {
            "backgroundcolor": "#E5ECF6",
            "gridcolor": "white",
            "linecolor": "white",
            "showbackground": true,
            "ticks": "",
            "zerolinecolor": "white",
            "gridwidth": 2
           },
           "yaxis": {
            "backgroundcolor": "#E5ECF6",
            "gridcolor": "white",
            "linecolor": "white",
            "showbackground": true,
            "ticks": "",
            "zerolinecolor": "white",
            "gridwidth": 2
           },
           "zaxis": {
            "backgroundcolor": "#E5ECF6",
            "gridcolor": "white",
            "linecolor": "white",
            "showbackground": true,
            "ticks": "",
            "zerolinecolor": "white",
            "gridwidth": 2
           }
          },
          "shapedefaults": {
           "line": {
            "color": "#2a3f5f"
           }
          },
          "annotationdefaults": {
           "arrowcolor": "#2a3f5f",
           "arrowhead": 0,
           "arrowwidth": 1
          },
          "geo": {
           "bgcolor": "white",
           "landcolor": "#E5ECF6",
           "subunitcolor": "white",
           "showland": true,
           "showlakes": true,
           "lakecolor": "white"
          },
          "title": {
           "x": 0.05
          },
          "mapbox": {
           "style": "light"
          }
         }
        },
        "xaxis": {
         "title": {
          "text": "Year"
         },
         "tickvals": [
          "1880, 1885",
          "1885, 1890",
          "1890, 1895",
          "1895, 1900",
          "1900, 1905",
          "1905, 1910",
          "1910, 1915",
          "1915, 1920",
          "1920, 1925",
          "1925, 1930",
          "1930, 1935",
          "1935, 1940",
          "1940, 1945",
          "1945, 1950",
          "1950, 1955",
          "1955, 1960",
          "1960, 1965",
          "1965, 1970",
          "1970, 1975",
          "1975, 1980",
          "1980, 1985",
          "1985, 1990",
          "1990, 1995",
          "1995, 2000",
          "2000, 2005",
          "2005, 2010"
         ],
         "tickangle": 45
        },
        "title": {
         "text": "Ratio of movies with sequels per 5 years"
        },
        "yaxis": {
         "title": {
          "text": "Ratio (%)"
         }
        }
       },
       "config": {
        "plotlyServerURL": "https://plot.ly"
       }
      },
      "text/html": [
       "<div>                            <div id=\"87634eaf-318f-4d5c-93f4-e157f14d0238\" class=\"plotly-graph-div\" style=\"height:525px; width:100%;\"></div>            <script type=\"text/javascript\">                require([\"plotly\"], function(Plotly) {                    window.PLOTLYENV=window.PLOTLYENV || {};                                    if (document.getElementById(\"87634eaf-318f-4d5c-93f4-e157f14d0238\")) {                    Plotly.newPlot(                        \"87634eaf-318f-4d5c-93f4-e157f14d0238\",                        [{\"line\":{\"color\":\"rgb(102,194,165)\",\"width\":2},\"mode\":\"lines+markers\",\"name\":\"ratio of sequels per movies\",\"x\":[\"1880, 1885\",\"1885, 1890\",\"1890, 1895\",\"1895, 1900\",\"1900, 1905\",\"1905, 1910\",\"1910, 1915\",\"1915, 1920\",\"1920, 1925\",\"1925, 1930\",\"1930, 1935\",\"1935, 1940\",\"1940, 1945\",\"1945, 1950\",\"1950, 1955\",\"1955, 1960\",\"1960, 1965\",\"1965, 1970\",\"1970, 1975\",\"1975, 1980\",\"1980, 1985\",\"1985, 1990\",\"1990, 1995\",\"1995, 2000\",\"2000, 2005\",\"2005, 2010\"],\"y\":[0.0,0.0,0.0,0.0,0.0,0.6622516556291391,0.0,0.062034739454094295,0.14970059880239522,0.0,0.21358393848782573,0.3832886163280951,0.585321927059883,0.2564102564102564,0.3793103448275862,0.5077983315197679,0.515818431911967,0.7472384665367121,0.9030002912904166,1.0228640192539111,1.1165187517892927,1.686089759484255,1.29663330300273,0.9197475202885483,0.6979770495682006,0.4672492861469239],\"type\":\"scatter\"},{\"line\":{\"color\":\"rgb(252,141,98)\",\"width\":2},\"mode\":\"lines+markers\",\"name\":\"ratio of books per movies\",\"x\":[\"1880, 1885\",\"1885, 1890\",\"1890, 1895\",\"1895, 1900\",\"1900, 1905\",\"1905, 1910\",\"1910, 1915\",\"1915, 1920\",\"1920, 1925\",\"1925, 1930\",\"1930, 1935\",\"1935, 1940\",\"1940, 1945\",\"1945, 1950\",\"1950, 1955\",\"1955, 1960\",\"1960, 1965\",\"1965, 1970\",\"1970, 1975\",\"1975, 1980\",\"1980, 1985\",\"1985, 1990\",\"1990, 1995\",\"1995, 2000\",\"2000, 2005\",\"2005, 2010\"],\"y\":[0.0,0.0,0.0,0.0,5.660377358490567,3.9735099337748347,0.2985074626865672,1.3027295285359801,2.095808383233533,2.295918367346939,3.2037590773173856,2.9129934840935223,2.3863124718595228,3.8461538461538463,2.7586206896551726,4.932898077620602,4.84869325997249,5.16569200779727,4.573259539761142,4.302045728038508,4.609218436873747,3.644929333002728,3.1392174704276616,3.5166816952209197,2.472494972199219,1.6353725015142337],\"type\":\"scatter\"},{\"line\":{\"color\":\"rgb(141,160,203)\",\"width\":2},\"mode\":\"lines+markers\",\"name\":\"ratio of comics per movies\",\"x\":[\"1880, 1885\",\"1885, 1890\",\"1890, 1895\",\"1895, 1900\",\"1900, 1905\",\"1905, 1910\",\"1910, 1915\",\"1915, 1920\",\"1920, 1925\",\"1925, 1930\",\"1930, 1935\",\"1935, 1940\",\"1940, 1945\",\"1945, 1950\",\"1950, 1955\",\"1955, 1960\",\"1960, 1965\",\"1965, 1970\",\"1970, 1975\",\"1975, 1980\",\"1980, 1985\",\"1985, 1990\",\"1990, 1995\",\"1995, 2000\",\"2000, 2005\",\"2005, 2010\"],\"y\":[0.0,0.0,0.0,0.0,0.0,0.0,0.0,0.0,0.0,0.0,0.0,0.038328861632809505,0.09004952723998198,0.0,0.06896551724137931,0.0,0.0343878954607978,0.1299545159194282,0.11651616661811826,0.210589651022864,0.31491554537646727,0.2727498140342177,0.3867151956323931,0.2885482416591524,0.3667337040104105,0.3893744051224366],\"type\":\"scatter\"},{\"line\":{\"color\":\"rgb(231,138,195)\",\"width\":2},\"mode\":\"lines+markers\",\"name\":\"ratio of remakes per movies\",\"x\":[\"1880, 1885\",\"1885, 1890\",\"1890, 1895\",\"1895, 1900\",\"1900, 1905\",\"1905, 1910\",\"1910, 1915\",\"1915, 1920\",\"1920, 1925\",\"1925, 1930\",\"1930, 1935\",\"1935, 1940\",\"1940, 1945\",\"1945, 1950\",\"1950, 1955\",\"1955, 1960\",\"1960, 1965\",\"1965, 1970\",\"1970, 1975\",\"1975, 1980\",\"1980, 1985\",\"1985, 1990\",\"1990, 1995\",\"1995, 2000\",\"2000, 2005\",\"2005, 2010\"],\"y\":[0.0,0.0,0.0,1.3888888888888888,0.0,0.0,0.0,0.0,0.29940119760479045,0.31887755102040816,0.3844510892780863,0.3832886163280951,0.31517334533993696,0.4700854700854701,0.4827586206896552,0.5803409503083061,0.48143053645116923,0.2599090318388564,0.20390329158170697,0.3910950661853189,0.6298310907529345,0.7190676915447558,0.6141947224749773,0.5951307484220018,0.8162782444102685,0.5970407545210695],\"type\":\"scatter\"}],                        {\"template\":{\"data\":{\"histogram2dcontour\":[{\"type\":\"histogram2dcontour\",\"colorbar\":{\"outlinewidth\":0,\"ticks\":\"\"},\"colorscale\":[[0.0,\"#0d0887\"],[0.1111111111111111,\"#46039f\"],[0.2222222222222222,\"#7201a8\"],[0.3333333333333333,\"#9c179e\"],[0.4444444444444444,\"#bd3786\"],[0.5555555555555556,\"#d8576b\"],[0.6666666666666666,\"#ed7953\"],[0.7777777777777778,\"#fb9f3a\"],[0.8888888888888888,\"#fdca26\"],[1.0,\"#f0f921\"]]}],\"choropleth\":[{\"type\":\"choropleth\",\"colorbar\":{\"outlinewidth\":0,\"ticks\":\"\"}}],\"histogram2d\":[{\"type\":\"histogram2d\",\"colorbar\":{\"outlinewidth\":0,\"ticks\":\"\"},\"colorscale\":[[0.0,\"#0d0887\"],[0.1111111111111111,\"#46039f\"],[0.2222222222222222,\"#7201a8\"],[0.3333333333333333,\"#9c179e\"],[0.4444444444444444,\"#bd3786\"],[0.5555555555555556,\"#d8576b\"],[0.6666666666666666,\"#ed7953\"],[0.7777777777777778,\"#fb9f3a\"],[0.8888888888888888,\"#fdca26\"],[1.0,\"#f0f921\"]]}],\"heatmap\":[{\"type\":\"heatmap\",\"colorbar\":{\"outlinewidth\":0,\"ticks\":\"\"},\"colorscale\":[[0.0,\"#0d0887\"],[0.1111111111111111,\"#46039f\"],[0.2222222222222222,\"#7201a8\"],[0.3333333333333333,\"#9c179e\"],[0.4444444444444444,\"#bd3786\"],[0.5555555555555556,\"#d8576b\"],[0.6666666666666666,\"#ed7953\"],[0.7777777777777778,\"#fb9f3a\"],[0.8888888888888888,\"#fdca26\"],[1.0,\"#f0f921\"]]}],\"heatmapgl\":[{\"type\":\"heatmapgl\",\"colorbar\":{\"outlinewidth\":0,\"ticks\":\"\"},\"colorscale\":[[0.0,\"#0d0887\"],[0.1111111111111111,\"#46039f\"],[0.2222222222222222,\"#7201a8\"],[0.3333333333333333,\"#9c179e\"],[0.4444444444444444,\"#bd3786\"],[0.5555555555555556,\"#d8576b\"],[0.6666666666666666,\"#ed7953\"],[0.7777777777777778,\"#fb9f3a\"],[0.8888888888888888,\"#fdca26\"],[1.0,\"#f0f921\"]]}],\"contourcarpet\":[{\"type\":\"contourcarpet\",\"colorbar\":{\"outlinewidth\":0,\"ticks\":\"\"}}],\"contour\":[{\"type\":\"contour\",\"colorbar\":{\"outlinewidth\":0,\"ticks\":\"\"},\"colorscale\":[[0.0,\"#0d0887\"],[0.1111111111111111,\"#46039f\"],[0.2222222222222222,\"#7201a8\"],[0.3333333333333333,\"#9c179e\"],[0.4444444444444444,\"#bd3786\"],[0.5555555555555556,\"#d8576b\"],[0.6666666666666666,\"#ed7953\"],[0.7777777777777778,\"#fb9f3a\"],[0.8888888888888888,\"#fdca26\"],[1.0,\"#f0f921\"]]}],\"surface\":[{\"type\":\"surface\",\"colorbar\":{\"outlinewidth\":0,\"ticks\":\"\"},\"colorscale\":[[0.0,\"#0d0887\"],[0.1111111111111111,\"#46039f\"],[0.2222222222222222,\"#7201a8\"],[0.3333333333333333,\"#9c179e\"],[0.4444444444444444,\"#bd3786\"],[0.5555555555555556,\"#d8576b\"],[0.6666666666666666,\"#ed7953\"],[0.7777777777777778,\"#fb9f3a\"],[0.8888888888888888,\"#fdca26\"],[1.0,\"#f0f921\"]]}],\"mesh3d\":[{\"type\":\"mesh3d\",\"colorbar\":{\"outlinewidth\":0,\"ticks\":\"\"}}],\"scatter\":[{\"fillpattern\":{\"fillmode\":\"overlay\",\"size\":10,\"solidity\":0.2},\"type\":\"scatter\"}],\"parcoords\":[{\"type\":\"parcoords\",\"line\":{\"colorbar\":{\"outlinewidth\":0,\"ticks\":\"\"}}}],\"scatterpolargl\":[{\"type\":\"scatterpolargl\",\"marker\":{\"colorbar\":{\"outlinewidth\":0,\"ticks\":\"\"}}}],\"bar\":[{\"error_x\":{\"color\":\"#2a3f5f\"},\"error_y\":{\"color\":\"#2a3f5f\"},\"marker\":{\"line\":{\"color\":\"#E5ECF6\",\"width\":0.5},\"pattern\":{\"fillmode\":\"overlay\",\"size\":10,\"solidity\":0.2}},\"type\":\"bar\"}],\"scattergeo\":[{\"type\":\"scattergeo\",\"marker\":{\"colorbar\":{\"outlinewidth\":0,\"ticks\":\"\"}}}],\"scatterpolar\":[{\"type\":\"scatterpolar\",\"marker\":{\"colorbar\":{\"outlinewidth\":0,\"ticks\":\"\"}}}],\"histogram\":[{\"marker\":{\"pattern\":{\"fillmode\":\"overlay\",\"size\":10,\"solidity\":0.2}},\"type\":\"histogram\"}],\"scattergl\":[{\"type\":\"scattergl\",\"marker\":{\"colorbar\":{\"outlinewidth\":0,\"ticks\":\"\"}}}],\"scatter3d\":[{\"type\":\"scatter3d\",\"line\":{\"colorbar\":{\"outlinewidth\":0,\"ticks\":\"\"}},\"marker\":{\"colorbar\":{\"outlinewidth\":0,\"ticks\":\"\"}}}],\"scattermapbox\":[{\"type\":\"scattermapbox\",\"marker\":{\"colorbar\":{\"outlinewidth\":0,\"ticks\":\"\"}}}],\"scatterternary\":[{\"type\":\"scatterternary\",\"marker\":{\"colorbar\":{\"outlinewidth\":0,\"ticks\":\"\"}}}],\"scattercarpet\":[{\"type\":\"scattercarpet\",\"marker\":{\"colorbar\":{\"outlinewidth\":0,\"ticks\":\"\"}}}],\"carpet\":[{\"aaxis\":{\"endlinecolor\":\"#2a3f5f\",\"gridcolor\":\"white\",\"linecolor\":\"white\",\"minorgridcolor\":\"white\",\"startlinecolor\":\"#2a3f5f\"},\"baxis\":{\"endlinecolor\":\"#2a3f5f\",\"gridcolor\":\"white\",\"linecolor\":\"white\",\"minorgridcolor\":\"white\",\"startlinecolor\":\"#2a3f5f\"},\"type\":\"carpet\"}],\"table\":[{\"cells\":{\"fill\":{\"color\":\"#EBF0F8\"},\"line\":{\"color\":\"white\"}},\"header\":{\"fill\":{\"color\":\"#C8D4E3\"},\"line\":{\"color\":\"white\"}},\"type\":\"table\"}],\"barpolar\":[{\"marker\":{\"line\":{\"color\":\"#E5ECF6\",\"width\":0.5},\"pattern\":{\"fillmode\":\"overlay\",\"size\":10,\"solidity\":0.2}},\"type\":\"barpolar\"}],\"pie\":[{\"automargin\":true,\"type\":\"pie\"}]},\"layout\":{\"autotypenumbers\":\"strict\",\"colorway\":[\"#636efa\",\"#EF553B\",\"#00cc96\",\"#ab63fa\",\"#FFA15A\",\"#19d3f3\",\"#FF6692\",\"#B6E880\",\"#FF97FF\",\"#FECB52\"],\"font\":{\"color\":\"#2a3f5f\"},\"hovermode\":\"closest\",\"hoverlabel\":{\"align\":\"left\"},\"paper_bgcolor\":\"white\",\"plot_bgcolor\":\"#E5ECF6\",\"polar\":{\"bgcolor\":\"#E5ECF6\",\"angularaxis\":{\"gridcolor\":\"white\",\"linecolor\":\"white\",\"ticks\":\"\"},\"radialaxis\":{\"gridcolor\":\"white\",\"linecolor\":\"white\",\"ticks\":\"\"}},\"ternary\":{\"bgcolor\":\"#E5ECF6\",\"aaxis\":{\"gridcolor\":\"white\",\"linecolor\":\"white\",\"ticks\":\"\"},\"baxis\":{\"gridcolor\":\"white\",\"linecolor\":\"white\",\"ticks\":\"\"},\"caxis\":{\"gridcolor\":\"white\",\"linecolor\":\"white\",\"ticks\":\"\"}},\"coloraxis\":{\"colorbar\":{\"outlinewidth\":0,\"ticks\":\"\"}},\"colorscale\":{\"sequential\":[[0.0,\"#0d0887\"],[0.1111111111111111,\"#46039f\"],[0.2222222222222222,\"#7201a8\"],[0.3333333333333333,\"#9c179e\"],[0.4444444444444444,\"#bd3786\"],[0.5555555555555556,\"#d8576b\"],[0.6666666666666666,\"#ed7953\"],[0.7777777777777778,\"#fb9f3a\"],[0.8888888888888888,\"#fdca26\"],[1.0,\"#f0f921\"]],\"sequentialminus\":[[0.0,\"#0d0887\"],[0.1111111111111111,\"#46039f\"],[0.2222222222222222,\"#7201a8\"],[0.3333333333333333,\"#9c179e\"],[0.4444444444444444,\"#bd3786\"],[0.5555555555555556,\"#d8576b\"],[0.6666666666666666,\"#ed7953\"],[0.7777777777777778,\"#fb9f3a\"],[0.8888888888888888,\"#fdca26\"],[1.0,\"#f0f921\"]],\"diverging\":[[0,\"#8e0152\"],[0.1,\"#c51b7d\"],[0.2,\"#de77ae\"],[0.3,\"#f1b6da\"],[0.4,\"#fde0ef\"],[0.5,\"#f7f7f7\"],[0.6,\"#e6f5d0\"],[0.7,\"#b8e186\"],[0.8,\"#7fbc41\"],[0.9,\"#4d9221\"],[1,\"#276419\"]]},\"xaxis\":{\"gridcolor\":\"white\",\"linecolor\":\"white\",\"ticks\":\"\",\"title\":{\"standoff\":15},\"zerolinecolor\":\"white\",\"automargin\":true,\"zerolinewidth\":2},\"yaxis\":{\"gridcolor\":\"white\",\"linecolor\":\"white\",\"ticks\":\"\",\"title\":{\"standoff\":15},\"zerolinecolor\":\"white\",\"automargin\":true,\"zerolinewidth\":2},\"scene\":{\"xaxis\":{\"backgroundcolor\":\"#E5ECF6\",\"gridcolor\":\"white\",\"linecolor\":\"white\",\"showbackground\":true,\"ticks\":\"\",\"zerolinecolor\":\"white\",\"gridwidth\":2},\"yaxis\":{\"backgroundcolor\":\"#E5ECF6\",\"gridcolor\":\"white\",\"linecolor\":\"white\",\"showbackground\":true,\"ticks\":\"\",\"zerolinecolor\":\"white\",\"gridwidth\":2},\"zaxis\":{\"backgroundcolor\":\"#E5ECF6\",\"gridcolor\":\"white\",\"linecolor\":\"white\",\"showbackground\":true,\"ticks\":\"\",\"zerolinecolor\":\"white\",\"gridwidth\":2}},\"shapedefaults\":{\"line\":{\"color\":\"#2a3f5f\"}},\"annotationdefaults\":{\"arrowcolor\":\"#2a3f5f\",\"arrowhead\":0,\"arrowwidth\":1},\"geo\":{\"bgcolor\":\"white\",\"landcolor\":\"#E5ECF6\",\"subunitcolor\":\"white\",\"showland\":true,\"showlakes\":true,\"lakecolor\":\"white\"},\"title\":{\"x\":0.05},\"mapbox\":{\"style\":\"light\"}}},\"xaxis\":{\"title\":{\"text\":\"Year\"},\"tickvals\":[\"1880, 1885\",\"1885, 1890\",\"1890, 1895\",\"1895, 1900\",\"1900, 1905\",\"1905, 1910\",\"1910, 1915\",\"1915, 1920\",\"1920, 1925\",\"1925, 1930\",\"1930, 1935\",\"1935, 1940\",\"1940, 1945\",\"1945, 1950\",\"1950, 1955\",\"1955, 1960\",\"1960, 1965\",\"1965, 1970\",\"1970, 1975\",\"1975, 1980\",\"1980, 1985\",\"1985, 1990\",\"1990, 1995\",\"1995, 2000\",\"2000, 2005\",\"2005, 2010\"],\"tickangle\":45},\"title\":{\"text\":\"Ratio of movies with sequels per 5 years\"},\"yaxis\":{\"title\":{\"text\":\"Ratio (%)\"}}},                        {\"responsive\": true}                    ).then(function(){\n",
       "                            \n",
       "var gd = document.getElementById('87634eaf-318f-4d5c-93f4-e157f14d0238');\n",
       "var x = new MutationObserver(function (mutations, observer) {{\n",
       "        var display = window.getComputedStyle(gd).display;\n",
       "        if (!display || display === 'none') {{\n",
       "            console.log([gd, 'removed!']);\n",
       "            Plotly.purge(gd);\n",
       "            observer.disconnect();\n",
       "        }}\n",
       "}});\n",
       "\n",
       "// Listen for the removal of the full notebook cells\n",
       "var notebookContainer = gd.closest('#notebook-container');\n",
       "if (notebookContainer) {{\n",
       "    x.observe(notebookContainer, {childList: true});\n",
       "}}\n",
       "\n",
       "// Listen for the clearing of the current output cell\n",
       "var outputEl = gd.closest('.output');\n",
       "if (outputEl) {{\n",
       "    x.observe(outputEl, {childList: true});\n",
       "}}\n",
       "\n",
       "                        })                };                });            </script>        </div>"
      ]
     },
     "metadata": {},
     "output_type": "display_data"
    }
   ],
   "execution_count": 280
  },
  {
   "metadata": {
    "ExecuteTime": {
     "end_time": "2024-12-13T23:19:47.242651Z",
     "start_time": "2024-12-13T23:19:47.058492Z"
    }
   },
   "cell_type": "code",
   "source": [
    "\n",
    "from src.models.movie_counter import get_ratio_movie_figure\n",
    "\n",
    "fig = get_ratio_movie_figure(movie_frames_concat)\n",
    "fig"
   ],
   "id": "36bab5c3dba1f980",
   "outputs": [
    {
     "data": {
      "application/vnd.plotly.v1+json": {
       "data": [
        {
         "line": {
          "color": "rgb(102,194,165)",
          "width": 2
         },
         "mode": "lines+markers",
         "name": "ratio of sequels per movies",
         "x": [
          "1880, 1885",
          "1885, 1890",
          "1890, 1895",
          "1895, 1900",
          "1900, 1905",
          "1905, 1910",
          "1910, 1915",
          "1915, 1920",
          "1920, 1925",
          "1925, 1930",
          "1930, 1935",
          "1935, 1940",
          "1940, 1945",
          "1945, 1950",
          "1950, 1955",
          "1955, 1960",
          "1960, 1965",
          "1965, 1970",
          "1970, 1975",
          "1975, 1980",
          "1980, 1985",
          "1985, 1990",
          "1990, 1995",
          "1995, 2000",
          "2000, 2005",
          "2005, 2010",
          "2010, 2015",
          "2015, 2020",
          "2020, 2025"
         ],
         "y": [
          0.0,
          0.0,
          0.0,
          0.0,
          0.0,
          0.0,
          0.0,
          0.0,
          0.0,
          0.06377551020408163,
          0.0,
          0.11498658489842851,
          0.27014858171994593,
          0.0,
          0.034482758620689655,
          0.1088139281828074,
          0.2751031636863824,
          0.2599090318388564,
          0.3204194581998252,
          0.36101083032490977,
          0.6870884626395649,
          1.0166129432184479,
          0.8644222020018199,
          0.5951307484220018,
          0.5678457352419259,
          0.3868471953578337,
          1.1480787253983131,
          2.664326738991704,
          3.9271688682613353
         ],
         "type": "scatter"
        },
        {
         "line": {
          "color": "rgb(252,141,98)",
          "width": 2
         },
         "mode": "lines+markers",
         "name": "ratio of books per movies",
         "x": [
          "1880, 1885",
          "1885, 1890",
          "1890, 1895",
          "1895, 1900",
          "1900, 1905",
          "1905, 1910",
          "1910, 1915",
          "1915, 1920",
          "1920, 1925",
          "1925, 1930",
          "1930, 1935",
          "1935, 1940",
          "1940, 1945",
          "1945, 1950",
          "1950, 1955",
          "1955, 1960",
          "1960, 1965",
          "1965, 1970",
          "1970, 1975",
          "1975, 1980",
          "1980, 1985",
          "1985, 1990",
          "1990, 1995",
          "1995, 2000",
          "2000, 2005",
          "2005, 2010",
          "2010, 2015",
          "2015, 2020",
          "2020, 2025"
         ],
         "y": [
          0.0,
          0.0,
          0.0,
          0.0,
          1.8867924528301887,
          0.6622516556291391,
          0.0,
          0.062034739454094295,
          0.2245508982035928,
          0.25510204081632654,
          0.5126014523707817,
          0.7282483710233806,
          0.6303466906798739,
          1.153846153846154,
          0.44827586206896547,
          1.088139281828074,
          1.3411279229711142,
          1.6244314489928524,
          1.7768715409263034,
          1.3237063778580023,
          1.8322359003721727,
          1.5869080089263576,
          1.5923566878980893,
          1.7853922452660054,
          1.407784218620608,
          1.1202450032237266,
          2.261012183692596,
          5.1531589023611994,
          7.497322384862549
         ],
         "type": "scatter"
        },
        {
         "line": {
          "color": "rgb(141,160,203)",
          "width": 2
         },
         "mode": "lines+markers",
         "name": "ratio of comics per movies",
         "x": [
          "1880, 1885",
          "1885, 1890",
          "1890, 1895",
          "1895, 1900",
          "1900, 1905",
          "1905, 1910",
          "1910, 1915",
          "1915, 1920",
          "1920, 1925",
          "1925, 1930",
          "1930, 1935",
          "1935, 1940",
          "1940, 1945",
          "1945, 1950",
          "1950, 1955",
          "1955, 1960",
          "1960, 1965",
          "1965, 1970",
          "1970, 1975",
          "1975, 1980",
          "1980, 1985",
          "1985, 1990",
          "1990, 1995",
          "1995, 2000",
          "2000, 2005",
          "2005, 2010",
          "2010, 2015",
          "2015, 2020",
          "2020, 2025"
         ],
         "y": [
          0.0,
          0.0,
          0.0,
          0.0,
          0.0,
          0.0,
          0.0,
          0.0,
          0.0,
          0.0,
          0.0,
          0.038328861632809505,
          0.09004952723998198,
          0.0,
          0.06896551724137931,
          0.0,
          0.0343878954607978,
          0.1299545159194282,
          0.08738712496358869,
          0.24067388688327318,
          0.31491554537646727,
          0.22315893875526904,
          0.3867151956323931,
          0.2885482416591524,
          0.34307346504199693,
          0.39490651192778853,
          0.7263355201499532,
          1.2284620293554562,
          1.7493752231345947
         ],
         "type": "scatter"
        },
        {
         "line": {
          "color": "rgb(231,138,195)",
          "width": 2
         },
         "mode": "lines+markers",
         "name": "ratio of remakes per movies",
         "x": [
          "1880, 1885",
          "1885, 1890",
          "1890, 1895",
          "1895, 1900",
          "1900, 1905",
          "1905, 1910",
          "1910, 1915",
          "1915, 1920",
          "1920, 1925",
          "1925, 1930",
          "1930, 1935",
          "1935, 1940",
          "1940, 1945",
          "1945, 1950",
          "1950, 1955",
          "1955, 1960",
          "1960, 1965",
          "1965, 1970",
          "1970, 1975",
          "1975, 1980",
          "1980, 1985",
          "1985, 1990",
          "1990, 1995",
          "1995, 2000",
          "2000, 2005",
          "2005, 2010",
          "2010, 2015",
          "2015, 2020",
          "2020, 2025"
         ],
         "y": [
          0.0,
          0.0,
          0.0,
          0.0,
          0.0,
          0.0,
          0.0,
          0.0,
          0.07485029940119761,
          0.06377551020408163,
          0.0,
          0.0,
          0.04502476361999099,
          0.08547008547008547,
          0.13793103448275862,
          0.3627130939426913,
          0.1375515818431912,
          0.09746588693957114,
          0.05825808330905913,
          0.210589651022864,
          0.34354423131978246,
          0.4711133151500124,
          0.47770700636942676,
          0.39675383228133454,
          0.5915059742103396,
          0.5641521598968408,
          0.6208997188378632,
          1.5156349712827057,
          1.535166012138522
         ],
         "type": "scatter"
        }
       ],
       "layout": {
        "template": {
         "data": {
          "histogram2dcontour": [
           {
            "type": "histogram2dcontour",
            "colorbar": {
             "outlinewidth": 0,
             "ticks": ""
            },
            "colorscale": [
             [
              0.0,
              "#0d0887"
             ],
             [
              0.1111111111111111,
              "#46039f"
             ],
             [
              0.2222222222222222,
              "#7201a8"
             ],
             [
              0.3333333333333333,
              "#9c179e"
             ],
             [
              0.4444444444444444,
              "#bd3786"
             ],
             [
              0.5555555555555556,
              "#d8576b"
             ],
             [
              0.6666666666666666,
              "#ed7953"
             ],
             [
              0.7777777777777778,
              "#fb9f3a"
             ],
             [
              0.8888888888888888,
              "#fdca26"
             ],
             [
              1.0,
              "#f0f921"
             ]
            ]
           }
          ],
          "choropleth": [
           {
            "type": "choropleth",
            "colorbar": {
             "outlinewidth": 0,
             "ticks": ""
            }
           }
          ],
          "histogram2d": [
           {
            "type": "histogram2d",
            "colorbar": {
             "outlinewidth": 0,
             "ticks": ""
            },
            "colorscale": [
             [
              0.0,
              "#0d0887"
             ],
             [
              0.1111111111111111,
              "#46039f"
             ],
             [
              0.2222222222222222,
              "#7201a8"
             ],
             [
              0.3333333333333333,
              "#9c179e"
             ],
             [
              0.4444444444444444,
              "#bd3786"
             ],
             [
              0.5555555555555556,
              "#d8576b"
             ],
             [
              0.6666666666666666,
              "#ed7953"
             ],
             [
              0.7777777777777778,
              "#fb9f3a"
             ],
             [
              0.8888888888888888,
              "#fdca26"
             ],
             [
              1.0,
              "#f0f921"
             ]
            ]
           }
          ],
          "heatmap": [
           {
            "type": "heatmap",
            "colorbar": {
             "outlinewidth": 0,
             "ticks": ""
            },
            "colorscale": [
             [
              0.0,
              "#0d0887"
             ],
             [
              0.1111111111111111,
              "#46039f"
             ],
             [
              0.2222222222222222,
              "#7201a8"
             ],
             [
              0.3333333333333333,
              "#9c179e"
             ],
             [
              0.4444444444444444,
              "#bd3786"
             ],
             [
              0.5555555555555556,
              "#d8576b"
             ],
             [
              0.6666666666666666,
              "#ed7953"
             ],
             [
              0.7777777777777778,
              "#fb9f3a"
             ],
             [
              0.8888888888888888,
              "#fdca26"
             ],
             [
              1.0,
              "#f0f921"
             ]
            ]
           }
          ],
          "heatmapgl": [
           {
            "type": "heatmapgl",
            "colorbar": {
             "outlinewidth": 0,
             "ticks": ""
            },
            "colorscale": [
             [
              0.0,
              "#0d0887"
             ],
             [
              0.1111111111111111,
              "#46039f"
             ],
             [
              0.2222222222222222,
              "#7201a8"
             ],
             [
              0.3333333333333333,
              "#9c179e"
             ],
             [
              0.4444444444444444,
              "#bd3786"
             ],
             [
              0.5555555555555556,
              "#d8576b"
             ],
             [
              0.6666666666666666,
              "#ed7953"
             ],
             [
              0.7777777777777778,
              "#fb9f3a"
             ],
             [
              0.8888888888888888,
              "#fdca26"
             ],
             [
              1.0,
              "#f0f921"
             ]
            ]
           }
          ],
          "contourcarpet": [
           {
            "type": "contourcarpet",
            "colorbar": {
             "outlinewidth": 0,
             "ticks": ""
            }
           }
          ],
          "contour": [
           {
            "type": "contour",
            "colorbar": {
             "outlinewidth": 0,
             "ticks": ""
            },
            "colorscale": [
             [
              0.0,
              "#0d0887"
             ],
             [
              0.1111111111111111,
              "#46039f"
             ],
             [
              0.2222222222222222,
              "#7201a8"
             ],
             [
              0.3333333333333333,
              "#9c179e"
             ],
             [
              0.4444444444444444,
              "#bd3786"
             ],
             [
              0.5555555555555556,
              "#d8576b"
             ],
             [
              0.6666666666666666,
              "#ed7953"
             ],
             [
              0.7777777777777778,
              "#fb9f3a"
             ],
             [
              0.8888888888888888,
              "#fdca26"
             ],
             [
              1.0,
              "#f0f921"
             ]
            ]
           }
          ],
          "surface": [
           {
            "type": "surface",
            "colorbar": {
             "outlinewidth": 0,
             "ticks": ""
            },
            "colorscale": [
             [
              0.0,
              "#0d0887"
             ],
             [
              0.1111111111111111,
              "#46039f"
             ],
             [
              0.2222222222222222,
              "#7201a8"
             ],
             [
              0.3333333333333333,
              "#9c179e"
             ],
             [
              0.4444444444444444,
              "#bd3786"
             ],
             [
              0.5555555555555556,
              "#d8576b"
             ],
             [
              0.6666666666666666,
              "#ed7953"
             ],
             [
              0.7777777777777778,
              "#fb9f3a"
             ],
             [
              0.8888888888888888,
              "#fdca26"
             ],
             [
              1.0,
              "#f0f921"
             ]
            ]
           }
          ],
          "mesh3d": [
           {
            "type": "mesh3d",
            "colorbar": {
             "outlinewidth": 0,
             "ticks": ""
            }
           }
          ],
          "scatter": [
           {
            "fillpattern": {
             "fillmode": "overlay",
             "size": 10,
             "solidity": 0.2
            },
            "type": "scatter"
           }
          ],
          "parcoords": [
           {
            "type": "parcoords",
            "line": {
             "colorbar": {
              "outlinewidth": 0,
              "ticks": ""
             }
            }
           }
          ],
          "scatterpolargl": [
           {
            "type": "scatterpolargl",
            "marker": {
             "colorbar": {
              "outlinewidth": 0,
              "ticks": ""
             }
            }
           }
          ],
          "bar": [
           {
            "error_x": {
             "color": "#2a3f5f"
            },
            "error_y": {
             "color": "#2a3f5f"
            },
            "marker": {
             "line": {
              "color": "#E5ECF6",
              "width": 0.5
             },
             "pattern": {
              "fillmode": "overlay",
              "size": 10,
              "solidity": 0.2
             }
            },
            "type": "bar"
           }
          ],
          "scattergeo": [
           {
            "type": "scattergeo",
            "marker": {
             "colorbar": {
              "outlinewidth": 0,
              "ticks": ""
             }
            }
           }
          ],
          "scatterpolar": [
           {
            "type": "scatterpolar",
            "marker": {
             "colorbar": {
              "outlinewidth": 0,
              "ticks": ""
             }
            }
           }
          ],
          "histogram": [
           {
            "marker": {
             "pattern": {
              "fillmode": "overlay",
              "size": 10,
              "solidity": 0.2
             }
            },
            "type": "histogram"
           }
          ],
          "scattergl": [
           {
            "type": "scattergl",
            "marker": {
             "colorbar": {
              "outlinewidth": 0,
              "ticks": ""
             }
            }
           }
          ],
          "scatter3d": [
           {
            "type": "scatter3d",
            "line": {
             "colorbar": {
              "outlinewidth": 0,
              "ticks": ""
             }
            },
            "marker": {
             "colorbar": {
              "outlinewidth": 0,
              "ticks": ""
             }
            }
           }
          ],
          "scattermapbox": [
           {
            "type": "scattermapbox",
            "marker": {
             "colorbar": {
              "outlinewidth": 0,
              "ticks": ""
             }
            }
           }
          ],
          "scatterternary": [
           {
            "type": "scatterternary",
            "marker": {
             "colorbar": {
              "outlinewidth": 0,
              "ticks": ""
             }
            }
           }
          ],
          "scattercarpet": [
           {
            "type": "scattercarpet",
            "marker": {
             "colorbar": {
              "outlinewidth": 0,
              "ticks": ""
             }
            }
           }
          ],
          "carpet": [
           {
            "aaxis": {
             "endlinecolor": "#2a3f5f",
             "gridcolor": "white",
             "linecolor": "white",
             "minorgridcolor": "white",
             "startlinecolor": "#2a3f5f"
            },
            "baxis": {
             "endlinecolor": "#2a3f5f",
             "gridcolor": "white",
             "linecolor": "white",
             "minorgridcolor": "white",
             "startlinecolor": "#2a3f5f"
            },
            "type": "carpet"
           }
          ],
          "table": [
           {
            "cells": {
             "fill": {
              "color": "#EBF0F8"
             },
             "line": {
              "color": "white"
             }
            },
            "header": {
             "fill": {
              "color": "#C8D4E3"
             },
             "line": {
              "color": "white"
             }
            },
            "type": "table"
           }
          ],
          "barpolar": [
           {
            "marker": {
             "line": {
              "color": "#E5ECF6",
              "width": 0.5
             },
             "pattern": {
              "fillmode": "overlay",
              "size": 10,
              "solidity": 0.2
             }
            },
            "type": "barpolar"
           }
          ],
          "pie": [
           {
            "automargin": true,
            "type": "pie"
           }
          ]
         },
         "layout": {
          "autotypenumbers": "strict",
          "colorway": [
           "#636efa",
           "#EF553B",
           "#00cc96",
           "#ab63fa",
           "#FFA15A",
           "#19d3f3",
           "#FF6692",
           "#B6E880",
           "#FF97FF",
           "#FECB52"
          ],
          "font": {
           "color": "#2a3f5f"
          },
          "hovermode": "closest",
          "hoverlabel": {
           "align": "left"
          },
          "paper_bgcolor": "white",
          "plot_bgcolor": "#E5ECF6",
          "polar": {
           "bgcolor": "#E5ECF6",
           "angularaxis": {
            "gridcolor": "white",
            "linecolor": "white",
            "ticks": ""
           },
           "radialaxis": {
            "gridcolor": "white",
            "linecolor": "white",
            "ticks": ""
           }
          },
          "ternary": {
           "bgcolor": "#E5ECF6",
           "aaxis": {
            "gridcolor": "white",
            "linecolor": "white",
            "ticks": ""
           },
           "baxis": {
            "gridcolor": "white",
            "linecolor": "white",
            "ticks": ""
           },
           "caxis": {
            "gridcolor": "white",
            "linecolor": "white",
            "ticks": ""
           }
          },
          "coloraxis": {
           "colorbar": {
            "outlinewidth": 0,
            "ticks": ""
           }
          },
          "colorscale": {
           "sequential": [
            [
             0.0,
             "#0d0887"
            ],
            [
             0.1111111111111111,
             "#46039f"
            ],
            [
             0.2222222222222222,
             "#7201a8"
            ],
            [
             0.3333333333333333,
             "#9c179e"
            ],
            [
             0.4444444444444444,
             "#bd3786"
            ],
            [
             0.5555555555555556,
             "#d8576b"
            ],
            [
             0.6666666666666666,
             "#ed7953"
            ],
            [
             0.7777777777777778,
             "#fb9f3a"
            ],
            [
             0.8888888888888888,
             "#fdca26"
            ],
            [
             1.0,
             "#f0f921"
            ]
           ],
           "sequentialminus": [
            [
             0.0,
             "#0d0887"
            ],
            [
             0.1111111111111111,
             "#46039f"
            ],
            [
             0.2222222222222222,
             "#7201a8"
            ],
            [
             0.3333333333333333,
             "#9c179e"
            ],
            [
             0.4444444444444444,
             "#bd3786"
            ],
            [
             0.5555555555555556,
             "#d8576b"
            ],
            [
             0.6666666666666666,
             "#ed7953"
            ],
            [
             0.7777777777777778,
             "#fb9f3a"
            ],
            [
             0.8888888888888888,
             "#fdca26"
            ],
            [
             1.0,
             "#f0f921"
            ]
           ],
           "diverging": [
            [
             0,
             "#8e0152"
            ],
            [
             0.1,
             "#c51b7d"
            ],
            [
             0.2,
             "#de77ae"
            ],
            [
             0.3,
             "#f1b6da"
            ],
            [
             0.4,
             "#fde0ef"
            ],
            [
             0.5,
             "#f7f7f7"
            ],
            [
             0.6,
             "#e6f5d0"
            ],
            [
             0.7,
             "#b8e186"
            ],
            [
             0.8,
             "#7fbc41"
            ],
            [
             0.9,
             "#4d9221"
            ],
            [
             1,
             "#276419"
            ]
           ]
          },
          "xaxis": {
           "gridcolor": "white",
           "linecolor": "white",
           "ticks": "",
           "title": {
            "standoff": 15
           },
           "zerolinecolor": "white",
           "automargin": true,
           "zerolinewidth": 2
          },
          "yaxis": {
           "gridcolor": "white",
           "linecolor": "white",
           "ticks": "",
           "title": {
            "standoff": 15
           },
           "zerolinecolor": "white",
           "automargin": true,
           "zerolinewidth": 2
          },
          "scene": {
           "xaxis": {
            "backgroundcolor": "#E5ECF6",
            "gridcolor": "white",
            "linecolor": "white",
            "showbackground": true,
            "ticks": "",
            "zerolinecolor": "white",
            "gridwidth": 2
           },
           "yaxis": {
            "backgroundcolor": "#E5ECF6",
            "gridcolor": "white",
            "linecolor": "white",
            "showbackground": true,
            "ticks": "",
            "zerolinecolor": "white",
            "gridwidth": 2
           },
           "zaxis": {
            "backgroundcolor": "#E5ECF6",
            "gridcolor": "white",
            "linecolor": "white",
            "showbackground": true,
            "ticks": "",
            "zerolinecolor": "white",
            "gridwidth": 2
           }
          },
          "shapedefaults": {
           "line": {
            "color": "#2a3f5f"
           }
          },
          "annotationdefaults": {
           "arrowcolor": "#2a3f5f",
           "arrowhead": 0,
           "arrowwidth": 1
          },
          "geo": {
           "bgcolor": "white",
           "landcolor": "#E5ECF6",
           "subunitcolor": "white",
           "showland": true,
           "showlakes": true,
           "lakecolor": "white"
          },
          "title": {
           "x": 0.05
          },
          "mapbox": {
           "style": "light"
          }
         }
        },
        "xaxis": {
         "title": {
          "text": "Year"
         },
         "tickvals": [
          "1880, 1885",
          "1885, 1890",
          "1890, 1895",
          "1895, 1900",
          "1900, 1905",
          "1905, 1910",
          "1910, 1915",
          "1915, 1920",
          "1920, 1925",
          "1925, 1930",
          "1930, 1935",
          "1935, 1940",
          "1940, 1945",
          "1945, 1950",
          "1950, 1955",
          "1955, 1960",
          "1960, 1965",
          "1965, 1970",
          "1970, 1975",
          "1975, 1980",
          "1980, 1985",
          "1985, 1990",
          "1990, 1995",
          "1995, 2000",
          "2000, 2005",
          "2005, 2010",
          "2010, 2015",
          "2015, 2020",
          "2020, 2025"
         ],
         "tickangle": 45
        },
        "title": {
         "text": "Ratio of movies with sequels per 5 years"
        },
        "yaxis": {
         "title": {
          "text": "Ratio (%)"
         }
        }
       },
       "config": {
        "plotlyServerURL": "https://plot.ly"
       }
      },
      "text/html": [
       "<div>                            <div id=\"428430c8-477d-41cf-937a-ac5e799962bf\" class=\"plotly-graph-div\" style=\"height:525px; width:100%;\"></div>            <script type=\"text/javascript\">                require([\"plotly\"], function(Plotly) {                    window.PLOTLYENV=window.PLOTLYENV || {};                                    if (document.getElementById(\"428430c8-477d-41cf-937a-ac5e799962bf\")) {                    Plotly.newPlot(                        \"428430c8-477d-41cf-937a-ac5e799962bf\",                        [{\"line\":{\"color\":\"rgb(102,194,165)\",\"width\":2},\"mode\":\"lines+markers\",\"name\":\"ratio of sequels per movies\",\"x\":[\"1880, 1885\",\"1885, 1890\",\"1890, 1895\",\"1895, 1900\",\"1900, 1905\",\"1905, 1910\",\"1910, 1915\",\"1915, 1920\",\"1920, 1925\",\"1925, 1930\",\"1930, 1935\",\"1935, 1940\",\"1940, 1945\",\"1945, 1950\",\"1950, 1955\",\"1955, 1960\",\"1960, 1965\",\"1965, 1970\",\"1970, 1975\",\"1975, 1980\",\"1980, 1985\",\"1985, 1990\",\"1990, 1995\",\"1995, 2000\",\"2000, 2005\",\"2005, 2010\",\"2010, 2015\",\"2015, 2020\",\"2020, 2025\"],\"y\":[0.0,0.0,0.0,0.0,0.0,0.0,0.0,0.0,0.0,0.06377551020408163,0.0,0.11498658489842851,0.27014858171994593,0.0,0.034482758620689655,0.1088139281828074,0.2751031636863824,0.2599090318388564,0.3204194581998252,0.36101083032490977,0.6870884626395649,1.0166129432184479,0.8644222020018199,0.5951307484220018,0.5678457352419259,0.3868471953578337,1.1480787253983131,2.664326738991704,3.9271688682613353],\"type\":\"scatter\"},{\"line\":{\"color\":\"rgb(252,141,98)\",\"width\":2},\"mode\":\"lines+markers\",\"name\":\"ratio of books per movies\",\"x\":[\"1880, 1885\",\"1885, 1890\",\"1890, 1895\",\"1895, 1900\",\"1900, 1905\",\"1905, 1910\",\"1910, 1915\",\"1915, 1920\",\"1920, 1925\",\"1925, 1930\",\"1930, 1935\",\"1935, 1940\",\"1940, 1945\",\"1945, 1950\",\"1950, 1955\",\"1955, 1960\",\"1960, 1965\",\"1965, 1970\",\"1970, 1975\",\"1975, 1980\",\"1980, 1985\",\"1985, 1990\",\"1990, 1995\",\"1995, 2000\",\"2000, 2005\",\"2005, 2010\",\"2010, 2015\",\"2015, 2020\",\"2020, 2025\"],\"y\":[0.0,0.0,0.0,0.0,1.8867924528301887,0.6622516556291391,0.0,0.062034739454094295,0.2245508982035928,0.25510204081632654,0.5126014523707817,0.7282483710233806,0.6303466906798739,1.153846153846154,0.44827586206896547,1.088139281828074,1.3411279229711142,1.6244314489928524,1.7768715409263034,1.3237063778580023,1.8322359003721727,1.5869080089263576,1.5923566878980893,1.7853922452660054,1.407784218620608,1.1202450032237266,2.261012183692596,5.1531589023611994,7.497322384862549],\"type\":\"scatter\"},{\"line\":{\"color\":\"rgb(141,160,203)\",\"width\":2},\"mode\":\"lines+markers\",\"name\":\"ratio of comics per movies\",\"x\":[\"1880, 1885\",\"1885, 1890\",\"1890, 1895\",\"1895, 1900\",\"1900, 1905\",\"1905, 1910\",\"1910, 1915\",\"1915, 1920\",\"1920, 1925\",\"1925, 1930\",\"1930, 1935\",\"1935, 1940\",\"1940, 1945\",\"1945, 1950\",\"1950, 1955\",\"1955, 1960\",\"1960, 1965\",\"1965, 1970\",\"1970, 1975\",\"1975, 1980\",\"1980, 1985\",\"1985, 1990\",\"1990, 1995\",\"1995, 2000\",\"2000, 2005\",\"2005, 2010\",\"2010, 2015\",\"2015, 2020\",\"2020, 2025\"],\"y\":[0.0,0.0,0.0,0.0,0.0,0.0,0.0,0.0,0.0,0.0,0.0,0.038328861632809505,0.09004952723998198,0.0,0.06896551724137931,0.0,0.0343878954607978,0.1299545159194282,0.08738712496358869,0.24067388688327318,0.31491554537646727,0.22315893875526904,0.3867151956323931,0.2885482416591524,0.34307346504199693,0.39490651192778853,0.7263355201499532,1.2284620293554562,1.7493752231345947],\"type\":\"scatter\"},{\"line\":{\"color\":\"rgb(231,138,195)\",\"width\":2},\"mode\":\"lines+markers\",\"name\":\"ratio of remakes per movies\",\"x\":[\"1880, 1885\",\"1885, 1890\",\"1890, 1895\",\"1895, 1900\",\"1900, 1905\",\"1905, 1910\",\"1910, 1915\",\"1915, 1920\",\"1920, 1925\",\"1925, 1930\",\"1930, 1935\",\"1935, 1940\",\"1940, 1945\",\"1945, 1950\",\"1950, 1955\",\"1955, 1960\",\"1960, 1965\",\"1965, 1970\",\"1970, 1975\",\"1975, 1980\",\"1980, 1985\",\"1985, 1990\",\"1990, 1995\",\"1995, 2000\",\"2000, 2005\",\"2005, 2010\",\"2010, 2015\",\"2015, 2020\",\"2020, 2025\"],\"y\":[0.0,0.0,0.0,0.0,0.0,0.0,0.0,0.0,0.07485029940119761,0.06377551020408163,0.0,0.0,0.04502476361999099,0.08547008547008547,0.13793103448275862,0.3627130939426913,0.1375515818431912,0.09746588693957114,0.05825808330905913,0.210589651022864,0.34354423131978246,0.4711133151500124,0.47770700636942676,0.39675383228133454,0.5915059742103396,0.5641521598968408,0.6208997188378632,1.5156349712827057,1.535166012138522],\"type\":\"scatter\"}],                        {\"template\":{\"data\":{\"histogram2dcontour\":[{\"type\":\"histogram2dcontour\",\"colorbar\":{\"outlinewidth\":0,\"ticks\":\"\"},\"colorscale\":[[0.0,\"#0d0887\"],[0.1111111111111111,\"#46039f\"],[0.2222222222222222,\"#7201a8\"],[0.3333333333333333,\"#9c179e\"],[0.4444444444444444,\"#bd3786\"],[0.5555555555555556,\"#d8576b\"],[0.6666666666666666,\"#ed7953\"],[0.7777777777777778,\"#fb9f3a\"],[0.8888888888888888,\"#fdca26\"],[1.0,\"#f0f921\"]]}],\"choropleth\":[{\"type\":\"choropleth\",\"colorbar\":{\"outlinewidth\":0,\"ticks\":\"\"}}],\"histogram2d\":[{\"type\":\"histogram2d\",\"colorbar\":{\"outlinewidth\":0,\"ticks\":\"\"},\"colorscale\":[[0.0,\"#0d0887\"],[0.1111111111111111,\"#46039f\"],[0.2222222222222222,\"#7201a8\"],[0.3333333333333333,\"#9c179e\"],[0.4444444444444444,\"#bd3786\"],[0.5555555555555556,\"#d8576b\"],[0.6666666666666666,\"#ed7953\"],[0.7777777777777778,\"#fb9f3a\"],[0.8888888888888888,\"#fdca26\"],[1.0,\"#f0f921\"]]}],\"heatmap\":[{\"type\":\"heatmap\",\"colorbar\":{\"outlinewidth\":0,\"ticks\":\"\"},\"colorscale\":[[0.0,\"#0d0887\"],[0.1111111111111111,\"#46039f\"],[0.2222222222222222,\"#7201a8\"],[0.3333333333333333,\"#9c179e\"],[0.4444444444444444,\"#bd3786\"],[0.5555555555555556,\"#d8576b\"],[0.6666666666666666,\"#ed7953\"],[0.7777777777777778,\"#fb9f3a\"],[0.8888888888888888,\"#fdca26\"],[1.0,\"#f0f921\"]]}],\"heatmapgl\":[{\"type\":\"heatmapgl\",\"colorbar\":{\"outlinewidth\":0,\"ticks\":\"\"},\"colorscale\":[[0.0,\"#0d0887\"],[0.1111111111111111,\"#46039f\"],[0.2222222222222222,\"#7201a8\"],[0.3333333333333333,\"#9c179e\"],[0.4444444444444444,\"#bd3786\"],[0.5555555555555556,\"#d8576b\"],[0.6666666666666666,\"#ed7953\"],[0.7777777777777778,\"#fb9f3a\"],[0.8888888888888888,\"#fdca26\"],[1.0,\"#f0f921\"]]}],\"contourcarpet\":[{\"type\":\"contourcarpet\",\"colorbar\":{\"outlinewidth\":0,\"ticks\":\"\"}}],\"contour\":[{\"type\":\"contour\",\"colorbar\":{\"outlinewidth\":0,\"ticks\":\"\"},\"colorscale\":[[0.0,\"#0d0887\"],[0.1111111111111111,\"#46039f\"],[0.2222222222222222,\"#7201a8\"],[0.3333333333333333,\"#9c179e\"],[0.4444444444444444,\"#bd3786\"],[0.5555555555555556,\"#d8576b\"],[0.6666666666666666,\"#ed7953\"],[0.7777777777777778,\"#fb9f3a\"],[0.8888888888888888,\"#fdca26\"],[1.0,\"#f0f921\"]]}],\"surface\":[{\"type\":\"surface\",\"colorbar\":{\"outlinewidth\":0,\"ticks\":\"\"},\"colorscale\":[[0.0,\"#0d0887\"],[0.1111111111111111,\"#46039f\"],[0.2222222222222222,\"#7201a8\"],[0.3333333333333333,\"#9c179e\"],[0.4444444444444444,\"#bd3786\"],[0.5555555555555556,\"#d8576b\"],[0.6666666666666666,\"#ed7953\"],[0.7777777777777778,\"#fb9f3a\"],[0.8888888888888888,\"#fdca26\"],[1.0,\"#f0f921\"]]}],\"mesh3d\":[{\"type\":\"mesh3d\",\"colorbar\":{\"outlinewidth\":0,\"ticks\":\"\"}}],\"scatter\":[{\"fillpattern\":{\"fillmode\":\"overlay\",\"size\":10,\"solidity\":0.2},\"type\":\"scatter\"}],\"parcoords\":[{\"type\":\"parcoords\",\"line\":{\"colorbar\":{\"outlinewidth\":0,\"ticks\":\"\"}}}],\"scatterpolargl\":[{\"type\":\"scatterpolargl\",\"marker\":{\"colorbar\":{\"outlinewidth\":0,\"ticks\":\"\"}}}],\"bar\":[{\"error_x\":{\"color\":\"#2a3f5f\"},\"error_y\":{\"color\":\"#2a3f5f\"},\"marker\":{\"line\":{\"color\":\"#E5ECF6\",\"width\":0.5},\"pattern\":{\"fillmode\":\"overlay\",\"size\":10,\"solidity\":0.2}},\"type\":\"bar\"}],\"scattergeo\":[{\"type\":\"scattergeo\",\"marker\":{\"colorbar\":{\"outlinewidth\":0,\"ticks\":\"\"}}}],\"scatterpolar\":[{\"type\":\"scatterpolar\",\"marker\":{\"colorbar\":{\"outlinewidth\":0,\"ticks\":\"\"}}}],\"histogram\":[{\"marker\":{\"pattern\":{\"fillmode\":\"overlay\",\"size\":10,\"solidity\":0.2}},\"type\":\"histogram\"}],\"scattergl\":[{\"type\":\"scattergl\",\"marker\":{\"colorbar\":{\"outlinewidth\":0,\"ticks\":\"\"}}}],\"scatter3d\":[{\"type\":\"scatter3d\",\"line\":{\"colorbar\":{\"outlinewidth\":0,\"ticks\":\"\"}},\"marker\":{\"colorbar\":{\"outlinewidth\":0,\"ticks\":\"\"}}}],\"scattermapbox\":[{\"type\":\"scattermapbox\",\"marker\":{\"colorbar\":{\"outlinewidth\":0,\"ticks\":\"\"}}}],\"scatterternary\":[{\"type\":\"scatterternary\",\"marker\":{\"colorbar\":{\"outlinewidth\":0,\"ticks\":\"\"}}}],\"scattercarpet\":[{\"type\":\"scattercarpet\",\"marker\":{\"colorbar\":{\"outlinewidth\":0,\"ticks\":\"\"}}}],\"carpet\":[{\"aaxis\":{\"endlinecolor\":\"#2a3f5f\",\"gridcolor\":\"white\",\"linecolor\":\"white\",\"minorgridcolor\":\"white\",\"startlinecolor\":\"#2a3f5f\"},\"baxis\":{\"endlinecolor\":\"#2a3f5f\",\"gridcolor\":\"white\",\"linecolor\":\"white\",\"minorgridcolor\":\"white\",\"startlinecolor\":\"#2a3f5f\"},\"type\":\"carpet\"}],\"table\":[{\"cells\":{\"fill\":{\"color\":\"#EBF0F8\"},\"line\":{\"color\":\"white\"}},\"header\":{\"fill\":{\"color\":\"#C8D4E3\"},\"line\":{\"color\":\"white\"}},\"type\":\"table\"}],\"barpolar\":[{\"marker\":{\"line\":{\"color\":\"#E5ECF6\",\"width\":0.5},\"pattern\":{\"fillmode\":\"overlay\",\"size\":10,\"solidity\":0.2}},\"type\":\"barpolar\"}],\"pie\":[{\"automargin\":true,\"type\":\"pie\"}]},\"layout\":{\"autotypenumbers\":\"strict\",\"colorway\":[\"#636efa\",\"#EF553B\",\"#00cc96\",\"#ab63fa\",\"#FFA15A\",\"#19d3f3\",\"#FF6692\",\"#B6E880\",\"#FF97FF\",\"#FECB52\"],\"font\":{\"color\":\"#2a3f5f\"},\"hovermode\":\"closest\",\"hoverlabel\":{\"align\":\"left\"},\"paper_bgcolor\":\"white\",\"plot_bgcolor\":\"#E5ECF6\",\"polar\":{\"bgcolor\":\"#E5ECF6\",\"angularaxis\":{\"gridcolor\":\"white\",\"linecolor\":\"white\",\"ticks\":\"\"},\"radialaxis\":{\"gridcolor\":\"white\",\"linecolor\":\"white\",\"ticks\":\"\"}},\"ternary\":{\"bgcolor\":\"#E5ECF6\",\"aaxis\":{\"gridcolor\":\"white\",\"linecolor\":\"white\",\"ticks\":\"\"},\"baxis\":{\"gridcolor\":\"white\",\"linecolor\":\"white\",\"ticks\":\"\"},\"caxis\":{\"gridcolor\":\"white\",\"linecolor\":\"white\",\"ticks\":\"\"}},\"coloraxis\":{\"colorbar\":{\"outlinewidth\":0,\"ticks\":\"\"}},\"colorscale\":{\"sequential\":[[0.0,\"#0d0887\"],[0.1111111111111111,\"#46039f\"],[0.2222222222222222,\"#7201a8\"],[0.3333333333333333,\"#9c179e\"],[0.4444444444444444,\"#bd3786\"],[0.5555555555555556,\"#d8576b\"],[0.6666666666666666,\"#ed7953\"],[0.7777777777777778,\"#fb9f3a\"],[0.8888888888888888,\"#fdca26\"],[1.0,\"#f0f921\"]],\"sequentialminus\":[[0.0,\"#0d0887\"],[0.1111111111111111,\"#46039f\"],[0.2222222222222222,\"#7201a8\"],[0.3333333333333333,\"#9c179e\"],[0.4444444444444444,\"#bd3786\"],[0.5555555555555556,\"#d8576b\"],[0.6666666666666666,\"#ed7953\"],[0.7777777777777778,\"#fb9f3a\"],[0.8888888888888888,\"#fdca26\"],[1.0,\"#f0f921\"]],\"diverging\":[[0,\"#8e0152\"],[0.1,\"#c51b7d\"],[0.2,\"#de77ae\"],[0.3,\"#f1b6da\"],[0.4,\"#fde0ef\"],[0.5,\"#f7f7f7\"],[0.6,\"#e6f5d0\"],[0.7,\"#b8e186\"],[0.8,\"#7fbc41\"],[0.9,\"#4d9221\"],[1,\"#276419\"]]},\"xaxis\":{\"gridcolor\":\"white\",\"linecolor\":\"white\",\"ticks\":\"\",\"title\":{\"standoff\":15},\"zerolinecolor\":\"white\",\"automargin\":true,\"zerolinewidth\":2},\"yaxis\":{\"gridcolor\":\"white\",\"linecolor\":\"white\",\"ticks\":\"\",\"title\":{\"standoff\":15},\"zerolinecolor\":\"white\",\"automargin\":true,\"zerolinewidth\":2},\"scene\":{\"xaxis\":{\"backgroundcolor\":\"#E5ECF6\",\"gridcolor\":\"white\",\"linecolor\":\"white\",\"showbackground\":true,\"ticks\":\"\",\"zerolinecolor\":\"white\",\"gridwidth\":2},\"yaxis\":{\"backgroundcolor\":\"#E5ECF6\",\"gridcolor\":\"white\",\"linecolor\":\"white\",\"showbackground\":true,\"ticks\":\"\",\"zerolinecolor\":\"white\",\"gridwidth\":2},\"zaxis\":{\"backgroundcolor\":\"#E5ECF6\",\"gridcolor\":\"white\",\"linecolor\":\"white\",\"showbackground\":true,\"ticks\":\"\",\"zerolinecolor\":\"white\",\"gridwidth\":2}},\"shapedefaults\":{\"line\":{\"color\":\"#2a3f5f\"}},\"annotationdefaults\":{\"arrowcolor\":\"#2a3f5f\",\"arrowhead\":0,\"arrowwidth\":1},\"geo\":{\"bgcolor\":\"white\",\"landcolor\":\"#E5ECF6\",\"subunitcolor\":\"white\",\"showland\":true,\"showlakes\":true,\"lakecolor\":\"white\"},\"title\":{\"x\":0.05},\"mapbox\":{\"style\":\"light\"}}},\"xaxis\":{\"title\":{\"text\":\"Year\"},\"tickvals\":[\"1880, 1885\",\"1885, 1890\",\"1890, 1895\",\"1895, 1900\",\"1900, 1905\",\"1905, 1910\",\"1910, 1915\",\"1915, 1920\",\"1920, 1925\",\"1925, 1930\",\"1930, 1935\",\"1935, 1940\",\"1940, 1945\",\"1945, 1950\",\"1950, 1955\",\"1955, 1960\",\"1960, 1965\",\"1965, 1970\",\"1970, 1975\",\"1975, 1980\",\"1980, 1985\",\"1985, 1990\",\"1990, 1995\",\"1995, 2000\",\"2000, 2005\",\"2005, 2010\",\"2010, 2015\",\"2015, 2020\",\"2020, 2025\"],\"tickangle\":45},\"title\":{\"text\":\"Ratio of movies with sequels per 5 years\"},\"yaxis\":{\"title\":{\"text\":\"Ratio (%)\"}}},                        {\"responsive\": true}                    ).then(function(){\n",
       "                            \n",
       "var gd = document.getElementById('428430c8-477d-41cf-937a-ac5e799962bf');\n",
       "var x = new MutationObserver(function (mutations, observer) {{\n",
       "        var display = window.getComputedStyle(gd).display;\n",
       "        if (!display || display === 'none') {{\n",
       "            console.log([gd, 'removed!']);\n",
       "            Plotly.purge(gd);\n",
       "            observer.disconnect();\n",
       "        }}\n",
       "}});\n",
       "\n",
       "// Listen for the removal of the full notebook cells\n",
       "var notebookContainer = gd.closest('#notebook-container');\n",
       "if (notebookContainer) {{\n",
       "    x.observe(notebookContainer, {childList: true});\n",
       "}}\n",
       "\n",
       "// Listen for the clearing of the current output cell\n",
       "var outputEl = gd.closest('.output');\n",
       "if (outputEl) {{\n",
       "    x.observe(outputEl, {childList: true});\n",
       "}}\n",
       "\n",
       "                        })                };                });            </script>        </div>"
      ]
     },
     "metadata": {},
     "output_type": "display_data"
    }
   ],
   "execution_count": 284
  },
  {
   "cell_type": "markdown",
   "id": "7ad95391",
   "metadata": {},
   "source": []
  },
  {
   "cell_type": "markdown",
   "id": "208db56e",
   "metadata": {},
   "source": [
    "## 3.1 Box office revenue"
   ]
  },
  {
   "cell_type": "markdown",
   "id": "1f67f392",
   "metadata": {},
   "source": [
    "#### 3.1.1 Box office revenue for movies with sequels compared to all movies"
   ]
  },
  {
   "cell_type": "code",
   "id": "691b988b630afa0d",
   "metadata": {
    "ExecuteTime": {
     "end_time": "2024-12-13T23:20:03.538581Z",
     "start_time": "2024-12-13T23:20:01.585233Z"
    }
   },
   "source": [
    "from src.models.box_office_revenue import get_box_office_absolute\n",
    "\n",
    "# Plot figure 4: box office revenue per year\n",
    "get_box_office_absolute(movie_frames_old)\n",
    "plt.show()"
   ],
   "outputs": [
    {
     "name": "stderr",
     "output_type": "stream",
     "text": [
      "/home/yann/Documents/ada-2024-project-onceuponatimeindata/src/models/movies_frame.py:132: SettingWithCopyWarning:\n",
      "\n",
      "\n",
      "A value is trying to be set on a copy of a slice from a DataFrame.\n",
      "Try using .loc[row_indexer,col_indexer] = value instead\n",
      "\n",
      "See the caveats in the documentation: https://pandas.pydata.org/pandas-docs/stable/user_guide/indexing.html#returning-a-view-versus-a-copy\n",
      "\n"
     ]
    },
    {
     "data": {
      "text/plain": [
       "<Figure size 800x600 with 1 Axes>"
      ],
      "image/png": "[encoded data removed]"
     },
     "metadata": {},
     "output_type": "display_data"
    }
   ],
   "execution_count": 285
  },
  {
   "cell_type": "markdown",
   "id": "4b7b455b",
   "metadata": {},
   "source": [
    "Calculation and plots the percentage of box office revenue each year contributed by movies with sequels, relative to the total box office revenue for all movies that year"
   ]
  },
  {
   "cell_type": "markdown",
   "id": "1a9df2e3",
   "metadata": {},
   "source": [
    "$$\n",
    "\\text{Box Office \\%} = \\frac{\\text{Box office of movies with sequel per year}}{\\text{Box office for all movies per year}} * 100\n",
    "$$"
   ]
  },
  {
   "cell_type": "code",
   "id": "679d8d9f008ab8f1",
   "metadata": {
    "ExecuteTime": {
     "end_time": "2024-12-13T15:38:14.465186Z",
     "start_time": "2024-12-13T15:38:13.786243Z"
    }
   },
   "source": [
    "from src.models.box_office_revenue import get_box_office_ratio\n",
    "\n",
    "fig = get_box_office_ratio(movie_frames_old)\n",
    "plt.show()"
   ],
   "outputs": [
    {
     "data": {
      "text/plain": [
       "<Figure size 640x480 with 1 Axes>"
      ],
      "image/png": "[encoded data removed]"
     },
     "metadata": {},
     "output_type": "display_data"
    }
   ],
   "execution_count": 10
  },
  {
   "cell_type": "markdown",
   "id": "0ce3cf55",
   "metadata": {},
   "source": [
    "Calculation and plot of the average inflation-adjusted box office revenue per year, both for all movies and for movies with sequels"
   ]
  },
  {
   "cell_type": "code",
   "id": "ba6e01bb1a95a81b",
   "metadata": {
    "ExecuteTime": {
     "end_time": "2024-12-13T15:38:14.880077Z",
     "start_time": "2024-12-13T15:38:14.516328Z"
    }
   },
   "source": [
    "from src.models.box_office_revenue import get_average_box_office_revenue\n",
    "\n",
    "get_average_box_office_revenue(movie_frames_old)\n",
    "plt.show()"
   ],
   "outputs": [
    {
     "data": {
      "text/plain": [
       "<Figure size 640x480 with 1 Axes>"
      ],
      "image/png": "[encoded data removed]"
     },
     "metadata": {},
     "output_type": "display_data"
    }
   ],
   "execution_count": 11
  },
  {
   "cell_type": "markdown",
   "id": "54cf716b68e15bea",
   "metadata": {},
   "source": [
    "#### 3.1.2 Box office revenue for movies with sequel compared to the first movie of the collection"
   ]
  },
  {
   "cell_type": "markdown",
   "id": "f6231a02",
   "metadata": {},
   "source": [
    "This plot shows the box office revenue for the first movie in a collection compared to the sequels. The x-axis represents the collection, and the y-axis is the box office revenue. On the left side, the box office of the entire serie following the first movie is seen, and on the right side, the average box office of the sequels is compared to the first. Improving sequels are linked in green, and decreasing sequels are linked in red.\n",
    "\n",
    "compare_first_sequel splits the movies into first movies and sequels, calculates the box office revenue for each movie, and then plots the data.\n"
   ]
  },
  {
   "cell_type": "code",
   "id": "8ea1df41fe534bc3",
   "metadata": {
    "ExecuteTime": {
     "end_time": "2024-12-13T15:38:17.411019Z",
     "start_time": "2024-12-13T15:38:14.920405Z"
    }
   },
   "source": [
    "from src.models.box_office_revenue import compare_first_sequel\n",
    "\n",
    "fig = compare_first_sequel(movie_frames_old)\n",
    "\n",
    "plt.tight_layout()\n",
    "plt.show()\n"
   ],
   "outputs": [
    {
     "data": {
      "text/plain": [
       "<Figure size 1000x1000 with 2 Axes>"
      ],
      "image/png": "[encoded data removed]"
     },
     "metadata": {},
     "output_type": "display_data"
    }
   ],
   "execution_count": 12
  },
  {
   "cell_type": "markdown",
   "id": "78d67dc0",
   "metadata": {},
   "source": [
    "These plots highlight where the first movie outperforms the sequel (red lines) and vice versa (green lines). The second plot also includes a yellow horizontal line showing the average box office revenue of all movies in the dataset.\n",
    "\n",
    "The log scale on the y-axis is used to better visualize large differences in revenue, especially when there are very high values."
   ]
  },
  {
   "cell_type": "markdown",
   "id": "50eafa110cdecfc5",
   "metadata": {},
   "source": [
    "## 4. Number of movies in a collection"
   ]
  },
  {
   "cell_type": "markdown",
   "id": "1196cb93",
   "metadata": {},
   "source": [
    "A plot of the comparison between the budget and the box office revenue for collection. The x-axis is the budget and the y-axis is the revenue. The size of the circles is proportional to the number of movies in the collection. \n",
    "get_budget_vs_revenue first computes the box office revenue and budget for each movie in the collection, then calculates the total box office revenue and budget for the collection. The budget is our first use of the extended data which wasn't in the original database, but was given by the TMDB API. The function then plots the data.\n",
    "\n"
   ]
  },
  {
   "cell_type": "code",
   "id": "6d8fd0a7ec6d91d8",
   "metadata": {
    "ExecuteTime": {
     "end_time": "2024-12-13T15:38:18.696495Z",
     "start_time": "2024-12-13T15:38:17.453749Z"
    }
   },
   "source": [
    "from src.models.collection_analysis import get_budget_vs_revenue\n",
    "import seaborn as sns\n",
    "\n",
    "get_budget_vs_revenue(movie_frames_old, \"data/sequels/sequels_1880_2010_extended.csv\")\n",
    "plt.show()"
   ],
   "outputs": [
    {
     "data": {
      "text/plain": [
       "<Figure size 1200x1000 with 1 Axes>"
      ],
      "image/png": "[encoded data removed]"
     },
     "metadata": {},
     "output_type": "display_data"
    }
   ],
   "execution_count": 13
  },
  {
   "cell_type": "markdown",
   "id": "ebe4c69043748ca8",
   "metadata": {},
   "source": [
    "### 5. Time between sequels"
   ]
  },
  {
   "cell_type": "markdown",
   "id": "e0e45c9aafe33ed5",
   "metadata": {},
   "source": [
    "This graph displays the time occured between sequels in a collection. The x-axis represents the number of years between sequels, and the y-axis is the collection. The size of the circles is proportional to the box office revenue of the movie. The link between each film . The graph helps identify patterns in the time between sequels and the revenue generated by each sequel.\n",
    "\n",
    "get_time_between_sequels first separates the movies between first movie and the following sequels, creates a dataframe with the movies in each collection, their release date and the box office revenue. It then calculates the time between sequels. Then it draws the graph."
   ]
  },
  {
   "cell_type": "code",
   "id": "befb60b2df4bd9cc",
   "metadata": {
    "ExecuteTime": {
     "end_time": "2024-12-13T15:38:20.105852Z",
     "start_time": "2024-12-13T15:38:18.751408Z"
    }
   },
   "source": [
    "from src.models.collection_analysis import get_time_between_sequels\n",
    "\n",
    "fig = get_time_between_sequels(movie_frames_old)\n",
    "plt.show()"
   ],
   "outputs": [
    {
     "data": {
      "text/plain": [
       "<Figure size 2000x2000 with 1 Axes>"
      ],
      "image/png": "[encoded data removed]"
     },
     "metadata": {},
     "output_type": "display_data"
    }
   ],
   "execution_count": 14
  },
  {
   "cell_type": "markdown",
   "id": "ee766fa7626d9204",
   "metadata": {},
   "source": [
    "## Other line of enquiry:\n",
    "\n",
    "- Highest grossing series\n",
    "- By genre\n",
    "- Find studios that do a lot of sequels\n",
    "- Is there a correlation between the box office revenue of the first movie and the sequels\n",
    "- Add more box office revenue data and get movie budget data\n",
    "- ..."
   ]
  }
 ],
 "metadata": {
  "kernelspec": {
   "display_name": "Python 3 (ipykernel)",
   "language": "python",
   "name": "python3"
  },
  "language_info": {
   "codemirror_mode": {
    "name": "ipython",
    "version": 3
   },
   "file_extension": ".py",
   "mimetype": "text/x-python",
   "name": "python",
   "nbconvert_exporter": "python",
   "pygments_lexer": "ipython3",
   "version": "3.8.10"
  }
 },
 "nbformat": 4,
 "nbformat_minor": 5
}
