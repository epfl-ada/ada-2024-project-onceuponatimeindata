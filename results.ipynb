{
 "cells": [
  {
   "cell_type": "markdown",
   "metadata": {},
   "source": [
    "### Here our Results"
   ]
  },
  {
   "metadata": {},
   "cell_type": "code",
   "source": [
    "import numpy as np\n",
    "import pandas as pd\n",
    "import json\n",
    "import sys\n",
    "import os\n",
    "import requests\n",
    "\n",
    "from tqdm import tqdm\n",
    "\n",
    "from src.data.TMDB_Movies import get_data\n",
    "from src.data.TMDB_Movies import get_collection\n",
    "\n",
    "current_dir = os.path.abspath(\"\")\n",
    "sys.path.append(current_dir)\n",
    "data_dir = os.path.join(current_dir, \"data\")"
   ],
   "outputs": [],
   "execution_count": null
  },
  {
   "metadata": {},
   "cell_type": "code",
   "source": [
    "#we want to organize the data in tvclusters into a dataframe and sort by actor\n",
    "\n",
    "\n",
    "# Read the text file into a DataFrame\n",
    "tv_tropes_path = os.path.join(data_dir, \"MovieSummaries/tvtropes.clusters.txt\")\n",
    "tv_clusters = pd.read_csv(tv_tropes_path, sep='\\t', header=None, names=['trope', 'details'])\n",
    "\n",
    "# Parse the JSON string in the 'details' column and expand it into separate columns\n",
    "tv_clusters = tv_clusters.join(tv_clusters['details'].apply(json.loads).apply(pd.Series))\n",
    "\n",
    "# Drop the 'details' column as it's no longer needed\n",
    "tv_clusters.drop(columns=['details'], inplace=True)\n",
    "\n",
    "# Display the DataFrame\n",
    "\n",
    "tv_clusters_char = tv_clusters.sort_values(by='char')\n",
    "\n",
    "tv_clusters_char = tv_clusters_char.reset_index(drop=True)\n",
    "\n",
    "len(tv_clusters_char)\n"
   ],
   "outputs": [],
   "execution_count": null
  },
  {
   "metadata": {},
   "cell_type": "code",
   "source": [
    "# try to get the movies with sequels \n",
    "\n",
    "char_count = tv_clusters_char.groupby('char').size()\n",
    "\n",
    "multiple_char = char_count[char_count > 1]\n",
    "\n",
    "print(multiple_char.head(5))\n",
    "print(\"number of reoccuring character : \" + str(len(multiple_char)))\n"
   ],
   "outputs": [],
   "execution_count": null
  },
  {
   "metadata": {},
   "cell_type": "code",
   "source": [
    "tv_clusters_char = tv_clusters_char[tv_clusters_char['char'].isin(multiple_char.index)]\n",
    "\n",
    "tv_clusters_char = tv_clusters_char.reset_index(drop=True)\n",
    "tv_clusters_char.head(25)\n"
   ],
   "outputs": [],
   "execution_count": null
  },
  {
   "metadata": {},
   "cell_type": "code",
   "source": [
    "#get only movies with sequels \n",
    "sequel_char = tv_clusters_char.groupby('char')['movie'].nunique()\n",
    "\n",
    "sequel_char = sequel_char[sequel_char > 1]  \n",
    "\n",
    "tv_clusters_sequel = tv_clusters_char[tv_clusters_char['char'].isin(sequel_char.index)]\n",
    "\n",
    "\n",
    "tv_clusters_sequel = tv_clusters_sequel.reset_index(drop=True)\n"
   ],
   "outputs": [],
   "execution_count": null
  },
  {
   "metadata": {},
   "cell_type": "code",
   "source": "tv_clusters_sequel.head(35)",
   "outputs": [],
   "execution_count": null
  },
  {
   "metadata": {},
   "cell_type": "code",
   "source": [
    "sequels_movies = pd.read_csv('/Users/christmannjules/Downloads/sequel_film.csv')\n",
    "\n",
    "movie_columns = ['Wikipedia movie ID', 'Freebase movie ID', 'Movie name', 'Movie release date', 'Movie box office revenue', 'Movie runtime', 'Movie languages', 'Movie countries', 'Movie genres']\n",
    "movie_df = pd.read_csv('data/MovieSummaries/movie.metadata.tsv', sep='\\t',names = movie_columns, header=None)\n",
    "\n",
    "\n",
    "\n",
    "# Drop the 'details' column as it's no longer needed\n",
    "\n",
    "sequel_df = movie_df[movie_df['Movie name'].isin(sequels_movies['Title'])]\n",
    "\n",
    "sequel_df.sort_values(by=['Movie name'], inplace=True)\n",
    "\n",
    "sequel_df.reset_index(drop=True, inplace=True)\n",
    "\n",
    "sequel_df['Movie languages'] = sequel_df['Movie languages'].str.extract(r':\\s*\"([^\"]+)\"')\n",
    "sequel_df['Movie countries'] = sequel_df['Movie countries'].str.extract(r':\\s*\"([^\"]+)\"')\n",
    "sequel_df['genre_list'] = sequel_df['Movie genres'].str.findall(r':\\s*\"([^\"]+)\"')\n",
    "\n",
    "# Expand the genre_list column into separate columns for each genre\n",
    "genre_columns = sequel_df['genre_list'].apply(pd.Series)\n",
    "genre_columns.columns = [f'Genre_{i+1}' for i in genre_columns.columns]\n",
    "\n",
    "# Concatenate original DataFrame with new genre columns\n",
    "sequel_df = pd.concat([sequel_df, genre_columns], axis=1).drop(columns=['genre_list'])\n",
    "sequel_df.drop(columns=['Movie genres'], inplace=True)  \n",
    "\n",
    "# Display the updated DataFrame\n",
    "sequel_df.head(5)\n",
    "\n"
   ],
   "outputs": [],
   "execution_count": null
  },
  {
   "metadata": {},
   "cell_type": "markdown",
   "source": [
    "### 2.1 Data Collection\n",
    "\n",
    "Here we download the data from TMDB."
   ]
  },
  {
   "metadata": {},
   "cell_type": "code",
   "source": [
    "from src.data.TMDB_Movies import get_movie_data_extended, get_movie_metadatalike_db\n",
    "\n",
    "keywords_name = [\"sequels\", \"book\", \"comics\", \"remake\"]\n",
    "keywords = [9663, 818, 9717, 9714] #keywords for the movies corresponding to the sequels, book or novel adaptations, and based on comics, and remakes\n",
    "\n",
    "start_date = \"1880-01-01\"\n",
    "end_date = \"2010-01-01\"\n",
    "for i, keyword in enumerate(keywords):\n",
    "    data = get_data(keywords_name[i], \"2010-01-01\", keyword)\n",
    "    file_name = f\"{keywords_name[i]}_{start_date[:4]}_{end_date[:4]}.csv\"\n",
    "    data_extended = get_movie_data_extended(data, keywords_name[i])\n",
    "    get_movie_metadatalike_db(data_extended, keywords_name[i])"
   ],
   "outputs": [],
   "execution_count": null
  },
  {
   "metadata": {},
   "cell_type": "markdown",
   "source": "### 2.1.2 Data Collection for the years 2010-2024"
  },
  {
   "metadata": {},
   "cell_type": "code",
   "source": [
    "start_date = \"2010-01-01\"\n",
    "end_date = \"2024-01-01\"\n",
    "\n",
    "for i, keyword in enumerate(keywords):\n",
    "    data = get_data(keywords_name[i], start_date, keyword)\n",
    "    file_name = f\"{keywords_name[i]}_{start_date[:4]}_{end_date[:4]}.csv\"\n",
    "    data_extended = get_movie_data_extended(data, keywords_name[i])\n",
    "    get_movie_metadatalike_db(data_extended, keywords_name[i])"
   ],
   "outputs": [],
   "execution_count": null
  },
  {
   "metadata": {},
   "cell_type": "markdown",
   "source": "### 2.2 Use TMDB collection to get group the sequels together."
  },
  {
   "metadata": {},
   "cell_type": "code",
   "source": [
    "sequels_movies = pd.read_csv('data/sequels/movie_with_sequels_1880_2010.csv')\n",
    "get_collection(sequels_movies, path= \"data/sequels\", years=\"1880_2010\")\n",
    "\n",
    "sequels_movies_new = pd.read_csv('data/sequels/movie_with_sequels_2010_2024.csv')\n",
    "get_collection(sequels_movies_new, path=\"data/sequels\", years=\"2010_2024\")"
   ],
   "outputs": [],
   "execution_count": null
  },
  {
   "metadata": {},
   "cell_type": "markdown",
   "source": "### 2.3 Find the movies in the Dataset using TMDB collection"
  },
  {
   "metadata": {},
   "cell_type": "code",
   "source": [
    "from more_itertools import sliced\n",
    "from src.data.TMDB_Movies import get_wikipedia_id_from_title\n",
    "\n",
    "def get_wikipedia_id_for_db(df, file):\n",
    "    wiki_df = None\n",
    "    slices = sliced(seq=range(len(df)), n=50)\n",
    "    \n",
    "    for index in tqdm(slices, total=len(df)//50):\n",
    "        chunk = df.iloc[index].copy()\n",
    "        chunk[\"Wikipedia movie ID\"] = chunk.apply(lambda x: get_wikipedia_id_from_title(x[\"title\"], x[\"release_date\"]), axis = 1)\n",
    "        wiki_df = pd.concat([wiki_df, chunk], axis=0, ignore_index=True,\n",
    "                                                sort=False) if wiki_df is not None else chunk\n",
    "        wiki_df.to_csv(file)\n",
    "    return wiki_df"
   ],
   "outputs": [],
   "execution_count": null
  },
  {
   "metadata": {},
   "cell_type": "code",
   "source": [
    "sequel_collections = pd.read_csv('data/collections/sequels.csv')\n",
    "sequel_collections_with_wiki_id = get_wikipedia_id_for_db(sequel_collections, \"data/collections/sequels_and_original_with_wiki_id.csv\")\n",
    "sequel_collections_with_wiki_id.to_csv('data/collections/sequels_and_original_with_wiki_id.csv')"
   ],
   "outputs": [],
   "execution_count": null
  },
  {
   "metadata": {},
   "cell_type": "code",
   "source": [
    "sequels = pd.read_csv('data/movie_with_keyword_sequel.csv')\n",
    "sequels_with_wiki_id = get_wikipedia_id_for_db(sequels, 'data/movie_with_keyword_sequel_with_wiki_id.csv')\n",
    "sequels_with_wiki_id.to_csv('data/movie_with_keyword_sequel_with_wiki_id.csv')"
   ],
   "outputs": [],
   "execution_count": null
  },
  {
   "metadata": {},
   "cell_type": "code",
   "source": [
    "book = pd.read_csv(\"data/book/movie_with_book_1880_2010.csv\")\n",
    "book_with_wiki_id = get_wikipedia_id_for_db(book, 'data/book/book_with_wiki_id_1880_2010.csv')\n",
    "book_with_wiki_id.to_csv('data/book/book_with_wiki_id_1880_2010.csv')"
   ],
   "outputs": [],
   "execution_count": null
  },
  {
   "metadata": {},
   "cell_type": "code",
   "source": [
    "comics = pd.read_csv(\"data/comics/movie_with_comics_1880_2010.csv\")\n",
    "comics_with_wiki_id = get_wikipedia_id_for_db(comics, 'data/comics/comics_with_wiki_id_1880_2010.csv')\n",
    "comics_with_wiki_id.to_csv('data/comics/comics_with_wiki_id_1880_2010.csv')"
   ],
   "outputs": [],
   "execution_count": null
  },
  {
   "metadata": {},
   "cell_type": "code",
   "source": [
    "remake = pd.read_csv(\"data/remake/movie_with_remake_1880_2010.csv\")\n",
    "remake_with_wiki_id = get_wikipedia_id_for_db(remake, 'data/remake/remake_with_wiki_id.csv')\n",
    "remake_with_wiki_id.to_csv('data/remake/remake_with_wiki_id.csv')"
   ],
   "outputs": [],
   "execution_count": null
  },
  {
   "metadata": {},
   "cell_type": "markdown",
   "source": "#### 2.3.2 Find the movies in the Dataset using Wikipedia movie ID"
  },
  {
   "metadata": {},
   "cell_type": "code",
   "source": [
    "movie_df = pd.read_csv('data/MovieSummaries/movie.metadata.tsv', sep='\\t', header=None)\n",
    "sequel_collections_with_wiki_id = pd.read_csv('data/collections/sequels_and_original_with_wiki_id.csv')\n",
    "\n",
    "movie_df.rename(columns={0: 'Wikipedia movie ID', 1: \"Freebase movie ID\", 2: \"Movie name\",  3: \"Movie release date\", 4: \"Movie box office revenue\", 5: \"Movie runtime\", 6: \"Movie languages\", 7: \"Movie countries\", 8: \"Movie genres\"}, inplace=True)\n",
    "\n",
    "movie_df_sequel_original = movie_df.join(sequel_collections_with_wiki_id.set_index('Wikipedia movie ID'), on=\"Wikipedia movie ID\", how='inner')\n",
    "movie_df_sequel_original.to_csv('data/movie_df_sequel_original.csv')"
   ],
   "outputs": [],
   "execution_count": null
  },
  {
   "metadata": {},
   "cell_type": "code",
   "source": [
    "sequels_with_wiki_id = pd.read_csv('data/movie_with_keyword_sequel_with_wiki_id.csv')\n",
    "\n",
    "movie_df_sequel_only = movie_df.join(sequels_with_wiki_id.set_index('Wikipedia movie ID'), on=\"Wikipedia movie ID\", how='inner')\n",
    "movie_df_sequel_only.to_csv('data/movie_df_sequel_only.csv')"
   ],
   "outputs": [],
   "execution_count": null
  },
  {
   "metadata": {},
   "cell_type": "code",
   "source": [
    "movie_df_book = movie_df.join(book_with_wiki_id.set_index('Wikipedia movie ID'), on=\"Wikipedia movie ID\", how='inner')\n",
    "movie_df_book.to_csv('data/movie_df_book.csv')\n",
    "\n",
    "movie_df_comics = movie_df.join(comics_with_wiki_id.set_index('Wikipedia movie ID'), on=\"Wikipedia movie ID\", how='inner')\n",
    "movie_df_comics.to_csv('data/movie_df_comics.csv')\n",
    "\n",
    "movie_df_remake = movie_df.join(remake_with_wiki_id.set_index('Wikipedia movie ID'), on=\"Wikipedia movie ID\", how='inner')\n",
    "movie_df_remake.to_csv('data/movie_df_remake.csv')"
   ],
   "outputs": [],
   "execution_count": null
  },
  {
   "metadata": {},
   "cell_type": "markdown",
   "source": "#### 2.4 Remove movies without the same year between tmdb and wikipedia"
  },
  {
   "metadata": {},
   "cell_type": "code",
   "source": [
    "def ensure_same_year(df):\n",
    "    df[\"release year wiki\"] = df[\"Movie release date\"].apply(lambda x: str(x)[:4] if str.isdigit(str(x)[:4]) else np.nan)\n",
    "    df[\"release year tmdb\"] = df[\"release_date\"].apply(lambda x: str(x)[:4] if str.isdigit(str(x)[:4]) else np.nan)\n",
    "    \n",
    "    df.drop(df[df[\"release year wiki\"] != df[\"release year tmdb\"]].index, inplace=True)\n",
    "    df[\"release year\"] = df[\"release year wiki\"].astype(float)\n",
    "    df.drop(\"release year tmdb\", axis=1, inplace=True)\n",
    "    df.drop(\"release year wiki\", axis=1, inplace=True)\n",
    "    \n",
    "    return df\n",
    "    "
   ],
   "outputs": [],
   "execution_count": null
  },
  {
   "metadata": {},
   "cell_type": "code",
   "source": [
    "movie_df_sequel_only = ensure_same_year(movie_df_sequel_only)\n",
    "movie_df_sequel_only.to_csv('data/movie_df_sequel_only.csv')\n",
    "\n",
    "movie_df_sequel_original = ensure_same_year(movie_df_sequel_original)\n",
    "movie_df_sequel_original.to_csv('data/movie_df_sequel_original.csv')\n",
    "\n",
    "movie_df_book = ensure_same_year(movie_df_book)\n",
    "movie_df_book.to_csv('data/movie_df_book.csv')\n",
    "\n",
    "movie_df_comics = ensure_same_year(movie_df_comics)\n",
    "movie_df_comics.to_csv('data/movie_df_comics.csv')\n",
    "\n",
    "movie_df_remake = ensure_same_year(movie_df_remake)\n",
    "movie_df_remake.to_csv('data/movie_df_remake.csv')"
   ],
   "outputs": [],
   "execution_count": null
  },
  {
   "metadata": {},
   "cell_type": "code",
   "source": [
    "from src.data.TMDB_Movies import fill_missing_value\n",
    "\n",
    "movie_extended_df = pd.read_csv(\"data/collections/sequels_extended_1880_2010.csv\")\n",
    "movie_df_sequel_original.apply(lambda x : fill_missing_value(x, movie_extended_df[movie_extended_df[\"id\"] == x[\"id\"]], \"Movie box office revenue\",\"revenue\"), axis=1)\n",
    "\n",
    "sequels_only_extended_df = pd.read_csv(\"data/sequels/sequels_extended.csv\")\n",
    "movie_df_sequel_only.apply(lambda x : fill_missing_value(x, sequels_only_extended_df[sequels_only_extended_df[\"id\"] == x[\"id\"]], \"Movie box office revenue\",\"revenue\"), axis=1)"
   ],
   "outputs": [],
   "execution_count": null
  },
  {
   "metadata": {},
   "cell_type": "code",
   "source": "",
   "outputs": [],
   "execution_count": null
  }
 ],
 "metadata": {
  "kernelspec": {
   "display_name": "base",
   "language": "python",
   "name": "python3"
  },
  "language_info": {
   "codemirror_mode": {
    "name": "ipython",
    "version": 3
   },
   "file_extension": ".py",
   "mimetype": "text/x-python",
   "name": "python",
   "nbconvert_exporter": "python",
   "pygments_lexer": "ipython3",
   "version": "3.9.15"
  }
 },
 "nbformat": 4,
 "nbformat_minor": 2
}
