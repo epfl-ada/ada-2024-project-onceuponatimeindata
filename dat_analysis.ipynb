{
 "cells": [
  {
   "cell_type": "markdown",
   "id": "771f18a0",
   "metadata": {},
   "source": [
    "Library import"
   ]
  },
  {
   "cell_type": "code",
   "id": "4e29fe47c103a5b2",
   "metadata": {},
   "source": [
    "import pandas as pd\n",
    "import numpy as np\n",
    "import cpi\n",
    "import matplotlib.pyplot as plt\n",
    "from ipython_genutils.text import columnize"
   ],
   "outputs": [],
   "execution_count": null
  },
  {
   "cell_type": "markdown",
   "id": "5d7e5afe",
   "metadata": {},
   "source": [
    "Files loading"
   ]
  },
  {
   "cell_type": "code",
   "id": "fc3956441f3bec25",
   "metadata": {},
   "source": [
    "#Load movie databases\n",
    "movie_df = pd.read_csv('data/MovieSummaries/movie.metadata.tsv', sep='\\t', header=None)\n",
    "sequel_collections_with_wiki_id = pd.read_csv('data/collections/sequels_and_original_with_wiki_id.csv')\n",
    "sequels_with_wiki_id = pd.read_csv('data/movie_with_keyword_sequel_with_wiki_id.csv')\n",
    "\n",
    "#re\n",
    "movie_df.rename(columns={0: 'Wikipedia movie ID', 1: \"Freebase movie ID\", 2: \"Movie name\",  3: \"Movie release date\", 4: \"Movie box office revenue\", 5: \"Movie runtime\", 6: \"Movie languages\", 7: \"Movie countries\", 8: \"Movie genres\"}, inplace=True)"
   ],
   "outputs": [],
   "execution_count": null
  },
  {
   "cell_type": "markdown",
   "id": "c385b58a",
   "metadata": {},
   "source": [
    "Inner join between \"movie_df\" and sequels with their Wikipedia ID"
   ]
  },
  {
   "cell_type": "code",
   "id": "6b31f0be0e9435db",
   "metadata": {},
   "source": [
    "movie_df_sequel_original = movie_df.join(sequel_collections_with_wiki_id.set_index('Wikipedia movie ID'), on=\"Wikipedia movie ID\", how='inner')\n",
    "movie_df_sequel_only = movie_df.join(sequels_with_wiki_id.set_index('Wikipedia movie ID'), on=\"Wikipedia movie ID\", how='inner')"
   ],
   "outputs": [],
   "execution_count": null
  },
  {
   "cell_type": "markdown",
   "id": "052fc57f",
   "metadata": {},
   "source": [
    "Filtering movies by consistent release year"
   ]
  },
  {
   "cell_type": "code",
   "id": "23c13046d77c6771",
   "metadata": {},
   "source": [
    "movie_df_sequel_only[\"release year wiki\"] = movie_df_sequel_only[\"Movie release date\"].apply(lambda x: str(x)[:4] if str.isdigit(str(x)[:4]) else np.nan)\n",
    "movie_df_sequel_only[\"release year tmdb\"] = movie_df_sequel_only[\"release_date\"].apply(lambda x: str(x)[:4] if str.isdigit(str(x)[:4]) else np.nan)\n",
    "\n",
    "movie_df_sequel_only.drop(movie_df_sequel_only[movie_df_sequel_only[\"release year wiki\"] != movie_df_sequel_only[\"release year tmdb\"]].index, inplace=True)\n",
    "movie_df_sequel_only[\"release year\"] = movie_df_sequel_only[\"release year wiki\"].astype(float)\n",
    "movie_df_sequel_only.drop(\"release year tmdb\", axis=1, inplace=True)\n",
    "movie_df_sequel_only.drop(\"release year wiki\", axis=1, inplace=True)\n"
   ],
   "outputs": [],
   "execution_count": null
  },
  {
   "cell_type": "markdown",
   "id": "a1b961cd",
   "metadata": {},
   "source": [
    "Filtering sequels and original movies by consistent release year"
   ]
  },
  {
   "cell_type": "code",
   "id": "b65ca214ac8536b6",
   "metadata": {},
   "source": [
    "movie_df_sequel_original[\"release year wiki\"] = movie_df_sequel_original[\"Movie release date\"].apply(lambda x: str(x)[:4] if str.isdigit(str(x)[:4]) else np.nan)\n",
    "movie_df_sequel_original[\"release year tmdb\"] = movie_df_sequel_original[\"release_date\"].apply(lambda x: str(x)[:4] if str.isdigit(str(x)[:4]) else np.nan)\n",
    "\n",
    "movie_df_sequel_original.drop(movie_df_sequel_original[movie_df_sequel_original[\"release year wiki\"] != movie_df_sequel_original[\"release year tmdb\"]].index, inplace=True)\n",
    "movie_df_sequel_original[\"release year\"] = movie_df_sequel_original[\"release year wiki\"].astype(float)\n",
    "movie_df_sequel_original.drop(\"release year tmdb\", axis=1, inplace=True)\n",
    "movie_df_sequel_original.drop(\"release year wiki\", axis=1, inplace=True)"
   ],
   "outputs": [],
   "execution_count": null
  },
  {
   "cell_type": "markdown",
   "id": "ec208912f78269f7",
   "metadata": {},
   "source": [
    "### 3.1 How many sequels are there compared to movies "
   ]
  },
  {
   "cell_type": "markdown",
   "id": "53654302",
   "metadata": {},
   "source": [
    "Groups the movies by 5-year intervals, counts how many movies fall into each interval, and returns the string representation of the interval labels"
   ]
  },
  {
   "cell_type": "code",
   "id": "2e18284f52dcd320",
   "metadata": {},
   "source": [
    "movie_df.groupby(pd.cut(movie_df[\"release year\"], np.arange(1885, 2015, 5))).count().index.astype(str) "
   ],
   "outputs": [],
   "execution_count": null
  },
  {
   "cell_type": "markdown",
   "id": "2123d6aa",
   "metadata": {},
   "source": [
    "Plot of number of movies per 5 year (left figure) VS. Plot of number of movies with sequels per 5 year (right figure)"
   ]
  },
  {
   "cell_type": "code",
   "id": "291aae8c32a635ee",
   "metadata": {},
   "source": [
    "#extraction of the release year\n",
    "\n",
    "movie_df[\"release year\"] = movie_df[\"Movie release date\"].apply(lambda x: str(x)[:4] if str.isdigit(str(x)[:4]) else np.nan)\n",
    "movie_df[\"release year\"] = movie_df[\"release year\"].astype(float)\n",
    "\n",
    "#keep only the movies released between 1880 and 2010 (inclusive of 1880 but excluding 2010)\n",
    "\n",
    "    #first with movies\n",
    "\n",
    "movie_df = movie_df[movie_df[\"release year\"] >= 1880]\n",
    "movie_df = movie_df[movie_df[\"release year\"] < 2010]\n",
    "\n",
    "    #then with movies with sequels\n",
    "\n",
    "movie_df_sequel_only[\"release year\"] = movie_df_sequel_only[\"release_date\"].apply(lambda x: str(x)[:4] if str.isdigit(str(x)[:4]) else np.nan)\n",
    "movie_df_sequel_only[\"release year\"] = movie_df_sequel_only[\"release year\"].astype(float)\n",
    "\n",
    "movie_df_sequel_only = movie_df_sequel_only[movie_df_sequel_only[\"release year\"] >= 1880]\n",
    "movie_df_sequel_only = movie_df_sequel_only[movie_df_sequel_only[\"release year\"] < 2010]\n",
    "\n",
    "#grouping and count movies by release year\n",
    "\n",
    "movies_per_years = movie_df.groupby(pd.cut(movie_df[\"release year\"], np.arange(1885, 2011, 5))).count()\n",
    "movies_sequel_per_year = movie_df_sequel_only.groupby(pd.cut(movie_df_sequel_only[\"release year\"], np.arange(1885, 2011, 5))).count()\n",
    "\n",
    "years = movies_per_years.index.astype(str)\n",
    "years = [x[1:][:-1] for x in years]\n",
    "\n",
    "#Plot figure 1 (left):  number of movies per 5 years\n",
    "\n",
    "fig = plt.figure(figsize=(15, 10))\n",
    "ax1 = fig.add_subplot(221)\n",
    "ax1.bar(years, movies_per_years[\"Wikipedia movie ID\"], label=\"Number of movies\")\n",
    "ax1.legend()\n",
    "ax1.title.set_text(\"Number of movies per 5 years\")\n",
    "ax1.set_xlabel(\"Year\")\n",
    "ax1.set_ylabel(\"Number of movies\")\n",
    "plt.xticks(rotation=45, ha='right')\n",
    "\n",
    "#Plot figure 2 (right):  number of movies with sequels per 5 year\n",
    "\n",
    "ax2 = fig.add_subplot(222)\n",
    "ax2.bar(years, movies_sequel_per_year[\"Wikipedia movie ID\"], label=\"Number of movies with sequels\")\n",
    "ax2.legend()\n",
    "ax2.title.set_text(\"Number of movies with sequels per 5 years\")\n",
    "ax2.set_xlabel(\"Year\")\n",
    "ax2.set_ylabel(\"Number of movies\")\n",
    "plt.xticks(rotation=45, ha='right')\n",
    "\n",
    "plt.show()"
   ],
   "outputs": [],
   "execution_count": null
  },
  {
   "cell_type": "markdown",
   "id": "8700bb27",
   "metadata": {},
   "source": [
    "Calculation and plot of the ratio between movies with sequel and the number of movies, both per 5 years."
   ]
  },
  {
   "cell_type": "markdown",
   "id": "c72e5af5",
   "metadata": {},
   "source": [
    "$$\n",
    "\\text{Ratio} = \\frac{\\text{nb of movie with sequel per 5 year}}{\\text{nb of movie per 5 year}}\n",
    "$$"
   ]
  },
  {
   "cell_type": "code",
   "id": "3d67deb118ecbe63",
   "metadata": {},
   "source": [
    "    #remove the years with less than 50 movies\n",
    "movies_per_years_removed = movies_per_years[movies_per_years[\"Wikipedia movie ID\"] > 50]\n",
    "\n",
    "movie_df_ratio = movies_sequel_per_year / movies_per_years_removed * 100\n",
    "movie_df_ratio = movie_df_ratio.fillna(0)\n",
    "\n",
    "plt.plot(years, movie_df_ratio[\"Wikipedia movie ID\"])\n",
    "plt.title(\"Ratio of movies with sequels per 5 year\")\n",
    "plt.xlabel(\"Year\")\n",
    "plt.ylabel(\"Ratio\")\n",
    "plt.xticks(rotation=45, ha='right')\n",
    "plt.show()"
   ],
   "outputs": [],
   "execution_count": null
  },
  {
   "cell_type": "markdown",
   "id": "208db56e",
   "metadata": {},
   "source": [
    "## 3.2 Box office revenue"
   ]
  },
  {
   "cell_type": "markdown",
   "id": "1f67f392",
   "metadata": {},
   "source": [
    "#### 3.2.1 Box office revenue for movies with sequels compared to all movies"
   ]
  },
  {
   "cell_type": "markdown",
   "id": "35548f19",
   "metadata": {},
   "source": [
    "Creation of a function, using the Consumer Price Index (CPI), that calaculate the inflation adjustement for each movies based on their released year"
   ]
  },
  {
   "cell_type": "code",
   "id": "645d2c89fba03521",
   "metadata": {},
   "source": [
    "\n",
    "def inflate(revenue, year):\n",
    "    if np.isnan(revenue) or np.isnan(year) or year < 1900:  #no inflation adjustement for missing values or years before 1900\n",
    "        return np.nan\n",
    "    if len(str(year)) != 4:\n",
    "        year = int(str(year)[:4])\n",
    "    return cpi.inflate(revenue, year)                       #apply Consumer Price Index (cpi) inflation adjustement\n",
    "\n",
    "# applying the function to all movies and create a new column with the adjusted revenue\n",
    "\n",
    "movie_df[\"Movie box office revenue inflation adj\"] = movie_df.apply(lambda x: inflate(x[\"Movie box office revenue\"], x[\"release year\"]), axis=1)"
   ],
   "outputs": [],
   "execution_count": null
  },
  {
   "cell_type": "markdown",
   "id": "7d4a4d81",
   "metadata": {},
   "source": [
    "Box office revenues inflation adjustement for other movies with sequels dataframe"
   ]
  },
  {
   "cell_type": "code",
   "id": "b960f7a1a9dafdaf",
   "metadata": {},
   "source": [
    "movie_df_sequel_only[\"Movie box office revenue inflation adj\"] = movie_df_sequel_only.apply(lambda x: inflate(x[\"Movie box office revenue\"], x[\"release year\"]), axis=1)\n",
    "movie_df_sequel_original[\"Movie box office revenue inflation adj\"] = movie_df_sequel_original.apply(lambda x: inflate(x[\"Movie box office revenue\"], x[\"release year\"]), axis=1)"
   ],
   "outputs": [],
   "execution_count": null
  },
  {
   "cell_type": "markdown",
   "id": "36036339",
   "metadata": {},
   "source": [
    "Calculation and plot of total box office revenue per year"
   ]
  },
  {
   "cell_type": "code",
   "id": "691b988b630afa0d",
   "metadata": {},
   "source": [
    "#sum of the box office revenue per year, first for all movies, then for movies with sequels\n",
    "\n",
    "box_office_per_year = movie_df.groupby(\"release year\")[\"Movie box office revenue inflation adj\"].agg('sum')\n",
    "box_office_sequel_per_year = movie_df_sequel_only.groupby(\"release year\")[\"Movie box office revenue inflation adj\"].agg('sum')\n",
    "\n",
    "#replace NaN values by 0\n",
    "\n",
    "box_office_per_year = box_office_per_year.fillna(0)\n",
    "box_office_sequel_per_year = box_office_sequel_per_year.fillna(0)\n",
    "\n",
    "\"\"\"\n",
    "fig = plt.figure(figsize=(12, 10))\n",
    "ax1 = fig.add_subplot()\n",
    "ax1.plot(box_office_per_year.index, box_office_per_year, label=\"Box office revenue\")\n",
    "ax1.legend()\n",
    "ax1.title.set_text(\"Box office revenue per year\")\n",
    "ax1.set_xlabel(\"Year\")\n",
    "ax1.set_ylabel(\"Box office revenue\")\n",
    "\n",
    "ax2 = fig.add_subplot()\n",
    "ax2.plot(box_office_sequel_per_year.index, box_office_sequel_per_year, label=\"Box office revenue sequel\")\n",
    "ax2.legend()\n",
    "ax2.title.set_text(\"Box office revenue sequel per year\")\n",
    "ax2.set_xlabel(\"Year\")\n",
    "ax2.set_ylabel(\"Box office revenue\")\n",
    "\"\"\"\n",
    "\n",
    "# Plot figure 4: box office revenue per year\n",
    "\n",
    "fig, ax = plt.subplots(figsize=(8, 6))\n",
    "ax.plot(box_office_per_year.index, box_office_per_year, label=\"Box office revenue\")\n",
    "ax.plot(box_office_sequel_per_year.index, box_office_sequel_per_year, label=\"Box office revenue sequel\")\n",
    "\n",
    "plt.draw()                                                  # Draw the plot to get the current y-axis offset\n",
    "y_axis_offset = ax.get_yaxis().get_offset_text().get_text() # get the scientific notation multiplier from the axis and use it in the label\n",
    "ax.set_ylabel(f\"Box office revenue [{y_axis_offset}$]\")\n",
    "ax.get_yaxis().get_offset_text().set_visible(False)         # remove the scientific notation from the axis to avoid duplication\n",
    "ax.legend()\n",
    "ax.set_title(\"Box office revenue per year\")\n",
    "ax.set_xlabel(\"Year\")\n",
    "\n",
    "plt.show()"
   ],
   "outputs": [],
   "execution_count": null
  },
  {
   "cell_type": "markdown",
   "id": "4b7b455b",
   "metadata": {},
   "source": [
    "Calculation and plots the percentage of box office revenue each year contributed by movies with sequels, relative to the total box office revenue for all movies that year"
   ]
  },
  {
   "cell_type": "markdown",
   "id": "1a9df2e3",
   "metadata": {},
   "source": [
    "$$\n",
    "\\text{Box Office \\%} = \\frac{\\text{Box office of movies with sequel per year}}{\\text{Box office for all movies per year}} * 100\n",
    "$$"
   ]
  },
  {
   "cell_type": "code",
   "id": "679d8d9f008ab8f1",
   "metadata": {},
   "source": [
    "# calculate the percentage of box office revenue from movies with sequels\n",
    "\n",
    "box_office_percentage = box_office_sequel_per_year / box_office_per_year * 100\n",
    "\n",
    "# Plot figure 5: box office revenue percentage per year\n",
    "\n",
    "box_office_percentage_plot, ax = plt.subplots()\n",
    "ax.bar(box_office_percentage.index, box_office_percentage, label=\"Box office revenue percentage\", width=1)\n",
    "ax.legend(loc='upper left')\n",
    "ax.title.set_text(\"Box office revenue percentage from 1970\")\n",
    "ax.set_xlabel(\"Year\")\n",
    "ax.set_ylabel(\"Percentage (%)\")\n",
    "\n",
    "plt.show()"
   ],
   "outputs": [],
   "execution_count": null
  },
  {
   "cell_type": "markdown",
   "id": "0ce3cf55",
   "metadata": {},
   "source": [
    "Calculation and plot of the average inflation-adjusted box office revenue per year, both for all movies and for movies with sequels"
   ]
  },
  {
   "cell_type": "code",
   "id": "ba6e01bb1a95a81b",
   "metadata": {},
   "source": [
    "#calculate box office revenue per movie and fill NaN values with 0\n",
    "\n",
    "average_box_office = movie_df.dropna(subset = ['Movie box office revenue inflation adj']).groupby(\"release year\")[\"Movie box office revenue inflation adj\"].agg('mean')\n",
    "average_box_office = average_box_office.fillna(0)\n",
    "\n",
    "#calculate box office revenue per movie for movies with sequels and fill NaN values with 0\n",
    "\n",
    "average_box_office_sequel = movie_df_sequel_only.dropna(subset = ['Movie box office revenue inflation adj']).groupby(\"release year\")[\"Movie box office revenue inflation adj\"].agg('mean')\n",
    "average_box_office_sequel = average_box_office_sequel.fillna(0)\n",
    "\n",
    "# Plot figure 6: average box office revenue per year\n",
    "\n",
    "average_box_office_plot, ax = plt.subplots()\n",
    "ax.plot(average_box_office.index, average_box_office, label=\"Average box office revenue\")\n",
    "ax.plot(average_box_office_sequel.index, average_box_office_sequel, label=\"Average box office revenue sequel\")\n",
    "\n",
    "plt.draw()                                                  # Draw the plot to get the current y-axis offset\n",
    "y_axis_offset = ax.get_yaxis().get_offset_text().get_text() # get the scientific notation multiplier from the axis and use it in the label\n",
    "ax.set_ylabel(f\"Revenue [{y_axis_offset}$]\")\n",
    "ax.get_yaxis().get_offset_text().set_visible(False)         # remove the scientific notation from the axis to avoid duplication\n",
    "ax.legend()\n",
    "ax.set_title(\"Average Box Office Revenue per Year\")\n",
    "plt.show()"
   ],
   "outputs": [],
   "execution_count": null
  },
  {
   "cell_type": "markdown",
   "id": "54cf716b68e15bea",
   "metadata": {},
   "source": [
    "#### 3.2.2 Box office revenue for movies with sequel compared to the first movie of the collection"
   ]
  },
  {
   "cell_type": "code",
   "id": "a1780db8bee284be",
   "metadata": {},
   "source": [
    "#identify and calculate the box office revenue of the first movie in each collection\n",
    "\n",
    "box_office_first_movie = movie_df_sequel_original.sort_values(\"release_date\").groupby(\"collection\").first()[\"Movie box office revenue inflation adj\"]\n",
    "\n",
    "#calculate the remaining box office revenue for each collection\n",
    "\n",
    "box_office_remainder = movie_df_sequel_original.groupby(\"collection\")[\"Movie box office revenue inflation adj\"].agg('sum') - box_office_first_movie\n",
    "\n",
    "#calculate the remaining box office revenue for each collection (excluding the first movie)\n",
    "\n",
    "box_office_remainder_avg = box_office_remainder / (movie_df_sequel_original.groupby(\"collection\").count()[\"Movie name\"] - 1)"
   ],
   "outputs": [],
   "execution_count": null
  },
  {
   "cell_type": "markdown",
   "id": "f6231a02",
   "metadata": {},
   "source": [
    "Creation of new DataFrame in order to store first movie and remain movies box office value"
   ]
  },
  {
   "cell_type": "code",
   "id": "5a4504967f9b48cf",
   "metadata": {},
   "source": [
    "first_vs_rest = pd.DataFrame()\n",
    "first_vs_rest[\"first\"] = box_office_first_movie\n",
    "first_vs_rest[\"rest\"] = box_office_remainder\n",
    "first_vs_rest[\"rest_avg\"] = box_office_remainder_avg\n",
    "\n",
    "first_vs_rest = first_vs_rest[first_vs_rest[\"rest\"] > 0]                #remove collections with no revenue\n",
    "first_vs_rest = first_vs_rest.sort_values(\"first\", ascending=True)      #sort in ascending order for the first movie (lowest to the highest)"
   ],
   "outputs": [],
   "execution_count": null
  },
  {
   "cell_type": "code",
   "id": "f2d7235dd20372ac",
   "metadata": {},
   "source": [
    "first_vs_rest['index'] = range(0, len(first_vs_rest))"
   ],
   "outputs": [],
   "execution_count": null
  },
  {
   "cell_type": "markdown",
   "id": "2d50a57c",
   "metadata": {},
   "source": [
    "Plot the comparison between first and remaining movie of collections"
   ]
  },
  {
   "cell_type": "code",
   "id": "8ea1df41fe534bc3",
   "metadata": {},
   "source": [
    "fig = plt.figure(figsize=(12, 10))\n",
    "\n",
    "#calculate the average adjusted box office revenue for all movies\n",
    "\n",
    "average_movie_revenue = movie_df.dropna(subset = ['Movie box office revenue inflation adj'])[\"Movie box office revenue inflation adj\"].agg('mean')\n",
    "\n",
    "#Plot figure 7: first movie vs sequel movie box office revenue\n",
    "\n",
    "ax1 = fig.add_subplot(221)\n",
    "x = first_vs_rest[\"index\"]\n",
    "y1 = first_vs_rest[\"first\"]\n",
    "y2 = first_vs_rest[\"rest\"]\n",
    "ax1.plot(x, y1, 'ks', markersize = 4, label=\"First movie box office revenue\")\n",
    "ax1.plot(x, y2, 'bo', markersize = 4, label=\"Sequel movie box office revenue\")\n",
    "\n",
    "ax1.plot((x[y1>y2],x[y1>y2]),(y1[y1>y2], y2[y1 > y2]),c= \"red\", alpha=0.5)      #the first movie has a lower revenue than the sequel\n",
    "ax1.plot((x[y1<y2],x[y1<y2]),(y1[y1<y2], y2[y1 < y2]),c= \"green\", alpha=0.5)    #the first movie has a higher revenue than the sequel\n",
    "\n",
    "ax1.legend()\n",
    "ax1.title.set_text(\"First movie vs Sequel movie box office revenue\")\n",
    "ax1.set_xlabel(\"Collection\")\n",
    "ax1.set_ylabel(\"Box office revenue\")\n",
    "ax1.set_yscale(\"log\")\n",
    "\n",
    "#Plot figure 8: first movie vs average sequel movie box office revenue\n",
    "\n",
    "ax2 = fig.add_subplot(222)\n",
    "x = first_vs_rest[\"index\"]\n",
    "y1 = first_vs_rest[\"first\"]\n",
    "y2 = first_vs_rest[\"rest_avg\"]\n",
    "ax2.plot(x, y1, 'ks', markersize = 4, label=\"First movie box office revenue\")\n",
    "ax2.plot(x, y2, 'bo', markersize = 4, label=\"Sequel movie box office revenue average\")\n",
    "\n",
    "ax2.plot((x[y1>y2],x[y1>y2]),(y1[y1>y2], y2[y1 > y2]),c= \"red\", alpha=0.5)                                  #the first movie has a lower revenue than the average sequel\n",
    "ax2.plot((x[y1<y2],x[y1<y2]),(y1[y1<y2], y2[y1 < y2]),c= \"green\", alpha=0.5)                                #the first movie has a higher revenue than the average sequel\n",
    "ax2.axhline(y=average_movie_revenue, color='y', linestyle='-', label=\"Average movie box office revenue\")    #average revenue for all movies\n",
    "\n",
    "ax2.legend()\n",
    "ax2.title.set_text(\"First movie box vs average Sequel movie box office revenue\")\n",
    "ax2.set_xlabel(\"Collection\")\n",
    "ax2.set_ylabel(\"Box office revenue\")\n",
    "ax2.set_yscale(\"log\")\n",
    "\n",
    "plt.show()\n"
   ],
   "outputs": [],
   "execution_count": null
  },
  {
   "cell_type": "markdown",
   "id": "78d67dc0",
   "metadata": {},
   "source": [
    "These plots highlight where the first movie outperforms the sequel (red lines) and vice versa (green lines). The second plot also includes a yellow horizontal line showing the average box office revenue of all movies in the dataset.\n",
    "\n",
    "The log scale on the y-axis is used to better visualize large differences in revenue, especially when there are very high values."
   ]
  },
  {
   "cell_type": "markdown",
   "id": "50eafa110cdecfc5",
   "metadata": {},
   "source": [
    "## 4. Number of movies in a collection"
   ]
  },
  {
   "cell_type": "code",
   "id": "2de45ad1f2c750df",
   "metadata": {},
   "source": [
    "movie_df_sequel_original"
   ],
   "outputs": [],
   "execution_count": null
  },
  {
   "cell_type": "code",
   "id": "a9a257542d41551e",
   "metadata": {},
   "source": [
    "#total number of movies in each collection\n",
    "\n",
    "collection_size = movie_df_sequel_original.groupby(\"collection\").count()[\"Movie name\"]\n",
    "\n",
    "#total inflation adjusted box office revenue for each collection\n",
    "\n",
    "box_office_revenue = movie_df_sequel_original.groupby(\"collection\")[\"Movie box office revenue inflation adj\"].agg('sum')\n",
    "\n",
    "sequels_extended = pd.read_csv(\"data/sequels/sequels_extended_1880_2010.csv\") #dataframe with additional budget information\n",
    "#movie_df_sequel_original = pd.merge(movie_df_sequel_original, sequels_extended[[\"id\", \"budget\"]], on=\"id\", how=\"inner\") \n",
    "\n",
    "#total budget for each collection\n",
    "\n",
    "budget_df = movie_df_sequel_original.groupby(\"collection\")[\"budget\"].agg('sum')"
   ],
   "outputs": [],
   "execution_count": null
  },
  {
   "cell_type": "code",
   "id": "497f5e13574e298c",
   "metadata": {},
   "source": [
    "len(collection_size) #nb of unique collection with sequels"
   ],
   "outputs": [],
   "execution_count": null
  },
  {
   "cell_type": "markdown",
   "id": "1196cb93",
   "metadata": {},
   "source": [
    "Plot of the comparison between the Budget and the Box office revenue for collection"
   ]
  },
  {
   "cell_type": "code",
   "id": "6d8fd0a7ec6d91d8",
   "metadata": {},
   "source": [
    "import seaborn as sns\n",
    "\n",
    "fig = plt.figure(figsize=(12, 10))\n",
    "ax = fig.add_subplot(221)\n",
    "\n",
    "ax.scatter(budget_df, box_office_revenue, s = collection_size * 50, alpha=0.5, c = box_office_revenue, cmap=\"cool\")\n",
    "ax.set_xscale(\"log\")\n",
    "ax.set_yscale(\"log\")\n",
    "ax.set_xlabel(\"Budget\")\n",
    "ax.set_ylabel(\"Box office revenue\")\n",
    "\n",
    "ax.set_xlim(xmin = 1e5)\n",
    "ax.set_ylim(ymax = 5e11)\n",
    "\n",
    "ax.title.set_text(\"Budget vs Box office revenue\")\n",
    "plt.show()"
   ],
   "outputs": [],
   "execution_count": null
  },
  {
   "cell_type": "code",
   "id": "134614439dda65ea",
   "metadata": {},
   "source": [
    "#Plot figure 10: number of movies in a collection\n",
    "\n",
    "fig = plt.figure(figsize=(12, 10))\n",
    "\n",
    "ax1 = fig.add_subplot()\n",
    "ax1.bar(collection_size['Movie name'], collection_size[\"count\"], label=\"Number of movies in collection\")\n",
    "ax1.legend()\n",
    "ax1.title.set_text(\"Number of movies in a collection\")\n",
    "ax1.set_xlabel(\"Number of sequels\")\n",
    "ax1.set_ylabel(\"Number of movies\")\n",
    "\n",
    "plt.show()"
   ],
   "outputs": [],
   "execution_count": null
  },
  {
   "cell_type": "markdown",
   "id": "ee766fa7626d9204",
   "metadata": {},
   "source": [
    "## Other line of enquiry:\n",
    "\n",
    "- Highest grossing series\n",
    "- By genre\n",
    "- Find studios that do a lot of sequels\n",
    "- Is there a correlation between the box office revenue of the first movie and the sequels\n",
    "- Add more box office revenue data and get movie budget data\n",
    "- ..."
   ]
  },
  {
   "cell_type": "code",
   "id": "1ad4acbc05583727",
   "metadata": {},
   "source": [],
   "outputs": [],
   "execution_count": null
  }
 ],
 "metadata": {
  "kernelspec": {
   "display_name": "ada",
   "language": "python",
   "name": "python3"
  },
  "language_info": {
   "codemirror_mode": {
    "name": "ipython",
    "version": 3
   },
   "file_extension": ".py",
   "mimetype": "text/x-python",
   "name": "python",
   "nbconvert_exporter": "python",
   "pygments_lexer": "ipython3",
   "version": "3.9.18"
  }
 },
 "nbformat": 4,
 "nbformat_minor": 5
}
